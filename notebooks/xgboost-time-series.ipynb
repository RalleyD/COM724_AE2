{
 "cells": [
  {
   "cell_type": "code",
   "execution_count": 145,
   "id": "6804299f",
   "metadata": {},
   "outputs": [
    {
     "name": "stdout",
     "output_type": "stream",
     "text": [
      "| timestamp           | symbol   |    open |    high |   low |   close |   volume |\n",
      "|:--------------------|:---------|--------:|--------:|------:|--------:|---------:|\n",
      "| 2020-04-20 00:00:00 | BTCUSDT  | 7121.4  | 7220    |  6751 | 6826.83 |  90149.5 |\n",
      "| 2020-04-21 00:00:00 | BTCUSDT  | 6828.98 | 6940    |  6762 | 6841.37 |  60109.7 |\n",
      "| 2020-04-22 00:00:00 | BTCUSDT  | 6841.36 | 7156.38 |  6818 | 7125.14 |  61486.4 |\n",
      "| 2020-04-23 00:00:00 | BTCUSDT  | 7125.12 | 7738    |  7020 | 7482.39 | 102774   |\n",
      "| 2020-04-24 00:00:00 | BTCUSDT  | 7483.96 | 7615.96 |  7388 | 7505    |  60182.1 |\n"
     ]
    }
   ],
   "source": [
    "# load the BTC long term dataset\n",
    "import pandas as pd\n",
    "\n",
    "btc_5y_df = pd.read_csv('../backend/data/btcusdt_1d.csv', index_col=0, parse_dates=True)\n",
    "\n",
    "print(btc_5y_df.head().to_markdown())"
   ]
  },
  {
   "cell_type": "code",
   "execution_count": null,
   "id": "1c4a8ad7",
   "metadata": {},
   "outputs": [
    {
     "name": "stdout",
     "output_type": "stream",
     "text": [
      "\n",
      "--- Setting up Data Split ---\n"
     ]
    },
    {
     "data": {
      "text/html": [
       "<div>\n",
       "<style scoped>\n",
       "    .dataframe tbody tr th:only-of-type {\n",
       "        vertical-align: middle;\n",
       "    }\n",
       "\n",
       "    .dataframe tbody tr th {\n",
       "        vertical-align: top;\n",
       "    }\n",
       "\n",
       "    .dataframe thead th {\n",
       "        text-align: right;\n",
       "    }\n",
       "</style>\n",
       "<table border=\"1\" class=\"dataframe\">\n",
       "  <thead>\n",
       "    <tr style=\"text-align: right;\">\n",
       "      <th></th>\n",
       "      <th>close</th>\n",
       "      <th>lag_1</th>\n",
       "      <th>lag_2</th>\n",
       "    </tr>\n",
       "    <tr>\n",
       "      <th>timestamp</th>\n",
       "      <th></th>\n",
       "      <th></th>\n",
       "      <th></th>\n",
       "    </tr>\n",
       "  </thead>\n",
       "  <tbody>\n",
       "    <tr>\n",
       "      <th>2020-04-22</th>\n",
       "      <td>7125.14</td>\n",
       "      <td>6841.37</td>\n",
       "      <td>6826.83</td>\n",
       "    </tr>\n",
       "    <tr>\n",
       "      <th>2020-04-23</th>\n",
       "      <td>7482.39</td>\n",
       "      <td>7125.14</td>\n",
       "      <td>6841.37</td>\n",
       "    </tr>\n",
       "    <tr>\n",
       "      <th>2020-04-24</th>\n",
       "      <td>7505.00</td>\n",
       "      <td>7482.39</td>\n",
       "      <td>7125.14</td>\n",
       "    </tr>\n",
       "    <tr>\n",
       "      <th>2020-04-25</th>\n",
       "      <td>7538.67</td>\n",
       "      <td>7505.00</td>\n",
       "      <td>7482.39</td>\n",
       "    </tr>\n",
       "    <tr>\n",
       "      <th>2020-04-26</th>\n",
       "      <td>7693.10</td>\n",
       "      <td>7538.67</td>\n",
       "      <td>7505.00</td>\n",
       "    </tr>\n",
       "  </tbody>\n",
       "</table>\n",
       "</div>"
      ],
      "text/plain": [
       "              close    lag_1    lag_2\n",
       "timestamp                            \n",
       "2020-04-22  7125.14  6841.37  6826.83\n",
       "2020-04-23  7482.39  7125.14  6841.37\n",
       "2020-04-24  7505.00  7482.39  7125.14\n",
       "2020-04-25  7538.67  7505.00  7482.39\n",
       "2020-04-26  7693.10  7538.67  7505.00"
      ]
     },
     "execution_count": 146,
     "metadata": {},
     "output_type": "execute_result"
    }
   ],
   "source": [
    "# close prices\n",
    "btc_5y_close_df = btc_5y_df.loc[:, 'close']\n",
    "\n",
    "print(\"\\n--- Setting up Data Split ---\")\n",
    "\n",
    "# Ensure data is sorted by time\n",
    "btc_5y_close_df = btc_5y_close_df.sort_index()\n",
    "btc_5y_close_df = btc_5y_close_df.to_frame()\n",
    "\n",
    "# Create lag features\n",
    "for lag in range(1, 3):  # Lags from 1 to 2 days\n",
    "    btc_5y_close_df[f'lag_{lag}'] = btc_5y_close_df['close'].shift(lag)\n",
    "\n",
    "# Drop NaN values caused by lagging\n",
    "btc_5y_close_df = btc_5y_close_df.dropna()\n",
    "\n",
    "# Restore the 'close' column name\n",
    "# btc_5y_close_df = btc_5y_close_df.rename(columns={'close': 'close'})\n",
    "btc_5y_close_df.head()"
   ]
  },
  {
   "cell_type": "code",
   "execution_count": 147,
   "id": "ca89ba76",
   "metadata": {},
   "outputs": [
    {
     "data": {
      "text/html": [
       "<div>\n",
       "<style scoped>\n",
       "    .dataframe tbody tr th:only-of-type {\n",
       "        vertical-align: middle;\n",
       "    }\n",
       "\n",
       "    .dataframe tbody tr th {\n",
       "        vertical-align: top;\n",
       "    }\n",
       "\n",
       "    .dataframe thead th {\n",
       "        text-align: right;\n",
       "    }\n",
       "</style>\n",
       "<table border=\"1\" class=\"dataframe\">\n",
       "  <thead>\n",
       "    <tr style=\"text-align: right;\">\n",
       "      <th></th>\n",
       "      <th>close</th>\n",
       "      <th>lag_1</th>\n",
       "      <th>lag_2</th>\n",
       "    </tr>\n",
       "    <tr>\n",
       "      <th>timestamp</th>\n",
       "      <th></th>\n",
       "      <th></th>\n",
       "      <th></th>\n",
       "    </tr>\n",
       "  </thead>\n",
       "  <tbody>\n",
       "    <tr>\n",
       "      <th>2020-04-22</th>\n",
       "      <td>7125.14</td>\n",
       "      <td>6841.37</td>\n",
       "      <td>6826.83</td>\n",
       "    </tr>\n",
       "    <tr>\n",
       "      <th>2020-04-23</th>\n",
       "      <td>7482.39</td>\n",
       "      <td>7125.14</td>\n",
       "      <td>6841.37</td>\n",
       "    </tr>\n",
       "    <tr>\n",
       "      <th>2020-04-24</th>\n",
       "      <td>7505.00</td>\n",
       "      <td>7482.39</td>\n",
       "      <td>7125.14</td>\n",
       "    </tr>\n",
       "    <tr>\n",
       "      <th>2020-04-25</th>\n",
       "      <td>7538.67</td>\n",
       "      <td>7505.00</td>\n",
       "      <td>7482.39</td>\n",
       "    </tr>\n",
       "    <tr>\n",
       "      <th>2020-04-26</th>\n",
       "      <td>7693.10</td>\n",
       "      <td>7538.67</td>\n",
       "      <td>7505.00</td>\n",
       "    </tr>\n",
       "  </tbody>\n",
       "</table>\n",
       "</div>"
      ],
      "text/plain": [
       "              close    lag_1    lag_2\n",
       "timestamp                            \n",
       "2020-04-22  7125.14  6841.37  6826.83\n",
       "2020-04-23  7482.39  7125.14  6841.37\n",
       "2020-04-24  7505.00  7482.39  7125.14\n",
       "2020-04-25  7538.67  7505.00  7482.39\n",
       "2020-04-26  7693.10  7538.67  7505.00"
      ]
     },
     "execution_count": 147,
     "metadata": {},
     "output_type": "execute_result"
    }
   ],
   "source": [
    "# Train-Test Split (last 365 days as test set)\n",
    "split_date = btc_5y_close_df.index[-30]  \n",
    "btc_train = btc_5y_close_df.loc[btc_5y_close_df.index <= split_date].copy()\n",
    "btc_test = btc_5y_close_df.loc[btc_5y_close_df.index > split_date].copy()\n",
    "\n",
    "btc_train.head()\n"
   ]
  },
  {
   "cell_type": "code",
   "execution_count": null,
   "id": "07247d48",
   "metadata": {},
   "outputs": [
    {
     "data": {
      "text/html": [
       "<style type=\"text/css\">\n",
       "#T_be7b8_row8_col1 {\n",
       "  background-color: lightgreen;\n",
       "}\n",
       "</style>\n",
       "<table id=\"T_be7b8\">\n",
       "  <thead>\n",
       "    <tr>\n",
       "      <th class=\"blank level0\" >&nbsp;</th>\n",
       "      <th id=\"T_be7b8_level0_col0\" class=\"col_heading level0 col0\" >Description</th>\n",
       "      <th id=\"T_be7b8_level0_col1\" class=\"col_heading level0 col1\" >Value</th>\n",
       "    </tr>\n",
       "  </thead>\n",
       "  <tbody>\n",
       "    <tr>\n",
       "      <th id=\"T_be7b8_level0_row0\" class=\"row_heading level0 row0\" >0</th>\n",
       "      <td id=\"T_be7b8_row0_col0\" class=\"data row0 col0\" >Session id</td>\n",
       "      <td id=\"T_be7b8_row0_col1\" class=\"data row0 col1\" >123</td>\n",
       "    </tr>\n",
       "    <tr>\n",
       "      <th id=\"T_be7b8_level0_row1\" class=\"row_heading level0 row1\" >1</th>\n",
       "      <td id=\"T_be7b8_row1_col0\" class=\"data row1 col0\" >Target</td>\n",
       "      <td id=\"T_be7b8_row1_col1\" class=\"data row1 col1\" >close</td>\n",
       "    </tr>\n",
       "    <tr>\n",
       "      <th id=\"T_be7b8_level0_row2\" class=\"row_heading level0 row2\" >2</th>\n",
       "      <td id=\"T_be7b8_row2_col0\" class=\"data row2 col0\" >Target type</td>\n",
       "      <td id=\"T_be7b8_row2_col1\" class=\"data row2 col1\" >Regression</td>\n",
       "    </tr>\n",
       "    <tr>\n",
       "      <th id=\"T_be7b8_level0_row3\" class=\"row_heading level0 row3\" >3</th>\n",
       "      <td id=\"T_be7b8_row3_col0\" class=\"data row3 col0\" >Original data shape</td>\n",
       "      <td id=\"T_be7b8_row3_col1\" class=\"data row3 col1\" >(1794, 3)</td>\n",
       "    </tr>\n",
       "    <tr>\n",
       "      <th id=\"T_be7b8_level0_row4\" class=\"row_heading level0 row4\" >4</th>\n",
       "      <td id=\"T_be7b8_row4_col0\" class=\"data row4 col0\" >Transformed data shape</td>\n",
       "      <td id=\"T_be7b8_row4_col1\" class=\"data row4 col1\" >(1794, 3)</td>\n",
       "    </tr>\n",
       "    <tr>\n",
       "      <th id=\"T_be7b8_level0_row5\" class=\"row_heading level0 row5\" >5</th>\n",
       "      <td id=\"T_be7b8_row5_col0\" class=\"data row5 col0\" >Transformed train set shape</td>\n",
       "      <td id=\"T_be7b8_row5_col1\" class=\"data row5 col1\" >(1255, 3)</td>\n",
       "    </tr>\n",
       "    <tr>\n",
       "      <th id=\"T_be7b8_level0_row6\" class=\"row_heading level0 row6\" >6</th>\n",
       "      <td id=\"T_be7b8_row6_col0\" class=\"data row6 col0\" >Transformed test set shape</td>\n",
       "      <td id=\"T_be7b8_row6_col1\" class=\"data row6 col1\" >(539, 3)</td>\n",
       "    </tr>\n",
       "    <tr>\n",
       "      <th id=\"T_be7b8_level0_row7\" class=\"row_heading level0 row7\" >7</th>\n",
       "      <td id=\"T_be7b8_row7_col0\" class=\"data row7 col0\" >Numeric features</td>\n",
       "      <td id=\"T_be7b8_row7_col1\" class=\"data row7 col1\" >2</td>\n",
       "    </tr>\n",
       "    <tr>\n",
       "      <th id=\"T_be7b8_level0_row8\" class=\"row_heading level0 row8\" >8</th>\n",
       "      <td id=\"T_be7b8_row8_col0\" class=\"data row8 col0\" >Preprocess</td>\n",
       "      <td id=\"T_be7b8_row8_col1\" class=\"data row8 col1\" >True</td>\n",
       "    </tr>\n",
       "    <tr>\n",
       "      <th id=\"T_be7b8_level0_row9\" class=\"row_heading level0 row9\" >9</th>\n",
       "      <td id=\"T_be7b8_row9_col0\" class=\"data row9 col0\" >Imputation type</td>\n",
       "      <td id=\"T_be7b8_row9_col1\" class=\"data row9 col1\" >simple</td>\n",
       "    </tr>\n",
       "    <tr>\n",
       "      <th id=\"T_be7b8_level0_row10\" class=\"row_heading level0 row10\" >10</th>\n",
       "      <td id=\"T_be7b8_row10_col0\" class=\"data row10 col0\" >Numeric imputation</td>\n",
       "      <td id=\"T_be7b8_row10_col1\" class=\"data row10 col1\" >mean</td>\n",
       "    </tr>\n",
       "    <tr>\n",
       "      <th id=\"T_be7b8_level0_row11\" class=\"row_heading level0 row11\" >11</th>\n",
       "      <td id=\"T_be7b8_row11_col0\" class=\"data row11 col0\" >Categorical imputation</td>\n",
       "      <td id=\"T_be7b8_row11_col1\" class=\"data row11 col1\" >mode</td>\n",
       "    </tr>\n",
       "    <tr>\n",
       "      <th id=\"T_be7b8_level0_row12\" class=\"row_heading level0 row12\" >12</th>\n",
       "      <td id=\"T_be7b8_row12_col0\" class=\"data row12 col0\" >Fold Generator</td>\n",
       "      <td id=\"T_be7b8_row12_col1\" class=\"data row12 col1\" >TimeSeriesSplit</td>\n",
       "    </tr>\n",
       "    <tr>\n",
       "      <th id=\"T_be7b8_level0_row13\" class=\"row_heading level0 row13\" >13</th>\n",
       "      <td id=\"T_be7b8_row13_col0\" class=\"data row13 col0\" >Fold Number</td>\n",
       "      <td id=\"T_be7b8_row13_col1\" class=\"data row13 col1\" >3</td>\n",
       "    </tr>\n",
       "    <tr>\n",
       "      <th id=\"T_be7b8_level0_row14\" class=\"row_heading level0 row14\" >14</th>\n",
       "      <td id=\"T_be7b8_row14_col0\" class=\"data row14 col0\" >CPU Jobs</td>\n",
       "      <td id=\"T_be7b8_row14_col1\" class=\"data row14 col1\" >-1</td>\n",
       "    </tr>\n",
       "    <tr>\n",
       "      <th id=\"T_be7b8_level0_row15\" class=\"row_heading level0 row15\" >15</th>\n",
       "      <td id=\"T_be7b8_row15_col0\" class=\"data row15 col0\" >Use GPU</td>\n",
       "      <td id=\"T_be7b8_row15_col1\" class=\"data row15 col1\" >False</td>\n",
       "    </tr>\n",
       "    <tr>\n",
       "      <th id=\"T_be7b8_level0_row16\" class=\"row_heading level0 row16\" >16</th>\n",
       "      <td id=\"T_be7b8_row16_col0\" class=\"data row16 col0\" >Log Experiment</td>\n",
       "      <td id=\"T_be7b8_row16_col1\" class=\"data row16 col1\" >False</td>\n",
       "    </tr>\n",
       "    <tr>\n",
       "      <th id=\"T_be7b8_level0_row17\" class=\"row_heading level0 row17\" >17</th>\n",
       "      <td id=\"T_be7b8_row17_col0\" class=\"data row17 col0\" >Experiment Name</td>\n",
       "      <td id=\"T_be7b8_row17_col1\" class=\"data row17 col1\" >reg-default-name</td>\n",
       "    </tr>\n",
       "    <tr>\n",
       "      <th id=\"T_be7b8_level0_row18\" class=\"row_heading level0 row18\" >18</th>\n",
       "      <td id=\"T_be7b8_row18_col0\" class=\"data row18 col0\" >USI</td>\n",
       "      <td id=\"T_be7b8_row18_col1\" class=\"data row18 col1\" >caf9</td>\n",
       "    </tr>\n",
       "  </tbody>\n",
       "</table>\n"
      ],
      "text/plain": [
       "<pandas.io.formats.style.Styler at 0x320ce5f70>"
      ]
     },
     "metadata": {},
     "output_type": "display_data"
    },
    {
     "data": {
      "text/html": [],
      "text/plain": [
       "<IPython.core.display.HTML object>"
      ]
     },
     "metadata": {},
     "output_type": "display_data"
    },
    {
     "data": {
      "text/html": [
       "<style type=\"text/css\">\n",
       "#T_e7f60_row3_col0, #T_e7f60_row3_col1, #T_e7f60_row3_col2, #T_e7f60_row3_col3, #T_e7f60_row3_col4, #T_e7f60_row3_col5 {\n",
       "  background: yellow;\n",
       "}\n",
       "</style>\n",
       "<table id=\"T_e7f60\">\n",
       "  <thead>\n",
       "    <tr>\n",
       "      <th class=\"blank level0\" >&nbsp;</th>\n",
       "      <th id=\"T_e7f60_level0_col0\" class=\"col_heading level0 col0\" >MAE</th>\n",
       "      <th id=\"T_e7f60_level0_col1\" class=\"col_heading level0 col1\" >MSE</th>\n",
       "      <th id=\"T_e7f60_level0_col2\" class=\"col_heading level0 col2\" >RMSE</th>\n",
       "      <th id=\"T_e7f60_level0_col3\" class=\"col_heading level0 col3\" >R2</th>\n",
       "      <th id=\"T_e7f60_level0_col4\" class=\"col_heading level0 col4\" >RMSLE</th>\n",
       "      <th id=\"T_e7f60_level0_col5\" class=\"col_heading level0 col5\" >MAPE</th>\n",
       "    </tr>\n",
       "    <tr>\n",
       "      <th class=\"index_name level0\" >Fold</th>\n",
       "      <th class=\"blank col0\" >&nbsp;</th>\n",
       "      <th class=\"blank col1\" >&nbsp;</th>\n",
       "      <th class=\"blank col2\" >&nbsp;</th>\n",
       "      <th class=\"blank col3\" >&nbsp;</th>\n",
       "      <th class=\"blank col4\" >&nbsp;</th>\n",
       "      <th class=\"blank col5\" >&nbsp;</th>\n",
       "    </tr>\n",
       "  </thead>\n",
       "  <tbody>\n",
       "    <tr>\n",
       "      <th id=\"T_e7f60_level0_row0\" class=\"row_heading level0 row0\" >0</th>\n",
       "      <td id=\"T_e7f60_row0_col0\" class=\"data row0 col0\" >2938.3538</td>\n",
       "      <td id=\"T_e7f60_row0_col1\" class=\"data row0 col1\" >14330692.0000</td>\n",
       "      <td id=\"T_e7f60_row0_col2\" class=\"data row0 col2\" >3785.5901</td>\n",
       "      <td id=\"T_e7f60_row0_col3\" class=\"data row0 col3\" >0.8402</td>\n",
       "      <td id=\"T_e7f60_row0_col4\" class=\"data row0 col4\" >0.0746</td>\n",
       "      <td id=\"T_e7f60_row0_col5\" class=\"data row0 col5\" >0.0587</td>\n",
       "    </tr>\n",
       "    <tr>\n",
       "      <th id=\"T_e7f60_level0_row1\" class=\"row_heading level0 row1\" >1</th>\n",
       "      <td id=\"T_e7f60_row1_col0\" class=\"data row1 col0\" >1338.6779</td>\n",
       "      <td id=\"T_e7f60_row1_col1\" class=\"data row1 col1\" >2871917.7500</td>\n",
       "      <td id=\"T_e7f60_row1_col2\" class=\"data row1 col2\" >1694.6733</td>\n",
       "      <td id=\"T_e7f60_row1_col3\" class=\"data row1 col3\" >0.9695</td>\n",
       "      <td id=\"T_e7f60_row1_col4\" class=\"data row1 col4\" >0.0639</td>\n",
       "      <td id=\"T_e7f60_row1_col5\" class=\"data row1 col5\" >0.0507</td>\n",
       "    </tr>\n",
       "    <tr>\n",
       "      <th id=\"T_e7f60_level0_row2\" class=\"row_heading level0 row2\" >2</th>\n",
       "      <td id=\"T_e7f60_row2_col0\" class=\"data row2 col0\" >760.8511</td>\n",
       "      <td id=\"T_e7f60_row2_col1\" class=\"data row2 col1\" >1206861.2500</td>\n",
       "      <td id=\"T_e7f60_row2_col2\" class=\"data row2 col2\" >1098.5724</td>\n",
       "      <td id=\"T_e7f60_row2_col3\" class=\"data row2 col3\" >0.9399</td>\n",
       "      <td id=\"T_e7f60_row2_col4\" class=\"data row2 col4\" >0.0435</td>\n",
       "      <td id=\"T_e7f60_row2_col5\" class=\"data row2 col5\" >0.0298</td>\n",
       "    </tr>\n",
       "    <tr>\n",
       "      <th id=\"T_e7f60_level0_row3\" class=\"row_heading level0 row3\" >Mean</th>\n",
       "      <td id=\"T_e7f60_row3_col0\" class=\"data row3 col0\" >1679.2943</td>\n",
       "      <td id=\"T_e7f60_row3_col1\" class=\"data row3 col1\" >6136490.3333</td>\n",
       "      <td id=\"T_e7f60_row3_col2\" class=\"data row3 col2\" >2192.9453</td>\n",
       "      <td id=\"T_e7f60_row3_col3\" class=\"data row3 col3\" >0.9165</td>\n",
       "      <td id=\"T_e7f60_row3_col4\" class=\"data row3 col4\" >0.0607</td>\n",
       "      <td id=\"T_e7f60_row3_col5\" class=\"data row3 col5\" >0.0464</td>\n",
       "    </tr>\n",
       "    <tr>\n",
       "      <th id=\"T_e7f60_level0_row4\" class=\"row_heading level0 row4\" >Std</th>\n",
       "      <td id=\"T_e7f60_row4_col0\" class=\"data row4 col0\" >921.0118</td>\n",
       "      <td id=\"T_e7f60_row4_col1\" class=\"data row4 col1\" >5833912.8666</td>\n",
       "      <td id=\"T_e7f60_row4_col2\" class=\"data row4 col2\" >1152.1638</td>\n",
       "      <td id=\"T_e7f60_row4_col3\" class=\"data row4 col3\" >0.0553</td>\n",
       "      <td id=\"T_e7f60_row4_col4\" class=\"data row4 col4\" >0.0129</td>\n",
       "      <td id=\"T_e7f60_row4_col5\" class=\"data row4 col5\" >0.0122</td>\n",
       "    </tr>\n",
       "  </tbody>\n",
       "</table>\n"
      ],
      "text/plain": [
       "<pandas.io.formats.style.Styler at 0x320ce5f70>"
      ]
     },
     "metadata": {},
     "output_type": "display_data"
    },
    {
     "data": {
      "text/html": [],
      "text/plain": [
       "<IPython.core.display.HTML object>"
      ]
     },
     "metadata": {},
     "output_type": "display_data"
    }
   ],
   "source": [
    "import pandas as pd\n",
    "from pycaret.regression import *\n",
    "\n",
    "# PyCaret Regression Setup\n",
    "xgb_exp = RegressionExperiment().setup(\n",
    "    data=btc_train, \n",
    "    target=\"close\",\n",
    "    session_id=123, \n",
    "    fold=3,  # K-fold cross-validation\n",
    "    data_split_shuffle=False,  # **Important: Keeps time-series order**\n",
    "    fold_strategy=\"timeseries\",  # Ensures time-series split\n",
    ")\n",
    "\n",
    "# Train XGBoost Model\n",
    "xgb_model = xgb_exp.create_model('xgboost')\n",
    "\n"
   ]
  },
  {
   "cell_type": "code",
   "execution_count": 149,
   "id": "a9e494e4",
   "metadata": {},
   "outputs": [
    {
     "data": {
      "text/html": [
       "<style type=\"text/css\">\n",
       "</style>\n",
       "<table id=\"T_eebcb\">\n",
       "  <thead>\n",
       "    <tr>\n",
       "      <th class=\"blank level0\" >&nbsp;</th>\n",
       "      <th id=\"T_eebcb_level0_col0\" class=\"col_heading level0 col0\" >Model</th>\n",
       "      <th id=\"T_eebcb_level0_col1\" class=\"col_heading level0 col1\" >MAE</th>\n",
       "      <th id=\"T_eebcb_level0_col2\" class=\"col_heading level0 col2\" >MSE</th>\n",
       "      <th id=\"T_eebcb_level0_col3\" class=\"col_heading level0 col3\" >RMSE</th>\n",
       "      <th id=\"T_eebcb_level0_col4\" class=\"col_heading level0 col4\" >R2</th>\n",
       "      <th id=\"T_eebcb_level0_col5\" class=\"col_heading level0 col5\" >RMSLE</th>\n",
       "      <th id=\"T_eebcb_level0_col6\" class=\"col_heading level0 col6\" >MAPE</th>\n",
       "    </tr>\n",
       "  </thead>\n",
       "  <tbody>\n",
       "    <tr>\n",
       "      <th id=\"T_eebcb_level0_row0\" class=\"row_heading level0 row0\" >0</th>\n",
       "      <td id=\"T_eebcb_row0_col0\" class=\"data row0 col0\" >Extreme Gradient Boosting</td>\n",
       "      <td id=\"T_eebcb_row0_col1\" class=\"data row0 col1\" >9053.9287</td>\n",
       "      <td id=\"T_eebcb_row0_col2\" class=\"data row0 col2\" >243341152.0000</td>\n",
       "      <td id=\"T_eebcb_row0_col3\" class=\"data row0 col3\" >15599.3955</td>\n",
       "      <td id=\"T_eebcb_row0_col4\" class=\"data row0 col4\" >0.4389</td>\n",
       "      <td id=\"T_eebcb_row0_col5\" class=\"data row0 col5\" >0.1972</td>\n",
       "      <td id=\"T_eebcb_row0_col6\" class=\"data row0 col6\" >0.1044</td>\n",
       "    </tr>\n",
       "  </tbody>\n",
       "</table>\n"
      ],
      "text/plain": [
       "<pandas.io.formats.style.Styler at 0x3208a45e0>"
      ]
     },
     "metadata": {},
     "output_type": "display_data"
    }
   ],
   "source": [
    "# check the performance of the baseline model using the train set (not the validation data held off in the earlier step)\n",
    "\n",
    "y_predict = xgb_exp.predict_model(xgb_model)\n"
   ]
  },
  {
   "cell_type": "code",
   "execution_count": 204,
   "id": "d9374596",
   "metadata": {},
   "outputs": [
    {
     "data": {
      "application/vnd.plotly.v1+json": {
       "config": {
        "plotlyServerURL": "https://plot.ly"
       },
       "data": [
        {
         "hovertemplate": "variable=close<br>timestamp=%{x}<br>close price $=%{y}<extra></extra>",
         "legendgroup": "close",
         "line": {
          "color": "#636efa",
          "dash": "solid"
         },
         "marker": {
          "symbol": "circle"
         },
         "mode": "lines",
         "name": "close",
         "showlegend": true,
         "type": "scattergl",
         "x": [
          "2023-09-29T00:00:00",
          "2023-09-30T00:00:00",
          "2023-10-01T00:00:00",
          "2023-10-02T00:00:00",
          "2023-10-03T00:00:00",
          "2023-10-04T00:00:00",
          "2023-10-05T00:00:00",
          "2023-10-06T00:00:00",
          "2023-10-07T00:00:00",
          "2023-10-08T00:00:00",
          "2023-10-09T00:00:00",
          "2023-10-10T00:00:00",
          "2023-10-11T00:00:00",
          "2023-10-12T00:00:00",
          "2023-10-13T00:00:00",
          "2023-10-14T00:00:00",
          "2023-10-15T00:00:00",
          "2023-10-16T00:00:00",
          "2023-10-17T00:00:00",
          "2023-10-18T00:00:00",
          "2023-10-19T00:00:00",
          "2023-10-20T00:00:00",
          "2023-10-21T00:00:00",
          "2023-10-22T00:00:00",
          "2023-10-23T00:00:00",
          "2023-10-24T00:00:00",
          "2023-10-25T00:00:00",
          "2023-10-26T00:00:00",
          "2023-10-27T00:00:00",
          "2023-10-28T00:00:00",
          "2023-10-29T00:00:00",
          "2023-10-30T00:00:00",
          "2023-10-31T00:00:00",
          "2023-11-01T00:00:00",
          "2023-11-02T00:00:00",
          "2023-11-03T00:00:00",
          "2023-11-04T00:00:00",
          "2023-11-05T00:00:00",
          "2023-11-06T00:00:00",
          "2023-11-07T00:00:00",
          "2023-11-08T00:00:00",
          "2023-11-09T00:00:00",
          "2023-11-10T00:00:00",
          "2023-11-11T00:00:00",
          "2023-11-12T00:00:00",
          "2023-11-13T00:00:00",
          "2023-11-14T00:00:00",
          "2023-11-15T00:00:00",
          "2023-11-16T00:00:00",
          "2023-11-17T00:00:00",
          "2023-11-18T00:00:00",
          "2023-11-19T00:00:00",
          "2023-11-20T00:00:00",
          "2023-11-21T00:00:00",
          "2023-11-22T00:00:00",
          "2023-11-23T00:00:00",
          "2023-11-24T00:00:00",
          "2023-11-25T00:00:00",
          "2023-11-26T00:00:00",
          "2023-11-27T00:00:00",
          "2023-11-28T00:00:00",
          "2023-11-29T00:00:00",
          "2023-11-30T00:00:00",
          "2023-12-01T00:00:00",
          "2023-12-02T00:00:00",
          "2023-12-03T00:00:00",
          "2023-12-04T00:00:00",
          "2023-12-05T00:00:00",
          "2023-12-06T00:00:00",
          "2023-12-07T00:00:00",
          "2023-12-08T00:00:00",
          "2023-12-09T00:00:00",
          "2023-12-10T00:00:00",
          "2023-12-11T00:00:00",
          "2023-12-12T00:00:00",
          "2023-12-13T00:00:00",
          "2023-12-14T00:00:00",
          "2023-12-15T00:00:00",
          "2023-12-16T00:00:00",
          "2023-12-17T00:00:00",
          "2023-12-18T00:00:00",
          "2023-12-19T00:00:00",
          "2023-12-20T00:00:00",
          "2023-12-21T00:00:00",
          "2023-12-22T00:00:00",
          "2023-12-23T00:00:00",
          "2023-12-24T00:00:00",
          "2023-12-25T00:00:00",
          "2023-12-26T00:00:00",
          "2023-12-27T00:00:00",
          "2023-12-28T00:00:00",
          "2023-12-29T00:00:00",
          "2023-12-30T00:00:00",
          "2023-12-31T00:00:00",
          "2024-01-01T00:00:00",
          "2024-01-02T00:00:00",
          "2024-01-03T00:00:00",
          "2024-01-04T00:00:00",
          "2024-01-05T00:00:00",
          "2024-01-06T00:00:00",
          "2024-01-07T00:00:00",
          "2024-01-08T00:00:00",
          "2024-01-09T00:00:00",
          "2024-01-10T00:00:00",
          "2024-01-11T00:00:00",
          "2024-01-12T00:00:00",
          "2024-01-13T00:00:00",
          "2024-01-14T00:00:00",
          "2024-01-15T00:00:00",
          "2024-01-16T00:00:00",
          "2024-01-17T00:00:00",
          "2024-01-18T00:00:00",
          "2024-01-19T00:00:00",
          "2024-01-20T00:00:00",
          "2024-01-21T00:00:00",
          "2024-01-22T00:00:00",
          "2024-01-23T00:00:00",
          "2024-01-24T00:00:00",
          "2024-01-25T00:00:00",
          "2024-01-26T00:00:00",
          "2024-01-27T00:00:00",
          "2024-01-28T00:00:00",
          "2024-01-29T00:00:00",
          "2024-01-30T00:00:00",
          "2024-01-31T00:00:00",
          "2024-02-01T00:00:00",
          "2024-02-02T00:00:00",
          "2024-02-03T00:00:00",
          "2024-02-04T00:00:00",
          "2024-02-05T00:00:00",
          "2024-02-06T00:00:00",
          "2024-02-07T00:00:00",
          "2024-02-08T00:00:00",
          "2024-02-09T00:00:00",
          "2024-02-10T00:00:00",
          "2024-02-11T00:00:00",
          "2024-02-12T00:00:00",
          "2024-02-13T00:00:00",
          "2024-02-14T00:00:00",
          "2024-02-15T00:00:00",
          "2024-02-16T00:00:00",
          "2024-02-17T00:00:00",
          "2024-02-18T00:00:00",
          "2024-02-19T00:00:00",
          "2024-02-20T00:00:00",
          "2024-02-21T00:00:00",
          "2024-02-22T00:00:00",
          "2024-02-23T00:00:00",
          "2024-02-24T00:00:00",
          "2024-02-25T00:00:00",
          "2024-02-26T00:00:00",
          "2024-02-27T00:00:00",
          "2024-02-28T00:00:00",
          "2024-02-29T00:00:00",
          "2024-03-01T00:00:00",
          "2024-03-02T00:00:00",
          "2024-03-03T00:00:00",
          "2024-03-04T00:00:00",
          "2024-03-05T00:00:00",
          "2024-03-06T00:00:00",
          "2024-03-07T00:00:00",
          "2024-03-08T00:00:00",
          "2024-03-09T00:00:00",
          "2024-03-10T00:00:00",
          "2024-03-11T00:00:00",
          "2024-03-12T00:00:00",
          "2024-03-13T00:00:00",
          "2024-03-14T00:00:00",
          "2024-03-15T00:00:00",
          "2024-03-16T00:00:00",
          "2024-03-17T00:00:00",
          "2024-03-18T00:00:00",
          "2024-03-19T00:00:00",
          "2024-03-20T00:00:00",
          "2024-03-21T00:00:00",
          "2024-03-22T00:00:00",
          "2024-03-23T00:00:00",
          "2024-03-24T00:00:00",
          "2024-03-25T00:00:00",
          "2024-03-26T00:00:00",
          "2024-03-27T00:00:00",
          "2024-03-28T00:00:00",
          "2024-03-29T00:00:00",
          "2024-03-30T00:00:00",
          "2024-03-31T00:00:00",
          "2024-04-01T00:00:00",
          "2024-04-02T00:00:00",
          "2024-04-03T00:00:00",
          "2024-04-04T00:00:00",
          "2024-04-05T00:00:00",
          "2024-04-06T00:00:00",
          "2024-04-07T00:00:00",
          "2024-04-08T00:00:00",
          "2024-04-09T00:00:00",
          "2024-04-10T00:00:00",
          "2024-04-11T00:00:00",
          "2024-04-12T00:00:00",
          "2024-04-13T00:00:00",
          "2024-04-14T00:00:00",
          "2024-04-15T00:00:00",
          "2024-04-16T00:00:00",
          "2024-04-17T00:00:00",
          "2024-04-18T00:00:00",
          "2024-04-19T00:00:00",
          "2024-04-20T00:00:00",
          "2024-04-21T00:00:00",
          "2024-04-22T00:00:00",
          "2024-04-23T00:00:00",
          "2024-04-24T00:00:00",
          "2024-04-25T00:00:00",
          "2024-04-26T00:00:00",
          "2024-04-27T00:00:00",
          "2024-04-28T00:00:00",
          "2024-04-29T00:00:00",
          "2024-04-30T00:00:00",
          "2024-05-01T00:00:00",
          "2024-05-02T00:00:00",
          "2024-05-03T00:00:00",
          "2024-05-04T00:00:00",
          "2024-05-05T00:00:00",
          "2024-05-06T00:00:00",
          "2024-05-07T00:00:00",
          "2024-05-08T00:00:00",
          "2024-05-09T00:00:00",
          "2024-05-10T00:00:00",
          "2024-05-11T00:00:00",
          "2024-05-12T00:00:00",
          "2024-05-13T00:00:00",
          "2024-05-14T00:00:00",
          "2024-05-15T00:00:00",
          "2024-05-16T00:00:00",
          "2024-05-17T00:00:00",
          "2024-05-18T00:00:00",
          "2024-05-19T00:00:00",
          "2024-05-20T00:00:00",
          "2024-05-21T00:00:00",
          "2024-05-22T00:00:00",
          "2024-05-23T00:00:00",
          "2024-05-24T00:00:00",
          "2024-05-25T00:00:00",
          "2024-05-26T00:00:00",
          "2024-05-27T00:00:00",
          "2024-05-28T00:00:00",
          "2024-05-29T00:00:00",
          "2024-05-30T00:00:00",
          "2024-05-31T00:00:00",
          "2024-06-01T00:00:00",
          "2024-06-02T00:00:00",
          "2024-06-03T00:00:00",
          "2024-06-04T00:00:00",
          "2024-06-05T00:00:00",
          "2024-06-06T00:00:00",
          "2024-06-07T00:00:00",
          "2024-06-08T00:00:00",
          "2024-06-09T00:00:00",
          "2024-06-10T00:00:00",
          "2024-06-11T00:00:00",
          "2024-06-12T00:00:00",
          "2024-06-13T00:00:00",
          "2024-06-14T00:00:00",
          "2024-06-15T00:00:00",
          "2024-06-16T00:00:00",
          "2024-06-17T00:00:00",
          "2024-06-18T00:00:00",
          "2024-06-19T00:00:00",
          "2024-06-20T00:00:00",
          "2024-06-21T00:00:00",
          "2024-06-22T00:00:00",
          "2024-06-23T00:00:00",
          "2024-06-24T00:00:00",
          "2024-06-25T00:00:00",
          "2024-06-26T00:00:00",
          "2024-06-27T00:00:00",
          "2024-06-28T00:00:00",
          "2024-06-29T00:00:00",
          "2024-06-30T00:00:00",
          "2024-07-01T00:00:00",
          "2024-07-02T00:00:00",
          "2024-07-03T00:00:00",
          "2024-07-04T00:00:00",
          "2024-07-05T00:00:00",
          "2024-07-06T00:00:00",
          "2024-07-07T00:00:00",
          "2024-07-08T00:00:00",
          "2024-07-09T00:00:00",
          "2024-07-10T00:00:00",
          "2024-07-11T00:00:00",
          "2024-07-12T00:00:00",
          "2024-07-13T00:00:00",
          "2024-07-14T00:00:00",
          "2024-07-15T00:00:00",
          "2024-07-16T00:00:00",
          "2024-07-17T00:00:00",
          "2024-07-18T00:00:00",
          "2024-07-19T00:00:00",
          "2024-07-20T00:00:00",
          "2024-07-21T00:00:00",
          "2024-07-22T00:00:00",
          "2024-07-23T00:00:00",
          "2024-07-24T00:00:00",
          "2024-07-25T00:00:00",
          "2024-07-26T00:00:00",
          "2024-07-27T00:00:00",
          "2024-07-28T00:00:00",
          "2024-07-29T00:00:00",
          "2024-07-30T00:00:00",
          "2024-07-31T00:00:00",
          "2024-08-01T00:00:00",
          "2024-08-02T00:00:00",
          "2024-08-03T00:00:00",
          "2024-08-04T00:00:00",
          "2024-08-05T00:00:00",
          "2024-08-06T00:00:00",
          "2024-08-07T00:00:00",
          "2024-08-08T00:00:00",
          "2024-08-09T00:00:00",
          "2024-08-10T00:00:00",
          "2024-08-11T00:00:00",
          "2024-08-12T00:00:00",
          "2024-08-13T00:00:00",
          "2024-08-14T00:00:00",
          "2024-08-15T00:00:00",
          "2024-08-16T00:00:00",
          "2024-08-17T00:00:00",
          "2024-08-18T00:00:00",
          "2024-08-19T00:00:00",
          "2024-08-20T00:00:00",
          "2024-08-21T00:00:00",
          "2024-08-22T00:00:00",
          "2024-08-23T00:00:00",
          "2024-08-24T00:00:00",
          "2024-08-25T00:00:00",
          "2024-08-26T00:00:00",
          "2024-08-27T00:00:00",
          "2024-08-28T00:00:00",
          "2024-08-29T00:00:00",
          "2024-08-30T00:00:00",
          "2024-08-31T00:00:00",
          "2024-09-01T00:00:00",
          "2024-09-02T00:00:00",
          "2024-09-03T00:00:00",
          "2024-09-04T00:00:00",
          "2024-09-05T00:00:00",
          "2024-09-06T00:00:00",
          "2024-09-07T00:00:00",
          "2024-09-08T00:00:00",
          "2024-09-09T00:00:00",
          "2024-09-10T00:00:00",
          "2024-09-11T00:00:00",
          "2024-09-12T00:00:00",
          "2024-09-13T00:00:00",
          "2024-09-14T00:00:00",
          "2024-09-15T00:00:00",
          "2024-09-16T00:00:00",
          "2024-09-17T00:00:00",
          "2024-09-18T00:00:00",
          "2024-09-19T00:00:00",
          "2024-09-20T00:00:00",
          "2024-09-21T00:00:00",
          "2024-09-22T00:00:00",
          "2024-09-23T00:00:00",
          "2024-09-24T00:00:00",
          "2024-09-25T00:00:00",
          "2024-09-26T00:00:00",
          "2024-09-27T00:00:00",
          "2024-09-28T00:00:00",
          "2024-09-29T00:00:00",
          "2024-09-30T00:00:00",
          "2024-10-01T00:00:00",
          "2024-10-02T00:00:00",
          "2024-10-03T00:00:00",
          "2024-10-04T00:00:00",
          "2024-10-05T00:00:00",
          "2024-10-06T00:00:00",
          "2024-10-07T00:00:00",
          "2024-10-08T00:00:00",
          "2024-10-09T00:00:00",
          "2024-10-10T00:00:00",
          "2024-10-11T00:00:00",
          "2024-10-12T00:00:00",
          "2024-10-13T00:00:00",
          "2024-10-14T00:00:00",
          "2024-10-15T00:00:00",
          "2024-10-16T00:00:00",
          "2024-10-17T00:00:00",
          "2024-10-18T00:00:00",
          "2024-10-19T00:00:00",
          "2024-10-20T00:00:00",
          "2024-10-21T00:00:00",
          "2024-10-22T00:00:00",
          "2024-10-23T00:00:00",
          "2024-10-24T00:00:00",
          "2024-10-25T00:00:00",
          "2024-10-26T00:00:00",
          "2024-10-27T00:00:00",
          "2024-10-28T00:00:00",
          "2024-10-29T00:00:00",
          "2024-10-30T00:00:00",
          "2024-10-31T00:00:00",
          "2024-11-01T00:00:00",
          "2024-11-02T00:00:00",
          "2024-11-03T00:00:00",
          "2024-11-04T00:00:00",
          "2024-11-05T00:00:00",
          "2024-11-06T00:00:00",
          "2024-11-07T00:00:00",
          "2024-11-08T00:00:00",
          "2024-11-09T00:00:00",
          "2024-11-10T00:00:00",
          "2024-11-11T00:00:00",
          "2024-11-12T00:00:00",
          "2024-11-13T00:00:00",
          "2024-11-14T00:00:00",
          "2024-11-15T00:00:00",
          "2024-11-16T00:00:00",
          "2024-11-17T00:00:00",
          "2024-11-18T00:00:00",
          "2024-11-19T00:00:00",
          "2024-11-20T00:00:00",
          "2024-11-21T00:00:00",
          "2024-11-22T00:00:00",
          "2024-11-23T00:00:00",
          "2024-11-24T00:00:00",
          "2024-11-25T00:00:00",
          "2024-11-26T00:00:00",
          "2024-11-27T00:00:00",
          "2024-11-28T00:00:00",
          "2024-11-29T00:00:00",
          "2024-11-30T00:00:00",
          "2024-12-01T00:00:00",
          "2024-12-02T00:00:00",
          "2024-12-03T00:00:00",
          "2024-12-04T00:00:00",
          "2024-12-05T00:00:00",
          "2024-12-06T00:00:00",
          "2024-12-07T00:00:00",
          "2024-12-08T00:00:00",
          "2024-12-09T00:00:00",
          "2024-12-10T00:00:00",
          "2024-12-11T00:00:00",
          "2024-12-12T00:00:00",
          "2024-12-13T00:00:00",
          "2024-12-14T00:00:00",
          "2024-12-15T00:00:00",
          "2024-12-16T00:00:00",
          "2024-12-17T00:00:00",
          "2024-12-18T00:00:00",
          "2024-12-19T00:00:00",
          "2024-12-20T00:00:00",
          "2024-12-21T00:00:00",
          "2024-12-22T00:00:00",
          "2024-12-23T00:00:00",
          "2024-12-24T00:00:00",
          "2024-12-25T00:00:00",
          "2024-12-26T00:00:00",
          "2024-12-27T00:00:00",
          "2024-12-28T00:00:00",
          "2024-12-29T00:00:00",
          "2024-12-30T00:00:00",
          "2024-12-31T00:00:00",
          "2025-01-01T00:00:00",
          "2025-01-02T00:00:00",
          "2025-01-03T00:00:00",
          "2025-01-04T00:00:00",
          "2025-01-05T00:00:00",
          "2025-01-06T00:00:00",
          "2025-01-07T00:00:00",
          "2025-01-08T00:00:00",
          "2025-01-09T00:00:00",
          "2025-01-10T00:00:00",
          "2025-01-11T00:00:00",
          "2025-01-12T00:00:00",
          "2025-01-13T00:00:00",
          "2025-01-14T00:00:00",
          "2025-01-15T00:00:00",
          "2025-01-16T00:00:00",
          "2025-01-17T00:00:00",
          "2025-01-18T00:00:00",
          "2025-01-19T00:00:00",
          "2025-01-20T00:00:00",
          "2025-01-21T00:00:00",
          "2025-01-22T00:00:00",
          "2025-01-23T00:00:00",
          "2025-01-24T00:00:00",
          "2025-01-25T00:00:00",
          "2025-01-26T00:00:00",
          "2025-01-27T00:00:00",
          "2025-01-28T00:00:00",
          "2025-01-29T00:00:00",
          "2025-01-30T00:00:00",
          "2025-01-31T00:00:00",
          "2025-02-01T00:00:00",
          "2025-02-02T00:00:00",
          "2025-02-03T00:00:00",
          "2025-02-04T00:00:00",
          "2025-02-05T00:00:00",
          "2025-02-06T00:00:00",
          "2025-02-07T00:00:00",
          "2025-02-08T00:00:00",
          "2025-02-09T00:00:00",
          "2025-02-10T00:00:00",
          "2025-02-11T00:00:00",
          "2025-02-12T00:00:00",
          "2025-02-13T00:00:00",
          "2025-02-14T00:00:00",
          "2025-02-15T00:00:00",
          "2025-02-16T00:00:00",
          "2025-02-17T00:00:00",
          "2025-02-18T00:00:00",
          "2025-02-19T00:00:00",
          "2025-02-20T00:00:00",
          "2025-02-21T00:00:00",
          "2025-02-22T00:00:00",
          "2025-02-23T00:00:00",
          "2025-02-24T00:00:00",
          "2025-02-25T00:00:00",
          "2025-02-26T00:00:00",
          "2025-02-27T00:00:00",
          "2025-02-28T00:00:00",
          "2025-03-01T00:00:00",
          "2025-03-02T00:00:00",
          "2025-03-03T00:00:00",
          "2025-03-04T00:00:00",
          "2025-03-05T00:00:00",
          "2025-03-06T00:00:00",
          "2025-03-07T00:00:00",
          "2025-03-08T00:00:00",
          "2025-03-09T00:00:00",
          "2025-03-10T00:00:00",
          "2025-03-11T00:00:00",
          "2025-03-12T00:00:00",
          "2025-03-13T00:00:00",
          "2025-03-14T00:00:00",
          "2025-03-15T00:00:00",
          "2025-03-16T00:00:00",
          "2025-03-17T00:00:00",
          "2025-03-18T00:00:00",
          "2025-03-19T00:00:00",
          "2025-03-20T00:00:00"
         ],
         "xaxis": "x",
         "y": [
          26906.96,
          26962.56,
          27992.57,
          27494.51,
          27426.46,
          27778.57,
          27410.39,
          27931.09,
          27956.67,
          27917.05,
          27590.12,
          27390.12,
          26875.52,
          26759.63,
          26862,
          26852.48,
          27154.15,
          28500.78,
          28395.91,
          28320,
          28713.71,
          29669.04,
          29909.8,
          29992.46,
          33069.99,
          33922.73,
          34496.05,
          34151.66,
          33892.02,
          34081,
          34525.89,
          34474.73,
          34639.77,
          35421.43,
          34941.59,
          34716.78,
          35062.07,
          35011.88,
          35046.09,
          35399.12,
          35624.72,
          36701.09,
          37301.63,
          37130,
          37064.13,
          36462.93,
          35551.19,
          37858.2,
          36163.51,
          36613.92,
          36568.1,
          37359.86,
          37448.78,
          35741.65,
          37408.34,
          37294.28,
          37713.57,
          37780.67,
          37447.43,
          37242.7,
          37818.87,
          37854.64,
          37723.96,
          38682.52,
          39450.35,
          39972.26,
          41991.1,
          44073.32,
          43762.69,
          43273.14,
          44170.99,
          43713.6,
          43789.51,
          41253.4,
          41492.39,
          42869.03,
          43022.26,
          41940.3,
          42278.03,
          41374.65,
          42657.8,
          42275.99,
          43668.93,
          43861.8,
          43969.04,
          43702.16,
          42991.5,
          43576.13,
          42508.93,
          43428.85,
          42563.76,
          42066.95,
          42140.28,
          42283.58,
          44179.55,
          44946.91,
          42845.23,
          44151.1,
          44145.11,
          43968.32,
          43929.02,
          46951.04,
          46110,
          46653.99,
          46339.16,
          42782.73,
          42847.99,
          41732.35,
          42511.1,
          43137.95,
          42776.1,
          41327.5,
          41659.03,
          41696.04,
          41580.33,
          39568.02,
          39897.6,
          40084.88,
          39961.09,
          41823.51,
          42120.63,
          42031.06,
          43302.7,
          42941.1,
          42580,
          43082.94,
          43200,
          43011.09,
          42582.88,
          42708.7,
          43098.95,
          44349.6,
          45288.65,
          47132.77,
          47751.09,
          48299.99,
          49917.27,
          49699.59,
          51795.17,
          51880,
          52124.11,
          51642.64,
          52137.67,
          51774.73,
          52258.82,
          51849.39,
          51288.42,
          50744.15,
          51568.22,
          51728.85,
          54476.47,
          57037.34,
          62432.1,
          61130.98,
          62387.9,
          61987.28,
          63113.97,
          68245.71,
          63724.01,
          66074.04,
          66823.17,
          68124.19,
          68313.27,
          68955.88,
          72078.1,
          71452.01,
          73072.41,
          71388.94,
          69499.85,
          65300.63,
          68393.48,
          67609.99,
          61937.4,
          67840.51,
          65501.27,
          63796.64,
          63990.01,
          67209.99,
          69880.01,
          69988,
          69469.99,
          70780.6,
          69850.54,
          69582.18,
          71280.01,
          69649.8,
          65463.99,
          65963.28,
          68487.79,
          67820.62,
          68896,
          69360.39,
          71620,
          69146,
          70631.08,
          70006.23,
          67116.52,
          63924.51,
          65661.84,
          63419.99,
          63793.39,
          61277.37,
          63470.08,
          63818.01,
          64940.59,
          64941.15,
          66819.32,
          66414,
          64289.59,
          64498.34,
          63770.01,
          63461.98,
          63118.62,
          63866,
          60672,
          58364.97,
          59060.61,
          62882.01,
          63892.04,
          64012,
          63165.19,
          62312.08,
          61193.03,
          63074.01,
          60799.99,
          60825.99,
          61483.99,
          62940.08,
          61577.49,
          66206.5,
          65235.21,
          67024,
          66915.2,
          66274.01,
          71446.62,
          70148.34,
          69166.62,
          67969.65,
          68549.99,
          69290.57,
          68507.67,
          69436.43,
          68398.39,
          67652.42,
          68352.17,
          67540.01,
          67766.85,
          67765.63,
          68809.9,
          70537.84,
          71108,
          70799.06,
          69355.6,
          69310.46,
          69648.14,
          69540,
          67314.24,
          68263.99,
          66773.01,
          66043.99,
          66228.25,
          66676.87,
          66504.33,
          65175.32,
          64974.37,
          64869.99,
          64143.56,
          64262.01,
          63210.01,
          60293.3,
          61806.01,
          60864.99,
          61706.47,
          60427.84,
          60986.68,
          62772.01,
          62899.99,
          62135.47,
          60208.58,
          57050.01,
          56628.79,
          58230.13,
          55857.81,
          56714.62,
          58050,
          57725.85,
          57339.89,
          57889.1,
          59204.02,
          60797.91,
          64724.14,
          65043.99,
          64087.99,
          63987.92,
          66660,
          67139.96,
          68165.34,
          67532.01,
          65936.01,
          65376,
          65799.95,
          67907.99,
          67896.5,
          68249.88,
          66784.69,
          66188,
          64628,
          65354.02,
          61498.33,
          60697.99,
          58161,
          54018.81,
          56022.01,
          55134.16,
          61685.99,
          60837.99,
          60923.51,
          58712.59,
          59346.64,
          60587.15,
          58683.39,
          57541.06,
          58874.6,
          59491.99,
          58427.35,
          59438.5,
          59013.8,
          61156.03,
          60375.84,
          64037.24,
          64157.01,
          64220,
          62834,
          59415,
          59034.9,
          59359.01,
          59123.99,
          58973.99,
          57301.86,
          59132.13,
          57487.73,
          57970.9,
          56180,
          53962.97,
          54160.86,
          54869.95,
          57042,
          57635.99,
          57338,
          58132.32,
          60498,
          59993.03,
          59132,
          58213.99,
          60313.99,
          61759.99,
          62947.99,
          63201.05,
          63348.96,
          63578.76,
          63339.99,
          64262.7,
          63152.01,
          65173.99,
          65769.95,
          65858,
          65602.01,
          63327.59,
          60805.78,
          60649.28,
          60752.71,
          62086,
          62058,
          62819.91,
          62224,
          62160.49,
          60636.02,
          60326.39,
          62540,
          63206.22,
          62870.02,
          66083.99,
          67074.14,
          67620.01,
          67421.78,
          68428,
          68378,
          69031.99,
          67377.5,
          67426,
          66668.65,
          68198.28,
          66698.33,
          67092.76,
          68021.7,
          69962.21,
          72736.42,
          72344.74,
          70292.01,
          69496.01,
          69374.74,
          68775.99,
          67850.01,
          69372.01,
          75571.99,
          75857.89,
          76509.78,
          76677.46,
          80370.01,
          88647.99,
          87952.01,
          90375.2,
          87325.59,
          91032.07,
          90586.92,
          89855.99,
          90464.08,
          92310.79,
          94286.56,
          98317.12,
          98892,
          97672.4,
          97900.04,
          93010.01,
          91965.16,
          95863.11,
          95643.98,
          97460,
          96407.99,
          97185.18,
          95840.62,
          95849.69,
          98587.32,
          96945.63,
          99740.84,
          99831.99,
          101109.59,
          97276.47,
          96593,
          101125,
          100004.29,
          101424.25,
          101420,
          104463.99,
          106058.66,
          106133.74,
          100204.01,
          97461.86,
          97805.44,
          97291.99,
          95186.27,
          94881.47,
          98663.58,
          99429.6,
          95791.6,
          94299.03,
          95300,
          93738.2,
          92792.05,
          93576,
          94591.79,
          96984.79,
          98174.18,
          98220.5,
          98363.61,
          102235.6,
          96954.61,
          95060.61,
          92552.49,
          94726.11,
          94599.99,
          94545.06,
          94536.1,
          96560.86,
          100497.35,
          99987.3,
          104077.48,
          104556.23,
          101331.57,
          102260.01,
          106143.82,
          103706.66,
          103910.34,
          104870.5,
          104746.85,
          102620,
          102082.83,
          101335.52,
          103733.24,
          104722.94,
          102429.56,
          100635.65,
          97700.59,
          101328.52,
          97763.13,
          96612.43,
          96554.35,
          96506.8,
          96444.74,
          96462.75,
          97430.82,
          95778.2,
          97869.99,
          96608.14,
          97500.48,
          97569.66,
          96118.12,
          95780,
          95671.74,
          96644.37,
          98305,
          96181.98,
          96551.01,
          96258,
          91552.88,
          88680.4,
          84250.09,
          84708.58,
          84349.94,
          86064.53,
          94270,
          86220.61,
          87281.98,
          90606.01,
          89931.89,
          86801.75,
          86222.45,
          80734.37,
          78595.86,
          82932.99,
          83680.12,
          81115.78,
          83983.2,
          84338.44,
          82574.53,
          84010.03,
          82715.03,
          86845.94,
          84223.39
         ],
         "yaxis": "y"
        },
        {
         "hovertemplate": "variable=prediction_label<br>timestamp=%{x}<br>close price $=%{y}<extra></extra>",
         "legendgroup": "prediction_label",
         "line": {
          "color": "#EF553B",
          "dash": "solid"
         },
         "marker": {
          "symbol": "circle"
         },
         "mode": "lines",
         "name": "prediction_label",
         "showlegend": true,
         "type": "scattergl",
         "x": [
          "2023-09-29T00:00:00",
          "2023-09-30T00:00:00",
          "2023-10-01T00:00:00",
          "2023-10-02T00:00:00",
          "2023-10-03T00:00:00",
          "2023-10-04T00:00:00",
          "2023-10-05T00:00:00",
          "2023-10-06T00:00:00",
          "2023-10-07T00:00:00",
          "2023-10-08T00:00:00",
          "2023-10-09T00:00:00",
          "2023-10-10T00:00:00",
          "2023-10-11T00:00:00",
          "2023-10-12T00:00:00",
          "2023-10-13T00:00:00",
          "2023-10-14T00:00:00",
          "2023-10-15T00:00:00",
          "2023-10-16T00:00:00",
          "2023-10-17T00:00:00",
          "2023-10-18T00:00:00",
          "2023-10-19T00:00:00",
          "2023-10-20T00:00:00",
          "2023-10-21T00:00:00",
          "2023-10-22T00:00:00",
          "2023-10-23T00:00:00",
          "2023-10-24T00:00:00",
          "2023-10-25T00:00:00",
          "2023-10-26T00:00:00",
          "2023-10-27T00:00:00",
          "2023-10-28T00:00:00",
          "2023-10-29T00:00:00",
          "2023-10-30T00:00:00",
          "2023-10-31T00:00:00",
          "2023-11-01T00:00:00",
          "2023-11-02T00:00:00",
          "2023-11-03T00:00:00",
          "2023-11-04T00:00:00",
          "2023-11-05T00:00:00",
          "2023-11-06T00:00:00",
          "2023-11-07T00:00:00",
          "2023-11-08T00:00:00",
          "2023-11-09T00:00:00",
          "2023-11-10T00:00:00",
          "2023-11-11T00:00:00",
          "2023-11-12T00:00:00",
          "2023-11-13T00:00:00",
          "2023-11-14T00:00:00",
          "2023-11-15T00:00:00",
          "2023-11-16T00:00:00",
          "2023-11-17T00:00:00",
          "2023-11-18T00:00:00",
          "2023-11-19T00:00:00",
          "2023-11-20T00:00:00",
          "2023-11-21T00:00:00",
          "2023-11-22T00:00:00",
          "2023-11-23T00:00:00",
          "2023-11-24T00:00:00",
          "2023-11-25T00:00:00",
          "2023-11-26T00:00:00",
          "2023-11-27T00:00:00",
          "2023-11-28T00:00:00",
          "2023-11-29T00:00:00",
          "2023-11-30T00:00:00",
          "2023-12-01T00:00:00",
          "2023-12-02T00:00:00",
          "2023-12-03T00:00:00",
          "2023-12-04T00:00:00",
          "2023-12-05T00:00:00",
          "2023-12-06T00:00:00",
          "2023-12-07T00:00:00",
          "2023-12-08T00:00:00",
          "2023-12-09T00:00:00",
          "2023-12-10T00:00:00",
          "2023-12-11T00:00:00",
          "2023-12-12T00:00:00",
          "2023-12-13T00:00:00",
          "2023-12-14T00:00:00",
          "2023-12-15T00:00:00",
          "2023-12-16T00:00:00",
          "2023-12-17T00:00:00",
          "2023-12-18T00:00:00",
          "2023-12-19T00:00:00",
          "2023-12-20T00:00:00",
          "2023-12-21T00:00:00",
          "2023-12-22T00:00:00",
          "2023-12-23T00:00:00",
          "2023-12-24T00:00:00",
          "2023-12-25T00:00:00",
          "2023-12-26T00:00:00",
          "2023-12-27T00:00:00",
          "2023-12-28T00:00:00",
          "2023-12-29T00:00:00",
          "2023-12-30T00:00:00",
          "2023-12-31T00:00:00",
          "2024-01-01T00:00:00",
          "2024-01-02T00:00:00",
          "2024-01-03T00:00:00",
          "2024-01-04T00:00:00",
          "2024-01-05T00:00:00",
          "2024-01-06T00:00:00",
          "2024-01-07T00:00:00",
          "2024-01-08T00:00:00",
          "2024-01-09T00:00:00",
          "2024-01-10T00:00:00",
          "2024-01-11T00:00:00",
          "2024-01-12T00:00:00",
          "2024-01-13T00:00:00",
          "2024-01-14T00:00:00",
          "2024-01-15T00:00:00",
          "2024-01-16T00:00:00",
          "2024-01-17T00:00:00",
          "2024-01-18T00:00:00",
          "2024-01-19T00:00:00",
          "2024-01-20T00:00:00",
          "2024-01-21T00:00:00",
          "2024-01-22T00:00:00",
          "2024-01-23T00:00:00",
          "2024-01-24T00:00:00",
          "2024-01-25T00:00:00",
          "2024-01-26T00:00:00",
          "2024-01-27T00:00:00",
          "2024-01-28T00:00:00",
          "2024-01-29T00:00:00",
          "2024-01-30T00:00:00",
          "2024-01-31T00:00:00",
          "2024-02-01T00:00:00",
          "2024-02-02T00:00:00",
          "2024-02-03T00:00:00",
          "2024-02-04T00:00:00",
          "2024-02-05T00:00:00",
          "2024-02-06T00:00:00",
          "2024-02-07T00:00:00",
          "2024-02-08T00:00:00",
          "2024-02-09T00:00:00",
          "2024-02-10T00:00:00",
          "2024-02-11T00:00:00",
          "2024-02-12T00:00:00",
          "2024-02-13T00:00:00",
          "2024-02-14T00:00:00",
          "2024-02-15T00:00:00",
          "2024-02-16T00:00:00",
          "2024-02-17T00:00:00",
          "2024-02-18T00:00:00",
          "2024-02-19T00:00:00",
          "2024-02-20T00:00:00",
          "2024-02-21T00:00:00",
          "2024-02-22T00:00:00",
          "2024-02-23T00:00:00",
          "2024-02-24T00:00:00",
          "2024-02-25T00:00:00",
          "2024-02-26T00:00:00",
          "2024-02-27T00:00:00",
          "2024-02-28T00:00:00",
          "2024-02-29T00:00:00",
          "2024-03-01T00:00:00",
          "2024-03-02T00:00:00",
          "2024-03-03T00:00:00",
          "2024-03-04T00:00:00",
          "2024-03-05T00:00:00",
          "2024-03-06T00:00:00",
          "2024-03-07T00:00:00",
          "2024-03-08T00:00:00",
          "2024-03-09T00:00:00",
          "2024-03-10T00:00:00",
          "2024-03-11T00:00:00",
          "2024-03-12T00:00:00",
          "2024-03-13T00:00:00",
          "2024-03-14T00:00:00",
          "2024-03-15T00:00:00",
          "2024-03-16T00:00:00",
          "2024-03-17T00:00:00",
          "2024-03-18T00:00:00",
          "2024-03-19T00:00:00",
          "2024-03-20T00:00:00",
          "2024-03-21T00:00:00",
          "2024-03-22T00:00:00",
          "2024-03-23T00:00:00",
          "2024-03-24T00:00:00",
          "2024-03-25T00:00:00",
          "2024-03-26T00:00:00",
          "2024-03-27T00:00:00",
          "2024-03-28T00:00:00",
          "2024-03-29T00:00:00",
          "2024-03-30T00:00:00",
          "2024-03-31T00:00:00",
          "2024-04-01T00:00:00",
          "2024-04-02T00:00:00",
          "2024-04-03T00:00:00",
          "2024-04-04T00:00:00",
          "2024-04-05T00:00:00",
          "2024-04-06T00:00:00",
          "2024-04-07T00:00:00",
          "2024-04-08T00:00:00",
          "2024-04-09T00:00:00",
          "2024-04-10T00:00:00",
          "2024-04-11T00:00:00",
          "2024-04-12T00:00:00",
          "2024-04-13T00:00:00",
          "2024-04-14T00:00:00",
          "2024-04-15T00:00:00",
          "2024-04-16T00:00:00",
          "2024-04-17T00:00:00",
          "2024-04-18T00:00:00",
          "2024-04-19T00:00:00",
          "2024-04-20T00:00:00",
          "2024-04-21T00:00:00",
          "2024-04-22T00:00:00",
          "2024-04-23T00:00:00",
          "2024-04-24T00:00:00",
          "2024-04-25T00:00:00",
          "2024-04-26T00:00:00",
          "2024-04-27T00:00:00",
          "2024-04-28T00:00:00",
          "2024-04-29T00:00:00",
          "2024-04-30T00:00:00",
          "2024-05-01T00:00:00",
          "2024-05-02T00:00:00",
          "2024-05-03T00:00:00",
          "2024-05-04T00:00:00",
          "2024-05-05T00:00:00",
          "2024-05-06T00:00:00",
          "2024-05-07T00:00:00",
          "2024-05-08T00:00:00",
          "2024-05-09T00:00:00",
          "2024-05-10T00:00:00",
          "2024-05-11T00:00:00",
          "2024-05-12T00:00:00",
          "2024-05-13T00:00:00",
          "2024-05-14T00:00:00",
          "2024-05-15T00:00:00",
          "2024-05-16T00:00:00",
          "2024-05-17T00:00:00",
          "2024-05-18T00:00:00",
          "2024-05-19T00:00:00",
          "2024-05-20T00:00:00",
          "2024-05-21T00:00:00",
          "2024-05-22T00:00:00",
          "2024-05-23T00:00:00",
          "2024-05-24T00:00:00",
          "2024-05-25T00:00:00",
          "2024-05-26T00:00:00",
          "2024-05-27T00:00:00",
          "2024-05-28T00:00:00",
          "2024-05-29T00:00:00",
          "2024-05-30T00:00:00",
          "2024-05-31T00:00:00",
          "2024-06-01T00:00:00",
          "2024-06-02T00:00:00",
          "2024-06-03T00:00:00",
          "2024-06-04T00:00:00",
          "2024-06-05T00:00:00",
          "2024-06-06T00:00:00",
          "2024-06-07T00:00:00",
          "2024-06-08T00:00:00",
          "2024-06-09T00:00:00",
          "2024-06-10T00:00:00",
          "2024-06-11T00:00:00",
          "2024-06-12T00:00:00",
          "2024-06-13T00:00:00",
          "2024-06-14T00:00:00",
          "2024-06-15T00:00:00",
          "2024-06-16T00:00:00",
          "2024-06-17T00:00:00",
          "2024-06-18T00:00:00",
          "2024-06-19T00:00:00",
          "2024-06-20T00:00:00",
          "2024-06-21T00:00:00",
          "2024-06-22T00:00:00",
          "2024-06-23T00:00:00",
          "2024-06-24T00:00:00",
          "2024-06-25T00:00:00",
          "2024-06-26T00:00:00",
          "2024-06-27T00:00:00",
          "2024-06-28T00:00:00",
          "2024-06-29T00:00:00",
          "2024-06-30T00:00:00",
          "2024-07-01T00:00:00",
          "2024-07-02T00:00:00",
          "2024-07-03T00:00:00",
          "2024-07-04T00:00:00",
          "2024-07-05T00:00:00",
          "2024-07-06T00:00:00",
          "2024-07-07T00:00:00",
          "2024-07-08T00:00:00",
          "2024-07-09T00:00:00",
          "2024-07-10T00:00:00",
          "2024-07-11T00:00:00",
          "2024-07-12T00:00:00",
          "2024-07-13T00:00:00",
          "2024-07-14T00:00:00",
          "2024-07-15T00:00:00",
          "2024-07-16T00:00:00",
          "2024-07-17T00:00:00",
          "2024-07-18T00:00:00",
          "2024-07-19T00:00:00",
          "2024-07-20T00:00:00",
          "2024-07-21T00:00:00",
          "2024-07-22T00:00:00",
          "2024-07-23T00:00:00",
          "2024-07-24T00:00:00",
          "2024-07-25T00:00:00",
          "2024-07-26T00:00:00",
          "2024-07-27T00:00:00",
          "2024-07-28T00:00:00",
          "2024-07-29T00:00:00",
          "2024-07-30T00:00:00",
          "2024-07-31T00:00:00",
          "2024-08-01T00:00:00",
          "2024-08-02T00:00:00",
          "2024-08-03T00:00:00",
          "2024-08-04T00:00:00",
          "2024-08-05T00:00:00",
          "2024-08-06T00:00:00",
          "2024-08-07T00:00:00",
          "2024-08-08T00:00:00",
          "2024-08-09T00:00:00",
          "2024-08-10T00:00:00",
          "2024-08-11T00:00:00",
          "2024-08-12T00:00:00",
          "2024-08-13T00:00:00",
          "2024-08-14T00:00:00",
          "2024-08-15T00:00:00",
          "2024-08-16T00:00:00",
          "2024-08-17T00:00:00",
          "2024-08-18T00:00:00",
          "2024-08-19T00:00:00",
          "2024-08-20T00:00:00",
          "2024-08-21T00:00:00",
          "2024-08-22T00:00:00",
          "2024-08-23T00:00:00",
          "2024-08-24T00:00:00",
          "2024-08-25T00:00:00",
          "2024-08-26T00:00:00",
          "2024-08-27T00:00:00",
          "2024-08-28T00:00:00",
          "2024-08-29T00:00:00",
          "2024-08-30T00:00:00",
          "2024-08-31T00:00:00",
          "2024-09-01T00:00:00",
          "2024-09-02T00:00:00",
          "2024-09-03T00:00:00",
          "2024-09-04T00:00:00",
          "2024-09-05T00:00:00",
          "2024-09-06T00:00:00",
          "2024-09-07T00:00:00",
          "2024-09-08T00:00:00",
          "2024-09-09T00:00:00",
          "2024-09-10T00:00:00",
          "2024-09-11T00:00:00",
          "2024-09-12T00:00:00",
          "2024-09-13T00:00:00",
          "2024-09-14T00:00:00",
          "2024-09-15T00:00:00",
          "2024-09-16T00:00:00",
          "2024-09-17T00:00:00",
          "2024-09-18T00:00:00",
          "2024-09-19T00:00:00",
          "2024-09-20T00:00:00",
          "2024-09-21T00:00:00",
          "2024-09-22T00:00:00",
          "2024-09-23T00:00:00",
          "2024-09-24T00:00:00",
          "2024-09-25T00:00:00",
          "2024-09-26T00:00:00",
          "2024-09-27T00:00:00",
          "2024-09-28T00:00:00",
          "2024-09-29T00:00:00",
          "2024-09-30T00:00:00",
          "2024-10-01T00:00:00",
          "2024-10-02T00:00:00",
          "2024-10-03T00:00:00",
          "2024-10-04T00:00:00",
          "2024-10-05T00:00:00",
          "2024-10-06T00:00:00",
          "2024-10-07T00:00:00",
          "2024-10-08T00:00:00",
          "2024-10-09T00:00:00",
          "2024-10-10T00:00:00",
          "2024-10-11T00:00:00",
          "2024-10-12T00:00:00",
          "2024-10-13T00:00:00",
          "2024-10-14T00:00:00",
          "2024-10-15T00:00:00",
          "2024-10-16T00:00:00",
          "2024-10-17T00:00:00",
          "2024-10-18T00:00:00",
          "2024-10-19T00:00:00",
          "2024-10-20T00:00:00",
          "2024-10-21T00:00:00",
          "2024-10-22T00:00:00",
          "2024-10-23T00:00:00",
          "2024-10-24T00:00:00",
          "2024-10-25T00:00:00",
          "2024-10-26T00:00:00",
          "2024-10-27T00:00:00",
          "2024-10-28T00:00:00",
          "2024-10-29T00:00:00",
          "2024-10-30T00:00:00",
          "2024-10-31T00:00:00",
          "2024-11-01T00:00:00",
          "2024-11-02T00:00:00",
          "2024-11-03T00:00:00",
          "2024-11-04T00:00:00",
          "2024-11-05T00:00:00",
          "2024-11-06T00:00:00",
          "2024-11-07T00:00:00",
          "2024-11-08T00:00:00",
          "2024-11-09T00:00:00",
          "2024-11-10T00:00:00",
          "2024-11-11T00:00:00",
          "2024-11-12T00:00:00",
          "2024-11-13T00:00:00",
          "2024-11-14T00:00:00",
          "2024-11-15T00:00:00",
          "2024-11-16T00:00:00",
          "2024-11-17T00:00:00",
          "2024-11-18T00:00:00",
          "2024-11-19T00:00:00",
          "2024-11-20T00:00:00",
          "2024-11-21T00:00:00",
          "2024-11-22T00:00:00",
          "2024-11-23T00:00:00",
          "2024-11-24T00:00:00",
          "2024-11-25T00:00:00",
          "2024-11-26T00:00:00",
          "2024-11-27T00:00:00",
          "2024-11-28T00:00:00",
          "2024-11-29T00:00:00",
          "2024-11-30T00:00:00",
          "2024-12-01T00:00:00",
          "2024-12-02T00:00:00",
          "2024-12-03T00:00:00",
          "2024-12-04T00:00:00",
          "2024-12-05T00:00:00",
          "2024-12-06T00:00:00",
          "2024-12-07T00:00:00",
          "2024-12-08T00:00:00",
          "2024-12-09T00:00:00",
          "2024-12-10T00:00:00",
          "2024-12-11T00:00:00",
          "2024-12-12T00:00:00",
          "2024-12-13T00:00:00",
          "2024-12-14T00:00:00",
          "2024-12-15T00:00:00",
          "2024-12-16T00:00:00",
          "2024-12-17T00:00:00",
          "2024-12-18T00:00:00",
          "2024-12-19T00:00:00",
          "2024-12-20T00:00:00",
          "2024-12-21T00:00:00",
          "2024-12-22T00:00:00",
          "2024-12-23T00:00:00",
          "2024-12-24T00:00:00",
          "2024-12-25T00:00:00",
          "2024-12-26T00:00:00",
          "2024-12-27T00:00:00",
          "2024-12-28T00:00:00",
          "2024-12-29T00:00:00",
          "2024-12-30T00:00:00",
          "2024-12-31T00:00:00",
          "2025-01-01T00:00:00",
          "2025-01-02T00:00:00",
          "2025-01-03T00:00:00",
          "2025-01-04T00:00:00",
          "2025-01-05T00:00:00",
          "2025-01-06T00:00:00",
          "2025-01-07T00:00:00",
          "2025-01-08T00:00:00",
          "2025-01-09T00:00:00",
          "2025-01-10T00:00:00",
          "2025-01-11T00:00:00",
          "2025-01-12T00:00:00",
          "2025-01-13T00:00:00",
          "2025-01-14T00:00:00",
          "2025-01-15T00:00:00",
          "2025-01-16T00:00:00",
          "2025-01-17T00:00:00",
          "2025-01-18T00:00:00",
          "2025-01-19T00:00:00",
          "2025-01-20T00:00:00",
          "2025-01-21T00:00:00",
          "2025-01-22T00:00:00",
          "2025-01-23T00:00:00",
          "2025-01-24T00:00:00",
          "2025-01-25T00:00:00",
          "2025-01-26T00:00:00",
          "2025-01-27T00:00:00",
          "2025-01-28T00:00:00",
          "2025-01-29T00:00:00",
          "2025-01-30T00:00:00",
          "2025-01-31T00:00:00",
          "2025-02-01T00:00:00",
          "2025-02-02T00:00:00",
          "2025-02-03T00:00:00",
          "2025-02-04T00:00:00",
          "2025-02-05T00:00:00",
          "2025-02-06T00:00:00",
          "2025-02-07T00:00:00",
          "2025-02-08T00:00:00",
          "2025-02-09T00:00:00",
          "2025-02-10T00:00:00",
          "2025-02-11T00:00:00",
          "2025-02-12T00:00:00",
          "2025-02-13T00:00:00",
          "2025-02-14T00:00:00",
          "2025-02-15T00:00:00",
          "2025-02-16T00:00:00",
          "2025-02-17T00:00:00",
          "2025-02-18T00:00:00",
          "2025-02-19T00:00:00",
          "2025-02-20T00:00:00",
          "2025-02-21T00:00:00",
          "2025-02-22T00:00:00",
          "2025-02-23T00:00:00",
          "2025-02-24T00:00:00",
          "2025-02-25T00:00:00",
          "2025-02-26T00:00:00",
          "2025-02-27T00:00:00",
          "2025-02-28T00:00:00",
          "2025-03-01T00:00:00",
          "2025-03-02T00:00:00",
          "2025-03-03T00:00:00",
          "2025-03-04T00:00:00",
          "2025-03-05T00:00:00",
          "2025-03-06T00:00:00",
          "2025-03-07T00:00:00",
          "2025-03-08T00:00:00",
          "2025-03-09T00:00:00",
          "2025-03-10T00:00:00",
          "2025-03-11T00:00:00",
          "2025-03-12T00:00:00",
          "2025-03-13T00:00:00",
          "2025-03-14T00:00:00",
          "2025-03-15T00:00:00",
          "2025-03-16T00:00:00",
          "2025-03-17T00:00:00",
          "2025-03-18T00:00:00",
          "2025-03-19T00:00:00",
          "2025-03-20T00:00:00"
         ],
         "xaxis": "x",
         "y": [
          27439.486,
          27329.574,
          27167.375,
          27622.373,
          27714.605,
          27507.746,
          27414.553,
          27349.854,
          27517.025,
          28166.488,
          28166.488,
          27772.074,
          27507.746,
          27481.926,
          26586.893,
          27484.092,
          27329.574,
          26762.307,
          28590.303,
          28448.326,
          29134.268,
          29023.008,
          29400.607,
          29907.102,
          30348.838,
          32154.389,
          34110.816,
          34542.043,
          34059.22,
          33433.992,
          34414.32,
          33959.293,
          34263.598,
          34263.598,
          34535.13,
          36034.48,
          35229.38,
          35229.38,
          35229.38,
          35229.38,
          34535.13,
          36510.1,
          36674.316,
          36755.5,
          37818.27,
          36156.195,
          35214.75,
          35935.754,
          38886.2,
          35478.504,
          36150.17,
          36439.56,
          36755.5,
          38462.434,
          36801.516,
          36828.54,
          38462.434,
          37760.41,
          38505.273,
          39271.766,
          37818.27,
          37928.69,
          38661.695,
          38661.695,
          38792.113,
          39018.52,
          39870.66,
          42448.816,
          44956.902,
          42268.043,
          41371.348,
          44098.332,
          42268.043,
          41313.566,
          41685.33,
          42327.28,
          44482.69,
          42537.57,
          42399.49,
          42916.29,
          40643.715,
          43987.81,
          41610.754,
          43010.45,
          42857.92,
          43835.305,
          42268.043,
          38553.688,
          42728.227,
          39943.758,
          42399.223,
          41718.53,
          41720.668,
          42196.95,
          42916.29,
          43500.703,
          45809.93,
          42585.28,
          43114.72,
          44082.074,
          44082.074,
          44082.074,
          47686.902,
          45528.477,
          46804.867,
          45755.582,
          41915.51,
          42546.94,
          40910.215,
          44295.21,
          42399.223,
          41718.53,
          40865.832,
          42016.504,
          42094.688,
          42094.688,
          39260.89,
          40675.406,
          40264.5,
          40090.918,
          42448.816,
          42196.95,
          42196.95,
          44337.973,
          42144.047,
          42553.793,
          42399.223,
          42486.3,
          42144.047,
          42553.793,
          42624.805,
          42399.223,
          44098.332,
          45809.93,
          47912.984,
          47672.895,
          48692.508,
          47536.043,
          49252.74,
          52800.312,
          54970.105,
          54970.105,
          54970.105,
          54970.105,
          54970.105,
          54970.105,
          54970.105,
          50715.332,
          49417.26,
          53085.293,
          54970.105,
          52002.48,
          56230.742,
          58955.246,
          60924.473,
          62750.66,
          61497.723,
          63777.83,
          66701.39,
          62266.31,
          62982.5,
          64583.008,
          64583.008,
          64583.008,
          64583.008,
          64583.008,
          64583.008,
          64583.008,
          64583.008,
          64583.008,
          64583.008,
          64583.008,
          64583.008,
          60804.676,
          66905.03,
          64583.008,
          62266.31,
          65288.01,
          62982.5,
          64583.008,
          64583.008,
          64583.008,
          64583.008,
          64583.008,
          64583.008,
          64583.008,
          64583.008,
          64583.008,
          64583.008,
          64583.008,
          64583.008,
          64583.008,
          64583.008,
          64583.008,
          64583.008,
          64583.008,
          64583.008,
          64583.008,
          62266.31,
          62982.5,
          62142.246,
          64944.508,
          61105.246,
          63274.52,
          64944.508,
          62982.5,
          64583.008,
          64583.008,
          64583.008,
          62266.31,
          65288.01,
          65288.01,
          63045.594,
          61794.758,
          64944.508,
          61368.62,
          59906.418,
          58035.03,
          61930.664,
          66007.54,
          65288.01,
          63045.594,
          61024.63,
          60924.473,
          63274.52,
          60410.406,
          61466.574,
          61908.082,
          64132.29,
          61068.832,
          68026.97,
          64583.008,
          64583.008,
          64583.008,
          64583.008,
          64583.008,
          64583.008,
          64583.008,
          64583.008,
          64583.008,
          64583.008,
          64583.008,
          64583.008,
          64583.008,
          64583.008,
          64583.008,
          64583.008,
          64583.008,
          64583.008,
          64583.008,
          64583.008,
          64583.008,
          64583.008,
          64583.008,
          64583.008,
          64583.008,
          64583.008,
          64583.008,
          64583.008,
          64583.008,
          64583.008,
          64583.008,
          64583.008,
          64583.008,
          64583.008,
          64583.008,
          64583.008,
          62266.31,
          65288.01,
          63045.594,
          58523.95,
          61643.18,
          61433.25,
          61908.082,
          61433.25,
          60993.254,
          62750.66,
          61497.723,
          61497.723,
          59151.582,
          57999.742,
          53103.484,
          58710.066,
          56339.758,
          50214.176,
          57503.41,
          58211.41,
          60776.83,
          57154.035,
          57527.32,
          58131.723,
          63093.28,
          62982.5,
          62266.31,
          65288.01,
          62982.5,
          64583.008,
          64583.008,
          64583.008,
          64583.008,
          64583.008,
          64583.008,
          64583.008,
          64583.008,
          64583.008,
          64583.008,
          64583.008,
          62266.31,
          62982.5,
          60380.746,
          61433.25,
          59945.88,
          52414.49,
          54392.14,
          56424.348,
          60198.473,
          61433.25,
          60993.254,
          56390.375,
          58035.03,
          58131.723,
          59906.418,
          58004.34,
          58462.21,
          57229.49,
          57032.44,
          58035.03,
          56857.08,
          60840.5,
          62544.81,
          63093.28,
          65288.01,
          65288.01,
          61930.99,
          56901.59,
          56857.08,
          56857.08,
          56857.08,
          56857.08,
          57607.86,
          56138.88,
          57053.562,
          57525.496,
          57652.582,
          51557.48,
          54385.645,
          54660.434,
          58209.2,
          57857.22,
          60776.83,
          58388.094,
          62310.07,
          62571.965,
          59452.65,
          57241.434,
          60590.39,
          61643.18,
          64132.29,
          63777.83,
          61794.758,
          64944.508,
          63045.594,
          64944.508,
          63045.594,
          66701.39,
          64583.008,
          64583.008,
          64583.008,
          62142.246,
          60410.406,
          61466.574,
          61466.574,
          61930.664,
          61497.723,
          61497.723,
          61497.723,
          61497.723,
          61038.04,
          62571.965,
          61930.664,
          63777.83,
          61024.63,
          66905.03,
          64583.008,
          64583.008,
          64583.008,
          64583.008,
          64583.008,
          64583.008,
          64583.008,
          64583.008,
          64583.008,
          64583.008,
          64583.008,
          64583.008,
          64583.008,
          64583.008,
          64583.008,
          64583.008,
          64583.008,
          64583.008,
          64583.008,
          64583.008,
          64583.008,
          64583.008,
          64583.008,
          64583.008,
          64583.008,
          64583.008,
          64583.008,
          64583.008,
          64583.008,
          64583.008,
          64583.008,
          64583.008,
          64583.008,
          64583.008,
          64583.008,
          64583.008,
          64583.008,
          64583.008,
          64583.008,
          64583.008,
          64583.008,
          64583.008,
          64583.008,
          64583.008,
          64583.008,
          64583.008,
          64583.008,
          64583.008,
          64583.008,
          64583.008,
          64583.008,
          64583.008,
          64583.008,
          64583.008,
          64583.008,
          64583.008,
          64583.008,
          64583.008,
          64583.008,
          64583.008,
          64583.008,
          64583.008,
          64583.008,
          64583.008,
          64583.008,
          64583.008,
          64583.008,
          64583.008,
          64583.008,
          64583.008,
          64583.008,
          64583.008,
          64583.008,
          64583.008,
          64583.008,
          64583.008,
          64583.008,
          64583.008,
          64583.008,
          64583.008,
          64583.008,
          64583.008,
          64583.008,
          64583.008,
          64583.008,
          64583.008,
          64583.008,
          64583.008,
          64583.008,
          64583.008,
          64583.008,
          64583.008,
          64583.008,
          64583.008,
          64583.008,
          64583.008,
          64583.008,
          64583.008,
          64583.008,
          64583.008,
          64583.008,
          64583.008,
          64583.008,
          64583.008,
          64583.008,
          64583.008,
          64583.008,
          64583.008,
          64583.008,
          64583.008,
          64583.008,
          64583.008,
          64583.008,
          64583.008,
          64583.008,
          64583.008,
          64583.008,
          64583.008,
          64583.008,
          64583.008,
          64583.008,
          64583.008,
          64583.008,
          64583.008,
          64583.008,
          64583.008,
          64583.008,
          64583.008,
          64583.008,
          64583.008,
          64583.008,
          64583.008,
          64583.008,
          64583.008,
          64583.008,
          64583.008,
          64583.008,
          64583.008,
          64583.008,
          64583.008,
          64583.008,
          64583.008,
          64583.008,
          64583.008,
          64583.008,
          64583.008,
          64583.008,
          64583.008,
          64583.008,
          64583.008,
          64583.008,
          64583.008,
          64583.008,
          64583.008,
          64583.008,
          64583.008
         ],
         "yaxis": "y"
        }
       ],
       "layout": {
        "legend": {
         "title": {
          "text": "variable"
         },
         "tracegroupgap": 0
        },
        "margin": {
         "t": 60
        },
        "template": {
         "data": {
          "bar": [
           {
            "error_x": {
             "color": "#f2f5fa"
            },
            "error_y": {
             "color": "#f2f5fa"
            },
            "marker": {
             "line": {
              "color": "rgb(17,17,17)",
              "width": 0.5
             },
             "pattern": {
              "fillmode": "overlay",
              "size": 10,
              "solidity": 0.2
             }
            },
            "type": "bar"
           }
          ],
          "barpolar": [
           {
            "marker": {
             "line": {
              "color": "rgb(17,17,17)",
              "width": 0.5
             },
             "pattern": {
              "fillmode": "overlay",
              "size": 10,
              "solidity": 0.2
             }
            },
            "type": "barpolar"
           }
          ],
          "carpet": [
           {
            "aaxis": {
             "endlinecolor": "#A2B1C6",
             "gridcolor": "#506784",
             "linecolor": "#506784",
             "minorgridcolor": "#506784",
             "startlinecolor": "#A2B1C6"
            },
            "baxis": {
             "endlinecolor": "#A2B1C6",
             "gridcolor": "#506784",
             "linecolor": "#506784",
             "minorgridcolor": "#506784",
             "startlinecolor": "#A2B1C6"
            },
            "type": "carpet"
           }
          ],
          "choropleth": [
           {
            "colorbar": {
             "outlinewidth": 0,
             "ticks": ""
            },
            "type": "choropleth"
           }
          ],
          "contour": [
           {
            "colorbar": {
             "outlinewidth": 0,
             "ticks": ""
            },
            "colorscale": [
             [
              0,
              "#0d0887"
             ],
             [
              0.1111111111111111,
              "#46039f"
             ],
             [
              0.2222222222222222,
              "#7201a8"
             ],
             [
              0.3333333333333333,
              "#9c179e"
             ],
             [
              0.4444444444444444,
              "#bd3786"
             ],
             [
              0.5555555555555556,
              "#d8576b"
             ],
             [
              0.6666666666666666,
              "#ed7953"
             ],
             [
              0.7777777777777778,
              "#fb9f3a"
             ],
             [
              0.8888888888888888,
              "#fdca26"
             ],
             [
              1,
              "#f0f921"
             ]
            ],
            "type": "contour"
           }
          ],
          "contourcarpet": [
           {
            "colorbar": {
             "outlinewidth": 0,
             "ticks": ""
            },
            "type": "contourcarpet"
           }
          ],
          "heatmap": [
           {
            "colorbar": {
             "outlinewidth": 0,
             "ticks": ""
            },
            "colorscale": [
             [
              0,
              "#0d0887"
             ],
             [
              0.1111111111111111,
              "#46039f"
             ],
             [
              0.2222222222222222,
              "#7201a8"
             ],
             [
              0.3333333333333333,
              "#9c179e"
             ],
             [
              0.4444444444444444,
              "#bd3786"
             ],
             [
              0.5555555555555556,
              "#d8576b"
             ],
             [
              0.6666666666666666,
              "#ed7953"
             ],
             [
              0.7777777777777778,
              "#fb9f3a"
             ],
             [
              0.8888888888888888,
              "#fdca26"
             ],
             [
              1,
              "#f0f921"
             ]
            ],
            "type": "heatmap"
           }
          ],
          "heatmapgl": [
           {
            "colorbar": {
             "outlinewidth": 0,
             "ticks": ""
            },
            "colorscale": [
             [
              0,
              "#0d0887"
             ],
             [
              0.1111111111111111,
              "#46039f"
             ],
             [
              0.2222222222222222,
              "#7201a8"
             ],
             [
              0.3333333333333333,
              "#9c179e"
             ],
             [
              0.4444444444444444,
              "#bd3786"
             ],
             [
              0.5555555555555556,
              "#d8576b"
             ],
             [
              0.6666666666666666,
              "#ed7953"
             ],
             [
              0.7777777777777778,
              "#fb9f3a"
             ],
             [
              0.8888888888888888,
              "#fdca26"
             ],
             [
              1,
              "#f0f921"
             ]
            ],
            "type": "heatmapgl"
           }
          ],
          "histogram": [
           {
            "marker": {
             "pattern": {
              "fillmode": "overlay",
              "size": 10,
              "solidity": 0.2
             }
            },
            "type": "histogram"
           }
          ],
          "histogram2d": [
           {
            "colorbar": {
             "outlinewidth": 0,
             "ticks": ""
            },
            "colorscale": [
             [
              0,
              "#0d0887"
             ],
             [
              0.1111111111111111,
              "#46039f"
             ],
             [
              0.2222222222222222,
              "#7201a8"
             ],
             [
              0.3333333333333333,
              "#9c179e"
             ],
             [
              0.4444444444444444,
              "#bd3786"
             ],
             [
              0.5555555555555556,
              "#d8576b"
             ],
             [
              0.6666666666666666,
              "#ed7953"
             ],
             [
              0.7777777777777778,
              "#fb9f3a"
             ],
             [
              0.8888888888888888,
              "#fdca26"
             ],
             [
              1,
              "#f0f921"
             ]
            ],
            "type": "histogram2d"
           }
          ],
          "histogram2dcontour": [
           {
            "colorbar": {
             "outlinewidth": 0,
             "ticks": ""
            },
            "colorscale": [
             [
              0,
              "#0d0887"
             ],
             [
              0.1111111111111111,
              "#46039f"
             ],
             [
              0.2222222222222222,
              "#7201a8"
             ],
             [
              0.3333333333333333,
              "#9c179e"
             ],
             [
              0.4444444444444444,
              "#bd3786"
             ],
             [
              0.5555555555555556,
              "#d8576b"
             ],
             [
              0.6666666666666666,
              "#ed7953"
             ],
             [
              0.7777777777777778,
              "#fb9f3a"
             ],
             [
              0.8888888888888888,
              "#fdca26"
             ],
             [
              1,
              "#f0f921"
             ]
            ],
            "type": "histogram2dcontour"
           }
          ],
          "mesh3d": [
           {
            "colorbar": {
             "outlinewidth": 0,
             "ticks": ""
            },
            "type": "mesh3d"
           }
          ],
          "parcoords": [
           {
            "line": {
             "colorbar": {
              "outlinewidth": 0,
              "ticks": ""
             }
            },
            "type": "parcoords"
           }
          ],
          "pie": [
           {
            "automargin": true,
            "type": "pie"
           }
          ],
          "scatter": [
           {
            "marker": {
             "line": {
              "color": "#283442"
             }
            },
            "type": "scatter"
           }
          ],
          "scatter3d": [
           {
            "line": {
             "colorbar": {
              "outlinewidth": 0,
              "ticks": ""
             }
            },
            "marker": {
             "colorbar": {
              "outlinewidth": 0,
              "ticks": ""
             }
            },
            "type": "scatter3d"
           }
          ],
          "scattercarpet": [
           {
            "marker": {
             "colorbar": {
              "outlinewidth": 0,
              "ticks": ""
             }
            },
            "type": "scattercarpet"
           }
          ],
          "scattergeo": [
           {
            "marker": {
             "colorbar": {
              "outlinewidth": 0,
              "ticks": ""
             }
            },
            "type": "scattergeo"
           }
          ],
          "scattergl": [
           {
            "marker": {
             "line": {
              "color": "#283442"
             }
            },
            "type": "scattergl"
           }
          ],
          "scattermapbox": [
           {
            "marker": {
             "colorbar": {
              "outlinewidth": 0,
              "ticks": ""
             }
            },
            "type": "scattermapbox"
           }
          ],
          "scatterpolar": [
           {
            "marker": {
             "colorbar": {
              "outlinewidth": 0,
              "ticks": ""
             }
            },
            "type": "scatterpolar"
           }
          ],
          "scatterpolargl": [
           {
            "marker": {
             "colorbar": {
              "outlinewidth": 0,
              "ticks": ""
             }
            },
            "type": "scatterpolargl"
           }
          ],
          "scatterternary": [
           {
            "marker": {
             "colorbar": {
              "outlinewidth": 0,
              "ticks": ""
             }
            },
            "type": "scatterternary"
           }
          ],
          "surface": [
           {
            "colorbar": {
             "outlinewidth": 0,
             "ticks": ""
            },
            "colorscale": [
             [
              0,
              "#0d0887"
             ],
             [
              0.1111111111111111,
              "#46039f"
             ],
             [
              0.2222222222222222,
              "#7201a8"
             ],
             [
              0.3333333333333333,
              "#9c179e"
             ],
             [
              0.4444444444444444,
              "#bd3786"
             ],
             [
              0.5555555555555556,
              "#d8576b"
             ],
             [
              0.6666666666666666,
              "#ed7953"
             ],
             [
              0.7777777777777778,
              "#fb9f3a"
             ],
             [
              0.8888888888888888,
              "#fdca26"
             ],
             [
              1,
              "#f0f921"
             ]
            ],
            "type": "surface"
           }
          ],
          "table": [
           {
            "cells": {
             "fill": {
              "color": "#506784"
             },
             "line": {
              "color": "rgb(17,17,17)"
             }
            },
            "header": {
             "fill": {
              "color": "#2a3f5f"
             },
             "line": {
              "color": "rgb(17,17,17)"
             }
            },
            "type": "table"
           }
          ]
         },
         "layout": {
          "annotationdefaults": {
           "arrowcolor": "#f2f5fa",
           "arrowhead": 0,
           "arrowwidth": 1
          },
          "autotypenumbers": "strict",
          "coloraxis": {
           "colorbar": {
            "outlinewidth": 0,
            "ticks": ""
           }
          },
          "colorscale": {
           "diverging": [
            [
             0,
             "#8e0152"
            ],
            [
             0.1,
             "#c51b7d"
            ],
            [
             0.2,
             "#de77ae"
            ],
            [
             0.3,
             "#f1b6da"
            ],
            [
             0.4,
             "#fde0ef"
            ],
            [
             0.5,
             "#f7f7f7"
            ],
            [
             0.6,
             "#e6f5d0"
            ],
            [
             0.7,
             "#b8e186"
            ],
            [
             0.8,
             "#7fbc41"
            ],
            [
             0.9,
             "#4d9221"
            ],
            [
             1,
             "#276419"
            ]
           ],
           "sequential": [
            [
             0,
             "#0d0887"
            ],
            [
             0.1111111111111111,
             "#46039f"
            ],
            [
             0.2222222222222222,
             "#7201a8"
            ],
            [
             0.3333333333333333,
             "#9c179e"
            ],
            [
             0.4444444444444444,
             "#bd3786"
            ],
            [
             0.5555555555555556,
             "#d8576b"
            ],
            [
             0.6666666666666666,
             "#ed7953"
            ],
            [
             0.7777777777777778,
             "#fb9f3a"
            ],
            [
             0.8888888888888888,
             "#fdca26"
            ],
            [
             1,
             "#f0f921"
            ]
           ],
           "sequentialminus": [
            [
             0,
             "#0d0887"
            ],
            [
             0.1111111111111111,
             "#46039f"
            ],
            [
             0.2222222222222222,
             "#7201a8"
            ],
            [
             0.3333333333333333,
             "#9c179e"
            ],
            [
             0.4444444444444444,
             "#bd3786"
            ],
            [
             0.5555555555555556,
             "#d8576b"
            ],
            [
             0.6666666666666666,
             "#ed7953"
            ],
            [
             0.7777777777777778,
             "#fb9f3a"
            ],
            [
             0.8888888888888888,
             "#fdca26"
            ],
            [
             1,
             "#f0f921"
            ]
           ]
          },
          "colorway": [
           "#636efa",
           "#EF553B",
           "#00cc96",
           "#ab63fa",
           "#FFA15A",
           "#19d3f3",
           "#FF6692",
           "#B6E880",
           "#FF97FF",
           "#FECB52"
          ],
          "font": {
           "color": "#f2f5fa"
          },
          "geo": {
           "bgcolor": "rgb(17,17,17)",
           "lakecolor": "rgb(17,17,17)",
           "landcolor": "rgb(17,17,17)",
           "showlakes": true,
           "showland": true,
           "subunitcolor": "#506784"
          },
          "hoverlabel": {
           "align": "left"
          },
          "hovermode": "closest",
          "mapbox": {
           "style": "dark"
          },
          "paper_bgcolor": "rgb(17,17,17)",
          "plot_bgcolor": "rgb(17,17,17)",
          "polar": {
           "angularaxis": {
            "gridcolor": "#506784",
            "linecolor": "#506784",
            "ticks": ""
           },
           "bgcolor": "rgb(17,17,17)",
           "radialaxis": {
            "gridcolor": "#506784",
            "linecolor": "#506784",
            "ticks": ""
           }
          },
          "scene": {
           "xaxis": {
            "backgroundcolor": "rgb(17,17,17)",
            "gridcolor": "#506784",
            "gridwidth": 2,
            "linecolor": "#506784",
            "showbackground": true,
            "ticks": "",
            "zerolinecolor": "#C8D4E3"
           },
           "yaxis": {
            "backgroundcolor": "rgb(17,17,17)",
            "gridcolor": "#506784",
            "gridwidth": 2,
            "linecolor": "#506784",
            "showbackground": true,
            "ticks": "",
            "zerolinecolor": "#C8D4E3"
           },
           "zaxis": {
            "backgroundcolor": "rgb(17,17,17)",
            "gridcolor": "#506784",
            "gridwidth": 2,
            "linecolor": "#506784",
            "showbackground": true,
            "ticks": "",
            "zerolinecolor": "#C8D4E3"
           }
          },
          "shapedefaults": {
           "line": {
            "color": "#f2f5fa"
           }
          },
          "sliderdefaults": {
           "bgcolor": "#C8D4E3",
           "bordercolor": "rgb(17,17,17)",
           "borderwidth": 1,
           "tickwidth": 0
          },
          "ternary": {
           "aaxis": {
            "gridcolor": "#506784",
            "linecolor": "#506784",
            "ticks": ""
           },
           "baxis": {
            "gridcolor": "#506784",
            "linecolor": "#506784",
            "ticks": ""
           },
           "bgcolor": "rgb(17,17,17)",
           "caxis": {
            "gridcolor": "#506784",
            "linecolor": "#506784",
            "ticks": ""
           }
          },
          "title": {
           "x": 0.05
          },
          "updatemenudefaults": {
           "bgcolor": "#506784",
           "borderwidth": 0
          },
          "xaxis": {
           "automargin": true,
           "gridcolor": "#283442",
           "linecolor": "#506784",
           "ticks": "",
           "title": {
            "standoff": 15
           },
           "zerolinecolor": "#283442",
           "zerolinewidth": 2
          },
          "yaxis": {
           "automargin": true,
           "gridcolor": "#283442",
           "linecolor": "#506784",
           "ticks": "",
           "title": {
            "standoff": 15
           },
           "zerolinecolor": "#283442",
           "zerolinewidth": 2
          }
         }
        },
        "xaxis": {
         "anchor": "y",
         "domain": [
          0,
          1
         ],
         "title": {
          "text": "timestamp"
         }
        },
        "yaxis": {
         "anchor": "x",
         "domain": [
          0,
          1
         ],
         "title": {
          "text": "close price $"
         }
        }
       }
      }
     },
     "metadata": {},
     "output_type": "display_data"
    }
   ],
   "source": [
    "import plotly.express as px\n",
    "\n",
    "fig = px.line(y_predict, y=['close', 'prediction_label'], template='plotly_dark', labels={\"value\" : \"close price $\"})\n",
    "\n",
    "fig.show()\n",
    "\n",
    "# fig.show()"
   ]
  },
  {
   "cell_type": "code",
   "execution_count": 203,
   "id": "bedd7ac2",
   "metadata": {},
   "outputs": [
    {
     "data": {
      "text/html": [],
      "text/plain": [
       "<IPython.core.display.HTML object>"
      ]
     },
     "metadata": {},
     "output_type": "display_data"
    },
    {
     "data": {
      "text/html": [],
      "text/plain": [
       "<IPython.core.display.HTML object>"
      ]
     },
     "metadata": {},
     "output_type": "display_data"
    },
    {
     "data": {
      "text/html": [],
      "text/plain": [
       "<IPython.core.display.HTML object>"
      ]
     },
     "metadata": {},
     "output_type": "display_data"
    },
    {
     "name": "stdout",
     "output_type": "stream",
     "text": [
      "Fitting 3 folds for each of 10 candidates, totalling 30 fits\n"
     ]
    },
    {
     "data": {
      "text/html": [
       "<style type=\"text/css\">\n",
       "</style>\n",
       "<table id=\"T_00a58\">\n",
       "  <thead>\n",
       "    <tr>\n",
       "      <th class=\"blank level0\" >&nbsp;</th>\n",
       "      <th id=\"T_00a58_level0_col0\" class=\"col_heading level0 col0\" >Model</th>\n",
       "      <th id=\"T_00a58_level0_col1\" class=\"col_heading level0 col1\" >MAE</th>\n",
       "      <th id=\"T_00a58_level0_col2\" class=\"col_heading level0 col2\" >MSE</th>\n",
       "      <th id=\"T_00a58_level0_col3\" class=\"col_heading level0 col3\" >RMSE</th>\n",
       "      <th id=\"T_00a58_level0_col4\" class=\"col_heading level0 col4\" >R2</th>\n",
       "      <th id=\"T_00a58_level0_col5\" class=\"col_heading level0 col5\" >RMSLE</th>\n",
       "      <th id=\"T_00a58_level0_col6\" class=\"col_heading level0 col6\" >MAPE</th>\n",
       "    </tr>\n",
       "  </thead>\n",
       "  <tbody>\n",
       "    <tr>\n",
       "      <th id=\"T_00a58_level0_row0\" class=\"row_heading level0 row0\" >0</th>\n",
       "      <td id=\"T_00a58_row0_col0\" class=\"data row0 col0\" >Extreme Gradient Boosting</td>\n",
       "      <td id=\"T_00a58_row0_col1\" class=\"data row0 col1\" >9142.5830</td>\n",
       "      <td id=\"T_00a58_row0_col2\" class=\"data row0 col2\" >250072528.0000</td>\n",
       "      <td id=\"T_00a58_row0_col3\" class=\"data row0 col3\" >15813.6836</td>\n",
       "      <td id=\"T_00a58_row0_col4\" class=\"data row0 col4\" >0.4234</td>\n",
       "      <td id=\"T_00a58_row0_col5\" class=\"data row0 col5\" >0.2005</td>\n",
       "      <td id=\"T_00a58_row0_col6\" class=\"data row0 col6\" >0.1052</td>\n",
       "    </tr>\n",
       "  </tbody>\n",
       "</table>\n"
      ],
      "text/plain": [
       "<pandas.io.formats.style.Styler at 0x313532100>"
      ]
     },
     "metadata": {},
     "output_type": "display_data"
    },
    {
     "data": {
      "application/vnd.plotly.v1+json": {
       "config": {
        "plotlyServerURL": "https://plot.ly"
       },
       "data": [
        {
         "hovertemplate": "variable=close<br>timestamp=%{x}<br>close price $=%{y}<extra></extra>",
         "legendgroup": "close",
         "line": {
          "color": "#636efa",
          "dash": "solid"
         },
         "marker": {
          "symbol": "circle"
         },
         "mode": "lines",
         "name": "close",
         "showlegend": true,
         "type": "scattergl",
         "x": [
          "2023-09-29T00:00:00",
          "2023-09-30T00:00:00",
          "2023-10-01T00:00:00",
          "2023-10-02T00:00:00",
          "2023-10-03T00:00:00",
          "2023-10-04T00:00:00",
          "2023-10-05T00:00:00",
          "2023-10-06T00:00:00",
          "2023-10-07T00:00:00",
          "2023-10-08T00:00:00",
          "2023-10-09T00:00:00",
          "2023-10-10T00:00:00",
          "2023-10-11T00:00:00",
          "2023-10-12T00:00:00",
          "2023-10-13T00:00:00",
          "2023-10-14T00:00:00",
          "2023-10-15T00:00:00",
          "2023-10-16T00:00:00",
          "2023-10-17T00:00:00",
          "2023-10-18T00:00:00",
          "2023-10-19T00:00:00",
          "2023-10-20T00:00:00",
          "2023-10-21T00:00:00",
          "2023-10-22T00:00:00",
          "2023-10-23T00:00:00",
          "2023-10-24T00:00:00",
          "2023-10-25T00:00:00",
          "2023-10-26T00:00:00",
          "2023-10-27T00:00:00",
          "2023-10-28T00:00:00",
          "2023-10-29T00:00:00",
          "2023-10-30T00:00:00",
          "2023-10-31T00:00:00",
          "2023-11-01T00:00:00",
          "2023-11-02T00:00:00",
          "2023-11-03T00:00:00",
          "2023-11-04T00:00:00",
          "2023-11-05T00:00:00",
          "2023-11-06T00:00:00",
          "2023-11-07T00:00:00",
          "2023-11-08T00:00:00",
          "2023-11-09T00:00:00",
          "2023-11-10T00:00:00",
          "2023-11-11T00:00:00",
          "2023-11-12T00:00:00",
          "2023-11-13T00:00:00",
          "2023-11-14T00:00:00",
          "2023-11-15T00:00:00",
          "2023-11-16T00:00:00",
          "2023-11-17T00:00:00",
          "2023-11-18T00:00:00",
          "2023-11-19T00:00:00",
          "2023-11-20T00:00:00",
          "2023-11-21T00:00:00",
          "2023-11-22T00:00:00",
          "2023-11-23T00:00:00",
          "2023-11-24T00:00:00",
          "2023-11-25T00:00:00",
          "2023-11-26T00:00:00",
          "2023-11-27T00:00:00",
          "2023-11-28T00:00:00",
          "2023-11-29T00:00:00",
          "2023-11-30T00:00:00",
          "2023-12-01T00:00:00",
          "2023-12-02T00:00:00",
          "2023-12-03T00:00:00",
          "2023-12-04T00:00:00",
          "2023-12-05T00:00:00",
          "2023-12-06T00:00:00",
          "2023-12-07T00:00:00",
          "2023-12-08T00:00:00",
          "2023-12-09T00:00:00",
          "2023-12-10T00:00:00",
          "2023-12-11T00:00:00",
          "2023-12-12T00:00:00",
          "2023-12-13T00:00:00",
          "2023-12-14T00:00:00",
          "2023-12-15T00:00:00",
          "2023-12-16T00:00:00",
          "2023-12-17T00:00:00",
          "2023-12-18T00:00:00",
          "2023-12-19T00:00:00",
          "2023-12-20T00:00:00",
          "2023-12-21T00:00:00",
          "2023-12-22T00:00:00",
          "2023-12-23T00:00:00",
          "2023-12-24T00:00:00",
          "2023-12-25T00:00:00",
          "2023-12-26T00:00:00",
          "2023-12-27T00:00:00",
          "2023-12-28T00:00:00",
          "2023-12-29T00:00:00",
          "2023-12-30T00:00:00",
          "2023-12-31T00:00:00",
          "2024-01-01T00:00:00",
          "2024-01-02T00:00:00",
          "2024-01-03T00:00:00",
          "2024-01-04T00:00:00",
          "2024-01-05T00:00:00",
          "2024-01-06T00:00:00",
          "2024-01-07T00:00:00",
          "2024-01-08T00:00:00",
          "2024-01-09T00:00:00",
          "2024-01-10T00:00:00",
          "2024-01-11T00:00:00",
          "2024-01-12T00:00:00",
          "2024-01-13T00:00:00",
          "2024-01-14T00:00:00",
          "2024-01-15T00:00:00",
          "2024-01-16T00:00:00",
          "2024-01-17T00:00:00",
          "2024-01-18T00:00:00",
          "2024-01-19T00:00:00",
          "2024-01-20T00:00:00",
          "2024-01-21T00:00:00",
          "2024-01-22T00:00:00",
          "2024-01-23T00:00:00",
          "2024-01-24T00:00:00",
          "2024-01-25T00:00:00",
          "2024-01-26T00:00:00",
          "2024-01-27T00:00:00",
          "2024-01-28T00:00:00",
          "2024-01-29T00:00:00",
          "2024-01-30T00:00:00",
          "2024-01-31T00:00:00",
          "2024-02-01T00:00:00",
          "2024-02-02T00:00:00",
          "2024-02-03T00:00:00",
          "2024-02-04T00:00:00",
          "2024-02-05T00:00:00",
          "2024-02-06T00:00:00",
          "2024-02-07T00:00:00",
          "2024-02-08T00:00:00",
          "2024-02-09T00:00:00",
          "2024-02-10T00:00:00",
          "2024-02-11T00:00:00",
          "2024-02-12T00:00:00",
          "2024-02-13T00:00:00",
          "2024-02-14T00:00:00",
          "2024-02-15T00:00:00",
          "2024-02-16T00:00:00",
          "2024-02-17T00:00:00",
          "2024-02-18T00:00:00",
          "2024-02-19T00:00:00",
          "2024-02-20T00:00:00",
          "2024-02-21T00:00:00",
          "2024-02-22T00:00:00",
          "2024-02-23T00:00:00",
          "2024-02-24T00:00:00",
          "2024-02-25T00:00:00",
          "2024-02-26T00:00:00",
          "2024-02-27T00:00:00",
          "2024-02-28T00:00:00",
          "2024-02-29T00:00:00",
          "2024-03-01T00:00:00",
          "2024-03-02T00:00:00",
          "2024-03-03T00:00:00",
          "2024-03-04T00:00:00",
          "2024-03-05T00:00:00",
          "2024-03-06T00:00:00",
          "2024-03-07T00:00:00",
          "2024-03-08T00:00:00",
          "2024-03-09T00:00:00",
          "2024-03-10T00:00:00",
          "2024-03-11T00:00:00",
          "2024-03-12T00:00:00",
          "2024-03-13T00:00:00",
          "2024-03-14T00:00:00",
          "2024-03-15T00:00:00",
          "2024-03-16T00:00:00",
          "2024-03-17T00:00:00",
          "2024-03-18T00:00:00",
          "2024-03-19T00:00:00",
          "2024-03-20T00:00:00",
          "2024-03-21T00:00:00",
          "2024-03-22T00:00:00",
          "2024-03-23T00:00:00",
          "2024-03-24T00:00:00",
          "2024-03-25T00:00:00",
          "2024-03-26T00:00:00",
          "2024-03-27T00:00:00",
          "2024-03-28T00:00:00",
          "2024-03-29T00:00:00",
          "2024-03-30T00:00:00",
          "2024-03-31T00:00:00",
          "2024-04-01T00:00:00",
          "2024-04-02T00:00:00",
          "2024-04-03T00:00:00",
          "2024-04-04T00:00:00",
          "2024-04-05T00:00:00",
          "2024-04-06T00:00:00",
          "2024-04-07T00:00:00",
          "2024-04-08T00:00:00",
          "2024-04-09T00:00:00",
          "2024-04-10T00:00:00",
          "2024-04-11T00:00:00",
          "2024-04-12T00:00:00",
          "2024-04-13T00:00:00",
          "2024-04-14T00:00:00",
          "2024-04-15T00:00:00",
          "2024-04-16T00:00:00",
          "2024-04-17T00:00:00",
          "2024-04-18T00:00:00",
          "2024-04-19T00:00:00",
          "2024-04-20T00:00:00",
          "2024-04-21T00:00:00",
          "2024-04-22T00:00:00",
          "2024-04-23T00:00:00",
          "2024-04-24T00:00:00",
          "2024-04-25T00:00:00",
          "2024-04-26T00:00:00",
          "2024-04-27T00:00:00",
          "2024-04-28T00:00:00",
          "2024-04-29T00:00:00",
          "2024-04-30T00:00:00",
          "2024-05-01T00:00:00",
          "2024-05-02T00:00:00",
          "2024-05-03T00:00:00",
          "2024-05-04T00:00:00",
          "2024-05-05T00:00:00",
          "2024-05-06T00:00:00",
          "2024-05-07T00:00:00",
          "2024-05-08T00:00:00",
          "2024-05-09T00:00:00",
          "2024-05-10T00:00:00",
          "2024-05-11T00:00:00",
          "2024-05-12T00:00:00",
          "2024-05-13T00:00:00",
          "2024-05-14T00:00:00",
          "2024-05-15T00:00:00",
          "2024-05-16T00:00:00",
          "2024-05-17T00:00:00",
          "2024-05-18T00:00:00",
          "2024-05-19T00:00:00",
          "2024-05-20T00:00:00",
          "2024-05-21T00:00:00",
          "2024-05-22T00:00:00",
          "2024-05-23T00:00:00",
          "2024-05-24T00:00:00",
          "2024-05-25T00:00:00",
          "2024-05-26T00:00:00",
          "2024-05-27T00:00:00",
          "2024-05-28T00:00:00",
          "2024-05-29T00:00:00",
          "2024-05-30T00:00:00",
          "2024-05-31T00:00:00",
          "2024-06-01T00:00:00",
          "2024-06-02T00:00:00",
          "2024-06-03T00:00:00",
          "2024-06-04T00:00:00",
          "2024-06-05T00:00:00",
          "2024-06-06T00:00:00",
          "2024-06-07T00:00:00",
          "2024-06-08T00:00:00",
          "2024-06-09T00:00:00",
          "2024-06-10T00:00:00",
          "2024-06-11T00:00:00",
          "2024-06-12T00:00:00",
          "2024-06-13T00:00:00",
          "2024-06-14T00:00:00",
          "2024-06-15T00:00:00",
          "2024-06-16T00:00:00",
          "2024-06-17T00:00:00",
          "2024-06-18T00:00:00",
          "2024-06-19T00:00:00",
          "2024-06-20T00:00:00",
          "2024-06-21T00:00:00",
          "2024-06-22T00:00:00",
          "2024-06-23T00:00:00",
          "2024-06-24T00:00:00",
          "2024-06-25T00:00:00",
          "2024-06-26T00:00:00",
          "2024-06-27T00:00:00",
          "2024-06-28T00:00:00",
          "2024-06-29T00:00:00",
          "2024-06-30T00:00:00",
          "2024-07-01T00:00:00",
          "2024-07-02T00:00:00",
          "2024-07-03T00:00:00",
          "2024-07-04T00:00:00",
          "2024-07-05T00:00:00",
          "2024-07-06T00:00:00",
          "2024-07-07T00:00:00",
          "2024-07-08T00:00:00",
          "2024-07-09T00:00:00",
          "2024-07-10T00:00:00",
          "2024-07-11T00:00:00",
          "2024-07-12T00:00:00",
          "2024-07-13T00:00:00",
          "2024-07-14T00:00:00",
          "2024-07-15T00:00:00",
          "2024-07-16T00:00:00",
          "2024-07-17T00:00:00",
          "2024-07-18T00:00:00",
          "2024-07-19T00:00:00",
          "2024-07-20T00:00:00",
          "2024-07-21T00:00:00",
          "2024-07-22T00:00:00",
          "2024-07-23T00:00:00",
          "2024-07-24T00:00:00",
          "2024-07-25T00:00:00",
          "2024-07-26T00:00:00",
          "2024-07-27T00:00:00",
          "2024-07-28T00:00:00",
          "2024-07-29T00:00:00",
          "2024-07-30T00:00:00",
          "2024-07-31T00:00:00",
          "2024-08-01T00:00:00",
          "2024-08-02T00:00:00",
          "2024-08-03T00:00:00",
          "2024-08-04T00:00:00",
          "2024-08-05T00:00:00",
          "2024-08-06T00:00:00",
          "2024-08-07T00:00:00",
          "2024-08-08T00:00:00",
          "2024-08-09T00:00:00",
          "2024-08-10T00:00:00",
          "2024-08-11T00:00:00",
          "2024-08-12T00:00:00",
          "2024-08-13T00:00:00",
          "2024-08-14T00:00:00",
          "2024-08-15T00:00:00",
          "2024-08-16T00:00:00",
          "2024-08-17T00:00:00",
          "2024-08-18T00:00:00",
          "2024-08-19T00:00:00",
          "2024-08-20T00:00:00",
          "2024-08-21T00:00:00",
          "2024-08-22T00:00:00",
          "2024-08-23T00:00:00",
          "2024-08-24T00:00:00",
          "2024-08-25T00:00:00",
          "2024-08-26T00:00:00",
          "2024-08-27T00:00:00",
          "2024-08-28T00:00:00",
          "2024-08-29T00:00:00",
          "2024-08-30T00:00:00",
          "2024-08-31T00:00:00",
          "2024-09-01T00:00:00",
          "2024-09-02T00:00:00",
          "2024-09-03T00:00:00",
          "2024-09-04T00:00:00",
          "2024-09-05T00:00:00",
          "2024-09-06T00:00:00",
          "2024-09-07T00:00:00",
          "2024-09-08T00:00:00",
          "2024-09-09T00:00:00",
          "2024-09-10T00:00:00",
          "2024-09-11T00:00:00",
          "2024-09-12T00:00:00",
          "2024-09-13T00:00:00",
          "2024-09-14T00:00:00",
          "2024-09-15T00:00:00",
          "2024-09-16T00:00:00",
          "2024-09-17T00:00:00",
          "2024-09-18T00:00:00",
          "2024-09-19T00:00:00",
          "2024-09-20T00:00:00",
          "2024-09-21T00:00:00",
          "2024-09-22T00:00:00",
          "2024-09-23T00:00:00",
          "2024-09-24T00:00:00",
          "2024-09-25T00:00:00",
          "2024-09-26T00:00:00",
          "2024-09-27T00:00:00",
          "2024-09-28T00:00:00",
          "2024-09-29T00:00:00",
          "2024-09-30T00:00:00",
          "2024-10-01T00:00:00",
          "2024-10-02T00:00:00",
          "2024-10-03T00:00:00",
          "2024-10-04T00:00:00",
          "2024-10-05T00:00:00",
          "2024-10-06T00:00:00",
          "2024-10-07T00:00:00",
          "2024-10-08T00:00:00",
          "2024-10-09T00:00:00",
          "2024-10-10T00:00:00",
          "2024-10-11T00:00:00",
          "2024-10-12T00:00:00",
          "2024-10-13T00:00:00",
          "2024-10-14T00:00:00",
          "2024-10-15T00:00:00",
          "2024-10-16T00:00:00",
          "2024-10-17T00:00:00",
          "2024-10-18T00:00:00",
          "2024-10-19T00:00:00",
          "2024-10-20T00:00:00",
          "2024-10-21T00:00:00",
          "2024-10-22T00:00:00",
          "2024-10-23T00:00:00",
          "2024-10-24T00:00:00",
          "2024-10-25T00:00:00",
          "2024-10-26T00:00:00",
          "2024-10-27T00:00:00",
          "2024-10-28T00:00:00",
          "2024-10-29T00:00:00",
          "2024-10-30T00:00:00",
          "2024-10-31T00:00:00",
          "2024-11-01T00:00:00",
          "2024-11-02T00:00:00",
          "2024-11-03T00:00:00",
          "2024-11-04T00:00:00",
          "2024-11-05T00:00:00",
          "2024-11-06T00:00:00",
          "2024-11-07T00:00:00",
          "2024-11-08T00:00:00",
          "2024-11-09T00:00:00",
          "2024-11-10T00:00:00",
          "2024-11-11T00:00:00",
          "2024-11-12T00:00:00",
          "2024-11-13T00:00:00",
          "2024-11-14T00:00:00",
          "2024-11-15T00:00:00",
          "2024-11-16T00:00:00",
          "2024-11-17T00:00:00",
          "2024-11-18T00:00:00",
          "2024-11-19T00:00:00",
          "2024-11-20T00:00:00",
          "2024-11-21T00:00:00",
          "2024-11-22T00:00:00",
          "2024-11-23T00:00:00",
          "2024-11-24T00:00:00",
          "2024-11-25T00:00:00",
          "2024-11-26T00:00:00",
          "2024-11-27T00:00:00",
          "2024-11-28T00:00:00",
          "2024-11-29T00:00:00",
          "2024-11-30T00:00:00",
          "2024-12-01T00:00:00",
          "2024-12-02T00:00:00",
          "2024-12-03T00:00:00",
          "2024-12-04T00:00:00",
          "2024-12-05T00:00:00",
          "2024-12-06T00:00:00",
          "2024-12-07T00:00:00",
          "2024-12-08T00:00:00",
          "2024-12-09T00:00:00",
          "2024-12-10T00:00:00",
          "2024-12-11T00:00:00",
          "2024-12-12T00:00:00",
          "2024-12-13T00:00:00",
          "2024-12-14T00:00:00",
          "2024-12-15T00:00:00",
          "2024-12-16T00:00:00",
          "2024-12-17T00:00:00",
          "2024-12-18T00:00:00",
          "2024-12-19T00:00:00",
          "2024-12-20T00:00:00",
          "2024-12-21T00:00:00",
          "2024-12-22T00:00:00",
          "2024-12-23T00:00:00",
          "2024-12-24T00:00:00",
          "2024-12-25T00:00:00",
          "2024-12-26T00:00:00",
          "2024-12-27T00:00:00",
          "2024-12-28T00:00:00",
          "2024-12-29T00:00:00",
          "2024-12-30T00:00:00",
          "2024-12-31T00:00:00",
          "2025-01-01T00:00:00",
          "2025-01-02T00:00:00",
          "2025-01-03T00:00:00",
          "2025-01-04T00:00:00",
          "2025-01-05T00:00:00",
          "2025-01-06T00:00:00",
          "2025-01-07T00:00:00",
          "2025-01-08T00:00:00",
          "2025-01-09T00:00:00",
          "2025-01-10T00:00:00",
          "2025-01-11T00:00:00",
          "2025-01-12T00:00:00",
          "2025-01-13T00:00:00",
          "2025-01-14T00:00:00",
          "2025-01-15T00:00:00",
          "2025-01-16T00:00:00",
          "2025-01-17T00:00:00",
          "2025-01-18T00:00:00",
          "2025-01-19T00:00:00",
          "2025-01-20T00:00:00",
          "2025-01-21T00:00:00",
          "2025-01-22T00:00:00",
          "2025-01-23T00:00:00",
          "2025-01-24T00:00:00",
          "2025-01-25T00:00:00",
          "2025-01-26T00:00:00",
          "2025-01-27T00:00:00",
          "2025-01-28T00:00:00",
          "2025-01-29T00:00:00",
          "2025-01-30T00:00:00",
          "2025-01-31T00:00:00",
          "2025-02-01T00:00:00",
          "2025-02-02T00:00:00",
          "2025-02-03T00:00:00",
          "2025-02-04T00:00:00",
          "2025-02-05T00:00:00",
          "2025-02-06T00:00:00",
          "2025-02-07T00:00:00",
          "2025-02-08T00:00:00",
          "2025-02-09T00:00:00",
          "2025-02-10T00:00:00",
          "2025-02-11T00:00:00",
          "2025-02-12T00:00:00",
          "2025-02-13T00:00:00",
          "2025-02-14T00:00:00",
          "2025-02-15T00:00:00",
          "2025-02-16T00:00:00",
          "2025-02-17T00:00:00",
          "2025-02-18T00:00:00",
          "2025-02-19T00:00:00",
          "2025-02-20T00:00:00",
          "2025-02-21T00:00:00",
          "2025-02-22T00:00:00",
          "2025-02-23T00:00:00",
          "2025-02-24T00:00:00",
          "2025-02-25T00:00:00",
          "2025-02-26T00:00:00",
          "2025-02-27T00:00:00",
          "2025-02-28T00:00:00",
          "2025-03-01T00:00:00",
          "2025-03-02T00:00:00",
          "2025-03-03T00:00:00",
          "2025-03-04T00:00:00",
          "2025-03-05T00:00:00",
          "2025-03-06T00:00:00",
          "2025-03-07T00:00:00",
          "2025-03-08T00:00:00",
          "2025-03-09T00:00:00",
          "2025-03-10T00:00:00",
          "2025-03-11T00:00:00",
          "2025-03-12T00:00:00",
          "2025-03-13T00:00:00",
          "2025-03-14T00:00:00",
          "2025-03-15T00:00:00",
          "2025-03-16T00:00:00",
          "2025-03-17T00:00:00",
          "2025-03-18T00:00:00",
          "2025-03-19T00:00:00",
          "2025-03-20T00:00:00"
         ],
         "xaxis": "x",
         "y": [
          26906.96,
          26962.56,
          27992.57,
          27494.51,
          27426.46,
          27778.57,
          27410.39,
          27931.09,
          27956.67,
          27917.05,
          27590.12,
          27390.12,
          26875.52,
          26759.63,
          26862,
          26852.48,
          27154.15,
          28500.78,
          28395.91,
          28320,
          28713.71,
          29669.04,
          29909.8,
          29992.46,
          33069.99,
          33922.73,
          34496.05,
          34151.66,
          33892.02,
          34081,
          34525.89,
          34474.73,
          34639.77,
          35421.43,
          34941.59,
          34716.78,
          35062.07,
          35011.88,
          35046.09,
          35399.12,
          35624.72,
          36701.09,
          37301.63,
          37130,
          37064.13,
          36462.93,
          35551.19,
          37858.2,
          36163.51,
          36613.92,
          36568.1,
          37359.86,
          37448.78,
          35741.65,
          37408.34,
          37294.28,
          37713.57,
          37780.67,
          37447.43,
          37242.7,
          37818.87,
          37854.64,
          37723.96,
          38682.52,
          39450.35,
          39972.26,
          41991.1,
          44073.32,
          43762.69,
          43273.14,
          44170.99,
          43713.6,
          43789.51,
          41253.4,
          41492.39,
          42869.03,
          43022.26,
          41940.3,
          42278.03,
          41374.65,
          42657.8,
          42275.99,
          43668.93,
          43861.8,
          43969.04,
          43702.16,
          42991.5,
          43576.13,
          42508.93,
          43428.85,
          42563.76,
          42066.95,
          42140.28,
          42283.58,
          44179.55,
          44946.91,
          42845.23,
          44151.1,
          44145.11,
          43968.32,
          43929.02,
          46951.04,
          46110,
          46653.99,
          46339.16,
          42782.73,
          42847.99,
          41732.35,
          42511.1,
          43137.95,
          42776.1,
          41327.5,
          41659.03,
          41696.04,
          41580.33,
          39568.02,
          39897.6,
          40084.88,
          39961.09,
          41823.51,
          42120.63,
          42031.06,
          43302.7,
          42941.1,
          42580,
          43082.94,
          43200,
          43011.09,
          42582.88,
          42708.7,
          43098.95,
          44349.6,
          45288.65,
          47132.77,
          47751.09,
          48299.99,
          49917.27,
          49699.59,
          51795.17,
          51880,
          52124.11,
          51642.64,
          52137.67,
          51774.73,
          52258.82,
          51849.39,
          51288.42,
          50744.15,
          51568.22,
          51728.85,
          54476.47,
          57037.34,
          62432.1,
          61130.98,
          62387.9,
          61987.28,
          63113.97,
          68245.71,
          63724.01,
          66074.04,
          66823.17,
          68124.19,
          68313.27,
          68955.88,
          72078.1,
          71452.01,
          73072.41,
          71388.94,
          69499.85,
          65300.63,
          68393.48,
          67609.99,
          61937.4,
          67840.51,
          65501.27,
          63796.64,
          63990.01,
          67209.99,
          69880.01,
          69988,
          69469.99,
          70780.6,
          69850.54,
          69582.18,
          71280.01,
          69649.8,
          65463.99,
          65963.28,
          68487.79,
          67820.62,
          68896,
          69360.39,
          71620,
          69146,
          70631.08,
          70006.23,
          67116.52,
          63924.51,
          65661.84,
          63419.99,
          63793.39,
          61277.37,
          63470.08,
          63818.01,
          64940.59,
          64941.15,
          66819.32,
          66414,
          64289.59,
          64498.34,
          63770.01,
          63461.98,
          63118.62,
          63866,
          60672,
          58364.97,
          59060.61,
          62882.01,
          63892.04,
          64012,
          63165.19,
          62312.08,
          61193.03,
          63074.01,
          60799.99,
          60825.99,
          61483.99,
          62940.08,
          61577.49,
          66206.5,
          65235.21,
          67024,
          66915.2,
          66274.01,
          71446.62,
          70148.34,
          69166.62,
          67969.65,
          68549.99,
          69290.57,
          68507.67,
          69436.43,
          68398.39,
          67652.42,
          68352.17,
          67540.01,
          67766.85,
          67765.63,
          68809.9,
          70537.84,
          71108,
          70799.06,
          69355.6,
          69310.46,
          69648.14,
          69540,
          67314.24,
          68263.99,
          66773.01,
          66043.99,
          66228.25,
          66676.87,
          66504.33,
          65175.32,
          64974.37,
          64869.99,
          64143.56,
          64262.01,
          63210.01,
          60293.3,
          61806.01,
          60864.99,
          61706.47,
          60427.84,
          60986.68,
          62772.01,
          62899.99,
          62135.47,
          60208.58,
          57050.01,
          56628.79,
          58230.13,
          55857.81,
          56714.62,
          58050,
          57725.85,
          57339.89,
          57889.1,
          59204.02,
          60797.91,
          64724.14,
          65043.99,
          64087.99,
          63987.92,
          66660,
          67139.96,
          68165.34,
          67532.01,
          65936.01,
          65376,
          65799.95,
          67907.99,
          67896.5,
          68249.88,
          66784.69,
          66188,
          64628,
          65354.02,
          61498.33,
          60697.99,
          58161,
          54018.81,
          56022.01,
          55134.16,
          61685.99,
          60837.99,
          60923.51,
          58712.59,
          59346.64,
          60587.15,
          58683.39,
          57541.06,
          58874.6,
          59491.99,
          58427.35,
          59438.5,
          59013.8,
          61156.03,
          60375.84,
          64037.24,
          64157.01,
          64220,
          62834,
          59415,
          59034.9,
          59359.01,
          59123.99,
          58973.99,
          57301.86,
          59132.13,
          57487.73,
          57970.9,
          56180,
          53962.97,
          54160.86,
          54869.95,
          57042,
          57635.99,
          57338,
          58132.32,
          60498,
          59993.03,
          59132,
          58213.99,
          60313.99,
          61759.99,
          62947.99,
          63201.05,
          63348.96,
          63578.76,
          63339.99,
          64262.7,
          63152.01,
          65173.99,
          65769.95,
          65858,
          65602.01,
          63327.59,
          60805.78,
          60649.28,
          60752.71,
          62086,
          62058,
          62819.91,
          62224,
          62160.49,
          60636.02,
          60326.39,
          62540,
          63206.22,
          62870.02,
          66083.99,
          67074.14,
          67620.01,
          67421.78,
          68428,
          68378,
          69031.99,
          67377.5,
          67426,
          66668.65,
          68198.28,
          66698.33,
          67092.76,
          68021.7,
          69962.21,
          72736.42,
          72344.74,
          70292.01,
          69496.01,
          69374.74,
          68775.99,
          67850.01,
          69372.01,
          75571.99,
          75857.89,
          76509.78,
          76677.46,
          80370.01,
          88647.99,
          87952.01,
          90375.2,
          87325.59,
          91032.07,
          90586.92,
          89855.99,
          90464.08,
          92310.79,
          94286.56,
          98317.12,
          98892,
          97672.4,
          97900.04,
          93010.01,
          91965.16,
          95863.11,
          95643.98,
          97460,
          96407.99,
          97185.18,
          95840.62,
          95849.69,
          98587.32,
          96945.63,
          99740.84,
          99831.99,
          101109.59,
          97276.47,
          96593,
          101125,
          100004.29,
          101424.25,
          101420,
          104463.99,
          106058.66,
          106133.74,
          100204.01,
          97461.86,
          97805.44,
          97291.99,
          95186.27,
          94881.47,
          98663.58,
          99429.6,
          95791.6,
          94299.03,
          95300,
          93738.2,
          92792.05,
          93576,
          94591.79,
          96984.79,
          98174.18,
          98220.5,
          98363.61,
          102235.6,
          96954.61,
          95060.61,
          92552.49,
          94726.11,
          94599.99,
          94545.06,
          94536.1,
          96560.86,
          100497.35,
          99987.3,
          104077.48,
          104556.23,
          101331.57,
          102260.01,
          106143.82,
          103706.66,
          103910.34,
          104870.5,
          104746.85,
          102620,
          102082.83,
          101335.52,
          103733.24,
          104722.94,
          102429.56,
          100635.65,
          97700.59,
          101328.52,
          97763.13,
          96612.43,
          96554.35,
          96506.8,
          96444.74,
          96462.75,
          97430.82,
          95778.2,
          97869.99,
          96608.14,
          97500.48,
          97569.66,
          96118.12,
          95780,
          95671.74,
          96644.37,
          98305,
          96181.98,
          96551.01,
          96258,
          91552.88,
          88680.4,
          84250.09,
          84708.58,
          84349.94,
          86064.53,
          94270,
          86220.61,
          87281.98,
          90606.01,
          89931.89,
          86801.75,
          86222.45,
          80734.37,
          78595.86,
          82932.99,
          83680.12,
          81115.78,
          83983.2,
          84338.44,
          82574.53,
          84010.03,
          82715.03,
          86845.94,
          84223.39
         ],
         "yaxis": "y"
        },
        {
         "hovertemplate": "variable=prediction_label<br>timestamp=%{x}<br>close price $=%{y}<extra></extra>",
         "legendgroup": "prediction_label",
         "line": {
          "color": "#EF553B",
          "dash": "solid"
         },
         "marker": {
          "symbol": "circle"
         },
         "mode": "lines",
         "name": "prediction_label",
         "showlegend": true,
         "type": "scattergl",
         "x": [
          "2023-09-29T00:00:00",
          "2023-09-30T00:00:00",
          "2023-10-01T00:00:00",
          "2023-10-02T00:00:00",
          "2023-10-03T00:00:00",
          "2023-10-04T00:00:00",
          "2023-10-05T00:00:00",
          "2023-10-06T00:00:00",
          "2023-10-07T00:00:00",
          "2023-10-08T00:00:00",
          "2023-10-09T00:00:00",
          "2023-10-10T00:00:00",
          "2023-10-11T00:00:00",
          "2023-10-12T00:00:00",
          "2023-10-13T00:00:00",
          "2023-10-14T00:00:00",
          "2023-10-15T00:00:00",
          "2023-10-16T00:00:00",
          "2023-10-17T00:00:00",
          "2023-10-18T00:00:00",
          "2023-10-19T00:00:00",
          "2023-10-20T00:00:00",
          "2023-10-21T00:00:00",
          "2023-10-22T00:00:00",
          "2023-10-23T00:00:00",
          "2023-10-24T00:00:00",
          "2023-10-25T00:00:00",
          "2023-10-26T00:00:00",
          "2023-10-27T00:00:00",
          "2023-10-28T00:00:00",
          "2023-10-29T00:00:00",
          "2023-10-30T00:00:00",
          "2023-10-31T00:00:00",
          "2023-11-01T00:00:00",
          "2023-11-02T00:00:00",
          "2023-11-03T00:00:00",
          "2023-11-04T00:00:00",
          "2023-11-05T00:00:00",
          "2023-11-06T00:00:00",
          "2023-11-07T00:00:00",
          "2023-11-08T00:00:00",
          "2023-11-09T00:00:00",
          "2023-11-10T00:00:00",
          "2023-11-11T00:00:00",
          "2023-11-12T00:00:00",
          "2023-11-13T00:00:00",
          "2023-11-14T00:00:00",
          "2023-11-15T00:00:00",
          "2023-11-16T00:00:00",
          "2023-11-17T00:00:00",
          "2023-11-18T00:00:00",
          "2023-11-19T00:00:00",
          "2023-11-20T00:00:00",
          "2023-11-21T00:00:00",
          "2023-11-22T00:00:00",
          "2023-11-23T00:00:00",
          "2023-11-24T00:00:00",
          "2023-11-25T00:00:00",
          "2023-11-26T00:00:00",
          "2023-11-27T00:00:00",
          "2023-11-28T00:00:00",
          "2023-11-29T00:00:00",
          "2023-11-30T00:00:00",
          "2023-12-01T00:00:00",
          "2023-12-02T00:00:00",
          "2023-12-03T00:00:00",
          "2023-12-04T00:00:00",
          "2023-12-05T00:00:00",
          "2023-12-06T00:00:00",
          "2023-12-07T00:00:00",
          "2023-12-08T00:00:00",
          "2023-12-09T00:00:00",
          "2023-12-10T00:00:00",
          "2023-12-11T00:00:00",
          "2023-12-12T00:00:00",
          "2023-12-13T00:00:00",
          "2023-12-14T00:00:00",
          "2023-12-15T00:00:00",
          "2023-12-16T00:00:00",
          "2023-12-17T00:00:00",
          "2023-12-18T00:00:00",
          "2023-12-19T00:00:00",
          "2023-12-20T00:00:00",
          "2023-12-21T00:00:00",
          "2023-12-22T00:00:00",
          "2023-12-23T00:00:00",
          "2023-12-24T00:00:00",
          "2023-12-25T00:00:00",
          "2023-12-26T00:00:00",
          "2023-12-27T00:00:00",
          "2023-12-28T00:00:00",
          "2023-12-29T00:00:00",
          "2023-12-30T00:00:00",
          "2023-12-31T00:00:00",
          "2024-01-01T00:00:00",
          "2024-01-02T00:00:00",
          "2024-01-03T00:00:00",
          "2024-01-04T00:00:00",
          "2024-01-05T00:00:00",
          "2024-01-06T00:00:00",
          "2024-01-07T00:00:00",
          "2024-01-08T00:00:00",
          "2024-01-09T00:00:00",
          "2024-01-10T00:00:00",
          "2024-01-11T00:00:00",
          "2024-01-12T00:00:00",
          "2024-01-13T00:00:00",
          "2024-01-14T00:00:00",
          "2024-01-15T00:00:00",
          "2024-01-16T00:00:00",
          "2024-01-17T00:00:00",
          "2024-01-18T00:00:00",
          "2024-01-19T00:00:00",
          "2024-01-20T00:00:00",
          "2024-01-21T00:00:00",
          "2024-01-22T00:00:00",
          "2024-01-23T00:00:00",
          "2024-01-24T00:00:00",
          "2024-01-25T00:00:00",
          "2024-01-26T00:00:00",
          "2024-01-27T00:00:00",
          "2024-01-28T00:00:00",
          "2024-01-29T00:00:00",
          "2024-01-30T00:00:00",
          "2024-01-31T00:00:00",
          "2024-02-01T00:00:00",
          "2024-02-02T00:00:00",
          "2024-02-03T00:00:00",
          "2024-02-04T00:00:00",
          "2024-02-05T00:00:00",
          "2024-02-06T00:00:00",
          "2024-02-07T00:00:00",
          "2024-02-08T00:00:00",
          "2024-02-09T00:00:00",
          "2024-02-10T00:00:00",
          "2024-02-11T00:00:00",
          "2024-02-12T00:00:00",
          "2024-02-13T00:00:00",
          "2024-02-14T00:00:00",
          "2024-02-15T00:00:00",
          "2024-02-16T00:00:00",
          "2024-02-17T00:00:00",
          "2024-02-18T00:00:00",
          "2024-02-19T00:00:00",
          "2024-02-20T00:00:00",
          "2024-02-21T00:00:00",
          "2024-02-22T00:00:00",
          "2024-02-23T00:00:00",
          "2024-02-24T00:00:00",
          "2024-02-25T00:00:00",
          "2024-02-26T00:00:00",
          "2024-02-27T00:00:00",
          "2024-02-28T00:00:00",
          "2024-02-29T00:00:00",
          "2024-03-01T00:00:00",
          "2024-03-02T00:00:00",
          "2024-03-03T00:00:00",
          "2024-03-04T00:00:00",
          "2024-03-05T00:00:00",
          "2024-03-06T00:00:00",
          "2024-03-07T00:00:00",
          "2024-03-08T00:00:00",
          "2024-03-09T00:00:00",
          "2024-03-10T00:00:00",
          "2024-03-11T00:00:00",
          "2024-03-12T00:00:00",
          "2024-03-13T00:00:00",
          "2024-03-14T00:00:00",
          "2024-03-15T00:00:00",
          "2024-03-16T00:00:00",
          "2024-03-17T00:00:00",
          "2024-03-18T00:00:00",
          "2024-03-19T00:00:00",
          "2024-03-20T00:00:00",
          "2024-03-21T00:00:00",
          "2024-03-22T00:00:00",
          "2024-03-23T00:00:00",
          "2024-03-24T00:00:00",
          "2024-03-25T00:00:00",
          "2024-03-26T00:00:00",
          "2024-03-27T00:00:00",
          "2024-03-28T00:00:00",
          "2024-03-29T00:00:00",
          "2024-03-30T00:00:00",
          "2024-03-31T00:00:00",
          "2024-04-01T00:00:00",
          "2024-04-02T00:00:00",
          "2024-04-03T00:00:00",
          "2024-04-04T00:00:00",
          "2024-04-05T00:00:00",
          "2024-04-06T00:00:00",
          "2024-04-07T00:00:00",
          "2024-04-08T00:00:00",
          "2024-04-09T00:00:00",
          "2024-04-10T00:00:00",
          "2024-04-11T00:00:00",
          "2024-04-12T00:00:00",
          "2024-04-13T00:00:00",
          "2024-04-14T00:00:00",
          "2024-04-15T00:00:00",
          "2024-04-16T00:00:00",
          "2024-04-17T00:00:00",
          "2024-04-18T00:00:00",
          "2024-04-19T00:00:00",
          "2024-04-20T00:00:00",
          "2024-04-21T00:00:00",
          "2024-04-22T00:00:00",
          "2024-04-23T00:00:00",
          "2024-04-24T00:00:00",
          "2024-04-25T00:00:00",
          "2024-04-26T00:00:00",
          "2024-04-27T00:00:00",
          "2024-04-28T00:00:00",
          "2024-04-29T00:00:00",
          "2024-04-30T00:00:00",
          "2024-05-01T00:00:00",
          "2024-05-02T00:00:00",
          "2024-05-03T00:00:00",
          "2024-05-04T00:00:00",
          "2024-05-05T00:00:00",
          "2024-05-06T00:00:00",
          "2024-05-07T00:00:00",
          "2024-05-08T00:00:00",
          "2024-05-09T00:00:00",
          "2024-05-10T00:00:00",
          "2024-05-11T00:00:00",
          "2024-05-12T00:00:00",
          "2024-05-13T00:00:00",
          "2024-05-14T00:00:00",
          "2024-05-15T00:00:00",
          "2024-05-16T00:00:00",
          "2024-05-17T00:00:00",
          "2024-05-18T00:00:00",
          "2024-05-19T00:00:00",
          "2024-05-20T00:00:00",
          "2024-05-21T00:00:00",
          "2024-05-22T00:00:00",
          "2024-05-23T00:00:00",
          "2024-05-24T00:00:00",
          "2024-05-25T00:00:00",
          "2024-05-26T00:00:00",
          "2024-05-27T00:00:00",
          "2024-05-28T00:00:00",
          "2024-05-29T00:00:00",
          "2024-05-30T00:00:00",
          "2024-05-31T00:00:00",
          "2024-06-01T00:00:00",
          "2024-06-02T00:00:00",
          "2024-06-03T00:00:00",
          "2024-06-04T00:00:00",
          "2024-06-05T00:00:00",
          "2024-06-06T00:00:00",
          "2024-06-07T00:00:00",
          "2024-06-08T00:00:00",
          "2024-06-09T00:00:00",
          "2024-06-10T00:00:00",
          "2024-06-11T00:00:00",
          "2024-06-12T00:00:00",
          "2024-06-13T00:00:00",
          "2024-06-14T00:00:00",
          "2024-06-15T00:00:00",
          "2024-06-16T00:00:00",
          "2024-06-17T00:00:00",
          "2024-06-18T00:00:00",
          "2024-06-19T00:00:00",
          "2024-06-20T00:00:00",
          "2024-06-21T00:00:00",
          "2024-06-22T00:00:00",
          "2024-06-23T00:00:00",
          "2024-06-24T00:00:00",
          "2024-06-25T00:00:00",
          "2024-06-26T00:00:00",
          "2024-06-27T00:00:00",
          "2024-06-28T00:00:00",
          "2024-06-29T00:00:00",
          "2024-06-30T00:00:00",
          "2024-07-01T00:00:00",
          "2024-07-02T00:00:00",
          "2024-07-03T00:00:00",
          "2024-07-04T00:00:00",
          "2024-07-05T00:00:00",
          "2024-07-06T00:00:00",
          "2024-07-07T00:00:00",
          "2024-07-08T00:00:00",
          "2024-07-09T00:00:00",
          "2024-07-10T00:00:00",
          "2024-07-11T00:00:00",
          "2024-07-12T00:00:00",
          "2024-07-13T00:00:00",
          "2024-07-14T00:00:00",
          "2024-07-15T00:00:00",
          "2024-07-16T00:00:00",
          "2024-07-17T00:00:00",
          "2024-07-18T00:00:00",
          "2024-07-19T00:00:00",
          "2024-07-20T00:00:00",
          "2024-07-21T00:00:00",
          "2024-07-22T00:00:00",
          "2024-07-23T00:00:00",
          "2024-07-24T00:00:00",
          "2024-07-25T00:00:00",
          "2024-07-26T00:00:00",
          "2024-07-27T00:00:00",
          "2024-07-28T00:00:00",
          "2024-07-29T00:00:00",
          "2024-07-30T00:00:00",
          "2024-07-31T00:00:00",
          "2024-08-01T00:00:00",
          "2024-08-02T00:00:00",
          "2024-08-03T00:00:00",
          "2024-08-04T00:00:00",
          "2024-08-05T00:00:00",
          "2024-08-06T00:00:00",
          "2024-08-07T00:00:00",
          "2024-08-08T00:00:00",
          "2024-08-09T00:00:00",
          "2024-08-10T00:00:00",
          "2024-08-11T00:00:00",
          "2024-08-12T00:00:00",
          "2024-08-13T00:00:00",
          "2024-08-14T00:00:00",
          "2024-08-15T00:00:00",
          "2024-08-16T00:00:00",
          "2024-08-17T00:00:00",
          "2024-08-18T00:00:00",
          "2024-08-19T00:00:00",
          "2024-08-20T00:00:00",
          "2024-08-21T00:00:00",
          "2024-08-22T00:00:00",
          "2024-08-23T00:00:00",
          "2024-08-24T00:00:00",
          "2024-08-25T00:00:00",
          "2024-08-26T00:00:00",
          "2024-08-27T00:00:00",
          "2024-08-28T00:00:00",
          "2024-08-29T00:00:00",
          "2024-08-30T00:00:00",
          "2024-08-31T00:00:00",
          "2024-09-01T00:00:00",
          "2024-09-02T00:00:00",
          "2024-09-03T00:00:00",
          "2024-09-04T00:00:00",
          "2024-09-05T00:00:00",
          "2024-09-06T00:00:00",
          "2024-09-07T00:00:00",
          "2024-09-08T00:00:00",
          "2024-09-09T00:00:00",
          "2024-09-10T00:00:00",
          "2024-09-11T00:00:00",
          "2024-09-12T00:00:00",
          "2024-09-13T00:00:00",
          "2024-09-14T00:00:00",
          "2024-09-15T00:00:00",
          "2024-09-16T00:00:00",
          "2024-09-17T00:00:00",
          "2024-09-18T00:00:00",
          "2024-09-19T00:00:00",
          "2024-09-20T00:00:00",
          "2024-09-21T00:00:00",
          "2024-09-22T00:00:00",
          "2024-09-23T00:00:00",
          "2024-09-24T00:00:00",
          "2024-09-25T00:00:00",
          "2024-09-26T00:00:00",
          "2024-09-27T00:00:00",
          "2024-09-28T00:00:00",
          "2024-09-29T00:00:00",
          "2024-09-30T00:00:00",
          "2024-10-01T00:00:00",
          "2024-10-02T00:00:00",
          "2024-10-03T00:00:00",
          "2024-10-04T00:00:00",
          "2024-10-05T00:00:00",
          "2024-10-06T00:00:00",
          "2024-10-07T00:00:00",
          "2024-10-08T00:00:00",
          "2024-10-09T00:00:00",
          "2024-10-10T00:00:00",
          "2024-10-11T00:00:00",
          "2024-10-12T00:00:00",
          "2024-10-13T00:00:00",
          "2024-10-14T00:00:00",
          "2024-10-15T00:00:00",
          "2024-10-16T00:00:00",
          "2024-10-17T00:00:00",
          "2024-10-18T00:00:00",
          "2024-10-19T00:00:00",
          "2024-10-20T00:00:00",
          "2024-10-21T00:00:00",
          "2024-10-22T00:00:00",
          "2024-10-23T00:00:00",
          "2024-10-24T00:00:00",
          "2024-10-25T00:00:00",
          "2024-10-26T00:00:00",
          "2024-10-27T00:00:00",
          "2024-10-28T00:00:00",
          "2024-10-29T00:00:00",
          "2024-10-30T00:00:00",
          "2024-10-31T00:00:00",
          "2024-11-01T00:00:00",
          "2024-11-02T00:00:00",
          "2024-11-03T00:00:00",
          "2024-11-04T00:00:00",
          "2024-11-05T00:00:00",
          "2024-11-06T00:00:00",
          "2024-11-07T00:00:00",
          "2024-11-08T00:00:00",
          "2024-11-09T00:00:00",
          "2024-11-10T00:00:00",
          "2024-11-11T00:00:00",
          "2024-11-12T00:00:00",
          "2024-11-13T00:00:00",
          "2024-11-14T00:00:00",
          "2024-11-15T00:00:00",
          "2024-11-16T00:00:00",
          "2024-11-17T00:00:00",
          "2024-11-18T00:00:00",
          "2024-11-19T00:00:00",
          "2024-11-20T00:00:00",
          "2024-11-21T00:00:00",
          "2024-11-22T00:00:00",
          "2024-11-23T00:00:00",
          "2024-11-24T00:00:00",
          "2024-11-25T00:00:00",
          "2024-11-26T00:00:00",
          "2024-11-27T00:00:00",
          "2024-11-28T00:00:00",
          "2024-11-29T00:00:00",
          "2024-11-30T00:00:00",
          "2024-12-01T00:00:00",
          "2024-12-02T00:00:00",
          "2024-12-03T00:00:00",
          "2024-12-04T00:00:00",
          "2024-12-05T00:00:00",
          "2024-12-06T00:00:00",
          "2024-12-07T00:00:00",
          "2024-12-08T00:00:00",
          "2024-12-09T00:00:00",
          "2024-12-10T00:00:00",
          "2024-12-11T00:00:00",
          "2024-12-12T00:00:00",
          "2024-12-13T00:00:00",
          "2024-12-14T00:00:00",
          "2024-12-15T00:00:00",
          "2024-12-16T00:00:00",
          "2024-12-17T00:00:00",
          "2024-12-18T00:00:00",
          "2024-12-19T00:00:00",
          "2024-12-20T00:00:00",
          "2024-12-21T00:00:00",
          "2024-12-22T00:00:00",
          "2024-12-23T00:00:00",
          "2024-12-24T00:00:00",
          "2024-12-25T00:00:00",
          "2024-12-26T00:00:00",
          "2024-12-27T00:00:00",
          "2024-12-28T00:00:00",
          "2024-12-29T00:00:00",
          "2024-12-30T00:00:00",
          "2024-12-31T00:00:00",
          "2025-01-01T00:00:00",
          "2025-01-02T00:00:00",
          "2025-01-03T00:00:00",
          "2025-01-04T00:00:00",
          "2025-01-05T00:00:00",
          "2025-01-06T00:00:00",
          "2025-01-07T00:00:00",
          "2025-01-08T00:00:00",
          "2025-01-09T00:00:00",
          "2025-01-10T00:00:00",
          "2025-01-11T00:00:00",
          "2025-01-12T00:00:00",
          "2025-01-13T00:00:00",
          "2025-01-14T00:00:00",
          "2025-01-15T00:00:00",
          "2025-01-16T00:00:00",
          "2025-01-17T00:00:00",
          "2025-01-18T00:00:00",
          "2025-01-19T00:00:00",
          "2025-01-20T00:00:00",
          "2025-01-21T00:00:00",
          "2025-01-22T00:00:00",
          "2025-01-23T00:00:00",
          "2025-01-24T00:00:00",
          "2025-01-25T00:00:00",
          "2025-01-26T00:00:00",
          "2025-01-27T00:00:00",
          "2025-01-28T00:00:00",
          "2025-01-29T00:00:00",
          "2025-01-30T00:00:00",
          "2025-01-31T00:00:00",
          "2025-02-01T00:00:00",
          "2025-02-02T00:00:00",
          "2025-02-03T00:00:00",
          "2025-02-04T00:00:00",
          "2025-02-05T00:00:00",
          "2025-02-06T00:00:00",
          "2025-02-07T00:00:00",
          "2025-02-08T00:00:00",
          "2025-02-09T00:00:00",
          "2025-02-10T00:00:00",
          "2025-02-11T00:00:00",
          "2025-02-12T00:00:00",
          "2025-02-13T00:00:00",
          "2025-02-14T00:00:00",
          "2025-02-15T00:00:00",
          "2025-02-16T00:00:00",
          "2025-02-17T00:00:00",
          "2025-02-18T00:00:00",
          "2025-02-19T00:00:00",
          "2025-02-20T00:00:00",
          "2025-02-21T00:00:00",
          "2025-02-22T00:00:00",
          "2025-02-23T00:00:00",
          "2025-02-24T00:00:00",
          "2025-02-25T00:00:00",
          "2025-02-26T00:00:00",
          "2025-02-27T00:00:00",
          "2025-02-28T00:00:00",
          "2025-03-01T00:00:00",
          "2025-03-02T00:00:00",
          "2025-03-03T00:00:00",
          "2025-03-04T00:00:00",
          "2025-03-05T00:00:00",
          "2025-03-06T00:00:00",
          "2025-03-07T00:00:00",
          "2025-03-08T00:00:00",
          "2025-03-09T00:00:00",
          "2025-03-10T00:00:00",
          "2025-03-11T00:00:00",
          "2025-03-12T00:00:00",
          "2025-03-13T00:00:00",
          "2025-03-14T00:00:00",
          "2025-03-15T00:00:00",
          "2025-03-16T00:00:00",
          "2025-03-17T00:00:00",
          "2025-03-18T00:00:00",
          "2025-03-19T00:00:00",
          "2025-03-20T00:00:00"
         ],
         "xaxis": "x",
         "y": [
          27061.363,
          27191.938,
          27061.363,
          27590.773,
          27981.857,
          27557.117,
          27557.117,
          27557.117,
          27620.576,
          28045.316,
          28045.316,
          27981.857,
          27557.117,
          27221.74,
          26541.76,
          27191.938,
          27191.938,
          27061.363,
          28040.357,
          27898.354,
          28579.102,
          28572.87,
          29369.244,
          29660.795,
          30042.486,
          31568.54,
          34105.145,
          34832.082,
          34699.363,
          34763.1,
          34699.363,
          34832.082,
          34832.082,
          34832.082,
          34702.992,
          34983.617,
          34702.992,
          34702.992,
          34702.992,
          34702.992,
          34702.992,
          35085.695,
          35694.816,
          38078.492,
          38564.574,
          38321.918,
          36372.434,
          35329.215,
          36719.29,
          36369.098,
          34709.598,
          35821.95,
          38078.492,
          38871.633,
          36716.52,
          37146.93,
          38871.633,
          38871.633,
          39109.914,
          38625.64,
          38564.574,
          38657.453,
          38654.117,
          38654.117,
          37531.598,
          38504.305,
          39662.926,
          41257.848,
          44099.613,
          43005.363,
          41458.75,
          43573.64,
          43005.363,
          41413.457,
          40189.31,
          41698.13,
          41650.91,
          42307.754,
          42418.29,
          42903.938,
          41429.33,
          42756.105,
          42696.65,
          42734.457,
          42630.76,
          43791.95,
          43005.363,
          40270.453,
          43450.758,
          41375.65,
          42779.75,
          42377.965,
          41701.99,
          41909.277,
          42903.938,
          43892.324,
          44790.79,
          44349.89,
          43277.023,
          44163.23,
          44163.23,
          44163.23,
          45330.695,
          45818.664,
          47053.76,
          46455.402,
          44226.58,
          42081.348,
          41150.996,
          42756.105,
          42779.75,
          42377.965,
          40814.027,
          41825.754,
          41825.754,
          41825.754,
          40312.824,
          39900.77,
          40349.04,
          39498.18,
          41257.848,
          41909.277,
          41909.277,
          42987.04,
          41272.77,
          43412.95,
          42779.75,
          42461.066,
          41272.77,
          43412.95,
          42696.65,
          42779.75,
          43573.64,
          44790.79,
          46895.66,
          48006.723,
          48536.285,
          48210.223,
          49012.242,
          53039.51,
          53100.2,
          53100.2,
          53100.2,
          53100.2,
          53100.2,
          53100.2,
          53100.2,
          51052.78,
          49743.785,
          52943.152,
          53100.2,
          52025.72,
          55803.87,
          59562.2,
          61476.367,
          62495.043,
          62160.3,
          63290.98,
          64186.367,
          63555.16,
          64494.902,
          64149.266,
          64149.266,
          64149.266,
          64149.266,
          64149.266,
          64149.266,
          64149.266,
          64149.266,
          64149.266,
          64149.266,
          64149.266,
          64149.266,
          61440.51,
          64869.055,
          64149.266,
          63555.16,
          63900.797,
          64494.902,
          64149.266,
          64149.266,
          64149.266,
          64149.266,
          64149.266,
          64149.266,
          64149.266,
          64149.266,
          64149.266,
          64149.266,
          64149.266,
          64149.266,
          64149.266,
          64149.266,
          64149.266,
          64149.266,
          64149.266,
          64149.266,
          64149.266,
          63555.16,
          64494.902,
          62571.19,
          63592.26,
          61102.215,
          63625.723,
          63592.26,
          64494.902,
          64149.266,
          64149.266,
          64149.266,
          63555.16,
          63900.797,
          63900.797,
          62916.83,
          62608.293,
          63592.26,
          60875.715,
          58836.49,
          57294.117,
          59808.367,
          64274.95,
          63900.797,
          62916.83,
          61477.613,
          61476.367,
          63625.723,
          60567.18,
          60300.67,
          61073.395,
          62787.28,
          62022.59,
          65496.035,
          64149.266,
          64149.266,
          64149.266,
          64149.266,
          64149.266,
          64149.266,
          64149.266,
          64149.266,
          64149.266,
          64149.266,
          64149.266,
          64149.266,
          64149.266,
          64149.266,
          64149.266,
          64149.266,
          64149.266,
          64149.266,
          64149.266,
          64149.266,
          64149.266,
          64149.266,
          64149.266,
          64149.266,
          64149.266,
          64149.266,
          64149.266,
          64149.266,
          64149.266,
          64149.266,
          64149.266,
          64149.266,
          64149.266,
          64149.266,
          64149.266,
          64149.266,
          63555.16,
          63900.797,
          62916.83,
          59602.23,
          61249.3,
          61876.848,
          61073.395,
          61876.848,
          60527.17,
          62495.043,
          62160.3,
          62160.3,
          60284.918,
          59126.887,
          54239.23,
          55917.22,
          58181.58,
          53382.477,
          54608.44,
          59117.92,
          58784.7,
          57532.96,
          57350.996,
          58897.934,
          63325.754,
          64494.902,
          63555.16,
          63900.797,
          64494.902,
          64149.266,
          64149.266,
          64149.266,
          64149.266,
          64149.266,
          64149.266,
          64149.266,
          64149.266,
          64149.266,
          64149.266,
          64149.266,
          63555.16,
          64494.902,
          61302.8,
          61876.848,
          59769.836,
          55399.863,
          54260.51,
          56312.98,
          59561.816,
          61876.848,
          60527.17,
          60120.426,
          57294.117,
          58897.934,
          58836.49,
          59061.043,
          58283.207,
          56333.94,
          57433.75,
          57294.117,
          56155.19,
          59124.434,
          61584.61,
          63325.754,
          63900.797,
          63900.797,
          61786.15,
          58507.125,
          56155.19,
          56155.19,
          56155.19,
          56155.19,
          57908.29,
          56629.832,
          57922.117,
          57934.73,
          57200.688,
          53531.266,
          52841.363,
          54551.242,
          57977.48,
          57675.95,
          58784.7,
          58841.74,
          60093.74,
          59335.723,
          57733.836,
          58367.098,
          59128.79,
          61249.3,
          62787.28,
          63290.98,
          62608.293,
          63592.26,
          62916.83,
          63592.26,
          62916.83,
          64186.367,
          64149.266,
          64149.266,
          64149.266,
          62571.19,
          60567.18,
          60300.67,
          60300.67,
          61211.105,
          62160.3,
          62160.3,
          62160.3,
          62160.3,
          61249.867,
          59335.723,
          61387.01,
          63290.98,
          61477.613,
          64869.055,
          64149.266,
          64149.266,
          64149.266,
          64149.266,
          64149.266,
          64149.266,
          64149.266,
          64149.266,
          64149.266,
          64149.266,
          64149.266,
          64149.266,
          64149.266,
          64149.266,
          64149.266,
          64149.266,
          64149.266,
          64149.266,
          64149.266,
          64149.266,
          64149.266,
          64149.266,
          64149.266,
          64149.266,
          64149.266,
          64149.266,
          64149.266,
          64149.266,
          64149.266,
          64149.266,
          64149.266,
          64149.266,
          64149.266,
          64149.266,
          64149.266,
          64149.266,
          64149.266,
          64149.266,
          64149.266,
          64149.266,
          64149.266,
          64149.266,
          64149.266,
          64149.266,
          64149.266,
          64149.266,
          64149.266,
          64149.266,
          64149.266,
          64149.266,
          64149.266,
          64149.266,
          64149.266,
          64149.266,
          64149.266,
          64149.266,
          64149.266,
          64149.266,
          64149.266,
          64149.266,
          64149.266,
          64149.266,
          64149.266,
          64149.266,
          64149.266,
          64149.266,
          64149.266,
          64149.266,
          64149.266,
          64149.266,
          64149.266,
          64149.266,
          64149.266,
          64149.266,
          64149.266,
          64149.266,
          64149.266,
          64149.266,
          64149.266,
          64149.266,
          64149.266,
          64149.266,
          64149.266,
          64149.266,
          64149.266,
          64149.266,
          64149.266,
          64149.266,
          64149.266,
          64149.266,
          64149.266,
          64149.266,
          64149.266,
          64149.266,
          64149.266,
          64149.266,
          64149.266,
          64149.266,
          64149.266,
          64149.266,
          64149.266,
          64149.266,
          64149.266,
          64149.266,
          64149.266,
          64149.266,
          64149.266,
          64149.266,
          64149.266,
          64149.266,
          64149.266,
          64149.266,
          64149.266,
          64149.266,
          64149.266,
          64149.266,
          64149.266,
          64149.266,
          64149.266,
          64149.266,
          64149.266,
          64149.266,
          64149.266,
          64149.266,
          64149.266,
          64149.266,
          64149.266,
          64149.266,
          64149.266,
          64149.266,
          64149.266,
          64149.266,
          64149.266,
          64149.266,
          64149.266,
          64149.266,
          64149.266,
          64149.266,
          64149.266,
          64149.266,
          64149.266,
          64149.266,
          64149.266,
          64149.266,
          64149.266,
          64149.266,
          64149.266,
          64149.266,
          64149.266,
          64149.266,
          64149.266,
          64149.266,
          64149.266,
          64149.266,
          64149.266,
          64149.266
         ],
         "yaxis": "y"
        }
       ],
       "layout": {
        "legend": {
         "title": {
          "text": "variable"
         },
         "tracegroupgap": 0
        },
        "margin": {
         "t": 60
        },
        "template": {
         "data": {
          "bar": [
           {
            "error_x": {
             "color": "#f2f5fa"
            },
            "error_y": {
             "color": "#f2f5fa"
            },
            "marker": {
             "line": {
              "color": "rgb(17,17,17)",
              "width": 0.5
             },
             "pattern": {
              "fillmode": "overlay",
              "size": 10,
              "solidity": 0.2
             }
            },
            "type": "bar"
           }
          ],
          "barpolar": [
           {
            "marker": {
             "line": {
              "color": "rgb(17,17,17)",
              "width": 0.5
             },
             "pattern": {
              "fillmode": "overlay",
              "size": 10,
              "solidity": 0.2
             }
            },
            "type": "barpolar"
           }
          ],
          "carpet": [
           {
            "aaxis": {
             "endlinecolor": "#A2B1C6",
             "gridcolor": "#506784",
             "linecolor": "#506784",
             "minorgridcolor": "#506784",
             "startlinecolor": "#A2B1C6"
            },
            "baxis": {
             "endlinecolor": "#A2B1C6",
             "gridcolor": "#506784",
             "linecolor": "#506784",
             "minorgridcolor": "#506784",
             "startlinecolor": "#A2B1C6"
            },
            "type": "carpet"
           }
          ],
          "choropleth": [
           {
            "colorbar": {
             "outlinewidth": 0,
             "ticks": ""
            },
            "type": "choropleth"
           }
          ],
          "contour": [
           {
            "colorbar": {
             "outlinewidth": 0,
             "ticks": ""
            },
            "colorscale": [
             [
              0,
              "#0d0887"
             ],
             [
              0.1111111111111111,
              "#46039f"
             ],
             [
              0.2222222222222222,
              "#7201a8"
             ],
             [
              0.3333333333333333,
              "#9c179e"
             ],
             [
              0.4444444444444444,
              "#bd3786"
             ],
             [
              0.5555555555555556,
              "#d8576b"
             ],
             [
              0.6666666666666666,
              "#ed7953"
             ],
             [
              0.7777777777777778,
              "#fb9f3a"
             ],
             [
              0.8888888888888888,
              "#fdca26"
             ],
             [
              1,
              "#f0f921"
             ]
            ],
            "type": "contour"
           }
          ],
          "contourcarpet": [
           {
            "colorbar": {
             "outlinewidth": 0,
             "ticks": ""
            },
            "type": "contourcarpet"
           }
          ],
          "heatmap": [
           {
            "colorbar": {
             "outlinewidth": 0,
             "ticks": ""
            },
            "colorscale": [
             [
              0,
              "#0d0887"
             ],
             [
              0.1111111111111111,
              "#46039f"
             ],
             [
              0.2222222222222222,
              "#7201a8"
             ],
             [
              0.3333333333333333,
              "#9c179e"
             ],
             [
              0.4444444444444444,
              "#bd3786"
             ],
             [
              0.5555555555555556,
              "#d8576b"
             ],
             [
              0.6666666666666666,
              "#ed7953"
             ],
             [
              0.7777777777777778,
              "#fb9f3a"
             ],
             [
              0.8888888888888888,
              "#fdca26"
             ],
             [
              1,
              "#f0f921"
             ]
            ],
            "type": "heatmap"
           }
          ],
          "heatmapgl": [
           {
            "colorbar": {
             "outlinewidth": 0,
             "ticks": ""
            },
            "colorscale": [
             [
              0,
              "#0d0887"
             ],
             [
              0.1111111111111111,
              "#46039f"
             ],
             [
              0.2222222222222222,
              "#7201a8"
             ],
             [
              0.3333333333333333,
              "#9c179e"
             ],
             [
              0.4444444444444444,
              "#bd3786"
             ],
             [
              0.5555555555555556,
              "#d8576b"
             ],
             [
              0.6666666666666666,
              "#ed7953"
             ],
             [
              0.7777777777777778,
              "#fb9f3a"
             ],
             [
              0.8888888888888888,
              "#fdca26"
             ],
             [
              1,
              "#f0f921"
             ]
            ],
            "type": "heatmapgl"
           }
          ],
          "histogram": [
           {
            "marker": {
             "pattern": {
              "fillmode": "overlay",
              "size": 10,
              "solidity": 0.2
             }
            },
            "type": "histogram"
           }
          ],
          "histogram2d": [
           {
            "colorbar": {
             "outlinewidth": 0,
             "ticks": ""
            },
            "colorscale": [
             [
              0,
              "#0d0887"
             ],
             [
              0.1111111111111111,
              "#46039f"
             ],
             [
              0.2222222222222222,
              "#7201a8"
             ],
             [
              0.3333333333333333,
              "#9c179e"
             ],
             [
              0.4444444444444444,
              "#bd3786"
             ],
             [
              0.5555555555555556,
              "#d8576b"
             ],
             [
              0.6666666666666666,
              "#ed7953"
             ],
             [
              0.7777777777777778,
              "#fb9f3a"
             ],
             [
              0.8888888888888888,
              "#fdca26"
             ],
             [
              1,
              "#f0f921"
             ]
            ],
            "type": "histogram2d"
           }
          ],
          "histogram2dcontour": [
           {
            "colorbar": {
             "outlinewidth": 0,
             "ticks": ""
            },
            "colorscale": [
             [
              0,
              "#0d0887"
             ],
             [
              0.1111111111111111,
              "#46039f"
             ],
             [
              0.2222222222222222,
              "#7201a8"
             ],
             [
              0.3333333333333333,
              "#9c179e"
             ],
             [
              0.4444444444444444,
              "#bd3786"
             ],
             [
              0.5555555555555556,
              "#d8576b"
             ],
             [
              0.6666666666666666,
              "#ed7953"
             ],
             [
              0.7777777777777778,
              "#fb9f3a"
             ],
             [
              0.8888888888888888,
              "#fdca26"
             ],
             [
              1,
              "#f0f921"
             ]
            ],
            "type": "histogram2dcontour"
           }
          ],
          "mesh3d": [
           {
            "colorbar": {
             "outlinewidth": 0,
             "ticks": ""
            },
            "type": "mesh3d"
           }
          ],
          "parcoords": [
           {
            "line": {
             "colorbar": {
              "outlinewidth": 0,
              "ticks": ""
             }
            },
            "type": "parcoords"
           }
          ],
          "pie": [
           {
            "automargin": true,
            "type": "pie"
           }
          ],
          "scatter": [
           {
            "marker": {
             "line": {
              "color": "#283442"
             }
            },
            "type": "scatter"
           }
          ],
          "scatter3d": [
           {
            "line": {
             "colorbar": {
              "outlinewidth": 0,
              "ticks": ""
             }
            },
            "marker": {
             "colorbar": {
              "outlinewidth": 0,
              "ticks": ""
             }
            },
            "type": "scatter3d"
           }
          ],
          "scattercarpet": [
           {
            "marker": {
             "colorbar": {
              "outlinewidth": 0,
              "ticks": ""
             }
            },
            "type": "scattercarpet"
           }
          ],
          "scattergeo": [
           {
            "marker": {
             "colorbar": {
              "outlinewidth": 0,
              "ticks": ""
             }
            },
            "type": "scattergeo"
           }
          ],
          "scattergl": [
           {
            "marker": {
             "line": {
              "color": "#283442"
             }
            },
            "type": "scattergl"
           }
          ],
          "scattermapbox": [
           {
            "marker": {
             "colorbar": {
              "outlinewidth": 0,
              "ticks": ""
             }
            },
            "type": "scattermapbox"
           }
          ],
          "scatterpolar": [
           {
            "marker": {
             "colorbar": {
              "outlinewidth": 0,
              "ticks": ""
             }
            },
            "type": "scatterpolar"
           }
          ],
          "scatterpolargl": [
           {
            "marker": {
             "colorbar": {
              "outlinewidth": 0,
              "ticks": ""
             }
            },
            "type": "scatterpolargl"
           }
          ],
          "scatterternary": [
           {
            "marker": {
             "colorbar": {
              "outlinewidth": 0,
              "ticks": ""
             }
            },
            "type": "scatterternary"
           }
          ],
          "surface": [
           {
            "colorbar": {
             "outlinewidth": 0,
             "ticks": ""
            },
            "colorscale": [
             [
              0,
              "#0d0887"
             ],
             [
              0.1111111111111111,
              "#46039f"
             ],
             [
              0.2222222222222222,
              "#7201a8"
             ],
             [
              0.3333333333333333,
              "#9c179e"
             ],
             [
              0.4444444444444444,
              "#bd3786"
             ],
             [
              0.5555555555555556,
              "#d8576b"
             ],
             [
              0.6666666666666666,
              "#ed7953"
             ],
             [
              0.7777777777777778,
              "#fb9f3a"
             ],
             [
              0.8888888888888888,
              "#fdca26"
             ],
             [
              1,
              "#f0f921"
             ]
            ],
            "type": "surface"
           }
          ],
          "table": [
           {
            "cells": {
             "fill": {
              "color": "#506784"
             },
             "line": {
              "color": "rgb(17,17,17)"
             }
            },
            "header": {
             "fill": {
              "color": "#2a3f5f"
             },
             "line": {
              "color": "rgb(17,17,17)"
             }
            },
            "type": "table"
           }
          ]
         },
         "layout": {
          "annotationdefaults": {
           "arrowcolor": "#f2f5fa",
           "arrowhead": 0,
           "arrowwidth": 1
          },
          "autotypenumbers": "strict",
          "coloraxis": {
           "colorbar": {
            "outlinewidth": 0,
            "ticks": ""
           }
          },
          "colorscale": {
           "diverging": [
            [
             0,
             "#8e0152"
            ],
            [
             0.1,
             "#c51b7d"
            ],
            [
             0.2,
             "#de77ae"
            ],
            [
             0.3,
             "#f1b6da"
            ],
            [
             0.4,
             "#fde0ef"
            ],
            [
             0.5,
             "#f7f7f7"
            ],
            [
             0.6,
             "#e6f5d0"
            ],
            [
             0.7,
             "#b8e186"
            ],
            [
             0.8,
             "#7fbc41"
            ],
            [
             0.9,
             "#4d9221"
            ],
            [
             1,
             "#276419"
            ]
           ],
           "sequential": [
            [
             0,
             "#0d0887"
            ],
            [
             0.1111111111111111,
             "#46039f"
            ],
            [
             0.2222222222222222,
             "#7201a8"
            ],
            [
             0.3333333333333333,
             "#9c179e"
            ],
            [
             0.4444444444444444,
             "#bd3786"
            ],
            [
             0.5555555555555556,
             "#d8576b"
            ],
            [
             0.6666666666666666,
             "#ed7953"
            ],
            [
             0.7777777777777778,
             "#fb9f3a"
            ],
            [
             0.8888888888888888,
             "#fdca26"
            ],
            [
             1,
             "#f0f921"
            ]
           ],
           "sequentialminus": [
            [
             0,
             "#0d0887"
            ],
            [
             0.1111111111111111,
             "#46039f"
            ],
            [
             0.2222222222222222,
             "#7201a8"
            ],
            [
             0.3333333333333333,
             "#9c179e"
            ],
            [
             0.4444444444444444,
             "#bd3786"
            ],
            [
             0.5555555555555556,
             "#d8576b"
            ],
            [
             0.6666666666666666,
             "#ed7953"
            ],
            [
             0.7777777777777778,
             "#fb9f3a"
            ],
            [
             0.8888888888888888,
             "#fdca26"
            ],
            [
             1,
             "#f0f921"
            ]
           ]
          },
          "colorway": [
           "#636efa",
           "#EF553B",
           "#00cc96",
           "#ab63fa",
           "#FFA15A",
           "#19d3f3",
           "#FF6692",
           "#B6E880",
           "#FF97FF",
           "#FECB52"
          ],
          "font": {
           "color": "#f2f5fa"
          },
          "geo": {
           "bgcolor": "rgb(17,17,17)",
           "lakecolor": "rgb(17,17,17)",
           "landcolor": "rgb(17,17,17)",
           "showlakes": true,
           "showland": true,
           "subunitcolor": "#506784"
          },
          "hoverlabel": {
           "align": "left"
          },
          "hovermode": "closest",
          "mapbox": {
           "style": "dark"
          },
          "paper_bgcolor": "rgb(17,17,17)",
          "plot_bgcolor": "rgb(17,17,17)",
          "polar": {
           "angularaxis": {
            "gridcolor": "#506784",
            "linecolor": "#506784",
            "ticks": ""
           },
           "bgcolor": "rgb(17,17,17)",
           "radialaxis": {
            "gridcolor": "#506784",
            "linecolor": "#506784",
            "ticks": ""
           }
          },
          "scene": {
           "xaxis": {
            "backgroundcolor": "rgb(17,17,17)",
            "gridcolor": "#506784",
            "gridwidth": 2,
            "linecolor": "#506784",
            "showbackground": true,
            "ticks": "",
            "zerolinecolor": "#C8D4E3"
           },
           "yaxis": {
            "backgroundcolor": "rgb(17,17,17)",
            "gridcolor": "#506784",
            "gridwidth": 2,
            "linecolor": "#506784",
            "showbackground": true,
            "ticks": "",
            "zerolinecolor": "#C8D4E3"
           },
           "zaxis": {
            "backgroundcolor": "rgb(17,17,17)",
            "gridcolor": "#506784",
            "gridwidth": 2,
            "linecolor": "#506784",
            "showbackground": true,
            "ticks": "",
            "zerolinecolor": "#C8D4E3"
           }
          },
          "shapedefaults": {
           "line": {
            "color": "#f2f5fa"
           }
          },
          "sliderdefaults": {
           "bgcolor": "#C8D4E3",
           "bordercolor": "rgb(17,17,17)",
           "borderwidth": 1,
           "tickwidth": 0
          },
          "ternary": {
           "aaxis": {
            "gridcolor": "#506784",
            "linecolor": "#506784",
            "ticks": ""
           },
           "baxis": {
            "gridcolor": "#506784",
            "linecolor": "#506784",
            "ticks": ""
           },
           "bgcolor": "rgb(17,17,17)",
           "caxis": {
            "gridcolor": "#506784",
            "linecolor": "#506784",
            "ticks": ""
           }
          },
          "title": {
           "x": 0.05
          },
          "updatemenudefaults": {
           "bgcolor": "#506784",
           "borderwidth": 0
          },
          "xaxis": {
           "automargin": true,
           "gridcolor": "#283442",
           "linecolor": "#506784",
           "ticks": "",
           "title": {
            "standoff": 15
           },
           "zerolinecolor": "#283442",
           "zerolinewidth": 2
          },
          "yaxis": {
           "automargin": true,
           "gridcolor": "#283442",
           "linecolor": "#506784",
           "ticks": "",
           "title": {
            "standoff": 15
           },
           "zerolinecolor": "#283442",
           "zerolinewidth": 2
          }
         }
        },
        "xaxis": {
         "anchor": "y",
         "domain": [
          0,
          1
         ],
         "title": {
          "text": "timestamp"
         }
        },
        "yaxis": {
         "anchor": "x",
         "domain": [
          0,
          1
         ],
         "title": {
          "text": "close price $"
         }
        }
       }
      }
     },
     "metadata": {},
     "output_type": "display_data"
    }
   ],
   "source": [
    "tuned_xgb = xgb_exp.tune_model(xgb_model)\n",
    "\n",
    "y_pred_tuned = xgb_exp.predict_model(tuned_xgb)\n",
    "\n",
    "fig = px.line(y_pred_tuned, y=['close', 'prediction_label'], template='plotly_dark', labels={\"value\" : \"close price $\"})\n",
    "\n",
    "fig.show()\n"
   ]
  },
  {
   "cell_type": "code",
   "execution_count": 152,
   "id": "fa24edfa",
   "metadata": {},
   "outputs": [
    {
     "data": {
      "text/html": [
       "<style type=\"text/css\">\n",
       "</style>\n",
       "<table id=\"T_e7f11\">\n",
       "  <thead>\n",
       "    <tr>\n",
       "      <th class=\"blank level0\" >&nbsp;</th>\n",
       "      <th id=\"T_e7f11_level0_col0\" class=\"col_heading level0 col0\" >Model</th>\n",
       "      <th id=\"T_e7f11_level0_col1\" class=\"col_heading level0 col1\" >MAE</th>\n",
       "      <th id=\"T_e7f11_level0_col2\" class=\"col_heading level0 col2\" >MSE</th>\n",
       "      <th id=\"T_e7f11_level0_col3\" class=\"col_heading level0 col3\" >RMSE</th>\n",
       "      <th id=\"T_e7f11_level0_col4\" class=\"col_heading level0 col4\" >R2</th>\n",
       "      <th id=\"T_e7f11_level0_col5\" class=\"col_heading level0 col5\" >RMSLE</th>\n",
       "      <th id=\"T_e7f11_level0_col6\" class=\"col_heading level0 col6\" >MAPE</th>\n",
       "    </tr>\n",
       "  </thead>\n",
       "  <tbody>\n",
       "    <tr>\n",
       "      <th id=\"T_e7f11_level0_row0\" class=\"row_heading level0 row0\" >0</th>\n",
       "      <td id=\"T_e7f11_row0_col0\" class=\"data row0 col0\" >Extreme Gradient Boosting</td>\n",
       "      <td id=\"T_e7f11_row0_col1\" class=\"data row0 col1\" >1209.2119</td>\n",
       "      <td id=\"T_e7f11_row0_col2\" class=\"data row0 col2\" >2860261.0000</td>\n",
       "      <td id=\"T_e7f11_row0_col3\" class=\"data row0 col3\" >1691.2306</td>\n",
       "      <td id=\"T_e7f11_row0_col4\" class=\"data row0 col4\" >0.9934</td>\n",
       "      <td id=\"T_e7f11_row0_col5\" class=\"data row0 col5\" >0.0252</td>\n",
       "      <td id=\"T_e7f11_row0_col6\" class=\"data row0 col6\" >0.0186</td>\n",
       "    </tr>\n",
       "  </tbody>\n",
       "</table>\n"
      ],
      "text/plain": [
       "<pandas.io.formats.style.Styler at 0x320faf730>"
      ]
     },
     "metadata": {},
     "output_type": "display_data"
    },
    {
     "data": {
      "application/vnd.plotly.v1+json": {
       "config": {
        "plotlyServerURL": "https://plot.ly"
       },
       "data": [
        {
         "hovertemplate": "variable=close<br>timestamp=%{x}<br>close price $=%{y}<extra></extra>",
         "legendgroup": "close",
         "line": {
          "color": "#636efa",
          "dash": "solid"
         },
         "marker": {
          "symbol": "circle"
         },
         "mode": "lines",
         "name": "close",
         "showlegend": true,
         "type": "scattergl",
         "x": [
          "2023-09-29T00:00:00",
          "2023-09-30T00:00:00",
          "2023-10-01T00:00:00",
          "2023-10-02T00:00:00",
          "2023-10-03T00:00:00",
          "2023-10-04T00:00:00",
          "2023-10-05T00:00:00",
          "2023-10-06T00:00:00",
          "2023-10-07T00:00:00",
          "2023-10-08T00:00:00",
          "2023-10-09T00:00:00",
          "2023-10-10T00:00:00",
          "2023-10-11T00:00:00",
          "2023-10-12T00:00:00",
          "2023-10-13T00:00:00",
          "2023-10-14T00:00:00",
          "2023-10-15T00:00:00",
          "2023-10-16T00:00:00",
          "2023-10-17T00:00:00",
          "2023-10-18T00:00:00",
          "2023-10-19T00:00:00",
          "2023-10-20T00:00:00",
          "2023-10-21T00:00:00",
          "2023-10-22T00:00:00",
          "2023-10-23T00:00:00",
          "2023-10-24T00:00:00",
          "2023-10-25T00:00:00",
          "2023-10-26T00:00:00",
          "2023-10-27T00:00:00",
          "2023-10-28T00:00:00",
          "2023-10-29T00:00:00",
          "2023-10-30T00:00:00",
          "2023-10-31T00:00:00",
          "2023-11-01T00:00:00",
          "2023-11-02T00:00:00",
          "2023-11-03T00:00:00",
          "2023-11-04T00:00:00",
          "2023-11-05T00:00:00",
          "2023-11-06T00:00:00",
          "2023-11-07T00:00:00",
          "2023-11-08T00:00:00",
          "2023-11-09T00:00:00",
          "2023-11-10T00:00:00",
          "2023-11-11T00:00:00",
          "2023-11-12T00:00:00",
          "2023-11-13T00:00:00",
          "2023-11-14T00:00:00",
          "2023-11-15T00:00:00",
          "2023-11-16T00:00:00",
          "2023-11-17T00:00:00",
          "2023-11-18T00:00:00",
          "2023-11-19T00:00:00",
          "2023-11-20T00:00:00",
          "2023-11-21T00:00:00",
          "2023-11-22T00:00:00",
          "2023-11-23T00:00:00",
          "2023-11-24T00:00:00",
          "2023-11-25T00:00:00",
          "2023-11-26T00:00:00",
          "2023-11-27T00:00:00",
          "2023-11-28T00:00:00",
          "2023-11-29T00:00:00",
          "2023-11-30T00:00:00",
          "2023-12-01T00:00:00",
          "2023-12-02T00:00:00",
          "2023-12-03T00:00:00",
          "2023-12-04T00:00:00",
          "2023-12-05T00:00:00",
          "2023-12-06T00:00:00",
          "2023-12-07T00:00:00",
          "2023-12-08T00:00:00",
          "2023-12-09T00:00:00",
          "2023-12-10T00:00:00",
          "2023-12-11T00:00:00",
          "2023-12-12T00:00:00",
          "2023-12-13T00:00:00",
          "2023-12-14T00:00:00",
          "2023-12-15T00:00:00",
          "2023-12-16T00:00:00",
          "2023-12-17T00:00:00",
          "2023-12-18T00:00:00",
          "2023-12-19T00:00:00",
          "2023-12-20T00:00:00",
          "2023-12-21T00:00:00",
          "2023-12-22T00:00:00",
          "2023-12-23T00:00:00",
          "2023-12-24T00:00:00",
          "2023-12-25T00:00:00",
          "2023-12-26T00:00:00",
          "2023-12-27T00:00:00",
          "2023-12-28T00:00:00",
          "2023-12-29T00:00:00",
          "2023-12-30T00:00:00",
          "2023-12-31T00:00:00",
          "2024-01-01T00:00:00",
          "2024-01-02T00:00:00",
          "2024-01-03T00:00:00",
          "2024-01-04T00:00:00",
          "2024-01-05T00:00:00",
          "2024-01-06T00:00:00",
          "2024-01-07T00:00:00",
          "2024-01-08T00:00:00",
          "2024-01-09T00:00:00",
          "2024-01-10T00:00:00",
          "2024-01-11T00:00:00",
          "2024-01-12T00:00:00",
          "2024-01-13T00:00:00",
          "2024-01-14T00:00:00",
          "2024-01-15T00:00:00",
          "2024-01-16T00:00:00",
          "2024-01-17T00:00:00",
          "2024-01-18T00:00:00",
          "2024-01-19T00:00:00",
          "2024-01-20T00:00:00",
          "2024-01-21T00:00:00",
          "2024-01-22T00:00:00",
          "2024-01-23T00:00:00",
          "2024-01-24T00:00:00",
          "2024-01-25T00:00:00",
          "2024-01-26T00:00:00",
          "2024-01-27T00:00:00",
          "2024-01-28T00:00:00",
          "2024-01-29T00:00:00",
          "2024-01-30T00:00:00",
          "2024-01-31T00:00:00",
          "2024-02-01T00:00:00",
          "2024-02-02T00:00:00",
          "2024-02-03T00:00:00",
          "2024-02-04T00:00:00",
          "2024-02-05T00:00:00",
          "2024-02-06T00:00:00",
          "2024-02-07T00:00:00",
          "2024-02-08T00:00:00",
          "2024-02-09T00:00:00",
          "2024-02-10T00:00:00",
          "2024-02-11T00:00:00",
          "2024-02-12T00:00:00",
          "2024-02-13T00:00:00",
          "2024-02-14T00:00:00",
          "2024-02-15T00:00:00",
          "2024-02-16T00:00:00",
          "2024-02-17T00:00:00",
          "2024-02-18T00:00:00",
          "2024-02-19T00:00:00",
          "2024-02-20T00:00:00",
          "2024-02-21T00:00:00",
          "2024-02-22T00:00:00",
          "2024-02-23T00:00:00",
          "2024-02-24T00:00:00",
          "2024-02-25T00:00:00",
          "2024-02-26T00:00:00",
          "2024-02-27T00:00:00",
          "2024-02-28T00:00:00",
          "2024-02-29T00:00:00",
          "2024-03-01T00:00:00",
          "2024-03-02T00:00:00",
          "2024-03-03T00:00:00",
          "2024-03-04T00:00:00",
          "2024-03-05T00:00:00",
          "2024-03-06T00:00:00",
          "2024-03-07T00:00:00",
          "2024-03-08T00:00:00",
          "2024-03-09T00:00:00",
          "2024-03-10T00:00:00",
          "2024-03-11T00:00:00",
          "2024-03-12T00:00:00",
          "2024-03-13T00:00:00",
          "2024-03-14T00:00:00",
          "2024-03-15T00:00:00",
          "2024-03-16T00:00:00",
          "2024-03-17T00:00:00",
          "2024-03-18T00:00:00",
          "2024-03-19T00:00:00",
          "2024-03-20T00:00:00",
          "2024-03-21T00:00:00",
          "2024-03-22T00:00:00",
          "2024-03-23T00:00:00",
          "2024-03-24T00:00:00",
          "2024-03-25T00:00:00",
          "2024-03-26T00:00:00",
          "2024-03-27T00:00:00",
          "2024-03-28T00:00:00",
          "2024-03-29T00:00:00",
          "2024-03-30T00:00:00",
          "2024-03-31T00:00:00",
          "2024-04-01T00:00:00",
          "2024-04-02T00:00:00",
          "2024-04-03T00:00:00",
          "2024-04-04T00:00:00",
          "2024-04-05T00:00:00",
          "2024-04-06T00:00:00",
          "2024-04-07T00:00:00",
          "2024-04-08T00:00:00",
          "2024-04-09T00:00:00",
          "2024-04-10T00:00:00",
          "2024-04-11T00:00:00",
          "2024-04-12T00:00:00",
          "2024-04-13T00:00:00",
          "2024-04-14T00:00:00",
          "2024-04-15T00:00:00",
          "2024-04-16T00:00:00",
          "2024-04-17T00:00:00",
          "2024-04-18T00:00:00",
          "2024-04-19T00:00:00",
          "2024-04-20T00:00:00",
          "2024-04-21T00:00:00",
          "2024-04-22T00:00:00",
          "2024-04-23T00:00:00",
          "2024-04-24T00:00:00",
          "2024-04-25T00:00:00",
          "2024-04-26T00:00:00",
          "2024-04-27T00:00:00",
          "2024-04-28T00:00:00",
          "2024-04-29T00:00:00",
          "2024-04-30T00:00:00",
          "2024-05-01T00:00:00",
          "2024-05-02T00:00:00",
          "2024-05-03T00:00:00",
          "2024-05-04T00:00:00",
          "2024-05-05T00:00:00",
          "2024-05-06T00:00:00",
          "2024-05-07T00:00:00",
          "2024-05-08T00:00:00",
          "2024-05-09T00:00:00",
          "2024-05-10T00:00:00",
          "2024-05-11T00:00:00",
          "2024-05-12T00:00:00",
          "2024-05-13T00:00:00",
          "2024-05-14T00:00:00",
          "2024-05-15T00:00:00",
          "2024-05-16T00:00:00",
          "2024-05-17T00:00:00",
          "2024-05-18T00:00:00",
          "2024-05-19T00:00:00",
          "2024-05-20T00:00:00",
          "2024-05-21T00:00:00",
          "2024-05-22T00:00:00",
          "2024-05-23T00:00:00",
          "2024-05-24T00:00:00",
          "2024-05-25T00:00:00",
          "2024-05-26T00:00:00",
          "2024-05-27T00:00:00",
          "2024-05-28T00:00:00",
          "2024-05-29T00:00:00",
          "2024-05-30T00:00:00",
          "2024-05-31T00:00:00",
          "2024-06-01T00:00:00",
          "2024-06-02T00:00:00",
          "2024-06-03T00:00:00",
          "2024-06-04T00:00:00",
          "2024-06-05T00:00:00",
          "2024-06-06T00:00:00",
          "2024-06-07T00:00:00",
          "2024-06-08T00:00:00",
          "2024-06-09T00:00:00",
          "2024-06-10T00:00:00",
          "2024-06-11T00:00:00",
          "2024-06-12T00:00:00",
          "2024-06-13T00:00:00",
          "2024-06-14T00:00:00",
          "2024-06-15T00:00:00",
          "2024-06-16T00:00:00",
          "2024-06-17T00:00:00",
          "2024-06-18T00:00:00",
          "2024-06-19T00:00:00",
          "2024-06-20T00:00:00",
          "2024-06-21T00:00:00",
          "2024-06-22T00:00:00",
          "2024-06-23T00:00:00",
          "2024-06-24T00:00:00",
          "2024-06-25T00:00:00",
          "2024-06-26T00:00:00",
          "2024-06-27T00:00:00",
          "2024-06-28T00:00:00",
          "2024-06-29T00:00:00",
          "2024-06-30T00:00:00",
          "2024-07-01T00:00:00",
          "2024-07-02T00:00:00",
          "2024-07-03T00:00:00",
          "2024-07-04T00:00:00",
          "2024-07-05T00:00:00",
          "2024-07-06T00:00:00",
          "2024-07-07T00:00:00",
          "2024-07-08T00:00:00",
          "2024-07-09T00:00:00",
          "2024-07-10T00:00:00",
          "2024-07-11T00:00:00",
          "2024-07-12T00:00:00",
          "2024-07-13T00:00:00",
          "2024-07-14T00:00:00",
          "2024-07-15T00:00:00",
          "2024-07-16T00:00:00",
          "2024-07-17T00:00:00",
          "2024-07-18T00:00:00",
          "2024-07-19T00:00:00",
          "2024-07-20T00:00:00",
          "2024-07-21T00:00:00",
          "2024-07-22T00:00:00",
          "2024-07-23T00:00:00",
          "2024-07-24T00:00:00",
          "2024-07-25T00:00:00",
          "2024-07-26T00:00:00",
          "2024-07-27T00:00:00",
          "2024-07-28T00:00:00",
          "2024-07-29T00:00:00",
          "2024-07-30T00:00:00",
          "2024-07-31T00:00:00",
          "2024-08-01T00:00:00",
          "2024-08-02T00:00:00",
          "2024-08-03T00:00:00",
          "2024-08-04T00:00:00",
          "2024-08-05T00:00:00",
          "2024-08-06T00:00:00",
          "2024-08-07T00:00:00",
          "2024-08-08T00:00:00",
          "2024-08-09T00:00:00",
          "2024-08-10T00:00:00",
          "2024-08-11T00:00:00",
          "2024-08-12T00:00:00",
          "2024-08-13T00:00:00",
          "2024-08-14T00:00:00",
          "2024-08-15T00:00:00",
          "2024-08-16T00:00:00",
          "2024-08-17T00:00:00",
          "2024-08-18T00:00:00",
          "2024-08-19T00:00:00",
          "2024-08-20T00:00:00",
          "2024-08-21T00:00:00",
          "2024-08-22T00:00:00",
          "2024-08-23T00:00:00",
          "2024-08-24T00:00:00",
          "2024-08-25T00:00:00",
          "2024-08-26T00:00:00",
          "2024-08-27T00:00:00",
          "2024-08-28T00:00:00",
          "2024-08-29T00:00:00",
          "2024-08-30T00:00:00",
          "2024-08-31T00:00:00",
          "2024-09-01T00:00:00",
          "2024-09-02T00:00:00",
          "2024-09-03T00:00:00",
          "2024-09-04T00:00:00",
          "2024-09-05T00:00:00",
          "2024-09-06T00:00:00",
          "2024-09-07T00:00:00",
          "2024-09-08T00:00:00",
          "2024-09-09T00:00:00",
          "2024-09-10T00:00:00",
          "2024-09-11T00:00:00",
          "2024-09-12T00:00:00",
          "2024-09-13T00:00:00",
          "2024-09-14T00:00:00",
          "2024-09-15T00:00:00",
          "2024-09-16T00:00:00",
          "2024-09-17T00:00:00",
          "2024-09-18T00:00:00",
          "2024-09-19T00:00:00",
          "2024-09-20T00:00:00",
          "2024-09-21T00:00:00",
          "2024-09-22T00:00:00",
          "2024-09-23T00:00:00",
          "2024-09-24T00:00:00",
          "2024-09-25T00:00:00",
          "2024-09-26T00:00:00",
          "2024-09-27T00:00:00",
          "2024-09-28T00:00:00",
          "2024-09-29T00:00:00",
          "2024-09-30T00:00:00",
          "2024-10-01T00:00:00",
          "2024-10-02T00:00:00",
          "2024-10-03T00:00:00",
          "2024-10-04T00:00:00",
          "2024-10-05T00:00:00",
          "2024-10-06T00:00:00",
          "2024-10-07T00:00:00",
          "2024-10-08T00:00:00",
          "2024-10-09T00:00:00",
          "2024-10-10T00:00:00",
          "2024-10-11T00:00:00",
          "2024-10-12T00:00:00",
          "2024-10-13T00:00:00",
          "2024-10-14T00:00:00",
          "2024-10-15T00:00:00",
          "2024-10-16T00:00:00",
          "2024-10-17T00:00:00",
          "2024-10-18T00:00:00",
          "2024-10-19T00:00:00",
          "2024-10-20T00:00:00",
          "2024-10-21T00:00:00",
          "2024-10-22T00:00:00",
          "2024-10-23T00:00:00",
          "2024-10-24T00:00:00",
          "2024-10-25T00:00:00",
          "2024-10-26T00:00:00",
          "2024-10-27T00:00:00",
          "2024-10-28T00:00:00",
          "2024-10-29T00:00:00",
          "2024-10-30T00:00:00",
          "2024-10-31T00:00:00",
          "2024-11-01T00:00:00",
          "2024-11-02T00:00:00",
          "2024-11-03T00:00:00",
          "2024-11-04T00:00:00",
          "2024-11-05T00:00:00",
          "2024-11-06T00:00:00",
          "2024-11-07T00:00:00",
          "2024-11-08T00:00:00",
          "2024-11-09T00:00:00",
          "2024-11-10T00:00:00",
          "2024-11-11T00:00:00",
          "2024-11-12T00:00:00",
          "2024-11-13T00:00:00",
          "2024-11-14T00:00:00",
          "2024-11-15T00:00:00",
          "2024-11-16T00:00:00",
          "2024-11-17T00:00:00",
          "2024-11-18T00:00:00",
          "2024-11-19T00:00:00",
          "2024-11-20T00:00:00",
          "2024-11-21T00:00:00",
          "2024-11-22T00:00:00",
          "2024-11-23T00:00:00",
          "2024-11-24T00:00:00",
          "2024-11-25T00:00:00",
          "2024-11-26T00:00:00",
          "2024-11-27T00:00:00",
          "2024-11-28T00:00:00",
          "2024-11-29T00:00:00",
          "2024-11-30T00:00:00",
          "2024-12-01T00:00:00",
          "2024-12-02T00:00:00",
          "2024-12-03T00:00:00",
          "2024-12-04T00:00:00",
          "2024-12-05T00:00:00",
          "2024-12-06T00:00:00",
          "2024-12-07T00:00:00",
          "2024-12-08T00:00:00",
          "2024-12-09T00:00:00",
          "2024-12-10T00:00:00",
          "2024-12-11T00:00:00",
          "2024-12-12T00:00:00",
          "2024-12-13T00:00:00",
          "2024-12-14T00:00:00",
          "2024-12-15T00:00:00",
          "2024-12-16T00:00:00",
          "2024-12-17T00:00:00",
          "2024-12-18T00:00:00",
          "2024-12-19T00:00:00",
          "2024-12-20T00:00:00",
          "2024-12-21T00:00:00",
          "2024-12-22T00:00:00",
          "2024-12-23T00:00:00",
          "2024-12-24T00:00:00",
          "2024-12-25T00:00:00",
          "2024-12-26T00:00:00",
          "2024-12-27T00:00:00",
          "2024-12-28T00:00:00",
          "2024-12-29T00:00:00",
          "2024-12-30T00:00:00",
          "2024-12-31T00:00:00",
          "2025-01-01T00:00:00",
          "2025-01-02T00:00:00",
          "2025-01-03T00:00:00",
          "2025-01-04T00:00:00",
          "2025-01-05T00:00:00",
          "2025-01-06T00:00:00",
          "2025-01-07T00:00:00",
          "2025-01-08T00:00:00",
          "2025-01-09T00:00:00",
          "2025-01-10T00:00:00",
          "2025-01-11T00:00:00",
          "2025-01-12T00:00:00",
          "2025-01-13T00:00:00",
          "2025-01-14T00:00:00",
          "2025-01-15T00:00:00",
          "2025-01-16T00:00:00",
          "2025-01-17T00:00:00",
          "2025-01-18T00:00:00",
          "2025-01-19T00:00:00",
          "2025-01-20T00:00:00",
          "2025-01-21T00:00:00",
          "2025-01-22T00:00:00",
          "2025-01-23T00:00:00",
          "2025-01-24T00:00:00",
          "2025-01-25T00:00:00",
          "2025-01-26T00:00:00",
          "2025-01-27T00:00:00",
          "2025-01-28T00:00:00",
          "2025-01-29T00:00:00",
          "2025-01-30T00:00:00",
          "2025-01-31T00:00:00",
          "2025-02-01T00:00:00",
          "2025-02-02T00:00:00",
          "2025-02-03T00:00:00",
          "2025-02-04T00:00:00",
          "2025-02-05T00:00:00",
          "2025-02-06T00:00:00",
          "2025-02-07T00:00:00",
          "2025-02-08T00:00:00",
          "2025-02-09T00:00:00",
          "2025-02-10T00:00:00",
          "2025-02-11T00:00:00",
          "2025-02-12T00:00:00",
          "2025-02-13T00:00:00",
          "2025-02-14T00:00:00",
          "2025-02-15T00:00:00",
          "2025-02-16T00:00:00",
          "2025-02-17T00:00:00",
          "2025-02-18T00:00:00",
          "2025-02-19T00:00:00",
          "2025-02-20T00:00:00",
          "2025-02-21T00:00:00",
          "2025-02-22T00:00:00",
          "2025-02-23T00:00:00",
          "2025-02-24T00:00:00",
          "2025-02-25T00:00:00",
          "2025-02-26T00:00:00",
          "2025-02-27T00:00:00",
          "2025-02-28T00:00:00",
          "2025-03-01T00:00:00",
          "2025-03-02T00:00:00",
          "2025-03-03T00:00:00",
          "2025-03-04T00:00:00",
          "2025-03-05T00:00:00",
          "2025-03-06T00:00:00",
          "2025-03-07T00:00:00",
          "2025-03-08T00:00:00",
          "2025-03-09T00:00:00",
          "2025-03-10T00:00:00",
          "2025-03-11T00:00:00",
          "2025-03-12T00:00:00",
          "2025-03-13T00:00:00",
          "2025-03-14T00:00:00",
          "2025-03-15T00:00:00",
          "2025-03-16T00:00:00",
          "2025-03-17T00:00:00",
          "2025-03-18T00:00:00",
          "2025-03-19T00:00:00",
          "2025-03-20T00:00:00"
         ],
         "xaxis": "x",
         "y": [
          26906.96,
          26962.56,
          27992.57,
          27494.51,
          27426.46,
          27778.57,
          27410.39,
          27931.09,
          27956.67,
          27917.05,
          27590.12,
          27390.12,
          26875.52,
          26759.63,
          26862,
          26852.48,
          27154.15,
          28500.78,
          28395.91,
          28320,
          28713.71,
          29669.04,
          29909.8,
          29992.46,
          33069.99,
          33922.73,
          34496.05,
          34151.66,
          33892.02,
          34081,
          34525.89,
          34474.73,
          34639.77,
          35421.43,
          34941.59,
          34716.78,
          35062.07,
          35011.88,
          35046.09,
          35399.12,
          35624.72,
          36701.09,
          37301.63,
          37130,
          37064.13,
          36462.93,
          35551.19,
          37858.2,
          36163.51,
          36613.92,
          36568.1,
          37359.86,
          37448.78,
          35741.65,
          37408.34,
          37294.28,
          37713.57,
          37780.67,
          37447.43,
          37242.7,
          37818.87,
          37854.64,
          37723.96,
          38682.52,
          39450.35,
          39972.26,
          41991.1,
          44073.32,
          43762.69,
          43273.14,
          44170.99,
          43713.6,
          43789.51,
          41253.4,
          41492.39,
          42869.03,
          43022.26,
          41940.3,
          42278.03,
          41374.65,
          42657.8,
          42275.99,
          43668.93,
          43861.8,
          43969.04,
          43702.16,
          42991.5,
          43576.13,
          42508.93,
          43428.85,
          42563.76,
          42066.95,
          42140.28,
          42283.58,
          44179.55,
          44946.91,
          42845.23,
          44151.1,
          44145.11,
          43968.32,
          43929.02,
          46951.04,
          46110,
          46653.99,
          46339.16,
          42782.73,
          42847.99,
          41732.35,
          42511.1,
          43137.95,
          42776.1,
          41327.5,
          41659.03,
          41696.04,
          41580.33,
          39568.02,
          39897.6,
          40084.88,
          39961.09,
          41823.51,
          42120.63,
          42031.06,
          43302.7,
          42941.1,
          42580,
          43082.94,
          43200,
          43011.09,
          42582.88,
          42708.7,
          43098.95,
          44349.6,
          45288.65,
          47132.77,
          47751.09,
          48299.99,
          49917.27,
          49699.59,
          51795.17,
          51880,
          52124.11,
          51642.64,
          52137.67,
          51774.73,
          52258.82,
          51849.39,
          51288.42,
          50744.15,
          51568.22,
          51728.85,
          54476.47,
          57037.34,
          62432.1,
          61130.98,
          62387.9,
          61987.28,
          63113.97,
          68245.71,
          63724.01,
          66074.04,
          66823.17,
          68124.19,
          68313.27,
          68955.88,
          72078.1,
          71452.01,
          73072.41,
          71388.94,
          69499.85,
          65300.63,
          68393.48,
          67609.99,
          61937.4,
          67840.51,
          65501.27,
          63796.64,
          63990.01,
          67209.99,
          69880.01,
          69988,
          69469.99,
          70780.6,
          69850.54,
          69582.18,
          71280.01,
          69649.8,
          65463.99,
          65963.28,
          68487.79,
          67820.62,
          68896,
          69360.39,
          71620,
          69146,
          70631.08,
          70006.23,
          67116.52,
          63924.51,
          65661.84,
          63419.99,
          63793.39,
          61277.37,
          63470.08,
          63818.01,
          64940.59,
          64941.15,
          66819.32,
          66414,
          64289.59,
          64498.34,
          63770.01,
          63461.98,
          63118.62,
          63866,
          60672,
          58364.97,
          59060.61,
          62882.01,
          63892.04,
          64012,
          63165.19,
          62312.08,
          61193.03,
          63074.01,
          60799.99,
          60825.99,
          61483.99,
          62940.08,
          61577.49,
          66206.5,
          65235.21,
          67024,
          66915.2,
          66274.01,
          71446.62,
          70148.34,
          69166.62,
          67969.65,
          68549.99,
          69290.57,
          68507.67,
          69436.43,
          68398.39,
          67652.42,
          68352.17,
          67540.01,
          67766.85,
          67765.63,
          68809.9,
          70537.84,
          71108,
          70799.06,
          69355.6,
          69310.46,
          69648.14,
          69540,
          67314.24,
          68263.99,
          66773.01,
          66043.99,
          66228.25,
          66676.87,
          66504.33,
          65175.32,
          64974.37,
          64869.99,
          64143.56,
          64262.01,
          63210.01,
          60293.3,
          61806.01,
          60864.99,
          61706.47,
          60427.84,
          60986.68,
          62772.01,
          62899.99,
          62135.47,
          60208.58,
          57050.01,
          56628.79,
          58230.13,
          55857.81,
          56714.62,
          58050,
          57725.85,
          57339.89,
          57889.1,
          59204.02,
          60797.91,
          64724.14,
          65043.99,
          64087.99,
          63987.92,
          66660,
          67139.96,
          68165.34,
          67532.01,
          65936.01,
          65376,
          65799.95,
          67907.99,
          67896.5,
          68249.88,
          66784.69,
          66188,
          64628,
          65354.02,
          61498.33,
          60697.99,
          58161,
          54018.81,
          56022.01,
          55134.16,
          61685.99,
          60837.99,
          60923.51,
          58712.59,
          59346.64,
          60587.15,
          58683.39,
          57541.06,
          58874.6,
          59491.99,
          58427.35,
          59438.5,
          59013.8,
          61156.03,
          60375.84,
          64037.24,
          64157.01,
          64220,
          62834,
          59415,
          59034.9,
          59359.01,
          59123.99,
          58973.99,
          57301.86,
          59132.13,
          57487.73,
          57970.9,
          56180,
          53962.97,
          54160.86,
          54869.95,
          57042,
          57635.99,
          57338,
          58132.32,
          60498,
          59993.03,
          59132,
          58213.99,
          60313.99,
          61759.99,
          62947.99,
          63201.05,
          63348.96,
          63578.76,
          63339.99,
          64262.7,
          63152.01,
          65173.99,
          65769.95,
          65858,
          65602.01,
          63327.59,
          60805.78,
          60649.28,
          60752.71,
          62086,
          62058,
          62819.91,
          62224,
          62160.49,
          60636.02,
          60326.39,
          62540,
          63206.22,
          62870.02,
          66083.99,
          67074.14,
          67620.01,
          67421.78,
          68428,
          68378,
          69031.99,
          67377.5,
          67426,
          66668.65,
          68198.28,
          66698.33,
          67092.76,
          68021.7,
          69962.21,
          72736.42,
          72344.74,
          70292.01,
          69496.01,
          69374.74,
          68775.99,
          67850.01,
          69372.01,
          75571.99,
          75857.89,
          76509.78,
          76677.46,
          80370.01,
          88647.99,
          87952.01,
          90375.2,
          87325.59,
          91032.07,
          90586.92,
          89855.99,
          90464.08,
          92310.79,
          94286.56,
          98317.12,
          98892,
          97672.4,
          97900.04,
          93010.01,
          91965.16,
          95863.11,
          95643.98,
          97460,
          96407.99,
          97185.18,
          95840.62,
          95849.69,
          98587.32,
          96945.63,
          99740.84,
          99831.99,
          101109.59,
          97276.47,
          96593,
          101125,
          100004.29,
          101424.25,
          101420,
          104463.99,
          106058.66,
          106133.74,
          100204.01,
          97461.86,
          97805.44,
          97291.99,
          95186.27,
          94881.47,
          98663.58,
          99429.6,
          95791.6,
          94299.03,
          95300,
          93738.2,
          92792.05,
          93576,
          94591.79,
          96984.79,
          98174.18,
          98220.5,
          98363.61,
          102235.6,
          96954.61,
          95060.61,
          92552.49,
          94726.11,
          94599.99,
          94545.06,
          94536.1,
          96560.86,
          100497.35,
          99987.3,
          104077.48,
          104556.23,
          101331.57,
          102260.01,
          106143.82,
          103706.66,
          103910.34,
          104870.5,
          104746.85,
          102620,
          102082.83,
          101335.52,
          103733.24,
          104722.94,
          102429.56,
          100635.65,
          97700.59,
          101328.52,
          97763.13,
          96612.43,
          96554.35,
          96506.8,
          96444.74,
          96462.75,
          97430.82,
          95778.2,
          97869.99,
          96608.14,
          97500.48,
          97569.66,
          96118.12,
          95780,
          95671.74,
          96644.37,
          98305,
          96181.98,
          96551.01,
          96258,
          91552.88,
          88680.4,
          84250.09,
          84708.58,
          84349.94,
          86064.53,
          94270,
          86220.61,
          87281.98,
          90606.01,
          89931.89,
          86801.75,
          86222.45,
          80734.37,
          78595.86,
          82932.99,
          83680.12,
          81115.78,
          83983.2,
          84338.44,
          82574.53,
          84010.03,
          82715.03,
          86845.94,
          84223.39
         ],
         "yaxis": "y"
        },
        {
         "hovertemplate": "variable=prediction_label<br>timestamp=%{x}<br>close price $=%{y}<extra></extra>",
         "legendgroup": "prediction_label",
         "line": {
          "color": "#EF553B",
          "dash": "solid"
         },
         "marker": {
          "symbol": "circle"
         },
         "mode": "lines",
         "name": "prediction_label",
         "showlegend": true,
         "type": "scattergl",
         "x": [
          "2023-09-29T00:00:00",
          "2023-09-30T00:00:00",
          "2023-10-01T00:00:00",
          "2023-10-02T00:00:00",
          "2023-10-03T00:00:00",
          "2023-10-04T00:00:00",
          "2023-10-05T00:00:00",
          "2023-10-06T00:00:00",
          "2023-10-07T00:00:00",
          "2023-10-08T00:00:00",
          "2023-10-09T00:00:00",
          "2023-10-10T00:00:00",
          "2023-10-11T00:00:00",
          "2023-10-12T00:00:00",
          "2023-10-13T00:00:00",
          "2023-10-14T00:00:00",
          "2023-10-15T00:00:00",
          "2023-10-16T00:00:00",
          "2023-10-17T00:00:00",
          "2023-10-18T00:00:00",
          "2023-10-19T00:00:00",
          "2023-10-20T00:00:00",
          "2023-10-21T00:00:00",
          "2023-10-22T00:00:00",
          "2023-10-23T00:00:00",
          "2023-10-24T00:00:00",
          "2023-10-25T00:00:00",
          "2023-10-26T00:00:00",
          "2023-10-27T00:00:00",
          "2023-10-28T00:00:00",
          "2023-10-29T00:00:00",
          "2023-10-30T00:00:00",
          "2023-10-31T00:00:00",
          "2023-11-01T00:00:00",
          "2023-11-02T00:00:00",
          "2023-11-03T00:00:00",
          "2023-11-04T00:00:00",
          "2023-11-05T00:00:00",
          "2023-11-06T00:00:00",
          "2023-11-07T00:00:00",
          "2023-11-08T00:00:00",
          "2023-11-09T00:00:00",
          "2023-11-10T00:00:00",
          "2023-11-11T00:00:00",
          "2023-11-12T00:00:00",
          "2023-11-13T00:00:00",
          "2023-11-14T00:00:00",
          "2023-11-15T00:00:00",
          "2023-11-16T00:00:00",
          "2023-11-17T00:00:00",
          "2023-11-18T00:00:00",
          "2023-11-19T00:00:00",
          "2023-11-20T00:00:00",
          "2023-11-21T00:00:00",
          "2023-11-22T00:00:00",
          "2023-11-23T00:00:00",
          "2023-11-24T00:00:00",
          "2023-11-25T00:00:00",
          "2023-11-26T00:00:00",
          "2023-11-27T00:00:00",
          "2023-11-28T00:00:00",
          "2023-11-29T00:00:00",
          "2023-11-30T00:00:00",
          "2023-12-01T00:00:00",
          "2023-12-02T00:00:00",
          "2023-12-03T00:00:00",
          "2023-12-04T00:00:00",
          "2023-12-05T00:00:00",
          "2023-12-06T00:00:00",
          "2023-12-07T00:00:00",
          "2023-12-08T00:00:00",
          "2023-12-09T00:00:00",
          "2023-12-10T00:00:00",
          "2023-12-11T00:00:00",
          "2023-12-12T00:00:00",
          "2023-12-13T00:00:00",
          "2023-12-14T00:00:00",
          "2023-12-15T00:00:00",
          "2023-12-16T00:00:00",
          "2023-12-17T00:00:00",
          "2023-12-18T00:00:00",
          "2023-12-19T00:00:00",
          "2023-12-20T00:00:00",
          "2023-12-21T00:00:00",
          "2023-12-22T00:00:00",
          "2023-12-23T00:00:00",
          "2023-12-24T00:00:00",
          "2023-12-25T00:00:00",
          "2023-12-26T00:00:00",
          "2023-12-27T00:00:00",
          "2023-12-28T00:00:00",
          "2023-12-29T00:00:00",
          "2023-12-30T00:00:00",
          "2023-12-31T00:00:00",
          "2024-01-01T00:00:00",
          "2024-01-02T00:00:00",
          "2024-01-03T00:00:00",
          "2024-01-04T00:00:00",
          "2024-01-05T00:00:00",
          "2024-01-06T00:00:00",
          "2024-01-07T00:00:00",
          "2024-01-08T00:00:00",
          "2024-01-09T00:00:00",
          "2024-01-10T00:00:00",
          "2024-01-11T00:00:00",
          "2024-01-12T00:00:00",
          "2024-01-13T00:00:00",
          "2024-01-14T00:00:00",
          "2024-01-15T00:00:00",
          "2024-01-16T00:00:00",
          "2024-01-17T00:00:00",
          "2024-01-18T00:00:00",
          "2024-01-19T00:00:00",
          "2024-01-20T00:00:00",
          "2024-01-21T00:00:00",
          "2024-01-22T00:00:00",
          "2024-01-23T00:00:00",
          "2024-01-24T00:00:00",
          "2024-01-25T00:00:00",
          "2024-01-26T00:00:00",
          "2024-01-27T00:00:00",
          "2024-01-28T00:00:00",
          "2024-01-29T00:00:00",
          "2024-01-30T00:00:00",
          "2024-01-31T00:00:00",
          "2024-02-01T00:00:00",
          "2024-02-02T00:00:00",
          "2024-02-03T00:00:00",
          "2024-02-04T00:00:00",
          "2024-02-05T00:00:00",
          "2024-02-06T00:00:00",
          "2024-02-07T00:00:00",
          "2024-02-08T00:00:00",
          "2024-02-09T00:00:00",
          "2024-02-10T00:00:00",
          "2024-02-11T00:00:00",
          "2024-02-12T00:00:00",
          "2024-02-13T00:00:00",
          "2024-02-14T00:00:00",
          "2024-02-15T00:00:00",
          "2024-02-16T00:00:00",
          "2024-02-17T00:00:00",
          "2024-02-18T00:00:00",
          "2024-02-19T00:00:00",
          "2024-02-20T00:00:00",
          "2024-02-21T00:00:00",
          "2024-02-22T00:00:00",
          "2024-02-23T00:00:00",
          "2024-02-24T00:00:00",
          "2024-02-25T00:00:00",
          "2024-02-26T00:00:00",
          "2024-02-27T00:00:00",
          "2024-02-28T00:00:00",
          "2024-02-29T00:00:00",
          "2024-03-01T00:00:00",
          "2024-03-02T00:00:00",
          "2024-03-03T00:00:00",
          "2024-03-04T00:00:00",
          "2024-03-05T00:00:00",
          "2024-03-06T00:00:00",
          "2024-03-07T00:00:00",
          "2024-03-08T00:00:00",
          "2024-03-09T00:00:00",
          "2024-03-10T00:00:00",
          "2024-03-11T00:00:00",
          "2024-03-12T00:00:00",
          "2024-03-13T00:00:00",
          "2024-03-14T00:00:00",
          "2024-03-15T00:00:00",
          "2024-03-16T00:00:00",
          "2024-03-17T00:00:00",
          "2024-03-18T00:00:00",
          "2024-03-19T00:00:00",
          "2024-03-20T00:00:00",
          "2024-03-21T00:00:00",
          "2024-03-22T00:00:00",
          "2024-03-23T00:00:00",
          "2024-03-24T00:00:00",
          "2024-03-25T00:00:00",
          "2024-03-26T00:00:00",
          "2024-03-27T00:00:00",
          "2024-03-28T00:00:00",
          "2024-03-29T00:00:00",
          "2024-03-30T00:00:00",
          "2024-03-31T00:00:00",
          "2024-04-01T00:00:00",
          "2024-04-02T00:00:00",
          "2024-04-03T00:00:00",
          "2024-04-04T00:00:00",
          "2024-04-05T00:00:00",
          "2024-04-06T00:00:00",
          "2024-04-07T00:00:00",
          "2024-04-08T00:00:00",
          "2024-04-09T00:00:00",
          "2024-04-10T00:00:00",
          "2024-04-11T00:00:00",
          "2024-04-12T00:00:00",
          "2024-04-13T00:00:00",
          "2024-04-14T00:00:00",
          "2024-04-15T00:00:00",
          "2024-04-16T00:00:00",
          "2024-04-17T00:00:00",
          "2024-04-18T00:00:00",
          "2024-04-19T00:00:00",
          "2024-04-20T00:00:00",
          "2024-04-21T00:00:00",
          "2024-04-22T00:00:00",
          "2024-04-23T00:00:00",
          "2024-04-24T00:00:00",
          "2024-04-25T00:00:00",
          "2024-04-26T00:00:00",
          "2024-04-27T00:00:00",
          "2024-04-28T00:00:00",
          "2024-04-29T00:00:00",
          "2024-04-30T00:00:00",
          "2024-05-01T00:00:00",
          "2024-05-02T00:00:00",
          "2024-05-03T00:00:00",
          "2024-05-04T00:00:00",
          "2024-05-05T00:00:00",
          "2024-05-06T00:00:00",
          "2024-05-07T00:00:00",
          "2024-05-08T00:00:00",
          "2024-05-09T00:00:00",
          "2024-05-10T00:00:00",
          "2024-05-11T00:00:00",
          "2024-05-12T00:00:00",
          "2024-05-13T00:00:00",
          "2024-05-14T00:00:00",
          "2024-05-15T00:00:00",
          "2024-05-16T00:00:00",
          "2024-05-17T00:00:00",
          "2024-05-18T00:00:00",
          "2024-05-19T00:00:00",
          "2024-05-20T00:00:00",
          "2024-05-21T00:00:00",
          "2024-05-22T00:00:00",
          "2024-05-23T00:00:00",
          "2024-05-24T00:00:00",
          "2024-05-25T00:00:00",
          "2024-05-26T00:00:00",
          "2024-05-27T00:00:00",
          "2024-05-28T00:00:00",
          "2024-05-29T00:00:00",
          "2024-05-30T00:00:00",
          "2024-05-31T00:00:00",
          "2024-06-01T00:00:00",
          "2024-06-02T00:00:00",
          "2024-06-03T00:00:00",
          "2024-06-04T00:00:00",
          "2024-06-05T00:00:00",
          "2024-06-06T00:00:00",
          "2024-06-07T00:00:00",
          "2024-06-08T00:00:00",
          "2024-06-09T00:00:00",
          "2024-06-10T00:00:00",
          "2024-06-11T00:00:00",
          "2024-06-12T00:00:00",
          "2024-06-13T00:00:00",
          "2024-06-14T00:00:00",
          "2024-06-15T00:00:00",
          "2024-06-16T00:00:00",
          "2024-06-17T00:00:00",
          "2024-06-18T00:00:00",
          "2024-06-19T00:00:00",
          "2024-06-20T00:00:00",
          "2024-06-21T00:00:00",
          "2024-06-22T00:00:00",
          "2024-06-23T00:00:00",
          "2024-06-24T00:00:00",
          "2024-06-25T00:00:00",
          "2024-06-26T00:00:00",
          "2024-06-27T00:00:00",
          "2024-06-28T00:00:00",
          "2024-06-29T00:00:00",
          "2024-06-30T00:00:00",
          "2024-07-01T00:00:00",
          "2024-07-02T00:00:00",
          "2024-07-03T00:00:00",
          "2024-07-04T00:00:00",
          "2024-07-05T00:00:00",
          "2024-07-06T00:00:00",
          "2024-07-07T00:00:00",
          "2024-07-08T00:00:00",
          "2024-07-09T00:00:00",
          "2024-07-10T00:00:00",
          "2024-07-11T00:00:00",
          "2024-07-12T00:00:00",
          "2024-07-13T00:00:00",
          "2024-07-14T00:00:00",
          "2024-07-15T00:00:00",
          "2024-07-16T00:00:00",
          "2024-07-17T00:00:00",
          "2024-07-18T00:00:00",
          "2024-07-19T00:00:00",
          "2024-07-20T00:00:00",
          "2024-07-21T00:00:00",
          "2024-07-22T00:00:00",
          "2024-07-23T00:00:00",
          "2024-07-24T00:00:00",
          "2024-07-25T00:00:00",
          "2024-07-26T00:00:00",
          "2024-07-27T00:00:00",
          "2024-07-28T00:00:00",
          "2024-07-29T00:00:00",
          "2024-07-30T00:00:00",
          "2024-07-31T00:00:00",
          "2024-08-01T00:00:00",
          "2024-08-02T00:00:00",
          "2024-08-03T00:00:00",
          "2024-08-04T00:00:00",
          "2024-08-05T00:00:00",
          "2024-08-06T00:00:00",
          "2024-08-07T00:00:00",
          "2024-08-08T00:00:00",
          "2024-08-09T00:00:00",
          "2024-08-10T00:00:00",
          "2024-08-11T00:00:00",
          "2024-08-12T00:00:00",
          "2024-08-13T00:00:00",
          "2024-08-14T00:00:00",
          "2024-08-15T00:00:00",
          "2024-08-16T00:00:00",
          "2024-08-17T00:00:00",
          "2024-08-18T00:00:00",
          "2024-08-19T00:00:00",
          "2024-08-20T00:00:00",
          "2024-08-21T00:00:00",
          "2024-08-22T00:00:00",
          "2024-08-23T00:00:00",
          "2024-08-24T00:00:00",
          "2024-08-25T00:00:00",
          "2024-08-26T00:00:00",
          "2024-08-27T00:00:00",
          "2024-08-28T00:00:00",
          "2024-08-29T00:00:00",
          "2024-08-30T00:00:00",
          "2024-08-31T00:00:00",
          "2024-09-01T00:00:00",
          "2024-09-02T00:00:00",
          "2024-09-03T00:00:00",
          "2024-09-04T00:00:00",
          "2024-09-05T00:00:00",
          "2024-09-06T00:00:00",
          "2024-09-07T00:00:00",
          "2024-09-08T00:00:00",
          "2024-09-09T00:00:00",
          "2024-09-10T00:00:00",
          "2024-09-11T00:00:00",
          "2024-09-12T00:00:00",
          "2024-09-13T00:00:00",
          "2024-09-14T00:00:00",
          "2024-09-15T00:00:00",
          "2024-09-16T00:00:00",
          "2024-09-17T00:00:00",
          "2024-09-18T00:00:00",
          "2024-09-19T00:00:00",
          "2024-09-20T00:00:00",
          "2024-09-21T00:00:00",
          "2024-09-22T00:00:00",
          "2024-09-23T00:00:00",
          "2024-09-24T00:00:00",
          "2024-09-25T00:00:00",
          "2024-09-26T00:00:00",
          "2024-09-27T00:00:00",
          "2024-09-28T00:00:00",
          "2024-09-29T00:00:00",
          "2024-09-30T00:00:00",
          "2024-10-01T00:00:00",
          "2024-10-02T00:00:00",
          "2024-10-03T00:00:00",
          "2024-10-04T00:00:00",
          "2024-10-05T00:00:00",
          "2024-10-06T00:00:00",
          "2024-10-07T00:00:00",
          "2024-10-08T00:00:00",
          "2024-10-09T00:00:00",
          "2024-10-10T00:00:00",
          "2024-10-11T00:00:00",
          "2024-10-12T00:00:00",
          "2024-10-13T00:00:00",
          "2024-10-14T00:00:00",
          "2024-10-15T00:00:00",
          "2024-10-16T00:00:00",
          "2024-10-17T00:00:00",
          "2024-10-18T00:00:00",
          "2024-10-19T00:00:00",
          "2024-10-20T00:00:00",
          "2024-10-21T00:00:00",
          "2024-10-22T00:00:00",
          "2024-10-23T00:00:00",
          "2024-10-24T00:00:00",
          "2024-10-25T00:00:00",
          "2024-10-26T00:00:00",
          "2024-10-27T00:00:00",
          "2024-10-28T00:00:00",
          "2024-10-29T00:00:00",
          "2024-10-30T00:00:00",
          "2024-10-31T00:00:00",
          "2024-11-01T00:00:00",
          "2024-11-02T00:00:00",
          "2024-11-03T00:00:00",
          "2024-11-04T00:00:00",
          "2024-11-05T00:00:00",
          "2024-11-06T00:00:00",
          "2024-11-07T00:00:00",
          "2024-11-08T00:00:00",
          "2024-11-09T00:00:00",
          "2024-11-10T00:00:00",
          "2024-11-11T00:00:00",
          "2024-11-12T00:00:00",
          "2024-11-13T00:00:00",
          "2024-11-14T00:00:00",
          "2024-11-15T00:00:00",
          "2024-11-16T00:00:00",
          "2024-11-17T00:00:00",
          "2024-11-18T00:00:00",
          "2024-11-19T00:00:00",
          "2024-11-20T00:00:00",
          "2024-11-21T00:00:00",
          "2024-11-22T00:00:00",
          "2024-11-23T00:00:00",
          "2024-11-24T00:00:00",
          "2024-11-25T00:00:00",
          "2024-11-26T00:00:00",
          "2024-11-27T00:00:00",
          "2024-11-28T00:00:00",
          "2024-11-29T00:00:00",
          "2024-11-30T00:00:00",
          "2024-12-01T00:00:00",
          "2024-12-02T00:00:00",
          "2024-12-03T00:00:00",
          "2024-12-04T00:00:00",
          "2024-12-05T00:00:00",
          "2024-12-06T00:00:00",
          "2024-12-07T00:00:00",
          "2024-12-08T00:00:00",
          "2024-12-09T00:00:00",
          "2024-12-10T00:00:00",
          "2024-12-11T00:00:00",
          "2024-12-12T00:00:00",
          "2024-12-13T00:00:00",
          "2024-12-14T00:00:00",
          "2024-12-15T00:00:00",
          "2024-12-16T00:00:00",
          "2024-12-17T00:00:00",
          "2024-12-18T00:00:00",
          "2024-12-19T00:00:00",
          "2024-12-20T00:00:00",
          "2024-12-21T00:00:00",
          "2024-12-22T00:00:00",
          "2024-12-23T00:00:00",
          "2024-12-24T00:00:00",
          "2024-12-25T00:00:00",
          "2024-12-26T00:00:00",
          "2024-12-27T00:00:00",
          "2024-12-28T00:00:00",
          "2024-12-29T00:00:00",
          "2024-12-30T00:00:00",
          "2024-12-31T00:00:00",
          "2025-01-01T00:00:00",
          "2025-01-02T00:00:00",
          "2025-01-03T00:00:00",
          "2025-01-04T00:00:00",
          "2025-01-05T00:00:00",
          "2025-01-06T00:00:00",
          "2025-01-07T00:00:00",
          "2025-01-08T00:00:00",
          "2025-01-09T00:00:00",
          "2025-01-10T00:00:00",
          "2025-01-11T00:00:00",
          "2025-01-12T00:00:00",
          "2025-01-13T00:00:00",
          "2025-01-14T00:00:00",
          "2025-01-15T00:00:00",
          "2025-01-16T00:00:00",
          "2025-01-17T00:00:00",
          "2025-01-18T00:00:00",
          "2025-01-19T00:00:00",
          "2025-01-20T00:00:00",
          "2025-01-21T00:00:00",
          "2025-01-22T00:00:00",
          "2025-01-23T00:00:00",
          "2025-01-24T00:00:00",
          "2025-01-25T00:00:00",
          "2025-01-26T00:00:00",
          "2025-01-27T00:00:00",
          "2025-01-28T00:00:00",
          "2025-01-29T00:00:00",
          "2025-01-30T00:00:00",
          "2025-01-31T00:00:00",
          "2025-02-01T00:00:00",
          "2025-02-02T00:00:00",
          "2025-02-03T00:00:00",
          "2025-02-04T00:00:00",
          "2025-02-05T00:00:00",
          "2025-02-06T00:00:00",
          "2025-02-07T00:00:00",
          "2025-02-08T00:00:00",
          "2025-02-09T00:00:00",
          "2025-02-10T00:00:00",
          "2025-02-11T00:00:00",
          "2025-02-12T00:00:00",
          "2025-02-13T00:00:00",
          "2025-02-14T00:00:00",
          "2025-02-15T00:00:00",
          "2025-02-16T00:00:00",
          "2025-02-17T00:00:00",
          "2025-02-18T00:00:00",
          "2025-02-19T00:00:00",
          "2025-02-20T00:00:00",
          "2025-02-21T00:00:00",
          "2025-02-22T00:00:00",
          "2025-02-23T00:00:00",
          "2025-02-24T00:00:00",
          "2025-02-25T00:00:00",
          "2025-02-26T00:00:00",
          "2025-02-27T00:00:00",
          "2025-02-28T00:00:00",
          "2025-03-01T00:00:00",
          "2025-03-02T00:00:00",
          "2025-03-03T00:00:00",
          "2025-03-04T00:00:00",
          "2025-03-05T00:00:00",
          "2025-03-06T00:00:00",
          "2025-03-07T00:00:00",
          "2025-03-08T00:00:00",
          "2025-03-09T00:00:00",
          "2025-03-10T00:00:00",
          "2025-03-11T00:00:00",
          "2025-03-12T00:00:00",
          "2025-03-13T00:00:00",
          "2025-03-14T00:00:00",
          "2025-03-15T00:00:00",
          "2025-03-16T00:00:00",
          "2025-03-17T00:00:00",
          "2025-03-18T00:00:00",
          "2025-03-19T00:00:00",
          "2025-03-20T00:00:00"
         ],
         "xaxis": "x",
         "y": [
          27163.592,
          27163.592,
          27163.592,
          27548.604,
          28034.975,
          27424.22,
          27424.22,
          27424.22,
          27424.22,
          28159.357,
          28034.975,
          27424.22,
          27370.621,
          27163.592,
          27163.592,
          27163.592,
          27163.592,
          27163.592,
          27548.604,
          28159.357,
          28159.357,
          29219.658,
          29728.621,
          29728.621,
          30262.53,
          32751.74,
          34529.11,
          34922.11,
          34529.11,
          34529.11,
          34529.11,
          34922.11,
          34529.11,
          34922.11,
          34922.11,
          34922.11,
          34922.11,
          34922.11,
          34922.11,
          34922.11,
          34922.11,
          34815.688,
          36397.703,
          37685.633,
          37463.977,
          37463.977,
          36774.14,
          35694,
          36913.746,
          36863.41,
          35707.867,
          36479.758,
          37685.633,
          37980.02,
          35971.23,
          36913.746,
          38069.29,
          37980.02,
          38069.29,
          38069.29,
          38069.29,
          37980.02,
          38069.29,
          38069.29,
          39419.656,
          39629.117,
          40507.523,
          41452.734,
          43858.746,
          43819.99,
          42953.52,
          43858.746,
          44326.035,
          43601.26,
          41669.64,
          42120.055,
          42279.363,
          42789.938,
          42158.305,
          42551.6,
          41634.61,
          42788.59,
          42551.6,
          43566.23,
          43460.957,
          43893.777,
          43819.99,
          42136.832,
          42750.22,
          42646.06,
          42750.22,
          42377.14,
          42158.305,
          41932.016,
          42551.6,
          44505.17,
          45264.977,
          43642.91,
          43858.746,
          44112.504,
          43679.684,
          43679.684,
          45248.402,
          45961.293,
          46541.074,
          45488.39,
          43606.918,
          42315.207,
          42065.83,
          42315.844,
          42918.49,
          42315.207,
          41634.61,
          42120.055,
          41770.645,
          41647.31,
          40692.17,
          39647.324,
          39493.863,
          40247.6,
          41360.258,
          41932.016,
          42158.305,
          42918.49,
          41867.914,
          42611.027,
          42789.938,
          42918.49,
          42101.8,
          42611.027,
          42611.027,
          42789.938,
          44505.17,
          45264.977,
          46541.074,
          47539.81,
          48954.77,
          48692.03,
          49784.457,
          51864.855,
          51810.09,
          51810.09,
          52326.45,
          51810.09,
          52326.45,
          51810.09,
          52740.83,
          52128.273,
          50013.793,
          52326.45,
          52326.45,
          53209.47,
          57509.445,
          59838.4,
          61865.63,
          61138.36,
          62460.867,
          63222.312,
          64942.527,
          65318.06,
          65771.51,
          66522.836,
          68403.78,
          67482.61,
          69390.56,
          71444.74,
          71046.55,
          71046.55,
          72728.88,
          68743.375,
          66339.94,
          67124.57,
          66905.086,
          65555.39,
          66275.734,
          66989.58,
          64347.977,
          64490.418,
          66421.44,
          69361.68,
          69543.19,
          68784.77,
          69618.63,
          69132.75,
          68784.77,
          69618.63,
          68374.336,
          66234.086,
          65629.06,
          67977.47,
          66905.086,
          70119,
          70365.42,
          70822.82,
          69322.11,
          70187.24,
          69132.75,
          67349.78,
          66367.984,
          64436.188,
          63723.125,
          62777.953,
          62535.52,
          63067.656,
          64490.418,
          64753.836,
          64669.55,
          65582.2,
          66494.05,
          65421.695,
          63138.69,
          62150.363,
          63865.566,
          63472.797,
          63775.273,
          61720.383,
          58586.96,
          59561.094,
          62351.465,
          63820.527,
          64099.816,
          63722.36,
          61367.42,
          61792.566,
          62528.59,
          61005.24,
          61031.445,
          61090.63,
          63047.355,
          62488.676,
          65293.777,
          65694.11,
          65555.35,
          67429.445,
          67596.78,
          70230.3,
          69501.79,
          69363.51,
          68058.99,
          69674.5,
          70365.42,
          68653.88,
          69258.74,
          68707.195,
          66905.086,
          68009.22,
          66905.086,
          68208.63,
          68208.63,
          69917.17,
          70187.24,
          69420.01,
          69420.01,
          69598.19,
          69743.5,
          68519.65,
          68572.96,
          67757.96,
          67274.05,
          67491.43,
          66546.33,
          66575.58,
          66606.73,
          66494.05,
          65694.11,
          64757.297,
          64757.297,
          64015.53,
          64730.99,
          62130.062,
          60144.613,
          61902.09,
          61873.27,
          62111.51,
          61294.94,
          61790.98,
          62656.76,
          62802.906,
          62488.676,
          60116.805,
          58755.797,
          55438.1,
          55917.113,
          56760.58,
          58112.59,
          57317.316,
          57989.574,
          58132.055,
          58067.867,
          58568.668,
          60751.625,
          63661.527,
          64669.55,
          64103.277,
          64739.98,
          65719.234,
          66326.71,
          67274.05,
          67996.83,
          68123.06,
          65610.22,
          64293.746,
          67382.58,
          69079.61,
          68211.05,
          67491.43,
          66494.05,
          65421.695,
          64669.55,
          62186.4,
          61294.94,
          58586.96,
          55792.215,
          55108.57,
          57034.082,
          61161.273,
          61698.312,
          61031.445,
          58735.062,
          59638.504,
          60751.625,
          58934.73,
          59238.344,
          57844.145,
          58771.723,
          59024.227,
          59638.504,
          59408.125,
          61286.016,
          60776.176,
          63355.277,
          64349.38,
          64349.38,
          62258.234,
          59470.684,
          59094.41,
          58891.074,
          59094.41,
          58813.664,
          58606.71,
          58646.96,
          58771.66,
          57824.332,
          56820.484,
          53661.875,
          54140.207,
          56430.938,
          58014.98,
          57496.25,
          58132.055,
          58185.652,
          60088.566,
          59507.11,
          59485.535,
          58710.51,
          59227.945,
          61902.09,
          63047.355,
          62757.652,
          63150.42,
          62777.953,
          63865.566,
          63766.28,
          62130.062,
          64038.69,
          64439.65,
          65629.06,
          65292.566,
          63723.125,
          61005.24,
          60628.074,
          60628.074,
          62111.51,
          62953.336,
          63350.484,
          61412.676,
          61339.613,
          60977.43,
          60115.223,
          62299.24,
          62802.906,
          62885.824,
          65101.61,
          66492.13,
          67734.63,
          68523.44,
          68737.5,
          68169.125,
          68613.625,
          68326.57,
          67788.266,
          67282.87,
          66432.484,
          67491.43,
          66326.71,
          68403.78,
          70298.68,
          71087.945,
          71046.55,
          69501.79,
          68374.336,
          69796.81,
          69098.38,
          68680.914,
          70764.12,
          77040.65,
          80204.21,
          80204.21,
          80204.21,
          80204.21,
          84892.1,
          86486.93,
          88158.66,
          88980.72,
          88158.66,
          90652.445,
          90652.445,
          90652.445,
          90510.74,
          94717,
          97523.64,
          98828.79,
          96575.6,
          96053.01,
          93869.65,
          93810.35,
          96116.58,
          95360.38,
          97168.55,
          95559.734,
          95217.54,
          96768.14,
          96745.76,
          99398.67,
          95920.18,
          99421.055,
          98640.38,
          98712.1,
          98667.734,
          98771.25,
          98354.44,
          101459.66,
          102552.89,
          102522.83,
          104874.63,
          102874.164,
          102874.164,
          99429.125,
          99323.16,
          96053.01,
          96108.586,
          95382.766,
          95195.04,
          99233.33,
          98640.38,
          95987.47,
          95346.18,
          95260.49,
          95180.836,
          94339.64,
          93810.35,
          94717,
          96578.58,
          97645.914,
          97053.65,
          98828.79,
          99805.336,
          98637.67,
          95382.766,
          94274.19,
          94731.2,
          95195.04,
          95180.836,
          95246.29,
          98648.98,
          98354.44,
          101459.66,
          104904.695,
          103291.81,
          100522.36,
          104874.63,
          103291.81,
          102874.164,
          103291.81,
          103291.81,
          102874.164,
          102874.164,
          100940.01,
          102522.83,
          104874.63,
          103291.81,
          102874.164,
          99846.77,
          99323.16,
          98993.1,
          99293.09,
          97178.34,
          97632.914,
          96014.305,
          95669.33,
          95669.33,
          95217.54,
          96768.14,
          97623.53,
          98178.984,
          96217.94,
          95763.37,
          95559.734,
          95284.83,
          96745.76,
          98748.87,
          96507.58,
          96560.375,
          97287.94,
          96014.305,
          92978.6,
          92280.33,
          84302.28,
          86190.516,
          86190.516,
          86190.516,
          90811.836,
          90624.97,
          88375.164,
          88158.66,
          90652.445,
          88980.72,
          84302.28,
          81799.04,
          80163.984,
          83036.15,
          82995.92,
          82995.92,
          82995.92,
          82667.23,
          86519.21,
          82995.92,
          86519.21,
          84851.875
         ],
         "yaxis": "y"
        }
       ],
       "layout": {
        "legend": {
         "title": {
          "text": "variable"
         },
         "tracegroupgap": 0
        },
        "margin": {
         "t": 60
        },
        "template": {
         "data": {
          "bar": [
           {
            "error_x": {
             "color": "#f2f5fa"
            },
            "error_y": {
             "color": "#f2f5fa"
            },
            "marker": {
             "line": {
              "color": "rgb(17,17,17)",
              "width": 0.5
             },
             "pattern": {
              "fillmode": "overlay",
              "size": 10,
              "solidity": 0.2
             }
            },
            "type": "bar"
           }
          ],
          "barpolar": [
           {
            "marker": {
             "line": {
              "color": "rgb(17,17,17)",
              "width": 0.5
             },
             "pattern": {
              "fillmode": "overlay",
              "size": 10,
              "solidity": 0.2
             }
            },
            "type": "barpolar"
           }
          ],
          "carpet": [
           {
            "aaxis": {
             "endlinecolor": "#A2B1C6",
             "gridcolor": "#506784",
             "linecolor": "#506784",
             "minorgridcolor": "#506784",
             "startlinecolor": "#A2B1C6"
            },
            "baxis": {
             "endlinecolor": "#A2B1C6",
             "gridcolor": "#506784",
             "linecolor": "#506784",
             "minorgridcolor": "#506784",
             "startlinecolor": "#A2B1C6"
            },
            "type": "carpet"
           }
          ],
          "choropleth": [
           {
            "colorbar": {
             "outlinewidth": 0,
             "ticks": ""
            },
            "type": "choropleth"
           }
          ],
          "contour": [
           {
            "colorbar": {
             "outlinewidth": 0,
             "ticks": ""
            },
            "colorscale": [
             [
              0,
              "#0d0887"
             ],
             [
              0.1111111111111111,
              "#46039f"
             ],
             [
              0.2222222222222222,
              "#7201a8"
             ],
             [
              0.3333333333333333,
              "#9c179e"
             ],
             [
              0.4444444444444444,
              "#bd3786"
             ],
             [
              0.5555555555555556,
              "#d8576b"
             ],
             [
              0.6666666666666666,
              "#ed7953"
             ],
             [
              0.7777777777777778,
              "#fb9f3a"
             ],
             [
              0.8888888888888888,
              "#fdca26"
             ],
             [
              1,
              "#f0f921"
             ]
            ],
            "type": "contour"
           }
          ],
          "contourcarpet": [
           {
            "colorbar": {
             "outlinewidth": 0,
             "ticks": ""
            },
            "type": "contourcarpet"
           }
          ],
          "heatmap": [
           {
            "colorbar": {
             "outlinewidth": 0,
             "ticks": ""
            },
            "colorscale": [
             [
              0,
              "#0d0887"
             ],
             [
              0.1111111111111111,
              "#46039f"
             ],
             [
              0.2222222222222222,
              "#7201a8"
             ],
             [
              0.3333333333333333,
              "#9c179e"
             ],
             [
              0.4444444444444444,
              "#bd3786"
             ],
             [
              0.5555555555555556,
              "#d8576b"
             ],
             [
              0.6666666666666666,
              "#ed7953"
             ],
             [
              0.7777777777777778,
              "#fb9f3a"
             ],
             [
              0.8888888888888888,
              "#fdca26"
             ],
             [
              1,
              "#f0f921"
             ]
            ],
            "type": "heatmap"
           }
          ],
          "heatmapgl": [
           {
            "colorbar": {
             "outlinewidth": 0,
             "ticks": ""
            },
            "colorscale": [
             [
              0,
              "#0d0887"
             ],
             [
              0.1111111111111111,
              "#46039f"
             ],
             [
              0.2222222222222222,
              "#7201a8"
             ],
             [
              0.3333333333333333,
              "#9c179e"
             ],
             [
              0.4444444444444444,
              "#bd3786"
             ],
             [
              0.5555555555555556,
              "#d8576b"
             ],
             [
              0.6666666666666666,
              "#ed7953"
             ],
             [
              0.7777777777777778,
              "#fb9f3a"
             ],
             [
              0.8888888888888888,
              "#fdca26"
             ],
             [
              1,
              "#f0f921"
             ]
            ],
            "type": "heatmapgl"
           }
          ],
          "histogram": [
           {
            "marker": {
             "pattern": {
              "fillmode": "overlay",
              "size": 10,
              "solidity": 0.2
             }
            },
            "type": "histogram"
           }
          ],
          "histogram2d": [
           {
            "colorbar": {
             "outlinewidth": 0,
             "ticks": ""
            },
            "colorscale": [
             [
              0,
              "#0d0887"
             ],
             [
              0.1111111111111111,
              "#46039f"
             ],
             [
              0.2222222222222222,
              "#7201a8"
             ],
             [
              0.3333333333333333,
              "#9c179e"
             ],
             [
              0.4444444444444444,
              "#bd3786"
             ],
             [
              0.5555555555555556,
              "#d8576b"
             ],
             [
              0.6666666666666666,
              "#ed7953"
             ],
             [
              0.7777777777777778,
              "#fb9f3a"
             ],
             [
              0.8888888888888888,
              "#fdca26"
             ],
             [
              1,
              "#f0f921"
             ]
            ],
            "type": "histogram2d"
           }
          ],
          "histogram2dcontour": [
           {
            "colorbar": {
             "outlinewidth": 0,
             "ticks": ""
            },
            "colorscale": [
             [
              0,
              "#0d0887"
             ],
             [
              0.1111111111111111,
              "#46039f"
             ],
             [
              0.2222222222222222,
              "#7201a8"
             ],
             [
              0.3333333333333333,
              "#9c179e"
             ],
             [
              0.4444444444444444,
              "#bd3786"
             ],
             [
              0.5555555555555556,
              "#d8576b"
             ],
             [
              0.6666666666666666,
              "#ed7953"
             ],
             [
              0.7777777777777778,
              "#fb9f3a"
             ],
             [
              0.8888888888888888,
              "#fdca26"
             ],
             [
              1,
              "#f0f921"
             ]
            ],
            "type": "histogram2dcontour"
           }
          ],
          "mesh3d": [
           {
            "colorbar": {
             "outlinewidth": 0,
             "ticks": ""
            },
            "type": "mesh3d"
           }
          ],
          "parcoords": [
           {
            "line": {
             "colorbar": {
              "outlinewidth": 0,
              "ticks": ""
             }
            },
            "type": "parcoords"
           }
          ],
          "pie": [
           {
            "automargin": true,
            "type": "pie"
           }
          ],
          "scatter": [
           {
            "marker": {
             "line": {
              "color": "#283442"
             }
            },
            "type": "scatter"
           }
          ],
          "scatter3d": [
           {
            "line": {
             "colorbar": {
              "outlinewidth": 0,
              "ticks": ""
             }
            },
            "marker": {
             "colorbar": {
              "outlinewidth": 0,
              "ticks": ""
             }
            },
            "type": "scatter3d"
           }
          ],
          "scattercarpet": [
           {
            "marker": {
             "colorbar": {
              "outlinewidth": 0,
              "ticks": ""
             }
            },
            "type": "scattercarpet"
           }
          ],
          "scattergeo": [
           {
            "marker": {
             "colorbar": {
              "outlinewidth": 0,
              "ticks": ""
             }
            },
            "type": "scattergeo"
           }
          ],
          "scattergl": [
           {
            "marker": {
             "line": {
              "color": "#283442"
             }
            },
            "type": "scattergl"
           }
          ],
          "scattermapbox": [
           {
            "marker": {
             "colorbar": {
              "outlinewidth": 0,
              "ticks": ""
             }
            },
            "type": "scattermapbox"
           }
          ],
          "scatterpolar": [
           {
            "marker": {
             "colorbar": {
              "outlinewidth": 0,
              "ticks": ""
             }
            },
            "type": "scatterpolar"
           }
          ],
          "scatterpolargl": [
           {
            "marker": {
             "colorbar": {
              "outlinewidth": 0,
              "ticks": ""
             }
            },
            "type": "scatterpolargl"
           }
          ],
          "scatterternary": [
           {
            "marker": {
             "colorbar": {
              "outlinewidth": 0,
              "ticks": ""
             }
            },
            "type": "scatterternary"
           }
          ],
          "surface": [
           {
            "colorbar": {
             "outlinewidth": 0,
             "ticks": ""
            },
            "colorscale": [
             [
              0,
              "#0d0887"
             ],
             [
              0.1111111111111111,
              "#46039f"
             ],
             [
              0.2222222222222222,
              "#7201a8"
             ],
             [
              0.3333333333333333,
              "#9c179e"
             ],
             [
              0.4444444444444444,
              "#bd3786"
             ],
             [
              0.5555555555555556,
              "#d8576b"
             ],
             [
              0.6666666666666666,
              "#ed7953"
             ],
             [
              0.7777777777777778,
              "#fb9f3a"
             ],
             [
              0.8888888888888888,
              "#fdca26"
             ],
             [
              1,
              "#f0f921"
             ]
            ],
            "type": "surface"
           }
          ],
          "table": [
           {
            "cells": {
             "fill": {
              "color": "#506784"
             },
             "line": {
              "color": "rgb(17,17,17)"
             }
            },
            "header": {
             "fill": {
              "color": "#2a3f5f"
             },
             "line": {
              "color": "rgb(17,17,17)"
             }
            },
            "type": "table"
           }
          ]
         },
         "layout": {
          "annotationdefaults": {
           "arrowcolor": "#f2f5fa",
           "arrowhead": 0,
           "arrowwidth": 1
          },
          "autotypenumbers": "strict",
          "coloraxis": {
           "colorbar": {
            "outlinewidth": 0,
            "ticks": ""
           }
          },
          "colorscale": {
           "diverging": [
            [
             0,
             "#8e0152"
            ],
            [
             0.1,
             "#c51b7d"
            ],
            [
             0.2,
             "#de77ae"
            ],
            [
             0.3,
             "#f1b6da"
            ],
            [
             0.4,
             "#fde0ef"
            ],
            [
             0.5,
             "#f7f7f7"
            ],
            [
             0.6,
             "#e6f5d0"
            ],
            [
             0.7,
             "#b8e186"
            ],
            [
             0.8,
             "#7fbc41"
            ],
            [
             0.9,
             "#4d9221"
            ],
            [
             1,
             "#276419"
            ]
           ],
           "sequential": [
            [
             0,
             "#0d0887"
            ],
            [
             0.1111111111111111,
             "#46039f"
            ],
            [
             0.2222222222222222,
             "#7201a8"
            ],
            [
             0.3333333333333333,
             "#9c179e"
            ],
            [
             0.4444444444444444,
             "#bd3786"
            ],
            [
             0.5555555555555556,
             "#d8576b"
            ],
            [
             0.6666666666666666,
             "#ed7953"
            ],
            [
             0.7777777777777778,
             "#fb9f3a"
            ],
            [
             0.8888888888888888,
             "#fdca26"
            ],
            [
             1,
             "#f0f921"
            ]
           ],
           "sequentialminus": [
            [
             0,
             "#0d0887"
            ],
            [
             0.1111111111111111,
             "#46039f"
            ],
            [
             0.2222222222222222,
             "#7201a8"
            ],
            [
             0.3333333333333333,
             "#9c179e"
            ],
            [
             0.4444444444444444,
             "#bd3786"
            ],
            [
             0.5555555555555556,
             "#d8576b"
            ],
            [
             0.6666666666666666,
             "#ed7953"
            ],
            [
             0.7777777777777778,
             "#fb9f3a"
            ],
            [
             0.8888888888888888,
             "#fdca26"
            ],
            [
             1,
             "#f0f921"
            ]
           ]
          },
          "colorway": [
           "#636efa",
           "#EF553B",
           "#00cc96",
           "#ab63fa",
           "#FFA15A",
           "#19d3f3",
           "#FF6692",
           "#B6E880",
           "#FF97FF",
           "#FECB52"
          ],
          "font": {
           "color": "#f2f5fa"
          },
          "geo": {
           "bgcolor": "rgb(17,17,17)",
           "lakecolor": "rgb(17,17,17)",
           "landcolor": "rgb(17,17,17)",
           "showlakes": true,
           "showland": true,
           "subunitcolor": "#506784"
          },
          "hoverlabel": {
           "align": "left"
          },
          "hovermode": "closest",
          "mapbox": {
           "style": "dark"
          },
          "paper_bgcolor": "rgb(17,17,17)",
          "plot_bgcolor": "rgb(17,17,17)",
          "polar": {
           "angularaxis": {
            "gridcolor": "#506784",
            "linecolor": "#506784",
            "ticks": ""
           },
           "bgcolor": "rgb(17,17,17)",
           "radialaxis": {
            "gridcolor": "#506784",
            "linecolor": "#506784",
            "ticks": ""
           }
          },
          "scene": {
           "xaxis": {
            "backgroundcolor": "rgb(17,17,17)",
            "gridcolor": "#506784",
            "gridwidth": 2,
            "linecolor": "#506784",
            "showbackground": true,
            "ticks": "",
            "zerolinecolor": "#C8D4E3"
           },
           "yaxis": {
            "backgroundcolor": "rgb(17,17,17)",
            "gridcolor": "#506784",
            "gridwidth": 2,
            "linecolor": "#506784",
            "showbackground": true,
            "ticks": "",
            "zerolinecolor": "#C8D4E3"
           },
           "zaxis": {
            "backgroundcolor": "rgb(17,17,17)",
            "gridcolor": "#506784",
            "gridwidth": 2,
            "linecolor": "#506784",
            "showbackground": true,
            "ticks": "",
            "zerolinecolor": "#C8D4E3"
           }
          },
          "shapedefaults": {
           "line": {
            "color": "#f2f5fa"
           }
          },
          "sliderdefaults": {
           "bgcolor": "#C8D4E3",
           "bordercolor": "rgb(17,17,17)",
           "borderwidth": 1,
           "tickwidth": 0
          },
          "ternary": {
           "aaxis": {
            "gridcolor": "#506784",
            "linecolor": "#506784",
            "ticks": ""
           },
           "baxis": {
            "gridcolor": "#506784",
            "linecolor": "#506784",
            "ticks": ""
           },
           "bgcolor": "rgb(17,17,17)",
           "caxis": {
            "gridcolor": "#506784",
            "linecolor": "#506784",
            "ticks": ""
           }
          },
          "title": {
           "x": 0.05
          },
          "updatemenudefaults": {
           "bgcolor": "#506784",
           "borderwidth": 0
          },
          "xaxis": {
           "automargin": true,
           "gridcolor": "#283442",
           "linecolor": "#506784",
           "ticks": "",
           "title": {
            "standoff": 15
           },
           "zerolinecolor": "#283442",
           "zerolinewidth": 2
          },
          "yaxis": {
           "automargin": true,
           "gridcolor": "#283442",
           "linecolor": "#506784",
           "ticks": "",
           "title": {
            "standoff": 15
           },
           "zerolinecolor": "#283442",
           "zerolinewidth": 2
          }
         }
        },
        "xaxis": {
         "anchor": "y",
         "domain": [
          0,
          1
         ],
         "title": {
          "text": "timestamp"
         }
        },
        "yaxis": {
         "anchor": "x",
         "domain": [
          0,
          1
         ],
         "title": {
          "text": "close price $"
         }
        }
       }
      }
     },
     "metadata": {},
     "output_type": "display_data"
    }
   ],
   "source": [
    "# Finalize Model and Make Predictions\n",
    "final_xgb = xgb_exp.finalize_model(tuned_xgb)\n",
    "# predictions = predict_model(final_xgb, data=btc_test)\n",
    "y_pred_final = xgb_exp.predict_model(final_xgb)\n",
    "\n",
    "fig = px.line(y_pred_final, y=['close', 'prediction_label'], template='plotly_dark', labels={\"value\" : \"close price $\"})\n",
    "\n",
    "fig.show()\n",
    "# pull()"
   ]
  },
  {
   "cell_type": "code",
   "execution_count": 153,
   "id": "44f5001f",
   "metadata": {},
   "outputs": [
    {
     "data": {
      "text/html": [],
      "text/plain": [
       "<IPython.core.display.HTML object>"
      ]
     },
     "metadata": {},
     "output_type": "display_data"
    },
    {
     "name": "stdout",
     "output_type": "stream",
     "text": [
      "                       Model          MAE        MSE         RMSE      R2  \\\n",
      "0  Extreme Gradient Boosting  1209.211914  2860261.0  1691.230591  0.9934   \n",
      "\n",
      "    RMSLE    MAPE  \n",
      "0  0.0252  0.0186  \n"
     ]
    },
    {
     "data": {
      "application/vnd.plotly.v1+json": {
       "config": {
        "plotlyServerURL": "https://plot.ly"
       },
       "data": [
        {
         "hovertemplate": "variable=close<br>timestamp=%{x}<br>close price $=%{y}<extra></extra>",
         "legendgroup": "close",
         "line": {
          "color": "#636efa",
          "dash": "solid"
         },
         "marker": {
          "symbol": "circle"
         },
         "mode": "lines",
         "name": "close",
         "showlegend": true,
         "type": "scattergl",
         "x": [
          "2023-09-29T00:00:00",
          "2023-09-30T00:00:00",
          "2023-10-01T00:00:00",
          "2023-10-02T00:00:00",
          "2023-10-03T00:00:00",
          "2023-10-04T00:00:00",
          "2023-10-05T00:00:00",
          "2023-10-06T00:00:00",
          "2023-10-07T00:00:00",
          "2023-10-08T00:00:00",
          "2023-10-09T00:00:00",
          "2023-10-10T00:00:00",
          "2023-10-11T00:00:00",
          "2023-10-12T00:00:00",
          "2023-10-13T00:00:00",
          "2023-10-14T00:00:00",
          "2023-10-15T00:00:00",
          "2023-10-16T00:00:00",
          "2023-10-17T00:00:00",
          "2023-10-18T00:00:00",
          "2023-10-19T00:00:00",
          "2023-10-20T00:00:00",
          "2023-10-21T00:00:00",
          "2023-10-22T00:00:00",
          "2023-10-23T00:00:00",
          "2023-10-24T00:00:00",
          "2023-10-25T00:00:00",
          "2023-10-26T00:00:00",
          "2023-10-27T00:00:00",
          "2023-10-28T00:00:00",
          "2023-10-29T00:00:00",
          "2023-10-30T00:00:00",
          "2023-10-31T00:00:00",
          "2023-11-01T00:00:00",
          "2023-11-02T00:00:00",
          "2023-11-03T00:00:00",
          "2023-11-04T00:00:00",
          "2023-11-05T00:00:00",
          "2023-11-06T00:00:00",
          "2023-11-07T00:00:00",
          "2023-11-08T00:00:00",
          "2023-11-09T00:00:00",
          "2023-11-10T00:00:00",
          "2023-11-11T00:00:00",
          "2023-11-12T00:00:00",
          "2023-11-13T00:00:00",
          "2023-11-14T00:00:00",
          "2023-11-15T00:00:00",
          "2023-11-16T00:00:00",
          "2023-11-17T00:00:00",
          "2023-11-18T00:00:00",
          "2023-11-19T00:00:00",
          "2023-11-20T00:00:00",
          "2023-11-21T00:00:00",
          "2023-11-22T00:00:00",
          "2023-11-23T00:00:00",
          "2023-11-24T00:00:00",
          "2023-11-25T00:00:00",
          "2023-11-26T00:00:00",
          "2023-11-27T00:00:00",
          "2023-11-28T00:00:00",
          "2023-11-29T00:00:00",
          "2023-11-30T00:00:00",
          "2023-12-01T00:00:00",
          "2023-12-02T00:00:00",
          "2023-12-03T00:00:00",
          "2023-12-04T00:00:00",
          "2023-12-05T00:00:00",
          "2023-12-06T00:00:00",
          "2023-12-07T00:00:00",
          "2023-12-08T00:00:00",
          "2023-12-09T00:00:00",
          "2023-12-10T00:00:00",
          "2023-12-11T00:00:00",
          "2023-12-12T00:00:00",
          "2023-12-13T00:00:00",
          "2023-12-14T00:00:00",
          "2023-12-15T00:00:00",
          "2023-12-16T00:00:00",
          "2023-12-17T00:00:00",
          "2023-12-18T00:00:00",
          "2023-12-19T00:00:00",
          "2023-12-20T00:00:00",
          "2023-12-21T00:00:00",
          "2023-12-22T00:00:00",
          "2023-12-23T00:00:00",
          "2023-12-24T00:00:00",
          "2023-12-25T00:00:00",
          "2023-12-26T00:00:00",
          "2023-12-27T00:00:00",
          "2023-12-28T00:00:00",
          "2023-12-29T00:00:00",
          "2023-12-30T00:00:00",
          "2023-12-31T00:00:00",
          "2024-01-01T00:00:00",
          "2024-01-02T00:00:00",
          "2024-01-03T00:00:00",
          "2024-01-04T00:00:00",
          "2024-01-05T00:00:00",
          "2024-01-06T00:00:00",
          "2024-01-07T00:00:00",
          "2024-01-08T00:00:00",
          "2024-01-09T00:00:00",
          "2024-01-10T00:00:00",
          "2024-01-11T00:00:00",
          "2024-01-12T00:00:00",
          "2024-01-13T00:00:00",
          "2024-01-14T00:00:00",
          "2024-01-15T00:00:00",
          "2024-01-16T00:00:00",
          "2024-01-17T00:00:00",
          "2024-01-18T00:00:00",
          "2024-01-19T00:00:00",
          "2024-01-20T00:00:00",
          "2024-01-21T00:00:00",
          "2024-01-22T00:00:00",
          "2024-01-23T00:00:00",
          "2024-01-24T00:00:00",
          "2024-01-25T00:00:00",
          "2024-01-26T00:00:00",
          "2024-01-27T00:00:00",
          "2024-01-28T00:00:00",
          "2024-01-29T00:00:00",
          "2024-01-30T00:00:00",
          "2024-01-31T00:00:00",
          "2024-02-01T00:00:00",
          "2024-02-02T00:00:00",
          "2024-02-03T00:00:00",
          "2024-02-04T00:00:00",
          "2024-02-05T00:00:00",
          "2024-02-06T00:00:00",
          "2024-02-07T00:00:00",
          "2024-02-08T00:00:00",
          "2024-02-09T00:00:00",
          "2024-02-10T00:00:00",
          "2024-02-11T00:00:00",
          "2024-02-12T00:00:00",
          "2024-02-13T00:00:00",
          "2024-02-14T00:00:00",
          "2024-02-15T00:00:00",
          "2024-02-16T00:00:00",
          "2024-02-17T00:00:00",
          "2024-02-18T00:00:00",
          "2024-02-19T00:00:00",
          "2024-02-20T00:00:00",
          "2024-02-21T00:00:00",
          "2024-02-22T00:00:00",
          "2024-02-23T00:00:00",
          "2024-02-24T00:00:00",
          "2024-02-25T00:00:00",
          "2024-02-26T00:00:00",
          "2024-02-27T00:00:00",
          "2024-02-28T00:00:00",
          "2024-02-29T00:00:00",
          "2024-03-01T00:00:00",
          "2024-03-02T00:00:00",
          "2024-03-03T00:00:00",
          "2024-03-04T00:00:00",
          "2024-03-05T00:00:00",
          "2024-03-06T00:00:00",
          "2024-03-07T00:00:00",
          "2024-03-08T00:00:00",
          "2024-03-09T00:00:00",
          "2024-03-10T00:00:00",
          "2024-03-11T00:00:00",
          "2024-03-12T00:00:00",
          "2024-03-13T00:00:00",
          "2024-03-14T00:00:00",
          "2024-03-15T00:00:00",
          "2024-03-16T00:00:00",
          "2024-03-17T00:00:00",
          "2024-03-18T00:00:00",
          "2024-03-19T00:00:00",
          "2024-03-20T00:00:00",
          "2024-03-21T00:00:00",
          "2024-03-22T00:00:00",
          "2024-03-23T00:00:00",
          "2024-03-24T00:00:00",
          "2024-03-25T00:00:00",
          "2024-03-26T00:00:00",
          "2024-03-27T00:00:00",
          "2024-03-28T00:00:00",
          "2024-03-29T00:00:00",
          "2024-03-30T00:00:00",
          "2024-03-31T00:00:00",
          "2024-04-01T00:00:00",
          "2024-04-02T00:00:00",
          "2024-04-03T00:00:00",
          "2024-04-04T00:00:00",
          "2024-04-05T00:00:00",
          "2024-04-06T00:00:00",
          "2024-04-07T00:00:00",
          "2024-04-08T00:00:00",
          "2024-04-09T00:00:00",
          "2024-04-10T00:00:00",
          "2024-04-11T00:00:00",
          "2024-04-12T00:00:00",
          "2024-04-13T00:00:00",
          "2024-04-14T00:00:00",
          "2024-04-15T00:00:00",
          "2024-04-16T00:00:00",
          "2024-04-17T00:00:00",
          "2024-04-18T00:00:00",
          "2024-04-19T00:00:00",
          "2024-04-20T00:00:00",
          "2024-04-21T00:00:00",
          "2024-04-22T00:00:00",
          "2024-04-23T00:00:00",
          "2024-04-24T00:00:00",
          "2024-04-25T00:00:00",
          "2024-04-26T00:00:00",
          "2024-04-27T00:00:00",
          "2024-04-28T00:00:00",
          "2024-04-29T00:00:00",
          "2024-04-30T00:00:00",
          "2024-05-01T00:00:00",
          "2024-05-02T00:00:00",
          "2024-05-03T00:00:00",
          "2024-05-04T00:00:00",
          "2024-05-05T00:00:00",
          "2024-05-06T00:00:00",
          "2024-05-07T00:00:00",
          "2024-05-08T00:00:00",
          "2024-05-09T00:00:00",
          "2024-05-10T00:00:00",
          "2024-05-11T00:00:00",
          "2024-05-12T00:00:00",
          "2024-05-13T00:00:00",
          "2024-05-14T00:00:00",
          "2024-05-15T00:00:00",
          "2024-05-16T00:00:00",
          "2024-05-17T00:00:00",
          "2024-05-18T00:00:00",
          "2024-05-19T00:00:00",
          "2024-05-20T00:00:00",
          "2024-05-21T00:00:00",
          "2024-05-22T00:00:00",
          "2024-05-23T00:00:00",
          "2024-05-24T00:00:00",
          "2024-05-25T00:00:00",
          "2024-05-26T00:00:00",
          "2024-05-27T00:00:00",
          "2024-05-28T00:00:00",
          "2024-05-29T00:00:00",
          "2024-05-30T00:00:00",
          "2024-05-31T00:00:00",
          "2024-06-01T00:00:00",
          "2024-06-02T00:00:00",
          "2024-06-03T00:00:00",
          "2024-06-04T00:00:00",
          "2024-06-05T00:00:00",
          "2024-06-06T00:00:00",
          "2024-06-07T00:00:00",
          "2024-06-08T00:00:00",
          "2024-06-09T00:00:00",
          "2024-06-10T00:00:00",
          "2024-06-11T00:00:00",
          "2024-06-12T00:00:00",
          "2024-06-13T00:00:00",
          "2024-06-14T00:00:00",
          "2024-06-15T00:00:00",
          "2024-06-16T00:00:00",
          "2024-06-17T00:00:00",
          "2024-06-18T00:00:00",
          "2024-06-19T00:00:00",
          "2024-06-20T00:00:00",
          "2024-06-21T00:00:00",
          "2024-06-22T00:00:00",
          "2024-06-23T00:00:00",
          "2024-06-24T00:00:00",
          "2024-06-25T00:00:00",
          "2024-06-26T00:00:00",
          "2024-06-27T00:00:00",
          "2024-06-28T00:00:00",
          "2024-06-29T00:00:00",
          "2024-06-30T00:00:00",
          "2024-07-01T00:00:00",
          "2024-07-02T00:00:00",
          "2024-07-03T00:00:00",
          "2024-07-04T00:00:00",
          "2024-07-05T00:00:00",
          "2024-07-06T00:00:00",
          "2024-07-07T00:00:00",
          "2024-07-08T00:00:00",
          "2024-07-09T00:00:00",
          "2024-07-10T00:00:00",
          "2024-07-11T00:00:00",
          "2024-07-12T00:00:00",
          "2024-07-13T00:00:00",
          "2024-07-14T00:00:00",
          "2024-07-15T00:00:00",
          "2024-07-16T00:00:00",
          "2024-07-17T00:00:00",
          "2024-07-18T00:00:00",
          "2024-07-19T00:00:00",
          "2024-07-20T00:00:00",
          "2024-07-21T00:00:00",
          "2024-07-22T00:00:00",
          "2024-07-23T00:00:00",
          "2024-07-24T00:00:00",
          "2024-07-25T00:00:00",
          "2024-07-26T00:00:00",
          "2024-07-27T00:00:00",
          "2024-07-28T00:00:00",
          "2024-07-29T00:00:00",
          "2024-07-30T00:00:00",
          "2024-07-31T00:00:00",
          "2024-08-01T00:00:00",
          "2024-08-02T00:00:00",
          "2024-08-03T00:00:00",
          "2024-08-04T00:00:00",
          "2024-08-05T00:00:00",
          "2024-08-06T00:00:00",
          "2024-08-07T00:00:00",
          "2024-08-08T00:00:00",
          "2024-08-09T00:00:00",
          "2024-08-10T00:00:00",
          "2024-08-11T00:00:00",
          "2024-08-12T00:00:00",
          "2024-08-13T00:00:00",
          "2024-08-14T00:00:00",
          "2024-08-15T00:00:00",
          "2024-08-16T00:00:00",
          "2024-08-17T00:00:00",
          "2024-08-18T00:00:00",
          "2024-08-19T00:00:00",
          "2024-08-20T00:00:00",
          "2024-08-21T00:00:00",
          "2024-08-22T00:00:00",
          "2024-08-23T00:00:00",
          "2024-08-24T00:00:00",
          "2024-08-25T00:00:00",
          "2024-08-26T00:00:00",
          "2024-08-27T00:00:00",
          "2024-08-28T00:00:00",
          "2024-08-29T00:00:00",
          "2024-08-30T00:00:00",
          "2024-08-31T00:00:00",
          "2024-09-01T00:00:00",
          "2024-09-02T00:00:00",
          "2024-09-03T00:00:00",
          "2024-09-04T00:00:00",
          "2024-09-05T00:00:00",
          "2024-09-06T00:00:00",
          "2024-09-07T00:00:00",
          "2024-09-08T00:00:00",
          "2024-09-09T00:00:00",
          "2024-09-10T00:00:00",
          "2024-09-11T00:00:00",
          "2024-09-12T00:00:00",
          "2024-09-13T00:00:00",
          "2024-09-14T00:00:00",
          "2024-09-15T00:00:00",
          "2024-09-16T00:00:00",
          "2024-09-17T00:00:00",
          "2024-09-18T00:00:00",
          "2024-09-19T00:00:00",
          "2024-09-20T00:00:00",
          "2024-09-21T00:00:00",
          "2024-09-22T00:00:00",
          "2024-09-23T00:00:00",
          "2024-09-24T00:00:00",
          "2024-09-25T00:00:00",
          "2024-09-26T00:00:00",
          "2024-09-27T00:00:00",
          "2024-09-28T00:00:00",
          "2024-09-29T00:00:00",
          "2024-09-30T00:00:00",
          "2024-10-01T00:00:00",
          "2024-10-02T00:00:00",
          "2024-10-03T00:00:00",
          "2024-10-04T00:00:00",
          "2024-10-05T00:00:00",
          "2024-10-06T00:00:00",
          "2024-10-07T00:00:00",
          "2024-10-08T00:00:00",
          "2024-10-09T00:00:00",
          "2024-10-10T00:00:00",
          "2024-10-11T00:00:00",
          "2024-10-12T00:00:00",
          "2024-10-13T00:00:00",
          "2024-10-14T00:00:00",
          "2024-10-15T00:00:00",
          "2024-10-16T00:00:00",
          "2024-10-17T00:00:00",
          "2024-10-18T00:00:00",
          "2024-10-19T00:00:00",
          "2024-10-20T00:00:00",
          "2024-10-21T00:00:00",
          "2024-10-22T00:00:00",
          "2024-10-23T00:00:00",
          "2024-10-24T00:00:00",
          "2024-10-25T00:00:00",
          "2024-10-26T00:00:00",
          "2024-10-27T00:00:00",
          "2024-10-28T00:00:00",
          "2024-10-29T00:00:00",
          "2024-10-30T00:00:00",
          "2024-10-31T00:00:00",
          "2024-11-01T00:00:00",
          "2024-11-02T00:00:00",
          "2024-11-03T00:00:00",
          "2024-11-04T00:00:00",
          "2024-11-05T00:00:00",
          "2024-11-06T00:00:00",
          "2024-11-07T00:00:00",
          "2024-11-08T00:00:00",
          "2024-11-09T00:00:00",
          "2024-11-10T00:00:00",
          "2024-11-11T00:00:00",
          "2024-11-12T00:00:00",
          "2024-11-13T00:00:00",
          "2024-11-14T00:00:00",
          "2024-11-15T00:00:00",
          "2024-11-16T00:00:00",
          "2024-11-17T00:00:00",
          "2024-11-18T00:00:00",
          "2024-11-19T00:00:00",
          "2024-11-20T00:00:00",
          "2024-11-21T00:00:00",
          "2024-11-22T00:00:00",
          "2024-11-23T00:00:00",
          "2024-11-24T00:00:00",
          "2024-11-25T00:00:00",
          "2024-11-26T00:00:00",
          "2024-11-27T00:00:00",
          "2024-11-28T00:00:00",
          "2024-11-29T00:00:00",
          "2024-11-30T00:00:00",
          "2024-12-01T00:00:00",
          "2024-12-02T00:00:00",
          "2024-12-03T00:00:00",
          "2024-12-04T00:00:00",
          "2024-12-05T00:00:00",
          "2024-12-06T00:00:00",
          "2024-12-07T00:00:00",
          "2024-12-08T00:00:00",
          "2024-12-09T00:00:00",
          "2024-12-10T00:00:00",
          "2024-12-11T00:00:00",
          "2024-12-12T00:00:00",
          "2024-12-13T00:00:00",
          "2024-12-14T00:00:00",
          "2024-12-15T00:00:00",
          "2024-12-16T00:00:00",
          "2024-12-17T00:00:00",
          "2024-12-18T00:00:00",
          "2024-12-19T00:00:00",
          "2024-12-20T00:00:00",
          "2024-12-21T00:00:00",
          "2024-12-22T00:00:00",
          "2024-12-23T00:00:00",
          "2024-12-24T00:00:00",
          "2024-12-25T00:00:00",
          "2024-12-26T00:00:00",
          "2024-12-27T00:00:00",
          "2024-12-28T00:00:00",
          "2024-12-29T00:00:00",
          "2024-12-30T00:00:00",
          "2024-12-31T00:00:00",
          "2025-01-01T00:00:00",
          "2025-01-02T00:00:00",
          "2025-01-03T00:00:00",
          "2025-01-04T00:00:00",
          "2025-01-05T00:00:00",
          "2025-01-06T00:00:00",
          "2025-01-07T00:00:00",
          "2025-01-08T00:00:00",
          "2025-01-09T00:00:00",
          "2025-01-10T00:00:00",
          "2025-01-11T00:00:00",
          "2025-01-12T00:00:00",
          "2025-01-13T00:00:00",
          "2025-01-14T00:00:00",
          "2025-01-15T00:00:00",
          "2025-01-16T00:00:00",
          "2025-01-17T00:00:00",
          "2025-01-18T00:00:00",
          "2025-01-19T00:00:00",
          "2025-01-20T00:00:00",
          "2025-01-21T00:00:00",
          "2025-01-22T00:00:00",
          "2025-01-23T00:00:00",
          "2025-01-24T00:00:00",
          "2025-01-25T00:00:00",
          "2025-01-26T00:00:00",
          "2025-01-27T00:00:00",
          "2025-01-28T00:00:00",
          "2025-01-29T00:00:00",
          "2025-01-30T00:00:00",
          "2025-01-31T00:00:00",
          "2025-02-01T00:00:00",
          "2025-02-02T00:00:00",
          "2025-02-03T00:00:00",
          "2025-02-04T00:00:00",
          "2025-02-05T00:00:00",
          "2025-02-06T00:00:00",
          "2025-02-07T00:00:00",
          "2025-02-08T00:00:00",
          "2025-02-09T00:00:00",
          "2025-02-10T00:00:00",
          "2025-02-11T00:00:00",
          "2025-02-12T00:00:00",
          "2025-02-13T00:00:00",
          "2025-02-14T00:00:00",
          "2025-02-15T00:00:00",
          "2025-02-16T00:00:00",
          "2025-02-17T00:00:00",
          "2025-02-18T00:00:00",
          "2025-02-19T00:00:00",
          "2025-02-20T00:00:00",
          "2025-02-21T00:00:00",
          "2025-02-22T00:00:00",
          "2025-02-23T00:00:00",
          "2025-02-24T00:00:00",
          "2025-02-25T00:00:00",
          "2025-02-26T00:00:00",
          "2025-02-27T00:00:00",
          "2025-02-28T00:00:00",
          "2025-03-01T00:00:00",
          "2025-03-02T00:00:00",
          "2025-03-03T00:00:00",
          "2025-03-04T00:00:00",
          "2025-03-05T00:00:00",
          "2025-03-06T00:00:00",
          "2025-03-07T00:00:00",
          "2025-03-08T00:00:00",
          "2025-03-09T00:00:00",
          "2025-03-10T00:00:00",
          "2025-03-11T00:00:00",
          "2025-03-12T00:00:00",
          "2025-03-13T00:00:00",
          "2025-03-14T00:00:00",
          "2025-03-15T00:00:00",
          "2025-03-16T00:00:00",
          "2025-03-17T00:00:00",
          "2025-03-18T00:00:00",
          "2025-03-19T00:00:00",
          "2025-03-20T00:00:00",
          "2025-03-21T00:00:00",
          "2025-03-22T00:00:00",
          "2025-03-23T00:00:00",
          "2025-03-24T00:00:00",
          "2025-03-25T00:00:00",
          "2025-03-26T00:00:00",
          "2025-03-27T00:00:00",
          "2025-03-28T00:00:00",
          "2025-03-29T00:00:00",
          "2025-03-30T00:00:00",
          "2025-03-31T00:00:00",
          "2025-04-01T00:00:00",
          "2025-04-02T00:00:00",
          "2025-04-03T00:00:00",
          "2025-04-04T00:00:00",
          "2025-04-05T00:00:00",
          "2025-04-06T00:00:00",
          "2025-04-07T00:00:00",
          "2025-04-08T00:00:00",
          "2025-04-09T00:00:00",
          "2025-04-10T00:00:00",
          "2025-04-11T00:00:00",
          "2025-04-12T00:00:00",
          "2025-04-13T00:00:00",
          "2025-04-14T00:00:00",
          "2025-04-15T00:00:00",
          "2025-04-16T00:00:00",
          "2025-04-17T00:00:00",
          "2025-04-18T00:00:00"
         ],
         "xaxis": "x",
         "y": [
          26906.9609375,
          26962.560546875,
          27992.5703125,
          27494.509765625,
          27426.4609375,
          27778.5703125,
          27410.390625,
          27931.08984375,
          27956.669921875,
          27917.05078125,
          27590.119140625,
          27390.119140625,
          26875.51953125,
          26759.630859375,
          26862,
          26852.48046875,
          27154.150390625,
          28500.779296875,
          28395.91015625,
          28320,
          28713.7109375,
          29669.0390625,
          29909.80078125,
          29992.4609375,
          33069.98828125,
          33922.73046875,
          34496.05078125,
          34151.66015625,
          33892.01953125,
          34081,
          34525.890625,
          34474.73046875,
          34639.76953125,
          35421.4296875,
          34941.58984375,
          34716.78125,
          35062.0703125,
          35011.87890625,
          35046.08984375,
          35399.12109375,
          35624.71875,
          36701.08984375,
          37301.62890625,
          37130,
          37064.12890625,
          36462.9296875,
          35551.19140625,
          37858.19921875,
          36163.51171875,
          36613.921875,
          36568.1015625,
          37359.859375,
          37448.78125,
          35741.6484375,
          37408.33984375,
          37294.28125,
          37713.5703125,
          37780.671875,
          37447.4296875,
          37242.69921875,
          37818.87109375,
          37854.640625,
          37723.9609375,
          38682.51953125,
          39450.3515625,
          39972.26171875,
          41991.1015625,
          44073.3203125,
          43762.69140625,
          43273.140625,
          44170.98828125,
          43713.6015625,
          43789.51171875,
          41253.3984375,
          41492.390625,
          42869.03125,
          43022.26171875,
          41940.30078125,
          42278.03125,
          41374.6484375,
          42657.80078125,
          42275.98828125,
          43668.9296875,
          43861.80078125,
          43969.0390625,
          43702.16015625,
          42991.5,
          43576.12890625,
          42508.9296875,
          43428.8515625,
          42563.76171875,
          42066.94921875,
          42140.28125,
          42283.578125,
          44179.55078125,
          44946.91015625,
          42845.23046875,
          44151.1015625,
          44145.109375,
          43968.3203125,
          43929.01953125,
          46951.0390625,
          46110,
          46653.98828125,
          46339.16015625,
          42782.73046875,
          42847.98828125,
          41732.3515625,
          42511.1015625,
          43137.94921875,
          42776.1015625,
          41327.5,
          41659.03125,
          41696.0390625,
          41580.328125,
          39568.01953125,
          39897.6015625,
          40084.87890625,
          39961.08984375,
          41823.51171875,
          42120.62890625,
          42031.05859375,
          43302.69921875,
          42941.1015625,
          42580,
          43082.94140625,
          43200,
          43011.08984375,
          42582.87890625,
          42708.69921875,
          43098.94921875,
          44349.6015625,
          45288.6484375,
          47132.76953125,
          47751.08984375,
          48299.98828125,
          49917.26953125,
          49699.58984375,
          51795.171875,
          51880,
          52124.109375,
          51642.640625,
          52137.671875,
          51774.73046875,
          52258.8203125,
          51849.390625,
          51288.421875,
          50744.1484375,
          51568.21875,
          51728.8515625,
          54476.46875,
          57037.33984375,
          62432.1015625,
          61130.98046875,
          62387.8984375,
          61987.28125,
          63113.96875,
          68245.7109375,
          63724.01171875,
          66074.0390625,
          66823.171875,
          68124.1875,
          68313.2734375,
          68955.8828125,
          72078.1015625,
          71452.0078125,
          73072.40625,
          71388.9375,
          69499.8515625,
          65300.62890625,
          68393.4765625,
          67609.9921875,
          61937.3984375,
          67840.5078125,
          65501.26953125,
          63796.640625,
          63990.01171875,
          67209.9921875,
          69880.0078125,
          69988,
          69469.9921875,
          70780.6015625,
          69850.5390625,
          69582.1796875,
          71280.0078125,
          69649.796875,
          65463.98828125,
          65963.28125,
          68487.7890625,
          67820.6171875,
          68896,
          69360.390625,
          71620,
          69146,
          70631.078125,
          70006.2265625,
          67116.5234375,
          63924.51171875,
          65661.84375,
          63419.98828125,
          63793.390625,
          61277.37109375,
          63470.078125,
          63818.01171875,
          64940.58984375,
          64941.1484375,
          66819.3203125,
          66414,
          64289.58984375,
          64498.33984375,
          63770.01171875,
          63461.98046875,
          63118.62109375,
          63866,
          60672,
          58364.96875,
          59060.609375,
          62882.01171875,
          63892.0390625,
          64012,
          63165.19140625,
          62312.078125,
          61193.03125,
          63074.01171875,
          60799.98828125,
          60825.98828125,
          61483.98828125,
          62940.078125,
          61577.48828125,
          66206.5,
          65235.2109375,
          67024,
          66915.203125,
          66274.0078125,
          71446.6171875,
          70148.34375,
          69166.6171875,
          67969.6484375,
          68549.9921875,
          69290.5703125,
          68507.671875,
          69436.4296875,
          68398.390625,
          67652.421875,
          68352.171875,
          67540.0078125,
          67766.8515625,
          67765.6328125,
          68809.8984375,
          70537.84375,
          71108,
          70799.0625,
          69355.6015625,
          69310.4609375,
          69648.140625,
          69540,
          67314.2421875,
          68263.9921875,
          66773.0078125,
          66043.9921875,
          66228.25,
          66676.8671875,
          66504.328125,
          65175.3203125,
          64974.37109375,
          64869.98828125,
          64143.55859375,
          64262.01171875,
          63210.01171875,
          60293.30078125,
          61806.01171875,
          60864.98828125,
          61706.46875,
          60427.83984375,
          60986.6796875,
          62772.01171875,
          62899.98828125,
          62135.46875,
          60208.578125,
          57050.01171875,
          56628.7890625,
          58230.12890625,
          55857.80859375,
          56714.62109375,
          58050,
          57725.8515625,
          57339.890625,
          57889.1015625,
          59204.01953125,
          60797.91015625,
          64724.140625,
          65043.98828125,
          64087.98828125,
          63987.921875,
          66660,
          67139.9609375,
          68165.34375,
          67532.0078125,
          65936.0078125,
          65376,
          65799.953125,
          67907.9921875,
          67896.5,
          68249.8828125,
          66784.6875,
          66188,
          64628,
          65354.01953125,
          61498.328125,
          60697.98828125,
          58161,
          54018.80859375,
          56022.01171875,
          55134.16015625,
          61685.98828125,
          60837.98828125,
          60923.51171875,
          58712.58984375,
          59346.640625,
          60587.1484375,
          58683.390625,
          57541.05859375,
          58874.6015625,
          59491.98828125,
          58427.3515625,
          59438.5,
          59013.80078125,
          61156.03125,
          60375.83984375,
          64037.23828125,
          64157.01171875,
          64220,
          62834,
          59415,
          59034.8984375,
          59359.01171875,
          59123.98828125,
          58973.98828125,
          57301.859375,
          59132.12890625,
          57487.73046875,
          57970.8984375,
          56180,
          53962.96875,
          54160.859375,
          54869.94921875,
          57042,
          57635.98828125,
          57338,
          58132.3203125,
          60498,
          59993.03125,
          59132,
          58213.98828125,
          60313.98828125,
          61759.98828125,
          62947.98828125,
          63201.05078125,
          63348.9609375,
          63578.76171875,
          63339.98828125,
          64262.69921875,
          63152.01171875,
          65173.98828125,
          65769.953125,
          65858,
          65602.0078125,
          63327.58984375,
          60805.78125,
          60649.28125,
          60752.7109375,
          62086,
          62058,
          62819.91015625,
          62224,
          62160.48828125,
          60636.01953125,
          60326.390625,
          62540,
          63206.21875,
          62870.01953125,
          66083.9921875,
          67074.140625,
          67620.0078125,
          67421.78125,
          68428,
          68378,
          69031.9921875,
          67377.5,
          67426,
          66668.6484375,
          68198.28125,
          66698.328125,
          67092.7578125,
          68021.703125,
          69962.2109375,
          72736.421875,
          72344.7421875,
          70292.0078125,
          69496.0078125,
          69374.7421875,
          68775.9921875,
          67850.0078125,
          69372.0078125,
          75571.9921875,
          75857.890625,
          76509.78125,
          76677.4609375,
          80370.0078125,
          88647.9921875,
          87952.0078125,
          90375.203125,
          87325.59375,
          91032.0703125,
          90586.921875,
          89855.9921875,
          90464.078125,
          92310.7890625,
          94286.5625,
          98317.1171875,
          98892,
          97672.3984375,
          97900.0390625,
          93010.0078125,
          91965.15625,
          95863.109375,
          95643.9765625,
          97460,
          96407.9921875,
          97185.1796875,
          95840.6171875,
          95849.6875,
          98587.3203125,
          96945.6328125,
          99740.84375,
          99831.9921875,
          101109.59375,
          97276.46875,
          96593,
          101125,
          100004.2890625,
          101424.25,
          101420,
          104463.9921875,
          106058.65625,
          106133.7421875,
          100204.0078125,
          97461.859375,
          97805.4375,
          97291.9921875,
          95186.2734375,
          94881.46875,
          98663.578125,
          99429.6015625,
          95791.6015625,
          94299.03125,
          95300,
          93738.203125,
          92792.046875,
          93576,
          94591.7890625,
          96984.7890625,
          98174.1796875,
          98220.5,
          98363.609375,
          102235.6015625,
          96954.609375,
          95060.609375,
          92552.4921875,
          94726.109375,
          94599.9921875,
          94545.0625,
          94536.1015625,
          96560.859375,
          100497.3515625,
          99987.296875,
          104077.4765625,
          104556.2265625,
          101331.5703125,
          102260.0078125,
          106143.8203125,
          103706.65625,
          103910.34375,
          104870.5,
          104746.8515625,
          102620,
          102082.828125,
          101335.5234375,
          103733.2421875,
          104722.9375,
          102429.5625,
          100635.6484375,
          97700.59375,
          101328.5234375,
          97763.1328125,
          96612.4296875,
          96554.3515625,
          96506.796875,
          96444.7421875,
          96462.75,
          97430.8203125,
          95778.203125,
          97869.9921875,
          96608.140625,
          97500.4765625,
          97569.65625,
          96118.1171875,
          95780,
          95671.7421875,
          96644.3671875,
          98305,
          96181.9765625,
          96551.0078125,
          96258,
          91552.8828125,
          88680.3984375,
          84250.09375,
          84708.578125,
          84349.9375,
          86064.53125,
          94270,
          86220.609375,
          87281.9765625,
          90606.0078125,
          89931.890625,
          86801.75,
          86222.453125,
          80734.3671875,
          78595.859375,
          82932.9921875,
          83680.1171875,
          81115.78125,
          83983.203125,
          84338.4375,
          82574.53125,
          84010.03125,
          82715.03125,
          86845.9375,
          84223.390625,
          84088.79,
          83840.59,
          86082.5,
          87498.16,
          87392.87,
          86909.17,
          87232.01,
          84424.38,
          82648.54,
          82389.99,
          82550.01,
          85158.34,
          82516.29,
          83213.09,
          83889.87,
          83537.99,
          78430,
          79163.24,
          76322.42,
          82615.22,
          79607.3,
          83423.84,
          85276.9,
          83760,
          84591.58,
          83643.99,
          84030.38,
          84947.91,
          84586.32
         ],
         "yaxis": "y"
        },
        {
         "hovertemplate": "variable=prediction_label<br>timestamp=%{x}<br>close price $=%{y}<extra></extra>",
         "legendgroup": "prediction_label",
         "line": {
          "color": "#EF553B",
          "dash": "solid"
         },
         "marker": {
          "symbol": "circle"
         },
         "mode": "lines",
         "name": "prediction_label",
         "showlegend": true,
         "type": "scattergl",
         "x": [
          "2023-09-29T00:00:00",
          "2023-09-30T00:00:00",
          "2023-10-01T00:00:00",
          "2023-10-02T00:00:00",
          "2023-10-03T00:00:00",
          "2023-10-04T00:00:00",
          "2023-10-05T00:00:00",
          "2023-10-06T00:00:00",
          "2023-10-07T00:00:00",
          "2023-10-08T00:00:00",
          "2023-10-09T00:00:00",
          "2023-10-10T00:00:00",
          "2023-10-11T00:00:00",
          "2023-10-12T00:00:00",
          "2023-10-13T00:00:00",
          "2023-10-14T00:00:00",
          "2023-10-15T00:00:00",
          "2023-10-16T00:00:00",
          "2023-10-17T00:00:00",
          "2023-10-18T00:00:00",
          "2023-10-19T00:00:00",
          "2023-10-20T00:00:00",
          "2023-10-21T00:00:00",
          "2023-10-22T00:00:00",
          "2023-10-23T00:00:00",
          "2023-10-24T00:00:00",
          "2023-10-25T00:00:00",
          "2023-10-26T00:00:00",
          "2023-10-27T00:00:00",
          "2023-10-28T00:00:00",
          "2023-10-29T00:00:00",
          "2023-10-30T00:00:00",
          "2023-10-31T00:00:00",
          "2023-11-01T00:00:00",
          "2023-11-02T00:00:00",
          "2023-11-03T00:00:00",
          "2023-11-04T00:00:00",
          "2023-11-05T00:00:00",
          "2023-11-06T00:00:00",
          "2023-11-07T00:00:00",
          "2023-11-08T00:00:00",
          "2023-11-09T00:00:00",
          "2023-11-10T00:00:00",
          "2023-11-11T00:00:00",
          "2023-11-12T00:00:00",
          "2023-11-13T00:00:00",
          "2023-11-14T00:00:00",
          "2023-11-15T00:00:00",
          "2023-11-16T00:00:00",
          "2023-11-17T00:00:00",
          "2023-11-18T00:00:00",
          "2023-11-19T00:00:00",
          "2023-11-20T00:00:00",
          "2023-11-21T00:00:00",
          "2023-11-22T00:00:00",
          "2023-11-23T00:00:00",
          "2023-11-24T00:00:00",
          "2023-11-25T00:00:00",
          "2023-11-26T00:00:00",
          "2023-11-27T00:00:00",
          "2023-11-28T00:00:00",
          "2023-11-29T00:00:00",
          "2023-11-30T00:00:00",
          "2023-12-01T00:00:00",
          "2023-12-02T00:00:00",
          "2023-12-03T00:00:00",
          "2023-12-04T00:00:00",
          "2023-12-05T00:00:00",
          "2023-12-06T00:00:00",
          "2023-12-07T00:00:00",
          "2023-12-08T00:00:00",
          "2023-12-09T00:00:00",
          "2023-12-10T00:00:00",
          "2023-12-11T00:00:00",
          "2023-12-12T00:00:00",
          "2023-12-13T00:00:00",
          "2023-12-14T00:00:00",
          "2023-12-15T00:00:00",
          "2023-12-16T00:00:00",
          "2023-12-17T00:00:00",
          "2023-12-18T00:00:00",
          "2023-12-19T00:00:00",
          "2023-12-20T00:00:00",
          "2023-12-21T00:00:00",
          "2023-12-22T00:00:00",
          "2023-12-23T00:00:00",
          "2023-12-24T00:00:00",
          "2023-12-25T00:00:00",
          "2023-12-26T00:00:00",
          "2023-12-27T00:00:00",
          "2023-12-28T00:00:00",
          "2023-12-29T00:00:00",
          "2023-12-30T00:00:00",
          "2023-12-31T00:00:00",
          "2024-01-01T00:00:00",
          "2024-01-02T00:00:00",
          "2024-01-03T00:00:00",
          "2024-01-04T00:00:00",
          "2024-01-05T00:00:00",
          "2024-01-06T00:00:00",
          "2024-01-07T00:00:00",
          "2024-01-08T00:00:00",
          "2024-01-09T00:00:00",
          "2024-01-10T00:00:00",
          "2024-01-11T00:00:00",
          "2024-01-12T00:00:00",
          "2024-01-13T00:00:00",
          "2024-01-14T00:00:00",
          "2024-01-15T00:00:00",
          "2024-01-16T00:00:00",
          "2024-01-17T00:00:00",
          "2024-01-18T00:00:00",
          "2024-01-19T00:00:00",
          "2024-01-20T00:00:00",
          "2024-01-21T00:00:00",
          "2024-01-22T00:00:00",
          "2024-01-23T00:00:00",
          "2024-01-24T00:00:00",
          "2024-01-25T00:00:00",
          "2024-01-26T00:00:00",
          "2024-01-27T00:00:00",
          "2024-01-28T00:00:00",
          "2024-01-29T00:00:00",
          "2024-01-30T00:00:00",
          "2024-01-31T00:00:00",
          "2024-02-01T00:00:00",
          "2024-02-02T00:00:00",
          "2024-02-03T00:00:00",
          "2024-02-04T00:00:00",
          "2024-02-05T00:00:00",
          "2024-02-06T00:00:00",
          "2024-02-07T00:00:00",
          "2024-02-08T00:00:00",
          "2024-02-09T00:00:00",
          "2024-02-10T00:00:00",
          "2024-02-11T00:00:00",
          "2024-02-12T00:00:00",
          "2024-02-13T00:00:00",
          "2024-02-14T00:00:00",
          "2024-02-15T00:00:00",
          "2024-02-16T00:00:00",
          "2024-02-17T00:00:00",
          "2024-02-18T00:00:00",
          "2024-02-19T00:00:00",
          "2024-02-20T00:00:00",
          "2024-02-21T00:00:00",
          "2024-02-22T00:00:00",
          "2024-02-23T00:00:00",
          "2024-02-24T00:00:00",
          "2024-02-25T00:00:00",
          "2024-02-26T00:00:00",
          "2024-02-27T00:00:00",
          "2024-02-28T00:00:00",
          "2024-02-29T00:00:00",
          "2024-03-01T00:00:00",
          "2024-03-02T00:00:00",
          "2024-03-03T00:00:00",
          "2024-03-04T00:00:00",
          "2024-03-05T00:00:00",
          "2024-03-06T00:00:00",
          "2024-03-07T00:00:00",
          "2024-03-08T00:00:00",
          "2024-03-09T00:00:00",
          "2024-03-10T00:00:00",
          "2024-03-11T00:00:00",
          "2024-03-12T00:00:00",
          "2024-03-13T00:00:00",
          "2024-03-14T00:00:00",
          "2024-03-15T00:00:00",
          "2024-03-16T00:00:00",
          "2024-03-17T00:00:00",
          "2024-03-18T00:00:00",
          "2024-03-19T00:00:00",
          "2024-03-20T00:00:00",
          "2024-03-21T00:00:00",
          "2024-03-22T00:00:00",
          "2024-03-23T00:00:00",
          "2024-03-24T00:00:00",
          "2024-03-25T00:00:00",
          "2024-03-26T00:00:00",
          "2024-03-27T00:00:00",
          "2024-03-28T00:00:00",
          "2024-03-29T00:00:00",
          "2024-03-30T00:00:00",
          "2024-03-31T00:00:00",
          "2024-04-01T00:00:00",
          "2024-04-02T00:00:00",
          "2024-04-03T00:00:00",
          "2024-04-04T00:00:00",
          "2024-04-05T00:00:00",
          "2024-04-06T00:00:00",
          "2024-04-07T00:00:00",
          "2024-04-08T00:00:00",
          "2024-04-09T00:00:00",
          "2024-04-10T00:00:00",
          "2024-04-11T00:00:00",
          "2024-04-12T00:00:00",
          "2024-04-13T00:00:00",
          "2024-04-14T00:00:00",
          "2024-04-15T00:00:00",
          "2024-04-16T00:00:00",
          "2024-04-17T00:00:00",
          "2024-04-18T00:00:00",
          "2024-04-19T00:00:00",
          "2024-04-20T00:00:00",
          "2024-04-21T00:00:00",
          "2024-04-22T00:00:00",
          "2024-04-23T00:00:00",
          "2024-04-24T00:00:00",
          "2024-04-25T00:00:00",
          "2024-04-26T00:00:00",
          "2024-04-27T00:00:00",
          "2024-04-28T00:00:00",
          "2024-04-29T00:00:00",
          "2024-04-30T00:00:00",
          "2024-05-01T00:00:00",
          "2024-05-02T00:00:00",
          "2024-05-03T00:00:00",
          "2024-05-04T00:00:00",
          "2024-05-05T00:00:00",
          "2024-05-06T00:00:00",
          "2024-05-07T00:00:00",
          "2024-05-08T00:00:00",
          "2024-05-09T00:00:00",
          "2024-05-10T00:00:00",
          "2024-05-11T00:00:00",
          "2024-05-12T00:00:00",
          "2024-05-13T00:00:00",
          "2024-05-14T00:00:00",
          "2024-05-15T00:00:00",
          "2024-05-16T00:00:00",
          "2024-05-17T00:00:00",
          "2024-05-18T00:00:00",
          "2024-05-19T00:00:00",
          "2024-05-20T00:00:00",
          "2024-05-21T00:00:00",
          "2024-05-22T00:00:00",
          "2024-05-23T00:00:00",
          "2024-05-24T00:00:00",
          "2024-05-25T00:00:00",
          "2024-05-26T00:00:00",
          "2024-05-27T00:00:00",
          "2024-05-28T00:00:00",
          "2024-05-29T00:00:00",
          "2024-05-30T00:00:00",
          "2024-05-31T00:00:00",
          "2024-06-01T00:00:00",
          "2024-06-02T00:00:00",
          "2024-06-03T00:00:00",
          "2024-06-04T00:00:00",
          "2024-06-05T00:00:00",
          "2024-06-06T00:00:00",
          "2024-06-07T00:00:00",
          "2024-06-08T00:00:00",
          "2024-06-09T00:00:00",
          "2024-06-10T00:00:00",
          "2024-06-11T00:00:00",
          "2024-06-12T00:00:00",
          "2024-06-13T00:00:00",
          "2024-06-14T00:00:00",
          "2024-06-15T00:00:00",
          "2024-06-16T00:00:00",
          "2024-06-17T00:00:00",
          "2024-06-18T00:00:00",
          "2024-06-19T00:00:00",
          "2024-06-20T00:00:00",
          "2024-06-21T00:00:00",
          "2024-06-22T00:00:00",
          "2024-06-23T00:00:00",
          "2024-06-24T00:00:00",
          "2024-06-25T00:00:00",
          "2024-06-26T00:00:00",
          "2024-06-27T00:00:00",
          "2024-06-28T00:00:00",
          "2024-06-29T00:00:00",
          "2024-06-30T00:00:00",
          "2024-07-01T00:00:00",
          "2024-07-02T00:00:00",
          "2024-07-03T00:00:00",
          "2024-07-04T00:00:00",
          "2024-07-05T00:00:00",
          "2024-07-06T00:00:00",
          "2024-07-07T00:00:00",
          "2024-07-08T00:00:00",
          "2024-07-09T00:00:00",
          "2024-07-10T00:00:00",
          "2024-07-11T00:00:00",
          "2024-07-12T00:00:00",
          "2024-07-13T00:00:00",
          "2024-07-14T00:00:00",
          "2024-07-15T00:00:00",
          "2024-07-16T00:00:00",
          "2024-07-17T00:00:00",
          "2024-07-18T00:00:00",
          "2024-07-19T00:00:00",
          "2024-07-20T00:00:00",
          "2024-07-21T00:00:00",
          "2024-07-22T00:00:00",
          "2024-07-23T00:00:00",
          "2024-07-24T00:00:00",
          "2024-07-25T00:00:00",
          "2024-07-26T00:00:00",
          "2024-07-27T00:00:00",
          "2024-07-28T00:00:00",
          "2024-07-29T00:00:00",
          "2024-07-30T00:00:00",
          "2024-07-31T00:00:00",
          "2024-08-01T00:00:00",
          "2024-08-02T00:00:00",
          "2024-08-03T00:00:00",
          "2024-08-04T00:00:00",
          "2024-08-05T00:00:00",
          "2024-08-06T00:00:00",
          "2024-08-07T00:00:00",
          "2024-08-08T00:00:00",
          "2024-08-09T00:00:00",
          "2024-08-10T00:00:00",
          "2024-08-11T00:00:00",
          "2024-08-12T00:00:00",
          "2024-08-13T00:00:00",
          "2024-08-14T00:00:00",
          "2024-08-15T00:00:00",
          "2024-08-16T00:00:00",
          "2024-08-17T00:00:00",
          "2024-08-18T00:00:00",
          "2024-08-19T00:00:00",
          "2024-08-20T00:00:00",
          "2024-08-21T00:00:00",
          "2024-08-22T00:00:00",
          "2024-08-23T00:00:00",
          "2024-08-24T00:00:00",
          "2024-08-25T00:00:00",
          "2024-08-26T00:00:00",
          "2024-08-27T00:00:00",
          "2024-08-28T00:00:00",
          "2024-08-29T00:00:00",
          "2024-08-30T00:00:00",
          "2024-08-31T00:00:00",
          "2024-09-01T00:00:00",
          "2024-09-02T00:00:00",
          "2024-09-03T00:00:00",
          "2024-09-04T00:00:00",
          "2024-09-05T00:00:00",
          "2024-09-06T00:00:00",
          "2024-09-07T00:00:00",
          "2024-09-08T00:00:00",
          "2024-09-09T00:00:00",
          "2024-09-10T00:00:00",
          "2024-09-11T00:00:00",
          "2024-09-12T00:00:00",
          "2024-09-13T00:00:00",
          "2024-09-14T00:00:00",
          "2024-09-15T00:00:00",
          "2024-09-16T00:00:00",
          "2024-09-17T00:00:00",
          "2024-09-18T00:00:00",
          "2024-09-19T00:00:00",
          "2024-09-20T00:00:00",
          "2024-09-21T00:00:00",
          "2024-09-22T00:00:00",
          "2024-09-23T00:00:00",
          "2024-09-24T00:00:00",
          "2024-09-25T00:00:00",
          "2024-09-26T00:00:00",
          "2024-09-27T00:00:00",
          "2024-09-28T00:00:00",
          "2024-09-29T00:00:00",
          "2024-09-30T00:00:00",
          "2024-10-01T00:00:00",
          "2024-10-02T00:00:00",
          "2024-10-03T00:00:00",
          "2024-10-04T00:00:00",
          "2024-10-05T00:00:00",
          "2024-10-06T00:00:00",
          "2024-10-07T00:00:00",
          "2024-10-08T00:00:00",
          "2024-10-09T00:00:00",
          "2024-10-10T00:00:00",
          "2024-10-11T00:00:00",
          "2024-10-12T00:00:00",
          "2024-10-13T00:00:00",
          "2024-10-14T00:00:00",
          "2024-10-15T00:00:00",
          "2024-10-16T00:00:00",
          "2024-10-17T00:00:00",
          "2024-10-18T00:00:00",
          "2024-10-19T00:00:00",
          "2024-10-20T00:00:00",
          "2024-10-21T00:00:00",
          "2024-10-22T00:00:00",
          "2024-10-23T00:00:00",
          "2024-10-24T00:00:00",
          "2024-10-25T00:00:00",
          "2024-10-26T00:00:00",
          "2024-10-27T00:00:00",
          "2024-10-28T00:00:00",
          "2024-10-29T00:00:00",
          "2024-10-30T00:00:00",
          "2024-10-31T00:00:00",
          "2024-11-01T00:00:00",
          "2024-11-02T00:00:00",
          "2024-11-03T00:00:00",
          "2024-11-04T00:00:00",
          "2024-11-05T00:00:00",
          "2024-11-06T00:00:00",
          "2024-11-07T00:00:00",
          "2024-11-08T00:00:00",
          "2024-11-09T00:00:00",
          "2024-11-10T00:00:00",
          "2024-11-11T00:00:00",
          "2024-11-12T00:00:00",
          "2024-11-13T00:00:00",
          "2024-11-14T00:00:00",
          "2024-11-15T00:00:00",
          "2024-11-16T00:00:00",
          "2024-11-17T00:00:00",
          "2024-11-18T00:00:00",
          "2024-11-19T00:00:00",
          "2024-11-20T00:00:00",
          "2024-11-21T00:00:00",
          "2024-11-22T00:00:00",
          "2024-11-23T00:00:00",
          "2024-11-24T00:00:00",
          "2024-11-25T00:00:00",
          "2024-11-26T00:00:00",
          "2024-11-27T00:00:00",
          "2024-11-28T00:00:00",
          "2024-11-29T00:00:00",
          "2024-11-30T00:00:00",
          "2024-12-01T00:00:00",
          "2024-12-02T00:00:00",
          "2024-12-03T00:00:00",
          "2024-12-04T00:00:00",
          "2024-12-05T00:00:00",
          "2024-12-06T00:00:00",
          "2024-12-07T00:00:00",
          "2024-12-08T00:00:00",
          "2024-12-09T00:00:00",
          "2024-12-10T00:00:00",
          "2024-12-11T00:00:00",
          "2024-12-12T00:00:00",
          "2024-12-13T00:00:00",
          "2024-12-14T00:00:00",
          "2024-12-15T00:00:00",
          "2024-12-16T00:00:00",
          "2024-12-17T00:00:00",
          "2024-12-18T00:00:00",
          "2024-12-19T00:00:00",
          "2024-12-20T00:00:00",
          "2024-12-21T00:00:00",
          "2024-12-22T00:00:00",
          "2024-12-23T00:00:00",
          "2024-12-24T00:00:00",
          "2024-12-25T00:00:00",
          "2024-12-26T00:00:00",
          "2024-12-27T00:00:00",
          "2024-12-28T00:00:00",
          "2024-12-29T00:00:00",
          "2024-12-30T00:00:00",
          "2024-12-31T00:00:00",
          "2025-01-01T00:00:00",
          "2025-01-02T00:00:00",
          "2025-01-03T00:00:00",
          "2025-01-04T00:00:00",
          "2025-01-05T00:00:00",
          "2025-01-06T00:00:00",
          "2025-01-07T00:00:00",
          "2025-01-08T00:00:00",
          "2025-01-09T00:00:00",
          "2025-01-10T00:00:00",
          "2025-01-11T00:00:00",
          "2025-01-12T00:00:00",
          "2025-01-13T00:00:00",
          "2025-01-14T00:00:00",
          "2025-01-15T00:00:00",
          "2025-01-16T00:00:00",
          "2025-01-17T00:00:00",
          "2025-01-18T00:00:00",
          "2025-01-19T00:00:00",
          "2025-01-20T00:00:00",
          "2025-01-21T00:00:00",
          "2025-01-22T00:00:00",
          "2025-01-23T00:00:00",
          "2025-01-24T00:00:00",
          "2025-01-25T00:00:00",
          "2025-01-26T00:00:00",
          "2025-01-27T00:00:00",
          "2025-01-28T00:00:00",
          "2025-01-29T00:00:00",
          "2025-01-30T00:00:00",
          "2025-01-31T00:00:00",
          "2025-02-01T00:00:00",
          "2025-02-02T00:00:00",
          "2025-02-03T00:00:00",
          "2025-02-04T00:00:00",
          "2025-02-05T00:00:00",
          "2025-02-06T00:00:00",
          "2025-02-07T00:00:00",
          "2025-02-08T00:00:00",
          "2025-02-09T00:00:00",
          "2025-02-10T00:00:00",
          "2025-02-11T00:00:00",
          "2025-02-12T00:00:00",
          "2025-02-13T00:00:00",
          "2025-02-14T00:00:00",
          "2025-02-15T00:00:00",
          "2025-02-16T00:00:00",
          "2025-02-17T00:00:00",
          "2025-02-18T00:00:00",
          "2025-02-19T00:00:00",
          "2025-02-20T00:00:00",
          "2025-02-21T00:00:00",
          "2025-02-22T00:00:00",
          "2025-02-23T00:00:00",
          "2025-02-24T00:00:00",
          "2025-02-25T00:00:00",
          "2025-02-26T00:00:00",
          "2025-02-27T00:00:00",
          "2025-02-28T00:00:00",
          "2025-03-01T00:00:00",
          "2025-03-02T00:00:00",
          "2025-03-03T00:00:00",
          "2025-03-04T00:00:00",
          "2025-03-05T00:00:00",
          "2025-03-06T00:00:00",
          "2025-03-07T00:00:00",
          "2025-03-08T00:00:00",
          "2025-03-09T00:00:00",
          "2025-03-10T00:00:00",
          "2025-03-11T00:00:00",
          "2025-03-12T00:00:00",
          "2025-03-13T00:00:00",
          "2025-03-14T00:00:00",
          "2025-03-15T00:00:00",
          "2025-03-16T00:00:00",
          "2025-03-17T00:00:00",
          "2025-03-18T00:00:00",
          "2025-03-19T00:00:00",
          "2025-03-20T00:00:00",
          "2025-03-21T00:00:00",
          "2025-03-22T00:00:00",
          "2025-03-23T00:00:00",
          "2025-03-24T00:00:00",
          "2025-03-25T00:00:00",
          "2025-03-26T00:00:00",
          "2025-03-27T00:00:00",
          "2025-03-28T00:00:00",
          "2025-03-29T00:00:00",
          "2025-03-30T00:00:00",
          "2025-03-31T00:00:00",
          "2025-04-01T00:00:00",
          "2025-04-02T00:00:00",
          "2025-04-03T00:00:00",
          "2025-04-04T00:00:00",
          "2025-04-05T00:00:00",
          "2025-04-06T00:00:00",
          "2025-04-07T00:00:00",
          "2025-04-08T00:00:00",
          "2025-04-09T00:00:00",
          "2025-04-10T00:00:00",
          "2025-04-11T00:00:00",
          "2025-04-12T00:00:00",
          "2025-04-13T00:00:00",
          "2025-04-14T00:00:00",
          "2025-04-15T00:00:00",
          "2025-04-16T00:00:00",
          "2025-04-17T00:00:00",
          "2025-04-18T00:00:00"
         ],
         "xaxis": "x",
         "y": [
          27163.591796875,
          27163.591796875,
          27163.591796875,
          27548.603515625,
          28034.974609375,
          27424.220703125,
          27424.220703125,
          27424.220703125,
          27424.220703125,
          28159.357421875,
          28034.974609375,
          27424.220703125,
          27370.62109375,
          27163.591796875,
          27163.591796875,
          27163.591796875,
          27163.591796875,
          27163.591796875,
          27548.603515625,
          28159.357421875,
          28159.357421875,
          29219.658203125,
          29728.62109375,
          29728.62109375,
          30262.529296875,
          32751.740234375,
          34529.109375,
          34922.109375,
          34529.109375,
          34529.109375,
          34529.109375,
          34922.109375,
          34529.109375,
          34922.109375,
          34922.109375,
          34922.109375,
          34922.109375,
          34922.109375,
          34922.109375,
          34922.109375,
          34922.109375,
          34815.6875,
          36397.703125,
          37685.6328125,
          37463.9765625,
          37463.9765625,
          36774.140625,
          35694,
          36913.74609375,
          36863.41015625,
          35707.8671875,
          36479.7578125,
          37685.6328125,
          37980.01953125,
          35971.23046875,
          36913.74609375,
          38069.2890625,
          37980.01953125,
          38069.2890625,
          38069.2890625,
          38069.2890625,
          37980.01953125,
          38069.2890625,
          38069.2890625,
          39419.65625,
          39629.1171875,
          40507.5234375,
          41452.734375,
          43858.74609375,
          43819.98828125,
          42953.51953125,
          43858.74609375,
          44326.03515625,
          43601.26171875,
          41669.640625,
          42120.0546875,
          42279.36328125,
          42789.9375,
          42158.3046875,
          42551.6015625,
          41634.609375,
          42788.58984375,
          42551.6015625,
          43566.23046875,
          43460.95703125,
          43893.77734375,
          43819.98828125,
          42136.83203125,
          42750.21875,
          42646.05859375,
          42750.21875,
          42377.140625,
          42158.3046875,
          41932.015625,
          42551.6015625,
          44505.171875,
          45264.9765625,
          43642.91015625,
          43858.74609375,
          44112.50390625,
          43679.68359375,
          43679.68359375,
          45248.40234375,
          45961.29296875,
          46541.07421875,
          45488.390625,
          43606.91796875,
          42315.20703125,
          42065.828125,
          42315.84375,
          42918.48828125,
          42315.20703125,
          41634.609375,
          42120.0546875,
          41770.64453125,
          41647.30859375,
          40692.171875,
          39647.32421875,
          39493.86328125,
          40247.6015625,
          41360.2578125,
          41932.015625,
          42158.3046875,
          42918.48828125,
          41867.9140625,
          42611.02734375,
          42789.9375,
          42918.48828125,
          42101.80078125,
          42611.02734375,
          42611.02734375,
          42789.9375,
          44505.171875,
          45264.9765625,
          46541.07421875,
          47539.80859375,
          48954.76953125,
          48692.03125,
          49784.45703125,
          51864.85546875,
          51810.08984375,
          51810.08984375,
          52326.44921875,
          51810.08984375,
          52326.44921875,
          51810.08984375,
          52740.828125,
          52128.2734375,
          50013.79296875,
          52326.44921875,
          52326.44921875,
          53209.46875,
          57509.4453125,
          59838.3984375,
          61865.62890625,
          61138.359375,
          62460.8671875,
          63222.3125,
          64942.52734375,
          65318.05859375,
          65771.5078125,
          66522.8359375,
          68403.78125,
          67482.609375,
          69390.5625,
          71444.7421875,
          71046.546875,
          71046.546875,
          72728.8828125,
          68743.375,
          66339.9375,
          67124.5703125,
          66905.0859375,
          65555.390625,
          66275.734375,
          66989.578125,
          64347.9765625,
          64490.41796875,
          66421.4375,
          69361.6796875,
          69543.1875,
          68784.7734375,
          69618.6328125,
          69132.75,
          68784.7734375,
          69618.6328125,
          68374.3359375,
          66234.0859375,
          65629.0625,
          67977.46875,
          66905.0859375,
          70119,
          70365.421875,
          70822.8203125,
          69322.109375,
          70187.2421875,
          69132.75,
          67349.78125,
          66367.984375,
          64436.1875,
          63723.125,
          62777.953125,
          62535.51953125,
          63067.65625,
          64490.41796875,
          64753.8359375,
          64669.55078125,
          65582.203125,
          66494.046875,
          65421.6953125,
          63138.69140625,
          62150.36328125,
          63865.56640625,
          63472.796875,
          63775.2734375,
          61720.3828125,
          58586.9609375,
          59561.09375,
          62351.46484375,
          63820.52734375,
          64099.81640625,
          63722.359375,
          61367.421875,
          61792.56640625,
          62528.58984375,
          61005.23828125,
          61031.4453125,
          61090.62890625,
          63047.35546875,
          62488.67578125,
          65293.77734375,
          65694.109375,
          65555.3515625,
          67429.4453125,
          67596.78125,
          70230.296875,
          69501.7890625,
          69363.5078125,
          68058.9921875,
          69674.5,
          70365.421875,
          68653.8828125,
          69258.7421875,
          68707.1953125,
          66905.0859375,
          68009.21875,
          66905.0859375,
          68208.6328125,
          68208.6328125,
          69917.171875,
          70187.2421875,
          69420.0078125,
          69420.0078125,
          69598.1875,
          69743.5,
          68519.6484375,
          68572.9609375,
          67757.9609375,
          67274.046875,
          67491.4296875,
          66546.328125,
          66575.578125,
          66606.7265625,
          66494.046875,
          65694.109375,
          64757.296875,
          64757.296875,
          64015.53125,
          64730.98828125,
          62130.0625,
          60144.61328125,
          61902.08984375,
          61873.26953125,
          62111.51171875,
          61294.94140625,
          61790.98046875,
          62656.76171875,
          62802.90625,
          62488.67578125,
          60116.8046875,
          58755.796875,
          55438.1015625,
          55917.11328125,
          56760.578125,
          58112.58984375,
          57317.31640625,
          57989.57421875,
          58132.0546875,
          58067.8671875,
          58568.66796875,
          60751.625,
          63661.52734375,
          64669.55078125,
          64103.27734375,
          64739.98046875,
          65719.234375,
          66326.7109375,
          67274.046875,
          67996.828125,
          68123.0625,
          65610.21875,
          64293.74609375,
          67382.578125,
          69079.609375,
          68211.046875,
          67491.4296875,
          66494.046875,
          65421.6953125,
          64669.55078125,
          62186.3984375,
          61294.94140625,
          58586.9609375,
          55792.21484375,
          55108.5703125,
          57034.08203125,
          61161.2734375,
          61698.3125,
          61031.4453125,
          58735.0625,
          59638.50390625,
          60751.625,
          58934.73046875,
          59238.34375,
          57844.14453125,
          58771.72265625,
          59024.2265625,
          59638.50390625,
          59408.125,
          61286.015625,
          60776.17578125,
          63355.27734375,
          64349.37890625,
          64349.37890625,
          62258.234375,
          59470.68359375,
          59094.41015625,
          58891.07421875,
          59094.41015625,
          58813.6640625,
          58606.7109375,
          58646.9609375,
          58771.66015625,
          57824.33203125,
          56820.484375,
          53661.875,
          54140.20703125,
          56430.9375,
          58014.98046875,
          57496.25,
          58132.0546875,
          58185.65234375,
          60088.56640625,
          59507.109375,
          59485.53515625,
          58710.51171875,
          59227.9453125,
          61902.08984375,
          63047.35546875,
          62757.65234375,
          63150.421875,
          62777.953125,
          63865.56640625,
          63766.28125,
          62130.0625,
          64038.69140625,
          64439.6484375,
          65629.0625,
          65292.56640625,
          63723.125,
          61005.23828125,
          60628.07421875,
          60628.07421875,
          62111.51171875,
          62953.3359375,
          63350.484375,
          61412.67578125,
          61339.61328125,
          60977.4296875,
          60115.22265625,
          62299.23828125,
          62802.90625,
          62885.82421875,
          65101.609375,
          66492.1328125,
          67734.6328125,
          68523.4375,
          68737.5,
          68169.125,
          68613.625,
          68326.5703125,
          67788.265625,
          67282.8671875,
          66432.484375,
          67491.4296875,
          66326.7109375,
          68403.78125,
          70298.6796875,
          71087.9453125,
          71046.546875,
          69501.7890625,
          68374.3359375,
          69796.8125,
          69098.3828125,
          68680.9140625,
          70764.1171875,
          77040.6484375,
          80204.2109375,
          80204.2109375,
          80204.2109375,
          80204.2109375,
          84892.1015625,
          86486.9296875,
          88158.65625,
          88980.71875,
          88158.65625,
          90652.4453125,
          90652.4453125,
          90652.4453125,
          90510.7421875,
          94717,
          97523.640625,
          98828.7890625,
          96575.6015625,
          96053.0078125,
          93869.6484375,
          93810.3515625,
          96116.578125,
          95360.3828125,
          97168.546875,
          95559.734375,
          95217.5390625,
          96768.140625,
          96745.7578125,
          99398.671875,
          95920.1796875,
          99421.0546875,
          98640.3828125,
          98712.1015625,
          98667.734375,
          98771.25,
          98354.4375,
          101459.65625,
          102552.890625,
          102522.828125,
          104874.6328125,
          102874.1640625,
          102874.1640625,
          99429.125,
          99323.15625,
          96053.0078125,
          96108.5859375,
          95382.765625,
          95195.0390625,
          99233.328125,
          98640.3828125,
          95987.46875,
          95346.1796875,
          95260.4921875,
          95180.8359375,
          94339.640625,
          93810.3515625,
          94717,
          96578.578125,
          97645.9140625,
          97053.6484375,
          98828.7890625,
          99805.3359375,
          98637.671875,
          95382.765625,
          94274.1875,
          94731.203125,
          95195.0390625,
          95180.8359375,
          95246.2890625,
          98648.9765625,
          98354.4375,
          101459.65625,
          104904.6953125,
          103291.8125,
          100522.359375,
          104874.6328125,
          103291.8125,
          102874.1640625,
          103291.8125,
          103291.8125,
          102874.1640625,
          102874.1640625,
          100940.0078125,
          102522.828125,
          104874.6328125,
          103291.8125,
          102874.1640625,
          99846.7734375,
          99323.15625,
          98993.1015625,
          99293.09375,
          97178.34375,
          97632.9140625,
          96014.3046875,
          95669.328125,
          95669.328125,
          95217.5390625,
          96768.140625,
          97623.53125,
          98178.984375,
          96217.9375,
          95763.3671875,
          95559.734375,
          95284.828125,
          96745.7578125,
          98748.8671875,
          96507.578125,
          96560.375,
          97287.9375,
          96014.3046875,
          92978.6015625,
          92280.328125,
          84302.28125,
          86190.515625,
          86190.515625,
          86190.515625,
          90811.8359375,
          90624.96875,
          88375.1640625,
          88158.65625,
          90652.4453125,
          88980.71875,
          84302.28125,
          81799.0390625,
          80163.984375,
          83036.1484375,
          82995.921875,
          82995.921875,
          82995.921875,
          82667.2265625,
          86519.2109375,
          82995.921875,
          86519.2109375,
          84851.875,
          84630.9765625,
          86519.2109375,
          86519.2109375,
          82667.2265625,
          88375.1640625,
          86486.9296875,
          86486.9296875,
          86486.9296875,
          84302.28125,
          86519.2109375,
          82995.921875,
          82995.921875,
          82667.2265625,
          86519.2109375,
          82995.921875,
          82995.921875,
          82995.921875,
          80163.984375,
          80204.2109375,
          80204.2109375,
          83036.1484375,
          80163.984375,
          83036.1484375,
          82667.2265625,
          86519.2109375,
          82667.2265625,
          86519.2109375,
          82995.921875,
          86190.515625
         ],
         "yaxis": "y"
        }
       ],
       "layout": {
        "legend": {
         "title": {
          "text": "variable"
         },
         "tracegroupgap": 0
        },
        "margin": {
         "t": 60
        },
        "shapes": [
         {
          "fillcolor": "grey",
          "line": {
           "width": 0
          },
          "opacity": 0.25,
          "type": "rect",
          "x0": "2025-03-21T00:00:00",
          "x1": "2025-04-18T00:00:00",
          "xref": "x",
          "y0": 0,
          "y1": 1,
          "yref": "y domain"
         }
        ],
        "template": {
         "data": {
          "bar": [
           {
            "error_x": {
             "color": "#f2f5fa"
            },
            "error_y": {
             "color": "#f2f5fa"
            },
            "marker": {
             "line": {
              "color": "rgb(17,17,17)",
              "width": 0.5
             },
             "pattern": {
              "fillmode": "overlay",
              "size": 10,
              "solidity": 0.2
             }
            },
            "type": "bar"
           }
          ],
          "barpolar": [
           {
            "marker": {
             "line": {
              "color": "rgb(17,17,17)",
              "width": 0.5
             },
             "pattern": {
              "fillmode": "overlay",
              "size": 10,
              "solidity": 0.2
             }
            },
            "type": "barpolar"
           }
          ],
          "carpet": [
           {
            "aaxis": {
             "endlinecolor": "#A2B1C6",
             "gridcolor": "#506784",
             "linecolor": "#506784",
             "minorgridcolor": "#506784",
             "startlinecolor": "#A2B1C6"
            },
            "baxis": {
             "endlinecolor": "#A2B1C6",
             "gridcolor": "#506784",
             "linecolor": "#506784",
             "minorgridcolor": "#506784",
             "startlinecolor": "#A2B1C6"
            },
            "type": "carpet"
           }
          ],
          "choropleth": [
           {
            "colorbar": {
             "outlinewidth": 0,
             "ticks": ""
            },
            "type": "choropleth"
           }
          ],
          "contour": [
           {
            "colorbar": {
             "outlinewidth": 0,
             "ticks": ""
            },
            "colorscale": [
             [
              0,
              "#0d0887"
             ],
             [
              0.1111111111111111,
              "#46039f"
             ],
             [
              0.2222222222222222,
              "#7201a8"
             ],
             [
              0.3333333333333333,
              "#9c179e"
             ],
             [
              0.4444444444444444,
              "#bd3786"
             ],
             [
              0.5555555555555556,
              "#d8576b"
             ],
             [
              0.6666666666666666,
              "#ed7953"
             ],
             [
              0.7777777777777778,
              "#fb9f3a"
             ],
             [
              0.8888888888888888,
              "#fdca26"
             ],
             [
              1,
              "#f0f921"
             ]
            ],
            "type": "contour"
           }
          ],
          "contourcarpet": [
           {
            "colorbar": {
             "outlinewidth": 0,
             "ticks": ""
            },
            "type": "contourcarpet"
           }
          ],
          "heatmap": [
           {
            "colorbar": {
             "outlinewidth": 0,
             "ticks": ""
            },
            "colorscale": [
             [
              0,
              "#0d0887"
             ],
             [
              0.1111111111111111,
              "#46039f"
             ],
             [
              0.2222222222222222,
              "#7201a8"
             ],
             [
              0.3333333333333333,
              "#9c179e"
             ],
             [
              0.4444444444444444,
              "#bd3786"
             ],
             [
              0.5555555555555556,
              "#d8576b"
             ],
             [
              0.6666666666666666,
              "#ed7953"
             ],
             [
              0.7777777777777778,
              "#fb9f3a"
             ],
             [
              0.8888888888888888,
              "#fdca26"
             ],
             [
              1,
              "#f0f921"
             ]
            ],
            "type": "heatmap"
           }
          ],
          "heatmapgl": [
           {
            "colorbar": {
             "outlinewidth": 0,
             "ticks": ""
            },
            "colorscale": [
             [
              0,
              "#0d0887"
             ],
             [
              0.1111111111111111,
              "#46039f"
             ],
             [
              0.2222222222222222,
              "#7201a8"
             ],
             [
              0.3333333333333333,
              "#9c179e"
             ],
             [
              0.4444444444444444,
              "#bd3786"
             ],
             [
              0.5555555555555556,
              "#d8576b"
             ],
             [
              0.6666666666666666,
              "#ed7953"
             ],
             [
              0.7777777777777778,
              "#fb9f3a"
             ],
             [
              0.8888888888888888,
              "#fdca26"
             ],
             [
              1,
              "#f0f921"
             ]
            ],
            "type": "heatmapgl"
           }
          ],
          "histogram": [
           {
            "marker": {
             "pattern": {
              "fillmode": "overlay",
              "size": 10,
              "solidity": 0.2
             }
            },
            "type": "histogram"
           }
          ],
          "histogram2d": [
           {
            "colorbar": {
             "outlinewidth": 0,
             "ticks": ""
            },
            "colorscale": [
             [
              0,
              "#0d0887"
             ],
             [
              0.1111111111111111,
              "#46039f"
             ],
             [
              0.2222222222222222,
              "#7201a8"
             ],
             [
              0.3333333333333333,
              "#9c179e"
             ],
             [
              0.4444444444444444,
              "#bd3786"
             ],
             [
              0.5555555555555556,
              "#d8576b"
             ],
             [
              0.6666666666666666,
              "#ed7953"
             ],
             [
              0.7777777777777778,
              "#fb9f3a"
             ],
             [
              0.8888888888888888,
              "#fdca26"
             ],
             [
              1,
              "#f0f921"
             ]
            ],
            "type": "histogram2d"
           }
          ],
          "histogram2dcontour": [
           {
            "colorbar": {
             "outlinewidth": 0,
             "ticks": ""
            },
            "colorscale": [
             [
              0,
              "#0d0887"
             ],
             [
              0.1111111111111111,
              "#46039f"
             ],
             [
              0.2222222222222222,
              "#7201a8"
             ],
             [
              0.3333333333333333,
              "#9c179e"
             ],
             [
              0.4444444444444444,
              "#bd3786"
             ],
             [
              0.5555555555555556,
              "#d8576b"
             ],
             [
              0.6666666666666666,
              "#ed7953"
             ],
             [
              0.7777777777777778,
              "#fb9f3a"
             ],
             [
              0.8888888888888888,
              "#fdca26"
             ],
             [
              1,
              "#f0f921"
             ]
            ],
            "type": "histogram2dcontour"
           }
          ],
          "mesh3d": [
           {
            "colorbar": {
             "outlinewidth": 0,
             "ticks": ""
            },
            "type": "mesh3d"
           }
          ],
          "parcoords": [
           {
            "line": {
             "colorbar": {
              "outlinewidth": 0,
              "ticks": ""
             }
            },
            "type": "parcoords"
           }
          ],
          "pie": [
           {
            "automargin": true,
            "type": "pie"
           }
          ],
          "scatter": [
           {
            "marker": {
             "line": {
              "color": "#283442"
             }
            },
            "type": "scatter"
           }
          ],
          "scatter3d": [
           {
            "line": {
             "colorbar": {
              "outlinewidth": 0,
              "ticks": ""
             }
            },
            "marker": {
             "colorbar": {
              "outlinewidth": 0,
              "ticks": ""
             }
            },
            "type": "scatter3d"
           }
          ],
          "scattercarpet": [
           {
            "marker": {
             "colorbar": {
              "outlinewidth": 0,
              "ticks": ""
             }
            },
            "type": "scattercarpet"
           }
          ],
          "scattergeo": [
           {
            "marker": {
             "colorbar": {
              "outlinewidth": 0,
              "ticks": ""
             }
            },
            "type": "scattergeo"
           }
          ],
          "scattergl": [
           {
            "marker": {
             "line": {
              "color": "#283442"
             }
            },
            "type": "scattergl"
           }
          ],
          "scattermapbox": [
           {
            "marker": {
             "colorbar": {
              "outlinewidth": 0,
              "ticks": ""
             }
            },
            "type": "scattermapbox"
           }
          ],
          "scatterpolar": [
           {
            "marker": {
             "colorbar": {
              "outlinewidth": 0,
              "ticks": ""
             }
            },
            "type": "scatterpolar"
           }
          ],
          "scatterpolargl": [
           {
            "marker": {
             "colorbar": {
              "outlinewidth": 0,
              "ticks": ""
             }
            },
            "type": "scatterpolargl"
           }
          ],
          "scatterternary": [
           {
            "marker": {
             "colorbar": {
              "outlinewidth": 0,
              "ticks": ""
             }
            },
            "type": "scatterternary"
           }
          ],
          "surface": [
           {
            "colorbar": {
             "outlinewidth": 0,
             "ticks": ""
            },
            "colorscale": [
             [
              0,
              "#0d0887"
             ],
             [
              0.1111111111111111,
              "#46039f"
             ],
             [
              0.2222222222222222,
              "#7201a8"
             ],
             [
              0.3333333333333333,
              "#9c179e"
             ],
             [
              0.4444444444444444,
              "#bd3786"
             ],
             [
              0.5555555555555556,
              "#d8576b"
             ],
             [
              0.6666666666666666,
              "#ed7953"
             ],
             [
              0.7777777777777778,
              "#fb9f3a"
             ],
             [
              0.8888888888888888,
              "#fdca26"
             ],
             [
              1,
              "#f0f921"
             ]
            ],
            "type": "surface"
           }
          ],
          "table": [
           {
            "cells": {
             "fill": {
              "color": "#506784"
             },
             "line": {
              "color": "rgb(17,17,17)"
             }
            },
            "header": {
             "fill": {
              "color": "#2a3f5f"
             },
             "line": {
              "color": "rgb(17,17,17)"
             }
            },
            "type": "table"
           }
          ]
         },
         "layout": {
          "annotationdefaults": {
           "arrowcolor": "#f2f5fa",
           "arrowhead": 0,
           "arrowwidth": 1
          },
          "autotypenumbers": "strict",
          "coloraxis": {
           "colorbar": {
            "outlinewidth": 0,
            "ticks": ""
           }
          },
          "colorscale": {
           "diverging": [
            [
             0,
             "#8e0152"
            ],
            [
             0.1,
             "#c51b7d"
            ],
            [
             0.2,
             "#de77ae"
            ],
            [
             0.3,
             "#f1b6da"
            ],
            [
             0.4,
             "#fde0ef"
            ],
            [
             0.5,
             "#f7f7f7"
            ],
            [
             0.6,
             "#e6f5d0"
            ],
            [
             0.7,
             "#b8e186"
            ],
            [
             0.8,
             "#7fbc41"
            ],
            [
             0.9,
             "#4d9221"
            ],
            [
             1,
             "#276419"
            ]
           ],
           "sequential": [
            [
             0,
             "#0d0887"
            ],
            [
             0.1111111111111111,
             "#46039f"
            ],
            [
             0.2222222222222222,
             "#7201a8"
            ],
            [
             0.3333333333333333,
             "#9c179e"
            ],
            [
             0.4444444444444444,
             "#bd3786"
            ],
            [
             0.5555555555555556,
             "#d8576b"
            ],
            [
             0.6666666666666666,
             "#ed7953"
            ],
            [
             0.7777777777777778,
             "#fb9f3a"
            ],
            [
             0.8888888888888888,
             "#fdca26"
            ],
            [
             1,
             "#f0f921"
            ]
           ],
           "sequentialminus": [
            [
             0,
             "#0d0887"
            ],
            [
             0.1111111111111111,
             "#46039f"
            ],
            [
             0.2222222222222222,
             "#7201a8"
            ],
            [
             0.3333333333333333,
             "#9c179e"
            ],
            [
             0.4444444444444444,
             "#bd3786"
            ],
            [
             0.5555555555555556,
             "#d8576b"
            ],
            [
             0.6666666666666666,
             "#ed7953"
            ],
            [
             0.7777777777777778,
             "#fb9f3a"
            ],
            [
             0.8888888888888888,
             "#fdca26"
            ],
            [
             1,
             "#f0f921"
            ]
           ]
          },
          "colorway": [
           "#636efa",
           "#EF553B",
           "#00cc96",
           "#ab63fa",
           "#FFA15A",
           "#19d3f3",
           "#FF6692",
           "#B6E880",
           "#FF97FF",
           "#FECB52"
          ],
          "font": {
           "color": "#f2f5fa"
          },
          "geo": {
           "bgcolor": "rgb(17,17,17)",
           "lakecolor": "rgb(17,17,17)",
           "landcolor": "rgb(17,17,17)",
           "showlakes": true,
           "showland": true,
           "subunitcolor": "#506784"
          },
          "hoverlabel": {
           "align": "left"
          },
          "hovermode": "closest",
          "mapbox": {
           "style": "dark"
          },
          "paper_bgcolor": "rgb(17,17,17)",
          "plot_bgcolor": "rgb(17,17,17)",
          "polar": {
           "angularaxis": {
            "gridcolor": "#506784",
            "linecolor": "#506784",
            "ticks": ""
           },
           "bgcolor": "rgb(17,17,17)",
           "radialaxis": {
            "gridcolor": "#506784",
            "linecolor": "#506784",
            "ticks": ""
           }
          },
          "scene": {
           "xaxis": {
            "backgroundcolor": "rgb(17,17,17)",
            "gridcolor": "#506784",
            "gridwidth": 2,
            "linecolor": "#506784",
            "showbackground": true,
            "ticks": "",
            "zerolinecolor": "#C8D4E3"
           },
           "yaxis": {
            "backgroundcolor": "rgb(17,17,17)",
            "gridcolor": "#506784",
            "gridwidth": 2,
            "linecolor": "#506784",
            "showbackground": true,
            "ticks": "",
            "zerolinecolor": "#C8D4E3"
           },
           "zaxis": {
            "backgroundcolor": "rgb(17,17,17)",
            "gridcolor": "#506784",
            "gridwidth": 2,
            "linecolor": "#506784",
            "showbackground": true,
            "ticks": "",
            "zerolinecolor": "#C8D4E3"
           }
          },
          "shapedefaults": {
           "line": {
            "color": "#f2f5fa"
           }
          },
          "sliderdefaults": {
           "bgcolor": "#C8D4E3",
           "bordercolor": "rgb(17,17,17)",
           "borderwidth": 1,
           "tickwidth": 0
          },
          "ternary": {
           "aaxis": {
            "gridcolor": "#506784",
            "linecolor": "#506784",
            "ticks": ""
           },
           "baxis": {
            "gridcolor": "#506784",
            "linecolor": "#506784",
            "ticks": ""
           },
           "bgcolor": "rgb(17,17,17)",
           "caxis": {
            "gridcolor": "#506784",
            "linecolor": "#506784",
            "ticks": ""
           }
          },
          "title": {
           "x": 0.05
          },
          "updatemenudefaults": {
           "bgcolor": "#506784",
           "borderwidth": 0
          },
          "xaxis": {
           "automargin": true,
           "gridcolor": "#283442",
           "linecolor": "#506784",
           "ticks": "",
           "title": {
            "standoff": 15
           },
           "zerolinecolor": "#283442",
           "zerolinewidth": 2
          },
          "yaxis": {
           "automargin": true,
           "gridcolor": "#283442",
           "linecolor": "#506784",
           "ticks": "",
           "title": {
            "standoff": 15
           },
           "zerolinecolor": "#283442",
           "zerolinewidth": 2
          }
         }
        },
        "xaxis": {
         "anchor": "y",
         "domain": [
          0,
          1
         ],
         "title": {
          "text": "timestamp"
         }
        },
        "yaxis": {
         "anchor": "x",
         "domain": [
          0,
          1
         ],
         "title": {
          "text": "close price $"
         }
        }
       }
      }
     },
     "metadata": {},
     "output_type": "display_data"
    }
   ],
   "source": [
    "# compare with furture data N.B there's no need to drop!! see next cell\n",
    "y_pred_future = xgb_exp.predict_model(final_xgb, data=btc_test.drop('close', axis=1))\n",
    "\n",
    "print(xgb_exp.pull())\n",
    "\n",
    "train_forecast_df = pd.concat([y_pred_final, y_pred_future])\n",
    "# Insert the last 30 days of the test set into the close column of train_forecast_df\n",
    "train_forecast_df.loc[btc_test.index, 'close'] = btc_test['close']\n",
    "fig = px.line(train_forecast_df, y=['close', 'prediction_label'], template='plotly_dark', labels={\"value\" : \"close price $\"})\n",
    "fig.add_vrect(x0=btc_test.index[0], x1=btc_test.index[-1], fillcolor=\"grey\", opacity=0.25, line_width=0)\n",
    "\n",
    "fig.show()"
   ]
  },
  {
   "cell_type": "code",
   "execution_count": 171,
   "id": "269304db",
   "metadata": {},
   "outputs": [
    {
     "data": {
      "text/html": [
       "<style type=\"text/css\">\n",
       "</style>\n",
       "<table id=\"T_0a7d1\">\n",
       "  <thead>\n",
       "    <tr>\n",
       "      <th class=\"blank level0\" >&nbsp;</th>\n",
       "      <th id=\"T_0a7d1_level0_col0\" class=\"col_heading level0 col0\" >Model</th>\n",
       "      <th id=\"T_0a7d1_level0_col1\" class=\"col_heading level0 col1\" >MAE</th>\n",
       "      <th id=\"T_0a7d1_level0_col2\" class=\"col_heading level0 col2\" >MSE</th>\n",
       "      <th id=\"T_0a7d1_level0_col3\" class=\"col_heading level0 col3\" >RMSE</th>\n",
       "      <th id=\"T_0a7d1_level0_col4\" class=\"col_heading level0 col4\" >R2</th>\n",
       "      <th id=\"T_0a7d1_level0_col5\" class=\"col_heading level0 col5\" >RMSLE</th>\n",
       "      <th id=\"T_0a7d1_level0_col6\" class=\"col_heading level0 col6\" >MAPE</th>\n",
       "    </tr>\n",
       "  </thead>\n",
       "  <tbody>\n",
       "    <tr>\n",
       "      <th id=\"T_0a7d1_level0_row0\" class=\"row_heading level0 row0\" >0</th>\n",
       "      <td id=\"T_0a7d1_row0_col0\" class=\"data row0 col0\" >Extreme Gradient Boosting</td>\n",
       "      <td id=\"T_0a7d1_row0_col1\" class=\"data row0 col1\" >1959.1750</td>\n",
       "      <td id=\"T_0a7d1_row0_col2\" class=\"data row0 col2\" >5594254.0000</td>\n",
       "      <td id=\"T_0a7d1_row0_col3\" class=\"data row0 col3\" >2365.2175</td>\n",
       "      <td id=\"T_0a7d1_row0_col4\" class=\"data row0 col4\" >0.1518</td>\n",
       "      <td id=\"T_0a7d1_row0_col5\" class=\"data row0 col5\" >0.0285</td>\n",
       "      <td id=\"T_0a7d1_row0_col6\" class=\"data row0 col6\" >0.0236</td>\n",
       "    </tr>\n",
       "  </tbody>\n",
       "</table>\n"
      ],
      "text/plain": [
       "<pandas.io.formats.style.Styler at 0x329026be0>"
      ]
     },
     "metadata": {},
     "output_type": "display_data"
    },
    {
     "data": {
      "application/vnd.plotly.v1+json": {
       "config": {
        "plotlyServerURL": "https://plot.ly"
       },
       "data": [
        {
         "hovertemplate": "variable=close<br>timestamp=%{x}<br>close price $=%{y}<extra></extra>",
         "legendgroup": "close",
         "line": {
          "color": "#636efa",
          "dash": "solid"
         },
         "marker": {
          "symbol": "circle"
         },
         "mode": "lines",
         "name": "close",
         "showlegend": true,
         "type": "scattergl",
         "x": [
          "2023-09-29T00:00:00",
          "2023-09-30T00:00:00",
          "2023-10-01T00:00:00",
          "2023-10-02T00:00:00",
          "2023-10-03T00:00:00",
          "2023-10-04T00:00:00",
          "2023-10-05T00:00:00",
          "2023-10-06T00:00:00",
          "2023-10-07T00:00:00",
          "2023-10-08T00:00:00",
          "2023-10-09T00:00:00",
          "2023-10-10T00:00:00",
          "2023-10-11T00:00:00",
          "2023-10-12T00:00:00",
          "2023-10-13T00:00:00",
          "2023-10-14T00:00:00",
          "2023-10-15T00:00:00",
          "2023-10-16T00:00:00",
          "2023-10-17T00:00:00",
          "2023-10-18T00:00:00",
          "2023-10-19T00:00:00",
          "2023-10-20T00:00:00",
          "2023-10-21T00:00:00",
          "2023-10-22T00:00:00",
          "2023-10-23T00:00:00",
          "2023-10-24T00:00:00",
          "2023-10-25T00:00:00",
          "2023-10-26T00:00:00",
          "2023-10-27T00:00:00",
          "2023-10-28T00:00:00",
          "2023-10-29T00:00:00",
          "2023-10-30T00:00:00",
          "2023-10-31T00:00:00",
          "2023-11-01T00:00:00",
          "2023-11-02T00:00:00",
          "2023-11-03T00:00:00",
          "2023-11-04T00:00:00",
          "2023-11-05T00:00:00",
          "2023-11-06T00:00:00",
          "2023-11-07T00:00:00",
          "2023-11-08T00:00:00",
          "2023-11-09T00:00:00",
          "2023-11-10T00:00:00",
          "2023-11-11T00:00:00",
          "2023-11-12T00:00:00",
          "2023-11-13T00:00:00",
          "2023-11-14T00:00:00",
          "2023-11-15T00:00:00",
          "2023-11-16T00:00:00",
          "2023-11-17T00:00:00",
          "2023-11-18T00:00:00",
          "2023-11-19T00:00:00",
          "2023-11-20T00:00:00",
          "2023-11-21T00:00:00",
          "2023-11-22T00:00:00",
          "2023-11-23T00:00:00",
          "2023-11-24T00:00:00",
          "2023-11-25T00:00:00",
          "2023-11-26T00:00:00",
          "2023-11-27T00:00:00",
          "2023-11-28T00:00:00",
          "2023-11-29T00:00:00",
          "2023-11-30T00:00:00",
          "2023-12-01T00:00:00",
          "2023-12-02T00:00:00",
          "2023-12-03T00:00:00",
          "2023-12-04T00:00:00",
          "2023-12-05T00:00:00",
          "2023-12-06T00:00:00",
          "2023-12-07T00:00:00",
          "2023-12-08T00:00:00",
          "2023-12-09T00:00:00",
          "2023-12-10T00:00:00",
          "2023-12-11T00:00:00",
          "2023-12-12T00:00:00",
          "2023-12-13T00:00:00",
          "2023-12-14T00:00:00",
          "2023-12-15T00:00:00",
          "2023-12-16T00:00:00",
          "2023-12-17T00:00:00",
          "2023-12-18T00:00:00",
          "2023-12-19T00:00:00",
          "2023-12-20T00:00:00",
          "2023-12-21T00:00:00",
          "2023-12-22T00:00:00",
          "2023-12-23T00:00:00",
          "2023-12-24T00:00:00",
          "2023-12-25T00:00:00",
          "2023-12-26T00:00:00",
          "2023-12-27T00:00:00",
          "2023-12-28T00:00:00",
          "2023-12-29T00:00:00",
          "2023-12-30T00:00:00",
          "2023-12-31T00:00:00",
          "2024-01-01T00:00:00",
          "2024-01-02T00:00:00",
          "2024-01-03T00:00:00",
          "2024-01-04T00:00:00",
          "2024-01-05T00:00:00",
          "2024-01-06T00:00:00",
          "2024-01-07T00:00:00",
          "2024-01-08T00:00:00",
          "2024-01-09T00:00:00",
          "2024-01-10T00:00:00",
          "2024-01-11T00:00:00",
          "2024-01-12T00:00:00",
          "2024-01-13T00:00:00",
          "2024-01-14T00:00:00",
          "2024-01-15T00:00:00",
          "2024-01-16T00:00:00",
          "2024-01-17T00:00:00",
          "2024-01-18T00:00:00",
          "2024-01-19T00:00:00",
          "2024-01-20T00:00:00",
          "2024-01-21T00:00:00",
          "2024-01-22T00:00:00",
          "2024-01-23T00:00:00",
          "2024-01-24T00:00:00",
          "2024-01-25T00:00:00",
          "2024-01-26T00:00:00",
          "2024-01-27T00:00:00",
          "2024-01-28T00:00:00",
          "2024-01-29T00:00:00",
          "2024-01-30T00:00:00",
          "2024-01-31T00:00:00",
          "2024-02-01T00:00:00",
          "2024-02-02T00:00:00",
          "2024-02-03T00:00:00",
          "2024-02-04T00:00:00",
          "2024-02-05T00:00:00",
          "2024-02-06T00:00:00",
          "2024-02-07T00:00:00",
          "2024-02-08T00:00:00",
          "2024-02-09T00:00:00",
          "2024-02-10T00:00:00",
          "2024-02-11T00:00:00",
          "2024-02-12T00:00:00",
          "2024-02-13T00:00:00",
          "2024-02-14T00:00:00",
          "2024-02-15T00:00:00",
          "2024-02-16T00:00:00",
          "2024-02-17T00:00:00",
          "2024-02-18T00:00:00",
          "2024-02-19T00:00:00",
          "2024-02-20T00:00:00",
          "2024-02-21T00:00:00",
          "2024-02-22T00:00:00",
          "2024-02-23T00:00:00",
          "2024-02-24T00:00:00",
          "2024-02-25T00:00:00",
          "2024-02-26T00:00:00",
          "2024-02-27T00:00:00",
          "2024-02-28T00:00:00",
          "2024-02-29T00:00:00",
          "2024-03-01T00:00:00",
          "2024-03-02T00:00:00",
          "2024-03-03T00:00:00",
          "2024-03-04T00:00:00",
          "2024-03-05T00:00:00",
          "2024-03-06T00:00:00",
          "2024-03-07T00:00:00",
          "2024-03-08T00:00:00",
          "2024-03-09T00:00:00",
          "2024-03-10T00:00:00",
          "2024-03-11T00:00:00",
          "2024-03-12T00:00:00",
          "2024-03-13T00:00:00",
          "2024-03-14T00:00:00",
          "2024-03-15T00:00:00",
          "2024-03-16T00:00:00",
          "2024-03-17T00:00:00",
          "2024-03-18T00:00:00",
          "2024-03-19T00:00:00",
          "2024-03-20T00:00:00",
          "2024-03-21T00:00:00",
          "2024-03-22T00:00:00",
          "2024-03-23T00:00:00",
          "2024-03-24T00:00:00",
          "2024-03-25T00:00:00",
          "2024-03-26T00:00:00",
          "2024-03-27T00:00:00",
          "2024-03-28T00:00:00",
          "2024-03-29T00:00:00",
          "2024-03-30T00:00:00",
          "2024-03-31T00:00:00",
          "2024-04-01T00:00:00",
          "2024-04-02T00:00:00",
          "2024-04-03T00:00:00",
          "2024-04-04T00:00:00",
          "2024-04-05T00:00:00",
          "2024-04-06T00:00:00",
          "2024-04-07T00:00:00",
          "2024-04-08T00:00:00",
          "2024-04-09T00:00:00",
          "2024-04-10T00:00:00",
          "2024-04-11T00:00:00",
          "2024-04-12T00:00:00",
          "2024-04-13T00:00:00",
          "2024-04-14T00:00:00",
          "2024-04-15T00:00:00",
          "2024-04-16T00:00:00",
          "2024-04-17T00:00:00",
          "2024-04-18T00:00:00",
          "2024-04-19T00:00:00",
          "2024-04-20T00:00:00",
          "2024-04-21T00:00:00",
          "2024-04-22T00:00:00",
          "2024-04-23T00:00:00",
          "2024-04-24T00:00:00",
          "2024-04-25T00:00:00",
          "2024-04-26T00:00:00",
          "2024-04-27T00:00:00",
          "2024-04-28T00:00:00",
          "2024-04-29T00:00:00",
          "2024-04-30T00:00:00",
          "2024-05-01T00:00:00",
          "2024-05-02T00:00:00",
          "2024-05-03T00:00:00",
          "2024-05-04T00:00:00",
          "2024-05-05T00:00:00",
          "2024-05-06T00:00:00",
          "2024-05-07T00:00:00",
          "2024-05-08T00:00:00",
          "2024-05-09T00:00:00",
          "2024-05-10T00:00:00",
          "2024-05-11T00:00:00",
          "2024-05-12T00:00:00",
          "2024-05-13T00:00:00",
          "2024-05-14T00:00:00",
          "2024-05-15T00:00:00",
          "2024-05-16T00:00:00",
          "2024-05-17T00:00:00",
          "2024-05-18T00:00:00",
          "2024-05-19T00:00:00",
          "2024-05-20T00:00:00",
          "2024-05-21T00:00:00",
          "2024-05-22T00:00:00",
          "2024-05-23T00:00:00",
          "2024-05-24T00:00:00",
          "2024-05-25T00:00:00",
          "2024-05-26T00:00:00",
          "2024-05-27T00:00:00",
          "2024-05-28T00:00:00",
          "2024-05-29T00:00:00",
          "2024-05-30T00:00:00",
          "2024-05-31T00:00:00",
          "2024-06-01T00:00:00",
          "2024-06-02T00:00:00",
          "2024-06-03T00:00:00",
          "2024-06-04T00:00:00",
          "2024-06-05T00:00:00",
          "2024-06-06T00:00:00",
          "2024-06-07T00:00:00",
          "2024-06-08T00:00:00",
          "2024-06-09T00:00:00",
          "2024-06-10T00:00:00",
          "2024-06-11T00:00:00",
          "2024-06-12T00:00:00",
          "2024-06-13T00:00:00",
          "2024-06-14T00:00:00",
          "2024-06-15T00:00:00",
          "2024-06-16T00:00:00",
          "2024-06-17T00:00:00",
          "2024-06-18T00:00:00",
          "2024-06-19T00:00:00",
          "2024-06-20T00:00:00",
          "2024-06-21T00:00:00",
          "2024-06-22T00:00:00",
          "2024-06-23T00:00:00",
          "2024-06-24T00:00:00",
          "2024-06-25T00:00:00",
          "2024-06-26T00:00:00",
          "2024-06-27T00:00:00",
          "2024-06-28T00:00:00",
          "2024-06-29T00:00:00",
          "2024-06-30T00:00:00",
          "2024-07-01T00:00:00",
          "2024-07-02T00:00:00",
          "2024-07-03T00:00:00",
          "2024-07-04T00:00:00",
          "2024-07-05T00:00:00",
          "2024-07-06T00:00:00",
          "2024-07-07T00:00:00",
          "2024-07-08T00:00:00",
          "2024-07-09T00:00:00",
          "2024-07-10T00:00:00",
          "2024-07-11T00:00:00",
          "2024-07-12T00:00:00",
          "2024-07-13T00:00:00",
          "2024-07-14T00:00:00",
          "2024-07-15T00:00:00",
          "2024-07-16T00:00:00",
          "2024-07-17T00:00:00",
          "2024-07-18T00:00:00",
          "2024-07-19T00:00:00",
          "2024-07-20T00:00:00",
          "2024-07-21T00:00:00",
          "2024-07-22T00:00:00",
          "2024-07-23T00:00:00",
          "2024-07-24T00:00:00",
          "2024-07-25T00:00:00",
          "2024-07-26T00:00:00",
          "2024-07-27T00:00:00",
          "2024-07-28T00:00:00",
          "2024-07-29T00:00:00",
          "2024-07-30T00:00:00",
          "2024-07-31T00:00:00",
          "2024-08-01T00:00:00",
          "2024-08-02T00:00:00",
          "2024-08-03T00:00:00",
          "2024-08-04T00:00:00",
          "2024-08-05T00:00:00",
          "2024-08-06T00:00:00",
          "2024-08-07T00:00:00",
          "2024-08-08T00:00:00",
          "2024-08-09T00:00:00",
          "2024-08-10T00:00:00",
          "2024-08-11T00:00:00",
          "2024-08-12T00:00:00",
          "2024-08-13T00:00:00",
          "2024-08-14T00:00:00",
          "2024-08-15T00:00:00",
          "2024-08-16T00:00:00",
          "2024-08-17T00:00:00",
          "2024-08-18T00:00:00",
          "2024-08-19T00:00:00",
          "2024-08-20T00:00:00",
          "2024-08-21T00:00:00",
          "2024-08-22T00:00:00",
          "2024-08-23T00:00:00",
          "2024-08-24T00:00:00",
          "2024-08-25T00:00:00",
          "2024-08-26T00:00:00",
          "2024-08-27T00:00:00",
          "2024-08-28T00:00:00",
          "2024-08-29T00:00:00",
          "2024-08-30T00:00:00",
          "2024-08-31T00:00:00",
          "2024-09-01T00:00:00",
          "2024-09-02T00:00:00",
          "2024-09-03T00:00:00",
          "2024-09-04T00:00:00",
          "2024-09-05T00:00:00",
          "2024-09-06T00:00:00",
          "2024-09-07T00:00:00",
          "2024-09-08T00:00:00",
          "2024-09-09T00:00:00",
          "2024-09-10T00:00:00",
          "2024-09-11T00:00:00",
          "2024-09-12T00:00:00",
          "2024-09-13T00:00:00",
          "2024-09-14T00:00:00",
          "2024-09-15T00:00:00",
          "2024-09-16T00:00:00",
          "2024-09-17T00:00:00",
          "2024-09-18T00:00:00",
          "2024-09-19T00:00:00",
          "2024-09-20T00:00:00",
          "2024-09-21T00:00:00",
          "2024-09-22T00:00:00",
          "2024-09-23T00:00:00",
          "2024-09-24T00:00:00",
          "2024-09-25T00:00:00",
          "2024-09-26T00:00:00",
          "2024-09-27T00:00:00",
          "2024-09-28T00:00:00",
          "2024-09-29T00:00:00",
          "2024-09-30T00:00:00",
          "2024-10-01T00:00:00",
          "2024-10-02T00:00:00",
          "2024-10-03T00:00:00",
          "2024-10-04T00:00:00",
          "2024-10-05T00:00:00",
          "2024-10-06T00:00:00",
          "2024-10-07T00:00:00",
          "2024-10-08T00:00:00",
          "2024-10-09T00:00:00",
          "2024-10-10T00:00:00",
          "2024-10-11T00:00:00",
          "2024-10-12T00:00:00",
          "2024-10-13T00:00:00",
          "2024-10-14T00:00:00",
          "2024-10-15T00:00:00",
          "2024-10-16T00:00:00",
          "2024-10-17T00:00:00",
          "2024-10-18T00:00:00",
          "2024-10-19T00:00:00",
          "2024-10-20T00:00:00",
          "2024-10-21T00:00:00",
          "2024-10-22T00:00:00",
          "2024-10-23T00:00:00",
          "2024-10-24T00:00:00",
          "2024-10-25T00:00:00",
          "2024-10-26T00:00:00",
          "2024-10-27T00:00:00",
          "2024-10-28T00:00:00",
          "2024-10-29T00:00:00",
          "2024-10-30T00:00:00",
          "2024-10-31T00:00:00",
          "2024-11-01T00:00:00",
          "2024-11-02T00:00:00",
          "2024-11-03T00:00:00",
          "2024-11-04T00:00:00",
          "2024-11-05T00:00:00",
          "2024-11-06T00:00:00",
          "2024-11-07T00:00:00",
          "2024-11-08T00:00:00",
          "2024-11-09T00:00:00",
          "2024-11-10T00:00:00",
          "2024-11-11T00:00:00",
          "2024-11-12T00:00:00",
          "2024-11-13T00:00:00",
          "2024-11-14T00:00:00",
          "2024-11-15T00:00:00",
          "2024-11-16T00:00:00",
          "2024-11-17T00:00:00",
          "2024-11-18T00:00:00",
          "2024-11-19T00:00:00",
          "2024-11-20T00:00:00",
          "2024-11-21T00:00:00",
          "2024-11-22T00:00:00",
          "2024-11-23T00:00:00",
          "2024-11-24T00:00:00",
          "2024-11-25T00:00:00",
          "2024-11-26T00:00:00",
          "2024-11-27T00:00:00",
          "2024-11-28T00:00:00",
          "2024-11-29T00:00:00",
          "2024-11-30T00:00:00",
          "2024-12-01T00:00:00",
          "2024-12-02T00:00:00",
          "2024-12-03T00:00:00",
          "2024-12-04T00:00:00",
          "2024-12-05T00:00:00",
          "2024-12-06T00:00:00",
          "2024-12-07T00:00:00",
          "2024-12-08T00:00:00",
          "2024-12-09T00:00:00",
          "2024-12-10T00:00:00",
          "2024-12-11T00:00:00",
          "2024-12-12T00:00:00",
          "2024-12-13T00:00:00",
          "2024-12-14T00:00:00",
          "2024-12-15T00:00:00",
          "2024-12-16T00:00:00",
          "2024-12-17T00:00:00",
          "2024-12-18T00:00:00",
          "2024-12-19T00:00:00",
          "2024-12-20T00:00:00",
          "2024-12-21T00:00:00",
          "2024-12-22T00:00:00",
          "2024-12-23T00:00:00",
          "2024-12-24T00:00:00",
          "2024-12-25T00:00:00",
          "2024-12-26T00:00:00",
          "2024-12-27T00:00:00",
          "2024-12-28T00:00:00",
          "2024-12-29T00:00:00",
          "2024-12-30T00:00:00",
          "2024-12-31T00:00:00",
          "2025-01-01T00:00:00",
          "2025-01-02T00:00:00",
          "2025-01-03T00:00:00",
          "2025-01-04T00:00:00",
          "2025-01-05T00:00:00",
          "2025-01-06T00:00:00",
          "2025-01-07T00:00:00",
          "2025-01-08T00:00:00",
          "2025-01-09T00:00:00",
          "2025-01-10T00:00:00",
          "2025-01-11T00:00:00",
          "2025-01-12T00:00:00",
          "2025-01-13T00:00:00",
          "2025-01-14T00:00:00",
          "2025-01-15T00:00:00",
          "2025-01-16T00:00:00",
          "2025-01-17T00:00:00",
          "2025-01-18T00:00:00",
          "2025-01-19T00:00:00",
          "2025-01-20T00:00:00",
          "2025-01-21T00:00:00",
          "2025-01-22T00:00:00",
          "2025-01-23T00:00:00",
          "2025-01-24T00:00:00",
          "2025-01-25T00:00:00",
          "2025-01-26T00:00:00",
          "2025-01-27T00:00:00",
          "2025-01-28T00:00:00",
          "2025-01-29T00:00:00",
          "2025-01-30T00:00:00",
          "2025-01-31T00:00:00",
          "2025-02-01T00:00:00",
          "2025-02-02T00:00:00",
          "2025-02-03T00:00:00",
          "2025-02-04T00:00:00",
          "2025-02-05T00:00:00",
          "2025-02-06T00:00:00",
          "2025-02-07T00:00:00",
          "2025-02-08T00:00:00",
          "2025-02-09T00:00:00",
          "2025-02-10T00:00:00",
          "2025-02-11T00:00:00",
          "2025-02-12T00:00:00",
          "2025-02-13T00:00:00",
          "2025-02-14T00:00:00",
          "2025-02-15T00:00:00",
          "2025-02-16T00:00:00",
          "2025-02-17T00:00:00",
          "2025-02-18T00:00:00",
          "2025-02-19T00:00:00",
          "2025-02-20T00:00:00",
          "2025-02-21T00:00:00",
          "2025-02-22T00:00:00",
          "2025-02-23T00:00:00",
          "2025-02-24T00:00:00",
          "2025-02-25T00:00:00",
          "2025-02-26T00:00:00",
          "2025-02-27T00:00:00",
          "2025-02-28T00:00:00",
          "2025-03-01T00:00:00",
          "2025-03-02T00:00:00",
          "2025-03-03T00:00:00",
          "2025-03-04T00:00:00",
          "2025-03-05T00:00:00",
          "2025-03-06T00:00:00",
          "2025-03-07T00:00:00",
          "2025-03-08T00:00:00",
          "2025-03-09T00:00:00",
          "2025-03-10T00:00:00",
          "2025-03-11T00:00:00",
          "2025-03-12T00:00:00",
          "2025-03-13T00:00:00",
          "2025-03-14T00:00:00",
          "2025-03-15T00:00:00",
          "2025-03-16T00:00:00",
          "2025-03-17T00:00:00",
          "2025-03-18T00:00:00",
          "2025-03-19T00:00:00",
          "2025-03-20T00:00:00",
          "2025-03-21T00:00:00",
          "2025-03-22T00:00:00",
          "2025-03-23T00:00:00",
          "2025-03-24T00:00:00",
          "2025-03-25T00:00:00",
          "2025-03-26T00:00:00",
          "2025-03-27T00:00:00",
          "2025-03-28T00:00:00",
          "2025-03-29T00:00:00",
          "2025-03-30T00:00:00",
          "2025-03-31T00:00:00",
          "2025-04-01T00:00:00",
          "2025-04-02T00:00:00",
          "2025-04-03T00:00:00",
          "2025-04-04T00:00:00",
          "2025-04-05T00:00:00",
          "2025-04-06T00:00:00",
          "2025-04-07T00:00:00",
          "2025-04-08T00:00:00",
          "2025-04-09T00:00:00",
          "2025-04-10T00:00:00",
          "2025-04-11T00:00:00",
          "2025-04-12T00:00:00",
          "2025-04-13T00:00:00",
          "2025-04-14T00:00:00",
          "2025-04-15T00:00:00",
          "2025-04-16T00:00:00",
          "2025-04-17T00:00:00",
          "2025-04-18T00:00:00"
         ],
         "xaxis": "x",
         "y": [
          26906.96,
          26962.56,
          27992.57,
          27494.51,
          27426.46,
          27778.57,
          27410.39,
          27931.09,
          27956.67,
          27917.05,
          27590.12,
          27390.12,
          26875.52,
          26759.63,
          26862,
          26852.48,
          27154.15,
          28500.78,
          28395.91,
          28320,
          28713.71,
          29669.04,
          29909.8,
          29992.46,
          33069.99,
          33922.73,
          34496.05,
          34151.66,
          33892.02,
          34081,
          34525.89,
          34474.73,
          34639.77,
          35421.43,
          34941.59,
          34716.78,
          35062.07,
          35011.88,
          35046.09,
          35399.12,
          35624.72,
          36701.09,
          37301.63,
          37130,
          37064.13,
          36462.93,
          35551.19,
          37858.2,
          36163.51,
          36613.92,
          36568.1,
          37359.86,
          37448.78,
          35741.65,
          37408.34,
          37294.28,
          37713.57,
          37780.67,
          37447.43,
          37242.7,
          37818.87,
          37854.64,
          37723.96,
          38682.52,
          39450.35,
          39972.26,
          41991.1,
          44073.32,
          43762.69,
          43273.14,
          44170.99,
          43713.6,
          43789.51,
          41253.4,
          41492.39,
          42869.03,
          43022.26,
          41940.3,
          42278.03,
          41374.65,
          42657.8,
          42275.99,
          43668.93,
          43861.8,
          43969.04,
          43702.16,
          42991.5,
          43576.13,
          42508.93,
          43428.85,
          42563.76,
          42066.95,
          42140.28,
          42283.58,
          44179.55,
          44946.91,
          42845.23,
          44151.1,
          44145.11,
          43968.32,
          43929.02,
          46951.04,
          46110,
          46653.99,
          46339.16,
          42782.73,
          42847.99,
          41732.35,
          42511.1,
          43137.95,
          42776.1,
          41327.5,
          41659.03,
          41696.04,
          41580.33,
          39568.02,
          39897.6,
          40084.88,
          39961.09,
          41823.51,
          42120.63,
          42031.06,
          43302.7,
          42941.1,
          42580,
          43082.94,
          43200,
          43011.09,
          42582.88,
          42708.7,
          43098.95,
          44349.6,
          45288.65,
          47132.77,
          47751.09,
          48299.99,
          49917.27,
          49699.59,
          51795.17,
          51880,
          52124.11,
          51642.64,
          52137.67,
          51774.73,
          52258.82,
          51849.39,
          51288.42,
          50744.15,
          51568.22,
          51728.85,
          54476.47,
          57037.34,
          62432.1,
          61130.98,
          62387.9,
          61987.28,
          63113.97,
          68245.71,
          63724.01,
          66074.04,
          66823.17,
          68124.19,
          68313.27,
          68955.88,
          72078.1,
          71452.01,
          73072.41,
          71388.94,
          69499.85,
          65300.63,
          68393.48,
          67609.99,
          61937.4,
          67840.51,
          65501.27,
          63796.64,
          63990.01,
          67209.99,
          69880.01,
          69988,
          69469.99,
          70780.6,
          69850.54,
          69582.18,
          71280.01,
          69649.8,
          65463.99,
          65963.28,
          68487.79,
          67820.62,
          68896,
          69360.39,
          71620,
          69146,
          70631.08,
          70006.23,
          67116.52,
          63924.51,
          65661.84,
          63419.99,
          63793.39,
          61277.37,
          63470.08,
          63818.01,
          64940.59,
          64941.15,
          66819.32,
          66414,
          64289.59,
          64498.34,
          63770.01,
          63461.98,
          63118.62,
          63866,
          60672,
          58364.97,
          59060.61,
          62882.01,
          63892.04,
          64012,
          63165.19,
          62312.08,
          61193.03,
          63074.01,
          60799.99,
          60825.99,
          61483.99,
          62940.08,
          61577.49,
          66206.5,
          65235.21,
          67024,
          66915.2,
          66274.01,
          71446.62,
          70148.34,
          69166.62,
          67969.65,
          68549.99,
          69290.57,
          68507.67,
          69436.43,
          68398.39,
          67652.42,
          68352.17,
          67540.01,
          67766.85,
          67765.63,
          68809.9,
          70537.84,
          71108,
          70799.06,
          69355.6,
          69310.46,
          69648.14,
          69540,
          67314.24,
          68263.99,
          66773.01,
          66043.99,
          66228.25,
          66676.87,
          66504.33,
          65175.32,
          64974.37,
          64869.99,
          64143.56,
          64262.01,
          63210.01,
          60293.3,
          61806.01,
          60864.99,
          61706.47,
          60427.84,
          60986.68,
          62772.01,
          62899.99,
          62135.47,
          60208.58,
          57050.01,
          56628.79,
          58230.13,
          55857.81,
          56714.62,
          58050,
          57725.85,
          57339.89,
          57889.1,
          59204.02,
          60797.91,
          64724.14,
          65043.99,
          64087.99,
          63987.92,
          66660,
          67139.96,
          68165.34,
          67532.01,
          65936.01,
          65376,
          65799.95,
          67907.99,
          67896.5,
          68249.88,
          66784.69,
          66188,
          64628,
          65354.02,
          61498.33,
          60697.99,
          58161,
          54018.81,
          56022.01,
          55134.16,
          61685.99,
          60837.99,
          60923.51,
          58712.59,
          59346.64,
          60587.15,
          58683.39,
          57541.06,
          58874.6,
          59491.99,
          58427.35,
          59438.5,
          59013.8,
          61156.03,
          60375.84,
          64037.24,
          64157.01,
          64220,
          62834,
          59415,
          59034.9,
          59359.01,
          59123.99,
          58973.99,
          57301.86,
          59132.13,
          57487.73,
          57970.9,
          56180,
          53962.97,
          54160.86,
          54869.95,
          57042,
          57635.99,
          57338,
          58132.32,
          60498,
          59993.03,
          59132,
          58213.99,
          60313.99,
          61759.99,
          62947.99,
          63201.05,
          63348.96,
          63578.76,
          63339.99,
          64262.7,
          63152.01,
          65173.99,
          65769.95,
          65858,
          65602.01,
          63327.59,
          60805.78,
          60649.28,
          60752.71,
          62086,
          62058,
          62819.91,
          62224,
          62160.49,
          60636.02,
          60326.39,
          62540,
          63206.22,
          62870.02,
          66083.99,
          67074.14,
          67620.01,
          67421.78,
          68428,
          68378,
          69031.99,
          67377.5,
          67426,
          66668.65,
          68198.28,
          66698.33,
          67092.76,
          68021.7,
          69962.21,
          72736.42,
          72344.74,
          70292.01,
          69496.01,
          69374.74,
          68775.99,
          67850.01,
          69372.01,
          75571.99,
          75857.89,
          76509.78,
          76677.46,
          80370.01,
          88647.99,
          87952.01,
          90375.2,
          87325.59,
          91032.07,
          90586.92,
          89855.99,
          90464.08,
          92310.79,
          94286.56,
          98317.12,
          98892,
          97672.4,
          97900.04,
          93010.01,
          91965.16,
          95863.11,
          95643.98,
          97460,
          96407.99,
          97185.18,
          95840.62,
          95849.69,
          98587.32,
          96945.63,
          99740.84,
          99831.99,
          101109.59,
          97276.47,
          96593,
          101125,
          100004.29,
          101424.25,
          101420,
          104463.99,
          106058.66,
          106133.74,
          100204.01,
          97461.86,
          97805.44,
          97291.99,
          95186.27,
          94881.47,
          98663.58,
          99429.6,
          95791.6,
          94299.03,
          95300,
          93738.2,
          92792.05,
          93576,
          94591.79,
          96984.79,
          98174.18,
          98220.5,
          98363.61,
          102235.6,
          96954.61,
          95060.61,
          92552.49,
          94726.11,
          94599.99,
          94545.06,
          94536.1,
          96560.86,
          100497.35,
          99987.3,
          104077.48,
          104556.23,
          101331.57,
          102260.01,
          106143.82,
          103706.66,
          103910.34,
          104870.5,
          104746.85,
          102620,
          102082.83,
          101335.52,
          103733.24,
          104722.94,
          102429.56,
          100635.65,
          97700.59,
          101328.52,
          97763.13,
          96612.43,
          96554.35,
          96506.8,
          96444.74,
          96462.75,
          97430.82,
          95778.2,
          97869.99,
          96608.14,
          97500.48,
          97569.66,
          96118.12,
          95780,
          95671.74,
          96644.37,
          98305,
          96181.98,
          96551.01,
          96258,
          91552.88,
          88680.4,
          84250.09,
          84708.58,
          84349.94,
          86064.53,
          94270,
          86220.61,
          87281.98,
          90606.01,
          89931.89,
          86801.75,
          86222.45,
          80734.37,
          78595.86,
          82932.99,
          83680.12,
          81115.78,
          83983.2,
          84338.44,
          82574.53,
          84010.03,
          82715.03,
          86845.94,
          84223.39,
          84088.79,
          83840.59,
          86082.5,
          87498.16,
          87392.87,
          86909.17,
          87232.01,
          84424.38,
          82648.54,
          82389.99,
          82550.01,
          85158.34,
          82516.29,
          83213.09,
          83889.87,
          83537.99,
          78430,
          79163.24,
          76322.42,
          82615.22,
          79607.3,
          83423.84,
          85276.9,
          83760,
          84591.58,
          83643.99,
          84030.38,
          84947.91,
          84586.32
         ],
         "yaxis": "y"
        },
        {
         "hovertemplate": "variable=prediction_label<br>timestamp=%{x}<br>close price $=%{y}<extra></extra>",
         "legendgroup": "prediction_label",
         "line": {
          "color": "#EF553B",
          "dash": "solid"
         },
         "marker": {
          "symbol": "circle"
         },
         "mode": "lines",
         "name": "prediction_label",
         "showlegend": true,
         "type": "scattergl",
         "x": [
          "2023-09-29T00:00:00",
          "2023-09-30T00:00:00",
          "2023-10-01T00:00:00",
          "2023-10-02T00:00:00",
          "2023-10-03T00:00:00",
          "2023-10-04T00:00:00",
          "2023-10-05T00:00:00",
          "2023-10-06T00:00:00",
          "2023-10-07T00:00:00",
          "2023-10-08T00:00:00",
          "2023-10-09T00:00:00",
          "2023-10-10T00:00:00",
          "2023-10-11T00:00:00",
          "2023-10-12T00:00:00",
          "2023-10-13T00:00:00",
          "2023-10-14T00:00:00",
          "2023-10-15T00:00:00",
          "2023-10-16T00:00:00",
          "2023-10-17T00:00:00",
          "2023-10-18T00:00:00",
          "2023-10-19T00:00:00",
          "2023-10-20T00:00:00",
          "2023-10-21T00:00:00",
          "2023-10-22T00:00:00",
          "2023-10-23T00:00:00",
          "2023-10-24T00:00:00",
          "2023-10-25T00:00:00",
          "2023-10-26T00:00:00",
          "2023-10-27T00:00:00",
          "2023-10-28T00:00:00",
          "2023-10-29T00:00:00",
          "2023-10-30T00:00:00",
          "2023-10-31T00:00:00",
          "2023-11-01T00:00:00",
          "2023-11-02T00:00:00",
          "2023-11-03T00:00:00",
          "2023-11-04T00:00:00",
          "2023-11-05T00:00:00",
          "2023-11-06T00:00:00",
          "2023-11-07T00:00:00",
          "2023-11-08T00:00:00",
          "2023-11-09T00:00:00",
          "2023-11-10T00:00:00",
          "2023-11-11T00:00:00",
          "2023-11-12T00:00:00",
          "2023-11-13T00:00:00",
          "2023-11-14T00:00:00",
          "2023-11-15T00:00:00",
          "2023-11-16T00:00:00",
          "2023-11-17T00:00:00",
          "2023-11-18T00:00:00",
          "2023-11-19T00:00:00",
          "2023-11-20T00:00:00",
          "2023-11-21T00:00:00",
          "2023-11-22T00:00:00",
          "2023-11-23T00:00:00",
          "2023-11-24T00:00:00",
          "2023-11-25T00:00:00",
          "2023-11-26T00:00:00",
          "2023-11-27T00:00:00",
          "2023-11-28T00:00:00",
          "2023-11-29T00:00:00",
          "2023-11-30T00:00:00",
          "2023-12-01T00:00:00",
          "2023-12-02T00:00:00",
          "2023-12-03T00:00:00",
          "2023-12-04T00:00:00",
          "2023-12-05T00:00:00",
          "2023-12-06T00:00:00",
          "2023-12-07T00:00:00",
          "2023-12-08T00:00:00",
          "2023-12-09T00:00:00",
          "2023-12-10T00:00:00",
          "2023-12-11T00:00:00",
          "2023-12-12T00:00:00",
          "2023-12-13T00:00:00",
          "2023-12-14T00:00:00",
          "2023-12-15T00:00:00",
          "2023-12-16T00:00:00",
          "2023-12-17T00:00:00",
          "2023-12-18T00:00:00",
          "2023-12-19T00:00:00",
          "2023-12-20T00:00:00",
          "2023-12-21T00:00:00",
          "2023-12-22T00:00:00",
          "2023-12-23T00:00:00",
          "2023-12-24T00:00:00",
          "2023-12-25T00:00:00",
          "2023-12-26T00:00:00",
          "2023-12-27T00:00:00",
          "2023-12-28T00:00:00",
          "2023-12-29T00:00:00",
          "2023-12-30T00:00:00",
          "2023-12-31T00:00:00",
          "2024-01-01T00:00:00",
          "2024-01-02T00:00:00",
          "2024-01-03T00:00:00",
          "2024-01-04T00:00:00",
          "2024-01-05T00:00:00",
          "2024-01-06T00:00:00",
          "2024-01-07T00:00:00",
          "2024-01-08T00:00:00",
          "2024-01-09T00:00:00",
          "2024-01-10T00:00:00",
          "2024-01-11T00:00:00",
          "2024-01-12T00:00:00",
          "2024-01-13T00:00:00",
          "2024-01-14T00:00:00",
          "2024-01-15T00:00:00",
          "2024-01-16T00:00:00",
          "2024-01-17T00:00:00",
          "2024-01-18T00:00:00",
          "2024-01-19T00:00:00",
          "2024-01-20T00:00:00",
          "2024-01-21T00:00:00",
          "2024-01-22T00:00:00",
          "2024-01-23T00:00:00",
          "2024-01-24T00:00:00",
          "2024-01-25T00:00:00",
          "2024-01-26T00:00:00",
          "2024-01-27T00:00:00",
          "2024-01-28T00:00:00",
          "2024-01-29T00:00:00",
          "2024-01-30T00:00:00",
          "2024-01-31T00:00:00",
          "2024-02-01T00:00:00",
          "2024-02-02T00:00:00",
          "2024-02-03T00:00:00",
          "2024-02-04T00:00:00",
          "2024-02-05T00:00:00",
          "2024-02-06T00:00:00",
          "2024-02-07T00:00:00",
          "2024-02-08T00:00:00",
          "2024-02-09T00:00:00",
          "2024-02-10T00:00:00",
          "2024-02-11T00:00:00",
          "2024-02-12T00:00:00",
          "2024-02-13T00:00:00",
          "2024-02-14T00:00:00",
          "2024-02-15T00:00:00",
          "2024-02-16T00:00:00",
          "2024-02-17T00:00:00",
          "2024-02-18T00:00:00",
          "2024-02-19T00:00:00",
          "2024-02-20T00:00:00",
          "2024-02-21T00:00:00",
          "2024-02-22T00:00:00",
          "2024-02-23T00:00:00",
          "2024-02-24T00:00:00",
          "2024-02-25T00:00:00",
          "2024-02-26T00:00:00",
          "2024-02-27T00:00:00",
          "2024-02-28T00:00:00",
          "2024-02-29T00:00:00",
          "2024-03-01T00:00:00",
          "2024-03-02T00:00:00",
          "2024-03-03T00:00:00",
          "2024-03-04T00:00:00",
          "2024-03-05T00:00:00",
          "2024-03-06T00:00:00",
          "2024-03-07T00:00:00",
          "2024-03-08T00:00:00",
          "2024-03-09T00:00:00",
          "2024-03-10T00:00:00",
          "2024-03-11T00:00:00",
          "2024-03-12T00:00:00",
          "2024-03-13T00:00:00",
          "2024-03-14T00:00:00",
          "2024-03-15T00:00:00",
          "2024-03-16T00:00:00",
          "2024-03-17T00:00:00",
          "2024-03-18T00:00:00",
          "2024-03-19T00:00:00",
          "2024-03-20T00:00:00",
          "2024-03-21T00:00:00",
          "2024-03-22T00:00:00",
          "2024-03-23T00:00:00",
          "2024-03-24T00:00:00",
          "2024-03-25T00:00:00",
          "2024-03-26T00:00:00",
          "2024-03-27T00:00:00",
          "2024-03-28T00:00:00",
          "2024-03-29T00:00:00",
          "2024-03-30T00:00:00",
          "2024-03-31T00:00:00",
          "2024-04-01T00:00:00",
          "2024-04-02T00:00:00",
          "2024-04-03T00:00:00",
          "2024-04-04T00:00:00",
          "2024-04-05T00:00:00",
          "2024-04-06T00:00:00",
          "2024-04-07T00:00:00",
          "2024-04-08T00:00:00",
          "2024-04-09T00:00:00",
          "2024-04-10T00:00:00",
          "2024-04-11T00:00:00",
          "2024-04-12T00:00:00",
          "2024-04-13T00:00:00",
          "2024-04-14T00:00:00",
          "2024-04-15T00:00:00",
          "2024-04-16T00:00:00",
          "2024-04-17T00:00:00",
          "2024-04-18T00:00:00",
          "2024-04-19T00:00:00",
          "2024-04-20T00:00:00",
          "2024-04-21T00:00:00",
          "2024-04-22T00:00:00",
          "2024-04-23T00:00:00",
          "2024-04-24T00:00:00",
          "2024-04-25T00:00:00",
          "2024-04-26T00:00:00",
          "2024-04-27T00:00:00",
          "2024-04-28T00:00:00",
          "2024-04-29T00:00:00",
          "2024-04-30T00:00:00",
          "2024-05-01T00:00:00",
          "2024-05-02T00:00:00",
          "2024-05-03T00:00:00",
          "2024-05-04T00:00:00",
          "2024-05-05T00:00:00",
          "2024-05-06T00:00:00",
          "2024-05-07T00:00:00",
          "2024-05-08T00:00:00",
          "2024-05-09T00:00:00",
          "2024-05-10T00:00:00",
          "2024-05-11T00:00:00",
          "2024-05-12T00:00:00",
          "2024-05-13T00:00:00",
          "2024-05-14T00:00:00",
          "2024-05-15T00:00:00",
          "2024-05-16T00:00:00",
          "2024-05-17T00:00:00",
          "2024-05-18T00:00:00",
          "2024-05-19T00:00:00",
          "2024-05-20T00:00:00",
          "2024-05-21T00:00:00",
          "2024-05-22T00:00:00",
          "2024-05-23T00:00:00",
          "2024-05-24T00:00:00",
          "2024-05-25T00:00:00",
          "2024-05-26T00:00:00",
          "2024-05-27T00:00:00",
          "2024-05-28T00:00:00",
          "2024-05-29T00:00:00",
          "2024-05-30T00:00:00",
          "2024-05-31T00:00:00",
          "2024-06-01T00:00:00",
          "2024-06-02T00:00:00",
          "2024-06-03T00:00:00",
          "2024-06-04T00:00:00",
          "2024-06-05T00:00:00",
          "2024-06-06T00:00:00",
          "2024-06-07T00:00:00",
          "2024-06-08T00:00:00",
          "2024-06-09T00:00:00",
          "2024-06-10T00:00:00",
          "2024-06-11T00:00:00",
          "2024-06-12T00:00:00",
          "2024-06-13T00:00:00",
          "2024-06-14T00:00:00",
          "2024-06-15T00:00:00",
          "2024-06-16T00:00:00",
          "2024-06-17T00:00:00",
          "2024-06-18T00:00:00",
          "2024-06-19T00:00:00",
          "2024-06-20T00:00:00",
          "2024-06-21T00:00:00",
          "2024-06-22T00:00:00",
          "2024-06-23T00:00:00",
          "2024-06-24T00:00:00",
          "2024-06-25T00:00:00",
          "2024-06-26T00:00:00",
          "2024-06-27T00:00:00",
          "2024-06-28T00:00:00",
          "2024-06-29T00:00:00",
          "2024-06-30T00:00:00",
          "2024-07-01T00:00:00",
          "2024-07-02T00:00:00",
          "2024-07-03T00:00:00",
          "2024-07-04T00:00:00",
          "2024-07-05T00:00:00",
          "2024-07-06T00:00:00",
          "2024-07-07T00:00:00",
          "2024-07-08T00:00:00",
          "2024-07-09T00:00:00",
          "2024-07-10T00:00:00",
          "2024-07-11T00:00:00",
          "2024-07-12T00:00:00",
          "2024-07-13T00:00:00",
          "2024-07-14T00:00:00",
          "2024-07-15T00:00:00",
          "2024-07-16T00:00:00",
          "2024-07-17T00:00:00",
          "2024-07-18T00:00:00",
          "2024-07-19T00:00:00",
          "2024-07-20T00:00:00",
          "2024-07-21T00:00:00",
          "2024-07-22T00:00:00",
          "2024-07-23T00:00:00",
          "2024-07-24T00:00:00",
          "2024-07-25T00:00:00",
          "2024-07-26T00:00:00",
          "2024-07-27T00:00:00",
          "2024-07-28T00:00:00",
          "2024-07-29T00:00:00",
          "2024-07-30T00:00:00",
          "2024-07-31T00:00:00",
          "2024-08-01T00:00:00",
          "2024-08-02T00:00:00",
          "2024-08-03T00:00:00",
          "2024-08-04T00:00:00",
          "2024-08-05T00:00:00",
          "2024-08-06T00:00:00",
          "2024-08-07T00:00:00",
          "2024-08-08T00:00:00",
          "2024-08-09T00:00:00",
          "2024-08-10T00:00:00",
          "2024-08-11T00:00:00",
          "2024-08-12T00:00:00",
          "2024-08-13T00:00:00",
          "2024-08-14T00:00:00",
          "2024-08-15T00:00:00",
          "2024-08-16T00:00:00",
          "2024-08-17T00:00:00",
          "2024-08-18T00:00:00",
          "2024-08-19T00:00:00",
          "2024-08-20T00:00:00",
          "2024-08-21T00:00:00",
          "2024-08-22T00:00:00",
          "2024-08-23T00:00:00",
          "2024-08-24T00:00:00",
          "2024-08-25T00:00:00",
          "2024-08-26T00:00:00",
          "2024-08-27T00:00:00",
          "2024-08-28T00:00:00",
          "2024-08-29T00:00:00",
          "2024-08-30T00:00:00",
          "2024-08-31T00:00:00",
          "2024-09-01T00:00:00",
          "2024-09-02T00:00:00",
          "2024-09-03T00:00:00",
          "2024-09-04T00:00:00",
          "2024-09-05T00:00:00",
          "2024-09-06T00:00:00",
          "2024-09-07T00:00:00",
          "2024-09-08T00:00:00",
          "2024-09-09T00:00:00",
          "2024-09-10T00:00:00",
          "2024-09-11T00:00:00",
          "2024-09-12T00:00:00",
          "2024-09-13T00:00:00",
          "2024-09-14T00:00:00",
          "2024-09-15T00:00:00",
          "2024-09-16T00:00:00",
          "2024-09-17T00:00:00",
          "2024-09-18T00:00:00",
          "2024-09-19T00:00:00",
          "2024-09-20T00:00:00",
          "2024-09-21T00:00:00",
          "2024-09-22T00:00:00",
          "2024-09-23T00:00:00",
          "2024-09-24T00:00:00",
          "2024-09-25T00:00:00",
          "2024-09-26T00:00:00",
          "2024-09-27T00:00:00",
          "2024-09-28T00:00:00",
          "2024-09-29T00:00:00",
          "2024-09-30T00:00:00",
          "2024-10-01T00:00:00",
          "2024-10-02T00:00:00",
          "2024-10-03T00:00:00",
          "2024-10-04T00:00:00",
          "2024-10-05T00:00:00",
          "2024-10-06T00:00:00",
          "2024-10-07T00:00:00",
          "2024-10-08T00:00:00",
          "2024-10-09T00:00:00",
          "2024-10-10T00:00:00",
          "2024-10-11T00:00:00",
          "2024-10-12T00:00:00",
          "2024-10-13T00:00:00",
          "2024-10-14T00:00:00",
          "2024-10-15T00:00:00",
          "2024-10-16T00:00:00",
          "2024-10-17T00:00:00",
          "2024-10-18T00:00:00",
          "2024-10-19T00:00:00",
          "2024-10-20T00:00:00",
          "2024-10-21T00:00:00",
          "2024-10-22T00:00:00",
          "2024-10-23T00:00:00",
          "2024-10-24T00:00:00",
          "2024-10-25T00:00:00",
          "2024-10-26T00:00:00",
          "2024-10-27T00:00:00",
          "2024-10-28T00:00:00",
          "2024-10-29T00:00:00",
          "2024-10-30T00:00:00",
          "2024-10-31T00:00:00",
          "2024-11-01T00:00:00",
          "2024-11-02T00:00:00",
          "2024-11-03T00:00:00",
          "2024-11-04T00:00:00",
          "2024-11-05T00:00:00",
          "2024-11-06T00:00:00",
          "2024-11-07T00:00:00",
          "2024-11-08T00:00:00",
          "2024-11-09T00:00:00",
          "2024-11-10T00:00:00",
          "2024-11-11T00:00:00",
          "2024-11-12T00:00:00",
          "2024-11-13T00:00:00",
          "2024-11-14T00:00:00",
          "2024-11-15T00:00:00",
          "2024-11-16T00:00:00",
          "2024-11-17T00:00:00",
          "2024-11-18T00:00:00",
          "2024-11-19T00:00:00",
          "2024-11-20T00:00:00",
          "2024-11-21T00:00:00",
          "2024-11-22T00:00:00",
          "2024-11-23T00:00:00",
          "2024-11-24T00:00:00",
          "2024-11-25T00:00:00",
          "2024-11-26T00:00:00",
          "2024-11-27T00:00:00",
          "2024-11-28T00:00:00",
          "2024-11-29T00:00:00",
          "2024-11-30T00:00:00",
          "2024-12-01T00:00:00",
          "2024-12-02T00:00:00",
          "2024-12-03T00:00:00",
          "2024-12-04T00:00:00",
          "2024-12-05T00:00:00",
          "2024-12-06T00:00:00",
          "2024-12-07T00:00:00",
          "2024-12-08T00:00:00",
          "2024-12-09T00:00:00",
          "2024-12-10T00:00:00",
          "2024-12-11T00:00:00",
          "2024-12-12T00:00:00",
          "2024-12-13T00:00:00",
          "2024-12-14T00:00:00",
          "2024-12-15T00:00:00",
          "2024-12-16T00:00:00",
          "2024-12-17T00:00:00",
          "2024-12-18T00:00:00",
          "2024-12-19T00:00:00",
          "2024-12-20T00:00:00",
          "2024-12-21T00:00:00",
          "2024-12-22T00:00:00",
          "2024-12-23T00:00:00",
          "2024-12-24T00:00:00",
          "2024-12-25T00:00:00",
          "2024-12-26T00:00:00",
          "2024-12-27T00:00:00",
          "2024-12-28T00:00:00",
          "2024-12-29T00:00:00",
          "2024-12-30T00:00:00",
          "2024-12-31T00:00:00",
          "2025-01-01T00:00:00",
          "2025-01-02T00:00:00",
          "2025-01-03T00:00:00",
          "2025-01-04T00:00:00",
          "2025-01-05T00:00:00",
          "2025-01-06T00:00:00",
          "2025-01-07T00:00:00",
          "2025-01-08T00:00:00",
          "2025-01-09T00:00:00",
          "2025-01-10T00:00:00",
          "2025-01-11T00:00:00",
          "2025-01-12T00:00:00",
          "2025-01-13T00:00:00",
          "2025-01-14T00:00:00",
          "2025-01-15T00:00:00",
          "2025-01-16T00:00:00",
          "2025-01-17T00:00:00",
          "2025-01-18T00:00:00",
          "2025-01-19T00:00:00",
          "2025-01-20T00:00:00",
          "2025-01-21T00:00:00",
          "2025-01-22T00:00:00",
          "2025-01-23T00:00:00",
          "2025-01-24T00:00:00",
          "2025-01-25T00:00:00",
          "2025-01-26T00:00:00",
          "2025-01-27T00:00:00",
          "2025-01-28T00:00:00",
          "2025-01-29T00:00:00",
          "2025-01-30T00:00:00",
          "2025-01-31T00:00:00",
          "2025-02-01T00:00:00",
          "2025-02-02T00:00:00",
          "2025-02-03T00:00:00",
          "2025-02-04T00:00:00",
          "2025-02-05T00:00:00",
          "2025-02-06T00:00:00",
          "2025-02-07T00:00:00",
          "2025-02-08T00:00:00",
          "2025-02-09T00:00:00",
          "2025-02-10T00:00:00",
          "2025-02-11T00:00:00",
          "2025-02-12T00:00:00",
          "2025-02-13T00:00:00",
          "2025-02-14T00:00:00",
          "2025-02-15T00:00:00",
          "2025-02-16T00:00:00",
          "2025-02-17T00:00:00",
          "2025-02-18T00:00:00",
          "2025-02-19T00:00:00",
          "2025-02-20T00:00:00",
          "2025-02-21T00:00:00",
          "2025-02-22T00:00:00",
          "2025-02-23T00:00:00",
          "2025-02-24T00:00:00",
          "2025-02-25T00:00:00",
          "2025-02-26T00:00:00",
          "2025-02-27T00:00:00",
          "2025-02-28T00:00:00",
          "2025-03-01T00:00:00",
          "2025-03-02T00:00:00",
          "2025-03-03T00:00:00",
          "2025-03-04T00:00:00",
          "2025-03-05T00:00:00",
          "2025-03-06T00:00:00",
          "2025-03-07T00:00:00",
          "2025-03-08T00:00:00",
          "2025-03-09T00:00:00",
          "2025-03-10T00:00:00",
          "2025-03-11T00:00:00",
          "2025-03-12T00:00:00",
          "2025-03-13T00:00:00",
          "2025-03-14T00:00:00",
          "2025-03-15T00:00:00",
          "2025-03-16T00:00:00",
          "2025-03-17T00:00:00",
          "2025-03-18T00:00:00",
          "2025-03-19T00:00:00",
          "2025-03-20T00:00:00",
          "2025-03-21T00:00:00",
          "2025-03-22T00:00:00",
          "2025-03-23T00:00:00",
          "2025-03-24T00:00:00",
          "2025-03-25T00:00:00",
          "2025-03-26T00:00:00",
          "2025-03-27T00:00:00",
          "2025-03-28T00:00:00",
          "2025-03-29T00:00:00",
          "2025-03-30T00:00:00",
          "2025-03-31T00:00:00",
          "2025-04-01T00:00:00",
          "2025-04-02T00:00:00",
          "2025-04-03T00:00:00",
          "2025-04-04T00:00:00",
          "2025-04-05T00:00:00",
          "2025-04-06T00:00:00",
          "2025-04-07T00:00:00",
          "2025-04-08T00:00:00",
          "2025-04-09T00:00:00",
          "2025-04-10T00:00:00",
          "2025-04-11T00:00:00",
          "2025-04-12T00:00:00",
          "2025-04-13T00:00:00",
          "2025-04-14T00:00:00",
          "2025-04-15T00:00:00",
          "2025-04-16T00:00:00",
          "2025-04-17T00:00:00",
          "2025-04-18T00:00:00"
         ],
         "xaxis": "x",
         "y": [
          27163.592,
          27163.592,
          27163.592,
          27548.604,
          28034.975,
          27424.22,
          27424.22,
          27424.22,
          27424.22,
          28159.357,
          28034.975,
          27424.22,
          27370.621,
          27163.592,
          27163.592,
          27163.592,
          27163.592,
          27163.592,
          27548.604,
          28159.357,
          28159.357,
          29219.658,
          29728.621,
          29728.621,
          30262.53,
          32751.74,
          34529.11,
          34922.11,
          34529.11,
          34529.11,
          34529.11,
          34922.11,
          34529.11,
          34922.11,
          34922.11,
          34922.11,
          34922.11,
          34922.11,
          34922.11,
          34922.11,
          34922.11,
          34815.688,
          36397.703,
          37685.633,
          37463.977,
          37463.977,
          36774.14,
          35694,
          36913.746,
          36863.41,
          35707.867,
          36479.758,
          37685.633,
          37980.02,
          35971.23,
          36913.746,
          38069.29,
          37980.02,
          38069.29,
          38069.29,
          38069.29,
          37980.02,
          38069.29,
          38069.29,
          39419.656,
          39629.117,
          40507.523,
          41452.734,
          43858.746,
          43819.99,
          42953.52,
          43858.746,
          44326.035,
          43601.26,
          41669.64,
          42120.055,
          42279.363,
          42789.938,
          42158.305,
          42551.6,
          41634.61,
          42788.59,
          42551.6,
          43566.23,
          43460.957,
          43893.777,
          43819.99,
          42136.832,
          42750.22,
          42646.06,
          42750.22,
          42377.14,
          42158.305,
          41932.016,
          42551.6,
          44505.17,
          45264.977,
          43642.91,
          43858.746,
          44112.504,
          43679.684,
          43679.684,
          45248.402,
          45961.293,
          46541.074,
          45488.39,
          43606.918,
          42315.207,
          42065.83,
          42315.844,
          42918.49,
          42315.207,
          41634.61,
          42120.055,
          41770.645,
          41647.31,
          40692.17,
          39647.324,
          39493.863,
          40247.6,
          41360.258,
          41932.016,
          42158.305,
          42918.49,
          41867.914,
          42611.027,
          42789.938,
          42918.49,
          42101.8,
          42611.027,
          42611.027,
          42789.938,
          44505.17,
          45264.977,
          46541.074,
          47539.81,
          48954.77,
          48692.03,
          49784.457,
          51864.855,
          51810.09,
          51810.09,
          52326.45,
          51810.09,
          52326.45,
          51810.09,
          52740.83,
          52128.273,
          50013.793,
          52326.45,
          52326.45,
          53209.47,
          57509.445,
          59838.4,
          61865.63,
          61138.36,
          62460.867,
          63222.312,
          64942.527,
          65318.06,
          65771.51,
          66522.836,
          68403.78,
          67482.61,
          69390.56,
          71444.74,
          71046.55,
          71046.55,
          72728.88,
          68743.375,
          66339.94,
          67124.57,
          66905.086,
          65555.39,
          66275.734,
          66989.58,
          64347.977,
          64490.418,
          66421.44,
          69361.68,
          69543.19,
          68784.77,
          69618.63,
          69132.75,
          68784.77,
          69618.63,
          68374.336,
          66234.086,
          65629.06,
          67977.47,
          66905.086,
          70119,
          70365.42,
          70822.82,
          69322.11,
          70187.24,
          69132.75,
          67349.78,
          66367.984,
          64436.188,
          63723.125,
          62777.953,
          62535.52,
          63067.656,
          64490.418,
          64753.836,
          64669.55,
          65582.2,
          66494.05,
          65421.695,
          63138.69,
          62150.363,
          63865.566,
          63472.797,
          63775.273,
          61720.383,
          58586.96,
          59561.094,
          62351.465,
          63820.527,
          64099.816,
          63722.36,
          61367.42,
          61792.566,
          62528.59,
          61005.24,
          61031.445,
          61090.63,
          63047.355,
          62488.676,
          65293.777,
          65694.11,
          65555.35,
          67429.445,
          67596.78,
          70230.3,
          69501.79,
          69363.51,
          68058.99,
          69674.5,
          70365.42,
          68653.88,
          69258.74,
          68707.195,
          66905.086,
          68009.22,
          66905.086,
          68208.63,
          68208.63,
          69917.17,
          70187.24,
          69420.01,
          69420.01,
          69598.19,
          69743.5,
          68519.65,
          68572.96,
          67757.96,
          67274.05,
          67491.43,
          66546.33,
          66575.58,
          66606.73,
          66494.05,
          65694.11,
          64757.297,
          64757.297,
          64015.53,
          64730.99,
          62130.062,
          60144.613,
          61902.09,
          61873.27,
          62111.51,
          61294.94,
          61790.98,
          62656.76,
          62802.906,
          62488.676,
          60116.805,
          58755.797,
          55438.1,
          55917.113,
          56760.58,
          58112.59,
          57317.316,
          57989.574,
          58132.055,
          58067.867,
          58568.668,
          60751.625,
          63661.527,
          64669.55,
          64103.277,
          64739.98,
          65719.234,
          66326.71,
          67274.05,
          67996.83,
          68123.06,
          65610.22,
          64293.746,
          67382.58,
          69079.61,
          68211.05,
          67491.43,
          66494.05,
          65421.695,
          64669.55,
          62186.4,
          61294.94,
          58586.96,
          55792.215,
          55108.57,
          57034.082,
          61161.273,
          61698.312,
          61031.445,
          58735.062,
          59638.504,
          60751.625,
          58934.73,
          59238.344,
          57844.145,
          58771.723,
          59024.227,
          59638.504,
          59408.125,
          61286.016,
          60776.176,
          63355.277,
          64349.38,
          64349.38,
          62258.234,
          59470.684,
          59094.41,
          58891.074,
          59094.41,
          58813.664,
          58606.71,
          58646.96,
          58771.66,
          57824.332,
          56820.484,
          53661.875,
          54140.207,
          56430.938,
          58014.98,
          57496.25,
          58132.055,
          58185.652,
          60088.566,
          59507.11,
          59485.535,
          58710.51,
          59227.945,
          61902.09,
          63047.355,
          62757.652,
          63150.42,
          62777.953,
          63865.566,
          63766.28,
          62130.062,
          64038.69,
          64439.65,
          65629.06,
          65292.566,
          63723.125,
          61005.24,
          60628.074,
          60628.074,
          62111.51,
          62953.336,
          63350.484,
          61412.676,
          61339.613,
          60977.43,
          60115.223,
          62299.24,
          62802.906,
          62885.824,
          65101.61,
          66492.13,
          67734.63,
          68523.44,
          68737.5,
          68169.125,
          68613.625,
          68326.57,
          67788.266,
          67282.87,
          66432.484,
          67491.43,
          66326.71,
          68403.78,
          70298.68,
          71087.945,
          71046.55,
          69501.79,
          68374.336,
          69796.81,
          69098.38,
          68680.914,
          70764.12,
          77040.65,
          80204.21,
          80204.21,
          80204.21,
          80204.21,
          84892.1,
          86486.93,
          88158.66,
          88980.72,
          88158.66,
          90652.445,
          90652.445,
          90652.445,
          90510.74,
          94717,
          97523.64,
          98828.79,
          96575.6,
          96053.01,
          93869.65,
          93810.35,
          96116.58,
          95360.38,
          97168.55,
          95559.734,
          95217.54,
          96768.14,
          96745.76,
          99398.67,
          95920.18,
          99421.055,
          98640.38,
          98712.1,
          98667.734,
          98771.25,
          98354.44,
          101459.66,
          102552.89,
          102522.83,
          104874.63,
          102874.164,
          102874.164,
          99429.125,
          99323.16,
          96053.01,
          96108.586,
          95382.766,
          95195.04,
          99233.33,
          98640.38,
          95987.47,
          95346.18,
          95260.49,
          95180.836,
          94339.64,
          93810.35,
          94717,
          96578.58,
          97645.914,
          97053.65,
          98828.79,
          99805.336,
          98637.67,
          95382.766,
          94274.19,
          94731.2,
          95195.04,
          95180.836,
          95246.29,
          98648.98,
          98354.44,
          101459.66,
          104904.695,
          103291.81,
          100522.36,
          104874.63,
          103291.81,
          102874.164,
          103291.81,
          103291.81,
          102874.164,
          102874.164,
          100940.01,
          102522.83,
          104874.63,
          103291.81,
          102874.164,
          99846.77,
          99323.16,
          98993.1,
          99293.09,
          97178.34,
          97632.914,
          96014.305,
          95669.33,
          95669.33,
          95217.54,
          96768.14,
          97623.53,
          98178.984,
          96217.94,
          95763.37,
          95559.734,
          95284.83,
          96745.76,
          98748.87,
          96507.58,
          96560.375,
          97287.94,
          96014.305,
          92978.6,
          92280.33,
          84302.28,
          86190.516,
          86190.516,
          86190.516,
          90811.836,
          90624.97,
          88375.164,
          88158.66,
          90652.445,
          88980.72,
          84302.28,
          81799.04,
          80163.984,
          83036.15,
          82995.92,
          82995.92,
          82995.92,
          82667.23,
          86519.21,
          82995.92,
          86519.21,
          84851.875,
          84630.98,
          86519.21,
          86519.21,
          82667.23,
          88375.164,
          86486.93,
          86486.93,
          86486.93,
          84302.28,
          86519.21,
          82995.92,
          82995.92,
          82667.23,
          86519.21,
          82995.92,
          82995.92,
          82995.92,
          80163.984,
          80204.21,
          80204.21,
          83036.15,
          80163.984,
          83036.15,
          82667.23,
          86519.21,
          82667.23,
          86519.21,
          82995.92,
          86190.516
         ],
         "yaxis": "y"
        }
       ],
       "layout": {
        "legend": {
         "title": {
          "text": "variable"
         },
         "tracegroupgap": 0
        },
        "margin": {
         "t": 60
        },
        "shapes": [
         {
          "fillcolor": "grey",
          "line": {
           "width": 0
          },
          "opacity": 0.25,
          "type": "rect",
          "x0": "2025-03-21T00:00:00",
          "x1": "2025-04-18T00:00:00",
          "xref": "x",
          "y0": 0,
          "y1": 1,
          "yref": "y domain"
         }
        ],
        "template": {
         "data": {
          "bar": [
           {
            "error_x": {
             "color": "#f2f5fa"
            },
            "error_y": {
             "color": "#f2f5fa"
            },
            "marker": {
             "line": {
              "color": "rgb(17,17,17)",
              "width": 0.5
             },
             "pattern": {
              "fillmode": "overlay",
              "size": 10,
              "solidity": 0.2
             }
            },
            "type": "bar"
           }
          ],
          "barpolar": [
           {
            "marker": {
             "line": {
              "color": "rgb(17,17,17)",
              "width": 0.5
             },
             "pattern": {
              "fillmode": "overlay",
              "size": 10,
              "solidity": 0.2
             }
            },
            "type": "barpolar"
           }
          ],
          "carpet": [
           {
            "aaxis": {
             "endlinecolor": "#A2B1C6",
             "gridcolor": "#506784",
             "linecolor": "#506784",
             "minorgridcolor": "#506784",
             "startlinecolor": "#A2B1C6"
            },
            "baxis": {
             "endlinecolor": "#A2B1C6",
             "gridcolor": "#506784",
             "linecolor": "#506784",
             "minorgridcolor": "#506784",
             "startlinecolor": "#A2B1C6"
            },
            "type": "carpet"
           }
          ],
          "choropleth": [
           {
            "colorbar": {
             "outlinewidth": 0,
             "ticks": ""
            },
            "type": "choropleth"
           }
          ],
          "contour": [
           {
            "colorbar": {
             "outlinewidth": 0,
             "ticks": ""
            },
            "colorscale": [
             [
              0,
              "#0d0887"
             ],
             [
              0.1111111111111111,
              "#46039f"
             ],
             [
              0.2222222222222222,
              "#7201a8"
             ],
             [
              0.3333333333333333,
              "#9c179e"
             ],
             [
              0.4444444444444444,
              "#bd3786"
             ],
             [
              0.5555555555555556,
              "#d8576b"
             ],
             [
              0.6666666666666666,
              "#ed7953"
             ],
             [
              0.7777777777777778,
              "#fb9f3a"
             ],
             [
              0.8888888888888888,
              "#fdca26"
             ],
             [
              1,
              "#f0f921"
             ]
            ],
            "type": "contour"
           }
          ],
          "contourcarpet": [
           {
            "colorbar": {
             "outlinewidth": 0,
             "ticks": ""
            },
            "type": "contourcarpet"
           }
          ],
          "heatmap": [
           {
            "colorbar": {
             "outlinewidth": 0,
             "ticks": ""
            },
            "colorscale": [
             [
              0,
              "#0d0887"
             ],
             [
              0.1111111111111111,
              "#46039f"
             ],
             [
              0.2222222222222222,
              "#7201a8"
             ],
             [
              0.3333333333333333,
              "#9c179e"
             ],
             [
              0.4444444444444444,
              "#bd3786"
             ],
             [
              0.5555555555555556,
              "#d8576b"
             ],
             [
              0.6666666666666666,
              "#ed7953"
             ],
             [
              0.7777777777777778,
              "#fb9f3a"
             ],
             [
              0.8888888888888888,
              "#fdca26"
             ],
             [
              1,
              "#f0f921"
             ]
            ],
            "type": "heatmap"
           }
          ],
          "heatmapgl": [
           {
            "colorbar": {
             "outlinewidth": 0,
             "ticks": ""
            },
            "colorscale": [
             [
              0,
              "#0d0887"
             ],
             [
              0.1111111111111111,
              "#46039f"
             ],
             [
              0.2222222222222222,
              "#7201a8"
             ],
             [
              0.3333333333333333,
              "#9c179e"
             ],
             [
              0.4444444444444444,
              "#bd3786"
             ],
             [
              0.5555555555555556,
              "#d8576b"
             ],
             [
              0.6666666666666666,
              "#ed7953"
             ],
             [
              0.7777777777777778,
              "#fb9f3a"
             ],
             [
              0.8888888888888888,
              "#fdca26"
             ],
             [
              1,
              "#f0f921"
             ]
            ],
            "type": "heatmapgl"
           }
          ],
          "histogram": [
           {
            "marker": {
             "pattern": {
              "fillmode": "overlay",
              "size": 10,
              "solidity": 0.2
             }
            },
            "type": "histogram"
           }
          ],
          "histogram2d": [
           {
            "colorbar": {
             "outlinewidth": 0,
             "ticks": ""
            },
            "colorscale": [
             [
              0,
              "#0d0887"
             ],
             [
              0.1111111111111111,
              "#46039f"
             ],
             [
              0.2222222222222222,
              "#7201a8"
             ],
             [
              0.3333333333333333,
              "#9c179e"
             ],
             [
              0.4444444444444444,
              "#bd3786"
             ],
             [
              0.5555555555555556,
              "#d8576b"
             ],
             [
              0.6666666666666666,
              "#ed7953"
             ],
             [
              0.7777777777777778,
              "#fb9f3a"
             ],
             [
              0.8888888888888888,
              "#fdca26"
             ],
             [
              1,
              "#f0f921"
             ]
            ],
            "type": "histogram2d"
           }
          ],
          "histogram2dcontour": [
           {
            "colorbar": {
             "outlinewidth": 0,
             "ticks": ""
            },
            "colorscale": [
             [
              0,
              "#0d0887"
             ],
             [
              0.1111111111111111,
              "#46039f"
             ],
             [
              0.2222222222222222,
              "#7201a8"
             ],
             [
              0.3333333333333333,
              "#9c179e"
             ],
             [
              0.4444444444444444,
              "#bd3786"
             ],
             [
              0.5555555555555556,
              "#d8576b"
             ],
             [
              0.6666666666666666,
              "#ed7953"
             ],
             [
              0.7777777777777778,
              "#fb9f3a"
             ],
             [
              0.8888888888888888,
              "#fdca26"
             ],
             [
              1,
              "#f0f921"
             ]
            ],
            "type": "histogram2dcontour"
           }
          ],
          "mesh3d": [
           {
            "colorbar": {
             "outlinewidth": 0,
             "ticks": ""
            },
            "type": "mesh3d"
           }
          ],
          "parcoords": [
           {
            "line": {
             "colorbar": {
              "outlinewidth": 0,
              "ticks": ""
             }
            },
            "type": "parcoords"
           }
          ],
          "pie": [
           {
            "automargin": true,
            "type": "pie"
           }
          ],
          "scatter": [
           {
            "marker": {
             "line": {
              "color": "#283442"
             }
            },
            "type": "scatter"
           }
          ],
          "scatter3d": [
           {
            "line": {
             "colorbar": {
              "outlinewidth": 0,
              "ticks": ""
             }
            },
            "marker": {
             "colorbar": {
              "outlinewidth": 0,
              "ticks": ""
             }
            },
            "type": "scatter3d"
           }
          ],
          "scattercarpet": [
           {
            "marker": {
             "colorbar": {
              "outlinewidth": 0,
              "ticks": ""
             }
            },
            "type": "scattercarpet"
           }
          ],
          "scattergeo": [
           {
            "marker": {
             "colorbar": {
              "outlinewidth": 0,
              "ticks": ""
             }
            },
            "type": "scattergeo"
           }
          ],
          "scattergl": [
           {
            "marker": {
             "line": {
              "color": "#283442"
             }
            },
            "type": "scattergl"
           }
          ],
          "scattermapbox": [
           {
            "marker": {
             "colorbar": {
              "outlinewidth": 0,
              "ticks": ""
             }
            },
            "type": "scattermapbox"
           }
          ],
          "scatterpolar": [
           {
            "marker": {
             "colorbar": {
              "outlinewidth": 0,
              "ticks": ""
             }
            },
            "type": "scatterpolar"
           }
          ],
          "scatterpolargl": [
           {
            "marker": {
             "colorbar": {
              "outlinewidth": 0,
              "ticks": ""
             }
            },
            "type": "scatterpolargl"
           }
          ],
          "scatterternary": [
           {
            "marker": {
             "colorbar": {
              "outlinewidth": 0,
              "ticks": ""
             }
            },
            "type": "scatterternary"
           }
          ],
          "surface": [
           {
            "colorbar": {
             "outlinewidth": 0,
             "ticks": ""
            },
            "colorscale": [
             [
              0,
              "#0d0887"
             ],
             [
              0.1111111111111111,
              "#46039f"
             ],
             [
              0.2222222222222222,
              "#7201a8"
             ],
             [
              0.3333333333333333,
              "#9c179e"
             ],
             [
              0.4444444444444444,
              "#bd3786"
             ],
             [
              0.5555555555555556,
              "#d8576b"
             ],
             [
              0.6666666666666666,
              "#ed7953"
             ],
             [
              0.7777777777777778,
              "#fb9f3a"
             ],
             [
              0.8888888888888888,
              "#fdca26"
             ],
             [
              1,
              "#f0f921"
             ]
            ],
            "type": "surface"
           }
          ],
          "table": [
           {
            "cells": {
             "fill": {
              "color": "#506784"
             },
             "line": {
              "color": "rgb(17,17,17)"
             }
            },
            "header": {
             "fill": {
              "color": "#2a3f5f"
             },
             "line": {
              "color": "rgb(17,17,17)"
             }
            },
            "type": "table"
           }
          ]
         },
         "layout": {
          "annotationdefaults": {
           "arrowcolor": "#f2f5fa",
           "arrowhead": 0,
           "arrowwidth": 1
          },
          "autotypenumbers": "strict",
          "coloraxis": {
           "colorbar": {
            "outlinewidth": 0,
            "ticks": ""
           }
          },
          "colorscale": {
           "diverging": [
            [
             0,
             "#8e0152"
            ],
            [
             0.1,
             "#c51b7d"
            ],
            [
             0.2,
             "#de77ae"
            ],
            [
             0.3,
             "#f1b6da"
            ],
            [
             0.4,
             "#fde0ef"
            ],
            [
             0.5,
             "#f7f7f7"
            ],
            [
             0.6,
             "#e6f5d0"
            ],
            [
             0.7,
             "#b8e186"
            ],
            [
             0.8,
             "#7fbc41"
            ],
            [
             0.9,
             "#4d9221"
            ],
            [
             1,
             "#276419"
            ]
           ],
           "sequential": [
            [
             0,
             "#0d0887"
            ],
            [
             0.1111111111111111,
             "#46039f"
            ],
            [
             0.2222222222222222,
             "#7201a8"
            ],
            [
             0.3333333333333333,
             "#9c179e"
            ],
            [
             0.4444444444444444,
             "#bd3786"
            ],
            [
             0.5555555555555556,
             "#d8576b"
            ],
            [
             0.6666666666666666,
             "#ed7953"
            ],
            [
             0.7777777777777778,
             "#fb9f3a"
            ],
            [
             0.8888888888888888,
             "#fdca26"
            ],
            [
             1,
             "#f0f921"
            ]
           ],
           "sequentialminus": [
            [
             0,
             "#0d0887"
            ],
            [
             0.1111111111111111,
             "#46039f"
            ],
            [
             0.2222222222222222,
             "#7201a8"
            ],
            [
             0.3333333333333333,
             "#9c179e"
            ],
            [
             0.4444444444444444,
             "#bd3786"
            ],
            [
             0.5555555555555556,
             "#d8576b"
            ],
            [
             0.6666666666666666,
             "#ed7953"
            ],
            [
             0.7777777777777778,
             "#fb9f3a"
            ],
            [
             0.8888888888888888,
             "#fdca26"
            ],
            [
             1,
             "#f0f921"
            ]
           ]
          },
          "colorway": [
           "#636efa",
           "#EF553B",
           "#00cc96",
           "#ab63fa",
           "#FFA15A",
           "#19d3f3",
           "#FF6692",
           "#B6E880",
           "#FF97FF",
           "#FECB52"
          ],
          "font": {
           "color": "#f2f5fa"
          },
          "geo": {
           "bgcolor": "rgb(17,17,17)",
           "lakecolor": "rgb(17,17,17)",
           "landcolor": "rgb(17,17,17)",
           "showlakes": true,
           "showland": true,
           "subunitcolor": "#506784"
          },
          "hoverlabel": {
           "align": "left"
          },
          "hovermode": "closest",
          "mapbox": {
           "style": "dark"
          },
          "paper_bgcolor": "rgb(17,17,17)",
          "plot_bgcolor": "rgb(17,17,17)",
          "polar": {
           "angularaxis": {
            "gridcolor": "#506784",
            "linecolor": "#506784",
            "ticks": ""
           },
           "bgcolor": "rgb(17,17,17)",
           "radialaxis": {
            "gridcolor": "#506784",
            "linecolor": "#506784",
            "ticks": ""
           }
          },
          "scene": {
           "xaxis": {
            "backgroundcolor": "rgb(17,17,17)",
            "gridcolor": "#506784",
            "gridwidth": 2,
            "linecolor": "#506784",
            "showbackground": true,
            "ticks": "",
            "zerolinecolor": "#C8D4E3"
           },
           "yaxis": {
            "backgroundcolor": "rgb(17,17,17)",
            "gridcolor": "#506784",
            "gridwidth": 2,
            "linecolor": "#506784",
            "showbackground": true,
            "ticks": "",
            "zerolinecolor": "#C8D4E3"
           },
           "zaxis": {
            "backgroundcolor": "rgb(17,17,17)",
            "gridcolor": "#506784",
            "gridwidth": 2,
            "linecolor": "#506784",
            "showbackground": true,
            "ticks": "",
            "zerolinecolor": "#C8D4E3"
           }
          },
          "shapedefaults": {
           "line": {
            "color": "#f2f5fa"
           }
          },
          "sliderdefaults": {
           "bgcolor": "#C8D4E3",
           "bordercolor": "rgb(17,17,17)",
           "borderwidth": 1,
           "tickwidth": 0
          },
          "ternary": {
           "aaxis": {
            "gridcolor": "#506784",
            "linecolor": "#506784",
            "ticks": ""
           },
           "baxis": {
            "gridcolor": "#506784",
            "linecolor": "#506784",
            "ticks": ""
           },
           "bgcolor": "rgb(17,17,17)",
           "caxis": {
            "gridcolor": "#506784",
            "linecolor": "#506784",
            "ticks": ""
           }
          },
          "title": {
           "x": 0.05
          },
          "updatemenudefaults": {
           "bgcolor": "#506784",
           "borderwidth": 0
          },
          "xaxis": {
           "automargin": true,
           "gridcolor": "#283442",
           "linecolor": "#506784",
           "ticks": "",
           "title": {
            "standoff": 15
           },
           "zerolinecolor": "#283442",
           "zerolinewidth": 2
          },
          "yaxis": {
           "automargin": true,
           "gridcolor": "#283442",
           "linecolor": "#506784",
           "ticks": "",
           "title": {
            "standoff": 15
           },
           "zerolinecolor": "#283442",
           "zerolinewidth": 2
          }
         }
        },
        "xaxis": {
         "anchor": "y",
         "domain": [
          0,
          1
         ],
         "title": {
          "text": "timestamp"
         }
        },
        "yaxis": {
         "anchor": "x",
         "domain": [
          0,
          1
         ],
         "title": {
          "text": "close price $"
         }
        }
       }
      }
     },
     "metadata": {},
     "output_type": "display_data"
    }
   ],
   "source": [
    "# compare with furture data\n",
    "y_pred_future = xgb_exp.predict_model(final_xgb, data=btc_test)\n",
    "\n",
    "train_forecast_df = pd.concat([y_pred_final, y_pred_future])\n",
    "# Insert the last 30 days of the test set into the close column of train_forecast_df\n",
    "# train_forecast_df.loc[btc_test.index, 'close'] = btc_test['close']\n",
    "\n",
    "fig = px.line(train_forecast_df, y=['close', 'prediction_label'], template='plotly_dark', labels={\"value\" : \"close price $\"})\n",
    "fig.add_vrect(x0=btc_test.index[0], x1=btc_test.index[-1], fillcolor=\"grey\", opacity=0.25, line_width=0)\n",
    "\n",
    "\n",
    "fig.show()"
   ]
  },
  {
   "cell_type": "markdown",
   "id": "09aec875",
   "metadata": {},
   "source": [
    "# transforming the data?\n",
    "\n",
    "from the prior time series decomposition, attemping to transform the data didn't make the data more normally distributed. \n"
   ]
  },
  {
   "cell_type": "markdown",
   "id": "0aca3194",
   "metadata": {},
   "source": [
    "# observations\n",
    "\n",
    "making predictions with lagged values will be require recursive forecasting where exogenous future variables are not available. In the case of lagged features, we can use the last predicted value and the next lagged value as our exogenous variables for prediciton."
   ]
  },
  {
   "cell_type": "code",
   "execution_count": 155,
   "id": "71a69cec",
   "metadata": {},
   "outputs": [],
   "source": [
    "def recursive_forecast(experiment: RegressionExperiment, model, data: pd.DataFrame, fh=30, lags=2):\n",
    "    # get the last known values from the dataset based on the lags\n",
    "    if len(data) > lags:\n",
    "        last_known_df = list(data['close'].values[-lags:])\n",
    "    else:\n",
    "        last_known_df = list(data['close'].values)\n",
    "    dates = []\n",
    "    predictions = []\n",
    "    \n",
    "    # get the latest date (should be a timestamp so that timedelta works!)\n",
    "    last_date = data.index[-1]\n",
    "    # for window in forecast horizon - last_known_df will be the rolling window\n",
    "    for window in range(fh):\n",
    "        # prepare prediction input with correct lag structure i.e last known close data (reversed), columns are now lags, index is timedelta days + window\n",
    "        input_df = pd.DataFrame([last_known_df[-lags:][::-1]], columns=[f\"lag_{j+1}\" for j in range(lags)], index=[last_date + pd.Timedelta(days=window+1)])\n",
    "        print(input_df.to_markdown())\n",
    "        # make prediction and get first value\n",
    "        prediction = experiment.predict_model(model, data=input_df)\n",
    "        prediction = prediction['prediction_label'].values[0]\n",
    "        # append predictions, update history and dates (with the index of the latest input_df)\n",
    "        predictions.append(prediction)\n",
    "        last_known_df.append(prediction)\n",
    "        dates.append(input_df.index[0])\n",
    "    # return the prediction df {predictions:prediciton} index=dates\n",
    "    predictions_df = pd.DataFrame(data=dict(prediction_label=predictions), index=dates)\n",
    "    return predictions_df\n",
    "    \n",
    "\n",
    "def predict_and_plot(model, data:pd.DataFrame, plot=True):\n",
    "    recursive_forecast(model, data)\n",
    "    # combine true values and predictions for vis\n",
    "    # y_pred_final_diff = y_predict_original.rename(columns={\"y_pred\": \"close\"})\n",
    "    y_true_pred_df = pd.concat([btc_5y_close_df['close'].iloc[-len(y_predict):].to_frame(),\n",
    "                                        y_predict], axis=0, copy=True)\n",
    "   \n",
    "    if plot:\n",
    "        fig = px.line(y_true_pred_df, y=['close', 'prediction_label'], template='plotly_dark', labels={\"value\": \"close price $\"})\n",
    "        fig.add_vrect(x0=data.index[0], x1=data.index[-1], fillcolor=\"grey\", opacity=0.25, line_width=0)\n",
    "        fig.show()\n",
    "\n"
   ]
  },
  {
   "cell_type": "code",
   "execution_count": 156,
   "id": "4c4d9024",
   "metadata": {},
   "outputs": [
    {
     "name": "stdout",
     "output_type": "stream",
     "text": [
      "|                     |   lag_1 |   lag_2 |\n",
      "|:--------------------|--------:|--------:|\n",
      "| 2025-04-19 00:00:00 | 84586.3 | 84947.9 |\n"
     ]
    },
    {
     "data": {
      "text/html": [],
      "text/plain": [
       "<IPython.core.display.HTML object>"
      ]
     },
     "metadata": {},
     "output_type": "display_data"
    },
    {
     "name": "stdout",
     "output_type": "stream",
     "text": [
      "|                     |   lag_1 |   lag_2 |\n",
      "|:--------------------|--------:|--------:|\n",
      "| 2025-04-20 00:00:00 | 86190.5 | 84586.3 |\n"
     ]
    },
    {
     "data": {
      "text/html": [],
      "text/plain": [
       "<IPython.core.display.HTML object>"
      ]
     },
     "metadata": {},
     "output_type": "display_data"
    },
    {
     "name": "stdout",
     "output_type": "stream",
     "text": [
      "|                     |   lag_1 |   lag_2 |\n",
      "|:--------------------|--------:|--------:|\n",
      "| 2025-04-21 00:00:00 | 86190.5 | 86190.5 |\n"
     ]
    },
    {
     "data": {
      "text/html": [],
      "text/plain": [
       "<IPython.core.display.HTML object>"
      ]
     },
     "metadata": {},
     "output_type": "display_data"
    },
    {
     "name": "stdout",
     "output_type": "stream",
     "text": [
      "|                     |   lag_1 |   lag_2 |\n",
      "|:--------------------|--------:|--------:|\n",
      "| 2025-04-22 00:00:00 | 86190.5 | 86190.5 |\n"
     ]
    },
    {
     "data": {
      "text/html": [],
      "text/plain": [
       "<IPython.core.display.HTML object>"
      ]
     },
     "metadata": {},
     "output_type": "display_data"
    },
    {
     "name": "stdout",
     "output_type": "stream",
     "text": [
      "|                     |   lag_1 |   lag_2 |\n",
      "|:--------------------|--------:|--------:|\n",
      "| 2025-04-23 00:00:00 | 86190.5 | 86190.5 |\n"
     ]
    },
    {
     "data": {
      "text/html": [],
      "text/plain": [
       "<IPython.core.display.HTML object>"
      ]
     },
     "metadata": {},
     "output_type": "display_data"
    },
    {
     "data": {
      "text/html": [
       "<div>\n",
       "<style scoped>\n",
       "    .dataframe tbody tr th:only-of-type {\n",
       "        vertical-align: middle;\n",
       "    }\n",
       "\n",
       "    .dataframe tbody tr th {\n",
       "        vertical-align: top;\n",
       "    }\n",
       "\n",
       "    .dataframe thead th {\n",
       "        text-align: right;\n",
       "    }\n",
       "</style>\n",
       "<table border=\"1\" class=\"dataframe\">\n",
       "  <thead>\n",
       "    <tr style=\"text-align: right;\">\n",
       "      <th></th>\n",
       "      <th>prediction_label</th>\n",
       "    </tr>\n",
       "  </thead>\n",
       "  <tbody>\n",
       "    <tr>\n",
       "      <th>2025-04-19</th>\n",
       "      <td>86190.515625</td>\n",
       "    </tr>\n",
       "    <tr>\n",
       "      <th>2025-04-20</th>\n",
       "      <td>86190.515625</td>\n",
       "    </tr>\n",
       "    <tr>\n",
       "      <th>2025-04-21</th>\n",
       "      <td>86190.515625</td>\n",
       "    </tr>\n",
       "    <tr>\n",
       "      <th>2025-04-22</th>\n",
       "      <td>86190.515625</td>\n",
       "    </tr>\n",
       "    <tr>\n",
       "      <th>2025-04-23</th>\n",
       "      <td>86190.515625</td>\n",
       "    </tr>\n",
       "  </tbody>\n",
       "</table>\n",
       "</div>"
      ],
      "text/plain": [
       "            prediction_label\n",
       "2025-04-19      86190.515625\n",
       "2025-04-20      86190.515625\n",
       "2025-04-21      86190.515625\n",
       "2025-04-22      86190.515625\n",
       "2025-04-23      86190.515625"
      ]
     },
     "execution_count": 156,
     "metadata": {},
     "output_type": "execute_result"
    }
   ],
   "source": [
    "recursive_forecast(xgb_exp, final_xgb, data=btc_5y_close_df.iloc[-2:], fh=5)\n"
   ]
  },
  {
   "cell_type": "markdown",
   "id": "3ec4c949",
   "metadata": {},
   "source": [
    "# observations\n",
    "\n",
    "using a recusrsive window for lagged features, the model is not seeing enough dynamic change and is therefore converging on the same value quickly.\n",
    "\n",
    "To make this better, this will likely require feature engineering i.e \n",
    "\n",
    "- Time-based: day_of_week, day_of_month, month\n",
    "- more time lags, 7, 30 days. But with the high autocorrelation we may end up with the same issue.\n",
    "- Rolling stats: rolling_mean_3, rolling_std_5\n",
    "\n",
    "TODO - Cite this!"
   ]
  },
  {
   "cell_type": "markdown",
   "id": "5c6342b2",
   "metadata": {},
   "source": [
    "# Future forecasting\n",
    "\n",
    "## Direct multi-step forecasting\n",
    "\n",
    "using PyCaret to optimise the model and sklearn's MultiOutput regressor to predict multiple future steps at once."
   ]
  },
  {
   "cell_type": "code",
   "execution_count": 197,
   "id": "799412cc",
   "metadata": {},
   "outputs": [
    {
     "data": {
      "text/html": [
       "<div>\n",
       "<style scoped>\n",
       "    .dataframe tbody tr th:only-of-type {\n",
       "        vertical-align: middle;\n",
       "    }\n",
       "\n",
       "    .dataframe tbody tr th {\n",
       "        vertical-align: top;\n",
       "    }\n",
       "\n",
       "    .dataframe thead th {\n",
       "        text-align: right;\n",
       "    }\n",
       "</style>\n",
       "<table border=\"1\" class=\"dataframe\">\n",
       "  <thead>\n",
       "    <tr style=\"text-align: right;\">\n",
       "      <th></th>\n",
       "      <th>close</th>\n",
       "      <th>lag_1</th>\n",
       "      <th>lag_2</th>\n",
       "      <th>lag_3</th>\n",
       "      <th>lag_5</th>\n",
       "      <th>lag_7</th>\n",
       "      <th>lag_14</th>\n",
       "      <th>lag_30</th>\n",
       "    </tr>\n",
       "    <tr>\n",
       "      <th>timestamp</th>\n",
       "      <th></th>\n",
       "      <th></th>\n",
       "      <th></th>\n",
       "      <th></th>\n",
       "      <th></th>\n",
       "      <th></th>\n",
       "      <th></th>\n",
       "      <th></th>\n",
       "    </tr>\n",
       "  </thead>\n",
       "  <tbody>\n",
       "    <tr>\n",
       "      <th>2020-05-22</th>\n",
       "      <td>9170.00</td>\n",
       "      <td>9068.65</td>\n",
       "      <td>9511.43</td>\n",
       "      <td>9775.53</td>\n",
       "      <td>9680.04</td>\n",
       "      <td>9316.42</td>\n",
       "      <td>9800.01</td>\n",
       "      <td>7125.14</td>\n",
       "    </tr>\n",
       "    <tr>\n",
       "      <th>2020-05-23</th>\n",
       "      <td>9179.15</td>\n",
       "      <td>9170.00</td>\n",
       "      <td>9068.65</td>\n",
       "      <td>9511.43</td>\n",
       "      <td>9733.93</td>\n",
       "      <td>9381.27</td>\n",
       "      <td>9539.40</td>\n",
       "      <td>7482.39</td>\n",
       "    </tr>\n",
       "    <tr>\n",
       "      <th>2020-05-24</th>\n",
       "      <td>8720.34</td>\n",
       "      <td>9179.15</td>\n",
       "      <td>9170.00</td>\n",
       "      <td>9068.65</td>\n",
       "      <td>9775.53</td>\n",
       "      <td>9680.04</td>\n",
       "      <td>8722.77</td>\n",
       "      <td>7505.00</td>\n",
       "    </tr>\n",
       "    <tr>\n",
       "      <th>2020-05-25</th>\n",
       "      <td>8900.35</td>\n",
       "      <td>8720.34</td>\n",
       "      <td>9179.15</td>\n",
       "      <td>9170.00</td>\n",
       "      <td>9511.43</td>\n",
       "      <td>9733.93</td>\n",
       "      <td>8561.52</td>\n",
       "      <td>7538.67</td>\n",
       "    </tr>\n",
       "    <tr>\n",
       "      <th>2020-05-26</th>\n",
       "      <td>8841.18</td>\n",
       "      <td>8900.35</td>\n",
       "      <td>8720.34</td>\n",
       "      <td>9179.15</td>\n",
       "      <td>9068.65</td>\n",
       "      <td>9775.53</td>\n",
       "      <td>8810.79</td>\n",
       "      <td>7693.10</td>\n",
       "    </tr>\n",
       "  </tbody>\n",
       "</table>\n",
       "</div>"
      ],
      "text/plain": [
       "              close    lag_1    lag_2    lag_3    lag_5    lag_7   lag_14  \\\n",
       "timestamp                                                                   \n",
       "2020-05-22  9170.00  9068.65  9511.43  9775.53  9680.04  9316.42  9800.01   \n",
       "2020-05-23  9179.15  9170.00  9068.65  9511.43  9733.93  9381.27  9539.40   \n",
       "2020-05-24  8720.34  9179.15  9170.00  9068.65  9775.53  9680.04  8722.77   \n",
       "2020-05-25  8900.35  8720.34  9179.15  9170.00  9511.43  9733.93  8561.52   \n",
       "2020-05-26  8841.18  8900.35  8720.34  9179.15  9068.65  9775.53  8810.79   \n",
       "\n",
       "             lag_30  \n",
       "timestamp            \n",
       "2020-05-22  7125.14  \n",
       "2020-05-23  7482.39  \n",
       "2020-05-24  7505.00  \n",
       "2020-05-25  7538.67  \n",
       "2020-05-26  7693.10  "
      ]
     },
     "execution_count": 197,
     "metadata": {},
     "output_type": "execute_result"
    }
   ],
   "source": [
    "# utilise existing code for lagged features, consider 30 day lags\n",
    "\n",
    "btc_5y_close_df_30_lag = btc_5y_close_df.copy()\n",
    "\n",
    "# significant time periods (useful for the user) and hopefully saves memory+processing\n",
    "for i in [1, 3, 5, 7, 14, 30]:\n",
    "    btc_5y_close_df_30_lag[f'lag_{i}'] = btc_5y_close_df_30_lag['close'].shift(i)\n",
    "    \n",
    "btc_5y_close_df_30_lag.dropna(inplace=True)\n",
    "\n",
    "btc_5y_close_df_30_lag.head()\n"
   ]
  },
  {
   "cell_type": "code",
   "execution_count": 198,
   "id": "facb9b5f",
   "metadata": {},
   "outputs": [
    {
     "name": "stdout",
     "output_type": "stream",
     "text": [
      "x shape (1644, 840)\n",
      "y shape (1644, 30)\n"
     ]
    }
   ],
   "source": [
    "import numpy as np\n",
    "# create sequences of data, for now a 60 day window for a 30 day prediction, for multi-step prediciton\n",
    "def create_sequences(data: pd.DataFrame, window=120, horizon=30, step=1):\n",
    "    \"\"\"\n",
    "    Returns:\n",
    "    \n",
    "        a tuple of numpy arrays (x and y)\n",
    "    \"\"\"\n",
    "    x = []\n",
    "    y = []\n",
    "    # extract the target values\n",
    "    target = data['close'].values\n",
    "    # get the feature cols\n",
    "    feature_cols = [col for col in data.columns.to_list() if col != 'close']\n",
    "    # extract the feature values\n",
    "    features = data.loc[:,feature_cols].values\n",
    "    # loop over the dataset\n",
    "    for i in range(0, len(data) - window - horizon + 1, step):\n",
    "        # get x, all features, given input window\n",
    "        x_i = features[i : i + window]\n",
    "        # print(\"x shape\", x_i.shape)\n",
    "        # target sequence (Next horizon values)\n",
    "        y_i = target[i+window: i+window+horizon]\n",
    "        # print(\"y shape\", y_i.shape)\n",
    "        # flatten the input array, append to x\n",
    "        # print(\"x flat\", x_i.flatten().shape)\n",
    "        x.append(x_i.flatten())\n",
    "        # append y array to list\n",
    "        y.append(y_i)\n",
    "    return np.array(x), np.array(y)\n",
    "\n",
    "# test\n",
    "X, y = create_sequences(btc_5y_close_df_30_lag)\n",
    "print(\"x shape\", X.shape)\n",
    "print(\"y shape\", y.shape)"
   ]
  },
  {
   "cell_type": "code",
   "execution_count": 199,
   "id": "06e7f729",
   "metadata": {},
   "outputs": [
    {
     "name": "stdout",
     "output_type": "stream",
     "text": [
      "x shape (1644, 840)\n",
      "y shape (1644, 30)\n",
      "X_test shape:  (329, 840)\n"
     ]
    }
   ],
   "source": [
    "# perfrom train test split\n",
    "\n",
    "# Step 2: Split data for training/testing\n",
    "# Use 80% for training, 20% for testing\n",
    "split_idx = int(len(X) * 0.8)\n",
    "X_train, X_test = X[:split_idx], X[split_idx:]\n",
    "y_train, y_test = y[:split_idx], y[split_idx:]\n",
    "\n",
    "print(\"x shape\", X.shape)\n",
    "print(\"y shape\", y.shape)\n",
    "print(\"X_test shape: \", X_test.shape)"
   ]
  },
  {
   "cell_type": "code",
   "execution_count": 200,
   "id": "21a53429",
   "metadata": {},
   "outputs": [
    {
     "data": {
      "text/html": [
       "<style type=\"text/css\">\n",
       "#T_3dc5f_row8_col1 {\n",
       "  background-color: lightgreen;\n",
       "}\n",
       "</style>\n",
       "<table id=\"T_3dc5f\">\n",
       "  <thead>\n",
       "    <tr>\n",
       "      <th class=\"blank level0\" >&nbsp;</th>\n",
       "      <th id=\"T_3dc5f_level0_col0\" class=\"col_heading level0 col0\" >Description</th>\n",
       "      <th id=\"T_3dc5f_level0_col1\" class=\"col_heading level0 col1\" >Value</th>\n",
       "    </tr>\n",
       "  </thead>\n",
       "  <tbody>\n",
       "    <tr>\n",
       "      <th id=\"T_3dc5f_level0_row0\" class=\"row_heading level0 row0\" >0</th>\n",
       "      <td id=\"T_3dc5f_row0_col0\" class=\"data row0 col0\" >Session id</td>\n",
       "      <td id=\"T_3dc5f_row0_col1\" class=\"data row0 col1\" >456</td>\n",
       "    </tr>\n",
       "    <tr>\n",
       "      <th id=\"T_3dc5f_level0_row1\" class=\"row_heading level0 row1\" >1</th>\n",
       "      <td id=\"T_3dc5f_row1_col0\" class=\"data row1 col0\" >Target</td>\n",
       "      <td id=\"T_3dc5f_row1_col1\" class=\"data row1 col1\" >close</td>\n",
       "    </tr>\n",
       "    <tr>\n",
       "      <th id=\"T_3dc5f_level0_row2\" class=\"row_heading level0 row2\" >2</th>\n",
       "      <td id=\"T_3dc5f_row2_col0\" class=\"data row2 col0\" >Target type</td>\n",
       "      <td id=\"T_3dc5f_row2_col1\" class=\"data row2 col1\" >Regression</td>\n",
       "    </tr>\n",
       "    <tr>\n",
       "      <th id=\"T_3dc5f_level0_row3\" class=\"row_heading level0 row3\" >3</th>\n",
       "      <td id=\"T_3dc5f_row3_col0\" class=\"data row3 col0\" >Original data shape</td>\n",
       "      <td id=\"T_3dc5f_row3_col1\" class=\"data row3 col1\" >(1793, 8)</td>\n",
       "    </tr>\n",
       "    <tr>\n",
       "      <th id=\"T_3dc5f_level0_row4\" class=\"row_heading level0 row4\" >4</th>\n",
       "      <td id=\"T_3dc5f_row4_col0\" class=\"data row4 col0\" >Transformed data shape</td>\n",
       "      <td id=\"T_3dc5f_row4_col1\" class=\"data row4 col1\" >(1793, 8)</td>\n",
       "    </tr>\n",
       "    <tr>\n",
       "      <th id=\"T_3dc5f_level0_row5\" class=\"row_heading level0 row5\" >5</th>\n",
       "      <td id=\"T_3dc5f_row5_col0\" class=\"data row5 col0\" >Transformed train set shape</td>\n",
       "      <td id=\"T_3dc5f_row5_col1\" class=\"data row5 col1\" >(1434, 8)</td>\n",
       "    </tr>\n",
       "    <tr>\n",
       "      <th id=\"T_3dc5f_level0_row6\" class=\"row_heading level0 row6\" >6</th>\n",
       "      <td id=\"T_3dc5f_row6_col0\" class=\"data row6 col0\" >Transformed test set shape</td>\n",
       "      <td id=\"T_3dc5f_row6_col1\" class=\"data row6 col1\" >(359, 8)</td>\n",
       "    </tr>\n",
       "    <tr>\n",
       "      <th id=\"T_3dc5f_level0_row7\" class=\"row_heading level0 row7\" >7</th>\n",
       "      <td id=\"T_3dc5f_row7_col0\" class=\"data row7 col0\" >Numeric features</td>\n",
       "      <td id=\"T_3dc5f_row7_col1\" class=\"data row7 col1\" >7</td>\n",
       "    </tr>\n",
       "    <tr>\n",
       "      <th id=\"T_3dc5f_level0_row8\" class=\"row_heading level0 row8\" >8</th>\n",
       "      <td id=\"T_3dc5f_row8_col0\" class=\"data row8 col0\" >Preprocess</td>\n",
       "      <td id=\"T_3dc5f_row8_col1\" class=\"data row8 col1\" >True</td>\n",
       "    </tr>\n",
       "    <tr>\n",
       "      <th id=\"T_3dc5f_level0_row9\" class=\"row_heading level0 row9\" >9</th>\n",
       "      <td id=\"T_3dc5f_row9_col0\" class=\"data row9 col0\" >Imputation type</td>\n",
       "      <td id=\"T_3dc5f_row9_col1\" class=\"data row9 col1\" >simple</td>\n",
       "    </tr>\n",
       "    <tr>\n",
       "      <th id=\"T_3dc5f_level0_row10\" class=\"row_heading level0 row10\" >10</th>\n",
       "      <td id=\"T_3dc5f_row10_col0\" class=\"data row10 col0\" >Numeric imputation</td>\n",
       "      <td id=\"T_3dc5f_row10_col1\" class=\"data row10 col1\" >mean</td>\n",
       "    </tr>\n",
       "    <tr>\n",
       "      <th id=\"T_3dc5f_level0_row11\" class=\"row_heading level0 row11\" >11</th>\n",
       "      <td id=\"T_3dc5f_row11_col0\" class=\"data row11 col0\" >Categorical imputation</td>\n",
       "      <td id=\"T_3dc5f_row11_col1\" class=\"data row11 col1\" >mode</td>\n",
       "    </tr>\n",
       "    <tr>\n",
       "      <th id=\"T_3dc5f_level0_row12\" class=\"row_heading level0 row12\" >12</th>\n",
       "      <td id=\"T_3dc5f_row12_col0\" class=\"data row12 col0\" >Fold Generator</td>\n",
       "      <td id=\"T_3dc5f_row12_col1\" class=\"data row12 col1\" >TimeSeriesSplit</td>\n",
       "    </tr>\n",
       "    <tr>\n",
       "      <th id=\"T_3dc5f_level0_row13\" class=\"row_heading level0 row13\" >13</th>\n",
       "      <td id=\"T_3dc5f_row13_col0\" class=\"data row13 col0\" >Fold Number</td>\n",
       "      <td id=\"T_3dc5f_row13_col1\" class=\"data row13 col1\" >5</td>\n",
       "    </tr>\n",
       "    <tr>\n",
       "      <th id=\"T_3dc5f_level0_row14\" class=\"row_heading level0 row14\" >14</th>\n",
       "      <td id=\"T_3dc5f_row14_col0\" class=\"data row14 col0\" >CPU Jobs</td>\n",
       "      <td id=\"T_3dc5f_row14_col1\" class=\"data row14 col1\" >-1</td>\n",
       "    </tr>\n",
       "    <tr>\n",
       "      <th id=\"T_3dc5f_level0_row15\" class=\"row_heading level0 row15\" >15</th>\n",
       "      <td id=\"T_3dc5f_row15_col0\" class=\"data row15 col0\" >Use GPU</td>\n",
       "      <td id=\"T_3dc5f_row15_col1\" class=\"data row15 col1\" >False</td>\n",
       "    </tr>\n",
       "    <tr>\n",
       "      <th id=\"T_3dc5f_level0_row16\" class=\"row_heading level0 row16\" >16</th>\n",
       "      <td id=\"T_3dc5f_row16_col0\" class=\"data row16 col0\" >Log Experiment</td>\n",
       "      <td id=\"T_3dc5f_row16_col1\" class=\"data row16 col1\" >False</td>\n",
       "    </tr>\n",
       "    <tr>\n",
       "      <th id=\"T_3dc5f_level0_row17\" class=\"row_heading level0 row17\" >17</th>\n",
       "      <td id=\"T_3dc5f_row17_col0\" class=\"data row17 col0\" >Experiment Name</td>\n",
       "      <td id=\"T_3dc5f_row17_col1\" class=\"data row17 col1\" >reg-default-name</td>\n",
       "    </tr>\n",
       "    <tr>\n",
       "      <th id=\"T_3dc5f_level0_row18\" class=\"row_heading level0 row18\" >18</th>\n",
       "      <td id=\"T_3dc5f_row18_col0\" class=\"data row18 col0\" >USI</td>\n",
       "      <td id=\"T_3dc5f_row18_col1\" class=\"data row18 col1\" >0a53</td>\n",
       "    </tr>\n",
       "  </tbody>\n",
       "</table>\n"
      ],
      "text/plain": [
       "<pandas.io.formats.style.Styler at 0x30d365040>"
      ]
     },
     "metadata": {},
     "output_type": "display_data"
    },
    {
     "data": {
      "text/html": [],
      "text/plain": [
       "<IPython.core.display.HTML object>"
      ]
     },
     "metadata": {},
     "output_type": "display_data"
    },
    {
     "data": {
      "text/html": [
       "<style type=\"text/css\">\n",
       "#T_9b8e5_row5_col0, #T_9b8e5_row5_col1, #T_9b8e5_row5_col2, #T_9b8e5_row5_col3, #T_9b8e5_row5_col4, #T_9b8e5_row5_col5 {\n",
       "  background: yellow;\n",
       "}\n",
       "</style>\n",
       "<table id=\"T_9b8e5\">\n",
       "  <thead>\n",
       "    <tr>\n",
       "      <th class=\"blank level0\" >&nbsp;</th>\n",
       "      <th id=\"T_9b8e5_level0_col0\" class=\"col_heading level0 col0\" >MAE</th>\n",
       "      <th id=\"T_9b8e5_level0_col1\" class=\"col_heading level0 col1\" >MSE</th>\n",
       "      <th id=\"T_9b8e5_level0_col2\" class=\"col_heading level0 col2\" >RMSE</th>\n",
       "      <th id=\"T_9b8e5_level0_col3\" class=\"col_heading level0 col3\" >R2</th>\n",
       "      <th id=\"T_9b8e5_level0_col4\" class=\"col_heading level0 col4\" >RMSLE</th>\n",
       "      <th id=\"T_9b8e5_level0_col5\" class=\"col_heading level0 col5\" >MAPE</th>\n",
       "    </tr>\n",
       "    <tr>\n",
       "      <th class=\"index_name level0\" >Fold</th>\n",
       "      <th class=\"blank col0\" >&nbsp;</th>\n",
       "      <th class=\"blank col1\" >&nbsp;</th>\n",
       "      <th class=\"blank col2\" >&nbsp;</th>\n",
       "      <th class=\"blank col3\" >&nbsp;</th>\n",
       "      <th class=\"blank col4\" >&nbsp;</th>\n",
       "      <th class=\"blank col5\" >&nbsp;</th>\n",
       "    </tr>\n",
       "  </thead>\n",
       "  <tbody>\n",
       "    <tr>\n",
       "      <th id=\"T_9b8e5_level0_row0\" class=\"row_heading level0 row0\" >0</th>\n",
       "      <td id=\"T_9b8e5_row0_col0\" class=\"data row0 col0\" >10579.7285</td>\n",
       "      <td id=\"T_9b8e5_row0_col1\" class=\"data row0 col1\" >190898480.0000</td>\n",
       "      <td id=\"T_9b8e5_row0_col2\" class=\"data row0 col2\" >13816.6016</td>\n",
       "      <td id=\"T_9b8e5_row0_col3\" class=\"data row0 col3\" >-1.1862</td>\n",
       "      <td id=\"T_9b8e5_row0_col4\" class=\"data row0 col4\" >0.3145</td>\n",
       "      <td id=\"T_9b8e5_row0_col5\" class=\"data row0 col5\" >0.2047</td>\n",
       "    </tr>\n",
       "    <tr>\n",
       "      <th id=\"T_9b8e5_level0_row1\" class=\"row_heading level0 row1\" >1</th>\n",
       "      <td id=\"T_9b8e5_row1_col0\" class=\"data row1 col0\" >2339.5132</td>\n",
       "      <td id=\"T_9b8e5_row1_col1\" class=\"data row1 col1\" >9235188.0000</td>\n",
       "      <td id=\"T_9b8e5_row1_col2\" class=\"data row1 col2\" >3038.9453</td>\n",
       "      <td id=\"T_9b8e5_row1_col3\" class=\"data row1 col3\" >0.8683</td>\n",
       "      <td id=\"T_9b8e5_row1_col4\" class=\"data row1 col4\" >0.0611</td>\n",
       "      <td id=\"T_9b8e5_row1_col5\" class=\"data row1 col5\" >0.0482</td>\n",
       "    </tr>\n",
       "    <tr>\n",
       "      <th id=\"T_9b8e5_level0_row2\" class=\"row_heading level0 row2\" >2</th>\n",
       "      <td id=\"T_9b8e5_row2_col0\" class=\"data row2 col0\" >2758.3975</td>\n",
       "      <td id=\"T_9b8e5_row2_col1\" class=\"data row2 col1\" >9208641.0000</td>\n",
       "      <td id=\"T_9b8e5_row2_col2\" class=\"data row2 col2\" >3034.5742</td>\n",
       "      <td id=\"T_9b8e5_row2_col3\" class=\"data row2 col3\" >0.4609</td>\n",
       "      <td id=\"T_9b8e5_row2_col4\" class=\"data row2 col4\" >0.1409</td>\n",
       "      <td id=\"T_9b8e5_row2_col5\" class=\"data row2 col5\" >0.1369</td>\n",
       "    </tr>\n",
       "    <tr>\n",
       "      <th id=\"T_9b8e5_level0_row3\" class=\"row_heading level0 row3\" >3</th>\n",
       "      <td id=\"T_9b8e5_row3_col0\" class=\"data row3 col0\" >1246.8951</td>\n",
       "      <td id=\"T_9b8e5_row3_col1\" class=\"data row3 col1\" >2876734.5000</td>\n",
       "      <td id=\"T_9b8e5_row3_col2\" class=\"data row3 col2\" >1696.0939</td>\n",
       "      <td id=\"T_9b8e5_row3_col3\" class=\"data row3 col3\" >0.7528</td>\n",
       "      <td id=\"T_9b8e5_row3_col4\" class=\"data row3 col4\" >0.0674</td>\n",
       "      <td id=\"T_9b8e5_row3_col5\" class=\"data row3 col5\" >0.0474</td>\n",
       "    </tr>\n",
       "    <tr>\n",
       "      <th id=\"T_9b8e5_level0_row4\" class=\"row_heading level0 row4\" >4</th>\n",
       "      <td id=\"T_9b8e5_row4_col0\" class=\"data row4 col0\" >2084.1516</td>\n",
       "      <td id=\"T_9b8e5_row4_col1\" class=\"data row4 col1\" >11259663.0000</td>\n",
       "      <td id=\"T_9b8e5_row4_col2\" class=\"data row4 col2\" >3355.5422</td>\n",
       "      <td id=\"T_9b8e5_row4_col3\" class=\"data row4 col3\" >0.9464</td>\n",
       "      <td id=\"T_9b8e5_row4_col4\" class=\"data row4 col4\" >0.0562</td>\n",
       "      <td id=\"T_9b8e5_row4_col5\" class=\"data row4 col5\" >0.0387</td>\n",
       "    </tr>\n",
       "    <tr>\n",
       "      <th id=\"T_9b8e5_level0_row5\" class=\"row_heading level0 row5\" >Mean</th>\n",
       "      <td id=\"T_9b8e5_row5_col0\" class=\"data row5 col0\" >3801.7372</td>\n",
       "      <td id=\"T_9b8e5_row5_col1\" class=\"data row5 col1\" >44695741.3000</td>\n",
       "      <td id=\"T_9b8e5_row5_col2\" class=\"data row5 col2\" >4988.3514</td>\n",
       "      <td id=\"T_9b8e5_row5_col3\" class=\"data row5 col3\" >0.3684</td>\n",
       "      <td id=\"T_9b8e5_row5_col4\" class=\"data row5 col4\" >0.1280</td>\n",
       "      <td id=\"T_9b8e5_row5_col5\" class=\"data row5 col5\" >0.0952</td>\n",
       "    </tr>\n",
       "    <tr>\n",
       "      <th id=\"T_9b8e5_level0_row6\" class=\"row_heading level0 row6\" >Std</th>\n",
       "      <td id=\"T_9b8e5_row6_col0\" class=\"data row6 col0\" >3424.7669</td>\n",
       "      <td id=\"T_9b8e5_row6_col1\" class=\"data row6 col1\" >73155760.6662</td>\n",
       "      <td id=\"T_9b8e5_row6_col2\" class=\"data row6 col2\" >4451.0775</td>\n",
       "      <td id=\"T_9b8e5_row6_col3\" class=\"data row6 col3\" >0.7946</td>\n",
       "      <td id=\"T_9b8e5_row6_col4\" class=\"data row6 col4\" >0.0983</td>\n",
       "      <td id=\"T_9b8e5_row6_col5\" class=\"data row6 col5\" >0.0654</td>\n",
       "    </tr>\n",
       "  </tbody>\n",
       "</table>\n"
      ],
      "text/plain": [
       "<pandas.io.formats.style.Styler at 0x30d35c850>"
      ]
     },
     "metadata": {},
     "output_type": "display_data"
    },
    {
     "data": {
      "text/html": [],
      "text/plain": [
       "<IPython.core.display.HTML object>"
      ]
     },
     "metadata": {},
     "output_type": "display_data"
    },
    {
     "data": {
      "text/html": [],
      "text/plain": [
       "<IPython.core.display.HTML object>"
      ]
     },
     "metadata": {},
     "output_type": "display_data"
    },
    {
     "data": {
      "text/html": [
       "<style type=\"text/css\">\n",
       "#T_df838_row5_col0, #T_df838_row5_col1, #T_df838_row5_col2, #T_df838_row5_col3, #T_df838_row5_col4, #T_df838_row5_col5 {\n",
       "  background: yellow;\n",
       "}\n",
       "</style>\n",
       "<table id=\"T_df838\">\n",
       "  <thead>\n",
       "    <tr>\n",
       "      <th class=\"blank level0\" >&nbsp;</th>\n",
       "      <th id=\"T_df838_level0_col0\" class=\"col_heading level0 col0\" >MAE</th>\n",
       "      <th id=\"T_df838_level0_col1\" class=\"col_heading level0 col1\" >MSE</th>\n",
       "      <th id=\"T_df838_level0_col2\" class=\"col_heading level0 col2\" >RMSE</th>\n",
       "      <th id=\"T_df838_level0_col3\" class=\"col_heading level0 col3\" >R2</th>\n",
       "      <th id=\"T_df838_level0_col4\" class=\"col_heading level0 col4\" >RMSLE</th>\n",
       "      <th id=\"T_df838_level0_col5\" class=\"col_heading level0 col5\" >MAPE</th>\n",
       "    </tr>\n",
       "    <tr>\n",
       "      <th class=\"index_name level0\" >Fold</th>\n",
       "      <th class=\"blank col0\" >&nbsp;</th>\n",
       "      <th class=\"blank col1\" >&nbsp;</th>\n",
       "      <th class=\"blank col2\" >&nbsp;</th>\n",
       "      <th class=\"blank col3\" >&nbsp;</th>\n",
       "      <th class=\"blank col4\" >&nbsp;</th>\n",
       "      <th class=\"blank col5\" >&nbsp;</th>\n",
       "    </tr>\n",
       "  </thead>\n",
       "  <tbody>\n",
       "    <tr>\n",
       "      <th id=\"T_df838_level0_row0\" class=\"row_heading level0 row0\" >0</th>\n",
       "      <td id=\"T_df838_row0_col0\" class=\"data row0 col0\" >9733.5439</td>\n",
       "      <td id=\"T_df838_row0_col1\" class=\"data row0 col1\" >159061424.0000</td>\n",
       "      <td id=\"T_df838_row0_col2\" class=\"data row0 col2\" >12611.9561</td>\n",
       "      <td id=\"T_df838_row0_col3\" class=\"data row0 col3\" >-0.8216</td>\n",
       "      <td id=\"T_df838_row0_col4\" class=\"data row0 col4\" >0.2805</td>\n",
       "      <td id=\"T_df838_row0_col5\" class=\"data row0 col5\" >0.1893</td>\n",
       "    </tr>\n",
       "    <tr>\n",
       "      <th id=\"T_df838_level0_row1\" class=\"row_heading level0 row1\" >1</th>\n",
       "      <td id=\"T_df838_row1_col0\" class=\"data row1 col0\" >1746.9001</td>\n",
       "      <td id=\"T_df838_row1_col1\" class=\"data row1 col1\" >5361965.5000</td>\n",
       "      <td id=\"T_df838_row1_col2\" class=\"data row1 col2\" >2315.5918</td>\n",
       "      <td id=\"T_df838_row1_col3\" class=\"data row1 col3\" >0.9235</td>\n",
       "      <td id=\"T_df838_row1_col4\" class=\"data row1 col4\" >0.0463</td>\n",
       "      <td id=\"T_df838_row1_col5\" class=\"data row1 col5\" >0.0362</td>\n",
       "    </tr>\n",
       "    <tr>\n",
       "      <th id=\"T_df838_level0_row2\" class=\"row_heading level0 row2\" >2</th>\n",
       "      <td id=\"T_df838_row2_col0\" class=\"data row2 col0\" >1674.8158</td>\n",
       "      <td id=\"T_df838_row2_col1\" class=\"data row2 col1\" >4032282.2500</td>\n",
       "      <td id=\"T_df838_row2_col2\" class=\"data row2 col2\" >2008.0543</td>\n",
       "      <td id=\"T_df838_row2_col3\" class=\"data row2 col3\" >0.7640</td>\n",
       "      <td id=\"T_df838_row2_col4\" class=\"data row2 col4\" >0.0905</td>\n",
       "      <td id=\"T_df838_row2_col5\" class=\"data row2 col5\" >0.0811</td>\n",
       "    </tr>\n",
       "    <tr>\n",
       "      <th id=\"T_df838_level0_row3\" class=\"row_heading level0 row3\" >3</th>\n",
       "      <td id=\"T_df838_row3_col0\" class=\"data row3 col0\" >686.5734</td>\n",
       "      <td id=\"T_df838_row3_col1\" class=\"data row3 col1\" >789918.8125</td>\n",
       "      <td id=\"T_df838_row3_col2\" class=\"data row3 col2\" >888.7737</td>\n",
       "      <td id=\"T_df838_row3_col3\" class=\"data row3 col3\" >0.9321</td>\n",
       "      <td id=\"T_df838_row3_col4\" class=\"data row3 col4\" >0.0348</td>\n",
       "      <td id=\"T_df838_row3_col5\" class=\"data row3 col5\" >0.0261</td>\n",
       "    </tr>\n",
       "    <tr>\n",
       "      <th id=\"T_df838_level0_row4\" class=\"row_heading level0 row4\" >4</th>\n",
       "      <td id=\"T_df838_row4_col0\" class=\"data row4 col0\" >1839.1106</td>\n",
       "      <td id=\"T_df838_row4_col1\" class=\"data row4 col1\" >9328369.0000</td>\n",
       "      <td id=\"T_df838_row4_col2\" class=\"data row4 col2\" >3054.2378</td>\n",
       "      <td id=\"T_df838_row4_col3\" class=\"data row4 col3\" >0.9556</td>\n",
       "      <td id=\"T_df838_row4_col4\" class=\"data row4 col4\" >0.0501</td>\n",
       "      <td id=\"T_df838_row4_col5\" class=\"data row4 col5\" >0.0334</td>\n",
       "    </tr>\n",
       "    <tr>\n",
       "      <th id=\"T_df838_level0_row5\" class=\"row_heading level0 row5\" >Mean</th>\n",
       "      <td id=\"T_df838_row5_col0\" class=\"data row5 col0\" >3136.1888</td>\n",
       "      <td id=\"T_df838_row5_col1\" class=\"data row5 col1\" >35714791.9125</td>\n",
       "      <td id=\"T_df838_row5_col2\" class=\"data row5 col2\" >4175.7227</td>\n",
       "      <td id=\"T_df838_row5_col3\" class=\"data row5 col3\" >0.5507</td>\n",
       "      <td id=\"T_df838_row5_col4\" class=\"data row5 col4\" >0.1005</td>\n",
       "      <td id=\"T_df838_row5_col5\" class=\"data row5 col5\" >0.0732</td>\n",
       "    </tr>\n",
       "    <tr>\n",
       "      <th id=\"T_df838_level0_row6\" class=\"row_heading level0 row6\" >Std</th>\n",
       "      <td id=\"T_df838_row6_col0\" class=\"data row6 col0\" >3324.8716</td>\n",
       "      <td id=\"T_df838_row6_col1\" class=\"data row6 col1\" >61734037.9568</td>\n",
       "      <td id=\"T_df838_row6_col2\" class=\"data row6 col2\" >4275.2934</td>\n",
       "      <td id=\"T_df838_row6_col3\" class=\"data row6 col3\" >0.6895</td>\n",
       "      <td id=\"T_df838_row6_col4\" class=\"data row6 col4\" >0.0919</td>\n",
       "      <td id=\"T_df838_row6_col5\" class=\"data row6 col5\" >0.0612</td>\n",
       "    </tr>\n",
       "  </tbody>\n",
       "</table>\n"
      ],
      "text/plain": [
       "<pandas.io.formats.style.Styler at 0x3244eaf70>"
      ]
     },
     "metadata": {},
     "output_type": "display_data"
    },
    {
     "data": {
      "text/html": [],
      "text/plain": [
       "<IPython.core.display.HTML object>"
      ]
     },
     "metadata": {},
     "output_type": "display_data"
    },
    {
     "name": "stdout",
     "output_type": "stream",
     "text": [
      "Fitting 5 folds for each of 10 candidates, totalling 50 fits\n"
     ]
    },
    {
     "data": {
      "text/html": [],
      "text/plain": [
       "<IPython.core.display.HTML object>"
      ]
     },
     "metadata": {},
     "output_type": "display_data"
    },
    {
     "data": {
      "text/html": [
       "<style type=\"text/css\">\n",
       "#T_0b399_row5_col0, #T_0b399_row5_col1, #T_0b399_row5_col2, #T_0b399_row5_col3, #T_0b399_row5_col4, #T_0b399_row5_col5 {\n",
       "  background: yellow;\n",
       "}\n",
       "</style>\n",
       "<table id=\"T_0b399\">\n",
       "  <thead>\n",
       "    <tr>\n",
       "      <th class=\"blank level0\" >&nbsp;</th>\n",
       "      <th id=\"T_0b399_level0_col0\" class=\"col_heading level0 col0\" >MAE</th>\n",
       "      <th id=\"T_0b399_level0_col1\" class=\"col_heading level0 col1\" >MSE</th>\n",
       "      <th id=\"T_0b399_level0_col2\" class=\"col_heading level0 col2\" >RMSE</th>\n",
       "      <th id=\"T_0b399_level0_col3\" class=\"col_heading level0 col3\" >R2</th>\n",
       "      <th id=\"T_0b399_level0_col4\" class=\"col_heading level0 col4\" >RMSLE</th>\n",
       "      <th id=\"T_0b399_level0_col5\" class=\"col_heading level0 col5\" >MAPE</th>\n",
       "    </tr>\n",
       "    <tr>\n",
       "      <th class=\"index_name level0\" >Fold</th>\n",
       "      <th class=\"blank col0\" >&nbsp;</th>\n",
       "      <th class=\"blank col1\" >&nbsp;</th>\n",
       "      <th class=\"blank col2\" >&nbsp;</th>\n",
       "      <th class=\"blank col3\" >&nbsp;</th>\n",
       "      <th class=\"blank col4\" >&nbsp;</th>\n",
       "      <th class=\"blank col5\" >&nbsp;</th>\n",
       "    </tr>\n",
       "  </thead>\n",
       "  <tbody>\n",
       "    <tr>\n",
       "      <th id=\"T_0b399_level0_row0\" class=\"row_heading level0 row0\" >0</th>\n",
       "      <td id=\"T_0b399_row0_col0\" class=\"data row0 col0\" >10468.3447</td>\n",
       "      <td id=\"T_0b399_row0_col1\" class=\"data row0 col1\" >184712784.0000</td>\n",
       "      <td id=\"T_0b399_row0_col2\" class=\"data row0 col2\" >13590.9082</td>\n",
       "      <td id=\"T_0b399_row0_col3\" class=\"data row0 col3\" >-1.1154</td>\n",
       "      <td id=\"T_0b399_row0_col4\" class=\"data row0 col4\" >0.3080</td>\n",
       "      <td id=\"T_0b399_row0_col5\" class=\"data row0 col5\" >0.2031</td>\n",
       "    </tr>\n",
       "    <tr>\n",
       "      <th id=\"T_0b399_level0_row1\" class=\"row_heading level0 row1\" >1</th>\n",
       "      <td id=\"T_0b399_row1_col0\" class=\"data row1 col0\" >1890.5598</td>\n",
       "      <td id=\"T_0b399_row1_col1\" class=\"data row1 col1\" >6487889.5000</td>\n",
       "      <td id=\"T_0b399_row1_col2\" class=\"data row1 col2\" >2547.1335</td>\n",
       "      <td id=\"T_0b399_row1_col3\" class=\"data row1 col3\" >0.9075</td>\n",
       "      <td id=\"T_0b399_row1_col4\" class=\"data row1 col4\" >0.0495</td>\n",
       "      <td id=\"T_0b399_row1_col5\" class=\"data row1 col5\" >0.0383</td>\n",
       "    </tr>\n",
       "    <tr>\n",
       "      <th id=\"T_0b399_level0_row2\" class=\"row_heading level0 row2\" >2</th>\n",
       "      <td id=\"T_0b399_row2_col0\" class=\"data row2 col0\" >1794.8831</td>\n",
       "      <td id=\"T_0b399_row2_col1\" class=\"data row2 col1\" >4140569.7500</td>\n",
       "      <td id=\"T_0b399_row2_col2\" class=\"data row2 col2\" >2034.8390</td>\n",
       "      <td id=\"T_0b399_row2_col3\" class=\"data row2 col3\" >0.7576</td>\n",
       "      <td id=\"T_0b399_row2_col4\" class=\"data row2 col4\" >0.0930</td>\n",
       "      <td id=\"T_0b399_row2_col5\" class=\"data row2 col5\" >0.0872</td>\n",
       "    </tr>\n",
       "    <tr>\n",
       "      <th id=\"T_0b399_level0_row3\" class=\"row_heading level0 row3\" >3</th>\n",
       "      <td id=\"T_0b399_row3_col0\" class=\"data row3 col0\" >799.3998</td>\n",
       "      <td id=\"T_0b399_row3_col1\" class=\"data row3 col1\" >1162708.5000</td>\n",
       "      <td id=\"T_0b399_row3_col2\" class=\"data row3 col2\" >1078.2897</td>\n",
       "      <td id=\"T_0b399_row3_col3\" class=\"data row3 col3\" >0.9001</td>\n",
       "      <td id=\"T_0b399_row3_col4\" class=\"data row3 col4\" >0.0421</td>\n",
       "      <td id=\"T_0b399_row3_col5\" class=\"data row3 col5\" >0.0305</td>\n",
       "    </tr>\n",
       "    <tr>\n",
       "      <th id=\"T_0b399_level0_row4\" class=\"row_heading level0 row4\" >4</th>\n",
       "      <td id=\"T_0b399_row4_col0\" class=\"data row4 col0\" >1607.5997</td>\n",
       "      <td id=\"T_0b399_row4_col1\" class=\"data row4 col1\" >7057441.0000</td>\n",
       "      <td id=\"T_0b399_row4_col2\" class=\"data row4 col2\" >2656.5845</td>\n",
       "      <td id=\"T_0b399_row4_col3\" class=\"data row4 col3\" >0.9664</td>\n",
       "      <td id=\"T_0b399_row4_col4\" class=\"data row4 col4\" >0.0439</td>\n",
       "      <td id=\"T_0b399_row4_col5\" class=\"data row4 col5\" >0.0294</td>\n",
       "    </tr>\n",
       "    <tr>\n",
       "      <th id=\"T_0b399_level0_row5\" class=\"row_heading level0 row5\" >Mean</th>\n",
       "      <td id=\"T_0b399_row5_col0\" class=\"data row5 col0\" >3312.1574</td>\n",
       "      <td id=\"T_0b399_row5_col1\" class=\"data row5 col1\" >40712278.5500</td>\n",
       "      <td id=\"T_0b399_row5_col2\" class=\"data row5 col2\" >4381.5510</td>\n",
       "      <td id=\"T_0b399_row5_col3\" class=\"data row5 col3\" >0.4832</td>\n",
       "      <td id=\"T_0b399_row5_col4\" class=\"data row5 col4\" >0.1073</td>\n",
       "      <td id=\"T_0b399_row5_col5\" class=\"data row5 col5\" >0.0777</td>\n",
       "    </tr>\n",
       "    <tr>\n",
       "      <th id=\"T_0b399_level0_row6\" class=\"row_heading level0 row6\" >Std</th>\n",
       "      <td id=\"T_0b399_row6_col0\" class=\"data row6 col0\" >3598.7094</td>\n",
       "      <td id=\"T_0b399_row6_col1\" class=\"data row6 col1\" >72030217.0508</td>\n",
       "      <td id=\"T_0b399_row6_col2\" class=\"data row6 col2\" >4638.3499</td>\n",
       "      <td id=\"T_0b399_row6_col3\" class=\"data row6 col3\" >0.8022</td>\n",
       "      <td id=\"T_0b399_row6_col4\" class=\"data row6 col4\" >0.1021</td>\n",
       "      <td id=\"T_0b399_row6_col5\" class=\"data row6 col5\" >0.0662</td>\n",
       "    </tr>\n",
       "  </tbody>\n",
       "</table>\n"
      ],
      "text/plain": [
       "<pandas.io.formats.style.Styler at 0x3278a76a0>"
      ]
     },
     "metadata": {},
     "output_type": "display_data"
    },
    {
     "data": {
      "text/html": [],
      "text/plain": [
       "<IPython.core.display.HTML object>"
      ]
     },
     "metadata": {},
     "output_type": "display_data"
    },
    {
     "name": "stdout",
     "output_type": "stream",
     "text": [
      "\n",
      "--- Training multi output XGB regressor ---\n",
      "...\n"
     ]
    }
   ],
   "source": [
    "from xgboost import XGBRegressor\n",
    "from sklearn.multioutput import MultiOutputRegressor\n",
    "# train and tune xgboost with pycaret using single step prediciton\n",
    "\n",
    "# for this we need to ensure that the target data is only a one-step target.\n",
    "\n",
    "def optimise_model(experiment: RegressionExperiment, custom_params:dict):\n",
    "    final_xgb = experiment.create_model('xgboost',\n",
    "                                        **custom_params)\n",
    "    \n",
    "    return final_xgb\n",
    "\n",
    "def train_ts_xgboost_multi_step(data: pd.DataFrame, X: np.array, y: np.array): \n",
    "    experiment = RegressionExperiment().setup(\n",
    "        data=data,\n",
    "        target='close',\n",
    "        data_split_shuffle=False,\n",
    "        fold=5,\n",
    "        fold_strategy='timeseries',\n",
    "        session_id=456,\n",
    "        train_size=0.8\n",
    "    )\n",
    "    \n",
    "    xgb = experiment.create_model(\"xgboost\")\n",
    "    \n",
    "    xgb_tuned = experiment.tune_model(xgb)\n",
    "    xgb_params = xgb_tuned.get_params()\n",
    "    \n",
    "    # key hyperparameters\n",
    "    # each tree sees more data, reducing variance\n",
    "    xgb_params['subsample'] = 0.8\n",
    "    # deeper trees to increase model complexity and ability to fit.\n",
    "    xgb_params['max_depth'] = 4\n",
    "    # reduce learning rate to increase regularisation\n",
    "    xgb_params['learning_rate'] = 0.05\n",
    "    \n",
    "    # optimise the final model - mainly for scoring\n",
    "    _ = optimise_model(experiment, xgb_params)\n",
    "    \n",
    "    X = X.astype(np.float32)\n",
    "    y = y.astype(np.float32)\n",
    "\n",
    "    base_model = XGBRegressor(**xgb_params)\n",
    "    \n",
    "    print(\"\\n--- Training multi output XGB regressor ---\")\n",
    "    print(\"...\")\n",
    "    multi_model = MultiOutputRegressor(base_model).fit(X, y)\n",
    "    \n",
    "    return multi_model, xgb_params\n",
    "    \n",
    "    \n",
    "# test\n",
    "multi_step_xgb, params = train_ts_xgboost_multi_step(btc_5y_close_df_30_lag, X_train, y_train)\n"
   ]
  },
  {
   "cell_type": "markdown",
   "id": "e5834c9f",
   "metadata": {},
   "source": [
    "# Evaluate the multi-step regressor"
   ]
  },
  {
   "cell_type": "code",
   "execution_count": 202,
   "id": "066762d8",
   "metadata": {},
   "outputs": [
    {
     "name": "stdout",
     "output_type": "stream",
     "text": [
      "multi step model MAE: 16221.72\n",
      "multi step model MSE: 465266510.30\n",
      "multi step model R2: -0.75\n"
     ]
    },
    {
     "data": {
      "application/vnd.plotly.v1+json": {
       "config": {
        "plotlyServerURL": "https://plot.ly"
       },
       "data": [
        {
         "hovertemplate": "variable=close<br>x=%{x}<br>close price $=%{y}<extra></extra>",
         "legendgroup": "close",
         "line": {
          "color": "#636efa",
          "dash": "solid"
         },
         "marker": {
          "symbol": "circle"
         },
         "mode": "lines",
         "name": "close",
         "orientation": "v",
         "showlegend": true,
         "type": "scatter",
         "x": [
          "2024-05-25T00:00:00",
          "2024-05-26T00:00:00",
          "2024-05-27T00:00:00",
          "2024-05-28T00:00:00",
          "2024-05-29T00:00:00",
          "2024-05-30T00:00:00",
          "2024-05-31T00:00:00",
          "2024-06-01T00:00:00",
          "2024-06-02T00:00:00",
          "2024-06-03T00:00:00",
          "2024-06-04T00:00:00",
          "2024-06-05T00:00:00",
          "2024-06-06T00:00:00",
          "2024-06-07T00:00:00",
          "2024-06-08T00:00:00",
          "2024-06-09T00:00:00",
          "2024-06-10T00:00:00",
          "2024-06-11T00:00:00",
          "2024-06-12T00:00:00",
          "2024-06-13T00:00:00",
          "2024-06-14T00:00:00",
          "2024-06-15T00:00:00",
          "2024-06-16T00:00:00",
          "2024-06-17T00:00:00",
          "2024-06-18T00:00:00",
          "2024-06-19T00:00:00",
          "2024-06-20T00:00:00",
          "2024-06-21T00:00:00",
          "2024-06-22T00:00:00",
          "2024-06-23T00:00:00",
          "2024-06-24T00:00:00",
          "2024-06-25T00:00:00",
          "2024-06-26T00:00:00",
          "2024-06-27T00:00:00",
          "2024-06-28T00:00:00",
          "2024-06-29T00:00:00",
          "2024-06-30T00:00:00",
          "2024-07-01T00:00:00",
          "2024-07-02T00:00:00",
          "2024-07-03T00:00:00",
          "2024-07-04T00:00:00",
          "2024-07-05T00:00:00",
          "2024-07-06T00:00:00",
          "2024-07-07T00:00:00",
          "2024-07-08T00:00:00",
          "2024-07-09T00:00:00",
          "2024-07-10T00:00:00",
          "2024-07-11T00:00:00",
          "2024-07-12T00:00:00",
          "2024-07-13T00:00:00",
          "2024-07-14T00:00:00",
          "2024-07-15T00:00:00",
          "2024-07-16T00:00:00",
          "2024-07-17T00:00:00",
          "2024-07-18T00:00:00",
          "2024-07-19T00:00:00",
          "2024-07-20T00:00:00",
          "2024-07-21T00:00:00",
          "2024-07-22T00:00:00",
          "2024-07-23T00:00:00",
          "2024-07-24T00:00:00",
          "2024-07-25T00:00:00",
          "2024-07-26T00:00:00",
          "2024-07-27T00:00:00",
          "2024-07-28T00:00:00",
          "2024-07-29T00:00:00",
          "2024-07-30T00:00:00",
          "2024-07-31T00:00:00",
          "2024-08-01T00:00:00",
          "2024-08-02T00:00:00",
          "2024-08-03T00:00:00",
          "2024-08-04T00:00:00",
          "2024-08-05T00:00:00",
          "2024-08-06T00:00:00",
          "2024-08-07T00:00:00",
          "2024-08-08T00:00:00",
          "2024-08-09T00:00:00",
          "2024-08-10T00:00:00",
          "2024-08-11T00:00:00",
          "2024-08-12T00:00:00",
          "2024-08-13T00:00:00",
          "2024-08-14T00:00:00",
          "2024-08-15T00:00:00",
          "2024-08-16T00:00:00",
          "2024-08-17T00:00:00",
          "2024-08-18T00:00:00",
          "2024-08-19T00:00:00",
          "2024-08-20T00:00:00",
          "2024-08-21T00:00:00",
          "2024-08-22T00:00:00",
          "2024-08-23T00:00:00",
          "2024-08-24T00:00:00",
          "2024-08-25T00:00:00",
          "2024-08-26T00:00:00",
          "2024-08-27T00:00:00",
          "2024-08-28T00:00:00",
          "2024-08-29T00:00:00",
          "2024-08-30T00:00:00",
          "2024-08-31T00:00:00",
          "2024-09-01T00:00:00",
          "2024-09-02T00:00:00",
          "2024-09-03T00:00:00",
          "2024-09-04T00:00:00",
          "2024-09-05T00:00:00",
          "2024-09-06T00:00:00",
          "2024-09-07T00:00:00",
          "2024-09-08T00:00:00",
          "2024-09-09T00:00:00",
          "2024-09-10T00:00:00",
          "2024-09-11T00:00:00",
          "2024-09-12T00:00:00",
          "2024-09-13T00:00:00",
          "2024-09-14T00:00:00",
          "2024-09-15T00:00:00",
          "2024-09-16T00:00:00",
          "2024-09-17T00:00:00",
          "2024-09-18T00:00:00",
          "2024-09-19T00:00:00",
          "2024-09-20T00:00:00",
          "2024-09-21T00:00:00",
          "2024-09-22T00:00:00",
          "2024-09-23T00:00:00",
          "2024-09-24T00:00:00",
          "2024-09-25T00:00:00",
          "2024-09-26T00:00:00",
          "2024-09-27T00:00:00",
          "2024-09-28T00:00:00",
          "2024-09-29T00:00:00",
          "2024-09-30T00:00:00",
          "2024-10-01T00:00:00",
          "2024-10-02T00:00:00",
          "2024-10-03T00:00:00",
          "2024-10-04T00:00:00",
          "2024-10-05T00:00:00",
          "2024-10-06T00:00:00",
          "2024-10-07T00:00:00",
          "2024-10-08T00:00:00",
          "2024-10-09T00:00:00",
          "2024-10-10T00:00:00",
          "2024-10-11T00:00:00",
          "2024-10-12T00:00:00",
          "2024-10-13T00:00:00",
          "2024-10-14T00:00:00",
          "2024-10-15T00:00:00",
          "2024-10-16T00:00:00",
          "2024-10-17T00:00:00",
          "2024-10-18T00:00:00",
          "2024-10-19T00:00:00",
          "2024-10-20T00:00:00",
          "2024-10-21T00:00:00",
          "2024-10-22T00:00:00",
          "2024-10-23T00:00:00",
          "2024-10-24T00:00:00",
          "2024-10-25T00:00:00",
          "2024-10-26T00:00:00",
          "2024-10-27T00:00:00",
          "2024-10-28T00:00:00",
          "2024-10-29T00:00:00",
          "2024-10-30T00:00:00",
          "2024-10-31T00:00:00",
          "2024-11-01T00:00:00",
          "2024-11-02T00:00:00",
          "2024-11-03T00:00:00",
          "2024-11-04T00:00:00",
          "2024-11-05T00:00:00",
          "2024-11-06T00:00:00",
          "2024-11-07T00:00:00",
          "2024-11-08T00:00:00",
          "2024-11-09T00:00:00",
          "2024-11-10T00:00:00",
          "2024-11-11T00:00:00",
          "2024-11-12T00:00:00",
          "2024-11-13T00:00:00",
          "2024-11-14T00:00:00",
          "2024-11-15T00:00:00",
          "2024-11-16T00:00:00",
          "2024-11-17T00:00:00",
          "2024-11-18T00:00:00",
          "2024-11-19T00:00:00",
          "2024-11-20T00:00:00",
          "2024-11-21T00:00:00",
          "2024-11-22T00:00:00",
          "2024-11-23T00:00:00",
          "2024-11-24T00:00:00",
          "2024-11-25T00:00:00",
          "2024-11-26T00:00:00",
          "2024-11-27T00:00:00",
          "2024-11-28T00:00:00",
          "2024-11-29T00:00:00",
          "2024-11-30T00:00:00",
          "2024-12-01T00:00:00",
          "2024-12-02T00:00:00",
          "2024-12-03T00:00:00",
          "2024-12-04T00:00:00",
          "2024-12-05T00:00:00",
          "2024-12-06T00:00:00",
          "2024-12-07T00:00:00",
          "2024-12-08T00:00:00",
          "2024-12-09T00:00:00",
          "2024-12-10T00:00:00",
          "2024-12-11T00:00:00",
          "2024-12-12T00:00:00",
          "2024-12-13T00:00:00",
          "2024-12-14T00:00:00",
          "2024-12-15T00:00:00",
          "2024-12-16T00:00:00",
          "2024-12-17T00:00:00",
          "2024-12-18T00:00:00",
          "2024-12-19T00:00:00",
          "2024-12-20T00:00:00",
          "2024-12-21T00:00:00",
          "2024-12-22T00:00:00",
          "2024-12-23T00:00:00",
          "2024-12-24T00:00:00",
          "2024-12-25T00:00:00",
          "2024-12-26T00:00:00",
          "2024-12-27T00:00:00",
          "2024-12-28T00:00:00",
          "2024-12-29T00:00:00",
          "2024-12-30T00:00:00",
          "2024-12-31T00:00:00",
          "2025-01-01T00:00:00",
          "2025-01-02T00:00:00",
          "2025-01-03T00:00:00",
          "2025-01-04T00:00:00",
          "2025-01-05T00:00:00",
          "2025-01-06T00:00:00",
          "2025-01-07T00:00:00",
          "2025-01-08T00:00:00",
          "2025-01-09T00:00:00",
          "2025-01-10T00:00:00",
          "2025-01-11T00:00:00",
          "2025-01-12T00:00:00",
          "2025-01-13T00:00:00",
          "2025-01-14T00:00:00",
          "2025-01-15T00:00:00",
          "2025-01-16T00:00:00",
          "2025-01-17T00:00:00",
          "2025-01-18T00:00:00",
          "2025-01-19T00:00:00",
          "2025-01-20T00:00:00",
          "2025-01-21T00:00:00",
          "2025-01-22T00:00:00",
          "2025-01-23T00:00:00",
          "2025-01-24T00:00:00",
          "2025-01-25T00:00:00",
          "2025-01-26T00:00:00",
          "2025-01-27T00:00:00",
          "2025-01-28T00:00:00",
          "2025-01-29T00:00:00",
          "2025-01-30T00:00:00",
          "2025-01-31T00:00:00",
          "2025-02-01T00:00:00",
          "2025-02-02T00:00:00",
          "2025-02-03T00:00:00",
          "2025-02-04T00:00:00",
          "2025-02-05T00:00:00",
          "2025-02-06T00:00:00",
          "2025-02-07T00:00:00",
          "2025-02-08T00:00:00",
          "2025-02-09T00:00:00",
          "2025-02-10T00:00:00",
          "2025-02-11T00:00:00",
          "2025-02-12T00:00:00",
          "2025-02-13T00:00:00",
          "2025-02-14T00:00:00",
          "2025-02-15T00:00:00",
          "2025-02-16T00:00:00",
          "2025-02-17T00:00:00",
          "2025-02-18T00:00:00",
          "2025-02-19T00:00:00",
          "2025-02-20T00:00:00",
          "2025-02-21T00:00:00",
          "2025-02-22T00:00:00",
          "2025-02-23T00:00:00",
          "2025-02-24T00:00:00",
          "2025-02-25T00:00:00",
          "2025-02-26T00:00:00",
          "2025-02-27T00:00:00",
          "2025-02-28T00:00:00",
          "2025-03-01T00:00:00",
          "2025-03-02T00:00:00",
          "2025-03-03T00:00:00",
          "2025-03-04T00:00:00",
          "2025-03-05T00:00:00",
          "2025-03-06T00:00:00",
          "2025-03-07T00:00:00",
          "2025-03-08T00:00:00",
          "2025-03-09T00:00:00",
          "2025-03-10T00:00:00",
          "2025-03-11T00:00:00",
          "2025-03-12T00:00:00",
          "2025-03-13T00:00:00",
          "2025-03-14T00:00:00",
          "2025-03-15T00:00:00",
          "2025-03-16T00:00:00",
          "2025-03-17T00:00:00",
          "2025-03-18T00:00:00",
          "2025-03-19T00:00:00",
          "2025-03-20T00:00:00",
          "2025-03-21T00:00:00",
          "2025-03-22T00:00:00",
          "2025-03-23T00:00:00",
          "2025-03-24T00:00:00",
          "2025-03-25T00:00:00",
          "2025-03-26T00:00:00",
          "2025-03-27T00:00:00",
          "2025-03-28T00:00:00",
          "2025-03-29T00:00:00",
          "2025-03-30T00:00:00",
          "2025-03-31T00:00:00",
          "2025-04-01T00:00:00",
          "2025-04-02T00:00:00",
          "2025-04-03T00:00:00",
          "2025-04-04T00:00:00",
          "2025-04-05T00:00:00",
          "2025-04-06T00:00:00",
          "2025-04-07T00:00:00",
          "2025-04-08T00:00:00",
          "2025-04-09T00:00:00",
          "2025-04-10T00:00:00",
          "2025-04-11T00:00:00",
          "2025-04-12T00:00:00",
          "2025-04-13T00:00:00",
          "2025-04-14T00:00:00",
          "2025-04-15T00:00:00",
          "2025-04-16T00:00:00",
          "2025-04-17T00:00:00",
          "2025-04-18T00:00:00"
         ],
         "xaxis": "x",
         "y": [
          63770.01,
          63461.98,
          63118.62,
          63866,
          60672,
          58364.97,
          59060.61,
          62882.01,
          63892.04,
          64012,
          63165.19,
          62312.08,
          61193.03,
          63074.01,
          60799.99,
          60825.99,
          61483.99,
          62940.08,
          61577.49,
          66206.5,
          65235.21,
          67024,
          66915.2,
          66274.01,
          71446.62,
          70148.34,
          69166.62,
          67969.65,
          68549.99,
          69290.57,
          68507.67,
          69436.43,
          68398.39,
          67652.42,
          68352.17,
          67540.01,
          67766.85,
          67765.63,
          68809.9,
          70537.84,
          71108,
          70799.06,
          69355.6,
          69310.46,
          69648.14,
          69540,
          67314.24,
          68263.99,
          66773.01,
          66043.99,
          66228.25,
          66676.87,
          66504.33,
          65175.32,
          64974.37,
          64869.99,
          64143.56,
          64262.01,
          63210.01,
          60293.3,
          61806.01,
          60864.99,
          61706.47,
          60427.84,
          60986.68,
          62772.01,
          62899.99,
          62135.47,
          60208.58,
          57050.01,
          56628.79,
          58230.13,
          55857.81,
          56714.62,
          58050,
          57725.85,
          57339.89,
          57889.1,
          59204.02,
          60797.91,
          64724.14,
          65043.99,
          64087.99,
          63987.92,
          66660,
          67139.96,
          68165.34,
          67532.01,
          65936.01,
          65376,
          65799.95,
          67907.99,
          67896.5,
          68249.88,
          66784.69,
          66188,
          64628,
          65354.02,
          61498.33,
          60697.99,
          58161,
          54018.81,
          56022.01,
          55134.16,
          61685.99,
          60837.99,
          60923.51,
          58712.59,
          59346.64,
          60587.15,
          58683.39,
          57541.06,
          58874.6,
          59491.99,
          58427.35,
          59438.5,
          59013.8,
          61156.03,
          60375.84,
          64037.24,
          64157.01,
          64220,
          62834,
          59415,
          59034.9,
          59359.01,
          59123.99,
          58973.99,
          57301.86,
          59132.13,
          57487.73,
          57970.9,
          56180,
          53962.97,
          54160.86,
          54869.95,
          57042,
          57635.99,
          57338,
          58132.32,
          60498,
          59993.03,
          59132,
          58213.99,
          60313.99,
          61759.99,
          62947.99,
          63201.05,
          63348.96,
          63578.76,
          63339.99,
          64262.7,
          63152.01,
          65173.99,
          65769.95,
          65858,
          65602.01,
          63327.59,
          60805.78,
          60649.28,
          60752.71,
          62086,
          62058,
          62819.91,
          62224,
          62160.49,
          60636.02,
          60326.39,
          62540,
          63206.22,
          62870.02,
          66083.99,
          67074.14,
          67620.01,
          67421.78,
          68428,
          68378,
          69031.99,
          67377.5,
          67426,
          66668.65,
          68198.28,
          66698.33,
          67092.76,
          68021.7,
          69962.21,
          72736.42,
          72344.74,
          70292.01,
          69496.01,
          69374.74,
          68775.99,
          67850.01,
          69372.01,
          75571.99,
          75857.89,
          76509.78,
          76677.46,
          80370.01,
          88647.99,
          87952.01,
          90375.2,
          87325.59,
          91032.07,
          90586.92,
          89855.99,
          90464.08,
          92310.79,
          94286.56,
          98317.12,
          98892,
          97672.4,
          97900.04,
          93010.01,
          91965.16,
          95863.11,
          95643.98,
          97460,
          96407.99,
          97185.18,
          95840.62,
          95849.69,
          98587.32,
          96945.63,
          99740.84,
          99831.99,
          101109.59,
          97276.47,
          96593,
          101125,
          100004.29,
          101424.25,
          101420,
          104463.99,
          106058.66,
          106133.74,
          100204.01,
          97461.86,
          97805.44,
          97291.99,
          95186.27,
          94881.47,
          98663.58,
          99429.6,
          95791.6,
          94299.03,
          95300,
          93738.2,
          92792.05,
          93576,
          94591.79,
          96984.79,
          98174.18,
          98220.5,
          98363.61,
          102235.6,
          96954.61,
          95060.61,
          92552.49,
          94726.11,
          94599.99,
          94545.06,
          94536.1,
          96560.86,
          100497.35,
          99987.3,
          104077.48,
          104556.23,
          101331.57,
          102260.01,
          106143.82,
          103706.66,
          103910.34,
          104870.5,
          104746.85,
          102620,
          102082.83,
          101335.52,
          103733.24,
          104722.94,
          102429.56,
          100635.65,
          97700.59,
          101328.52,
          97763.13,
          96612.43,
          96554.35,
          96506.8,
          96444.74,
          96462.75,
          97430.82,
          95778.2,
          97869.99,
          96608.14,
          97500.48,
          97569.66,
          96118.12,
          95780,
          95671.74,
          96644.37,
          98305,
          96181.98,
          96551.01,
          96258,
          91552.88,
          88680.4,
          84250.09,
          84708.58,
          84349.94,
          86064.53,
          94270,
          86220.61,
          87281.98,
          90606.01,
          89931.89,
          86801.75,
          86222.45,
          80734.37,
          78595.86,
          82932.99,
          83680.12,
          81115.78,
          83983.2,
          84338.44,
          82574.53,
          84010.03,
          82715.03,
          86845.94,
          84223.39
         ],
         "yaxis": "y"
        },
        {
         "hovertemplate": "variable=predictions<br>x=%{x}<br>close price $=%{y}<extra></extra>",
         "legendgroup": "predictions",
         "line": {
          "color": "#EF553B",
          "dash": "solid"
         },
         "marker": {
          "symbol": "circle"
         },
         "mode": "lines",
         "name": "predictions",
         "orientation": "v",
         "showlegend": true,
         "type": "scatter",
         "x": [
          "2024-05-25T00:00:00",
          "2024-05-26T00:00:00",
          "2024-05-27T00:00:00",
          "2024-05-28T00:00:00",
          "2024-05-29T00:00:00",
          "2024-05-30T00:00:00",
          "2024-05-31T00:00:00",
          "2024-06-01T00:00:00",
          "2024-06-02T00:00:00",
          "2024-06-03T00:00:00",
          "2024-06-04T00:00:00",
          "2024-06-05T00:00:00",
          "2024-06-06T00:00:00",
          "2024-06-07T00:00:00",
          "2024-06-08T00:00:00",
          "2024-06-09T00:00:00",
          "2024-06-10T00:00:00",
          "2024-06-11T00:00:00",
          "2024-06-12T00:00:00",
          "2024-06-13T00:00:00",
          "2024-06-14T00:00:00",
          "2024-06-15T00:00:00",
          "2024-06-16T00:00:00",
          "2024-06-17T00:00:00",
          "2024-06-18T00:00:00",
          "2024-06-19T00:00:00",
          "2024-06-20T00:00:00",
          "2024-06-21T00:00:00",
          "2024-06-22T00:00:00",
          "2024-06-23T00:00:00",
          "2024-06-24T00:00:00",
          "2024-06-25T00:00:00",
          "2024-06-26T00:00:00",
          "2024-06-27T00:00:00",
          "2024-06-28T00:00:00",
          "2024-06-29T00:00:00",
          "2024-06-30T00:00:00",
          "2024-07-01T00:00:00",
          "2024-07-02T00:00:00",
          "2024-07-03T00:00:00",
          "2024-07-04T00:00:00",
          "2024-07-05T00:00:00",
          "2024-07-06T00:00:00",
          "2024-07-07T00:00:00",
          "2024-07-08T00:00:00",
          "2024-07-09T00:00:00",
          "2024-07-10T00:00:00",
          "2024-07-11T00:00:00",
          "2024-07-12T00:00:00",
          "2024-07-13T00:00:00",
          "2024-07-14T00:00:00",
          "2024-07-15T00:00:00",
          "2024-07-16T00:00:00",
          "2024-07-17T00:00:00",
          "2024-07-18T00:00:00",
          "2024-07-19T00:00:00",
          "2024-07-20T00:00:00",
          "2024-07-21T00:00:00",
          "2024-07-22T00:00:00",
          "2024-07-23T00:00:00",
          "2024-07-24T00:00:00",
          "2024-07-25T00:00:00",
          "2024-07-26T00:00:00",
          "2024-07-27T00:00:00",
          "2024-07-28T00:00:00",
          "2024-07-29T00:00:00",
          "2024-07-30T00:00:00",
          "2024-07-31T00:00:00",
          "2024-08-01T00:00:00",
          "2024-08-02T00:00:00",
          "2024-08-03T00:00:00",
          "2024-08-04T00:00:00",
          "2024-08-05T00:00:00",
          "2024-08-06T00:00:00",
          "2024-08-07T00:00:00",
          "2024-08-08T00:00:00",
          "2024-08-09T00:00:00",
          "2024-08-10T00:00:00",
          "2024-08-11T00:00:00",
          "2024-08-12T00:00:00",
          "2024-08-13T00:00:00",
          "2024-08-14T00:00:00",
          "2024-08-15T00:00:00",
          "2024-08-16T00:00:00",
          "2024-08-17T00:00:00",
          "2024-08-18T00:00:00",
          "2024-08-19T00:00:00",
          "2024-08-20T00:00:00",
          "2024-08-21T00:00:00",
          "2024-08-22T00:00:00",
          "2024-08-23T00:00:00",
          "2024-08-24T00:00:00",
          "2024-08-25T00:00:00",
          "2024-08-26T00:00:00",
          "2024-08-27T00:00:00",
          "2024-08-28T00:00:00",
          "2024-08-29T00:00:00",
          "2024-08-30T00:00:00",
          "2024-08-31T00:00:00",
          "2024-09-01T00:00:00",
          "2024-09-02T00:00:00",
          "2024-09-03T00:00:00",
          "2024-09-04T00:00:00",
          "2024-09-05T00:00:00",
          "2024-09-06T00:00:00",
          "2024-09-07T00:00:00",
          "2024-09-08T00:00:00",
          "2024-09-09T00:00:00",
          "2024-09-10T00:00:00",
          "2024-09-11T00:00:00",
          "2024-09-12T00:00:00",
          "2024-09-13T00:00:00",
          "2024-09-14T00:00:00",
          "2024-09-15T00:00:00",
          "2024-09-16T00:00:00",
          "2024-09-17T00:00:00",
          "2024-09-18T00:00:00",
          "2024-09-19T00:00:00",
          "2024-09-20T00:00:00",
          "2024-09-21T00:00:00",
          "2024-09-22T00:00:00",
          "2024-09-23T00:00:00",
          "2024-09-24T00:00:00",
          "2024-09-25T00:00:00",
          "2024-09-26T00:00:00",
          "2024-09-27T00:00:00",
          "2024-09-28T00:00:00",
          "2024-09-29T00:00:00",
          "2024-09-30T00:00:00",
          "2024-10-01T00:00:00",
          "2024-10-02T00:00:00",
          "2024-10-03T00:00:00",
          "2024-10-04T00:00:00",
          "2024-10-05T00:00:00",
          "2024-10-06T00:00:00",
          "2024-10-07T00:00:00",
          "2024-10-08T00:00:00",
          "2024-10-09T00:00:00",
          "2024-10-10T00:00:00",
          "2024-10-11T00:00:00",
          "2024-10-12T00:00:00",
          "2024-10-13T00:00:00",
          "2024-10-14T00:00:00",
          "2024-10-15T00:00:00",
          "2024-10-16T00:00:00",
          "2024-10-17T00:00:00",
          "2024-10-18T00:00:00",
          "2024-10-19T00:00:00",
          "2024-10-20T00:00:00",
          "2024-10-21T00:00:00",
          "2024-10-22T00:00:00",
          "2024-10-23T00:00:00",
          "2024-10-24T00:00:00",
          "2024-10-25T00:00:00",
          "2024-10-26T00:00:00",
          "2024-10-27T00:00:00",
          "2024-10-28T00:00:00",
          "2024-10-29T00:00:00",
          "2024-10-30T00:00:00",
          "2024-10-31T00:00:00",
          "2024-11-01T00:00:00",
          "2024-11-02T00:00:00",
          "2024-11-03T00:00:00",
          "2024-11-04T00:00:00",
          "2024-11-05T00:00:00",
          "2024-11-06T00:00:00",
          "2024-11-07T00:00:00",
          "2024-11-08T00:00:00",
          "2024-11-09T00:00:00",
          "2024-11-10T00:00:00",
          "2024-11-11T00:00:00",
          "2024-11-12T00:00:00",
          "2024-11-13T00:00:00",
          "2024-11-14T00:00:00",
          "2024-11-15T00:00:00",
          "2024-11-16T00:00:00",
          "2024-11-17T00:00:00",
          "2024-11-18T00:00:00",
          "2024-11-19T00:00:00",
          "2024-11-20T00:00:00",
          "2024-11-21T00:00:00",
          "2024-11-22T00:00:00",
          "2024-11-23T00:00:00",
          "2024-11-24T00:00:00",
          "2024-11-25T00:00:00",
          "2024-11-26T00:00:00",
          "2024-11-27T00:00:00",
          "2024-11-28T00:00:00",
          "2024-11-29T00:00:00",
          "2024-11-30T00:00:00",
          "2024-12-01T00:00:00",
          "2024-12-02T00:00:00",
          "2024-12-03T00:00:00",
          "2024-12-04T00:00:00",
          "2024-12-05T00:00:00",
          "2024-12-06T00:00:00",
          "2024-12-07T00:00:00",
          "2024-12-08T00:00:00",
          "2024-12-09T00:00:00",
          "2024-12-10T00:00:00",
          "2024-12-11T00:00:00",
          "2024-12-12T00:00:00",
          "2024-12-13T00:00:00",
          "2024-12-14T00:00:00",
          "2024-12-15T00:00:00",
          "2024-12-16T00:00:00",
          "2024-12-17T00:00:00",
          "2024-12-18T00:00:00",
          "2024-12-19T00:00:00",
          "2024-12-20T00:00:00",
          "2024-12-21T00:00:00",
          "2024-12-22T00:00:00",
          "2024-12-23T00:00:00",
          "2024-12-24T00:00:00",
          "2024-12-25T00:00:00",
          "2024-12-26T00:00:00",
          "2024-12-27T00:00:00",
          "2024-12-28T00:00:00",
          "2024-12-29T00:00:00",
          "2024-12-30T00:00:00",
          "2024-12-31T00:00:00",
          "2025-01-01T00:00:00",
          "2025-01-02T00:00:00",
          "2025-01-03T00:00:00",
          "2025-01-04T00:00:00",
          "2025-01-05T00:00:00",
          "2025-01-06T00:00:00",
          "2025-01-07T00:00:00",
          "2025-01-08T00:00:00",
          "2025-01-09T00:00:00",
          "2025-01-10T00:00:00",
          "2025-01-11T00:00:00",
          "2025-01-12T00:00:00",
          "2025-01-13T00:00:00",
          "2025-01-14T00:00:00",
          "2025-01-15T00:00:00",
          "2025-01-16T00:00:00",
          "2025-01-17T00:00:00",
          "2025-01-18T00:00:00",
          "2025-01-19T00:00:00",
          "2025-01-20T00:00:00",
          "2025-01-21T00:00:00",
          "2025-01-22T00:00:00",
          "2025-01-23T00:00:00",
          "2025-01-24T00:00:00",
          "2025-01-25T00:00:00",
          "2025-01-26T00:00:00",
          "2025-01-27T00:00:00",
          "2025-01-28T00:00:00",
          "2025-01-29T00:00:00",
          "2025-01-30T00:00:00",
          "2025-01-31T00:00:00",
          "2025-02-01T00:00:00",
          "2025-02-02T00:00:00",
          "2025-02-03T00:00:00",
          "2025-02-04T00:00:00",
          "2025-02-05T00:00:00",
          "2025-02-06T00:00:00",
          "2025-02-07T00:00:00",
          "2025-02-08T00:00:00",
          "2025-02-09T00:00:00",
          "2025-02-10T00:00:00",
          "2025-02-11T00:00:00",
          "2025-02-12T00:00:00",
          "2025-02-13T00:00:00",
          "2025-02-14T00:00:00",
          "2025-02-15T00:00:00",
          "2025-02-16T00:00:00",
          "2025-02-17T00:00:00",
          "2025-02-18T00:00:00",
          "2025-02-19T00:00:00",
          "2025-02-20T00:00:00",
          "2025-02-21T00:00:00",
          "2025-02-22T00:00:00",
          "2025-02-23T00:00:00",
          "2025-02-24T00:00:00",
          "2025-02-25T00:00:00",
          "2025-02-26T00:00:00",
          "2025-02-27T00:00:00",
          "2025-02-28T00:00:00",
          "2025-03-01T00:00:00",
          "2025-03-02T00:00:00",
          "2025-03-03T00:00:00",
          "2025-03-04T00:00:00",
          "2025-03-05T00:00:00",
          "2025-03-06T00:00:00",
          "2025-03-07T00:00:00",
          "2025-03-08T00:00:00",
          "2025-03-09T00:00:00",
          "2025-03-10T00:00:00",
          "2025-03-11T00:00:00",
          "2025-03-12T00:00:00",
          "2025-03-13T00:00:00",
          "2025-03-14T00:00:00",
          "2025-03-15T00:00:00",
          "2025-03-16T00:00:00",
          "2025-03-17T00:00:00",
          "2025-03-18T00:00:00",
          "2025-03-19T00:00:00",
          "2025-03-20T00:00:00",
          "2025-03-21T00:00:00",
          "2025-03-22T00:00:00",
          "2025-03-23T00:00:00",
          "2025-03-24T00:00:00",
          "2025-03-25T00:00:00",
          "2025-03-26T00:00:00",
          "2025-03-27T00:00:00",
          "2025-03-28T00:00:00",
          "2025-03-29T00:00:00",
          "2025-03-30T00:00:00",
          "2025-03-31T00:00:00",
          "2025-04-01T00:00:00",
          "2025-04-02T00:00:00",
          "2025-04-03T00:00:00",
          "2025-04-04T00:00:00",
          "2025-04-05T00:00:00",
          "2025-04-06T00:00:00",
          "2025-04-07T00:00:00",
          "2025-04-08T00:00:00",
          "2025-04-09T00:00:00",
          "2025-04-10T00:00:00",
          "2025-04-11T00:00:00",
          "2025-04-12T00:00:00",
          "2025-04-13T00:00:00",
          "2025-04-14T00:00:00",
          "2025-04-15T00:00:00",
          "2025-04-16T00:00:00",
          "2025-04-17T00:00:00",
          "2025-04-18T00:00:00"
         ],
         "xaxis": "x",
         "y": [
          64931.76171875,
          64913.546875,
          63651.22265625,
          63376.18359375,
          62735.12890625,
          64362.80078125,
          58501.9453125,
          56005.5859375,
          52477.7265625,
          59375.015625,
          64248.12109375,
          64678.00390625,
          63520.45703125,
          62681.296875,
          61267.76953125,
          62501.984375,
          58068.8046875,
          57519.48828125,
          61044.94140625,
          61234.5625,
          61341.953125,
          63461.5234375,
          64113.9375,
          63236.765625,
          63608.765625,
          63960.7734375,
          63994.18359375,
          63845.30078125,
          63919.5390625,
          63300.8984375,
          63261.37890625,
          63949.34765625,
          63949.8984375,
          63175.5859375,
          63863.0625,
          63774.265625,
          65017.9609375,
          64392.66015625,
          64125.58984375,
          64024.7578125,
          64355.7734375,
          64278.62109375,
          64347.1640625,
          64027.921875,
          63715.359375,
          63330.671875,
          63269.05078125,
          63580.75390625,
          63388.796875,
          63560.74609375,
          63540.55859375,
          63927.88671875,
          63291.8671875,
          63225.42578125,
          63282.22265625,
          63284.65625,
          62873.7890625,
          63000.734375,
          62299.078125,
          62642.44921875,
          61777.125,
          56832.3984375,
          60162.375,
          59308.8359375,
          60286.140625,
          55752.73046875,
          58826.265625,
          59425.8046875,
          60373.7578125,
          60432.1015625,
          55803.66015625,
          52870.265625,
          49233.89453125,
          49558.09765625,
          48534.98046875,
          48661.10546875,
          49821.2578125,
          49138.7109375,
          49163.05078125,
          49333.76953125,
          49473.56640625,
          54036.796875,
          60698.09765625,
          60946.109375,
          61440.10546875,
          61530.49609375,
          61504.546875,
          62409.39453125,
          62503.2890625,
          62499.22265625,
          62513.328125,
          61611.82421875,
          61807.53515625,
          62262.6640625,
          62462.64453125,
          62522.55078125,
          62618.43359375,
          62215.1875,
          62304.65625,
          61081.9375,
          59734.4921875,
          55088.62109375,
          52345.3515625,
          46835.32421875,
          48268.5859375,
          47327.0078125,
          55994.11328125,
          54459.83203125,
          58036.76953125,
          52403.97265625,
          49729.71875,
          53661.859375,
          51665.40625,
          49817.9140625,
          49338.8046875,
          50151.63671875,
          51980.71484375,
          50169.96484375,
          51718.765625,
          55424.2421875,
          54020.859375,
          60553.2734375,
          60736.09375,
          61487.91796875,
          59341.609375,
          52631.1953125,
          52201.83203125,
          50729.01953125,
          52310.140625,
          51077.23828125,
          50910.15234375,
          50451.6640625,
          51682.03125,
          49879.34765625,
          48554.33203125,
          47464.5390625,
          47332.40234375,
          47642.05078125,
          49009.56640625,
          50010.38671875,
          49409.6484375,
          49606.58984375,
          51490.92578125,
          52904.78515625,
          52299.27734375,
          51922.00390625,
          51795.875,
          58378.89453125,
          59082.4140625,
          60511.79296875,
          60227.25390625,
          60403.2734375,
          60866.44921875,
          61783.88671875,
          60036.35546875,
          61481.35546875,
          61661.47265625,
          61023.22265625,
          61253.09765625,
          60115.40625,
          54724.6171875,
          55238.96484375,
          54933.08203125,
          59381.125,
          59252.8359375,
          59318.20703125,
          59172.21875,
          59255.6796875,
          55407.9140625,
          54615.703125,
          58858.5625,
          60119.16796875,
          59643.36328125,
          61588.5078125,
          62111.3359375,
          61957.30859375,
          62123.62890625,
          61984.33203125,
          62421.2890625,
          62455.41796875,
          62685.8671875,
          62324.3046875,
          61925.87890625,
          62405.515625,
          62327.9921875,
          62066.95703125,
          62433.53125,
          62108.00390625,
          62486.31640625,
          61866.83984375,
          62251.66796875,
          61568.80078125,
          62018.93359375,
          62503.30859375,
          63020.50390625,
          62808.4609375,
          62808.53125,
          63276.96875,
          63625.1015625,
          62806.05078125,
          62527.6875,
          62858.06640625,
          62431.65625,
          62169.875,
          62596.42578125,
          62928.37109375,
          61735.0234375,
          62567.23046875,
          62784.73828125,
          62926.14453125,
          63101.1875,
          63242.05078125,
          63012.41015625,
          62267.1640625,
          61912.3515625,
          62214.17578125,
          62428.875,
          62305.44921875,
          62274.57421875,
          62225.76171875,
          62174.60546875,
          62346.0625,
          62483.8828125,
          62523.0234375,
          62658.97265625,
          62573.50390625,
          62625.72265625,
          62491.515625,
          62670.19921875,
          62403.375,
          62656.56640625,
          62393.796875,
          62661.76953125,
          62720.1953125,
          62865.7421875,
          62946.05859375,
          63567.10546875,
          63553.87109375,
          63582.9765625,
          62924.46875,
          62733.3984375,
          62441.90625,
          61951.765625,
          62212.44921875,
          61908.265625,
          61944.43359375,
          62783.91796875,
          61916.3203125,
          62186.80859375,
          62200.86328125,
          62558.41796875,
          62392.5625,
          62757.48828125,
          62622.23828125,
          62587.75390625,
          62173.30859375,
          62486.14453125,
          62567.2109375,
          62607.765625,
          62585.16015625,
          62374.3671875,
          62788.265625,
          62760.25390625,
          63284.5625,
          62966.60546875,
          63101.34375,
          63104.95703125,
          63361.3984375,
          63210.53125,
          63065.0078125,
          62674.19140625,
          62641.26953125,
          62735.53515625,
          62667.35546875,
          62015.96484375,
          61987.59765625,
          61849.94921875,
          61772.125,
          61757.625,
          62167.49609375,
          61959.31640625,
          62148.3671875,
          61879.76953125,
          62232.2421875,
          62091.9453125,
          62017.8515625,
          61902.28515625,
          62222.66015625,
          62337.453125,
          62405.42578125,
          62143.62109375,
          62343.19140625,
          62335.875,
          61918.16015625,
          61949.546875,
          62185.73046875,
          62250.72265625,
          62154.04296875,
          62105.5703125,
          62047.09765625,
          62047.09765625,
          62016.30859375,
          61982.21484375,
          62024.55078125,
          62101.8359375,
          62079.42578125,
          62113.51953125,
          62137.88671875,
          62078.6484375,
          62078.6484375,
          62199.6796875,
          62111.03125,
          62165.75390625,
          62224.9921875,
          62224.9921875,
          62133.37109375,
          62133.37109375,
          62165.75390625,
          62109.00390625,
          62165.75390625,
          62074.91015625,
          62074.91015625,
          62074.91015625,
          62074.91015625,
          62074.91015625,
          62074.91015625,
          62074.91015625,
          62074.91015625,
          62074.91015625
         ],
         "yaxis": "y"
        }
       ],
       "layout": {
        "legend": {
         "title": {
          "text": "variable"
         },
         "tracegroupgap": 0
        },
        "margin": {
         "t": 60
        },
        "template": {
         "data": {
          "bar": [
           {
            "error_x": {
             "color": "#f2f5fa"
            },
            "error_y": {
             "color": "#f2f5fa"
            },
            "marker": {
             "line": {
              "color": "rgb(17,17,17)",
              "width": 0.5
             },
             "pattern": {
              "fillmode": "overlay",
              "size": 10,
              "solidity": 0.2
             }
            },
            "type": "bar"
           }
          ],
          "barpolar": [
           {
            "marker": {
             "line": {
              "color": "rgb(17,17,17)",
              "width": 0.5
             },
             "pattern": {
              "fillmode": "overlay",
              "size": 10,
              "solidity": 0.2
             }
            },
            "type": "barpolar"
           }
          ],
          "carpet": [
           {
            "aaxis": {
             "endlinecolor": "#A2B1C6",
             "gridcolor": "#506784",
             "linecolor": "#506784",
             "minorgridcolor": "#506784",
             "startlinecolor": "#A2B1C6"
            },
            "baxis": {
             "endlinecolor": "#A2B1C6",
             "gridcolor": "#506784",
             "linecolor": "#506784",
             "minorgridcolor": "#506784",
             "startlinecolor": "#A2B1C6"
            },
            "type": "carpet"
           }
          ],
          "choropleth": [
           {
            "colorbar": {
             "outlinewidth": 0,
             "ticks": ""
            },
            "type": "choropleth"
           }
          ],
          "contour": [
           {
            "colorbar": {
             "outlinewidth": 0,
             "ticks": ""
            },
            "colorscale": [
             [
              0,
              "#0d0887"
             ],
             [
              0.1111111111111111,
              "#46039f"
             ],
             [
              0.2222222222222222,
              "#7201a8"
             ],
             [
              0.3333333333333333,
              "#9c179e"
             ],
             [
              0.4444444444444444,
              "#bd3786"
             ],
             [
              0.5555555555555556,
              "#d8576b"
             ],
             [
              0.6666666666666666,
              "#ed7953"
             ],
             [
              0.7777777777777778,
              "#fb9f3a"
             ],
             [
              0.8888888888888888,
              "#fdca26"
             ],
             [
              1,
              "#f0f921"
             ]
            ],
            "type": "contour"
           }
          ],
          "contourcarpet": [
           {
            "colorbar": {
             "outlinewidth": 0,
             "ticks": ""
            },
            "type": "contourcarpet"
           }
          ],
          "heatmap": [
           {
            "colorbar": {
             "outlinewidth": 0,
             "ticks": ""
            },
            "colorscale": [
             [
              0,
              "#0d0887"
             ],
             [
              0.1111111111111111,
              "#46039f"
             ],
             [
              0.2222222222222222,
              "#7201a8"
             ],
             [
              0.3333333333333333,
              "#9c179e"
             ],
             [
              0.4444444444444444,
              "#bd3786"
             ],
             [
              0.5555555555555556,
              "#d8576b"
             ],
             [
              0.6666666666666666,
              "#ed7953"
             ],
             [
              0.7777777777777778,
              "#fb9f3a"
             ],
             [
              0.8888888888888888,
              "#fdca26"
             ],
             [
              1,
              "#f0f921"
             ]
            ],
            "type": "heatmap"
           }
          ],
          "heatmapgl": [
           {
            "colorbar": {
             "outlinewidth": 0,
             "ticks": ""
            },
            "colorscale": [
             [
              0,
              "#0d0887"
             ],
             [
              0.1111111111111111,
              "#46039f"
             ],
             [
              0.2222222222222222,
              "#7201a8"
             ],
             [
              0.3333333333333333,
              "#9c179e"
             ],
             [
              0.4444444444444444,
              "#bd3786"
             ],
             [
              0.5555555555555556,
              "#d8576b"
             ],
             [
              0.6666666666666666,
              "#ed7953"
             ],
             [
              0.7777777777777778,
              "#fb9f3a"
             ],
             [
              0.8888888888888888,
              "#fdca26"
             ],
             [
              1,
              "#f0f921"
             ]
            ],
            "type": "heatmapgl"
           }
          ],
          "histogram": [
           {
            "marker": {
             "pattern": {
              "fillmode": "overlay",
              "size": 10,
              "solidity": 0.2
             }
            },
            "type": "histogram"
           }
          ],
          "histogram2d": [
           {
            "colorbar": {
             "outlinewidth": 0,
             "ticks": ""
            },
            "colorscale": [
             [
              0,
              "#0d0887"
             ],
             [
              0.1111111111111111,
              "#46039f"
             ],
             [
              0.2222222222222222,
              "#7201a8"
             ],
             [
              0.3333333333333333,
              "#9c179e"
             ],
             [
              0.4444444444444444,
              "#bd3786"
             ],
             [
              0.5555555555555556,
              "#d8576b"
             ],
             [
              0.6666666666666666,
              "#ed7953"
             ],
             [
              0.7777777777777778,
              "#fb9f3a"
             ],
             [
              0.8888888888888888,
              "#fdca26"
             ],
             [
              1,
              "#f0f921"
             ]
            ],
            "type": "histogram2d"
           }
          ],
          "histogram2dcontour": [
           {
            "colorbar": {
             "outlinewidth": 0,
             "ticks": ""
            },
            "colorscale": [
             [
              0,
              "#0d0887"
             ],
             [
              0.1111111111111111,
              "#46039f"
             ],
             [
              0.2222222222222222,
              "#7201a8"
             ],
             [
              0.3333333333333333,
              "#9c179e"
             ],
             [
              0.4444444444444444,
              "#bd3786"
             ],
             [
              0.5555555555555556,
              "#d8576b"
             ],
             [
              0.6666666666666666,
              "#ed7953"
             ],
             [
              0.7777777777777778,
              "#fb9f3a"
             ],
             [
              0.8888888888888888,
              "#fdca26"
             ],
             [
              1,
              "#f0f921"
             ]
            ],
            "type": "histogram2dcontour"
           }
          ],
          "mesh3d": [
           {
            "colorbar": {
             "outlinewidth": 0,
             "ticks": ""
            },
            "type": "mesh3d"
           }
          ],
          "parcoords": [
           {
            "line": {
             "colorbar": {
              "outlinewidth": 0,
              "ticks": ""
             }
            },
            "type": "parcoords"
           }
          ],
          "pie": [
           {
            "automargin": true,
            "type": "pie"
           }
          ],
          "scatter": [
           {
            "marker": {
             "line": {
              "color": "#283442"
             }
            },
            "type": "scatter"
           }
          ],
          "scatter3d": [
           {
            "line": {
             "colorbar": {
              "outlinewidth": 0,
              "ticks": ""
             }
            },
            "marker": {
             "colorbar": {
              "outlinewidth": 0,
              "ticks": ""
             }
            },
            "type": "scatter3d"
           }
          ],
          "scattercarpet": [
           {
            "marker": {
             "colorbar": {
              "outlinewidth": 0,
              "ticks": ""
             }
            },
            "type": "scattercarpet"
           }
          ],
          "scattergeo": [
           {
            "marker": {
             "colorbar": {
              "outlinewidth": 0,
              "ticks": ""
             }
            },
            "type": "scattergeo"
           }
          ],
          "scattergl": [
           {
            "marker": {
             "line": {
              "color": "#283442"
             }
            },
            "type": "scattergl"
           }
          ],
          "scattermapbox": [
           {
            "marker": {
             "colorbar": {
              "outlinewidth": 0,
              "ticks": ""
             }
            },
            "type": "scattermapbox"
           }
          ],
          "scatterpolar": [
           {
            "marker": {
             "colorbar": {
              "outlinewidth": 0,
              "ticks": ""
             }
            },
            "type": "scatterpolar"
           }
          ],
          "scatterpolargl": [
           {
            "marker": {
             "colorbar": {
              "outlinewidth": 0,
              "ticks": ""
             }
            },
            "type": "scatterpolargl"
           }
          ],
          "scatterternary": [
           {
            "marker": {
             "colorbar": {
              "outlinewidth": 0,
              "ticks": ""
             }
            },
            "type": "scatterternary"
           }
          ],
          "surface": [
           {
            "colorbar": {
             "outlinewidth": 0,
             "ticks": ""
            },
            "colorscale": [
             [
              0,
              "#0d0887"
             ],
             [
              0.1111111111111111,
              "#46039f"
             ],
             [
              0.2222222222222222,
              "#7201a8"
             ],
             [
              0.3333333333333333,
              "#9c179e"
             ],
             [
              0.4444444444444444,
              "#bd3786"
             ],
             [
              0.5555555555555556,
              "#d8576b"
             ],
             [
              0.6666666666666666,
              "#ed7953"
             ],
             [
              0.7777777777777778,
              "#fb9f3a"
             ],
             [
              0.8888888888888888,
              "#fdca26"
             ],
             [
              1,
              "#f0f921"
             ]
            ],
            "type": "surface"
           }
          ],
          "table": [
           {
            "cells": {
             "fill": {
              "color": "#506784"
             },
             "line": {
              "color": "rgb(17,17,17)"
             }
            },
            "header": {
             "fill": {
              "color": "#2a3f5f"
             },
             "line": {
              "color": "rgb(17,17,17)"
             }
            },
            "type": "table"
           }
          ]
         },
         "layout": {
          "annotationdefaults": {
           "arrowcolor": "#f2f5fa",
           "arrowhead": 0,
           "arrowwidth": 1
          },
          "autotypenumbers": "strict",
          "coloraxis": {
           "colorbar": {
            "outlinewidth": 0,
            "ticks": ""
           }
          },
          "colorscale": {
           "diverging": [
            [
             0,
             "#8e0152"
            ],
            [
             0.1,
             "#c51b7d"
            ],
            [
             0.2,
             "#de77ae"
            ],
            [
             0.3,
             "#f1b6da"
            ],
            [
             0.4,
             "#fde0ef"
            ],
            [
             0.5,
             "#f7f7f7"
            ],
            [
             0.6,
             "#e6f5d0"
            ],
            [
             0.7,
             "#b8e186"
            ],
            [
             0.8,
             "#7fbc41"
            ],
            [
             0.9,
             "#4d9221"
            ],
            [
             1,
             "#276419"
            ]
           ],
           "sequential": [
            [
             0,
             "#0d0887"
            ],
            [
             0.1111111111111111,
             "#46039f"
            ],
            [
             0.2222222222222222,
             "#7201a8"
            ],
            [
             0.3333333333333333,
             "#9c179e"
            ],
            [
             0.4444444444444444,
             "#bd3786"
            ],
            [
             0.5555555555555556,
             "#d8576b"
            ],
            [
             0.6666666666666666,
             "#ed7953"
            ],
            [
             0.7777777777777778,
             "#fb9f3a"
            ],
            [
             0.8888888888888888,
             "#fdca26"
            ],
            [
             1,
             "#f0f921"
            ]
           ],
           "sequentialminus": [
            [
             0,
             "#0d0887"
            ],
            [
             0.1111111111111111,
             "#46039f"
            ],
            [
             0.2222222222222222,
             "#7201a8"
            ],
            [
             0.3333333333333333,
             "#9c179e"
            ],
            [
             0.4444444444444444,
             "#bd3786"
            ],
            [
             0.5555555555555556,
             "#d8576b"
            ],
            [
             0.6666666666666666,
             "#ed7953"
            ],
            [
             0.7777777777777778,
             "#fb9f3a"
            ],
            [
             0.8888888888888888,
             "#fdca26"
            ],
            [
             1,
             "#f0f921"
            ]
           ]
          },
          "colorway": [
           "#636efa",
           "#EF553B",
           "#00cc96",
           "#ab63fa",
           "#FFA15A",
           "#19d3f3",
           "#FF6692",
           "#B6E880",
           "#FF97FF",
           "#FECB52"
          ],
          "font": {
           "color": "#f2f5fa"
          },
          "geo": {
           "bgcolor": "rgb(17,17,17)",
           "lakecolor": "rgb(17,17,17)",
           "landcolor": "rgb(17,17,17)",
           "showlakes": true,
           "showland": true,
           "subunitcolor": "#506784"
          },
          "hoverlabel": {
           "align": "left"
          },
          "hovermode": "closest",
          "mapbox": {
           "style": "dark"
          },
          "paper_bgcolor": "rgb(17,17,17)",
          "plot_bgcolor": "rgb(17,17,17)",
          "polar": {
           "angularaxis": {
            "gridcolor": "#506784",
            "linecolor": "#506784",
            "ticks": ""
           },
           "bgcolor": "rgb(17,17,17)",
           "radialaxis": {
            "gridcolor": "#506784",
            "linecolor": "#506784",
            "ticks": ""
           }
          },
          "scene": {
           "xaxis": {
            "backgroundcolor": "rgb(17,17,17)",
            "gridcolor": "#506784",
            "gridwidth": 2,
            "linecolor": "#506784",
            "showbackground": true,
            "ticks": "",
            "zerolinecolor": "#C8D4E3"
           },
           "yaxis": {
            "backgroundcolor": "rgb(17,17,17)",
            "gridcolor": "#506784",
            "gridwidth": 2,
            "linecolor": "#506784",
            "showbackground": true,
            "ticks": "",
            "zerolinecolor": "#C8D4E3"
           },
           "zaxis": {
            "backgroundcolor": "rgb(17,17,17)",
            "gridcolor": "#506784",
            "gridwidth": 2,
            "linecolor": "#506784",
            "showbackground": true,
            "ticks": "",
            "zerolinecolor": "#C8D4E3"
           }
          },
          "shapedefaults": {
           "line": {
            "color": "#f2f5fa"
           }
          },
          "sliderdefaults": {
           "bgcolor": "#C8D4E3",
           "bordercolor": "rgb(17,17,17)",
           "borderwidth": 1,
           "tickwidth": 0
          },
          "ternary": {
           "aaxis": {
            "gridcolor": "#506784",
            "linecolor": "#506784",
            "ticks": ""
           },
           "baxis": {
            "gridcolor": "#506784",
            "linecolor": "#506784",
            "ticks": ""
           },
           "bgcolor": "rgb(17,17,17)",
           "caxis": {
            "gridcolor": "#506784",
            "linecolor": "#506784",
            "ticks": ""
           }
          },
          "title": {
           "x": 0.05
          },
          "updatemenudefaults": {
           "bgcolor": "#506784",
           "borderwidth": 0
          },
          "xaxis": {
           "automargin": true,
           "gridcolor": "#283442",
           "linecolor": "#506784",
           "ticks": "",
           "title": {
            "standoff": 15
           },
           "zerolinecolor": "#283442",
           "zerolinewidth": 2
          },
          "yaxis": {
           "automargin": true,
           "gridcolor": "#283442",
           "linecolor": "#506784",
           "ticks": "",
           "title": {
            "standoff": 15
           },
           "zerolinecolor": "#283442",
           "zerolinewidth": 2
          }
         }
        },
        "xaxis": {
         "anchor": "y",
         "domain": [
          0,
          1
         ],
         "title": {
          "text": "x"
         }
        },
        "yaxis": {
         "anchor": "x",
         "domain": [
          0,
          1
         ],
         "title": {
          "text": "close price $"
         }
        }
       }
      }
     },
     "metadata": {},
     "output_type": "display_data"
    }
   ],
   "source": [
    "# wrap tuned model with MultiOutputRegressor to predict multiple steps at once\n",
    "y_pred = multi_step_xgb.predict(X_test)\n",
    "# evaluate model\n",
    "from sklearn.metrics import mean_absolute_error, mean_squared_error, r2_score, root_mean_squared_error\n",
    "\n",
    "# this gives aggregate metrics across all test sequences and all prediction days\n",
    "print(f\"multi step model MAE: {mean_absolute_error(y_true= y_test[:,0], y_pred=y_pred[:, 0]):.2f}\")\n",
    "print(f\"multi step model MSE: {mean_squared_error(y_true= y_test[:,0], y_pred=y_pred[:, 0]):.2f}\")\n",
    "print(f\"multi step model R2: {r2_score(y_true= y_test[:,0], y_pred=y_pred[:, 0]):.2f}\")\n",
    "\n",
    "# eval_df = btc_5y_close_df_30_lag.loc[btc_5y_close_df_30_lag.index[-30:], ['close']]\n",
    "\n",
    "# get the first day prediction for every sample\n",
    "eval_df = pd.DataFrame()\n",
    "eval_df['close'] = y_test[:,0]\n",
    "eval_df['predictions'] = y_pred[:, 0]\n",
    "\n",
    "eval_index = btc_5y_close_df_30_lag.index[-y_pred.shape[0]:]\n",
    "\n",
    "fig = px.line(eval_df, x=eval_index, y=['close', 'predictions'], template='plotly_dark', labels={\"value\": \"close price $\"})\n",
    "fig.show()\n"
   ]
  },
  {
   "cell_type": "markdown",
   "id": "67802c57",
   "metadata": {},
   "source": [
    "# finalise the multi-step regressor"
   ]
  },
  {
   "cell_type": "code",
   "execution_count": 162,
   "id": "7dade321",
   "metadata": {},
   "outputs": [],
   "source": [
    "final_multi_xgb = multi_step_xgb.fit(X_test, y_test)"
   ]
  },
  {
   "cell_type": "code",
   "execution_count": 163,
   "id": "d222c18a",
   "metadata": {},
   "outputs": [
    {
     "name": "stdout",
     "output_type": "stream",
     "text": [
      "| timestamp           |   forecast |\n",
      "|:--------------------|-----------:|\n",
      "| 2025-04-19 00:00:00 |    84748.4 |\n",
      "| 2025-04-20 00:00:00 |    85020.4 |\n",
      "| 2025-04-21 00:00:00 |    83955   |\n",
      "| 2025-04-22 00:00:00 |    84514.9 |\n",
      "| 2025-04-23 00:00:00 |    84819.1 |\n"
     ]
    }
   ],
   "source": [
    "# forecast - use most recent 30 day window, generate predictions for next 30 days\n",
    "def forecast(data: pd.DataFrame, model: MultiOutputRegressor, window=120, horizon=30) -> pd.DataFrame:\n",
    "    \"\"\"\n",
    "    Remember, in this case we are predicting one multi-step interval, which requires\n",
    "    one input sample.\n",
    "    Therefore, we take the latest window of data (matching how the model was trained).\n",
    "    Then, flatten these values to achieve a 1D array.\n",
    "    Because scikit models require a 2d array (n_samples, n_features), we reshape.\n",
    "    (1,-1) whcih means one row, automatically determine the column dimension aka features\n",
    "    \n",
    "    n.b there is an interdepenency with the create_sequences function, if the window\n",
    "    or horizon is changed, the data sequences will also need to match this pattern.\n",
    "    \"\"\"\n",
    "    latest_window = data[-window:].drop(\"close\", axis=1).values.flatten().reshape(1,-1)\n",
    "    forecast = model.predict(latest_window)[0] \n",
    "    last_date = data.index[-1]\n",
    "    forecast_dates = pd.date_range(last_date + pd.Timedelta(days=1), periods=horizon)\n",
    "    \n",
    "    # create forecast df\n",
    "    forecast_df = pd.DataFrame(\n",
    "        {\n",
    "            'timestamp': forecast_dates,\n",
    "            'forecast': forecast\n",
    "        }\n",
    "    ).set_index('timestamp', drop=True)\n",
    "    \n",
    "    return forecast_df\n",
    "# test\n",
    "forecasts = forecast(btc_5y_close_df_30_lag, final_multi_xgb)\n",
    "\n",
    "print(forecasts.head().to_markdown())"
   ]
  },
  {
   "cell_type": "code",
   "execution_count": 164,
   "id": "40765698",
   "metadata": {},
   "outputs": [
    {
     "data": {
      "application/vnd.plotly.v1+json": {
       "config": {
        "plotlyServerURL": "https://plot.ly"
       },
       "data": [
        {
         "hovertemplate": "variable=close<br>timestamp=%{x}<br>close price $=%{y}<extra></extra>",
         "legendgroup": "close",
         "line": {
          "color": "#636efa",
          "dash": "solid"
         },
         "marker": {
          "symbol": "circle"
         },
         "mode": "lines",
         "name": "close",
         "orientation": "v",
         "showlegend": true,
         "type": "scatter",
         "x": [
          "2025-02-18T00:00:00",
          "2025-02-19T00:00:00",
          "2025-02-20T00:00:00",
          "2025-02-21T00:00:00",
          "2025-02-22T00:00:00",
          "2025-02-23T00:00:00",
          "2025-02-24T00:00:00",
          "2025-02-25T00:00:00",
          "2025-02-26T00:00:00",
          "2025-02-27T00:00:00",
          "2025-02-28T00:00:00",
          "2025-03-01T00:00:00",
          "2025-03-02T00:00:00",
          "2025-03-03T00:00:00",
          "2025-03-04T00:00:00",
          "2025-03-05T00:00:00",
          "2025-03-06T00:00:00",
          "2025-03-07T00:00:00",
          "2025-03-08T00:00:00",
          "2025-03-09T00:00:00",
          "2025-03-10T00:00:00",
          "2025-03-11T00:00:00",
          "2025-03-12T00:00:00",
          "2025-03-13T00:00:00",
          "2025-03-14T00:00:00",
          "2025-03-15T00:00:00",
          "2025-03-16T00:00:00",
          "2025-03-17T00:00:00",
          "2025-03-18T00:00:00",
          "2025-03-19T00:00:00",
          "2025-03-20T00:00:00",
          "2025-03-21T00:00:00",
          "2025-03-22T00:00:00",
          "2025-03-23T00:00:00",
          "2025-03-24T00:00:00",
          "2025-03-25T00:00:00",
          "2025-03-26T00:00:00",
          "2025-03-27T00:00:00",
          "2025-03-28T00:00:00",
          "2025-03-29T00:00:00",
          "2025-03-30T00:00:00",
          "2025-03-31T00:00:00",
          "2025-04-01T00:00:00",
          "2025-04-02T00:00:00",
          "2025-04-03T00:00:00",
          "2025-04-04T00:00:00",
          "2025-04-05T00:00:00",
          "2025-04-06T00:00:00",
          "2025-04-07T00:00:00",
          "2025-04-08T00:00:00",
          "2025-04-09T00:00:00",
          "2025-04-10T00:00:00",
          "2025-04-11T00:00:00",
          "2025-04-12T00:00:00",
          "2025-04-13T00:00:00",
          "2025-04-14T00:00:00",
          "2025-04-15T00:00:00",
          "2025-04-16T00:00:00",
          "2025-04-17T00:00:00",
          "2025-04-18T00:00:00",
          "2025-04-19T00:00:00",
          "2025-04-20T00:00:00",
          "2025-04-21T00:00:00",
          "2025-04-22T00:00:00",
          "2025-04-23T00:00:00",
          "2025-04-24T00:00:00",
          "2025-04-25T00:00:00",
          "2025-04-26T00:00:00",
          "2025-04-27T00:00:00",
          "2025-04-28T00:00:00",
          "2025-04-29T00:00:00",
          "2025-04-30T00:00:00",
          "2025-05-01T00:00:00",
          "2025-05-02T00:00:00",
          "2025-05-03T00:00:00",
          "2025-05-04T00:00:00",
          "2025-05-05T00:00:00",
          "2025-05-06T00:00:00",
          "2025-05-07T00:00:00",
          "2025-05-08T00:00:00",
          "2025-05-09T00:00:00",
          "2025-05-10T00:00:00",
          "2025-05-11T00:00:00",
          "2025-05-12T00:00:00",
          "2025-05-13T00:00:00",
          "2025-05-14T00:00:00",
          "2025-05-15T00:00:00",
          "2025-05-16T00:00:00",
          "2025-05-17T00:00:00",
          "2025-05-18T00:00:00"
         ],
         "xaxis": "x",
         "y": [
          95671.74,
          96644.37,
          98305,
          96181.98,
          96551.01,
          96258,
          91552.88,
          88680.4,
          84250.09,
          84708.58,
          84349.94,
          86064.53,
          94270,
          86220.61,
          87281.98,
          90606.01,
          89931.89,
          86801.75,
          86222.45,
          80734.37,
          78595.86,
          82932.99,
          83680.12,
          81115.78,
          83983.2,
          84338.44,
          82574.53,
          84010.03,
          82715.03,
          86845.94,
          84223.39,
          84088.79,
          83840.59,
          86082.5,
          87498.16,
          87392.87,
          86909.17,
          87232.01,
          84424.38,
          82648.54,
          82389.99,
          82550.01,
          85158.34,
          82516.29,
          83213.09,
          83889.87,
          83537.99,
          78430,
          79163.24,
          76322.42,
          82615.22,
          79607.3,
          83423.84,
          85276.9,
          83760,
          84591.58,
          83643.99,
          84030.38,
          84947.91,
          84586.32,
          null,
          null,
          null,
          null,
          null,
          null,
          null,
          null,
          null,
          null,
          null,
          null,
          null,
          null,
          null,
          null,
          null,
          null,
          null,
          null,
          null,
          null,
          null,
          null,
          null,
          null,
          null,
          null,
          null,
          null
         ],
         "yaxis": "y"
        },
        {
         "hovertemplate": "variable=forecast<br>timestamp=%{x}<br>close price $=%{y}<extra></extra>",
         "legendgroup": "forecast",
         "line": {
          "color": "#EF553B",
          "dash": "solid"
         },
         "marker": {
          "symbol": "circle"
         },
         "mode": "lines",
         "name": "forecast",
         "orientation": "v",
         "showlegend": true,
         "type": "scatter",
         "x": [
          "2025-02-18T00:00:00",
          "2025-02-19T00:00:00",
          "2025-02-20T00:00:00",
          "2025-02-21T00:00:00",
          "2025-02-22T00:00:00",
          "2025-02-23T00:00:00",
          "2025-02-24T00:00:00",
          "2025-02-25T00:00:00",
          "2025-02-26T00:00:00",
          "2025-02-27T00:00:00",
          "2025-02-28T00:00:00",
          "2025-03-01T00:00:00",
          "2025-03-02T00:00:00",
          "2025-03-03T00:00:00",
          "2025-03-04T00:00:00",
          "2025-03-05T00:00:00",
          "2025-03-06T00:00:00",
          "2025-03-07T00:00:00",
          "2025-03-08T00:00:00",
          "2025-03-09T00:00:00",
          "2025-03-10T00:00:00",
          "2025-03-11T00:00:00",
          "2025-03-12T00:00:00",
          "2025-03-13T00:00:00",
          "2025-03-14T00:00:00",
          "2025-03-15T00:00:00",
          "2025-03-16T00:00:00",
          "2025-03-17T00:00:00",
          "2025-03-18T00:00:00",
          "2025-03-19T00:00:00",
          "2025-03-20T00:00:00",
          "2025-03-21T00:00:00",
          "2025-03-22T00:00:00",
          "2025-03-23T00:00:00",
          "2025-03-24T00:00:00",
          "2025-03-25T00:00:00",
          "2025-03-26T00:00:00",
          "2025-03-27T00:00:00",
          "2025-03-28T00:00:00",
          "2025-03-29T00:00:00",
          "2025-03-30T00:00:00",
          "2025-03-31T00:00:00",
          "2025-04-01T00:00:00",
          "2025-04-02T00:00:00",
          "2025-04-03T00:00:00",
          "2025-04-04T00:00:00",
          "2025-04-05T00:00:00",
          "2025-04-06T00:00:00",
          "2025-04-07T00:00:00",
          "2025-04-08T00:00:00",
          "2025-04-09T00:00:00",
          "2025-04-10T00:00:00",
          "2025-04-11T00:00:00",
          "2025-04-12T00:00:00",
          "2025-04-13T00:00:00",
          "2025-04-14T00:00:00",
          "2025-04-15T00:00:00",
          "2025-04-16T00:00:00",
          "2025-04-17T00:00:00",
          "2025-04-18T00:00:00",
          "2025-04-19T00:00:00",
          "2025-04-20T00:00:00",
          "2025-04-21T00:00:00",
          "2025-04-22T00:00:00",
          "2025-04-23T00:00:00",
          "2025-04-24T00:00:00",
          "2025-04-25T00:00:00",
          "2025-04-26T00:00:00",
          "2025-04-27T00:00:00",
          "2025-04-28T00:00:00",
          "2025-04-29T00:00:00",
          "2025-04-30T00:00:00",
          "2025-05-01T00:00:00",
          "2025-05-02T00:00:00",
          "2025-05-03T00:00:00",
          "2025-05-04T00:00:00",
          "2025-05-05T00:00:00",
          "2025-05-06T00:00:00",
          "2025-05-07T00:00:00",
          "2025-05-08T00:00:00",
          "2025-05-09T00:00:00",
          "2025-05-10T00:00:00",
          "2025-05-11T00:00:00",
          "2025-05-12T00:00:00",
          "2025-05-13T00:00:00",
          "2025-05-14T00:00:00",
          "2025-05-15T00:00:00",
          "2025-05-16T00:00:00",
          "2025-05-17T00:00:00",
          "2025-05-18T00:00:00"
         ],
         "xaxis": "x",
         "y": [
          null,
          null,
          null,
          null,
          null,
          null,
          null,
          null,
          null,
          null,
          null,
          null,
          null,
          null,
          null,
          null,
          null,
          null,
          null,
          null,
          null,
          null,
          null,
          null,
          null,
          null,
          null,
          null,
          null,
          null,
          null,
          null,
          null,
          null,
          null,
          null,
          null,
          null,
          null,
          null,
          null,
          null,
          null,
          null,
          null,
          null,
          null,
          null,
          null,
          null,
          null,
          null,
          null,
          null,
          null,
          null,
          null,
          null,
          null,
          null,
          84748.3828125,
          85020.3671875,
          83954.984375,
          84514.8515625,
          84819.1015625,
          84994.1875,
          84769.6328125,
          85275.28125,
          83287.0390625,
          84251.5234375,
          83377.484375,
          83912.78125,
          84036.0859375,
          83071.2734375,
          84270.65625,
          83101.828125,
          82957.8984375,
          81287.984375,
          81624.7421875,
          80363.90625,
          79760.9375,
          79764.1953125,
          80848.0390625,
          80419.640625,
          79546.421875,
          80746.703125,
          80524.40625,
          79800.2578125,
          80250.75,
          80817.265625
         ],
         "yaxis": "y"
        }
       ],
       "layout": {
        "legend": {
         "title": {
          "text": "variable"
         },
         "tracegroupgap": 0
        },
        "margin": {
         "t": 60
        },
        "shapes": [
         {
          "type": "line",
          "x0": "2025-04-18T00:00:00",
          "x1": "2025-04-18T00:00:00",
          "xref": "x",
          "y0": 0,
          "y1": 1,
          "yref": "y domain"
         }
        ],
        "template": {
         "data": {
          "bar": [
           {
            "error_x": {
             "color": "#f2f5fa"
            },
            "error_y": {
             "color": "#f2f5fa"
            },
            "marker": {
             "line": {
              "color": "rgb(17,17,17)",
              "width": 0.5
             },
             "pattern": {
              "fillmode": "overlay",
              "size": 10,
              "solidity": 0.2
             }
            },
            "type": "bar"
           }
          ],
          "barpolar": [
           {
            "marker": {
             "line": {
              "color": "rgb(17,17,17)",
              "width": 0.5
             },
             "pattern": {
              "fillmode": "overlay",
              "size": 10,
              "solidity": 0.2
             }
            },
            "type": "barpolar"
           }
          ],
          "carpet": [
           {
            "aaxis": {
             "endlinecolor": "#A2B1C6",
             "gridcolor": "#506784",
             "linecolor": "#506784",
             "minorgridcolor": "#506784",
             "startlinecolor": "#A2B1C6"
            },
            "baxis": {
             "endlinecolor": "#A2B1C6",
             "gridcolor": "#506784",
             "linecolor": "#506784",
             "minorgridcolor": "#506784",
             "startlinecolor": "#A2B1C6"
            },
            "type": "carpet"
           }
          ],
          "choropleth": [
           {
            "colorbar": {
             "outlinewidth": 0,
             "ticks": ""
            },
            "type": "choropleth"
           }
          ],
          "contour": [
           {
            "colorbar": {
             "outlinewidth": 0,
             "ticks": ""
            },
            "colorscale": [
             [
              0,
              "#0d0887"
             ],
             [
              0.1111111111111111,
              "#46039f"
             ],
             [
              0.2222222222222222,
              "#7201a8"
             ],
             [
              0.3333333333333333,
              "#9c179e"
             ],
             [
              0.4444444444444444,
              "#bd3786"
             ],
             [
              0.5555555555555556,
              "#d8576b"
             ],
             [
              0.6666666666666666,
              "#ed7953"
             ],
             [
              0.7777777777777778,
              "#fb9f3a"
             ],
             [
              0.8888888888888888,
              "#fdca26"
             ],
             [
              1,
              "#f0f921"
             ]
            ],
            "type": "contour"
           }
          ],
          "contourcarpet": [
           {
            "colorbar": {
             "outlinewidth": 0,
             "ticks": ""
            },
            "type": "contourcarpet"
           }
          ],
          "heatmap": [
           {
            "colorbar": {
             "outlinewidth": 0,
             "ticks": ""
            },
            "colorscale": [
             [
              0,
              "#0d0887"
             ],
             [
              0.1111111111111111,
              "#46039f"
             ],
             [
              0.2222222222222222,
              "#7201a8"
             ],
             [
              0.3333333333333333,
              "#9c179e"
             ],
             [
              0.4444444444444444,
              "#bd3786"
             ],
             [
              0.5555555555555556,
              "#d8576b"
             ],
             [
              0.6666666666666666,
              "#ed7953"
             ],
             [
              0.7777777777777778,
              "#fb9f3a"
             ],
             [
              0.8888888888888888,
              "#fdca26"
             ],
             [
              1,
              "#f0f921"
             ]
            ],
            "type": "heatmap"
           }
          ],
          "heatmapgl": [
           {
            "colorbar": {
             "outlinewidth": 0,
             "ticks": ""
            },
            "colorscale": [
             [
              0,
              "#0d0887"
             ],
             [
              0.1111111111111111,
              "#46039f"
             ],
             [
              0.2222222222222222,
              "#7201a8"
             ],
             [
              0.3333333333333333,
              "#9c179e"
             ],
             [
              0.4444444444444444,
              "#bd3786"
             ],
             [
              0.5555555555555556,
              "#d8576b"
             ],
             [
              0.6666666666666666,
              "#ed7953"
             ],
             [
              0.7777777777777778,
              "#fb9f3a"
             ],
             [
              0.8888888888888888,
              "#fdca26"
             ],
             [
              1,
              "#f0f921"
             ]
            ],
            "type": "heatmapgl"
           }
          ],
          "histogram": [
           {
            "marker": {
             "pattern": {
              "fillmode": "overlay",
              "size": 10,
              "solidity": 0.2
             }
            },
            "type": "histogram"
           }
          ],
          "histogram2d": [
           {
            "colorbar": {
             "outlinewidth": 0,
             "ticks": ""
            },
            "colorscale": [
             [
              0,
              "#0d0887"
             ],
             [
              0.1111111111111111,
              "#46039f"
             ],
             [
              0.2222222222222222,
              "#7201a8"
             ],
             [
              0.3333333333333333,
              "#9c179e"
             ],
             [
              0.4444444444444444,
              "#bd3786"
             ],
             [
              0.5555555555555556,
              "#d8576b"
             ],
             [
              0.6666666666666666,
              "#ed7953"
             ],
             [
              0.7777777777777778,
              "#fb9f3a"
             ],
             [
              0.8888888888888888,
              "#fdca26"
             ],
             [
              1,
              "#f0f921"
             ]
            ],
            "type": "histogram2d"
           }
          ],
          "histogram2dcontour": [
           {
            "colorbar": {
             "outlinewidth": 0,
             "ticks": ""
            },
            "colorscale": [
             [
              0,
              "#0d0887"
             ],
             [
              0.1111111111111111,
              "#46039f"
             ],
             [
              0.2222222222222222,
              "#7201a8"
             ],
             [
              0.3333333333333333,
              "#9c179e"
             ],
             [
              0.4444444444444444,
              "#bd3786"
             ],
             [
              0.5555555555555556,
              "#d8576b"
             ],
             [
              0.6666666666666666,
              "#ed7953"
             ],
             [
              0.7777777777777778,
              "#fb9f3a"
             ],
             [
              0.8888888888888888,
              "#fdca26"
             ],
             [
              1,
              "#f0f921"
             ]
            ],
            "type": "histogram2dcontour"
           }
          ],
          "mesh3d": [
           {
            "colorbar": {
             "outlinewidth": 0,
             "ticks": ""
            },
            "type": "mesh3d"
           }
          ],
          "parcoords": [
           {
            "line": {
             "colorbar": {
              "outlinewidth": 0,
              "ticks": ""
             }
            },
            "type": "parcoords"
           }
          ],
          "pie": [
           {
            "automargin": true,
            "type": "pie"
           }
          ],
          "scatter": [
           {
            "marker": {
             "line": {
              "color": "#283442"
             }
            },
            "type": "scatter"
           }
          ],
          "scatter3d": [
           {
            "line": {
             "colorbar": {
              "outlinewidth": 0,
              "ticks": ""
             }
            },
            "marker": {
             "colorbar": {
              "outlinewidth": 0,
              "ticks": ""
             }
            },
            "type": "scatter3d"
           }
          ],
          "scattercarpet": [
           {
            "marker": {
             "colorbar": {
              "outlinewidth": 0,
              "ticks": ""
             }
            },
            "type": "scattercarpet"
           }
          ],
          "scattergeo": [
           {
            "marker": {
             "colorbar": {
              "outlinewidth": 0,
              "ticks": ""
             }
            },
            "type": "scattergeo"
           }
          ],
          "scattergl": [
           {
            "marker": {
             "line": {
              "color": "#283442"
             }
            },
            "type": "scattergl"
           }
          ],
          "scattermapbox": [
           {
            "marker": {
             "colorbar": {
              "outlinewidth": 0,
              "ticks": ""
             }
            },
            "type": "scattermapbox"
           }
          ],
          "scatterpolar": [
           {
            "marker": {
             "colorbar": {
              "outlinewidth": 0,
              "ticks": ""
             }
            },
            "type": "scatterpolar"
           }
          ],
          "scatterpolargl": [
           {
            "marker": {
             "colorbar": {
              "outlinewidth": 0,
              "ticks": ""
             }
            },
            "type": "scatterpolargl"
           }
          ],
          "scatterternary": [
           {
            "marker": {
             "colorbar": {
              "outlinewidth": 0,
              "ticks": ""
             }
            },
            "type": "scatterternary"
           }
          ],
          "surface": [
           {
            "colorbar": {
             "outlinewidth": 0,
             "ticks": ""
            },
            "colorscale": [
             [
              0,
              "#0d0887"
             ],
             [
              0.1111111111111111,
              "#46039f"
             ],
             [
              0.2222222222222222,
              "#7201a8"
             ],
             [
              0.3333333333333333,
              "#9c179e"
             ],
             [
              0.4444444444444444,
              "#bd3786"
             ],
             [
              0.5555555555555556,
              "#d8576b"
             ],
             [
              0.6666666666666666,
              "#ed7953"
             ],
             [
              0.7777777777777778,
              "#fb9f3a"
             ],
             [
              0.8888888888888888,
              "#fdca26"
             ],
             [
              1,
              "#f0f921"
             ]
            ],
            "type": "surface"
           }
          ],
          "table": [
           {
            "cells": {
             "fill": {
              "color": "#506784"
             },
             "line": {
              "color": "rgb(17,17,17)"
             }
            },
            "header": {
             "fill": {
              "color": "#2a3f5f"
             },
             "line": {
              "color": "rgb(17,17,17)"
             }
            },
            "type": "table"
           }
          ]
         },
         "layout": {
          "annotationdefaults": {
           "arrowcolor": "#f2f5fa",
           "arrowhead": 0,
           "arrowwidth": 1
          },
          "autotypenumbers": "strict",
          "coloraxis": {
           "colorbar": {
            "outlinewidth": 0,
            "ticks": ""
           }
          },
          "colorscale": {
           "diverging": [
            [
             0,
             "#8e0152"
            ],
            [
             0.1,
             "#c51b7d"
            ],
            [
             0.2,
             "#de77ae"
            ],
            [
             0.3,
             "#f1b6da"
            ],
            [
             0.4,
             "#fde0ef"
            ],
            [
             0.5,
             "#f7f7f7"
            ],
            [
             0.6,
             "#e6f5d0"
            ],
            [
             0.7,
             "#b8e186"
            ],
            [
             0.8,
             "#7fbc41"
            ],
            [
             0.9,
             "#4d9221"
            ],
            [
             1,
             "#276419"
            ]
           ],
           "sequential": [
            [
             0,
             "#0d0887"
            ],
            [
             0.1111111111111111,
             "#46039f"
            ],
            [
             0.2222222222222222,
             "#7201a8"
            ],
            [
             0.3333333333333333,
             "#9c179e"
            ],
            [
             0.4444444444444444,
             "#bd3786"
            ],
            [
             0.5555555555555556,
             "#d8576b"
            ],
            [
             0.6666666666666666,
             "#ed7953"
            ],
            [
             0.7777777777777778,
             "#fb9f3a"
            ],
            [
             0.8888888888888888,
             "#fdca26"
            ],
            [
             1,
             "#f0f921"
            ]
           ],
           "sequentialminus": [
            [
             0,
             "#0d0887"
            ],
            [
             0.1111111111111111,
             "#46039f"
            ],
            [
             0.2222222222222222,
             "#7201a8"
            ],
            [
             0.3333333333333333,
             "#9c179e"
            ],
            [
             0.4444444444444444,
             "#bd3786"
            ],
            [
             0.5555555555555556,
             "#d8576b"
            ],
            [
             0.6666666666666666,
             "#ed7953"
            ],
            [
             0.7777777777777778,
             "#fb9f3a"
            ],
            [
             0.8888888888888888,
             "#fdca26"
            ],
            [
             1,
             "#f0f921"
            ]
           ]
          },
          "colorway": [
           "#636efa",
           "#EF553B",
           "#00cc96",
           "#ab63fa",
           "#FFA15A",
           "#19d3f3",
           "#FF6692",
           "#B6E880",
           "#FF97FF",
           "#FECB52"
          ],
          "font": {
           "color": "#f2f5fa"
          },
          "geo": {
           "bgcolor": "rgb(17,17,17)",
           "lakecolor": "rgb(17,17,17)",
           "landcolor": "rgb(17,17,17)",
           "showlakes": true,
           "showland": true,
           "subunitcolor": "#506784"
          },
          "hoverlabel": {
           "align": "left"
          },
          "hovermode": "closest",
          "mapbox": {
           "style": "dark"
          },
          "paper_bgcolor": "rgb(17,17,17)",
          "plot_bgcolor": "rgb(17,17,17)",
          "polar": {
           "angularaxis": {
            "gridcolor": "#506784",
            "linecolor": "#506784",
            "ticks": ""
           },
           "bgcolor": "rgb(17,17,17)",
           "radialaxis": {
            "gridcolor": "#506784",
            "linecolor": "#506784",
            "ticks": ""
           }
          },
          "scene": {
           "xaxis": {
            "backgroundcolor": "rgb(17,17,17)",
            "gridcolor": "#506784",
            "gridwidth": 2,
            "linecolor": "#506784",
            "showbackground": true,
            "ticks": "",
            "zerolinecolor": "#C8D4E3"
           },
           "yaxis": {
            "backgroundcolor": "rgb(17,17,17)",
            "gridcolor": "#506784",
            "gridwidth": 2,
            "linecolor": "#506784",
            "showbackground": true,
            "ticks": "",
            "zerolinecolor": "#C8D4E3"
           },
           "zaxis": {
            "backgroundcolor": "rgb(17,17,17)",
            "gridcolor": "#506784",
            "gridwidth": 2,
            "linecolor": "#506784",
            "showbackground": true,
            "ticks": "",
            "zerolinecolor": "#C8D4E3"
           }
          },
          "shapedefaults": {
           "line": {
            "color": "#f2f5fa"
           }
          },
          "sliderdefaults": {
           "bgcolor": "#C8D4E3",
           "bordercolor": "rgb(17,17,17)",
           "borderwidth": 1,
           "tickwidth": 0
          },
          "ternary": {
           "aaxis": {
            "gridcolor": "#506784",
            "linecolor": "#506784",
            "ticks": ""
           },
           "baxis": {
            "gridcolor": "#506784",
            "linecolor": "#506784",
            "ticks": ""
           },
           "bgcolor": "rgb(17,17,17)",
           "caxis": {
            "gridcolor": "#506784",
            "linecolor": "#506784",
            "ticks": ""
           }
          },
          "title": {
           "x": 0.05
          },
          "updatemenudefaults": {
           "bgcolor": "#506784",
           "borderwidth": 0
          },
          "xaxis": {
           "automargin": true,
           "gridcolor": "#283442",
           "linecolor": "#506784",
           "ticks": "",
           "title": {
            "standoff": 15
           },
           "zerolinecolor": "#283442",
           "zerolinewidth": 2
          },
          "yaxis": {
           "automargin": true,
           "gridcolor": "#283442",
           "linecolor": "#506784",
           "ticks": "",
           "title": {
            "standoff": 15
           },
           "zerolinecolor": "#283442",
           "zerolinewidth": 2
          }
         }
        },
        "xaxis": {
         "anchor": "y",
         "domain": [
          0,
          1
         ],
         "title": {
          "text": "timestamp"
         }
        },
        "yaxis": {
         "anchor": "x",
         "domain": [
          0,
          1
         ],
         "title": {
          "text": "close price $"
         }
        }
       }
      }
     },
     "metadata": {},
     "output_type": "display_data"
    }
   ],
   "source": [
    "# plot most recent 30 days with 30 day forecast\n",
    "last_month = btc_5y_close_df_30_lag.loc[btc_5y_close_df_30_lag.index[-60:], ['close']]\n",
    "\n",
    "last_month_pred = pd.concat([last_month, forecasts])\n",
    "# last_month_pred\n",
    "\n",
    "fig = px.line(last_month_pred, x=last_month_pred.index, y=['close', 'forecast'], template='plotly_dark', labels={\"value\": \"close price $\"})\n",
    "fig.add_vline(x=last_month.index[-1])\n",
    "fig.show()"
   ]
  },
  {
   "cell_type": "code",
   "execution_count": 165,
   "id": "99100019",
   "metadata": {},
   "outputs": [
    {
     "name": "stdout",
     "output_type": "stream",
     "text": [
      "--- Tuned XGB Hyperparameters ---\n",
      "objective:\n",
      "\treg:squarederror\n",
      "base_score:\n",
      "\tNone\n",
      "booster:\n",
      "\tgbtree\n",
      "callbacks:\n",
      "\tNone\n",
      "colsample_bylevel:\n",
      "\tNone\n",
      "colsample_bynode:\n",
      "\tNone\n",
      "colsample_bytree:\n",
      "\t0.9\n",
      "device:\n",
      "\tcpu\n",
      "early_stopping_rounds:\n",
      "\tNone\n",
      "enable_categorical:\n",
      "\tFalse\n",
      "eval_metric:\n",
      "\tNone\n",
      "feature_types:\n",
      "\tNone\n",
      "gamma:\n",
      "\tNone\n",
      "grow_policy:\n",
      "\tNone\n",
      "importance_type:\n",
      "\tNone\n",
      "interaction_constraints:\n",
      "\tNone\n",
      "learning_rate:\n",
      "\t0.05\n",
      "max_bin:\n",
      "\tNone\n",
      "max_cat_threshold:\n",
      "\tNone\n",
      "max_cat_to_onehot:\n",
      "\tNone\n",
      "max_delta_step:\n",
      "\tNone\n",
      "max_depth:\n",
      "\t4\n",
      "max_leaves:\n",
      "\tNone\n",
      "min_child_weight:\n",
      "\t1\n",
      "missing:\n",
      "\tnan\n",
      "monotone_constraints:\n",
      "\tNone\n",
      "multi_strategy:\n",
      "\tNone\n",
      "n_estimators:\n",
      "\t280\n",
      "n_jobs:\n",
      "\t-1\n",
      "num_parallel_tree:\n",
      "\tNone\n",
      "random_state:\n",
      "\t456\n",
      "reg_alpha:\n",
      "\t10\n",
      "reg_lambda:\n",
      "\t0.7\n",
      "sampling_method:\n",
      "\tNone\n",
      "scale_pos_weight:\n",
      "\t28.5\n",
      "subsample:\n",
      "\t0.8\n",
      "tree_method:\n",
      "\tauto\n",
      "validate_parameters:\n",
      "\tNone\n",
      "verbosity:\n",
      "\t0\n"
     ]
    }
   ],
   "source": [
    "print(\"--- Tuned XGB Hyperparameters ---\")\n",
    "for key, value in params.items():\n",
    "    print(\"{}:\\n\\t{}\".format(key, value))"
   ]
  },
  {
   "cell_type": "markdown",
   "id": "7c53dcb5",
   "metadata": {},
   "source": [
    "# validate against other 5 yr coin data (selected coins from clusters)"
   ]
  },
  {
   "cell_type": "code",
   "execution_count": 174,
   "id": "0b79105b",
   "metadata": {},
   "outputs": [],
   "source": [
    "selected_coins = [\n",
    "    'BTCUSDT', 'BNBUSDT', 'ETHUSDT', 'LTCUSDT'\n",
    "]"
   ]
  },
  {
   "cell_type": "code",
   "execution_count": null,
   "id": "cf81099c",
   "metadata": {},
   "outputs": [],
   "source": [
    "def add_features(df):\n",
    "    \"\"\"Add technical indicators and features to the dataframe\"\"\"\n",
    "    # Create a copy of the dataframe\n",
    "    data = df.copy()\n",
    "\n",
    "    # Add lagged features\n",
    "    for lag in [1, 3, 5]:\n",
    "        data[f'close_lag_{lag}'] = data['close'].shift(lag)\n",
    "\n",
    "    # Add rolling stats\n",
    "    data['ma7'] = data['close'].rolling(window=7).mean()\n",
    "    data['ma30'] = data['close'].rolling(window=30).mean()\n",
    "    data['std7'] = data['close'].rolling(window=7).std()\n",
    "\n",
    "    # Add price changes\n",
    "    data['price_change_1d'] = data['close'].pct_change(1)\n",
    "    data['price_change_7d'] = data['close'].pct_change(7)\n",
    "\n",
    "    # Calculate RSI (14-period)\n",
    "    delta = data['close'].diff()\n",
    "    gain = (delta.where(delta > 0, 0)).rolling(window=14).mean()\n",
    "    loss = (-delta.where(delta < 0, 0)).rolling(window=14).mean()\n",
    "    rs = gain / loss\n",
    "    data['rsi'] = 100 - (100 / (1 + rs))\n",
    "\n",
    "    # Drop rows with NaN values\n",
    "    data = data.dropna()\n",
    "\n",
    "    return data\n",
    "\n",
    "def xgboost_train_pipeline_full(coin: str, df: pd.DataFrame, params: dict):\n",
    "    # Step - drop columns\n",
    "    df.drop(['symbol', 'open', 'high', 'low', 'volume'], axis=1, inplace=True)\n",
    "    # step - feature engineering\n",
    "    df = add_features(df)\n",
    "    \n",
    "    df.dropna(inplace=True)\n",
    "    \n",
    "    print(df.tail(2).to_markdown())\n",
    "    \n",
    "    # step 2: Create multi-step sequences of data (30 day prediction window)\n",
    "    X, y = create_sequences(df)\n",
    "    \n",
    "    # Step 3: Split data for training/testing\n",
    "    # Use 80% for training, 20% for testing\n",
    "    split_idx = int(len(X) * 0.8)\n",
    "    X_train, X_test = X[:split_idx], X[split_idx:]\n",
    "    y_train, y_test = y[:split_idx], y[split_idx:]\n",
    "\n",
    "    print(\"x shape\", X.shape)\n",
    "    print(\"y shape\", y.shape)\n",
    "    \n",
    "    base_model = XGBRegressor(**params)\n",
    "    \n",
    "    # step 4:\n",
    "    print(\"\\n--- Training multi output XGB regressor ---\")\n",
    "    print(\"...\")\n",
    "    multi_model = MultiOutputRegressor(base_model).fit(X_train, y_train)\n",
    "    \n",
    "    # step 5\n",
    "    print(\"\\n---Evaluating model ---\")\n",
    "    print(f\"--- {coin} ---\")\n",
    "    y_pred = multi_model.predict(X_test)\n",
    "\n",
    "    print(f\"multi step model MAE: {mean_absolute_error(y_true=y_test[:,0], y_pred=y_pred[:, 0]):.2f}\")\n",
    "    print(f\"multi step model MSE: {mean_squared_error(y_true=y_test[:,0], y_pred=y_pred[:, 0]):.2f}\")\n",
    "    print(f\"multi step model R2: {r2_score(y_true=y_test, y_pred=y_pred):.2f}\")\n",
    "\n",
    "    # get the first day prediction for every sample\n",
    "    eval_df = pd.DataFrame()\n",
    "    eval_df['close'] = y_test[:,0]\n",
    "    eval_df['predictions'] = y_pred[:, 0]\n",
    "    eval_index = btc_5y_close_df_30_lag.index[-y_pred.shape[0]:]\n",
    "\n",
    "\n",
    "    fig = px.line(eval_df, x=eval_index, y=['close', 'predictions'], template='plotly_dark', labels={\"value\": \"close price $\"},\n",
    "                  title=coin)\n",
    "    fig.show()\n",
    "        \n"
   ]
  },
  {
   "cell_type": "code",
   "execution_count": 191,
   "id": "b738619b",
   "metadata": {},
   "outputs": [
    {
     "name": "stdout",
     "output_type": "stream",
     "text": [
      "| timestamp           |   close |   close_lag_1 |   close_lag_3 |   close_lag_5 |     ma7 |    ma30 |    std7 |   price_change_1d |   price_change_7d |     rsi |\n",
      "|:--------------------|--------:|--------------:|--------------:|--------------:|--------:|--------:|--------:|------------------:|------------------:|--------:|\n",
      "| 2025-04-17 00:00:00 | 84947.9 |       84030.4 |       84591.6 |       85276.9 | 84239.2 | 83675.2 | 706.587 |        0.010919   |         0.0670869 | 52.9624 |\n",
      "| 2025-04-18 00:00:00 | 84586.3 |       84947.9 |       83644   |       83760   | 84405.3 | 83599.8 | 613.481 |       -0.00425661 |         0.0139346 | 51.2022 |\n",
      "x shape (1647, 1080)\n",
      "y shape (1647, 30)\n",
      "\n",
      "--- Training multi output XGB regressor ---\n",
      "...\n",
      "\n",
      "---Evaluating model ---\n",
      "--- BTCUSDT ---\n",
      "multi step model MAE: 24210.62\n",
      "multi step model MSE: 825621244.14\n",
      "multi step model R2: -2.20\n"
     ]
    },
    {
     "data": {
      "application/vnd.plotly.v1+json": {
       "config": {
        "plotlyServerURL": "https://plot.ly"
       },
       "data": [
        {
         "hovertemplate": "variable=close<br>x=%{x}<br>close price $=%{y}<extra></extra>",
         "legendgroup": "close",
         "line": {
          "color": "#636efa",
          "dash": "solid"
         },
         "marker": {
          "symbol": "circle"
         },
         "mode": "lines",
         "name": "close",
         "orientation": "v",
         "showlegend": true,
         "type": "scatter",
         "x": [
          "2024-05-24T00:00:00",
          "2024-05-25T00:00:00",
          "2024-05-26T00:00:00",
          "2024-05-27T00:00:00",
          "2024-05-28T00:00:00",
          "2024-05-29T00:00:00",
          "2024-05-30T00:00:00",
          "2024-05-31T00:00:00",
          "2024-06-01T00:00:00",
          "2024-06-02T00:00:00",
          "2024-06-03T00:00:00",
          "2024-06-04T00:00:00",
          "2024-06-05T00:00:00",
          "2024-06-06T00:00:00",
          "2024-06-07T00:00:00",
          "2024-06-08T00:00:00",
          "2024-06-09T00:00:00",
          "2024-06-10T00:00:00",
          "2024-06-11T00:00:00",
          "2024-06-12T00:00:00",
          "2024-06-13T00:00:00",
          "2024-06-14T00:00:00",
          "2024-06-15T00:00:00",
          "2024-06-16T00:00:00",
          "2024-06-17T00:00:00",
          "2024-06-18T00:00:00",
          "2024-06-19T00:00:00",
          "2024-06-20T00:00:00",
          "2024-06-21T00:00:00",
          "2024-06-22T00:00:00",
          "2024-06-23T00:00:00",
          "2024-06-24T00:00:00",
          "2024-06-25T00:00:00",
          "2024-06-26T00:00:00",
          "2024-06-27T00:00:00",
          "2024-06-28T00:00:00",
          "2024-06-29T00:00:00",
          "2024-06-30T00:00:00",
          "2024-07-01T00:00:00",
          "2024-07-02T00:00:00",
          "2024-07-03T00:00:00",
          "2024-07-04T00:00:00",
          "2024-07-05T00:00:00",
          "2024-07-06T00:00:00",
          "2024-07-07T00:00:00",
          "2024-07-08T00:00:00",
          "2024-07-09T00:00:00",
          "2024-07-10T00:00:00",
          "2024-07-11T00:00:00",
          "2024-07-12T00:00:00",
          "2024-07-13T00:00:00",
          "2024-07-14T00:00:00",
          "2024-07-15T00:00:00",
          "2024-07-16T00:00:00",
          "2024-07-17T00:00:00",
          "2024-07-18T00:00:00",
          "2024-07-19T00:00:00",
          "2024-07-20T00:00:00",
          "2024-07-21T00:00:00",
          "2024-07-22T00:00:00",
          "2024-07-23T00:00:00",
          "2024-07-24T00:00:00",
          "2024-07-25T00:00:00",
          "2024-07-26T00:00:00",
          "2024-07-27T00:00:00",
          "2024-07-28T00:00:00",
          "2024-07-29T00:00:00",
          "2024-07-30T00:00:00",
          "2024-07-31T00:00:00",
          "2024-08-01T00:00:00",
          "2024-08-02T00:00:00",
          "2024-08-03T00:00:00",
          "2024-08-04T00:00:00",
          "2024-08-05T00:00:00",
          "2024-08-06T00:00:00",
          "2024-08-07T00:00:00",
          "2024-08-08T00:00:00",
          "2024-08-09T00:00:00",
          "2024-08-10T00:00:00",
          "2024-08-11T00:00:00",
          "2024-08-12T00:00:00",
          "2024-08-13T00:00:00",
          "2024-08-14T00:00:00",
          "2024-08-15T00:00:00",
          "2024-08-16T00:00:00",
          "2024-08-17T00:00:00",
          "2024-08-18T00:00:00",
          "2024-08-19T00:00:00",
          "2024-08-20T00:00:00",
          "2024-08-21T00:00:00",
          "2024-08-22T00:00:00",
          "2024-08-23T00:00:00",
          "2024-08-24T00:00:00",
          "2024-08-25T00:00:00",
          "2024-08-26T00:00:00",
          "2024-08-27T00:00:00",
          "2024-08-28T00:00:00",
          "2024-08-29T00:00:00",
          "2024-08-30T00:00:00",
          "2024-08-31T00:00:00",
          "2024-09-01T00:00:00",
          "2024-09-02T00:00:00",
          "2024-09-03T00:00:00",
          "2024-09-04T00:00:00",
          "2024-09-05T00:00:00",
          "2024-09-06T00:00:00",
          "2024-09-07T00:00:00",
          "2024-09-08T00:00:00",
          "2024-09-09T00:00:00",
          "2024-09-10T00:00:00",
          "2024-09-11T00:00:00",
          "2024-09-12T00:00:00",
          "2024-09-13T00:00:00",
          "2024-09-14T00:00:00",
          "2024-09-15T00:00:00",
          "2024-09-16T00:00:00",
          "2024-09-17T00:00:00",
          "2024-09-18T00:00:00",
          "2024-09-19T00:00:00",
          "2024-09-20T00:00:00",
          "2024-09-21T00:00:00",
          "2024-09-22T00:00:00",
          "2024-09-23T00:00:00",
          "2024-09-24T00:00:00",
          "2024-09-25T00:00:00",
          "2024-09-26T00:00:00",
          "2024-09-27T00:00:00",
          "2024-09-28T00:00:00",
          "2024-09-29T00:00:00",
          "2024-09-30T00:00:00",
          "2024-10-01T00:00:00",
          "2024-10-02T00:00:00",
          "2024-10-03T00:00:00",
          "2024-10-04T00:00:00",
          "2024-10-05T00:00:00",
          "2024-10-06T00:00:00",
          "2024-10-07T00:00:00",
          "2024-10-08T00:00:00",
          "2024-10-09T00:00:00",
          "2024-10-10T00:00:00",
          "2024-10-11T00:00:00",
          "2024-10-12T00:00:00",
          "2024-10-13T00:00:00",
          "2024-10-14T00:00:00",
          "2024-10-15T00:00:00",
          "2024-10-16T00:00:00",
          "2024-10-17T00:00:00",
          "2024-10-18T00:00:00",
          "2024-10-19T00:00:00",
          "2024-10-20T00:00:00",
          "2024-10-21T00:00:00",
          "2024-10-22T00:00:00",
          "2024-10-23T00:00:00",
          "2024-10-24T00:00:00",
          "2024-10-25T00:00:00",
          "2024-10-26T00:00:00",
          "2024-10-27T00:00:00",
          "2024-10-28T00:00:00",
          "2024-10-29T00:00:00",
          "2024-10-30T00:00:00",
          "2024-10-31T00:00:00",
          "2024-11-01T00:00:00",
          "2024-11-02T00:00:00",
          "2024-11-03T00:00:00",
          "2024-11-04T00:00:00",
          "2024-11-05T00:00:00",
          "2024-11-06T00:00:00",
          "2024-11-07T00:00:00",
          "2024-11-08T00:00:00",
          "2024-11-09T00:00:00",
          "2024-11-10T00:00:00",
          "2024-11-11T00:00:00",
          "2024-11-12T00:00:00",
          "2024-11-13T00:00:00",
          "2024-11-14T00:00:00",
          "2024-11-15T00:00:00",
          "2024-11-16T00:00:00",
          "2024-11-17T00:00:00",
          "2024-11-18T00:00:00",
          "2024-11-19T00:00:00",
          "2024-11-20T00:00:00",
          "2024-11-21T00:00:00",
          "2024-11-22T00:00:00",
          "2024-11-23T00:00:00",
          "2024-11-24T00:00:00",
          "2024-11-25T00:00:00",
          "2024-11-26T00:00:00",
          "2024-11-27T00:00:00",
          "2024-11-28T00:00:00",
          "2024-11-29T00:00:00",
          "2024-11-30T00:00:00",
          "2024-12-01T00:00:00",
          "2024-12-02T00:00:00",
          "2024-12-03T00:00:00",
          "2024-12-04T00:00:00",
          "2024-12-05T00:00:00",
          "2024-12-06T00:00:00",
          "2024-12-07T00:00:00",
          "2024-12-08T00:00:00",
          "2024-12-09T00:00:00",
          "2024-12-10T00:00:00",
          "2024-12-11T00:00:00",
          "2024-12-12T00:00:00",
          "2024-12-13T00:00:00",
          "2024-12-14T00:00:00",
          "2024-12-15T00:00:00",
          "2024-12-16T00:00:00",
          "2024-12-17T00:00:00",
          "2024-12-18T00:00:00",
          "2024-12-19T00:00:00",
          "2024-12-20T00:00:00",
          "2024-12-21T00:00:00",
          "2024-12-22T00:00:00",
          "2024-12-23T00:00:00",
          "2024-12-24T00:00:00",
          "2024-12-25T00:00:00",
          "2024-12-26T00:00:00",
          "2024-12-27T00:00:00",
          "2024-12-28T00:00:00",
          "2024-12-29T00:00:00",
          "2024-12-30T00:00:00",
          "2024-12-31T00:00:00",
          "2025-01-01T00:00:00",
          "2025-01-02T00:00:00",
          "2025-01-03T00:00:00",
          "2025-01-04T00:00:00",
          "2025-01-05T00:00:00",
          "2025-01-06T00:00:00",
          "2025-01-07T00:00:00",
          "2025-01-08T00:00:00",
          "2025-01-09T00:00:00",
          "2025-01-10T00:00:00",
          "2025-01-11T00:00:00",
          "2025-01-12T00:00:00",
          "2025-01-13T00:00:00",
          "2025-01-14T00:00:00",
          "2025-01-15T00:00:00",
          "2025-01-16T00:00:00",
          "2025-01-17T00:00:00",
          "2025-01-18T00:00:00",
          "2025-01-19T00:00:00",
          "2025-01-20T00:00:00",
          "2025-01-21T00:00:00",
          "2025-01-22T00:00:00",
          "2025-01-23T00:00:00",
          "2025-01-24T00:00:00",
          "2025-01-25T00:00:00",
          "2025-01-26T00:00:00",
          "2025-01-27T00:00:00",
          "2025-01-28T00:00:00",
          "2025-01-29T00:00:00",
          "2025-01-30T00:00:00",
          "2025-01-31T00:00:00",
          "2025-02-01T00:00:00",
          "2025-02-02T00:00:00",
          "2025-02-03T00:00:00",
          "2025-02-04T00:00:00",
          "2025-02-05T00:00:00",
          "2025-02-06T00:00:00",
          "2025-02-07T00:00:00",
          "2025-02-08T00:00:00",
          "2025-02-09T00:00:00",
          "2025-02-10T00:00:00",
          "2025-02-11T00:00:00",
          "2025-02-12T00:00:00",
          "2025-02-13T00:00:00",
          "2025-02-14T00:00:00",
          "2025-02-15T00:00:00",
          "2025-02-16T00:00:00",
          "2025-02-17T00:00:00",
          "2025-02-18T00:00:00",
          "2025-02-19T00:00:00",
          "2025-02-20T00:00:00",
          "2025-02-21T00:00:00",
          "2025-02-22T00:00:00",
          "2025-02-23T00:00:00",
          "2025-02-24T00:00:00",
          "2025-02-25T00:00:00",
          "2025-02-26T00:00:00",
          "2025-02-27T00:00:00",
          "2025-02-28T00:00:00",
          "2025-03-01T00:00:00",
          "2025-03-02T00:00:00",
          "2025-03-03T00:00:00",
          "2025-03-04T00:00:00",
          "2025-03-05T00:00:00",
          "2025-03-06T00:00:00",
          "2025-03-07T00:00:00",
          "2025-03-08T00:00:00",
          "2025-03-09T00:00:00",
          "2025-03-10T00:00:00",
          "2025-03-11T00:00:00",
          "2025-03-12T00:00:00",
          "2025-03-13T00:00:00",
          "2025-03-14T00:00:00",
          "2025-03-15T00:00:00",
          "2025-03-16T00:00:00",
          "2025-03-17T00:00:00",
          "2025-03-18T00:00:00",
          "2025-03-19T00:00:00",
          "2025-03-20T00:00:00",
          "2025-03-21T00:00:00",
          "2025-03-22T00:00:00",
          "2025-03-23T00:00:00",
          "2025-03-24T00:00:00",
          "2025-03-25T00:00:00",
          "2025-03-26T00:00:00",
          "2025-03-27T00:00:00",
          "2025-03-28T00:00:00",
          "2025-03-29T00:00:00",
          "2025-03-30T00:00:00",
          "2025-03-31T00:00:00",
          "2025-04-01T00:00:00",
          "2025-04-02T00:00:00",
          "2025-04-03T00:00:00",
          "2025-04-04T00:00:00",
          "2025-04-05T00:00:00",
          "2025-04-06T00:00:00",
          "2025-04-07T00:00:00",
          "2025-04-08T00:00:00",
          "2025-04-09T00:00:00",
          "2025-04-10T00:00:00",
          "2025-04-11T00:00:00",
          "2025-04-12T00:00:00",
          "2025-04-13T00:00:00",
          "2025-04-14T00:00:00",
          "2025-04-15T00:00:00",
          "2025-04-16T00:00:00",
          "2025-04-17T00:00:00",
          "2025-04-18T00:00:00"
         ],
         "xaxis": "x",
         "y": [
          64498.34,
          63770.01,
          63461.98,
          63118.62,
          63866,
          60672,
          58364.97,
          59060.61,
          62882.01,
          63892.04,
          64012,
          63165.19,
          62312.08,
          61193.03,
          63074.01,
          60799.99,
          60825.99,
          61483.99,
          62940.08,
          61577.49,
          66206.5,
          65235.21,
          67024,
          66915.2,
          66274.01,
          71446.62,
          70148.34,
          69166.62,
          67969.65,
          68549.99,
          69290.57,
          68507.67,
          69436.43,
          68398.39,
          67652.42,
          68352.17,
          67540.01,
          67766.85,
          67765.63,
          68809.9,
          70537.84,
          71108,
          70799.06,
          69355.6,
          69310.46,
          69648.14,
          69540,
          67314.24,
          68263.99,
          66773.01,
          66043.99,
          66228.25,
          66676.87,
          66504.33,
          65175.32,
          64974.37,
          64869.99,
          64143.56,
          64262.01,
          63210.01,
          60293.3,
          61806.01,
          60864.99,
          61706.47,
          60427.84,
          60986.68,
          62772.01,
          62899.99,
          62135.47,
          60208.58,
          57050.01,
          56628.79,
          58230.13,
          55857.81,
          56714.62,
          58050,
          57725.85,
          57339.89,
          57889.1,
          59204.02,
          60797.91,
          64724.14,
          65043.99,
          64087.99,
          63987.92,
          66660,
          67139.96,
          68165.34,
          67532.01,
          65936.01,
          65376,
          65799.95,
          67907.99,
          67896.5,
          68249.88,
          66784.69,
          66188,
          64628,
          65354.02,
          61498.33,
          60697.99,
          58161,
          54018.81,
          56022.01,
          55134.16,
          61685.99,
          60837.99,
          60923.51,
          58712.59,
          59346.64,
          60587.15,
          58683.39,
          57541.06,
          58874.6,
          59491.99,
          58427.35,
          59438.5,
          59013.8,
          61156.03,
          60375.84,
          64037.24,
          64157.01,
          64220,
          62834,
          59415,
          59034.9,
          59359.01,
          59123.99,
          58973.99,
          57301.86,
          59132.13,
          57487.73,
          57970.9,
          56180,
          53962.97,
          54160.86,
          54869.95,
          57042,
          57635.99,
          57338,
          58132.32,
          60498,
          59993.03,
          59132,
          58213.99,
          60313.99,
          61759.99,
          62947.99,
          63201.05,
          63348.96,
          63578.76,
          63339.99,
          64262.7,
          63152.01,
          65173.99,
          65769.95,
          65858,
          65602.01,
          63327.59,
          60805.78,
          60649.28,
          60752.71,
          62086,
          62058,
          62819.91,
          62224,
          62160.49,
          60636.02,
          60326.39,
          62540,
          63206.22,
          62870.02,
          66083.99,
          67074.14,
          67620.01,
          67421.78,
          68428,
          68378,
          69031.99,
          67377.5,
          67426,
          66668.65,
          68198.28,
          66698.33,
          67092.76,
          68021.7,
          69962.21,
          72736.42,
          72344.74,
          70292.01,
          69496.01,
          69374.74,
          68775.99,
          67850.01,
          69372.01,
          75571.99,
          75857.89,
          76509.78,
          76677.46,
          80370.01,
          88647.99,
          87952.01,
          90375.2,
          87325.59,
          91032.07,
          90586.92,
          89855.99,
          90464.08,
          92310.79,
          94286.56,
          98317.12,
          98892,
          97672.4,
          97900.04,
          93010.01,
          91965.16,
          95863.11,
          95643.98,
          97460,
          96407.99,
          97185.18,
          95840.62,
          95849.69,
          98587.32,
          96945.63,
          99740.84,
          99831.99,
          101109.59,
          97276.47,
          96593,
          101125,
          100004.29,
          101424.25,
          101420,
          104463.99,
          106058.66,
          106133.74,
          100204.01,
          97461.86,
          97805.44,
          97291.99,
          95186.27,
          94881.47,
          98663.58,
          99429.6,
          95791.6,
          94299.03,
          95300,
          93738.2,
          92792.05,
          93576,
          94591.79,
          96984.79,
          98174.18,
          98220.5,
          98363.61,
          102235.6,
          96954.61,
          95060.61,
          92552.49,
          94726.11,
          94599.99,
          94545.06,
          94536.1,
          96560.86,
          100497.35,
          99987.3,
          104077.48,
          104556.23,
          101331.57,
          102260.01,
          106143.82,
          103706.66,
          103910.34,
          104870.5,
          104746.85,
          102620,
          102082.83,
          101335.52,
          103733.24,
          104722.94,
          102429.56,
          100635.65,
          97700.59,
          101328.52,
          97763.13,
          96612.43,
          96554.35,
          96506.8,
          96444.74,
          96462.75,
          97430.82,
          95778.2,
          97869.99,
          96608.14,
          97500.48,
          97569.66,
          96118.12,
          95780,
          95671.74,
          96644.37,
          98305,
          96181.98,
          96551.01,
          96258,
          91552.88,
          88680.4,
          84250.09,
          84708.58,
          84349.94,
          86064.53,
          94270,
          86220.61,
          87281.98,
          90606.01,
          89931.89,
          86801.75,
          86222.45,
          80734.37,
          78595.86,
          82932.99,
          83680.12,
          81115.78,
          83983.2,
          84338.44,
          82574.53,
          84010.03,
          82715.03,
          86845.94,
          84223.39
         ],
         "yaxis": "y"
        },
        {
         "hovertemplate": "variable=predictions<br>x=%{x}<br>close price $=%{y}<extra></extra>",
         "legendgroup": "predictions",
         "line": {
          "color": "#EF553B",
          "dash": "solid"
         },
         "marker": {
          "symbol": "circle"
         },
         "mode": "lines",
         "name": "predictions",
         "orientation": "v",
         "showlegend": true,
         "type": "scatter",
         "x": [
          "2024-05-24T00:00:00",
          "2024-05-25T00:00:00",
          "2024-05-26T00:00:00",
          "2024-05-27T00:00:00",
          "2024-05-28T00:00:00",
          "2024-05-29T00:00:00",
          "2024-05-30T00:00:00",
          "2024-05-31T00:00:00",
          "2024-06-01T00:00:00",
          "2024-06-02T00:00:00",
          "2024-06-03T00:00:00",
          "2024-06-04T00:00:00",
          "2024-06-05T00:00:00",
          "2024-06-06T00:00:00",
          "2024-06-07T00:00:00",
          "2024-06-08T00:00:00",
          "2024-06-09T00:00:00",
          "2024-06-10T00:00:00",
          "2024-06-11T00:00:00",
          "2024-06-12T00:00:00",
          "2024-06-13T00:00:00",
          "2024-06-14T00:00:00",
          "2024-06-15T00:00:00",
          "2024-06-16T00:00:00",
          "2024-06-17T00:00:00",
          "2024-06-18T00:00:00",
          "2024-06-19T00:00:00",
          "2024-06-20T00:00:00",
          "2024-06-21T00:00:00",
          "2024-06-22T00:00:00",
          "2024-06-23T00:00:00",
          "2024-06-24T00:00:00",
          "2024-06-25T00:00:00",
          "2024-06-26T00:00:00",
          "2024-06-27T00:00:00",
          "2024-06-28T00:00:00",
          "2024-06-29T00:00:00",
          "2024-06-30T00:00:00",
          "2024-07-01T00:00:00",
          "2024-07-02T00:00:00",
          "2024-07-03T00:00:00",
          "2024-07-04T00:00:00",
          "2024-07-05T00:00:00",
          "2024-07-06T00:00:00",
          "2024-07-07T00:00:00",
          "2024-07-08T00:00:00",
          "2024-07-09T00:00:00",
          "2024-07-10T00:00:00",
          "2024-07-11T00:00:00",
          "2024-07-12T00:00:00",
          "2024-07-13T00:00:00",
          "2024-07-14T00:00:00",
          "2024-07-15T00:00:00",
          "2024-07-16T00:00:00",
          "2024-07-17T00:00:00",
          "2024-07-18T00:00:00",
          "2024-07-19T00:00:00",
          "2024-07-20T00:00:00",
          "2024-07-21T00:00:00",
          "2024-07-22T00:00:00",
          "2024-07-23T00:00:00",
          "2024-07-24T00:00:00",
          "2024-07-25T00:00:00",
          "2024-07-26T00:00:00",
          "2024-07-27T00:00:00",
          "2024-07-28T00:00:00",
          "2024-07-29T00:00:00",
          "2024-07-30T00:00:00",
          "2024-07-31T00:00:00",
          "2024-08-01T00:00:00",
          "2024-08-02T00:00:00",
          "2024-08-03T00:00:00",
          "2024-08-04T00:00:00",
          "2024-08-05T00:00:00",
          "2024-08-06T00:00:00",
          "2024-08-07T00:00:00",
          "2024-08-08T00:00:00",
          "2024-08-09T00:00:00",
          "2024-08-10T00:00:00",
          "2024-08-11T00:00:00",
          "2024-08-12T00:00:00",
          "2024-08-13T00:00:00",
          "2024-08-14T00:00:00",
          "2024-08-15T00:00:00",
          "2024-08-16T00:00:00",
          "2024-08-17T00:00:00",
          "2024-08-18T00:00:00",
          "2024-08-19T00:00:00",
          "2024-08-20T00:00:00",
          "2024-08-21T00:00:00",
          "2024-08-22T00:00:00",
          "2024-08-23T00:00:00",
          "2024-08-24T00:00:00",
          "2024-08-25T00:00:00",
          "2024-08-26T00:00:00",
          "2024-08-27T00:00:00",
          "2024-08-28T00:00:00",
          "2024-08-29T00:00:00",
          "2024-08-30T00:00:00",
          "2024-08-31T00:00:00",
          "2024-09-01T00:00:00",
          "2024-09-02T00:00:00",
          "2024-09-03T00:00:00",
          "2024-09-04T00:00:00",
          "2024-09-05T00:00:00",
          "2024-09-06T00:00:00",
          "2024-09-07T00:00:00",
          "2024-09-08T00:00:00",
          "2024-09-09T00:00:00",
          "2024-09-10T00:00:00",
          "2024-09-11T00:00:00",
          "2024-09-12T00:00:00",
          "2024-09-13T00:00:00",
          "2024-09-14T00:00:00",
          "2024-09-15T00:00:00",
          "2024-09-16T00:00:00",
          "2024-09-17T00:00:00",
          "2024-09-18T00:00:00",
          "2024-09-19T00:00:00",
          "2024-09-20T00:00:00",
          "2024-09-21T00:00:00",
          "2024-09-22T00:00:00",
          "2024-09-23T00:00:00",
          "2024-09-24T00:00:00",
          "2024-09-25T00:00:00",
          "2024-09-26T00:00:00",
          "2024-09-27T00:00:00",
          "2024-09-28T00:00:00",
          "2024-09-29T00:00:00",
          "2024-09-30T00:00:00",
          "2024-10-01T00:00:00",
          "2024-10-02T00:00:00",
          "2024-10-03T00:00:00",
          "2024-10-04T00:00:00",
          "2024-10-05T00:00:00",
          "2024-10-06T00:00:00",
          "2024-10-07T00:00:00",
          "2024-10-08T00:00:00",
          "2024-10-09T00:00:00",
          "2024-10-10T00:00:00",
          "2024-10-11T00:00:00",
          "2024-10-12T00:00:00",
          "2024-10-13T00:00:00",
          "2024-10-14T00:00:00",
          "2024-10-15T00:00:00",
          "2024-10-16T00:00:00",
          "2024-10-17T00:00:00",
          "2024-10-18T00:00:00",
          "2024-10-19T00:00:00",
          "2024-10-20T00:00:00",
          "2024-10-21T00:00:00",
          "2024-10-22T00:00:00",
          "2024-10-23T00:00:00",
          "2024-10-24T00:00:00",
          "2024-10-25T00:00:00",
          "2024-10-26T00:00:00",
          "2024-10-27T00:00:00",
          "2024-10-28T00:00:00",
          "2024-10-29T00:00:00",
          "2024-10-30T00:00:00",
          "2024-10-31T00:00:00",
          "2024-11-01T00:00:00",
          "2024-11-02T00:00:00",
          "2024-11-03T00:00:00",
          "2024-11-04T00:00:00",
          "2024-11-05T00:00:00",
          "2024-11-06T00:00:00",
          "2024-11-07T00:00:00",
          "2024-11-08T00:00:00",
          "2024-11-09T00:00:00",
          "2024-11-10T00:00:00",
          "2024-11-11T00:00:00",
          "2024-11-12T00:00:00",
          "2024-11-13T00:00:00",
          "2024-11-14T00:00:00",
          "2024-11-15T00:00:00",
          "2024-11-16T00:00:00",
          "2024-11-17T00:00:00",
          "2024-11-18T00:00:00",
          "2024-11-19T00:00:00",
          "2024-11-20T00:00:00",
          "2024-11-21T00:00:00",
          "2024-11-22T00:00:00",
          "2024-11-23T00:00:00",
          "2024-11-24T00:00:00",
          "2024-11-25T00:00:00",
          "2024-11-26T00:00:00",
          "2024-11-27T00:00:00",
          "2024-11-28T00:00:00",
          "2024-11-29T00:00:00",
          "2024-11-30T00:00:00",
          "2024-12-01T00:00:00",
          "2024-12-02T00:00:00",
          "2024-12-03T00:00:00",
          "2024-12-04T00:00:00",
          "2024-12-05T00:00:00",
          "2024-12-06T00:00:00",
          "2024-12-07T00:00:00",
          "2024-12-08T00:00:00",
          "2024-12-09T00:00:00",
          "2024-12-10T00:00:00",
          "2024-12-11T00:00:00",
          "2024-12-12T00:00:00",
          "2024-12-13T00:00:00",
          "2024-12-14T00:00:00",
          "2024-12-15T00:00:00",
          "2024-12-16T00:00:00",
          "2024-12-17T00:00:00",
          "2024-12-18T00:00:00",
          "2024-12-19T00:00:00",
          "2024-12-20T00:00:00",
          "2024-12-21T00:00:00",
          "2024-12-22T00:00:00",
          "2024-12-23T00:00:00",
          "2024-12-24T00:00:00",
          "2024-12-25T00:00:00",
          "2024-12-26T00:00:00",
          "2024-12-27T00:00:00",
          "2024-12-28T00:00:00",
          "2024-12-29T00:00:00",
          "2024-12-30T00:00:00",
          "2024-12-31T00:00:00",
          "2025-01-01T00:00:00",
          "2025-01-02T00:00:00",
          "2025-01-03T00:00:00",
          "2025-01-04T00:00:00",
          "2025-01-05T00:00:00",
          "2025-01-06T00:00:00",
          "2025-01-07T00:00:00",
          "2025-01-08T00:00:00",
          "2025-01-09T00:00:00",
          "2025-01-10T00:00:00",
          "2025-01-11T00:00:00",
          "2025-01-12T00:00:00",
          "2025-01-13T00:00:00",
          "2025-01-14T00:00:00",
          "2025-01-15T00:00:00",
          "2025-01-16T00:00:00",
          "2025-01-17T00:00:00",
          "2025-01-18T00:00:00",
          "2025-01-19T00:00:00",
          "2025-01-20T00:00:00",
          "2025-01-21T00:00:00",
          "2025-01-22T00:00:00",
          "2025-01-23T00:00:00",
          "2025-01-24T00:00:00",
          "2025-01-25T00:00:00",
          "2025-01-26T00:00:00",
          "2025-01-27T00:00:00",
          "2025-01-28T00:00:00",
          "2025-01-29T00:00:00",
          "2025-01-30T00:00:00",
          "2025-01-31T00:00:00",
          "2025-02-01T00:00:00",
          "2025-02-02T00:00:00",
          "2025-02-03T00:00:00",
          "2025-02-04T00:00:00",
          "2025-02-05T00:00:00",
          "2025-02-06T00:00:00",
          "2025-02-07T00:00:00",
          "2025-02-08T00:00:00",
          "2025-02-09T00:00:00",
          "2025-02-10T00:00:00",
          "2025-02-11T00:00:00",
          "2025-02-12T00:00:00",
          "2025-02-13T00:00:00",
          "2025-02-14T00:00:00",
          "2025-02-15T00:00:00",
          "2025-02-16T00:00:00",
          "2025-02-17T00:00:00",
          "2025-02-18T00:00:00",
          "2025-02-19T00:00:00",
          "2025-02-20T00:00:00",
          "2025-02-21T00:00:00",
          "2025-02-22T00:00:00",
          "2025-02-23T00:00:00",
          "2025-02-24T00:00:00",
          "2025-02-25T00:00:00",
          "2025-02-26T00:00:00",
          "2025-02-27T00:00:00",
          "2025-02-28T00:00:00",
          "2025-03-01T00:00:00",
          "2025-03-02T00:00:00",
          "2025-03-03T00:00:00",
          "2025-03-04T00:00:00",
          "2025-03-05T00:00:00",
          "2025-03-06T00:00:00",
          "2025-03-07T00:00:00",
          "2025-03-08T00:00:00",
          "2025-03-09T00:00:00",
          "2025-03-10T00:00:00",
          "2025-03-11T00:00:00",
          "2025-03-12T00:00:00",
          "2025-03-13T00:00:00",
          "2025-03-14T00:00:00",
          "2025-03-15T00:00:00",
          "2025-03-16T00:00:00",
          "2025-03-17T00:00:00",
          "2025-03-18T00:00:00",
          "2025-03-19T00:00:00",
          "2025-03-20T00:00:00",
          "2025-03-21T00:00:00",
          "2025-03-22T00:00:00",
          "2025-03-23T00:00:00",
          "2025-03-24T00:00:00",
          "2025-03-25T00:00:00",
          "2025-03-26T00:00:00",
          "2025-03-27T00:00:00",
          "2025-03-28T00:00:00",
          "2025-03-29T00:00:00",
          "2025-03-30T00:00:00",
          "2025-03-31T00:00:00",
          "2025-04-01T00:00:00",
          "2025-04-02T00:00:00",
          "2025-04-03T00:00:00",
          "2025-04-04T00:00:00",
          "2025-04-05T00:00:00",
          "2025-04-06T00:00:00",
          "2025-04-07T00:00:00",
          "2025-04-08T00:00:00",
          "2025-04-09T00:00:00",
          "2025-04-10T00:00:00",
          "2025-04-11T00:00:00",
          "2025-04-12T00:00:00",
          "2025-04-13T00:00:00",
          "2025-04-14T00:00:00",
          "2025-04-15T00:00:00",
          "2025-04-16T00:00:00",
          "2025-04-17T00:00:00",
          "2025-04-18T00:00:00"
         ],
         "xaxis": "x",
         "y": [
          64842.390625,
          65927.8984375,
          64586.984375,
          63978.296875,
          63742.5,
          64013.78515625,
          63600.76171875,
          57342.8671875,
          58210.00390625,
          56989.1171875,
          63125.3203125,
          64539.85546875,
          63704.734375,
          61788.06640625,
          60393.4453125,
          60750.18359375,
          60498.38671875,
          60254.30078125,
          60485.57421875,
          61257.2265625,
          60467.48828125,
          62600.09375,
          62945.76171875,
          64203.26171875,
          63996.0078125,
          64013.85546875,
          64917.96875,
          63860.9375,
          63899.55859375,
          63555.51953125,
          63720.16015625,
          64392.6796875,
          63973.40234375,
          64607.72265625,
          64309.1953125,
          64939.55078125,
          64854.328125,
          64591.953125,
          65303.02734375,
          65050.2890625,
          65989.78125,
          66161.4453125,
          66191.4296875,
          65312.4453125,
          64025.2109375,
          63985.59375,
          64444.17578125,
          64903.89453125,
          63681.33203125,
          65230.49609375,
          63934.33203125,
          65071.47265625,
          64820.40625,
          65199.61328125,
          65310.6171875,
          64655.8359375,
          64784.34765625,
          64668.16015625,
          63579.19140625,
          64172.83203125,
          63157.62890625,
          62358.84765625,
          58195.8125,
          60739.6328125,
          61611.35546875,
          61020.90234375,
          57737.09375,
          61408.28125,
          63133.1953125,
          61383.19921875,
          61832.046875,
          56058.58203125,
          55629.71484375,
          53739.26171875,
          52741.9453125,
          52292.74609375,
          53172.7109375,
          54489.52734375,
          54124,
          53447.09765625,
          53849.734375,
          54898.6875,
          62325.57421875,
          62778.68359375,
          62487.7421875,
          63388.36328125,
          63955.0078125,
          63770.21875,
          63543.00390625,
          64202.33984375,
          64159.20703125,
          64395.8125,
          64559.27734375,
          65207.8515625,
          64923.45703125,
          65932.4765625,
          64432,
          64625.76953125,
          63788.0546875,
          64549.39453125,
          62719.7265625,
          61997.16015625,
          61163.1171875,
          55485.08203125,
          53029.07421875,
          52393.74609375,
          53506.2734375,
          58491.609375,
          61533.8828125,
          60694.6640625,
          57697.15625,
          55949.66796875,
          57907.55078125,
          57195.71484375,
          56338.09375,
          55999.98828125,
          55607.65625,
          57983.61328125,
          56315.15234375,
          58880.078125,
          61401.98046875,
          59413.95703125,
          63543.82421875,
          63725.53125,
          62069.37109375,
          61324.02734375,
          56715.80859375,
          55903.015625,
          56102.62890625,
          56256.2890625,
          56211.3828125,
          57774.43359375,
          54853.7109375,
          57003.1015625,
          53930.609375,
          50752.00390625,
          51761.66015625,
          52882.6953125,
          54533.35546875,
          54167.4765625,
          54882.7421875,
          54457.875,
          55820.55078125,
          55429.7890625,
          56545.95703125,
          57075.640625,
          57998.421875,
          55667.70703125,
          62722.21484375,
          63120.80859375,
          63646.296875,
          63163.234375,
          62635.94140625,
          62424.4453125,
          63618.953125,
          63885.078125,
          62702.8359375,
          64153.20703125,
          63914.94140625,
          61727.81640625,
          61077.16015625,
          62217.69140625,
          58025.73828125,
          62566.23828125,
          61831.80078125,
          62020.5,
          61771.72265625,
          62673.046875,
          61897.60546875,
          57824.48828125,
          58713.44140625,
          61915.921875,
          62903.26171875,
          63291.59375,
          63719.75390625,
          64657.234375,
          64640.31640625,
          64460.5703125,
          64813.140625,
          65741.8359375,
          64730.63671875,
          64483.48046875,
          64434.04296875,
          64337.56640625,
          64316.390625,
          65211.27734375,
          64561.29296875,
          65080.1484375,
          65815.3828125,
          65507.6015625,
          64189.40625,
          63638.84765625,
          63912.203125,
          63219.80078125,
          62880.01171875,
          63966.9375,
          65261.9765625,
          65618.015625,
          66139.359375,
          65831.578125,
          66294.5625,
          66961.015625,
          66465.9453125,
          66264.546875,
          65811.546875,
          66709.71875,
          67024.796875,
          66274.546875,
          65837.234375,
          67230.359375,
          67273.2421875,
          67097.5859375,
          67058.6953125,
          65532.0859375,
          65976.71875,
          64390.8984375,
          64286.9921875,
          65217.4765625,
          65123.1953125,
          65225.3046875,
          63544.8203125,
          64608.32421875,
          64197.64453125,
          64718.05859375,
          65331.61328125,
          63825.828125,
          65019.6328125,
          65039.3984375,
          65139.84375,
          64186.7734375,
          65216.15625,
          65917.7734375,
          65750.4765625,
          66744.46875,
          66812.8984375,
          66906.3359375,
          66830.7421875,
          67177.1875,
          66007.3046875,
          66089.84375,
          66097.8125,
          65783.9921875,
          65121.359375,
          64127.79296875,
          64676.9296875,
          64925.78515625,
          63740.44921875,
          63044.2734375,
          65038.79296875,
          64312.6640625,
          63854.12890625,
          64408.75,
          64090.55859375,
          64371.2734375,
          64565.44921875,
          64272.765625,
          64473.2734375,
          65199.625,
          63387.5,
          63375.3671875,
          63323.9375,
          64506.2421875,
          65546.140625,
          65765.546875,
          66110.65625,
          66201.984375,
          65891.8515625,
          65541.6640625,
          65596.734375,
          65533.85546875,
          64634.734375,
          64795.328125,
          65233.078125,
          64792.7890625,
          65409.38671875,
          65031.87890625,
          65144.5,
          64011.50390625,
          64194.19140625,
          63995.1875,
          64238.9375,
          64313.25,
          63387.5234375,
          63283.44140625,
          63505.68359375,
          64999.17578125,
          63940.671875,
          63381.82421875,
          64490.48828125,
          64112.86328125,
          63698.71875,
          64704.54296875,
          65642,
          64407.41015625,
          64687.28515625,
          64305.27734375,
          65398.62109375,
          65471.14453125,
          64497.67578125,
          65440.00390625,
          65109.37890625,
          65975.8046875,
          66079.828125,
          64922.69140625,
          65047.16796875,
          64944.4296875,
          63754.4921875,
          63034.95703125,
          63436.14453125,
          64063.42578125,
          65344.26953125,
          65468.73828125,
          65257.703125,
          64560.9921875,
          64828.46484375,
          65134.578125,
          64874.70703125,
          64578.11328125,
          65187.1328125,
          64832.2109375,
          64945.36328125,
          65836.6875,
          65755.109375,
          64827.55078125,
          65173.02734375,
          65452.515625,
          65147.69921875,
          65628.7734375,
          64619.58203125,
          65812.625
         ],
         "yaxis": "y"
        }
       ],
       "layout": {
        "legend": {
         "title": {
          "text": "variable"
         },
         "tracegroupgap": 0
        },
        "template": {
         "data": {
          "bar": [
           {
            "error_x": {
             "color": "#f2f5fa"
            },
            "error_y": {
             "color": "#f2f5fa"
            },
            "marker": {
             "line": {
              "color": "rgb(17,17,17)",
              "width": 0.5
             },
             "pattern": {
              "fillmode": "overlay",
              "size": 10,
              "solidity": 0.2
             }
            },
            "type": "bar"
           }
          ],
          "barpolar": [
           {
            "marker": {
             "line": {
              "color": "rgb(17,17,17)",
              "width": 0.5
             },
             "pattern": {
              "fillmode": "overlay",
              "size": 10,
              "solidity": 0.2
             }
            },
            "type": "barpolar"
           }
          ],
          "carpet": [
           {
            "aaxis": {
             "endlinecolor": "#A2B1C6",
             "gridcolor": "#506784",
             "linecolor": "#506784",
             "minorgridcolor": "#506784",
             "startlinecolor": "#A2B1C6"
            },
            "baxis": {
             "endlinecolor": "#A2B1C6",
             "gridcolor": "#506784",
             "linecolor": "#506784",
             "minorgridcolor": "#506784",
             "startlinecolor": "#A2B1C6"
            },
            "type": "carpet"
           }
          ],
          "choropleth": [
           {
            "colorbar": {
             "outlinewidth": 0,
             "ticks": ""
            },
            "type": "choropleth"
           }
          ],
          "contour": [
           {
            "colorbar": {
             "outlinewidth": 0,
             "ticks": ""
            },
            "colorscale": [
             [
              0,
              "#0d0887"
             ],
             [
              0.1111111111111111,
              "#46039f"
             ],
             [
              0.2222222222222222,
              "#7201a8"
             ],
             [
              0.3333333333333333,
              "#9c179e"
             ],
             [
              0.4444444444444444,
              "#bd3786"
             ],
             [
              0.5555555555555556,
              "#d8576b"
             ],
             [
              0.6666666666666666,
              "#ed7953"
             ],
             [
              0.7777777777777778,
              "#fb9f3a"
             ],
             [
              0.8888888888888888,
              "#fdca26"
             ],
             [
              1,
              "#f0f921"
             ]
            ],
            "type": "contour"
           }
          ],
          "contourcarpet": [
           {
            "colorbar": {
             "outlinewidth": 0,
             "ticks": ""
            },
            "type": "contourcarpet"
           }
          ],
          "heatmap": [
           {
            "colorbar": {
             "outlinewidth": 0,
             "ticks": ""
            },
            "colorscale": [
             [
              0,
              "#0d0887"
             ],
             [
              0.1111111111111111,
              "#46039f"
             ],
             [
              0.2222222222222222,
              "#7201a8"
             ],
             [
              0.3333333333333333,
              "#9c179e"
             ],
             [
              0.4444444444444444,
              "#bd3786"
             ],
             [
              0.5555555555555556,
              "#d8576b"
             ],
             [
              0.6666666666666666,
              "#ed7953"
             ],
             [
              0.7777777777777778,
              "#fb9f3a"
             ],
             [
              0.8888888888888888,
              "#fdca26"
             ],
             [
              1,
              "#f0f921"
             ]
            ],
            "type": "heatmap"
           }
          ],
          "heatmapgl": [
           {
            "colorbar": {
             "outlinewidth": 0,
             "ticks": ""
            },
            "colorscale": [
             [
              0,
              "#0d0887"
             ],
             [
              0.1111111111111111,
              "#46039f"
             ],
             [
              0.2222222222222222,
              "#7201a8"
             ],
             [
              0.3333333333333333,
              "#9c179e"
             ],
             [
              0.4444444444444444,
              "#bd3786"
             ],
             [
              0.5555555555555556,
              "#d8576b"
             ],
             [
              0.6666666666666666,
              "#ed7953"
             ],
             [
              0.7777777777777778,
              "#fb9f3a"
             ],
             [
              0.8888888888888888,
              "#fdca26"
             ],
             [
              1,
              "#f0f921"
             ]
            ],
            "type": "heatmapgl"
           }
          ],
          "histogram": [
           {
            "marker": {
             "pattern": {
              "fillmode": "overlay",
              "size": 10,
              "solidity": 0.2
             }
            },
            "type": "histogram"
           }
          ],
          "histogram2d": [
           {
            "colorbar": {
             "outlinewidth": 0,
             "ticks": ""
            },
            "colorscale": [
             [
              0,
              "#0d0887"
             ],
             [
              0.1111111111111111,
              "#46039f"
             ],
             [
              0.2222222222222222,
              "#7201a8"
             ],
             [
              0.3333333333333333,
              "#9c179e"
             ],
             [
              0.4444444444444444,
              "#bd3786"
             ],
             [
              0.5555555555555556,
              "#d8576b"
             ],
             [
              0.6666666666666666,
              "#ed7953"
             ],
             [
              0.7777777777777778,
              "#fb9f3a"
             ],
             [
              0.8888888888888888,
              "#fdca26"
             ],
             [
              1,
              "#f0f921"
             ]
            ],
            "type": "histogram2d"
           }
          ],
          "histogram2dcontour": [
           {
            "colorbar": {
             "outlinewidth": 0,
             "ticks": ""
            },
            "colorscale": [
             [
              0,
              "#0d0887"
             ],
             [
              0.1111111111111111,
              "#46039f"
             ],
             [
              0.2222222222222222,
              "#7201a8"
             ],
             [
              0.3333333333333333,
              "#9c179e"
             ],
             [
              0.4444444444444444,
              "#bd3786"
             ],
             [
              0.5555555555555556,
              "#d8576b"
             ],
             [
              0.6666666666666666,
              "#ed7953"
             ],
             [
              0.7777777777777778,
              "#fb9f3a"
             ],
             [
              0.8888888888888888,
              "#fdca26"
             ],
             [
              1,
              "#f0f921"
             ]
            ],
            "type": "histogram2dcontour"
           }
          ],
          "mesh3d": [
           {
            "colorbar": {
             "outlinewidth": 0,
             "ticks": ""
            },
            "type": "mesh3d"
           }
          ],
          "parcoords": [
           {
            "line": {
             "colorbar": {
              "outlinewidth": 0,
              "ticks": ""
             }
            },
            "type": "parcoords"
           }
          ],
          "pie": [
           {
            "automargin": true,
            "type": "pie"
           }
          ],
          "scatter": [
           {
            "marker": {
             "line": {
              "color": "#283442"
             }
            },
            "type": "scatter"
           }
          ],
          "scatter3d": [
           {
            "line": {
             "colorbar": {
              "outlinewidth": 0,
              "ticks": ""
             }
            },
            "marker": {
             "colorbar": {
              "outlinewidth": 0,
              "ticks": ""
             }
            },
            "type": "scatter3d"
           }
          ],
          "scattercarpet": [
           {
            "marker": {
             "colorbar": {
              "outlinewidth": 0,
              "ticks": ""
             }
            },
            "type": "scattercarpet"
           }
          ],
          "scattergeo": [
           {
            "marker": {
             "colorbar": {
              "outlinewidth": 0,
              "ticks": ""
             }
            },
            "type": "scattergeo"
           }
          ],
          "scattergl": [
           {
            "marker": {
             "line": {
              "color": "#283442"
             }
            },
            "type": "scattergl"
           }
          ],
          "scattermapbox": [
           {
            "marker": {
             "colorbar": {
              "outlinewidth": 0,
              "ticks": ""
             }
            },
            "type": "scattermapbox"
           }
          ],
          "scatterpolar": [
           {
            "marker": {
             "colorbar": {
              "outlinewidth": 0,
              "ticks": ""
             }
            },
            "type": "scatterpolar"
           }
          ],
          "scatterpolargl": [
           {
            "marker": {
             "colorbar": {
              "outlinewidth": 0,
              "ticks": ""
             }
            },
            "type": "scatterpolargl"
           }
          ],
          "scatterternary": [
           {
            "marker": {
             "colorbar": {
              "outlinewidth": 0,
              "ticks": ""
             }
            },
            "type": "scatterternary"
           }
          ],
          "surface": [
           {
            "colorbar": {
             "outlinewidth": 0,
             "ticks": ""
            },
            "colorscale": [
             [
              0,
              "#0d0887"
             ],
             [
              0.1111111111111111,
              "#46039f"
             ],
             [
              0.2222222222222222,
              "#7201a8"
             ],
             [
              0.3333333333333333,
              "#9c179e"
             ],
             [
              0.4444444444444444,
              "#bd3786"
             ],
             [
              0.5555555555555556,
              "#d8576b"
             ],
             [
              0.6666666666666666,
              "#ed7953"
             ],
             [
              0.7777777777777778,
              "#fb9f3a"
             ],
             [
              0.8888888888888888,
              "#fdca26"
             ],
             [
              1,
              "#f0f921"
             ]
            ],
            "type": "surface"
           }
          ],
          "table": [
           {
            "cells": {
             "fill": {
              "color": "#506784"
             },
             "line": {
              "color": "rgb(17,17,17)"
             }
            },
            "header": {
             "fill": {
              "color": "#2a3f5f"
             },
             "line": {
              "color": "rgb(17,17,17)"
             }
            },
            "type": "table"
           }
          ]
         },
         "layout": {
          "annotationdefaults": {
           "arrowcolor": "#f2f5fa",
           "arrowhead": 0,
           "arrowwidth": 1
          },
          "autotypenumbers": "strict",
          "coloraxis": {
           "colorbar": {
            "outlinewidth": 0,
            "ticks": ""
           }
          },
          "colorscale": {
           "diverging": [
            [
             0,
             "#8e0152"
            ],
            [
             0.1,
             "#c51b7d"
            ],
            [
             0.2,
             "#de77ae"
            ],
            [
             0.3,
             "#f1b6da"
            ],
            [
             0.4,
             "#fde0ef"
            ],
            [
             0.5,
             "#f7f7f7"
            ],
            [
             0.6,
             "#e6f5d0"
            ],
            [
             0.7,
             "#b8e186"
            ],
            [
             0.8,
             "#7fbc41"
            ],
            [
             0.9,
             "#4d9221"
            ],
            [
             1,
             "#276419"
            ]
           ],
           "sequential": [
            [
             0,
             "#0d0887"
            ],
            [
             0.1111111111111111,
             "#46039f"
            ],
            [
             0.2222222222222222,
             "#7201a8"
            ],
            [
             0.3333333333333333,
             "#9c179e"
            ],
            [
             0.4444444444444444,
             "#bd3786"
            ],
            [
             0.5555555555555556,
             "#d8576b"
            ],
            [
             0.6666666666666666,
             "#ed7953"
            ],
            [
             0.7777777777777778,
             "#fb9f3a"
            ],
            [
             0.8888888888888888,
             "#fdca26"
            ],
            [
             1,
             "#f0f921"
            ]
           ],
           "sequentialminus": [
            [
             0,
             "#0d0887"
            ],
            [
             0.1111111111111111,
             "#46039f"
            ],
            [
             0.2222222222222222,
             "#7201a8"
            ],
            [
             0.3333333333333333,
             "#9c179e"
            ],
            [
             0.4444444444444444,
             "#bd3786"
            ],
            [
             0.5555555555555556,
             "#d8576b"
            ],
            [
             0.6666666666666666,
             "#ed7953"
            ],
            [
             0.7777777777777778,
             "#fb9f3a"
            ],
            [
             0.8888888888888888,
             "#fdca26"
            ],
            [
             1,
             "#f0f921"
            ]
           ]
          },
          "colorway": [
           "#636efa",
           "#EF553B",
           "#00cc96",
           "#ab63fa",
           "#FFA15A",
           "#19d3f3",
           "#FF6692",
           "#B6E880",
           "#FF97FF",
           "#FECB52"
          ],
          "font": {
           "color": "#f2f5fa"
          },
          "geo": {
           "bgcolor": "rgb(17,17,17)",
           "lakecolor": "rgb(17,17,17)",
           "landcolor": "rgb(17,17,17)",
           "showlakes": true,
           "showland": true,
           "subunitcolor": "#506784"
          },
          "hoverlabel": {
           "align": "left"
          },
          "hovermode": "closest",
          "mapbox": {
           "style": "dark"
          },
          "paper_bgcolor": "rgb(17,17,17)",
          "plot_bgcolor": "rgb(17,17,17)",
          "polar": {
           "angularaxis": {
            "gridcolor": "#506784",
            "linecolor": "#506784",
            "ticks": ""
           },
           "bgcolor": "rgb(17,17,17)",
           "radialaxis": {
            "gridcolor": "#506784",
            "linecolor": "#506784",
            "ticks": ""
           }
          },
          "scene": {
           "xaxis": {
            "backgroundcolor": "rgb(17,17,17)",
            "gridcolor": "#506784",
            "gridwidth": 2,
            "linecolor": "#506784",
            "showbackground": true,
            "ticks": "",
            "zerolinecolor": "#C8D4E3"
           },
           "yaxis": {
            "backgroundcolor": "rgb(17,17,17)",
            "gridcolor": "#506784",
            "gridwidth": 2,
            "linecolor": "#506784",
            "showbackground": true,
            "ticks": "",
            "zerolinecolor": "#C8D4E3"
           },
           "zaxis": {
            "backgroundcolor": "rgb(17,17,17)",
            "gridcolor": "#506784",
            "gridwidth": 2,
            "linecolor": "#506784",
            "showbackground": true,
            "ticks": "",
            "zerolinecolor": "#C8D4E3"
           }
          },
          "shapedefaults": {
           "line": {
            "color": "#f2f5fa"
           }
          },
          "sliderdefaults": {
           "bgcolor": "#C8D4E3",
           "bordercolor": "rgb(17,17,17)",
           "borderwidth": 1,
           "tickwidth": 0
          },
          "ternary": {
           "aaxis": {
            "gridcolor": "#506784",
            "linecolor": "#506784",
            "ticks": ""
           },
           "baxis": {
            "gridcolor": "#506784",
            "linecolor": "#506784",
            "ticks": ""
           },
           "bgcolor": "rgb(17,17,17)",
           "caxis": {
            "gridcolor": "#506784",
            "linecolor": "#506784",
            "ticks": ""
           }
          },
          "title": {
           "x": 0.05
          },
          "updatemenudefaults": {
           "bgcolor": "#506784",
           "borderwidth": 0
          },
          "xaxis": {
           "automargin": true,
           "gridcolor": "#283442",
           "linecolor": "#506784",
           "ticks": "",
           "title": {
            "standoff": 15
           },
           "zerolinecolor": "#283442",
           "zerolinewidth": 2
          },
          "yaxis": {
           "automargin": true,
           "gridcolor": "#283442",
           "linecolor": "#506784",
           "ticks": "",
           "title": {
            "standoff": 15
           },
           "zerolinecolor": "#283442",
           "zerolinewidth": 2
          }
         }
        },
        "title": {
         "text": "BTCUSDT"
        },
        "xaxis": {
         "anchor": "y",
         "domain": [
          0,
          1
         ],
         "title": {
          "text": "x"
         }
        },
        "yaxis": {
         "anchor": "x",
         "domain": [
          0,
          1
         ],
         "title": {
          "text": "close price $"
         }
        }
       }
      }
     },
     "metadata": {},
     "output_type": "display_data"
    },
    {
     "name": "stdout",
     "output_type": "stream",
     "text": [
      "| timestamp           |   close |   close_lag_1 |   close_lag_3 |   close_lag_5 |     ma7 |    ma30 |    std7 |   price_change_1d |   price_change_7d |     rsi |\n",
      "|:--------------------|--------:|--------------:|--------------:|--------------:|--------:|--------:|--------:|------------------:|------------------:|--------:|\n",
      "| 2025-04-17 00:00:00 |  590.49 |        582.8  |        584.54 |        597.29 | 586.407 | 600.053 | 5.82794 |       0.0131949   |        0.021556   | 49.1644 |\n",
      "| 2025-04-18 00:00:00 |  590.54 |        590.49 |        579.52 |        584.28 | 587.066 | 599.114 | 6.02226 |       8.46754e-05 |        0.00786783 | 47.1423 |\n",
      "x shape (1647, 1080)\n",
      "y shape (1647, 30)\n",
      "\n",
      "--- Training multi output XGB regressor ---\n",
      "...\n",
      "\n",
      "---Evaluating model ---\n",
      "--- BNBUSDT ---\n",
      "multi step model MAE: 141.15\n",
      "multi step model MSE: 26788.53\n",
      "multi step model R2: -6.54\n"
     ]
    },
    {
     "data": {
      "application/vnd.plotly.v1+json": {
       "config": {
        "plotlyServerURL": "https://plot.ly"
       },
       "data": [
        {
         "hovertemplate": "variable=close<br>x=%{x}<br>close price $=%{y}<extra></extra>",
         "legendgroup": "close",
         "line": {
          "color": "#636efa",
          "dash": "solid"
         },
         "marker": {
          "symbol": "circle"
         },
         "mode": "lines",
         "name": "close",
         "orientation": "v",
         "showlegend": true,
         "type": "scatter",
         "x": [
          "2024-05-24T00:00:00",
          "2024-05-25T00:00:00",
          "2024-05-26T00:00:00",
          "2024-05-27T00:00:00",
          "2024-05-28T00:00:00",
          "2024-05-29T00:00:00",
          "2024-05-30T00:00:00",
          "2024-05-31T00:00:00",
          "2024-06-01T00:00:00",
          "2024-06-02T00:00:00",
          "2024-06-03T00:00:00",
          "2024-06-04T00:00:00",
          "2024-06-05T00:00:00",
          "2024-06-06T00:00:00",
          "2024-06-07T00:00:00",
          "2024-06-08T00:00:00",
          "2024-06-09T00:00:00",
          "2024-06-10T00:00:00",
          "2024-06-11T00:00:00",
          "2024-06-12T00:00:00",
          "2024-06-13T00:00:00",
          "2024-06-14T00:00:00",
          "2024-06-15T00:00:00",
          "2024-06-16T00:00:00",
          "2024-06-17T00:00:00",
          "2024-06-18T00:00:00",
          "2024-06-19T00:00:00",
          "2024-06-20T00:00:00",
          "2024-06-21T00:00:00",
          "2024-06-22T00:00:00",
          "2024-06-23T00:00:00",
          "2024-06-24T00:00:00",
          "2024-06-25T00:00:00",
          "2024-06-26T00:00:00",
          "2024-06-27T00:00:00",
          "2024-06-28T00:00:00",
          "2024-06-29T00:00:00",
          "2024-06-30T00:00:00",
          "2024-07-01T00:00:00",
          "2024-07-02T00:00:00",
          "2024-07-03T00:00:00",
          "2024-07-04T00:00:00",
          "2024-07-05T00:00:00",
          "2024-07-06T00:00:00",
          "2024-07-07T00:00:00",
          "2024-07-08T00:00:00",
          "2024-07-09T00:00:00",
          "2024-07-10T00:00:00",
          "2024-07-11T00:00:00",
          "2024-07-12T00:00:00",
          "2024-07-13T00:00:00",
          "2024-07-14T00:00:00",
          "2024-07-15T00:00:00",
          "2024-07-16T00:00:00",
          "2024-07-17T00:00:00",
          "2024-07-18T00:00:00",
          "2024-07-19T00:00:00",
          "2024-07-20T00:00:00",
          "2024-07-21T00:00:00",
          "2024-07-22T00:00:00",
          "2024-07-23T00:00:00",
          "2024-07-24T00:00:00",
          "2024-07-25T00:00:00",
          "2024-07-26T00:00:00",
          "2024-07-27T00:00:00",
          "2024-07-28T00:00:00",
          "2024-07-29T00:00:00",
          "2024-07-30T00:00:00",
          "2024-07-31T00:00:00",
          "2024-08-01T00:00:00",
          "2024-08-02T00:00:00",
          "2024-08-03T00:00:00",
          "2024-08-04T00:00:00",
          "2024-08-05T00:00:00",
          "2024-08-06T00:00:00",
          "2024-08-07T00:00:00",
          "2024-08-08T00:00:00",
          "2024-08-09T00:00:00",
          "2024-08-10T00:00:00",
          "2024-08-11T00:00:00",
          "2024-08-12T00:00:00",
          "2024-08-13T00:00:00",
          "2024-08-14T00:00:00",
          "2024-08-15T00:00:00",
          "2024-08-16T00:00:00",
          "2024-08-17T00:00:00",
          "2024-08-18T00:00:00",
          "2024-08-19T00:00:00",
          "2024-08-20T00:00:00",
          "2024-08-21T00:00:00",
          "2024-08-22T00:00:00",
          "2024-08-23T00:00:00",
          "2024-08-24T00:00:00",
          "2024-08-25T00:00:00",
          "2024-08-26T00:00:00",
          "2024-08-27T00:00:00",
          "2024-08-28T00:00:00",
          "2024-08-29T00:00:00",
          "2024-08-30T00:00:00",
          "2024-08-31T00:00:00",
          "2024-09-01T00:00:00",
          "2024-09-02T00:00:00",
          "2024-09-03T00:00:00",
          "2024-09-04T00:00:00",
          "2024-09-05T00:00:00",
          "2024-09-06T00:00:00",
          "2024-09-07T00:00:00",
          "2024-09-08T00:00:00",
          "2024-09-09T00:00:00",
          "2024-09-10T00:00:00",
          "2024-09-11T00:00:00",
          "2024-09-12T00:00:00",
          "2024-09-13T00:00:00",
          "2024-09-14T00:00:00",
          "2024-09-15T00:00:00",
          "2024-09-16T00:00:00",
          "2024-09-17T00:00:00",
          "2024-09-18T00:00:00",
          "2024-09-19T00:00:00",
          "2024-09-20T00:00:00",
          "2024-09-21T00:00:00",
          "2024-09-22T00:00:00",
          "2024-09-23T00:00:00",
          "2024-09-24T00:00:00",
          "2024-09-25T00:00:00",
          "2024-09-26T00:00:00",
          "2024-09-27T00:00:00",
          "2024-09-28T00:00:00",
          "2024-09-29T00:00:00",
          "2024-09-30T00:00:00",
          "2024-10-01T00:00:00",
          "2024-10-02T00:00:00",
          "2024-10-03T00:00:00",
          "2024-10-04T00:00:00",
          "2024-10-05T00:00:00",
          "2024-10-06T00:00:00",
          "2024-10-07T00:00:00",
          "2024-10-08T00:00:00",
          "2024-10-09T00:00:00",
          "2024-10-10T00:00:00",
          "2024-10-11T00:00:00",
          "2024-10-12T00:00:00",
          "2024-10-13T00:00:00",
          "2024-10-14T00:00:00",
          "2024-10-15T00:00:00",
          "2024-10-16T00:00:00",
          "2024-10-17T00:00:00",
          "2024-10-18T00:00:00",
          "2024-10-19T00:00:00",
          "2024-10-20T00:00:00",
          "2024-10-21T00:00:00",
          "2024-10-22T00:00:00",
          "2024-10-23T00:00:00",
          "2024-10-24T00:00:00",
          "2024-10-25T00:00:00",
          "2024-10-26T00:00:00",
          "2024-10-27T00:00:00",
          "2024-10-28T00:00:00",
          "2024-10-29T00:00:00",
          "2024-10-30T00:00:00",
          "2024-10-31T00:00:00",
          "2024-11-01T00:00:00",
          "2024-11-02T00:00:00",
          "2024-11-03T00:00:00",
          "2024-11-04T00:00:00",
          "2024-11-05T00:00:00",
          "2024-11-06T00:00:00",
          "2024-11-07T00:00:00",
          "2024-11-08T00:00:00",
          "2024-11-09T00:00:00",
          "2024-11-10T00:00:00",
          "2024-11-11T00:00:00",
          "2024-11-12T00:00:00",
          "2024-11-13T00:00:00",
          "2024-11-14T00:00:00",
          "2024-11-15T00:00:00",
          "2024-11-16T00:00:00",
          "2024-11-17T00:00:00",
          "2024-11-18T00:00:00",
          "2024-11-19T00:00:00",
          "2024-11-20T00:00:00",
          "2024-11-21T00:00:00",
          "2024-11-22T00:00:00",
          "2024-11-23T00:00:00",
          "2024-11-24T00:00:00",
          "2024-11-25T00:00:00",
          "2024-11-26T00:00:00",
          "2024-11-27T00:00:00",
          "2024-11-28T00:00:00",
          "2024-11-29T00:00:00",
          "2024-11-30T00:00:00",
          "2024-12-01T00:00:00",
          "2024-12-02T00:00:00",
          "2024-12-03T00:00:00",
          "2024-12-04T00:00:00",
          "2024-12-05T00:00:00",
          "2024-12-06T00:00:00",
          "2024-12-07T00:00:00",
          "2024-12-08T00:00:00",
          "2024-12-09T00:00:00",
          "2024-12-10T00:00:00",
          "2024-12-11T00:00:00",
          "2024-12-12T00:00:00",
          "2024-12-13T00:00:00",
          "2024-12-14T00:00:00",
          "2024-12-15T00:00:00",
          "2024-12-16T00:00:00",
          "2024-12-17T00:00:00",
          "2024-12-18T00:00:00",
          "2024-12-19T00:00:00",
          "2024-12-20T00:00:00",
          "2024-12-21T00:00:00",
          "2024-12-22T00:00:00",
          "2024-12-23T00:00:00",
          "2024-12-24T00:00:00",
          "2024-12-25T00:00:00",
          "2024-12-26T00:00:00",
          "2024-12-27T00:00:00",
          "2024-12-28T00:00:00",
          "2024-12-29T00:00:00",
          "2024-12-30T00:00:00",
          "2024-12-31T00:00:00",
          "2025-01-01T00:00:00",
          "2025-01-02T00:00:00",
          "2025-01-03T00:00:00",
          "2025-01-04T00:00:00",
          "2025-01-05T00:00:00",
          "2025-01-06T00:00:00",
          "2025-01-07T00:00:00",
          "2025-01-08T00:00:00",
          "2025-01-09T00:00:00",
          "2025-01-10T00:00:00",
          "2025-01-11T00:00:00",
          "2025-01-12T00:00:00",
          "2025-01-13T00:00:00",
          "2025-01-14T00:00:00",
          "2025-01-15T00:00:00",
          "2025-01-16T00:00:00",
          "2025-01-17T00:00:00",
          "2025-01-18T00:00:00",
          "2025-01-19T00:00:00",
          "2025-01-20T00:00:00",
          "2025-01-21T00:00:00",
          "2025-01-22T00:00:00",
          "2025-01-23T00:00:00",
          "2025-01-24T00:00:00",
          "2025-01-25T00:00:00",
          "2025-01-26T00:00:00",
          "2025-01-27T00:00:00",
          "2025-01-28T00:00:00",
          "2025-01-29T00:00:00",
          "2025-01-30T00:00:00",
          "2025-01-31T00:00:00",
          "2025-02-01T00:00:00",
          "2025-02-02T00:00:00",
          "2025-02-03T00:00:00",
          "2025-02-04T00:00:00",
          "2025-02-05T00:00:00",
          "2025-02-06T00:00:00",
          "2025-02-07T00:00:00",
          "2025-02-08T00:00:00",
          "2025-02-09T00:00:00",
          "2025-02-10T00:00:00",
          "2025-02-11T00:00:00",
          "2025-02-12T00:00:00",
          "2025-02-13T00:00:00",
          "2025-02-14T00:00:00",
          "2025-02-15T00:00:00",
          "2025-02-16T00:00:00",
          "2025-02-17T00:00:00",
          "2025-02-18T00:00:00",
          "2025-02-19T00:00:00",
          "2025-02-20T00:00:00",
          "2025-02-21T00:00:00",
          "2025-02-22T00:00:00",
          "2025-02-23T00:00:00",
          "2025-02-24T00:00:00",
          "2025-02-25T00:00:00",
          "2025-02-26T00:00:00",
          "2025-02-27T00:00:00",
          "2025-02-28T00:00:00",
          "2025-03-01T00:00:00",
          "2025-03-02T00:00:00",
          "2025-03-03T00:00:00",
          "2025-03-04T00:00:00",
          "2025-03-05T00:00:00",
          "2025-03-06T00:00:00",
          "2025-03-07T00:00:00",
          "2025-03-08T00:00:00",
          "2025-03-09T00:00:00",
          "2025-03-10T00:00:00",
          "2025-03-11T00:00:00",
          "2025-03-12T00:00:00",
          "2025-03-13T00:00:00",
          "2025-03-14T00:00:00",
          "2025-03-15T00:00:00",
          "2025-03-16T00:00:00",
          "2025-03-17T00:00:00",
          "2025-03-18T00:00:00",
          "2025-03-19T00:00:00",
          "2025-03-20T00:00:00",
          "2025-03-21T00:00:00",
          "2025-03-22T00:00:00",
          "2025-03-23T00:00:00",
          "2025-03-24T00:00:00",
          "2025-03-25T00:00:00",
          "2025-03-26T00:00:00",
          "2025-03-27T00:00:00",
          "2025-03-28T00:00:00",
          "2025-03-29T00:00:00",
          "2025-03-30T00:00:00",
          "2025-03-31T00:00:00",
          "2025-04-01T00:00:00",
          "2025-04-02T00:00:00",
          "2025-04-03T00:00:00",
          "2025-04-04T00:00:00",
          "2025-04-05T00:00:00",
          "2025-04-06T00:00:00",
          "2025-04-07T00:00:00",
          "2025-04-08T00:00:00",
          "2025-04-09T00:00:00",
          "2025-04-10T00:00:00",
          "2025-04-11T00:00:00",
          "2025-04-12T00:00:00",
          "2025-04-13T00:00:00",
          "2025-04-14T00:00:00",
          "2025-04-15T00:00:00",
          "2025-04-16T00:00:00",
          "2025-04-17T00:00:00",
          "2025-04-18T00:00:00"
         ],
         "xaxis": "x",
         "y": [
          613.2,
          598,
          596.2,
          600.2,
          592.8,
          578.4,
          561.8,
          560.5,
          587,
          585.7,
          592,
          588.2,
          576.5,
          588.6,
          596.8,
          585.6,
          592.2,
          594.8,
          591.7,
          567.1,
          581,
          569.2,
          580.9,
          580.3,
          574.5,
          599.6,
          618.5,
          614.8,
          599.3,
          600.3,
          602.4,
          600.2,
          603.9,
          601.7,
          595.7,
          595.1,
          593.7,
          601.9,
          602.9,
          626.4,
          685.7,
          698.8,
          711.2,
          684,
          682.7,
          673,
          625.1,
          602.5,
          619.4,
          599.8,
          603.3,
          608.2,
          610.8,
          604.3,
          588.6,
          599.3,
          587.7,
          586.1,
          591.1,
          577.5,
          568.1,
          578.2,
          573,
          581.7,
          567.4,
          570,
          582.2,
          576.9,
          580.1,
          556.7,
          513.6,
          497.7,
          526,
          490.7,
          510.6,
          516.9,
          524.7,
          524.8,
          533.8,
          532.4,
          544.8,
          585.3,
          576.2,
          568.9,
          571.9,
          593.4,
          593.1,
          602.5,
          587.2,
          581.9,
          574.9,
          570.6,
          580.9,
          581.6,
          583.9,
          574.3,
          588.2,
          576.5,
          575.1,
          542.9,
          529.6,
          496.9,
          464.2,
          484.8,
          475,
          517.1,
          508.7,
          523.1,
          503.4,
          518.2,
          524.2,
          523.4,
          519.2,
          519.7,
          541.6,
          531.2,
          558.4,
          569.4,
          570.1,
          582.9,
          591.7,
          580.5,
          573.9,
          548.2,
          533.3,
          537,
          536.4,
          535.2,
          532.9,
          512.4,
          526.3,
          518.7,
          507.6,
          502.4,
          487.2,
          493.5,
          503.1,
          518.7,
          517,
          530.1,
          544.5,
          556.4,
          553.3,
          553.4,
          533.7,
          546.2,
          559.5,
          567,
          569,
          588.6,
          588.7,
          604.5,
          605.9,
          587.4,
          596.3,
          606.8,
          601.1,
          595.6,
          567.4,
          547.3,
          542.5,
          544.8,
          555.3,
          563,
          570.3,
          564.3,
          580.8,
          570.7,
          563.9,
          573.6,
          576.6,
          572.2,
          589.1,
          594.5,
          600.9,
          592.9,
          599.2,
          597.7,
          605.9,
          598.8,
          593.8,
          584.9,
          594.5,
          575.3,
          583.4,
          589.2,
          601.1,
          606.3,
          595.6,
          576.6,
          573.1,
          568.6,
          557.7,
          552.5,
          563.21,
          592.22,
          598.26,
          597.82,
          624.66,
          627.33,
          659.63,
          625.33,
          620.68,
          622.3,
          619.37,
          622.69,
          618.9,
          618.93,
          615.5,
          605.39,
          621.86,
          633,
          650.42,
          659.65,
          636.2,
          613.51,
          644.14,
          653.83,
          654.67,
          653.43,
          655.99,
          647.82,
          734.64,
          739.53,
          717.1,
          730.22,
          749.72,
          742,
          689.19,
          676.8,
          711.21,
          705.77,
          725.72,
          715.79,
          718.87,
          720.58,
          717.69,
          686.38,
          665.62,
          678.6,
          663.49,
          649.77,
          694.16,
          696.9,
          702.72,
          689.4,
          691.85,
          722.13,
          694.71,
          705.36,
          702.3,
          707.84,
          706.25,
          714.88,
          713.41,
          709.29,
          729.42,
          698.01,
          696.03,
          685.48,
          693.21,
          696.7,
          693.34,
          688.64,
          698.89,
          714.59,
          708.1,
          721.76,
          709.52,
          683.19,
          682.51,
          692.21,
          695.52,
          689.74,
          680.45,
          686.4,
          667.37,
          679.74,
          661.29,
          667.97,
          677.53,
          677.47,
          652.94,
          617.8,
          617.21,
          572.69,
          569.55,
          571.72,
          577.71,
          612.39,
          615.81,
          618.65,
          642.11,
          696.93,
          664.72,
          659.71,
          662.21,
          673.1,
          667.51,
          648.18,
          653.38,
          656.36,
          647.47,
          668.57,
          658.42,
          614.2,
          623.49,
          611.57,
          605.41,
          588.07,
          607.93,
          623.94,
          576.1,
          584.01,
          598.24,
          596.5,
          594.77,
          593.1,
          554.65,
          531.49,
          551.61,
          569.87,
          579.8,
          587.76,
          619.83,
          602.2,
          631.69,
          627.81,
          618.7,
          630.47
         ],
         "yaxis": "y"
        },
        {
         "hovertemplate": "variable=predictions<br>x=%{x}<br>close price $=%{y}<extra></extra>",
         "legendgroup": "predictions",
         "line": {
          "color": "#EF553B",
          "dash": "solid"
         },
         "marker": {
          "symbol": "circle"
         },
         "mode": "lines",
         "name": "predictions",
         "orientation": "v",
         "showlegend": true,
         "type": "scatter",
         "x": [
          "2024-05-24T00:00:00",
          "2024-05-25T00:00:00",
          "2024-05-26T00:00:00",
          "2024-05-27T00:00:00",
          "2024-05-28T00:00:00",
          "2024-05-29T00:00:00",
          "2024-05-30T00:00:00",
          "2024-05-31T00:00:00",
          "2024-06-01T00:00:00",
          "2024-06-02T00:00:00",
          "2024-06-03T00:00:00",
          "2024-06-04T00:00:00",
          "2024-06-05T00:00:00",
          "2024-06-06T00:00:00",
          "2024-06-07T00:00:00",
          "2024-06-08T00:00:00",
          "2024-06-09T00:00:00",
          "2024-06-10T00:00:00",
          "2024-06-11T00:00:00",
          "2024-06-12T00:00:00",
          "2024-06-13T00:00:00",
          "2024-06-14T00:00:00",
          "2024-06-15T00:00:00",
          "2024-06-16T00:00:00",
          "2024-06-17T00:00:00",
          "2024-06-18T00:00:00",
          "2024-06-19T00:00:00",
          "2024-06-20T00:00:00",
          "2024-06-21T00:00:00",
          "2024-06-22T00:00:00",
          "2024-06-23T00:00:00",
          "2024-06-24T00:00:00",
          "2024-06-25T00:00:00",
          "2024-06-26T00:00:00",
          "2024-06-27T00:00:00",
          "2024-06-28T00:00:00",
          "2024-06-29T00:00:00",
          "2024-06-30T00:00:00",
          "2024-07-01T00:00:00",
          "2024-07-02T00:00:00",
          "2024-07-03T00:00:00",
          "2024-07-04T00:00:00",
          "2024-07-05T00:00:00",
          "2024-07-06T00:00:00",
          "2024-07-07T00:00:00",
          "2024-07-08T00:00:00",
          "2024-07-09T00:00:00",
          "2024-07-10T00:00:00",
          "2024-07-11T00:00:00",
          "2024-07-12T00:00:00",
          "2024-07-13T00:00:00",
          "2024-07-14T00:00:00",
          "2024-07-15T00:00:00",
          "2024-07-16T00:00:00",
          "2024-07-17T00:00:00",
          "2024-07-18T00:00:00",
          "2024-07-19T00:00:00",
          "2024-07-20T00:00:00",
          "2024-07-21T00:00:00",
          "2024-07-22T00:00:00",
          "2024-07-23T00:00:00",
          "2024-07-24T00:00:00",
          "2024-07-25T00:00:00",
          "2024-07-26T00:00:00",
          "2024-07-27T00:00:00",
          "2024-07-28T00:00:00",
          "2024-07-29T00:00:00",
          "2024-07-30T00:00:00",
          "2024-07-31T00:00:00",
          "2024-08-01T00:00:00",
          "2024-08-02T00:00:00",
          "2024-08-03T00:00:00",
          "2024-08-04T00:00:00",
          "2024-08-05T00:00:00",
          "2024-08-06T00:00:00",
          "2024-08-07T00:00:00",
          "2024-08-08T00:00:00",
          "2024-08-09T00:00:00",
          "2024-08-10T00:00:00",
          "2024-08-11T00:00:00",
          "2024-08-12T00:00:00",
          "2024-08-13T00:00:00",
          "2024-08-14T00:00:00",
          "2024-08-15T00:00:00",
          "2024-08-16T00:00:00",
          "2024-08-17T00:00:00",
          "2024-08-18T00:00:00",
          "2024-08-19T00:00:00",
          "2024-08-20T00:00:00",
          "2024-08-21T00:00:00",
          "2024-08-22T00:00:00",
          "2024-08-23T00:00:00",
          "2024-08-24T00:00:00",
          "2024-08-25T00:00:00",
          "2024-08-26T00:00:00",
          "2024-08-27T00:00:00",
          "2024-08-28T00:00:00",
          "2024-08-29T00:00:00",
          "2024-08-30T00:00:00",
          "2024-08-31T00:00:00",
          "2024-09-01T00:00:00",
          "2024-09-02T00:00:00",
          "2024-09-03T00:00:00",
          "2024-09-04T00:00:00",
          "2024-09-05T00:00:00",
          "2024-09-06T00:00:00",
          "2024-09-07T00:00:00",
          "2024-09-08T00:00:00",
          "2024-09-09T00:00:00",
          "2024-09-10T00:00:00",
          "2024-09-11T00:00:00",
          "2024-09-12T00:00:00",
          "2024-09-13T00:00:00",
          "2024-09-14T00:00:00",
          "2024-09-15T00:00:00",
          "2024-09-16T00:00:00",
          "2024-09-17T00:00:00",
          "2024-09-18T00:00:00",
          "2024-09-19T00:00:00",
          "2024-09-20T00:00:00",
          "2024-09-21T00:00:00",
          "2024-09-22T00:00:00",
          "2024-09-23T00:00:00",
          "2024-09-24T00:00:00",
          "2024-09-25T00:00:00",
          "2024-09-26T00:00:00",
          "2024-09-27T00:00:00",
          "2024-09-28T00:00:00",
          "2024-09-29T00:00:00",
          "2024-09-30T00:00:00",
          "2024-10-01T00:00:00",
          "2024-10-02T00:00:00",
          "2024-10-03T00:00:00",
          "2024-10-04T00:00:00",
          "2024-10-05T00:00:00",
          "2024-10-06T00:00:00",
          "2024-10-07T00:00:00",
          "2024-10-08T00:00:00",
          "2024-10-09T00:00:00",
          "2024-10-10T00:00:00",
          "2024-10-11T00:00:00",
          "2024-10-12T00:00:00",
          "2024-10-13T00:00:00",
          "2024-10-14T00:00:00",
          "2024-10-15T00:00:00",
          "2024-10-16T00:00:00",
          "2024-10-17T00:00:00",
          "2024-10-18T00:00:00",
          "2024-10-19T00:00:00",
          "2024-10-20T00:00:00",
          "2024-10-21T00:00:00",
          "2024-10-22T00:00:00",
          "2024-10-23T00:00:00",
          "2024-10-24T00:00:00",
          "2024-10-25T00:00:00",
          "2024-10-26T00:00:00",
          "2024-10-27T00:00:00",
          "2024-10-28T00:00:00",
          "2024-10-29T00:00:00",
          "2024-10-30T00:00:00",
          "2024-10-31T00:00:00",
          "2024-11-01T00:00:00",
          "2024-11-02T00:00:00",
          "2024-11-03T00:00:00",
          "2024-11-04T00:00:00",
          "2024-11-05T00:00:00",
          "2024-11-06T00:00:00",
          "2024-11-07T00:00:00",
          "2024-11-08T00:00:00",
          "2024-11-09T00:00:00",
          "2024-11-10T00:00:00",
          "2024-11-11T00:00:00",
          "2024-11-12T00:00:00",
          "2024-11-13T00:00:00",
          "2024-11-14T00:00:00",
          "2024-11-15T00:00:00",
          "2024-11-16T00:00:00",
          "2024-11-17T00:00:00",
          "2024-11-18T00:00:00",
          "2024-11-19T00:00:00",
          "2024-11-20T00:00:00",
          "2024-11-21T00:00:00",
          "2024-11-22T00:00:00",
          "2024-11-23T00:00:00",
          "2024-11-24T00:00:00",
          "2024-11-25T00:00:00",
          "2024-11-26T00:00:00",
          "2024-11-27T00:00:00",
          "2024-11-28T00:00:00",
          "2024-11-29T00:00:00",
          "2024-11-30T00:00:00",
          "2024-12-01T00:00:00",
          "2024-12-02T00:00:00",
          "2024-12-03T00:00:00",
          "2024-12-04T00:00:00",
          "2024-12-05T00:00:00",
          "2024-12-06T00:00:00",
          "2024-12-07T00:00:00",
          "2024-12-08T00:00:00",
          "2024-12-09T00:00:00",
          "2024-12-10T00:00:00",
          "2024-12-11T00:00:00",
          "2024-12-12T00:00:00",
          "2024-12-13T00:00:00",
          "2024-12-14T00:00:00",
          "2024-12-15T00:00:00",
          "2024-12-16T00:00:00",
          "2024-12-17T00:00:00",
          "2024-12-18T00:00:00",
          "2024-12-19T00:00:00",
          "2024-12-20T00:00:00",
          "2024-12-21T00:00:00",
          "2024-12-22T00:00:00",
          "2024-12-23T00:00:00",
          "2024-12-24T00:00:00",
          "2024-12-25T00:00:00",
          "2024-12-26T00:00:00",
          "2024-12-27T00:00:00",
          "2024-12-28T00:00:00",
          "2024-12-29T00:00:00",
          "2024-12-30T00:00:00",
          "2024-12-31T00:00:00",
          "2025-01-01T00:00:00",
          "2025-01-02T00:00:00",
          "2025-01-03T00:00:00",
          "2025-01-04T00:00:00",
          "2025-01-05T00:00:00",
          "2025-01-06T00:00:00",
          "2025-01-07T00:00:00",
          "2025-01-08T00:00:00",
          "2025-01-09T00:00:00",
          "2025-01-10T00:00:00",
          "2025-01-11T00:00:00",
          "2025-01-12T00:00:00",
          "2025-01-13T00:00:00",
          "2025-01-14T00:00:00",
          "2025-01-15T00:00:00",
          "2025-01-16T00:00:00",
          "2025-01-17T00:00:00",
          "2025-01-18T00:00:00",
          "2025-01-19T00:00:00",
          "2025-01-20T00:00:00",
          "2025-01-21T00:00:00",
          "2025-01-22T00:00:00",
          "2025-01-23T00:00:00",
          "2025-01-24T00:00:00",
          "2025-01-25T00:00:00",
          "2025-01-26T00:00:00",
          "2025-01-27T00:00:00",
          "2025-01-28T00:00:00",
          "2025-01-29T00:00:00",
          "2025-01-30T00:00:00",
          "2025-01-31T00:00:00",
          "2025-02-01T00:00:00",
          "2025-02-02T00:00:00",
          "2025-02-03T00:00:00",
          "2025-02-04T00:00:00",
          "2025-02-05T00:00:00",
          "2025-02-06T00:00:00",
          "2025-02-07T00:00:00",
          "2025-02-08T00:00:00",
          "2025-02-09T00:00:00",
          "2025-02-10T00:00:00",
          "2025-02-11T00:00:00",
          "2025-02-12T00:00:00",
          "2025-02-13T00:00:00",
          "2025-02-14T00:00:00",
          "2025-02-15T00:00:00",
          "2025-02-16T00:00:00",
          "2025-02-17T00:00:00",
          "2025-02-18T00:00:00",
          "2025-02-19T00:00:00",
          "2025-02-20T00:00:00",
          "2025-02-21T00:00:00",
          "2025-02-22T00:00:00",
          "2025-02-23T00:00:00",
          "2025-02-24T00:00:00",
          "2025-02-25T00:00:00",
          "2025-02-26T00:00:00",
          "2025-02-27T00:00:00",
          "2025-02-28T00:00:00",
          "2025-03-01T00:00:00",
          "2025-03-02T00:00:00",
          "2025-03-03T00:00:00",
          "2025-03-04T00:00:00",
          "2025-03-05T00:00:00",
          "2025-03-06T00:00:00",
          "2025-03-07T00:00:00",
          "2025-03-08T00:00:00",
          "2025-03-09T00:00:00",
          "2025-03-10T00:00:00",
          "2025-03-11T00:00:00",
          "2025-03-12T00:00:00",
          "2025-03-13T00:00:00",
          "2025-03-14T00:00:00",
          "2025-03-15T00:00:00",
          "2025-03-16T00:00:00",
          "2025-03-17T00:00:00",
          "2025-03-18T00:00:00",
          "2025-03-19T00:00:00",
          "2025-03-20T00:00:00",
          "2025-03-21T00:00:00",
          "2025-03-22T00:00:00",
          "2025-03-23T00:00:00",
          "2025-03-24T00:00:00",
          "2025-03-25T00:00:00",
          "2025-03-26T00:00:00",
          "2025-03-27T00:00:00",
          "2025-03-28T00:00:00",
          "2025-03-29T00:00:00",
          "2025-03-30T00:00:00",
          "2025-03-31T00:00:00",
          "2025-04-01T00:00:00",
          "2025-04-02T00:00:00",
          "2025-04-03T00:00:00",
          "2025-04-04T00:00:00",
          "2025-04-05T00:00:00",
          "2025-04-06T00:00:00",
          "2025-04-07T00:00:00",
          "2025-04-08T00:00:00",
          "2025-04-09T00:00:00",
          "2025-04-10T00:00:00",
          "2025-04-11T00:00:00",
          "2025-04-12T00:00:00",
          "2025-04-13T00:00:00",
          "2025-04-14T00:00:00",
          "2025-04-15T00:00:00",
          "2025-04-16T00:00:00",
          "2025-04-17T00:00:00",
          "2025-04-18T00:00:00"
         ],
         "xaxis": "x",
         "y": [
          578.996826171875,
          584.273193359375,
          584.4874267578125,
          583.8836669921875,
          574.7701416015625,
          560.2832641601562,
          569.0220947265625,
          576.9494018554688,
          570.2046508789062,
          567.6114501953125,
          578.8541870117188,
          574.2097778320312,
          570.6201782226562,
          562.3071899414062,
          570.5946655273438,
          574.6943359375,
          569.33837890625,
          570.6383056640625,
          576.31787109375,
          578.7395629882812,
          578.2064819335938,
          577.2703247070312,
          568.0819702148438,
          584.7533569335938,
          600.5564575195312,
          598.3052368164062,
          603.9116821289062,
          611.072265625,
          614.7190551757812,
          597.8053588867188,
          591.8964233398438,
          588.6130981445312,
          581.2627563476562,
          576.5712890625,
          579.8483276367188,
          581.3822631835938,
          577.6112060546875,
          580.77099609375,
          586.177001953125,
          587.470458984375,
          588.6852416992188,
          598.447021484375,
          599.4560546875,
          585.5753173828125,
          574.017578125,
          581.7821655273438,
          569.16748046875,
          573.4110107421875,
          584.6880493164062,
          573.601318359375,
          564.51220703125,
          572.8565063476562,
          565.1806640625,
          573.8582763671875,
          581.34814453125,
          576.3750610351562,
          586.814453125,
          578.609619140625,
          575.1058349609375,
          575.3685913085938,
          558.3082275390625,
          554.1243896484375,
          564.9562377929688,
          560.9909057617188,
          576.6744384765625,
          568.5565185546875,
          556.5769653320312,
          566.4645385742188,
          544.07568359375,
          549.6788940429688,
          531.0350952148438,
          520.68994140625,
          486.01214599609375,
          504.68450927734375,
          504.9745788574219,
          504.2555847167969,
          482.50634765625,
          482.4866943359375,
          518.4049072265625,
          525.142822265625,
          521.0252075195312,
          524.6045532226562,
          525.094970703125,
          531.5107421875,
          528.0036010742188,
          539.0853881835938,
          541.4723510742188,
          538.8768310546875,
          543.8900756835938,
          539.7881469726562,
          543.878173828125,
          541.357177734375,
          543.3973388671875,
          540.2255249023438,
          541.2274169921875,
          537.2213134765625,
          534.0701904296875,
          532.2548828125,
          527.0557861328125,
          533.773681640625,
          515.0588989257812,
          514.11376953125,
          514.8667602539062,
          481.309814453125,
          488.08673095703125,
          477.0797119140625,
          490.404052734375,
          479.0766296386719,
          501.72735595703125,
          510.796875,
          505.8901062011719,
          476.0946960449219,
          531.079345703125,
          538.8681640625,
          508.5553894042969,
          519.696533203125,
          547.1928100585938,
          542.4916381835938,
          563.2130737304688,
          556.6973266601562,
          550.8307495117188,
          556.892333984375,
          549.9611206054688,
          548.624755859375,
          522.1517944335938,
          518.7094116210938,
          521.589111328125,
          527.7136840820312,
          520.188232421875,
          515.3202514648438,
          503.93243408203125,
          498.4646301269531,
          519.5374145507812,
          490.2841491699219,
          492.3576965332031,
          474.0752258300781,
          482.9674987792969,
          484.0945739746094,
          490.070556640625,
          477.0872497558594,
          511.4342041015625,
          536.9505615234375,
          558.61181640625,
          551.9928588867188,
          554.7545776367188,
          548.5032348632812,
          545.4954223632812,
          551.6078491210938,
          558.977783203125,
          550.0690307617188,
          544.4280395507812,
          553.1851806640625,
          556.783203125,
          553.6209716796875,
          545.3677368164062,
          544.5582885742188,
          545.9059448242188,
          537.3439331054688,
          535.0225219726562,
          524.7918090820312,
          515.5343627929688,
          521.1907348632812,
          530.2500610351562,
          546.3365478515625,
          552.0780029296875,
          544.2003173828125,
          535.783935546875,
          550.46337890625,
          566.5469970703125,
          558.1594848632812,
          560.1970825195312,
          574.3330688476562,
          583.0343627929688,
          582.9622192382812,
          584.0712890625,
          582.183837890625,
          580.397705078125,
          573.7496948242188,
          574.623046875,
          587.7393188476562,
          573.394775390625,
          554.2903442382812,
          547.6874389648438,
          550.1019287109375,
          540.2415161132812,
          539.6660766601562,
          540.9251708984375,
          544.733154296875,
          537.9149780273438,
          528.2181396484375,
          528.1681518554688,
          536.9457397460938,
          523.3178100585938,
          524.166259765625,
          544.5847778320312,
          555.86474609375,
          566.90185546875,
          571.6007690429688,
          577.2722778320312,
          573.0726318359375,
          578.5272827148438,
          575.6885986328125,
          568.0731201171875,
          568.7196044921875,
          573.0848388671875,
          554.966552734375,
          565.7858276367188,
          571.73486328125,
          568.97900390625,
          568.7940673828125,
          557.0519409179688,
          552.0556640625,
          555.7540893554688,
          538.5359497070312,
          537.4061279296875,
          530.8060302734375,
          536.9684448242188,
          542.8089599609375,
          551.0911254882812,
          562.0391845703125,
          578.3606567382812,
          576.9955444335938,
          571.9844360351562,
          573.1051635742188,
          575.6359252929688,
          577.289306640625,
          577.992431640625,
          586.3367919921875,
          581.0364379882812,
          583.277587890625,
          576.4072265625,
          582.3131713867188,
          582.4069213867188,
          589.6419677734375,
          578.3598022460938,
          581.6978759765625,
          571.9935913085938,
          562.9509887695312,
          567.990966796875,
          569.0421142578125,
          576.3781127929688,
          558.0738525390625,
          547.3251953125,
          561.6158447265625,
          568.60400390625,
          574.635986328125,
          565.4857788085938,
          568.8517456054688,
          576.7193603515625,
          572.0885009765625,
          583.5082397460938,
          574.7881469726562,
          578.7998046875,
          582.6165161132812,
          582.18115234375,
          582.808837890625,
          577.7130737304688,
          583.4876098632812,
          552.3368530273438,
          559.2029418945312,
          556.484619140625,
          557.08935546875,
          558.9300537109375,
          545.38818359375,
          552.262939453125,
          558.5535888671875,
          562.5770874023438,
          557.6026611328125,
          558.8860473632812,
          550.8462524414062,
          548.2340087890625,
          555.7224731445312,
          561.28955078125,
          564.637939453125,
          569.7080078125,
          574.0009155273438,
          582.3220825195312,
          576.3687133789062,
          575.0922241210938,
          559.1842041015625,
          561.4456176757812,
          559.0996704101562,
          557.062744140625,
          550.26171875,
          550.8196411132812,
          557.6940307617188,
          556.0256958007812,
          541.186279296875,
          534.435791015625,
          536.5391845703125,
          549.3215942382812,
          563.8114013671875,
          560.5392456054688,
          562.896240234375,
          562.9951171875,
          540.8726196289062,
          539.369140625,
          549.4656372070312,
          558.4031372070312,
          557.2513427734375,
          562.4613037109375,
          564.0358276367188,
          565.7763061523438,
          548.447998046875,
          566.0381469726562,
          563.0093994140625,
          562.3356323242188,
          559.3086547851562,
          550.5904541015625,
          549.4852905273438,
          532.5814819335938,
          540.7559204101562,
          540.5796508789062,
          538.623291015625,
          541.0078735351562,
          556.9659423828125,
          552.3885498046875,
          552.4437255859375,
          554.3265380859375,
          553.762451171875,
          535.9647827148438,
          546.2843627929688,
          551.14892578125,
          559.4478149414062,
          573.6288452148438,
          569.6467895507812,
          574.7575073242188,
          558.9137573242188,
          558.2738647460938,
          550.4244384765625
         ],
         "yaxis": "y"
        }
       ],
       "layout": {
        "legend": {
         "title": {
          "text": "variable"
         },
         "tracegroupgap": 0
        },
        "template": {
         "data": {
          "bar": [
           {
            "error_x": {
             "color": "#f2f5fa"
            },
            "error_y": {
             "color": "#f2f5fa"
            },
            "marker": {
             "line": {
              "color": "rgb(17,17,17)",
              "width": 0.5
             },
             "pattern": {
              "fillmode": "overlay",
              "size": 10,
              "solidity": 0.2
             }
            },
            "type": "bar"
           }
          ],
          "barpolar": [
           {
            "marker": {
             "line": {
              "color": "rgb(17,17,17)",
              "width": 0.5
             },
             "pattern": {
              "fillmode": "overlay",
              "size": 10,
              "solidity": 0.2
             }
            },
            "type": "barpolar"
           }
          ],
          "carpet": [
           {
            "aaxis": {
             "endlinecolor": "#A2B1C6",
             "gridcolor": "#506784",
             "linecolor": "#506784",
             "minorgridcolor": "#506784",
             "startlinecolor": "#A2B1C6"
            },
            "baxis": {
             "endlinecolor": "#A2B1C6",
             "gridcolor": "#506784",
             "linecolor": "#506784",
             "minorgridcolor": "#506784",
             "startlinecolor": "#A2B1C6"
            },
            "type": "carpet"
           }
          ],
          "choropleth": [
           {
            "colorbar": {
             "outlinewidth": 0,
             "ticks": ""
            },
            "type": "choropleth"
           }
          ],
          "contour": [
           {
            "colorbar": {
             "outlinewidth": 0,
             "ticks": ""
            },
            "colorscale": [
             [
              0,
              "#0d0887"
             ],
             [
              0.1111111111111111,
              "#46039f"
             ],
             [
              0.2222222222222222,
              "#7201a8"
             ],
             [
              0.3333333333333333,
              "#9c179e"
             ],
             [
              0.4444444444444444,
              "#bd3786"
             ],
             [
              0.5555555555555556,
              "#d8576b"
             ],
             [
              0.6666666666666666,
              "#ed7953"
             ],
             [
              0.7777777777777778,
              "#fb9f3a"
             ],
             [
              0.8888888888888888,
              "#fdca26"
             ],
             [
              1,
              "#f0f921"
             ]
            ],
            "type": "contour"
           }
          ],
          "contourcarpet": [
           {
            "colorbar": {
             "outlinewidth": 0,
             "ticks": ""
            },
            "type": "contourcarpet"
           }
          ],
          "heatmap": [
           {
            "colorbar": {
             "outlinewidth": 0,
             "ticks": ""
            },
            "colorscale": [
             [
              0,
              "#0d0887"
             ],
             [
              0.1111111111111111,
              "#46039f"
             ],
             [
              0.2222222222222222,
              "#7201a8"
             ],
             [
              0.3333333333333333,
              "#9c179e"
             ],
             [
              0.4444444444444444,
              "#bd3786"
             ],
             [
              0.5555555555555556,
              "#d8576b"
             ],
             [
              0.6666666666666666,
              "#ed7953"
             ],
             [
              0.7777777777777778,
              "#fb9f3a"
             ],
             [
              0.8888888888888888,
              "#fdca26"
             ],
             [
              1,
              "#f0f921"
             ]
            ],
            "type": "heatmap"
           }
          ],
          "heatmapgl": [
           {
            "colorbar": {
             "outlinewidth": 0,
             "ticks": ""
            },
            "colorscale": [
             [
              0,
              "#0d0887"
             ],
             [
              0.1111111111111111,
              "#46039f"
             ],
             [
              0.2222222222222222,
              "#7201a8"
             ],
             [
              0.3333333333333333,
              "#9c179e"
             ],
             [
              0.4444444444444444,
              "#bd3786"
             ],
             [
              0.5555555555555556,
              "#d8576b"
             ],
             [
              0.6666666666666666,
              "#ed7953"
             ],
             [
              0.7777777777777778,
              "#fb9f3a"
             ],
             [
              0.8888888888888888,
              "#fdca26"
             ],
             [
              1,
              "#f0f921"
             ]
            ],
            "type": "heatmapgl"
           }
          ],
          "histogram": [
           {
            "marker": {
             "pattern": {
              "fillmode": "overlay",
              "size": 10,
              "solidity": 0.2
             }
            },
            "type": "histogram"
           }
          ],
          "histogram2d": [
           {
            "colorbar": {
             "outlinewidth": 0,
             "ticks": ""
            },
            "colorscale": [
             [
              0,
              "#0d0887"
             ],
             [
              0.1111111111111111,
              "#46039f"
             ],
             [
              0.2222222222222222,
              "#7201a8"
             ],
             [
              0.3333333333333333,
              "#9c179e"
             ],
             [
              0.4444444444444444,
              "#bd3786"
             ],
             [
              0.5555555555555556,
              "#d8576b"
             ],
             [
              0.6666666666666666,
              "#ed7953"
             ],
             [
              0.7777777777777778,
              "#fb9f3a"
             ],
             [
              0.8888888888888888,
              "#fdca26"
             ],
             [
              1,
              "#f0f921"
             ]
            ],
            "type": "histogram2d"
           }
          ],
          "histogram2dcontour": [
           {
            "colorbar": {
             "outlinewidth": 0,
             "ticks": ""
            },
            "colorscale": [
             [
              0,
              "#0d0887"
             ],
             [
              0.1111111111111111,
              "#46039f"
             ],
             [
              0.2222222222222222,
              "#7201a8"
             ],
             [
              0.3333333333333333,
              "#9c179e"
             ],
             [
              0.4444444444444444,
              "#bd3786"
             ],
             [
              0.5555555555555556,
              "#d8576b"
             ],
             [
              0.6666666666666666,
              "#ed7953"
             ],
             [
              0.7777777777777778,
              "#fb9f3a"
             ],
             [
              0.8888888888888888,
              "#fdca26"
             ],
             [
              1,
              "#f0f921"
             ]
            ],
            "type": "histogram2dcontour"
           }
          ],
          "mesh3d": [
           {
            "colorbar": {
             "outlinewidth": 0,
             "ticks": ""
            },
            "type": "mesh3d"
           }
          ],
          "parcoords": [
           {
            "line": {
             "colorbar": {
              "outlinewidth": 0,
              "ticks": ""
             }
            },
            "type": "parcoords"
           }
          ],
          "pie": [
           {
            "automargin": true,
            "type": "pie"
           }
          ],
          "scatter": [
           {
            "marker": {
             "line": {
              "color": "#283442"
             }
            },
            "type": "scatter"
           }
          ],
          "scatter3d": [
           {
            "line": {
             "colorbar": {
              "outlinewidth": 0,
              "ticks": ""
             }
            },
            "marker": {
             "colorbar": {
              "outlinewidth": 0,
              "ticks": ""
             }
            },
            "type": "scatter3d"
           }
          ],
          "scattercarpet": [
           {
            "marker": {
             "colorbar": {
              "outlinewidth": 0,
              "ticks": ""
             }
            },
            "type": "scattercarpet"
           }
          ],
          "scattergeo": [
           {
            "marker": {
             "colorbar": {
              "outlinewidth": 0,
              "ticks": ""
             }
            },
            "type": "scattergeo"
           }
          ],
          "scattergl": [
           {
            "marker": {
             "line": {
              "color": "#283442"
             }
            },
            "type": "scattergl"
           }
          ],
          "scattermapbox": [
           {
            "marker": {
             "colorbar": {
              "outlinewidth": 0,
              "ticks": ""
             }
            },
            "type": "scattermapbox"
           }
          ],
          "scatterpolar": [
           {
            "marker": {
             "colorbar": {
              "outlinewidth": 0,
              "ticks": ""
             }
            },
            "type": "scatterpolar"
           }
          ],
          "scatterpolargl": [
           {
            "marker": {
             "colorbar": {
              "outlinewidth": 0,
              "ticks": ""
             }
            },
            "type": "scatterpolargl"
           }
          ],
          "scatterternary": [
           {
            "marker": {
             "colorbar": {
              "outlinewidth": 0,
              "ticks": ""
             }
            },
            "type": "scatterternary"
           }
          ],
          "surface": [
           {
            "colorbar": {
             "outlinewidth": 0,
             "ticks": ""
            },
            "colorscale": [
             [
              0,
              "#0d0887"
             ],
             [
              0.1111111111111111,
              "#46039f"
             ],
             [
              0.2222222222222222,
              "#7201a8"
             ],
             [
              0.3333333333333333,
              "#9c179e"
             ],
             [
              0.4444444444444444,
              "#bd3786"
             ],
             [
              0.5555555555555556,
              "#d8576b"
             ],
             [
              0.6666666666666666,
              "#ed7953"
             ],
             [
              0.7777777777777778,
              "#fb9f3a"
             ],
             [
              0.8888888888888888,
              "#fdca26"
             ],
             [
              1,
              "#f0f921"
             ]
            ],
            "type": "surface"
           }
          ],
          "table": [
           {
            "cells": {
             "fill": {
              "color": "#506784"
             },
             "line": {
              "color": "rgb(17,17,17)"
             }
            },
            "header": {
             "fill": {
              "color": "#2a3f5f"
             },
             "line": {
              "color": "rgb(17,17,17)"
             }
            },
            "type": "table"
           }
          ]
         },
         "layout": {
          "annotationdefaults": {
           "arrowcolor": "#f2f5fa",
           "arrowhead": 0,
           "arrowwidth": 1
          },
          "autotypenumbers": "strict",
          "coloraxis": {
           "colorbar": {
            "outlinewidth": 0,
            "ticks": ""
           }
          },
          "colorscale": {
           "diverging": [
            [
             0,
             "#8e0152"
            ],
            [
             0.1,
             "#c51b7d"
            ],
            [
             0.2,
             "#de77ae"
            ],
            [
             0.3,
             "#f1b6da"
            ],
            [
             0.4,
             "#fde0ef"
            ],
            [
             0.5,
             "#f7f7f7"
            ],
            [
             0.6,
             "#e6f5d0"
            ],
            [
             0.7,
             "#b8e186"
            ],
            [
             0.8,
             "#7fbc41"
            ],
            [
             0.9,
             "#4d9221"
            ],
            [
             1,
             "#276419"
            ]
           ],
           "sequential": [
            [
             0,
             "#0d0887"
            ],
            [
             0.1111111111111111,
             "#46039f"
            ],
            [
             0.2222222222222222,
             "#7201a8"
            ],
            [
             0.3333333333333333,
             "#9c179e"
            ],
            [
             0.4444444444444444,
             "#bd3786"
            ],
            [
             0.5555555555555556,
             "#d8576b"
            ],
            [
             0.6666666666666666,
             "#ed7953"
            ],
            [
             0.7777777777777778,
             "#fb9f3a"
            ],
            [
             0.8888888888888888,
             "#fdca26"
            ],
            [
             1,
             "#f0f921"
            ]
           ],
           "sequentialminus": [
            [
             0,
             "#0d0887"
            ],
            [
             0.1111111111111111,
             "#46039f"
            ],
            [
             0.2222222222222222,
             "#7201a8"
            ],
            [
             0.3333333333333333,
             "#9c179e"
            ],
            [
             0.4444444444444444,
             "#bd3786"
            ],
            [
             0.5555555555555556,
             "#d8576b"
            ],
            [
             0.6666666666666666,
             "#ed7953"
            ],
            [
             0.7777777777777778,
             "#fb9f3a"
            ],
            [
             0.8888888888888888,
             "#fdca26"
            ],
            [
             1,
             "#f0f921"
            ]
           ]
          },
          "colorway": [
           "#636efa",
           "#EF553B",
           "#00cc96",
           "#ab63fa",
           "#FFA15A",
           "#19d3f3",
           "#FF6692",
           "#B6E880",
           "#FF97FF",
           "#FECB52"
          ],
          "font": {
           "color": "#f2f5fa"
          },
          "geo": {
           "bgcolor": "rgb(17,17,17)",
           "lakecolor": "rgb(17,17,17)",
           "landcolor": "rgb(17,17,17)",
           "showlakes": true,
           "showland": true,
           "subunitcolor": "#506784"
          },
          "hoverlabel": {
           "align": "left"
          },
          "hovermode": "closest",
          "mapbox": {
           "style": "dark"
          },
          "paper_bgcolor": "rgb(17,17,17)",
          "plot_bgcolor": "rgb(17,17,17)",
          "polar": {
           "angularaxis": {
            "gridcolor": "#506784",
            "linecolor": "#506784",
            "ticks": ""
           },
           "bgcolor": "rgb(17,17,17)",
           "radialaxis": {
            "gridcolor": "#506784",
            "linecolor": "#506784",
            "ticks": ""
           }
          },
          "scene": {
           "xaxis": {
            "backgroundcolor": "rgb(17,17,17)",
            "gridcolor": "#506784",
            "gridwidth": 2,
            "linecolor": "#506784",
            "showbackground": true,
            "ticks": "",
            "zerolinecolor": "#C8D4E3"
           },
           "yaxis": {
            "backgroundcolor": "rgb(17,17,17)",
            "gridcolor": "#506784",
            "gridwidth": 2,
            "linecolor": "#506784",
            "showbackground": true,
            "ticks": "",
            "zerolinecolor": "#C8D4E3"
           },
           "zaxis": {
            "backgroundcolor": "rgb(17,17,17)",
            "gridcolor": "#506784",
            "gridwidth": 2,
            "linecolor": "#506784",
            "showbackground": true,
            "ticks": "",
            "zerolinecolor": "#C8D4E3"
           }
          },
          "shapedefaults": {
           "line": {
            "color": "#f2f5fa"
           }
          },
          "sliderdefaults": {
           "bgcolor": "#C8D4E3",
           "bordercolor": "rgb(17,17,17)",
           "borderwidth": 1,
           "tickwidth": 0
          },
          "ternary": {
           "aaxis": {
            "gridcolor": "#506784",
            "linecolor": "#506784",
            "ticks": ""
           },
           "baxis": {
            "gridcolor": "#506784",
            "linecolor": "#506784",
            "ticks": ""
           },
           "bgcolor": "rgb(17,17,17)",
           "caxis": {
            "gridcolor": "#506784",
            "linecolor": "#506784",
            "ticks": ""
           }
          },
          "title": {
           "x": 0.05
          },
          "updatemenudefaults": {
           "bgcolor": "#506784",
           "borderwidth": 0
          },
          "xaxis": {
           "automargin": true,
           "gridcolor": "#283442",
           "linecolor": "#506784",
           "ticks": "",
           "title": {
            "standoff": 15
           },
           "zerolinecolor": "#283442",
           "zerolinewidth": 2
          },
          "yaxis": {
           "automargin": true,
           "gridcolor": "#283442",
           "linecolor": "#506784",
           "ticks": "",
           "title": {
            "standoff": 15
           },
           "zerolinecolor": "#283442",
           "zerolinewidth": 2
          }
         }
        },
        "title": {
         "text": "BNBUSDT"
        },
        "xaxis": {
         "anchor": "y",
         "domain": [
          0,
          1
         ],
         "title": {
          "text": "x"
         }
        },
        "yaxis": {
         "anchor": "x",
         "domain": [
          0,
          1
         ],
         "title": {
          "text": "close price $"
         }
        }
       }
      }
     },
     "metadata": {},
     "output_type": "display_data"
    },
    {
     "name": "stdout",
     "output_type": "stream",
     "text": [
      "| timestamp           |   close |   close_lag_1 |   close_lag_3 |   close_lag_5 |     ma7 |    ma30 |    std7 |   price_change_1d |   price_change_7d |     rsi |\n",
      "|:--------------------|--------:|--------------:|--------------:|--------------:|--------:|--------:|--------:|------------------:|------------------:|--------:|\n",
      "| 2025-04-17 00:00:00 | 1583.62 |       1577.14 |       1623.77 |       1644.18 | 1597.44 | 1787.64 | 27.3612 |        0.0041087  |         0.0403153 | 37.5028 |\n",
      "| 2025-04-18 00:00:00 | 1588.27 |       1583.62 |       1588.78 |       1597.76 | 1600.5  | 1772.05 | 24.408  |        0.00293631 |         0.0136707 | 37.8267 |\n",
      "x shape (1647, 1080)\n",
      "y shape (1647, 30)\n",
      "\n",
      "--- Training multi output XGB regressor ---\n",
      "...\n",
      "\n",
      "---Evaluating model ---\n",
      "--- ETHUSDT ---\n",
      "multi step model MAE: 361.15\n",
      "multi step model MSE: 214700.79\n",
      "multi step model R2: 0.36\n"
     ]
    },
    {
     "data": {
      "application/vnd.plotly.v1+json": {
       "config": {
        "plotlyServerURL": "https://plot.ly"
       },
       "data": [
        {
         "hovertemplate": "variable=close<br>x=%{x}<br>close price $=%{y}<extra></extra>",
         "legendgroup": "close",
         "line": {
          "color": "#636efa",
          "dash": "solid"
         },
         "marker": {
          "symbol": "circle"
         },
         "mode": "lines",
         "name": "close",
         "orientation": "v",
         "showlegend": true,
         "type": "scatter",
         "x": [
          "2024-05-24T00:00:00",
          "2024-05-25T00:00:00",
          "2024-05-26T00:00:00",
          "2024-05-27T00:00:00",
          "2024-05-28T00:00:00",
          "2024-05-29T00:00:00",
          "2024-05-30T00:00:00",
          "2024-05-31T00:00:00",
          "2024-06-01T00:00:00",
          "2024-06-02T00:00:00",
          "2024-06-03T00:00:00",
          "2024-06-04T00:00:00",
          "2024-06-05T00:00:00",
          "2024-06-06T00:00:00",
          "2024-06-07T00:00:00",
          "2024-06-08T00:00:00",
          "2024-06-09T00:00:00",
          "2024-06-10T00:00:00",
          "2024-06-11T00:00:00",
          "2024-06-12T00:00:00",
          "2024-06-13T00:00:00",
          "2024-06-14T00:00:00",
          "2024-06-15T00:00:00",
          "2024-06-16T00:00:00",
          "2024-06-17T00:00:00",
          "2024-06-18T00:00:00",
          "2024-06-19T00:00:00",
          "2024-06-20T00:00:00",
          "2024-06-21T00:00:00",
          "2024-06-22T00:00:00",
          "2024-06-23T00:00:00",
          "2024-06-24T00:00:00",
          "2024-06-25T00:00:00",
          "2024-06-26T00:00:00",
          "2024-06-27T00:00:00",
          "2024-06-28T00:00:00",
          "2024-06-29T00:00:00",
          "2024-06-30T00:00:00",
          "2024-07-01T00:00:00",
          "2024-07-02T00:00:00",
          "2024-07-03T00:00:00",
          "2024-07-04T00:00:00",
          "2024-07-05T00:00:00",
          "2024-07-06T00:00:00",
          "2024-07-07T00:00:00",
          "2024-07-08T00:00:00",
          "2024-07-09T00:00:00",
          "2024-07-10T00:00:00",
          "2024-07-11T00:00:00",
          "2024-07-12T00:00:00",
          "2024-07-13T00:00:00",
          "2024-07-14T00:00:00",
          "2024-07-15T00:00:00",
          "2024-07-16T00:00:00",
          "2024-07-17T00:00:00",
          "2024-07-18T00:00:00",
          "2024-07-19T00:00:00",
          "2024-07-20T00:00:00",
          "2024-07-21T00:00:00",
          "2024-07-22T00:00:00",
          "2024-07-23T00:00:00",
          "2024-07-24T00:00:00",
          "2024-07-25T00:00:00",
          "2024-07-26T00:00:00",
          "2024-07-27T00:00:00",
          "2024-07-28T00:00:00",
          "2024-07-29T00:00:00",
          "2024-07-30T00:00:00",
          "2024-07-31T00:00:00",
          "2024-08-01T00:00:00",
          "2024-08-02T00:00:00",
          "2024-08-03T00:00:00",
          "2024-08-04T00:00:00",
          "2024-08-05T00:00:00",
          "2024-08-06T00:00:00",
          "2024-08-07T00:00:00",
          "2024-08-08T00:00:00",
          "2024-08-09T00:00:00",
          "2024-08-10T00:00:00",
          "2024-08-11T00:00:00",
          "2024-08-12T00:00:00",
          "2024-08-13T00:00:00",
          "2024-08-14T00:00:00",
          "2024-08-15T00:00:00",
          "2024-08-16T00:00:00",
          "2024-08-17T00:00:00",
          "2024-08-18T00:00:00",
          "2024-08-19T00:00:00",
          "2024-08-20T00:00:00",
          "2024-08-21T00:00:00",
          "2024-08-22T00:00:00",
          "2024-08-23T00:00:00",
          "2024-08-24T00:00:00",
          "2024-08-25T00:00:00",
          "2024-08-26T00:00:00",
          "2024-08-27T00:00:00",
          "2024-08-28T00:00:00",
          "2024-08-29T00:00:00",
          "2024-08-30T00:00:00",
          "2024-08-31T00:00:00",
          "2024-09-01T00:00:00",
          "2024-09-02T00:00:00",
          "2024-09-03T00:00:00",
          "2024-09-04T00:00:00",
          "2024-09-05T00:00:00",
          "2024-09-06T00:00:00",
          "2024-09-07T00:00:00",
          "2024-09-08T00:00:00",
          "2024-09-09T00:00:00",
          "2024-09-10T00:00:00",
          "2024-09-11T00:00:00",
          "2024-09-12T00:00:00",
          "2024-09-13T00:00:00",
          "2024-09-14T00:00:00",
          "2024-09-15T00:00:00",
          "2024-09-16T00:00:00",
          "2024-09-17T00:00:00",
          "2024-09-18T00:00:00",
          "2024-09-19T00:00:00",
          "2024-09-20T00:00:00",
          "2024-09-21T00:00:00",
          "2024-09-22T00:00:00",
          "2024-09-23T00:00:00",
          "2024-09-24T00:00:00",
          "2024-09-25T00:00:00",
          "2024-09-26T00:00:00",
          "2024-09-27T00:00:00",
          "2024-09-28T00:00:00",
          "2024-09-29T00:00:00",
          "2024-09-30T00:00:00",
          "2024-10-01T00:00:00",
          "2024-10-02T00:00:00",
          "2024-10-03T00:00:00",
          "2024-10-04T00:00:00",
          "2024-10-05T00:00:00",
          "2024-10-06T00:00:00",
          "2024-10-07T00:00:00",
          "2024-10-08T00:00:00",
          "2024-10-09T00:00:00",
          "2024-10-10T00:00:00",
          "2024-10-11T00:00:00",
          "2024-10-12T00:00:00",
          "2024-10-13T00:00:00",
          "2024-10-14T00:00:00",
          "2024-10-15T00:00:00",
          "2024-10-16T00:00:00",
          "2024-10-17T00:00:00",
          "2024-10-18T00:00:00",
          "2024-10-19T00:00:00",
          "2024-10-20T00:00:00",
          "2024-10-21T00:00:00",
          "2024-10-22T00:00:00",
          "2024-10-23T00:00:00",
          "2024-10-24T00:00:00",
          "2024-10-25T00:00:00",
          "2024-10-26T00:00:00",
          "2024-10-27T00:00:00",
          "2024-10-28T00:00:00",
          "2024-10-29T00:00:00",
          "2024-10-30T00:00:00",
          "2024-10-31T00:00:00",
          "2024-11-01T00:00:00",
          "2024-11-02T00:00:00",
          "2024-11-03T00:00:00",
          "2024-11-04T00:00:00",
          "2024-11-05T00:00:00",
          "2024-11-06T00:00:00",
          "2024-11-07T00:00:00",
          "2024-11-08T00:00:00",
          "2024-11-09T00:00:00",
          "2024-11-10T00:00:00",
          "2024-11-11T00:00:00",
          "2024-11-12T00:00:00",
          "2024-11-13T00:00:00",
          "2024-11-14T00:00:00",
          "2024-11-15T00:00:00",
          "2024-11-16T00:00:00",
          "2024-11-17T00:00:00",
          "2024-11-18T00:00:00",
          "2024-11-19T00:00:00",
          "2024-11-20T00:00:00",
          "2024-11-21T00:00:00",
          "2024-11-22T00:00:00",
          "2024-11-23T00:00:00",
          "2024-11-24T00:00:00",
          "2024-11-25T00:00:00",
          "2024-11-26T00:00:00",
          "2024-11-27T00:00:00",
          "2024-11-28T00:00:00",
          "2024-11-29T00:00:00",
          "2024-11-30T00:00:00",
          "2024-12-01T00:00:00",
          "2024-12-02T00:00:00",
          "2024-12-03T00:00:00",
          "2024-12-04T00:00:00",
          "2024-12-05T00:00:00",
          "2024-12-06T00:00:00",
          "2024-12-07T00:00:00",
          "2024-12-08T00:00:00",
          "2024-12-09T00:00:00",
          "2024-12-10T00:00:00",
          "2024-12-11T00:00:00",
          "2024-12-12T00:00:00",
          "2024-12-13T00:00:00",
          "2024-12-14T00:00:00",
          "2024-12-15T00:00:00",
          "2024-12-16T00:00:00",
          "2024-12-17T00:00:00",
          "2024-12-18T00:00:00",
          "2024-12-19T00:00:00",
          "2024-12-20T00:00:00",
          "2024-12-21T00:00:00",
          "2024-12-22T00:00:00",
          "2024-12-23T00:00:00",
          "2024-12-24T00:00:00",
          "2024-12-25T00:00:00",
          "2024-12-26T00:00:00",
          "2024-12-27T00:00:00",
          "2024-12-28T00:00:00",
          "2024-12-29T00:00:00",
          "2024-12-30T00:00:00",
          "2024-12-31T00:00:00",
          "2025-01-01T00:00:00",
          "2025-01-02T00:00:00",
          "2025-01-03T00:00:00",
          "2025-01-04T00:00:00",
          "2025-01-05T00:00:00",
          "2025-01-06T00:00:00",
          "2025-01-07T00:00:00",
          "2025-01-08T00:00:00",
          "2025-01-09T00:00:00",
          "2025-01-10T00:00:00",
          "2025-01-11T00:00:00",
          "2025-01-12T00:00:00",
          "2025-01-13T00:00:00",
          "2025-01-14T00:00:00",
          "2025-01-15T00:00:00",
          "2025-01-16T00:00:00",
          "2025-01-17T00:00:00",
          "2025-01-18T00:00:00",
          "2025-01-19T00:00:00",
          "2025-01-20T00:00:00",
          "2025-01-21T00:00:00",
          "2025-01-22T00:00:00",
          "2025-01-23T00:00:00",
          "2025-01-24T00:00:00",
          "2025-01-25T00:00:00",
          "2025-01-26T00:00:00",
          "2025-01-27T00:00:00",
          "2025-01-28T00:00:00",
          "2025-01-29T00:00:00",
          "2025-01-30T00:00:00",
          "2025-01-31T00:00:00",
          "2025-02-01T00:00:00",
          "2025-02-02T00:00:00",
          "2025-02-03T00:00:00",
          "2025-02-04T00:00:00",
          "2025-02-05T00:00:00",
          "2025-02-06T00:00:00",
          "2025-02-07T00:00:00",
          "2025-02-08T00:00:00",
          "2025-02-09T00:00:00",
          "2025-02-10T00:00:00",
          "2025-02-11T00:00:00",
          "2025-02-12T00:00:00",
          "2025-02-13T00:00:00",
          "2025-02-14T00:00:00",
          "2025-02-15T00:00:00",
          "2025-02-16T00:00:00",
          "2025-02-17T00:00:00",
          "2025-02-18T00:00:00",
          "2025-02-19T00:00:00",
          "2025-02-20T00:00:00",
          "2025-02-21T00:00:00",
          "2025-02-22T00:00:00",
          "2025-02-23T00:00:00",
          "2025-02-24T00:00:00",
          "2025-02-25T00:00:00",
          "2025-02-26T00:00:00",
          "2025-02-27T00:00:00",
          "2025-02-28T00:00:00",
          "2025-03-01T00:00:00",
          "2025-03-02T00:00:00",
          "2025-03-03T00:00:00",
          "2025-03-04T00:00:00",
          "2025-03-05T00:00:00",
          "2025-03-06T00:00:00",
          "2025-03-07T00:00:00",
          "2025-03-08T00:00:00",
          "2025-03-09T00:00:00",
          "2025-03-10T00:00:00",
          "2025-03-11T00:00:00",
          "2025-03-12T00:00:00",
          "2025-03-13T00:00:00",
          "2025-03-14T00:00:00",
          "2025-03-15T00:00:00",
          "2025-03-16T00:00:00",
          "2025-03-17T00:00:00",
          "2025-03-18T00:00:00",
          "2025-03-19T00:00:00",
          "2025-03-20T00:00:00",
          "2025-03-21T00:00:00",
          "2025-03-22T00:00:00",
          "2025-03-23T00:00:00",
          "2025-03-24T00:00:00",
          "2025-03-25T00:00:00",
          "2025-03-26T00:00:00",
          "2025-03-27T00:00:00",
          "2025-03-28T00:00:00",
          "2025-03-29T00:00:00",
          "2025-03-30T00:00:00",
          "2025-03-31T00:00:00",
          "2025-04-01T00:00:00",
          "2025-04-02T00:00:00",
          "2025-04-03T00:00:00",
          "2025-04-04T00:00:00",
          "2025-04-05T00:00:00",
          "2025-04-06T00:00:00",
          "2025-04-07T00:00:00",
          "2025-04-08T00:00:00",
          "2025-04-09T00:00:00",
          "2025-04-10T00:00:00",
          "2025-04-11T00:00:00",
          "2025-04-12T00:00:00",
          "2025-04-13T00:00:00",
          "2025-04-14T00:00:00",
          "2025-04-15T00:00:00",
          "2025-04-16T00:00:00",
          "2025-04-17T00:00:00",
          "2025-04-18T00:00:00"
         ],
         "xaxis": "x",
         "y": [
          3155.8,
          3131.3,
          3255.56,
          3263.45,
          3216.73,
          3014.05,
          2972.46,
          2986.19,
          3102.61,
          3117.23,
          3136.41,
          3062.6,
          3005.69,
          2974.21,
          3036.23,
          2909.99,
          2912.45,
          2929.29,
          2950.99,
          2881.93,
          3032.55,
          2944.7,
          3092.01,
          3122.94,
          3071.19,
          3661.78,
          3789.6,
          3737.73,
          3783.61,
          3728.28,
          3749.26,
          3826.47,
          3894.22,
          3844.69,
          3767.43,
          3747.91,
          3762.29,
          3815.82,
          3780.91,
          3767.06,
          3810.23,
          3865.99,
          3813.46,
          3678.32,
          3681.57,
          3706.4,
          3667.85,
          3497.33,
          3560.12,
          3469.4,
          3481.8,
          3568.74,
          3624.41,
          3511.46,
          3483.42,
          3560.51,
          3513.08,
          3518.5,
          3495.75,
          3420.91,
          3352.73,
          3394.91,
          3371.44,
          3450.44,
          3380.15,
          3378.8,
          3438.16,
          3442.2,
          3421.35,
          3295.48,
          3059.7,
          2981.78,
          3066.83,
          2931,
          3019.01,
          3066.65,
          3101.05,
          3099.57,
          3133.88,
          3175.93,
          3245.08,
          3483.39,
          3444.13,
          3387.05,
          3426.5,
          3503.53,
          3517.5,
          3535.92,
          3439.6,
          3482.51,
          3335.81,
          3175.48,
          3274.61,
          3249.01,
          3270.16,
          3317.66,
          3279.21,
          3232.74,
          3203.4,
          2989.61,
          2903.64,
          2688.92,
          2419.59,
          2461.33,
          2342.8,
          2682.5,
          2598.78,
          2609.92,
          2555.38,
          2722.3,
          2702.44,
          2661.45,
          2569.89,
          2592.73,
          2614.51,
          2612.15,
          2636.36,
          2572.82,
          2630.71,
          2622.88,
          2762.48,
          2768,
          2746.13,
          2680.49,
          2457.33,
          2528.33,
          2527.61,
          2526,
          2513.01,
          2425.72,
          2538.01,
          2425.29,
          2450.71,
          2368.81,
          2225.23,
          2273.58,
          2297.3,
          2359.5,
          2388.52,
          2340.55,
          2361.76,
          2439.19,
          2417.79,
          2316.1,
          2295.68,
          2341.8,
          2374.75,
          2465.21,
          2561.4,
          2612.4,
          2581,
          2646.97,
          2653.2,
          2579.95,
          2632.26,
          2694.43,
          2675.21,
          2657.62,
          2602.23,
          2447.79,
          2364.1,
          2349.8,
          2414.41,
          2414.66,
          2440.03,
          2422.71,
          2440.89,
          2370.47,
          2386.49,
          2439.5,
          2476.4,
          2468.91,
          2629.79,
          2607.41,
          2611.1,
          2605.8,
          2642.17,
          2648.2,
          2746.91,
          2666.7,
          2622.81,
          2524.61,
          2535.82,
          2440.62,
          2482.51,
          2507.8,
          2567.48,
          2638.8,
          2659.19,
          2518.61,
          2511.49,
          2494.23,
          2457.73,
          2398.21,
          2422.55,
          2721.87,
          2895.47,
          2961.75,
          3126.21,
          3183.21,
          3371.59,
          3243.8,
          3187.16,
          3058.82,
          3090.01,
          3132.87,
          3076,
          3207.8,
          3107.44,
          3069.97,
          3355.81,
          3327.78,
          3393.91,
          3361.2,
          3414.49,
          3324.73,
          3653.28,
          3578.79,
          3592.21,
          3703.6,
          3707.61,
          3643.42,
          3614.51,
          3837.8,
          3785.2,
          3998.87,
          3996.22,
          4004.15,
          3712,
          3628.25,
          3831.81,
          3881.61,
          3906.8,
          3870.29,
          3959.09,
          3986.24,
          3893.01,
          3626.8,
          3417.01,
          3472.21,
          3338.92,
          3281.83,
          3422.53,
          3493.18,
          3497,
          3335.05,
          3333.51,
          3404,
          3356.48,
          3361.84,
          3337.78,
          3360.38,
          3455.67,
          3609.01,
          3656.88,
          3635.99,
          3687.45,
          3381.31,
          3327.29,
          3219.2,
          3267.04,
          3282.83,
          3267.3,
          3137.51,
          3225.63,
          3451.52,
          3308.05,
          3473.63,
          3307.71,
          3215.12,
          3284,
          3327.54,
          3242.6,
          3338.21,
          3310.09,
          3318.77,
          3232.61,
          3182.44,
          3077.72,
          3113.9,
          3247.39,
          3300.99,
          3117.54,
          2869.68,
          2879.9,
          2731.19,
          2788.25,
          2686.64,
          2622.1,
          2632.46,
          2627.18,
          2661.19,
          2602.59,
          2738.27,
          2675.87,
          2725.95,
          2693.04,
          2661.41,
          2744.05,
          2671.99,
          2715.5,
          2738.04,
          2663,
          2763.22,
          2819.69,
          2513.52,
          2495.7,
          2336.37,
          2307.72,
          2237.59,
          2217.39,
          2518.11,
          2149.01,
          2171.51,
          2241.59,
          2202.2,
          2141.6,
          2203.58,
          2020.41,
          1865.1,
          1923.43,
          1908.2,
          1864.59,
          1911.65,
          1937.17,
          1887,
          1926.31,
          1931.54,
          2056.06,
          1983.79
         ],
         "yaxis": "y"
        },
        {
         "hovertemplate": "variable=predictions<br>x=%{x}<br>close price $=%{y}<extra></extra>",
         "legendgroup": "predictions",
         "line": {
          "color": "#EF553B",
          "dash": "solid"
         },
         "marker": {
          "symbol": "circle"
         },
         "mode": "lines",
         "name": "predictions",
         "orientation": "v",
         "showlegend": true,
         "type": "scatter",
         "x": [
          "2024-05-24T00:00:00",
          "2024-05-25T00:00:00",
          "2024-05-26T00:00:00",
          "2024-05-27T00:00:00",
          "2024-05-28T00:00:00",
          "2024-05-29T00:00:00",
          "2024-05-30T00:00:00",
          "2024-05-31T00:00:00",
          "2024-06-01T00:00:00",
          "2024-06-02T00:00:00",
          "2024-06-03T00:00:00",
          "2024-06-04T00:00:00",
          "2024-06-05T00:00:00",
          "2024-06-06T00:00:00",
          "2024-06-07T00:00:00",
          "2024-06-08T00:00:00",
          "2024-06-09T00:00:00",
          "2024-06-10T00:00:00",
          "2024-06-11T00:00:00",
          "2024-06-12T00:00:00",
          "2024-06-13T00:00:00",
          "2024-06-14T00:00:00",
          "2024-06-15T00:00:00",
          "2024-06-16T00:00:00",
          "2024-06-17T00:00:00",
          "2024-06-18T00:00:00",
          "2024-06-19T00:00:00",
          "2024-06-20T00:00:00",
          "2024-06-21T00:00:00",
          "2024-06-22T00:00:00",
          "2024-06-23T00:00:00",
          "2024-06-24T00:00:00",
          "2024-06-25T00:00:00",
          "2024-06-26T00:00:00",
          "2024-06-27T00:00:00",
          "2024-06-28T00:00:00",
          "2024-06-29T00:00:00",
          "2024-06-30T00:00:00",
          "2024-07-01T00:00:00",
          "2024-07-02T00:00:00",
          "2024-07-03T00:00:00",
          "2024-07-04T00:00:00",
          "2024-07-05T00:00:00",
          "2024-07-06T00:00:00",
          "2024-07-07T00:00:00",
          "2024-07-08T00:00:00",
          "2024-07-09T00:00:00",
          "2024-07-10T00:00:00",
          "2024-07-11T00:00:00",
          "2024-07-12T00:00:00",
          "2024-07-13T00:00:00",
          "2024-07-14T00:00:00",
          "2024-07-15T00:00:00",
          "2024-07-16T00:00:00",
          "2024-07-17T00:00:00",
          "2024-07-18T00:00:00",
          "2024-07-19T00:00:00",
          "2024-07-20T00:00:00",
          "2024-07-21T00:00:00",
          "2024-07-22T00:00:00",
          "2024-07-23T00:00:00",
          "2024-07-24T00:00:00",
          "2024-07-25T00:00:00",
          "2024-07-26T00:00:00",
          "2024-07-27T00:00:00",
          "2024-07-28T00:00:00",
          "2024-07-29T00:00:00",
          "2024-07-30T00:00:00",
          "2024-07-31T00:00:00",
          "2024-08-01T00:00:00",
          "2024-08-02T00:00:00",
          "2024-08-03T00:00:00",
          "2024-08-04T00:00:00",
          "2024-08-05T00:00:00",
          "2024-08-06T00:00:00",
          "2024-08-07T00:00:00",
          "2024-08-08T00:00:00",
          "2024-08-09T00:00:00",
          "2024-08-10T00:00:00",
          "2024-08-11T00:00:00",
          "2024-08-12T00:00:00",
          "2024-08-13T00:00:00",
          "2024-08-14T00:00:00",
          "2024-08-15T00:00:00",
          "2024-08-16T00:00:00",
          "2024-08-17T00:00:00",
          "2024-08-18T00:00:00",
          "2024-08-19T00:00:00",
          "2024-08-20T00:00:00",
          "2024-08-21T00:00:00",
          "2024-08-22T00:00:00",
          "2024-08-23T00:00:00",
          "2024-08-24T00:00:00",
          "2024-08-25T00:00:00",
          "2024-08-26T00:00:00",
          "2024-08-27T00:00:00",
          "2024-08-28T00:00:00",
          "2024-08-29T00:00:00",
          "2024-08-30T00:00:00",
          "2024-08-31T00:00:00",
          "2024-09-01T00:00:00",
          "2024-09-02T00:00:00",
          "2024-09-03T00:00:00",
          "2024-09-04T00:00:00",
          "2024-09-05T00:00:00",
          "2024-09-06T00:00:00",
          "2024-09-07T00:00:00",
          "2024-09-08T00:00:00",
          "2024-09-09T00:00:00",
          "2024-09-10T00:00:00",
          "2024-09-11T00:00:00",
          "2024-09-12T00:00:00",
          "2024-09-13T00:00:00",
          "2024-09-14T00:00:00",
          "2024-09-15T00:00:00",
          "2024-09-16T00:00:00",
          "2024-09-17T00:00:00",
          "2024-09-18T00:00:00",
          "2024-09-19T00:00:00",
          "2024-09-20T00:00:00",
          "2024-09-21T00:00:00",
          "2024-09-22T00:00:00",
          "2024-09-23T00:00:00",
          "2024-09-24T00:00:00",
          "2024-09-25T00:00:00",
          "2024-09-26T00:00:00",
          "2024-09-27T00:00:00",
          "2024-09-28T00:00:00",
          "2024-09-29T00:00:00",
          "2024-09-30T00:00:00",
          "2024-10-01T00:00:00",
          "2024-10-02T00:00:00",
          "2024-10-03T00:00:00",
          "2024-10-04T00:00:00",
          "2024-10-05T00:00:00",
          "2024-10-06T00:00:00",
          "2024-10-07T00:00:00",
          "2024-10-08T00:00:00",
          "2024-10-09T00:00:00",
          "2024-10-10T00:00:00",
          "2024-10-11T00:00:00",
          "2024-10-12T00:00:00",
          "2024-10-13T00:00:00",
          "2024-10-14T00:00:00",
          "2024-10-15T00:00:00",
          "2024-10-16T00:00:00",
          "2024-10-17T00:00:00",
          "2024-10-18T00:00:00",
          "2024-10-19T00:00:00",
          "2024-10-20T00:00:00",
          "2024-10-21T00:00:00",
          "2024-10-22T00:00:00",
          "2024-10-23T00:00:00",
          "2024-10-24T00:00:00",
          "2024-10-25T00:00:00",
          "2024-10-26T00:00:00",
          "2024-10-27T00:00:00",
          "2024-10-28T00:00:00",
          "2024-10-29T00:00:00",
          "2024-10-30T00:00:00",
          "2024-10-31T00:00:00",
          "2024-11-01T00:00:00",
          "2024-11-02T00:00:00",
          "2024-11-03T00:00:00",
          "2024-11-04T00:00:00",
          "2024-11-05T00:00:00",
          "2024-11-06T00:00:00",
          "2024-11-07T00:00:00",
          "2024-11-08T00:00:00",
          "2024-11-09T00:00:00",
          "2024-11-10T00:00:00",
          "2024-11-11T00:00:00",
          "2024-11-12T00:00:00",
          "2024-11-13T00:00:00",
          "2024-11-14T00:00:00",
          "2024-11-15T00:00:00",
          "2024-11-16T00:00:00",
          "2024-11-17T00:00:00",
          "2024-11-18T00:00:00",
          "2024-11-19T00:00:00",
          "2024-11-20T00:00:00",
          "2024-11-21T00:00:00",
          "2024-11-22T00:00:00",
          "2024-11-23T00:00:00",
          "2024-11-24T00:00:00",
          "2024-11-25T00:00:00",
          "2024-11-26T00:00:00",
          "2024-11-27T00:00:00",
          "2024-11-28T00:00:00",
          "2024-11-29T00:00:00",
          "2024-11-30T00:00:00",
          "2024-12-01T00:00:00",
          "2024-12-02T00:00:00",
          "2024-12-03T00:00:00",
          "2024-12-04T00:00:00",
          "2024-12-05T00:00:00",
          "2024-12-06T00:00:00",
          "2024-12-07T00:00:00",
          "2024-12-08T00:00:00",
          "2024-12-09T00:00:00",
          "2024-12-10T00:00:00",
          "2024-12-11T00:00:00",
          "2024-12-12T00:00:00",
          "2024-12-13T00:00:00",
          "2024-12-14T00:00:00",
          "2024-12-15T00:00:00",
          "2024-12-16T00:00:00",
          "2024-12-17T00:00:00",
          "2024-12-18T00:00:00",
          "2024-12-19T00:00:00",
          "2024-12-20T00:00:00",
          "2024-12-21T00:00:00",
          "2024-12-22T00:00:00",
          "2024-12-23T00:00:00",
          "2024-12-24T00:00:00",
          "2024-12-25T00:00:00",
          "2024-12-26T00:00:00",
          "2024-12-27T00:00:00",
          "2024-12-28T00:00:00",
          "2024-12-29T00:00:00",
          "2024-12-30T00:00:00",
          "2024-12-31T00:00:00",
          "2025-01-01T00:00:00",
          "2025-01-02T00:00:00",
          "2025-01-03T00:00:00",
          "2025-01-04T00:00:00",
          "2025-01-05T00:00:00",
          "2025-01-06T00:00:00",
          "2025-01-07T00:00:00",
          "2025-01-08T00:00:00",
          "2025-01-09T00:00:00",
          "2025-01-10T00:00:00",
          "2025-01-11T00:00:00",
          "2025-01-12T00:00:00",
          "2025-01-13T00:00:00",
          "2025-01-14T00:00:00",
          "2025-01-15T00:00:00",
          "2025-01-16T00:00:00",
          "2025-01-17T00:00:00",
          "2025-01-18T00:00:00",
          "2025-01-19T00:00:00",
          "2025-01-20T00:00:00",
          "2025-01-21T00:00:00",
          "2025-01-22T00:00:00",
          "2025-01-23T00:00:00",
          "2025-01-24T00:00:00",
          "2025-01-25T00:00:00",
          "2025-01-26T00:00:00",
          "2025-01-27T00:00:00",
          "2025-01-28T00:00:00",
          "2025-01-29T00:00:00",
          "2025-01-30T00:00:00",
          "2025-01-31T00:00:00",
          "2025-02-01T00:00:00",
          "2025-02-02T00:00:00",
          "2025-02-03T00:00:00",
          "2025-02-04T00:00:00",
          "2025-02-05T00:00:00",
          "2025-02-06T00:00:00",
          "2025-02-07T00:00:00",
          "2025-02-08T00:00:00",
          "2025-02-09T00:00:00",
          "2025-02-10T00:00:00",
          "2025-02-11T00:00:00",
          "2025-02-12T00:00:00",
          "2025-02-13T00:00:00",
          "2025-02-14T00:00:00",
          "2025-02-15T00:00:00",
          "2025-02-16T00:00:00",
          "2025-02-17T00:00:00",
          "2025-02-18T00:00:00",
          "2025-02-19T00:00:00",
          "2025-02-20T00:00:00",
          "2025-02-21T00:00:00",
          "2025-02-22T00:00:00",
          "2025-02-23T00:00:00",
          "2025-02-24T00:00:00",
          "2025-02-25T00:00:00",
          "2025-02-26T00:00:00",
          "2025-02-27T00:00:00",
          "2025-02-28T00:00:00",
          "2025-03-01T00:00:00",
          "2025-03-02T00:00:00",
          "2025-03-03T00:00:00",
          "2025-03-04T00:00:00",
          "2025-03-05T00:00:00",
          "2025-03-06T00:00:00",
          "2025-03-07T00:00:00",
          "2025-03-08T00:00:00",
          "2025-03-09T00:00:00",
          "2025-03-10T00:00:00",
          "2025-03-11T00:00:00",
          "2025-03-12T00:00:00",
          "2025-03-13T00:00:00",
          "2025-03-14T00:00:00",
          "2025-03-15T00:00:00",
          "2025-03-16T00:00:00",
          "2025-03-17T00:00:00",
          "2025-03-18T00:00:00",
          "2025-03-19T00:00:00",
          "2025-03-20T00:00:00",
          "2025-03-21T00:00:00",
          "2025-03-22T00:00:00",
          "2025-03-23T00:00:00",
          "2025-03-24T00:00:00",
          "2025-03-25T00:00:00",
          "2025-03-26T00:00:00",
          "2025-03-27T00:00:00",
          "2025-03-28T00:00:00",
          "2025-03-29T00:00:00",
          "2025-03-30T00:00:00",
          "2025-03-31T00:00:00",
          "2025-04-01T00:00:00",
          "2025-04-02T00:00:00",
          "2025-04-03T00:00:00",
          "2025-04-04T00:00:00",
          "2025-04-05T00:00:00",
          "2025-04-06T00:00:00",
          "2025-04-07T00:00:00",
          "2025-04-08T00:00:00",
          "2025-04-09T00:00:00",
          "2025-04-10T00:00:00",
          "2025-04-11T00:00:00",
          "2025-04-12T00:00:00",
          "2025-04-13T00:00:00",
          "2025-04-14T00:00:00",
          "2025-04-15T00:00:00",
          "2025-04-16T00:00:00",
          "2025-04-17T00:00:00",
          "2025-04-18T00:00:00"
         ],
         "xaxis": "x",
         "y": [
          3164.472900390625,
          3120.264404296875,
          3115.707275390625,
          3235.139892578125,
          3270.968017578125,
          3230.45751953125,
          3067.296142578125,
          3003.2470703125,
          3029.9765625,
          3122.176513671875,
          3085.8427734375,
          3104.987060546875,
          3027.902099609375,
          3009.455322265625,
          3048.239501953125,
          3123.26708984375,
          2945.602783203125,
          2965.092041015625,
          2957.711181640625,
          2961.96728515625,
          2946.455810546875,
          3072.567138671875,
          2965.419677734375,
          3171.023193359375,
          3085.5634765625,
          3084.213134765625,
          3254.032958984375,
          3666.002685546875,
          3951.409912109375,
          3952.755859375,
          3973.10498046875,
          3972.115234375,
          3970.260498046875,
          3965.556640625,
          4097.2763671875,
          4048.84375,
          4039.531494140625,
          3967.892333984375,
          3932.94091796875,
          3982.449951171875,
          3953.77001953125,
          3955.757080078125,
          4019.574951171875,
          3969.936767578125,
          3905.57373046875,
          3700.036865234375,
          3636.893310546875,
          3577.139892578125,
          3528.390380859375,
          3608.036865234375,
          3481.91943359375,
          3514.816162109375,
          3559.358642578125,
          3606.572021484375,
          3517.52978515625,
          3503.64892578125,
          3510.499267578125,
          3493.8349609375,
          3594.7646484375,
          3554.86865234375,
          3447.871826171875,
          3404.87255859375,
          3469.616455078125,
          3447.94287109375,
          3463.4150390625,
          3488.849365234375,
          3454.812744140625,
          3406.82177734375,
          3472.6064453125,
          3432.443359375,
          3188.92138671875,
          2954.416015625,
          2943.236572265625,
          3054.6025390625,
          2904.41259765625,
          3009.478759765625,
          3024.620361328125,
          3038.92724609375,
          3111.837890625,
          3089.812255859375,
          3123.32958984375,
          3183.623046875,
          3354.416259765625,
          3397.874755859375,
          3484.053466796875,
          3458.509765625,
          3483.917724609375,
          3512.463623046875,
          3546.480712890625,
          3465.48974609375,
          3513.667236328125,
          3329.980712890625,
          3232.86181640625,
          3264.944580078125,
          3191.028564453125,
          3212.14892578125,
          3218.132080078125,
          3163.859130859375,
          3191.02587890625,
          3239.68896484375,
          3045.23193359375,
          2952.08935546875,
          2763.346923828125,
          2599.317138671875,
          2460.667236328125,
          2356.482177734375,
          2619.57568359375,
          2602.97900390625,
          2653.07763671875,
          2601.40185546875,
          2718.1884765625,
          2690.89013671875,
          2653.138916015625,
          2599.468994140625,
          2704.842529296875,
          2725.388427734375,
          2730.33447265625,
          2741.8779296875,
          2578.09521484375,
          2637.369873046875,
          2696.388427734375,
          2776.91943359375,
          2756.231689453125,
          2711.139404296875,
          2634.606201171875,
          2481.27685546875,
          2418.36279296875,
          2524.25390625,
          2529.126220703125,
          2516.75732421875,
          2402.382080078125,
          2419.8984375,
          2356.479736328125,
          2380.63916015625,
          2301.337890625,
          2242.73291015625,
          2271.4111328125,
          2292.981201171875,
          2329.915283203125,
          2341.817626953125,
          2344.084716796875,
          2344.578857421875,
          2416.3642578125,
          2412.657958984375,
          2354.15966796875,
          2402.206298828125,
          2368.9912109375,
          2416.11181640625,
          2434.29150390625,
          2486.26513671875,
          2595.63427734375,
          2588.624267578125,
          2668.802490234375,
          2737.04345703125,
          2624.66845703125,
          2670.807861328125,
          2751.264892578125,
          2695.00732421875,
          2708.71240234375,
          2592.736328125,
          2521.3896484375,
          2372.234130859375,
          2344.113037109375,
          2424.574462890625,
          2359.7431640625,
          2366.625732421875,
          2323.528564453125,
          2401.388671875,
          2353.73583984375,
          2392.644775390625,
          2430.60595703125,
          2431.858154296875,
          2529.39453125,
          2551.546875,
          2654.280029296875,
          2735.113037109375,
          2751.764892578125,
          2787.6328125,
          2749.442626953125,
          2805.780029296875,
          2629.36669921875,
          2666.12060546875,
          2546.901123046875,
          2572.45751953125,
          2475.702880859375,
          2442.33349609375,
          2576.783935546875,
          2579.125244140625,
          2627.139404296875,
          2748.733642578125,
          2531.514404296875,
          2580.18115234375,
          2538.5830078125,
          2443.245849609375,
          2386.877197265625,
          2487.76416015625,
          2674.6318359375,
          2885.074462890625,
          2992.888671875,
          3081.49072265625,
          3112.283935546875,
          3210.957763671875,
          3220.960205078125,
          3231.688232421875,
          3116.822509765625,
          3135.181640625,
          3152.620361328125,
          3086.216552734375,
          3154.902099609375,
          3137.703857421875,
          3005.835205078125,
          3166.391357421875,
          3279.42822265625,
          3143.353271484375,
          3285.661865234375,
          3338.675537109375,
          3312.7841796875,
          3338.459228515625,
          3547.623291015625,
          3582.58447265625,
          3622.863037109375,
          3581.41943359375,
          3633.5439453125,
          3644.477294921875,
          3716.323974609375,
          3856.13818359375,
          3877.378662109375,
          3835.828857421875,
          3886.778564453125,
          3771.177978515625,
          3791.80029296875,
          3710.17138671875,
          3824.28271484375,
          3849.927490234375,
          3880.923583984375,
          3869.89697265625,
          3929.450927734375,
          3933.957275390625,
          3838.947509765625,
          3515.270263671875,
          3483.229248046875,
          3314.121337890625,
          3328.377685546875,
          3249.06298828125,
          3433.32177734375,
          3458.549560546875,
          3227.905517578125,
          3325.081298828125,
          3352.582763671875,
          3380.87939453125,
          3374.56201171875,
          3306.36767578125,
          3386.932373046875,
          3464.915771484375,
          3580.529052734375,
          3547.978271484375,
          3559.271728515625,
          3568.743896484375,
          3385.638671875,
          3363.5869140625,
          3160.351318359375,
          3270.5068359375,
          3223.70849609375,
          3268.346923828125,
          3160.45068359375,
          3147.704345703125,
          3405.64404296875,
          3376.1875,
          3391.90087890625,
          3338.931640625,
          3183.628662109375,
          3290.320556640625,
          3248.783935546875,
          3202.370849609375,
          3319.452392578125,
          3362.763916015625,
          3294.604248046875,
          3237.51318359375,
          3241.44140625,
          3114.855224609375,
          3077.04541015625,
          3172.681884765625,
          3237.034912109375,
          3127.135986328125,
          2981.01416015625,
          2999.38623046875,
          2816.15087890625,
          2870.168701171875,
          2736.433837890625,
          2666.06982421875,
          2698.39990234375,
          2671.729736328125,
          2726.80419921875,
          2613.914794921875,
          2803.938720703125,
          2646.424072265625,
          2847.085205078125,
          2682.525390625,
          2680.78125,
          2815.755615234375,
          2603.12841796875,
          2771.175048828125,
          2798.6591796875,
          2615.66162109375,
          2819.171630859375,
          2793.52099609375,
          2616.78369140625,
          2559.166015625,
          2401.45068359375,
          2323.33544921875,
          2361.89111328125,
          2263.10400390625,
          2397.323974609375,
          2243.74462890625,
          2188.81201171875,
          2206.561767578125,
          2197.301513671875,
          2233.80029296875,
          2227.947509765625,
          2082.13818359375,
          1959.202392578125,
          1991.1300048828125,
          1906.8421630859375,
          1905.22314453125,
          1965.43603515625,
          1912.92041015625,
          1868.1383056640625,
          1958.3609619140625,
          1890.7301025390625,
          2004.720703125
         ],
         "yaxis": "y"
        }
       ],
       "layout": {
        "legend": {
         "title": {
          "text": "variable"
         },
         "tracegroupgap": 0
        },
        "template": {
         "data": {
          "bar": [
           {
            "error_x": {
             "color": "#f2f5fa"
            },
            "error_y": {
             "color": "#f2f5fa"
            },
            "marker": {
             "line": {
              "color": "rgb(17,17,17)",
              "width": 0.5
             },
             "pattern": {
              "fillmode": "overlay",
              "size": 10,
              "solidity": 0.2
             }
            },
            "type": "bar"
           }
          ],
          "barpolar": [
           {
            "marker": {
             "line": {
              "color": "rgb(17,17,17)",
              "width": 0.5
             },
             "pattern": {
              "fillmode": "overlay",
              "size": 10,
              "solidity": 0.2
             }
            },
            "type": "barpolar"
           }
          ],
          "carpet": [
           {
            "aaxis": {
             "endlinecolor": "#A2B1C6",
             "gridcolor": "#506784",
             "linecolor": "#506784",
             "minorgridcolor": "#506784",
             "startlinecolor": "#A2B1C6"
            },
            "baxis": {
             "endlinecolor": "#A2B1C6",
             "gridcolor": "#506784",
             "linecolor": "#506784",
             "minorgridcolor": "#506784",
             "startlinecolor": "#A2B1C6"
            },
            "type": "carpet"
           }
          ],
          "choropleth": [
           {
            "colorbar": {
             "outlinewidth": 0,
             "ticks": ""
            },
            "type": "choropleth"
           }
          ],
          "contour": [
           {
            "colorbar": {
             "outlinewidth": 0,
             "ticks": ""
            },
            "colorscale": [
             [
              0,
              "#0d0887"
             ],
             [
              0.1111111111111111,
              "#46039f"
             ],
             [
              0.2222222222222222,
              "#7201a8"
             ],
             [
              0.3333333333333333,
              "#9c179e"
             ],
             [
              0.4444444444444444,
              "#bd3786"
             ],
             [
              0.5555555555555556,
              "#d8576b"
             ],
             [
              0.6666666666666666,
              "#ed7953"
             ],
             [
              0.7777777777777778,
              "#fb9f3a"
             ],
             [
              0.8888888888888888,
              "#fdca26"
             ],
             [
              1,
              "#f0f921"
             ]
            ],
            "type": "contour"
           }
          ],
          "contourcarpet": [
           {
            "colorbar": {
             "outlinewidth": 0,
             "ticks": ""
            },
            "type": "contourcarpet"
           }
          ],
          "heatmap": [
           {
            "colorbar": {
             "outlinewidth": 0,
             "ticks": ""
            },
            "colorscale": [
             [
              0,
              "#0d0887"
             ],
             [
              0.1111111111111111,
              "#46039f"
             ],
             [
              0.2222222222222222,
              "#7201a8"
             ],
             [
              0.3333333333333333,
              "#9c179e"
             ],
             [
              0.4444444444444444,
              "#bd3786"
             ],
             [
              0.5555555555555556,
              "#d8576b"
             ],
             [
              0.6666666666666666,
              "#ed7953"
             ],
             [
              0.7777777777777778,
              "#fb9f3a"
             ],
             [
              0.8888888888888888,
              "#fdca26"
             ],
             [
              1,
              "#f0f921"
             ]
            ],
            "type": "heatmap"
           }
          ],
          "heatmapgl": [
           {
            "colorbar": {
             "outlinewidth": 0,
             "ticks": ""
            },
            "colorscale": [
             [
              0,
              "#0d0887"
             ],
             [
              0.1111111111111111,
              "#46039f"
             ],
             [
              0.2222222222222222,
              "#7201a8"
             ],
             [
              0.3333333333333333,
              "#9c179e"
             ],
             [
              0.4444444444444444,
              "#bd3786"
             ],
             [
              0.5555555555555556,
              "#d8576b"
             ],
             [
              0.6666666666666666,
              "#ed7953"
             ],
             [
              0.7777777777777778,
              "#fb9f3a"
             ],
             [
              0.8888888888888888,
              "#fdca26"
             ],
             [
              1,
              "#f0f921"
             ]
            ],
            "type": "heatmapgl"
           }
          ],
          "histogram": [
           {
            "marker": {
             "pattern": {
              "fillmode": "overlay",
              "size": 10,
              "solidity": 0.2
             }
            },
            "type": "histogram"
           }
          ],
          "histogram2d": [
           {
            "colorbar": {
             "outlinewidth": 0,
             "ticks": ""
            },
            "colorscale": [
             [
              0,
              "#0d0887"
             ],
             [
              0.1111111111111111,
              "#46039f"
             ],
             [
              0.2222222222222222,
              "#7201a8"
             ],
             [
              0.3333333333333333,
              "#9c179e"
             ],
             [
              0.4444444444444444,
              "#bd3786"
             ],
             [
              0.5555555555555556,
              "#d8576b"
             ],
             [
              0.6666666666666666,
              "#ed7953"
             ],
             [
              0.7777777777777778,
              "#fb9f3a"
             ],
             [
              0.8888888888888888,
              "#fdca26"
             ],
             [
              1,
              "#f0f921"
             ]
            ],
            "type": "histogram2d"
           }
          ],
          "histogram2dcontour": [
           {
            "colorbar": {
             "outlinewidth": 0,
             "ticks": ""
            },
            "colorscale": [
             [
              0,
              "#0d0887"
             ],
             [
              0.1111111111111111,
              "#46039f"
             ],
             [
              0.2222222222222222,
              "#7201a8"
             ],
             [
              0.3333333333333333,
              "#9c179e"
             ],
             [
              0.4444444444444444,
              "#bd3786"
             ],
             [
              0.5555555555555556,
              "#d8576b"
             ],
             [
              0.6666666666666666,
              "#ed7953"
             ],
             [
              0.7777777777777778,
              "#fb9f3a"
             ],
             [
              0.8888888888888888,
              "#fdca26"
             ],
             [
              1,
              "#f0f921"
             ]
            ],
            "type": "histogram2dcontour"
           }
          ],
          "mesh3d": [
           {
            "colorbar": {
             "outlinewidth": 0,
             "ticks": ""
            },
            "type": "mesh3d"
           }
          ],
          "parcoords": [
           {
            "line": {
             "colorbar": {
              "outlinewidth": 0,
              "ticks": ""
             }
            },
            "type": "parcoords"
           }
          ],
          "pie": [
           {
            "automargin": true,
            "type": "pie"
           }
          ],
          "scatter": [
           {
            "marker": {
             "line": {
              "color": "#283442"
             }
            },
            "type": "scatter"
           }
          ],
          "scatter3d": [
           {
            "line": {
             "colorbar": {
              "outlinewidth": 0,
              "ticks": ""
             }
            },
            "marker": {
             "colorbar": {
              "outlinewidth": 0,
              "ticks": ""
             }
            },
            "type": "scatter3d"
           }
          ],
          "scattercarpet": [
           {
            "marker": {
             "colorbar": {
              "outlinewidth": 0,
              "ticks": ""
             }
            },
            "type": "scattercarpet"
           }
          ],
          "scattergeo": [
           {
            "marker": {
             "colorbar": {
              "outlinewidth": 0,
              "ticks": ""
             }
            },
            "type": "scattergeo"
           }
          ],
          "scattergl": [
           {
            "marker": {
             "line": {
              "color": "#283442"
             }
            },
            "type": "scattergl"
           }
          ],
          "scattermapbox": [
           {
            "marker": {
             "colorbar": {
              "outlinewidth": 0,
              "ticks": ""
             }
            },
            "type": "scattermapbox"
           }
          ],
          "scatterpolar": [
           {
            "marker": {
             "colorbar": {
              "outlinewidth": 0,
              "ticks": ""
             }
            },
            "type": "scatterpolar"
           }
          ],
          "scatterpolargl": [
           {
            "marker": {
             "colorbar": {
              "outlinewidth": 0,
              "ticks": ""
             }
            },
            "type": "scatterpolargl"
           }
          ],
          "scatterternary": [
           {
            "marker": {
             "colorbar": {
              "outlinewidth": 0,
              "ticks": ""
             }
            },
            "type": "scatterternary"
           }
          ],
          "surface": [
           {
            "colorbar": {
             "outlinewidth": 0,
             "ticks": ""
            },
            "colorscale": [
             [
              0,
              "#0d0887"
             ],
             [
              0.1111111111111111,
              "#46039f"
             ],
             [
              0.2222222222222222,
              "#7201a8"
             ],
             [
              0.3333333333333333,
              "#9c179e"
             ],
             [
              0.4444444444444444,
              "#bd3786"
             ],
             [
              0.5555555555555556,
              "#d8576b"
             ],
             [
              0.6666666666666666,
              "#ed7953"
             ],
             [
              0.7777777777777778,
              "#fb9f3a"
             ],
             [
              0.8888888888888888,
              "#fdca26"
             ],
             [
              1,
              "#f0f921"
             ]
            ],
            "type": "surface"
           }
          ],
          "table": [
           {
            "cells": {
             "fill": {
              "color": "#506784"
             },
             "line": {
              "color": "rgb(17,17,17)"
             }
            },
            "header": {
             "fill": {
              "color": "#2a3f5f"
             },
             "line": {
              "color": "rgb(17,17,17)"
             }
            },
            "type": "table"
           }
          ]
         },
         "layout": {
          "annotationdefaults": {
           "arrowcolor": "#f2f5fa",
           "arrowhead": 0,
           "arrowwidth": 1
          },
          "autotypenumbers": "strict",
          "coloraxis": {
           "colorbar": {
            "outlinewidth": 0,
            "ticks": ""
           }
          },
          "colorscale": {
           "diverging": [
            [
             0,
             "#8e0152"
            ],
            [
             0.1,
             "#c51b7d"
            ],
            [
             0.2,
             "#de77ae"
            ],
            [
             0.3,
             "#f1b6da"
            ],
            [
             0.4,
             "#fde0ef"
            ],
            [
             0.5,
             "#f7f7f7"
            ],
            [
             0.6,
             "#e6f5d0"
            ],
            [
             0.7,
             "#b8e186"
            ],
            [
             0.8,
             "#7fbc41"
            ],
            [
             0.9,
             "#4d9221"
            ],
            [
             1,
             "#276419"
            ]
           ],
           "sequential": [
            [
             0,
             "#0d0887"
            ],
            [
             0.1111111111111111,
             "#46039f"
            ],
            [
             0.2222222222222222,
             "#7201a8"
            ],
            [
             0.3333333333333333,
             "#9c179e"
            ],
            [
             0.4444444444444444,
             "#bd3786"
            ],
            [
             0.5555555555555556,
             "#d8576b"
            ],
            [
             0.6666666666666666,
             "#ed7953"
            ],
            [
             0.7777777777777778,
             "#fb9f3a"
            ],
            [
             0.8888888888888888,
             "#fdca26"
            ],
            [
             1,
             "#f0f921"
            ]
           ],
           "sequentialminus": [
            [
             0,
             "#0d0887"
            ],
            [
             0.1111111111111111,
             "#46039f"
            ],
            [
             0.2222222222222222,
             "#7201a8"
            ],
            [
             0.3333333333333333,
             "#9c179e"
            ],
            [
             0.4444444444444444,
             "#bd3786"
            ],
            [
             0.5555555555555556,
             "#d8576b"
            ],
            [
             0.6666666666666666,
             "#ed7953"
            ],
            [
             0.7777777777777778,
             "#fb9f3a"
            ],
            [
             0.8888888888888888,
             "#fdca26"
            ],
            [
             1,
             "#f0f921"
            ]
           ]
          },
          "colorway": [
           "#636efa",
           "#EF553B",
           "#00cc96",
           "#ab63fa",
           "#FFA15A",
           "#19d3f3",
           "#FF6692",
           "#B6E880",
           "#FF97FF",
           "#FECB52"
          ],
          "font": {
           "color": "#f2f5fa"
          },
          "geo": {
           "bgcolor": "rgb(17,17,17)",
           "lakecolor": "rgb(17,17,17)",
           "landcolor": "rgb(17,17,17)",
           "showlakes": true,
           "showland": true,
           "subunitcolor": "#506784"
          },
          "hoverlabel": {
           "align": "left"
          },
          "hovermode": "closest",
          "mapbox": {
           "style": "dark"
          },
          "paper_bgcolor": "rgb(17,17,17)",
          "plot_bgcolor": "rgb(17,17,17)",
          "polar": {
           "angularaxis": {
            "gridcolor": "#506784",
            "linecolor": "#506784",
            "ticks": ""
           },
           "bgcolor": "rgb(17,17,17)",
           "radialaxis": {
            "gridcolor": "#506784",
            "linecolor": "#506784",
            "ticks": ""
           }
          },
          "scene": {
           "xaxis": {
            "backgroundcolor": "rgb(17,17,17)",
            "gridcolor": "#506784",
            "gridwidth": 2,
            "linecolor": "#506784",
            "showbackground": true,
            "ticks": "",
            "zerolinecolor": "#C8D4E3"
           },
           "yaxis": {
            "backgroundcolor": "rgb(17,17,17)",
            "gridcolor": "#506784",
            "gridwidth": 2,
            "linecolor": "#506784",
            "showbackground": true,
            "ticks": "",
            "zerolinecolor": "#C8D4E3"
           },
           "zaxis": {
            "backgroundcolor": "rgb(17,17,17)",
            "gridcolor": "#506784",
            "gridwidth": 2,
            "linecolor": "#506784",
            "showbackground": true,
            "ticks": "",
            "zerolinecolor": "#C8D4E3"
           }
          },
          "shapedefaults": {
           "line": {
            "color": "#f2f5fa"
           }
          },
          "sliderdefaults": {
           "bgcolor": "#C8D4E3",
           "bordercolor": "rgb(17,17,17)",
           "borderwidth": 1,
           "tickwidth": 0
          },
          "ternary": {
           "aaxis": {
            "gridcolor": "#506784",
            "linecolor": "#506784",
            "ticks": ""
           },
           "baxis": {
            "gridcolor": "#506784",
            "linecolor": "#506784",
            "ticks": ""
           },
           "bgcolor": "rgb(17,17,17)",
           "caxis": {
            "gridcolor": "#506784",
            "linecolor": "#506784",
            "ticks": ""
           }
          },
          "title": {
           "x": 0.05
          },
          "updatemenudefaults": {
           "bgcolor": "#506784",
           "borderwidth": 0
          },
          "xaxis": {
           "automargin": true,
           "gridcolor": "#283442",
           "linecolor": "#506784",
           "ticks": "",
           "title": {
            "standoff": 15
           },
           "zerolinecolor": "#283442",
           "zerolinewidth": 2
          },
          "yaxis": {
           "automargin": true,
           "gridcolor": "#283442",
           "linecolor": "#506784",
           "ticks": "",
           "title": {
            "standoff": 15
           },
           "zerolinecolor": "#283442",
           "zerolinewidth": 2
          }
         }
        },
        "title": {
         "text": "ETHUSDT"
        },
        "xaxis": {
         "anchor": "y",
         "domain": [
          0,
          1
         ],
         "title": {
          "text": "x"
         }
        },
        "yaxis": {
         "anchor": "x",
         "domain": [
          0,
          1
         ],
         "title": {
          "text": "close price $"
         }
        }
       }
      }
     },
     "metadata": {},
     "output_type": "display_data"
    },
    {
     "name": "stdout",
     "output_type": "stream",
     "text": [
      "| timestamp           |   close |   close_lag_1 |   close_lag_3 |   close_lag_5 |     ma7 |    ma30 |    std7 |   price_change_1d |   price_change_7d |     rsi |\n",
      "|:--------------------|--------:|--------------:|--------------:|--------------:|--------:|--------:|--------:|------------------:|------------------:|--------:|\n",
      "| 2025-04-17 00:00:00 |   74.95 |         74.33 |         77.18 |         78.62 | 76.3414 | 82.9277 | 1.59811 |        0.00834118 |         0.0154451 | 38.1219 |\n",
      "| 2025-04-18 00:00:00 |   75.6  |         74.95 |         75.27 |         77.85 | 76.2571 | 82.3113 | 1.62279 |        0.00867245 |        -0.0077438 | 37.5811 |\n",
      "x shape (1647, 1080)\n",
      "y shape (1647, 30)\n",
      "\n",
      "--- Training multi output XGB regressor ---\n",
      "...\n",
      "\n",
      "---Evaluating model ---\n",
      "--- LTCUSDT ---\n",
      "multi step model MAE: 10.41\n",
      "multi step model MSE: 235.69\n",
      "multi step model R2: 0.49\n"
     ]
    },
    {
     "data": {
      "application/vnd.plotly.v1+json": {
       "config": {
        "plotlyServerURL": "https://plot.ly"
       },
       "data": [
        {
         "hovertemplate": "variable=close<br>x=%{x}<br>close price $=%{y}<extra></extra>",
         "legendgroup": "close",
         "line": {
          "color": "#636efa",
          "dash": "solid"
         },
         "marker": {
          "symbol": "circle"
         },
         "mode": "lines",
         "name": "close",
         "orientation": "v",
         "showlegend": true,
         "type": "scatter",
         "x": [
          "2024-05-24T00:00:00",
          "2024-05-25T00:00:00",
          "2024-05-26T00:00:00",
          "2024-05-27T00:00:00",
          "2024-05-28T00:00:00",
          "2024-05-29T00:00:00",
          "2024-05-30T00:00:00",
          "2024-05-31T00:00:00",
          "2024-06-01T00:00:00",
          "2024-06-02T00:00:00",
          "2024-06-03T00:00:00",
          "2024-06-04T00:00:00",
          "2024-06-05T00:00:00",
          "2024-06-06T00:00:00",
          "2024-06-07T00:00:00",
          "2024-06-08T00:00:00",
          "2024-06-09T00:00:00",
          "2024-06-10T00:00:00",
          "2024-06-11T00:00:00",
          "2024-06-12T00:00:00",
          "2024-06-13T00:00:00",
          "2024-06-14T00:00:00",
          "2024-06-15T00:00:00",
          "2024-06-16T00:00:00",
          "2024-06-17T00:00:00",
          "2024-06-18T00:00:00",
          "2024-06-19T00:00:00",
          "2024-06-20T00:00:00",
          "2024-06-21T00:00:00",
          "2024-06-22T00:00:00",
          "2024-06-23T00:00:00",
          "2024-06-24T00:00:00",
          "2024-06-25T00:00:00",
          "2024-06-26T00:00:00",
          "2024-06-27T00:00:00",
          "2024-06-28T00:00:00",
          "2024-06-29T00:00:00",
          "2024-06-30T00:00:00",
          "2024-07-01T00:00:00",
          "2024-07-02T00:00:00",
          "2024-07-03T00:00:00",
          "2024-07-04T00:00:00",
          "2024-07-05T00:00:00",
          "2024-07-06T00:00:00",
          "2024-07-07T00:00:00",
          "2024-07-08T00:00:00",
          "2024-07-09T00:00:00",
          "2024-07-10T00:00:00",
          "2024-07-11T00:00:00",
          "2024-07-12T00:00:00",
          "2024-07-13T00:00:00",
          "2024-07-14T00:00:00",
          "2024-07-15T00:00:00",
          "2024-07-16T00:00:00",
          "2024-07-17T00:00:00",
          "2024-07-18T00:00:00",
          "2024-07-19T00:00:00",
          "2024-07-20T00:00:00",
          "2024-07-21T00:00:00",
          "2024-07-22T00:00:00",
          "2024-07-23T00:00:00",
          "2024-07-24T00:00:00",
          "2024-07-25T00:00:00",
          "2024-07-26T00:00:00",
          "2024-07-27T00:00:00",
          "2024-07-28T00:00:00",
          "2024-07-29T00:00:00",
          "2024-07-30T00:00:00",
          "2024-07-31T00:00:00",
          "2024-08-01T00:00:00",
          "2024-08-02T00:00:00",
          "2024-08-03T00:00:00",
          "2024-08-04T00:00:00",
          "2024-08-05T00:00:00",
          "2024-08-06T00:00:00",
          "2024-08-07T00:00:00",
          "2024-08-08T00:00:00",
          "2024-08-09T00:00:00",
          "2024-08-10T00:00:00",
          "2024-08-11T00:00:00",
          "2024-08-12T00:00:00",
          "2024-08-13T00:00:00",
          "2024-08-14T00:00:00",
          "2024-08-15T00:00:00",
          "2024-08-16T00:00:00",
          "2024-08-17T00:00:00",
          "2024-08-18T00:00:00",
          "2024-08-19T00:00:00",
          "2024-08-20T00:00:00",
          "2024-08-21T00:00:00",
          "2024-08-22T00:00:00",
          "2024-08-23T00:00:00",
          "2024-08-24T00:00:00",
          "2024-08-25T00:00:00",
          "2024-08-26T00:00:00",
          "2024-08-27T00:00:00",
          "2024-08-28T00:00:00",
          "2024-08-29T00:00:00",
          "2024-08-30T00:00:00",
          "2024-08-31T00:00:00",
          "2024-09-01T00:00:00",
          "2024-09-02T00:00:00",
          "2024-09-03T00:00:00",
          "2024-09-04T00:00:00",
          "2024-09-05T00:00:00",
          "2024-09-06T00:00:00",
          "2024-09-07T00:00:00",
          "2024-09-08T00:00:00",
          "2024-09-09T00:00:00",
          "2024-09-10T00:00:00",
          "2024-09-11T00:00:00",
          "2024-09-12T00:00:00",
          "2024-09-13T00:00:00",
          "2024-09-14T00:00:00",
          "2024-09-15T00:00:00",
          "2024-09-16T00:00:00",
          "2024-09-17T00:00:00",
          "2024-09-18T00:00:00",
          "2024-09-19T00:00:00",
          "2024-09-20T00:00:00",
          "2024-09-21T00:00:00",
          "2024-09-22T00:00:00",
          "2024-09-23T00:00:00",
          "2024-09-24T00:00:00",
          "2024-09-25T00:00:00",
          "2024-09-26T00:00:00",
          "2024-09-27T00:00:00",
          "2024-09-28T00:00:00",
          "2024-09-29T00:00:00",
          "2024-09-30T00:00:00",
          "2024-10-01T00:00:00",
          "2024-10-02T00:00:00",
          "2024-10-03T00:00:00",
          "2024-10-04T00:00:00",
          "2024-10-05T00:00:00",
          "2024-10-06T00:00:00",
          "2024-10-07T00:00:00",
          "2024-10-08T00:00:00",
          "2024-10-09T00:00:00",
          "2024-10-10T00:00:00",
          "2024-10-11T00:00:00",
          "2024-10-12T00:00:00",
          "2024-10-13T00:00:00",
          "2024-10-14T00:00:00",
          "2024-10-15T00:00:00",
          "2024-10-16T00:00:00",
          "2024-10-17T00:00:00",
          "2024-10-18T00:00:00",
          "2024-10-19T00:00:00",
          "2024-10-20T00:00:00",
          "2024-10-21T00:00:00",
          "2024-10-22T00:00:00",
          "2024-10-23T00:00:00",
          "2024-10-24T00:00:00",
          "2024-10-25T00:00:00",
          "2024-10-26T00:00:00",
          "2024-10-27T00:00:00",
          "2024-10-28T00:00:00",
          "2024-10-29T00:00:00",
          "2024-10-30T00:00:00",
          "2024-10-31T00:00:00",
          "2024-11-01T00:00:00",
          "2024-11-02T00:00:00",
          "2024-11-03T00:00:00",
          "2024-11-04T00:00:00",
          "2024-11-05T00:00:00",
          "2024-11-06T00:00:00",
          "2024-11-07T00:00:00",
          "2024-11-08T00:00:00",
          "2024-11-09T00:00:00",
          "2024-11-10T00:00:00",
          "2024-11-11T00:00:00",
          "2024-11-12T00:00:00",
          "2024-11-13T00:00:00",
          "2024-11-14T00:00:00",
          "2024-11-15T00:00:00",
          "2024-11-16T00:00:00",
          "2024-11-17T00:00:00",
          "2024-11-18T00:00:00",
          "2024-11-19T00:00:00",
          "2024-11-20T00:00:00",
          "2024-11-21T00:00:00",
          "2024-11-22T00:00:00",
          "2024-11-23T00:00:00",
          "2024-11-24T00:00:00",
          "2024-11-25T00:00:00",
          "2024-11-26T00:00:00",
          "2024-11-27T00:00:00",
          "2024-11-28T00:00:00",
          "2024-11-29T00:00:00",
          "2024-11-30T00:00:00",
          "2024-12-01T00:00:00",
          "2024-12-02T00:00:00",
          "2024-12-03T00:00:00",
          "2024-12-04T00:00:00",
          "2024-12-05T00:00:00",
          "2024-12-06T00:00:00",
          "2024-12-07T00:00:00",
          "2024-12-08T00:00:00",
          "2024-12-09T00:00:00",
          "2024-12-10T00:00:00",
          "2024-12-11T00:00:00",
          "2024-12-12T00:00:00",
          "2024-12-13T00:00:00",
          "2024-12-14T00:00:00",
          "2024-12-15T00:00:00",
          "2024-12-16T00:00:00",
          "2024-12-17T00:00:00",
          "2024-12-18T00:00:00",
          "2024-12-19T00:00:00",
          "2024-12-20T00:00:00",
          "2024-12-21T00:00:00",
          "2024-12-22T00:00:00",
          "2024-12-23T00:00:00",
          "2024-12-24T00:00:00",
          "2024-12-25T00:00:00",
          "2024-12-26T00:00:00",
          "2024-12-27T00:00:00",
          "2024-12-28T00:00:00",
          "2024-12-29T00:00:00",
          "2024-12-30T00:00:00",
          "2024-12-31T00:00:00",
          "2025-01-01T00:00:00",
          "2025-01-02T00:00:00",
          "2025-01-03T00:00:00",
          "2025-01-04T00:00:00",
          "2025-01-05T00:00:00",
          "2025-01-06T00:00:00",
          "2025-01-07T00:00:00",
          "2025-01-08T00:00:00",
          "2025-01-09T00:00:00",
          "2025-01-10T00:00:00",
          "2025-01-11T00:00:00",
          "2025-01-12T00:00:00",
          "2025-01-13T00:00:00",
          "2025-01-14T00:00:00",
          "2025-01-15T00:00:00",
          "2025-01-16T00:00:00",
          "2025-01-17T00:00:00",
          "2025-01-18T00:00:00",
          "2025-01-19T00:00:00",
          "2025-01-20T00:00:00",
          "2025-01-21T00:00:00",
          "2025-01-22T00:00:00",
          "2025-01-23T00:00:00",
          "2025-01-24T00:00:00",
          "2025-01-25T00:00:00",
          "2025-01-26T00:00:00",
          "2025-01-27T00:00:00",
          "2025-01-28T00:00:00",
          "2025-01-29T00:00:00",
          "2025-01-30T00:00:00",
          "2025-01-31T00:00:00",
          "2025-02-01T00:00:00",
          "2025-02-02T00:00:00",
          "2025-02-03T00:00:00",
          "2025-02-04T00:00:00",
          "2025-02-05T00:00:00",
          "2025-02-06T00:00:00",
          "2025-02-07T00:00:00",
          "2025-02-08T00:00:00",
          "2025-02-09T00:00:00",
          "2025-02-10T00:00:00",
          "2025-02-11T00:00:00",
          "2025-02-12T00:00:00",
          "2025-02-13T00:00:00",
          "2025-02-14T00:00:00",
          "2025-02-15T00:00:00",
          "2025-02-16T00:00:00",
          "2025-02-17T00:00:00",
          "2025-02-18T00:00:00",
          "2025-02-19T00:00:00",
          "2025-02-20T00:00:00",
          "2025-02-21T00:00:00",
          "2025-02-22T00:00:00",
          "2025-02-23T00:00:00",
          "2025-02-24T00:00:00",
          "2025-02-25T00:00:00",
          "2025-02-26T00:00:00",
          "2025-02-27T00:00:00",
          "2025-02-28T00:00:00",
          "2025-03-01T00:00:00",
          "2025-03-02T00:00:00",
          "2025-03-03T00:00:00",
          "2025-03-04T00:00:00",
          "2025-03-05T00:00:00",
          "2025-03-06T00:00:00",
          "2025-03-07T00:00:00",
          "2025-03-08T00:00:00",
          "2025-03-09T00:00:00",
          "2025-03-10T00:00:00",
          "2025-03-11T00:00:00",
          "2025-03-12T00:00:00",
          "2025-03-13T00:00:00",
          "2025-03-14T00:00:00",
          "2025-03-15T00:00:00",
          "2025-03-16T00:00:00",
          "2025-03-17T00:00:00",
          "2025-03-18T00:00:00",
          "2025-03-19T00:00:00",
          "2025-03-20T00:00:00",
          "2025-03-21T00:00:00",
          "2025-03-22T00:00:00",
          "2025-03-23T00:00:00",
          "2025-03-24T00:00:00",
          "2025-03-25T00:00:00",
          "2025-03-26T00:00:00",
          "2025-03-27T00:00:00",
          "2025-03-28T00:00:00",
          "2025-03-29T00:00:00",
          "2025-03-30T00:00:00",
          "2025-03-31T00:00:00",
          "2025-04-01T00:00:00",
          "2025-04-02T00:00:00",
          "2025-04-03T00:00:00",
          "2025-04-04T00:00:00",
          "2025-04-05T00:00:00",
          "2025-04-06T00:00:00",
          "2025-04-07T00:00:00",
          "2025-04-08T00:00:00",
          "2025-04-09T00:00:00",
          "2025-04-10T00:00:00",
          "2025-04-11T00:00:00",
          "2025-04-12T00:00:00",
          "2025-04-13T00:00:00",
          "2025-04-14T00:00:00",
          "2025-04-15T00:00:00",
          "2025-04-16T00:00:00",
          "2025-04-17T00:00:00",
          "2025-04-18T00:00:00"
         ],
         "xaxis": "x",
         "y": [
          83.78,
          88.1,
          83.88,
          83.99,
          83.51,
          79.49,
          80.17,
          80.02,
          81.85,
          81.66,
          81.32,
          80.79,
          80.84,
          81.7,
          83.08,
          80.22,
          81.39,
          81.41,
          80.62,
          78.79,
          82.45,
          82.43,
          84.14,
          83.84,
          82.4,
          88.64,
          88.26,
          85.78,
          85.45,
          85,
          84.98,
          83.9,
          85.24,
          83.44,
          83.59,
          84.42,
          83.21,
          83.48,
          83.11,
          82.82,
          83.65,
          85.44,
          84.19,
          80.13,
          79.97,
          80.49,
          79.66,
          77.32,
          78.5,
          79.15,
          77.61,
          79.23,
          78.98,
          76.59,
          72.66,
          73.77,
          74.69,
          74.17,
          74.61,
          73.37,
          69.68,
          71.35,
          71.02,
          73.28,
          72.9,
          74.95,
          75.31,
          74.38,
          76.04,
          72.08,
          65.42,
          61.85,
          65.39,
          62.05,
          64.92,
          65.3,
          66.96,
          67.36,
          69.25,
          69.82,
          69.92,
          72.29,
          73.21,
          71.38,
          71.63,
          73.4,
          73.03,
          73.98,
          71.26,
          72.92,
          71.29,
          68.79,
          71.31,
          71.32,
          71.07,
          73.69,
          71.69,
          70.14,
          69.59,
          65.06,
          64.65,
          62.46,
          56.08,
          58.25,
          55.99,
          61.16,
          60.72,
          61.16,
          59.73,
          61.5,
          63.44,
          64.06,
          65.33,
          66.49,
          67.59,
          66.33,
          66.32,
          64.41,
          64.27,
          63.77,
          66.1,
          66.57,
          64.82,
          63.01,
          60.38,
          61.82,
          62.47,
          64.94,
          64.97,
          63.59,
          65.33,
          64.36,
          65.42,
          66.08,
          63.05,
          62.07,
          60.95,
          61.42,
          61.51,
          62.19,
          62.84,
          64.91,
          65.91,
          63.24,
          62.62,
          63.77,
          64.84,
          65.4,
          65.33,
          66.84,
          68.68,
          66.96,
          66.7,
          66.55,
          68.54,
          71.13,
          69.95,
          69.27,
          66.82,
          63.41,
          62.95,
          63.44,
          64.95,
          66.29,
          67.02,
          64.77,
          65.69,
          64.59,
          64.32,
          65.58,
          66.19,
          64.8,
          66.83,
          70.87,
          70.08,
          72.8,
          73.11,
          74.9,
          74.3,
          70.77,
          70.04,
          70.04,
          71.18,
          68.84,
          68.47,
          71.06,
          70.8,
          73.98,
          71.76,
          69.33,
          70.27,
          69.2,
          66.86,
          65.56,
          65.39,
          71.01,
          71.45,
          72.78,
          73.98,
          76.58,
          80.03,
          76.69,
          75.39,
          82.38,
          83.7,
          95.42,
          87.2,
          89.22,
          86.68,
          83.38,
          89.51,
          92.2,
          99.5,
          96.92,
          92.26,
          92.82,
          97.23,
          95.54,
          104.77,
          102.74,
          119.55,
          132.93,
          130.89,
          133.69,
          135.78,
          135.93,
          133.79,
          134.91,
          110.44,
          109.8,
          117.3,
          119.24,
          124.52,
          118.21,
          121.11,
          117.99,
          125.63,
          108.35,
          99.36,
          101.38,
          101.56,
          99.78,
          106.77,
          108.35,
          109.82,
          102.23,
          100.58,
          100.74,
          98.51,
          99.4,
          103.28,
          105.24,
          105.14,
          112.71,
          111.21,
          115.72,
          114.01,
          102.72,
          101.43,
          102.23,
          103.96,
          104.39,
          102.34,
          98.37,
          102.45,
          116.96,
          124.41,
          137.04,
          125.4,
          115.57,
          118.58,
          119.11,
          115.38,
          116.42,
          118.71,
          123.92,
          117.11,
          115.06,
          109.92,
          115.9,
          130.15,
          128.09,
          118.04,
          109.12,
          106.91,
          101.07,
          103.38,
          101.66,
          103.11,
          104.69,
          107.2,
          120.21,
          119.27,
          122.04,
          126.61,
          124.91,
          133.86,
          125.71,
          122.31,
          129.75,
          134.88,
          130.82,
          128.1,
          125.9,
          129.85,
          114.77,
          114.55,
          124.68,
          126.86,
          128.04,
          124.31,
          127.89,
          109.89,
          103.66,
          104.73,
          103.39,
          103.71,
          102.34,
          94.62,
          87.48,
          90.46,
          91.51,
          88.08,
          91.31,
          92.47,
          90.22,
          92.3,
          90.03,
          94.09,
          93.29
         ],
         "yaxis": "y"
        },
        {
         "hovertemplate": "variable=predictions<br>x=%{x}<br>close price $=%{y}<extra></extra>",
         "legendgroup": "predictions",
         "line": {
          "color": "#EF553B",
          "dash": "solid"
         },
         "marker": {
          "symbol": "circle"
         },
         "mode": "lines",
         "name": "predictions",
         "orientation": "v",
         "showlegend": true,
         "type": "scatter",
         "x": [
          "2024-05-24T00:00:00",
          "2024-05-25T00:00:00",
          "2024-05-26T00:00:00",
          "2024-05-27T00:00:00",
          "2024-05-28T00:00:00",
          "2024-05-29T00:00:00",
          "2024-05-30T00:00:00",
          "2024-05-31T00:00:00",
          "2024-06-01T00:00:00",
          "2024-06-02T00:00:00",
          "2024-06-03T00:00:00",
          "2024-06-04T00:00:00",
          "2024-06-05T00:00:00",
          "2024-06-06T00:00:00",
          "2024-06-07T00:00:00",
          "2024-06-08T00:00:00",
          "2024-06-09T00:00:00",
          "2024-06-10T00:00:00",
          "2024-06-11T00:00:00",
          "2024-06-12T00:00:00",
          "2024-06-13T00:00:00",
          "2024-06-14T00:00:00",
          "2024-06-15T00:00:00",
          "2024-06-16T00:00:00",
          "2024-06-17T00:00:00",
          "2024-06-18T00:00:00",
          "2024-06-19T00:00:00",
          "2024-06-20T00:00:00",
          "2024-06-21T00:00:00",
          "2024-06-22T00:00:00",
          "2024-06-23T00:00:00",
          "2024-06-24T00:00:00",
          "2024-06-25T00:00:00",
          "2024-06-26T00:00:00",
          "2024-06-27T00:00:00",
          "2024-06-28T00:00:00",
          "2024-06-29T00:00:00",
          "2024-06-30T00:00:00",
          "2024-07-01T00:00:00",
          "2024-07-02T00:00:00",
          "2024-07-03T00:00:00",
          "2024-07-04T00:00:00",
          "2024-07-05T00:00:00",
          "2024-07-06T00:00:00",
          "2024-07-07T00:00:00",
          "2024-07-08T00:00:00",
          "2024-07-09T00:00:00",
          "2024-07-10T00:00:00",
          "2024-07-11T00:00:00",
          "2024-07-12T00:00:00",
          "2024-07-13T00:00:00",
          "2024-07-14T00:00:00",
          "2024-07-15T00:00:00",
          "2024-07-16T00:00:00",
          "2024-07-17T00:00:00",
          "2024-07-18T00:00:00",
          "2024-07-19T00:00:00",
          "2024-07-20T00:00:00",
          "2024-07-21T00:00:00",
          "2024-07-22T00:00:00",
          "2024-07-23T00:00:00",
          "2024-07-24T00:00:00",
          "2024-07-25T00:00:00",
          "2024-07-26T00:00:00",
          "2024-07-27T00:00:00",
          "2024-07-28T00:00:00",
          "2024-07-29T00:00:00",
          "2024-07-30T00:00:00",
          "2024-07-31T00:00:00",
          "2024-08-01T00:00:00",
          "2024-08-02T00:00:00",
          "2024-08-03T00:00:00",
          "2024-08-04T00:00:00",
          "2024-08-05T00:00:00",
          "2024-08-06T00:00:00",
          "2024-08-07T00:00:00",
          "2024-08-08T00:00:00",
          "2024-08-09T00:00:00",
          "2024-08-10T00:00:00",
          "2024-08-11T00:00:00",
          "2024-08-12T00:00:00",
          "2024-08-13T00:00:00",
          "2024-08-14T00:00:00",
          "2024-08-15T00:00:00",
          "2024-08-16T00:00:00",
          "2024-08-17T00:00:00",
          "2024-08-18T00:00:00",
          "2024-08-19T00:00:00",
          "2024-08-20T00:00:00",
          "2024-08-21T00:00:00",
          "2024-08-22T00:00:00",
          "2024-08-23T00:00:00",
          "2024-08-24T00:00:00",
          "2024-08-25T00:00:00",
          "2024-08-26T00:00:00",
          "2024-08-27T00:00:00",
          "2024-08-28T00:00:00",
          "2024-08-29T00:00:00",
          "2024-08-30T00:00:00",
          "2024-08-31T00:00:00",
          "2024-09-01T00:00:00",
          "2024-09-02T00:00:00",
          "2024-09-03T00:00:00",
          "2024-09-04T00:00:00",
          "2024-09-05T00:00:00",
          "2024-09-06T00:00:00",
          "2024-09-07T00:00:00",
          "2024-09-08T00:00:00",
          "2024-09-09T00:00:00",
          "2024-09-10T00:00:00",
          "2024-09-11T00:00:00",
          "2024-09-12T00:00:00",
          "2024-09-13T00:00:00",
          "2024-09-14T00:00:00",
          "2024-09-15T00:00:00",
          "2024-09-16T00:00:00",
          "2024-09-17T00:00:00",
          "2024-09-18T00:00:00",
          "2024-09-19T00:00:00",
          "2024-09-20T00:00:00",
          "2024-09-21T00:00:00",
          "2024-09-22T00:00:00",
          "2024-09-23T00:00:00",
          "2024-09-24T00:00:00",
          "2024-09-25T00:00:00",
          "2024-09-26T00:00:00",
          "2024-09-27T00:00:00",
          "2024-09-28T00:00:00",
          "2024-09-29T00:00:00",
          "2024-09-30T00:00:00",
          "2024-10-01T00:00:00",
          "2024-10-02T00:00:00",
          "2024-10-03T00:00:00",
          "2024-10-04T00:00:00",
          "2024-10-05T00:00:00",
          "2024-10-06T00:00:00",
          "2024-10-07T00:00:00",
          "2024-10-08T00:00:00",
          "2024-10-09T00:00:00",
          "2024-10-10T00:00:00",
          "2024-10-11T00:00:00",
          "2024-10-12T00:00:00",
          "2024-10-13T00:00:00",
          "2024-10-14T00:00:00",
          "2024-10-15T00:00:00",
          "2024-10-16T00:00:00",
          "2024-10-17T00:00:00",
          "2024-10-18T00:00:00",
          "2024-10-19T00:00:00",
          "2024-10-20T00:00:00",
          "2024-10-21T00:00:00",
          "2024-10-22T00:00:00",
          "2024-10-23T00:00:00",
          "2024-10-24T00:00:00",
          "2024-10-25T00:00:00",
          "2024-10-26T00:00:00",
          "2024-10-27T00:00:00",
          "2024-10-28T00:00:00",
          "2024-10-29T00:00:00",
          "2024-10-30T00:00:00",
          "2024-10-31T00:00:00",
          "2024-11-01T00:00:00",
          "2024-11-02T00:00:00",
          "2024-11-03T00:00:00",
          "2024-11-04T00:00:00",
          "2024-11-05T00:00:00",
          "2024-11-06T00:00:00",
          "2024-11-07T00:00:00",
          "2024-11-08T00:00:00",
          "2024-11-09T00:00:00",
          "2024-11-10T00:00:00",
          "2024-11-11T00:00:00",
          "2024-11-12T00:00:00",
          "2024-11-13T00:00:00",
          "2024-11-14T00:00:00",
          "2024-11-15T00:00:00",
          "2024-11-16T00:00:00",
          "2024-11-17T00:00:00",
          "2024-11-18T00:00:00",
          "2024-11-19T00:00:00",
          "2024-11-20T00:00:00",
          "2024-11-21T00:00:00",
          "2024-11-22T00:00:00",
          "2024-11-23T00:00:00",
          "2024-11-24T00:00:00",
          "2024-11-25T00:00:00",
          "2024-11-26T00:00:00",
          "2024-11-27T00:00:00",
          "2024-11-28T00:00:00",
          "2024-11-29T00:00:00",
          "2024-11-30T00:00:00",
          "2024-12-01T00:00:00",
          "2024-12-02T00:00:00",
          "2024-12-03T00:00:00",
          "2024-12-04T00:00:00",
          "2024-12-05T00:00:00",
          "2024-12-06T00:00:00",
          "2024-12-07T00:00:00",
          "2024-12-08T00:00:00",
          "2024-12-09T00:00:00",
          "2024-12-10T00:00:00",
          "2024-12-11T00:00:00",
          "2024-12-12T00:00:00",
          "2024-12-13T00:00:00",
          "2024-12-14T00:00:00",
          "2024-12-15T00:00:00",
          "2024-12-16T00:00:00",
          "2024-12-17T00:00:00",
          "2024-12-18T00:00:00",
          "2024-12-19T00:00:00",
          "2024-12-20T00:00:00",
          "2024-12-21T00:00:00",
          "2024-12-22T00:00:00",
          "2024-12-23T00:00:00",
          "2024-12-24T00:00:00",
          "2024-12-25T00:00:00",
          "2024-12-26T00:00:00",
          "2024-12-27T00:00:00",
          "2024-12-28T00:00:00",
          "2024-12-29T00:00:00",
          "2024-12-30T00:00:00",
          "2024-12-31T00:00:00",
          "2025-01-01T00:00:00",
          "2025-01-02T00:00:00",
          "2025-01-03T00:00:00",
          "2025-01-04T00:00:00",
          "2025-01-05T00:00:00",
          "2025-01-06T00:00:00",
          "2025-01-07T00:00:00",
          "2025-01-08T00:00:00",
          "2025-01-09T00:00:00",
          "2025-01-10T00:00:00",
          "2025-01-11T00:00:00",
          "2025-01-12T00:00:00",
          "2025-01-13T00:00:00",
          "2025-01-14T00:00:00",
          "2025-01-15T00:00:00",
          "2025-01-16T00:00:00",
          "2025-01-17T00:00:00",
          "2025-01-18T00:00:00",
          "2025-01-19T00:00:00",
          "2025-01-20T00:00:00",
          "2025-01-21T00:00:00",
          "2025-01-22T00:00:00",
          "2025-01-23T00:00:00",
          "2025-01-24T00:00:00",
          "2025-01-25T00:00:00",
          "2025-01-26T00:00:00",
          "2025-01-27T00:00:00",
          "2025-01-28T00:00:00",
          "2025-01-29T00:00:00",
          "2025-01-30T00:00:00",
          "2025-01-31T00:00:00",
          "2025-02-01T00:00:00",
          "2025-02-02T00:00:00",
          "2025-02-03T00:00:00",
          "2025-02-04T00:00:00",
          "2025-02-05T00:00:00",
          "2025-02-06T00:00:00",
          "2025-02-07T00:00:00",
          "2025-02-08T00:00:00",
          "2025-02-09T00:00:00",
          "2025-02-10T00:00:00",
          "2025-02-11T00:00:00",
          "2025-02-12T00:00:00",
          "2025-02-13T00:00:00",
          "2025-02-14T00:00:00",
          "2025-02-15T00:00:00",
          "2025-02-16T00:00:00",
          "2025-02-17T00:00:00",
          "2025-02-18T00:00:00",
          "2025-02-19T00:00:00",
          "2025-02-20T00:00:00",
          "2025-02-21T00:00:00",
          "2025-02-22T00:00:00",
          "2025-02-23T00:00:00",
          "2025-02-24T00:00:00",
          "2025-02-25T00:00:00",
          "2025-02-26T00:00:00",
          "2025-02-27T00:00:00",
          "2025-02-28T00:00:00",
          "2025-03-01T00:00:00",
          "2025-03-02T00:00:00",
          "2025-03-03T00:00:00",
          "2025-03-04T00:00:00",
          "2025-03-05T00:00:00",
          "2025-03-06T00:00:00",
          "2025-03-07T00:00:00",
          "2025-03-08T00:00:00",
          "2025-03-09T00:00:00",
          "2025-03-10T00:00:00",
          "2025-03-11T00:00:00",
          "2025-03-12T00:00:00",
          "2025-03-13T00:00:00",
          "2025-03-14T00:00:00",
          "2025-03-15T00:00:00",
          "2025-03-16T00:00:00",
          "2025-03-17T00:00:00",
          "2025-03-18T00:00:00",
          "2025-03-19T00:00:00",
          "2025-03-20T00:00:00",
          "2025-03-21T00:00:00",
          "2025-03-22T00:00:00",
          "2025-03-23T00:00:00",
          "2025-03-24T00:00:00",
          "2025-03-25T00:00:00",
          "2025-03-26T00:00:00",
          "2025-03-27T00:00:00",
          "2025-03-28T00:00:00",
          "2025-03-29T00:00:00",
          "2025-03-30T00:00:00",
          "2025-03-31T00:00:00",
          "2025-04-01T00:00:00",
          "2025-04-02T00:00:00",
          "2025-04-03T00:00:00",
          "2025-04-04T00:00:00",
          "2025-04-05T00:00:00",
          "2025-04-06T00:00:00",
          "2025-04-07T00:00:00",
          "2025-04-08T00:00:00",
          "2025-04-09T00:00:00",
          "2025-04-10T00:00:00",
          "2025-04-11T00:00:00",
          "2025-04-12T00:00:00",
          "2025-04-13T00:00:00",
          "2025-04-14T00:00:00",
          "2025-04-15T00:00:00",
          "2025-04-16T00:00:00",
          "2025-04-17T00:00:00",
          "2025-04-18T00:00:00"
         ],
         "xaxis": "x",
         "y": [
          85.74198150634766,
          83.67176818847656,
          87.13166809082031,
          83.44998168945312,
          84.67672729492188,
          81.88191986083984,
          78.57613372802734,
          78.3563232421875,
          78.58403015136719,
          82.55854034423828,
          83.2015380859375,
          82.25548553466797,
          81.4506607055664,
          82.84418487548828,
          82.99467468261719,
          83.49415588378906,
          81.96864318847656,
          82.22055053710938,
          81.22854614257812,
          82.63098907470703,
          81.01235961914062,
          81.58514404296875,
          82.27040100097656,
          85.7737045288086,
          83.10845947265625,
          82.794677734375,
          88.59733581542969,
          86.06171417236328,
          86.21182250976562,
          84.65084838867188,
          85.04341125488281,
          85.91465759277344,
          86.37418365478516,
          86.3368911743164,
          85.22290802001953,
          83.96885681152344,
          84.97218322753906,
          83.89282989501953,
          84.73977661132812,
          83.67328643798828,
          82.75613403320312,
          83.64729309082031,
          85.81734466552734,
          85.58921813964844,
          83.28931427001953,
          81.28117370605469,
          80.43341064453125,
          82.13275146484375,
          76.40644073486328,
          78.39547729492188,
          78.90105438232422,
          78.12439727783203,
          80.09783172607422,
          77.85628509521484,
          76.57780456542969,
          73.18177795410156,
          75.47168731689453,
          75.38034057617188,
          73.80872344970703,
          74.62385559082031,
          72.98634338378906,
          71.58257293701172,
          73.03646850585938,
          70.95111846923828,
          73.47725677490234,
          72.76039123535156,
          76.54439544677734,
          73.78600311279297,
          72.7955322265625,
          75.66191864013672,
          72.39682006835938,
          67.19416046142578,
          65.20284271240234,
          69.649658203125,
          65.17132568359375,
          67.71481323242188,
          65.82675170898438,
          65.142822265625,
          65.08634948730469,
          67.29629516601562,
          69.98173522949219,
          69.6751480102539,
          72.11599731445312,
          73.21495819091797,
          71.27197265625,
          71.28628540039062,
          71.79045867919922,
          71.90731811523438,
          73.19754791259766,
          70.59351348876953,
          73.46083068847656,
          71.89385986328125,
          69.4957275390625,
          71.17208099365234,
          70.06686401367188,
          70.51876068115234,
          72.95988464355469,
          71.53369140625,
          69.6181411743164,
          69.56990051269531,
          67.1428451538086,
          66.30644226074219,
          64.16365814208984,
          61.680564880371094,
          59.28926086425781,
          57.36626434326172,
          59.03103256225586,
          61.407691955566406,
          60.72522735595703,
          61.285423278808594,
          62.345062255859375,
          63.87664031982422,
          65.65782165527344,
          64.93528747558594,
          65.64834594726562,
          65.43392181396484,
          64.14607238769531,
          65.621337890625,
          63.876922607421875,
          65.26827239990234,
          64.49547576904297,
          66.67090606689453,
          66.42768096923828,
          65.00916290283203,
          63.5554084777832,
          61.48967742919922,
          60.450416564941406,
          62.915382385253906,
          64.88802337646484,
          63.181217193603516,
          63.243255615234375,
          64.48356628417969,
          62.85509490966797,
          64.96099853515625,
          65.06391143798828,
          61.70531463623047,
          62.76372528076172,
          61.6602783203125,
          61.70236587524414,
          61.92899703979492,
          63.22542953491211,
          64.0306625366211,
          64.34345245361328,
          64.89408874511719,
          63.470706939697266,
          63.678218841552734,
          64.1433334350586,
          64.41915893554688,
          64.42228698730469,
          64.28277587890625,
          65.58386993408203,
          67.17753601074219,
          67.34486389160156,
          67.1337661743164,
          66.5408935546875,
          68.42115783691406,
          69.88329315185547,
          70.80064392089844,
          70.16885375976562,
          69.56776428222656,
          65.1870346069336,
          65.49720001220703,
          66.07786560058594,
          65.8397445678711,
          65.67810821533203,
          64.94146728515625,
          63.2274055480957,
          65.20462036132812,
          63.853790283203125,
          65.60851287841797,
          66.4831314086914,
          65.20596313476562,
          64.1376724243164,
          67.5137939453125,
          71.10051727294922,
          70.91960144042969,
          73.34518432617188,
          73.66346740722656,
          74.21038055419922,
          73.22987365722656,
          70.72339630126953,
          70.01385498046875,
          70.79865264892578,
          71.35045623779297,
          69.34777069091797,
          68.5272445678711,
          70.66462707519531,
          70.77796936035156,
          73.16004943847656,
          71.40715026855469,
          69.61859893798828,
          70.32041931152344,
          69.05066680908203,
          67.99478912353516,
          65.08858489990234,
          66.40635681152344,
          71.37239074707031,
          71.0233154296875,
          72.74859619140625,
          74.19120025634766,
          76.17459869384766,
          78.75715637207031,
          77.0610580444336,
          76.25942993164062,
          82.88494873046875,
          84.2673110961914,
          94.02088928222656,
          88.06555938720703,
          88.68610382080078,
          85.4115982055664,
          86.98152160644531,
          91.13639068603516,
          89.99632263183594,
          101.35371398925781,
          96.8209457397461,
          94.29716491699219,
          93.77947998046875,
          95.47726440429688,
          94.9573974609375,
          102.66038513183594,
          98.05101776123047,
          109.19757080078125,
          121.00233459472656,
          127.47837829589844,
          129.17416381835938,
          132.34478759765625,
          131.8470001220703,
          131.57565307617188,
          133.60452270507812,
          122.83086395263672,
          114.06414031982422,
          118.74221801757812,
          117.6109848022461,
          122.31339263916016,
          120.0390853881836,
          118.83488464355469,
          116.39961242675781,
          122.7870101928711,
          114.8869857788086,
          108.88844299316406,
          103.22885131835938,
          103.00049591064453,
          102.52045440673828,
          105.82363891601562,
          104.65984344482422,
          109.01568603515625,
          104.3631820678711,
          101.49737548828125,
          101.41472625732422,
          101.66931915283203,
          101.62030792236328,
          102.36516571044922,
          102.83283233642578,
          103.56639862060547,
          109.7298812866211,
          109.39031219482422,
          113.26824188232422,
          114.48779296875,
          109.57604217529297,
          106.70591735839844,
          104.38753509521484,
          105.40463256835938,
          106.65605926513672,
          102.8274917602539,
          100.16818237304688,
          102.08236694335938,
          113.00849914550781,
          121.20464324951172,
          132.38916015625,
          133.83050537109375,
          121.7328872680664,
          118.6933822631836,
          114.14546966552734,
          111.41881561279297,
          114.93217468261719,
          117.47312927246094,
          120.95719909667969,
          121.50775146484375,
          113.82190704345703,
          111.11835479736328,
          113.96451568603516,
          122.3013687133789,
          124.58113861083984,
          119.4122314453125,
          110.43247985839844,
          108.9564208984375,
          107.75923156738281,
          105.03443145751953,
          103.64337921142578,
          104.83870697021484,
          104.0580825805664,
          104.5146713256836,
          117.56179809570312,
          119.83280944824219,
          124.298828125,
          129.02761840820312,
          126.50775146484375,
          134.5294189453125,
          128.45892333984375,
          123.30992126464844,
          134.65988159179688,
          136.97987365722656,
          134.95901489257812,
          129.03504943847656,
          128.46475219726562,
          135.20750427246094,
          118.460205078125,
          117.84420776367188,
          124.06742858886719,
          126.26373291015625,
          129.03868103027344,
          124.32076263427734,
          131.5957489013672,
          118.16661834716797,
          111.72835540771484,
          105.47713470458984,
          102.28353881835938,
          104.18291473388672,
          102.30329895019531,
          100.75225067138672,
          93.24527740478516,
          92.43855285644531,
          92.55889892578125,
          93.11506652832031,
          91.23309326171875,
          92.21459197998047,
          92.1656265258789,
          93.682861328125,
          92.5206069946289,
          93.59481048583984
         ],
         "yaxis": "y"
        }
       ],
       "layout": {
        "legend": {
         "title": {
          "text": "variable"
         },
         "tracegroupgap": 0
        },
        "template": {
         "data": {
          "bar": [
           {
            "error_x": {
             "color": "#f2f5fa"
            },
            "error_y": {
             "color": "#f2f5fa"
            },
            "marker": {
             "line": {
              "color": "rgb(17,17,17)",
              "width": 0.5
             },
             "pattern": {
              "fillmode": "overlay",
              "size": 10,
              "solidity": 0.2
             }
            },
            "type": "bar"
           }
          ],
          "barpolar": [
           {
            "marker": {
             "line": {
              "color": "rgb(17,17,17)",
              "width": 0.5
             },
             "pattern": {
              "fillmode": "overlay",
              "size": 10,
              "solidity": 0.2
             }
            },
            "type": "barpolar"
           }
          ],
          "carpet": [
           {
            "aaxis": {
             "endlinecolor": "#A2B1C6",
             "gridcolor": "#506784",
             "linecolor": "#506784",
             "minorgridcolor": "#506784",
             "startlinecolor": "#A2B1C6"
            },
            "baxis": {
             "endlinecolor": "#A2B1C6",
             "gridcolor": "#506784",
             "linecolor": "#506784",
             "minorgridcolor": "#506784",
             "startlinecolor": "#A2B1C6"
            },
            "type": "carpet"
           }
          ],
          "choropleth": [
           {
            "colorbar": {
             "outlinewidth": 0,
             "ticks": ""
            },
            "type": "choropleth"
           }
          ],
          "contour": [
           {
            "colorbar": {
             "outlinewidth": 0,
             "ticks": ""
            },
            "colorscale": [
             [
              0,
              "#0d0887"
             ],
             [
              0.1111111111111111,
              "#46039f"
             ],
             [
              0.2222222222222222,
              "#7201a8"
             ],
             [
              0.3333333333333333,
              "#9c179e"
             ],
             [
              0.4444444444444444,
              "#bd3786"
             ],
             [
              0.5555555555555556,
              "#d8576b"
             ],
             [
              0.6666666666666666,
              "#ed7953"
             ],
             [
              0.7777777777777778,
              "#fb9f3a"
             ],
             [
              0.8888888888888888,
              "#fdca26"
             ],
             [
              1,
              "#f0f921"
             ]
            ],
            "type": "contour"
           }
          ],
          "contourcarpet": [
           {
            "colorbar": {
             "outlinewidth": 0,
             "ticks": ""
            },
            "type": "contourcarpet"
           }
          ],
          "heatmap": [
           {
            "colorbar": {
             "outlinewidth": 0,
             "ticks": ""
            },
            "colorscale": [
             [
              0,
              "#0d0887"
             ],
             [
              0.1111111111111111,
              "#46039f"
             ],
             [
              0.2222222222222222,
              "#7201a8"
             ],
             [
              0.3333333333333333,
              "#9c179e"
             ],
             [
              0.4444444444444444,
              "#bd3786"
             ],
             [
              0.5555555555555556,
              "#d8576b"
             ],
             [
              0.6666666666666666,
              "#ed7953"
             ],
             [
              0.7777777777777778,
              "#fb9f3a"
             ],
             [
              0.8888888888888888,
              "#fdca26"
             ],
             [
              1,
              "#f0f921"
             ]
            ],
            "type": "heatmap"
           }
          ],
          "heatmapgl": [
           {
            "colorbar": {
             "outlinewidth": 0,
             "ticks": ""
            },
            "colorscale": [
             [
              0,
              "#0d0887"
             ],
             [
              0.1111111111111111,
              "#46039f"
             ],
             [
              0.2222222222222222,
              "#7201a8"
             ],
             [
              0.3333333333333333,
              "#9c179e"
             ],
             [
              0.4444444444444444,
              "#bd3786"
             ],
             [
              0.5555555555555556,
              "#d8576b"
             ],
             [
              0.6666666666666666,
              "#ed7953"
             ],
             [
              0.7777777777777778,
              "#fb9f3a"
             ],
             [
              0.8888888888888888,
              "#fdca26"
             ],
             [
              1,
              "#f0f921"
             ]
            ],
            "type": "heatmapgl"
           }
          ],
          "histogram": [
           {
            "marker": {
             "pattern": {
              "fillmode": "overlay",
              "size": 10,
              "solidity": 0.2
             }
            },
            "type": "histogram"
           }
          ],
          "histogram2d": [
           {
            "colorbar": {
             "outlinewidth": 0,
             "ticks": ""
            },
            "colorscale": [
             [
              0,
              "#0d0887"
             ],
             [
              0.1111111111111111,
              "#46039f"
             ],
             [
              0.2222222222222222,
              "#7201a8"
             ],
             [
              0.3333333333333333,
              "#9c179e"
             ],
             [
              0.4444444444444444,
              "#bd3786"
             ],
             [
              0.5555555555555556,
              "#d8576b"
             ],
             [
              0.6666666666666666,
              "#ed7953"
             ],
             [
              0.7777777777777778,
              "#fb9f3a"
             ],
             [
              0.8888888888888888,
              "#fdca26"
             ],
             [
              1,
              "#f0f921"
             ]
            ],
            "type": "histogram2d"
           }
          ],
          "histogram2dcontour": [
           {
            "colorbar": {
             "outlinewidth": 0,
             "ticks": ""
            },
            "colorscale": [
             [
              0,
              "#0d0887"
             ],
             [
              0.1111111111111111,
              "#46039f"
             ],
             [
              0.2222222222222222,
              "#7201a8"
             ],
             [
              0.3333333333333333,
              "#9c179e"
             ],
             [
              0.4444444444444444,
              "#bd3786"
             ],
             [
              0.5555555555555556,
              "#d8576b"
             ],
             [
              0.6666666666666666,
              "#ed7953"
             ],
             [
              0.7777777777777778,
              "#fb9f3a"
             ],
             [
              0.8888888888888888,
              "#fdca26"
             ],
             [
              1,
              "#f0f921"
             ]
            ],
            "type": "histogram2dcontour"
           }
          ],
          "mesh3d": [
           {
            "colorbar": {
             "outlinewidth": 0,
             "ticks": ""
            },
            "type": "mesh3d"
           }
          ],
          "parcoords": [
           {
            "line": {
             "colorbar": {
              "outlinewidth": 0,
              "ticks": ""
             }
            },
            "type": "parcoords"
           }
          ],
          "pie": [
           {
            "automargin": true,
            "type": "pie"
           }
          ],
          "scatter": [
           {
            "marker": {
             "line": {
              "color": "#283442"
             }
            },
            "type": "scatter"
           }
          ],
          "scatter3d": [
           {
            "line": {
             "colorbar": {
              "outlinewidth": 0,
              "ticks": ""
             }
            },
            "marker": {
             "colorbar": {
              "outlinewidth": 0,
              "ticks": ""
             }
            },
            "type": "scatter3d"
           }
          ],
          "scattercarpet": [
           {
            "marker": {
             "colorbar": {
              "outlinewidth": 0,
              "ticks": ""
             }
            },
            "type": "scattercarpet"
           }
          ],
          "scattergeo": [
           {
            "marker": {
             "colorbar": {
              "outlinewidth": 0,
              "ticks": ""
             }
            },
            "type": "scattergeo"
           }
          ],
          "scattergl": [
           {
            "marker": {
             "line": {
              "color": "#283442"
             }
            },
            "type": "scattergl"
           }
          ],
          "scattermapbox": [
           {
            "marker": {
             "colorbar": {
              "outlinewidth": 0,
              "ticks": ""
             }
            },
            "type": "scattermapbox"
           }
          ],
          "scatterpolar": [
           {
            "marker": {
             "colorbar": {
              "outlinewidth": 0,
              "ticks": ""
             }
            },
            "type": "scatterpolar"
           }
          ],
          "scatterpolargl": [
           {
            "marker": {
             "colorbar": {
              "outlinewidth": 0,
              "ticks": ""
             }
            },
            "type": "scatterpolargl"
           }
          ],
          "scatterternary": [
           {
            "marker": {
             "colorbar": {
              "outlinewidth": 0,
              "ticks": ""
             }
            },
            "type": "scatterternary"
           }
          ],
          "surface": [
           {
            "colorbar": {
             "outlinewidth": 0,
             "ticks": ""
            },
            "colorscale": [
             [
              0,
              "#0d0887"
             ],
             [
              0.1111111111111111,
              "#46039f"
             ],
             [
              0.2222222222222222,
              "#7201a8"
             ],
             [
              0.3333333333333333,
              "#9c179e"
             ],
             [
              0.4444444444444444,
              "#bd3786"
             ],
             [
              0.5555555555555556,
              "#d8576b"
             ],
             [
              0.6666666666666666,
              "#ed7953"
             ],
             [
              0.7777777777777778,
              "#fb9f3a"
             ],
             [
              0.8888888888888888,
              "#fdca26"
             ],
             [
              1,
              "#f0f921"
             ]
            ],
            "type": "surface"
           }
          ],
          "table": [
           {
            "cells": {
             "fill": {
              "color": "#506784"
             },
             "line": {
              "color": "rgb(17,17,17)"
             }
            },
            "header": {
             "fill": {
              "color": "#2a3f5f"
             },
             "line": {
              "color": "rgb(17,17,17)"
             }
            },
            "type": "table"
           }
          ]
         },
         "layout": {
          "annotationdefaults": {
           "arrowcolor": "#f2f5fa",
           "arrowhead": 0,
           "arrowwidth": 1
          },
          "autotypenumbers": "strict",
          "coloraxis": {
           "colorbar": {
            "outlinewidth": 0,
            "ticks": ""
           }
          },
          "colorscale": {
           "diverging": [
            [
             0,
             "#8e0152"
            ],
            [
             0.1,
             "#c51b7d"
            ],
            [
             0.2,
             "#de77ae"
            ],
            [
             0.3,
             "#f1b6da"
            ],
            [
             0.4,
             "#fde0ef"
            ],
            [
             0.5,
             "#f7f7f7"
            ],
            [
             0.6,
             "#e6f5d0"
            ],
            [
             0.7,
             "#b8e186"
            ],
            [
             0.8,
             "#7fbc41"
            ],
            [
             0.9,
             "#4d9221"
            ],
            [
             1,
             "#276419"
            ]
           ],
           "sequential": [
            [
             0,
             "#0d0887"
            ],
            [
             0.1111111111111111,
             "#46039f"
            ],
            [
             0.2222222222222222,
             "#7201a8"
            ],
            [
             0.3333333333333333,
             "#9c179e"
            ],
            [
             0.4444444444444444,
             "#bd3786"
            ],
            [
             0.5555555555555556,
             "#d8576b"
            ],
            [
             0.6666666666666666,
             "#ed7953"
            ],
            [
             0.7777777777777778,
             "#fb9f3a"
            ],
            [
             0.8888888888888888,
             "#fdca26"
            ],
            [
             1,
             "#f0f921"
            ]
           ],
           "sequentialminus": [
            [
             0,
             "#0d0887"
            ],
            [
             0.1111111111111111,
             "#46039f"
            ],
            [
             0.2222222222222222,
             "#7201a8"
            ],
            [
             0.3333333333333333,
             "#9c179e"
            ],
            [
             0.4444444444444444,
             "#bd3786"
            ],
            [
             0.5555555555555556,
             "#d8576b"
            ],
            [
             0.6666666666666666,
             "#ed7953"
            ],
            [
             0.7777777777777778,
             "#fb9f3a"
            ],
            [
             0.8888888888888888,
             "#fdca26"
            ],
            [
             1,
             "#f0f921"
            ]
           ]
          },
          "colorway": [
           "#636efa",
           "#EF553B",
           "#00cc96",
           "#ab63fa",
           "#FFA15A",
           "#19d3f3",
           "#FF6692",
           "#B6E880",
           "#FF97FF",
           "#FECB52"
          ],
          "font": {
           "color": "#f2f5fa"
          },
          "geo": {
           "bgcolor": "rgb(17,17,17)",
           "lakecolor": "rgb(17,17,17)",
           "landcolor": "rgb(17,17,17)",
           "showlakes": true,
           "showland": true,
           "subunitcolor": "#506784"
          },
          "hoverlabel": {
           "align": "left"
          },
          "hovermode": "closest",
          "mapbox": {
           "style": "dark"
          },
          "paper_bgcolor": "rgb(17,17,17)",
          "plot_bgcolor": "rgb(17,17,17)",
          "polar": {
           "angularaxis": {
            "gridcolor": "#506784",
            "linecolor": "#506784",
            "ticks": ""
           },
           "bgcolor": "rgb(17,17,17)",
           "radialaxis": {
            "gridcolor": "#506784",
            "linecolor": "#506784",
            "ticks": ""
           }
          },
          "scene": {
           "xaxis": {
            "backgroundcolor": "rgb(17,17,17)",
            "gridcolor": "#506784",
            "gridwidth": 2,
            "linecolor": "#506784",
            "showbackground": true,
            "ticks": "",
            "zerolinecolor": "#C8D4E3"
           },
           "yaxis": {
            "backgroundcolor": "rgb(17,17,17)",
            "gridcolor": "#506784",
            "gridwidth": 2,
            "linecolor": "#506784",
            "showbackground": true,
            "ticks": "",
            "zerolinecolor": "#C8D4E3"
           },
           "zaxis": {
            "backgroundcolor": "rgb(17,17,17)",
            "gridcolor": "#506784",
            "gridwidth": 2,
            "linecolor": "#506784",
            "showbackground": true,
            "ticks": "",
            "zerolinecolor": "#C8D4E3"
           }
          },
          "shapedefaults": {
           "line": {
            "color": "#f2f5fa"
           }
          },
          "sliderdefaults": {
           "bgcolor": "#C8D4E3",
           "bordercolor": "rgb(17,17,17)",
           "borderwidth": 1,
           "tickwidth": 0
          },
          "ternary": {
           "aaxis": {
            "gridcolor": "#506784",
            "linecolor": "#506784",
            "ticks": ""
           },
           "baxis": {
            "gridcolor": "#506784",
            "linecolor": "#506784",
            "ticks": ""
           },
           "bgcolor": "rgb(17,17,17)",
           "caxis": {
            "gridcolor": "#506784",
            "linecolor": "#506784",
            "ticks": ""
           }
          },
          "title": {
           "x": 0.05
          },
          "updatemenudefaults": {
           "bgcolor": "#506784",
           "borderwidth": 0
          },
          "xaxis": {
           "automargin": true,
           "gridcolor": "#283442",
           "linecolor": "#506784",
           "ticks": "",
           "title": {
            "standoff": 15
           },
           "zerolinecolor": "#283442",
           "zerolinewidth": 2
          },
          "yaxis": {
           "automargin": true,
           "gridcolor": "#283442",
           "linecolor": "#506784",
           "ticks": "",
           "title": {
            "standoff": 15
           },
           "zerolinecolor": "#283442",
           "zerolinewidth": 2
          }
         }
        },
        "title": {
         "text": "LTCUSDT"
        },
        "xaxis": {
         "anchor": "y",
         "domain": [
          0,
          1
         ],
         "title": {
          "text": "x"
         }
        },
        "yaxis": {
         "anchor": "x",
         "domain": [
          0,
          1
         ],
         "title": {
          "text": "close price $"
         }
        }
       }
      }
     },
     "metadata": {},
     "output_type": "display_data"
    }
   ],
   "source": [
    "for coin in selected_coins:\n",
    "    df_filename = coin.lower() + \"_1d.csv\"\n",
    "    df = pd.read_csv(\"../backend/data/\"+df_filename, parse_dates=True, index_col=0)\n",
    "    # use the params trained from the initial model on BTC 5 year lagged close prices.\n",
    "    xgboost_train_pipeline_full(coin, df, params)\n",
    "    "
   ]
  },
  {
   "cell_type": "markdown",
   "id": "3274a380",
   "metadata": {},
   "source": [
    "# Score comparisons\n",
    "\n",
    "BTC baseline score\n",
    "\n",
    "multi step model MAE: 24084.70\n",
    "\n",
    "multi step model MSE: 817797760.33\n",
    "\n",
    "multi step model R2: -2.17\n",
    "\n",
    "\n",
    "## time lags, 3, 5\n",
    "\n",
    "--- BNBUSDT ---\n",
    "\n",
    "multi step model MAE: 141.69\n",
    "\n",
    "multi step model MSE: 24791.47\n",
    "\n",
    "multi step model R2: -6.07\n",
    "\n",
    "--- ETHUSDT ---\n",
    "\n",
    "multi step model MAE: 419.34\n",
    "\n",
    "multi step model MSE: 295805.68\n",
    "\n",
    "multi step model R2: 0.11\n",
    "\n",
    "--- LTCUSDT ---\n",
    "\n",
    "multi step model MAE: 12.23\n",
    "\n",
    "multi step model MSE: 297.14\n",
    "\n",
    "multi step model R2: 0.35\n",
    "\n",
    "\n",
    "## additional features, rolling stats, pct change, and RSI (14-period)\n",
    "\n",
    "### time lags 1, 3, 5\n",
    "\n",
    "--- BNBUSDT ---\n",
    "\n",
    "multi step model MAE: 141.15\n",
    "\n",
    "multi step model MSE: 26788.53\n",
    "\n",
    "multi step model R2: -6.54\n",
    "\n",
    "--- ETHUSDT ---\n",
    "\n",
    "multi step model MAE: 361.15\n",
    "\n",
    "multi step model MSE: 214700.79\n",
    "\n",
    "multi step model R2: 0.36\n",
    "\n",
    "--- LTCUSDT ---\n",
    "\n",
    "multi step model MAE: 10.41\n",
    "\n",
    "multi step model MSE: 235.69\n",
    "\n",
    "multi step model R2: 0.49\n",
    "\n",
    "\n",
    "## additional features (as above), time lags 3, 5\n",
    "\n",
    "--- BNBUSDT ---\n",
    "\n",
    "multi step model MAE: 141.40\n",
    "\n",
    "multi step model MSE: 26561.96\n",
    "\n",
    "multi step model R2: -6.48\n",
    "\n",
    "--- ETHUSDT ---\n",
    "\n",
    "multi step model MAE: 370.47\n",
    "\n",
    "multi step model MSE: 222145.35\n",
    "\n",
    "multi step model R2: 0.33\n",
    "\n",
    "--- LTCUSDT ---\n",
    "\n",
    "multi step model MAE: 10.51\n",
    "\n",
    "multi step model MSE: 238.89\n",
    "\n",
    "multi step model R2: 0.49\n",
    "\n",
    "\n",
    "## time lags 3\n",
    "\n",
    "--- BNBUSDT ---\n",
    "multi step model MAE: 141.56\n",
    "\n",
    "multi step model MSE: 26632.66\n",
    "\n",
    "multi step model R2: -6.50\n",
    "\n",
    "--- ETHUSDT ---\n",
    "multi step model MAE: 369.85\n",
    "multi step model MSE: 221783.46\n",
    "multi step model R2: 0.34\n",
    "\n",
    "\n",
    "--- LTCUSDT ---\n",
    "multi step model MAE: 10.49\n",
    "multi step model MSE: 238.06\n",
    "multi step model R2: 0.49\n",
    "\n",
    "## time lags 5\n",
    "\n",
    "--- BNBUSDT ---\n",
    "\n",
    "multi step model MAE: 141.12\n",
    "\n",
    "multi step model MSE: 26499.60\n",
    "\n",
    "multi step model R2: -6.46\n",
    "\n",
    "--- ETHUSDT ---\n",
    "\n",
    "multi step model MAE: 369.05\n",
    "\n",
    "multi step model MSE: 220872.28\n",
    "\n",
    "multi step model R2: 0.34\n",
    "\n",
    "--- LTCUSDT ---\n",
    "\n",
    "multi step model MAE: 10.53\n",
    "\n",
    "multi step model MSE: 239.03\n",
    "\n",
    "multi step model R2: 0.48\n",
    "\n",
    "## time lags 1, 3, 5, 7, 14, 30\n",
    "\n",
    "--- BNBUSDT ---\n",
    "\n",
    "multi step model MAE: 151.00\n",
    "\n",
    "multi step model MSE: 30413.84\n",
    "\n",
    "multi step model R2: -7.56\n",
    "\n",
    "--- ETHUSDT ---\n",
    "\n",
    "multi step model MAE: 373.46\n",
    "\n",
    "multi step model MSE: 227514.94\n",
    "\n",
    "multi step model R2: 0.32\n",
    "\n",
    "--- LTCUSDT ---\n",
    "\n",
    "multi step model MAE: 10.47\n",
    "\n",
    "multi step model MSE: 233.79\n",
    "\n",
    "multi step model R2: 0.50"
   ]
  }
 ],
 "metadata": {
  "kernelspec": {
   "display_name": "COM724-pycaret",
   "language": "python",
   "name": "python3"
  },
  "language_info": {
   "codemirror_mode": {
    "name": "ipython",
    "version": 3
   },
   "file_extension": ".py",
   "mimetype": "text/x-python",
   "name": "python",
   "nbconvert_exporter": "python",
   "pygments_lexer": "ipython3",
   "version": "3.9.16"
  }
 },
 "nbformat": 4,
 "nbformat_minor": 5
}
