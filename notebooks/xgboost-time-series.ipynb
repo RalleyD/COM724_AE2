{
 "cells": [
  {
   "cell_type": "code",
   "execution_count": 1,
   "id": "6804299f",
   "metadata": {},
   "outputs": [
    {
     "name": "stdout",
     "output_type": "stream",
     "text": [
      "| timestamp           | symbol   |    open |    high |     low |   close |   volume |\n",
      "|:--------------------|:---------|--------:|--------:|--------:|--------:|---------:|\n",
      "| 2020-03-13 00:00:00 | BTCUSDT  | 4800.01 | 5955    | 3782.13 | 5578.6  |   402202 |\n",
      "| 2020-03-14 00:00:00 | BTCUSDT  | 5576.05 | 5640.52 | 5055.13 | 5172.06 |   136910 |\n",
      "| 2020-03-15 00:00:00 | BTCUSDT  | 5172.48 | 5940    | 5093.1  | 5361.3  |   139916 |\n",
      "| 2020-03-16 00:00:00 | BTCUSDT  | 5360.33 | 5365.42 | 4442.12 | 5028.97 |   227277 |\n",
      "| 2020-03-17 00:00:00 | BTCUSDT  | 5028.86 | 5525    | 4921.45 | 5312.64 |   150090 |\n"
     ]
    }
   ],
   "source": [
    "# load the BTC long term dataset\n",
    "import pandas as pd\n",
    "\n",
    "btc_5y_df = pd.read_csv('../backend/data/BTC-past-5y-ohlc.csv', index_col=0, parse_dates=True)\n",
    "\n",
    "print(btc_5y_df.head().to_markdown())"
   ]
  },
  {
   "cell_type": "code",
   "execution_count": 52,
   "id": "1c4a8ad7",
   "metadata": {},
   "outputs": [
    {
     "name": "stdout",
     "output_type": "stream",
     "text": [
      "\n",
      "--- Setting up Data Split ---\n"
     ]
    },
    {
     "data": {
      "text/html": [
       "<div>\n",
       "<style scoped>\n",
       "    .dataframe tbody tr th:only-of-type {\n",
       "        vertical-align: middle;\n",
       "    }\n",
       "\n",
       "    .dataframe tbody tr th {\n",
       "        vertical-align: top;\n",
       "    }\n",
       "\n",
       "    .dataframe thead th {\n",
       "        text-align: right;\n",
       "    }\n",
       "</style>\n",
       "<table border=\"1\" class=\"dataframe\">\n",
       "  <thead>\n",
       "    <tr style=\"text-align: right;\">\n",
       "      <th></th>\n",
       "      <th>close</th>\n",
       "      <th>lag_1</th>\n",
       "      <th>lag_2</th>\n",
       "    </tr>\n",
       "    <tr>\n",
       "      <th>timestamp</th>\n",
       "      <th></th>\n",
       "      <th></th>\n",
       "      <th></th>\n",
       "    </tr>\n",
       "  </thead>\n",
       "  <tbody>\n",
       "    <tr>\n",
       "      <th>2020-03-15</th>\n",
       "      <td>5361.30</td>\n",
       "      <td>5172.06</td>\n",
       "      <td>5578.60</td>\n",
       "    </tr>\n",
       "    <tr>\n",
       "      <th>2020-03-16</th>\n",
       "      <td>5028.97</td>\n",
       "      <td>5361.30</td>\n",
       "      <td>5172.06</td>\n",
       "    </tr>\n",
       "    <tr>\n",
       "      <th>2020-03-17</th>\n",
       "      <td>5312.64</td>\n",
       "      <td>5028.97</td>\n",
       "      <td>5361.30</td>\n",
       "    </tr>\n",
       "    <tr>\n",
       "      <th>2020-03-18</th>\n",
       "      <td>5393.04</td>\n",
       "      <td>5312.64</td>\n",
       "      <td>5028.97</td>\n",
       "    </tr>\n",
       "    <tr>\n",
       "      <th>2020-03-19</th>\n",
       "      <td>6162.37</td>\n",
       "      <td>5393.04</td>\n",
       "      <td>5312.64</td>\n",
       "    </tr>\n",
       "  </tbody>\n",
       "</table>\n",
       "</div>"
      ],
      "text/plain": [
       "              close    lag_1    lag_2\n",
       "timestamp                            \n",
       "2020-03-15  5361.30  5172.06  5578.60\n",
       "2020-03-16  5028.97  5361.30  5172.06\n",
       "2020-03-17  5312.64  5028.97  5361.30\n",
       "2020-03-18  5393.04  5312.64  5028.97\n",
       "2020-03-19  6162.37  5393.04  5312.64"
      ]
     },
     "execution_count": 52,
     "metadata": {},
     "output_type": "execute_result"
    }
   ],
   "source": [
    "# xgboost_experiment = setup(btc_5y_df.loc[:,'close'], fh = 3, fold = 5, session_id = 123)\n",
    "# close prices\n",
    "btc_5y_close_df = btc_5y_df.loc[:, 'close']\n",
    "\n",
    "print(\"\\n--- Setting up Data Split ---\")\n",
    "\n",
    "# Ensure data is sorted by time\n",
    "btc_5y_close_df = btc_5y_close_df.sort_index()\n",
    "btc_5y_close_df = btc_5y_close_df.to_frame()\n",
    "\n",
    "# Create lag features\n",
    "for lag in range(1, 3):  # Lags from 1 to 7 days\n",
    "    btc_5y_close_df[f'lag_{lag}'] = btc_5y_close_df['close'].shift(lag)\n",
    "\n",
    "# Drop NaN values caused by lagging\n",
    "btc_5y_close_df = btc_5y_close_df.dropna()\n",
    "\n",
    "# Restore the 'close' column name\n",
    "# btc_5y_close_df = btc_5y_close_df.rename(columns={'close': 'close'})\n",
    "btc_5y_close_df.head()"
   ]
  },
  {
   "cell_type": "code",
   "execution_count": 53,
   "id": "ca89ba76",
   "metadata": {},
   "outputs": [
    {
     "data": {
      "text/html": [
       "<div>\n",
       "<style scoped>\n",
       "    .dataframe tbody tr th:only-of-type {\n",
       "        vertical-align: middle;\n",
       "    }\n",
       "\n",
       "    .dataframe tbody tr th {\n",
       "        vertical-align: top;\n",
       "    }\n",
       "\n",
       "    .dataframe thead th {\n",
       "        text-align: right;\n",
       "    }\n",
       "</style>\n",
       "<table border=\"1\" class=\"dataframe\">\n",
       "  <thead>\n",
       "    <tr style=\"text-align: right;\">\n",
       "      <th></th>\n",
       "      <th>close</th>\n",
       "      <th>lag_1</th>\n",
       "      <th>lag_2</th>\n",
       "    </tr>\n",
       "    <tr>\n",
       "      <th>timestamp</th>\n",
       "      <th></th>\n",
       "      <th></th>\n",
       "      <th></th>\n",
       "    </tr>\n",
       "  </thead>\n",
       "  <tbody>\n",
       "    <tr>\n",
       "      <th>2020-03-15</th>\n",
       "      <td>5361.30</td>\n",
       "      <td>5172.06</td>\n",
       "      <td>5578.60</td>\n",
       "    </tr>\n",
       "    <tr>\n",
       "      <th>2020-03-16</th>\n",
       "      <td>5028.97</td>\n",
       "      <td>5361.30</td>\n",
       "      <td>5172.06</td>\n",
       "    </tr>\n",
       "    <tr>\n",
       "      <th>2020-03-17</th>\n",
       "      <td>5312.64</td>\n",
       "      <td>5028.97</td>\n",
       "      <td>5361.30</td>\n",
       "    </tr>\n",
       "    <tr>\n",
       "      <th>2020-03-18</th>\n",
       "      <td>5393.04</td>\n",
       "      <td>5312.64</td>\n",
       "      <td>5028.97</td>\n",
       "    </tr>\n",
       "    <tr>\n",
       "      <th>2020-03-19</th>\n",
       "      <td>6162.37</td>\n",
       "      <td>5393.04</td>\n",
       "      <td>5312.64</td>\n",
       "    </tr>\n",
       "  </tbody>\n",
       "</table>\n",
       "</div>"
      ],
      "text/plain": [
       "              close    lag_1    lag_2\n",
       "timestamp                            \n",
       "2020-03-15  5361.30  5172.06  5578.60\n",
       "2020-03-16  5028.97  5361.30  5172.06\n",
       "2020-03-17  5312.64  5028.97  5361.30\n",
       "2020-03-18  5393.04  5312.64  5028.97\n",
       "2020-03-19  6162.37  5393.04  5312.64"
      ]
     },
     "execution_count": 53,
     "metadata": {},
     "output_type": "execute_result"
    }
   ],
   "source": [
    "# Train-Test Split (last 365 days as test set)\n",
    "split_date = btc_5y_close_df.index[-30]  \n",
    "btc_train = btc_5y_close_df.loc[btc_5y_close_df.index <= split_date].copy()\n",
    "btc_test = btc_5y_close_df.loc[btc_5y_close_df.index > split_date].copy()\n",
    "\n",
    "btc_train.head()\n"
   ]
  },
  {
   "cell_type": "code",
   "execution_count": null,
   "id": "07247d48",
   "metadata": {},
   "outputs": [
    {
     "data": {
      "text/html": [
       "<style type=\"text/css\">\n",
       "#T_bd8e7_row8_col1, #T_bd8e7_row12_col1 {\n",
       "  background-color: lightgreen;\n",
       "}\n",
       "</style>\n",
       "<table id=\"T_bd8e7\">\n",
       "  <thead>\n",
       "    <tr>\n",
       "      <th class=\"blank level0\" >&nbsp;</th>\n",
       "      <th id=\"T_bd8e7_level0_col0\" class=\"col_heading level0 col0\" >Description</th>\n",
       "      <th id=\"T_bd8e7_level0_col1\" class=\"col_heading level0 col1\" >Value</th>\n",
       "    </tr>\n",
       "  </thead>\n",
       "  <tbody>\n",
       "    <tr>\n",
       "      <th id=\"T_bd8e7_level0_row0\" class=\"row_heading level0 row0\" >0</th>\n",
       "      <td id=\"T_bd8e7_row0_col0\" class=\"data row0 col0\" >Session id</td>\n",
       "      <td id=\"T_bd8e7_row0_col1\" class=\"data row0 col1\" >123</td>\n",
       "    </tr>\n",
       "    <tr>\n",
       "      <th id=\"T_bd8e7_level0_row1\" class=\"row_heading level0 row1\" >1</th>\n",
       "      <td id=\"T_bd8e7_row1_col0\" class=\"data row1 col0\" >Target</td>\n",
       "      <td id=\"T_bd8e7_row1_col1\" class=\"data row1 col1\" >close</td>\n",
       "    </tr>\n",
       "    <tr>\n",
       "      <th id=\"T_bd8e7_level0_row2\" class=\"row_heading level0 row2\" >2</th>\n",
       "      <td id=\"T_bd8e7_row2_col0\" class=\"data row2 col0\" >Target type</td>\n",
       "      <td id=\"T_bd8e7_row2_col1\" class=\"data row2 col1\" >Regression</td>\n",
       "    </tr>\n",
       "    <tr>\n",
       "      <th id=\"T_bd8e7_level0_row3\" class=\"row_heading level0 row3\" >3</th>\n",
       "      <td id=\"T_bd8e7_row3_col0\" class=\"data row3 col0\" >Original data shape</td>\n",
       "      <td id=\"T_bd8e7_row3_col1\" class=\"data row3 col1\" >(1794, 3)</td>\n",
       "    </tr>\n",
       "    <tr>\n",
       "      <th id=\"T_bd8e7_level0_row4\" class=\"row_heading level0 row4\" >4</th>\n",
       "      <td id=\"T_bd8e7_row4_col0\" class=\"data row4 col0\" >Transformed data shape</td>\n",
       "      <td id=\"T_bd8e7_row4_col1\" class=\"data row4 col1\" >(1794, 3)</td>\n",
       "    </tr>\n",
       "    <tr>\n",
       "      <th id=\"T_bd8e7_level0_row5\" class=\"row_heading level0 row5\" >5</th>\n",
       "      <td id=\"T_bd8e7_row5_col0\" class=\"data row5 col0\" >Transformed train set shape</td>\n",
       "      <td id=\"T_bd8e7_row5_col1\" class=\"data row5 col1\" >(1255, 3)</td>\n",
       "    </tr>\n",
       "    <tr>\n",
       "      <th id=\"T_bd8e7_level0_row6\" class=\"row_heading level0 row6\" >6</th>\n",
       "      <td id=\"T_bd8e7_row6_col0\" class=\"data row6 col0\" >Transformed test set shape</td>\n",
       "      <td id=\"T_bd8e7_row6_col1\" class=\"data row6 col1\" >(539, 3)</td>\n",
       "    </tr>\n",
       "    <tr>\n",
       "      <th id=\"T_bd8e7_level0_row7\" class=\"row_heading level0 row7\" >7</th>\n",
       "      <td id=\"T_bd8e7_row7_col0\" class=\"data row7 col0\" >Numeric features</td>\n",
       "      <td id=\"T_bd8e7_row7_col1\" class=\"data row7 col1\" >2</td>\n",
       "    </tr>\n",
       "    <tr>\n",
       "      <th id=\"T_bd8e7_level0_row8\" class=\"row_heading level0 row8\" >8</th>\n",
       "      <td id=\"T_bd8e7_row8_col0\" class=\"data row8 col0\" >Preprocess</td>\n",
       "      <td id=\"T_bd8e7_row8_col1\" class=\"data row8 col1\" >True</td>\n",
       "    </tr>\n",
       "    <tr>\n",
       "      <th id=\"T_bd8e7_level0_row9\" class=\"row_heading level0 row9\" >9</th>\n",
       "      <td id=\"T_bd8e7_row9_col0\" class=\"data row9 col0\" >Imputation type</td>\n",
       "      <td id=\"T_bd8e7_row9_col1\" class=\"data row9 col1\" >simple</td>\n",
       "    </tr>\n",
       "    <tr>\n",
       "      <th id=\"T_bd8e7_level0_row10\" class=\"row_heading level0 row10\" >10</th>\n",
       "      <td id=\"T_bd8e7_row10_col0\" class=\"data row10 col0\" >Numeric imputation</td>\n",
       "      <td id=\"T_bd8e7_row10_col1\" class=\"data row10 col1\" >mean</td>\n",
       "    </tr>\n",
       "    <tr>\n",
       "      <th id=\"T_bd8e7_level0_row11\" class=\"row_heading level0 row11\" >11</th>\n",
       "      <td id=\"T_bd8e7_row11_col0\" class=\"data row11 col0\" >Categorical imputation</td>\n",
       "      <td id=\"T_bd8e7_row11_col1\" class=\"data row11 col1\" >mode</td>\n",
       "    </tr>\n",
       "    <tr>\n",
       "      <th id=\"T_bd8e7_level0_row12\" class=\"row_heading level0 row12\" >12</th>\n",
       "      <td id=\"T_bd8e7_row12_col0\" class=\"data row12 col0\" >Transformation</td>\n",
       "      <td id=\"T_bd8e7_row12_col1\" class=\"data row12 col1\" >True</td>\n",
       "    </tr>\n",
       "    <tr>\n",
       "      <th id=\"T_bd8e7_level0_row13\" class=\"row_heading level0 row13\" >13</th>\n",
       "      <td id=\"T_bd8e7_row13_col0\" class=\"data row13 col0\" >Transformation method</td>\n",
       "      <td id=\"T_bd8e7_row13_col1\" class=\"data row13 col1\" >quantile</td>\n",
       "    </tr>\n",
       "    <tr>\n",
       "      <th id=\"T_bd8e7_level0_row14\" class=\"row_heading level0 row14\" >14</th>\n",
       "      <td id=\"T_bd8e7_row14_col0\" class=\"data row14 col0\" >Fold Generator</td>\n",
       "      <td id=\"T_bd8e7_row14_col1\" class=\"data row14 col1\" >TimeSeriesSplit</td>\n",
       "    </tr>\n",
       "    <tr>\n",
       "      <th id=\"T_bd8e7_level0_row15\" class=\"row_heading level0 row15\" >15</th>\n",
       "      <td id=\"T_bd8e7_row15_col0\" class=\"data row15 col0\" >Fold Number</td>\n",
       "      <td id=\"T_bd8e7_row15_col1\" class=\"data row15 col1\" >5</td>\n",
       "    </tr>\n",
       "    <tr>\n",
       "      <th id=\"T_bd8e7_level0_row16\" class=\"row_heading level0 row16\" >16</th>\n",
       "      <td id=\"T_bd8e7_row16_col0\" class=\"data row16 col0\" >CPU Jobs</td>\n",
       "      <td id=\"T_bd8e7_row16_col1\" class=\"data row16 col1\" >-1</td>\n",
       "    </tr>\n",
       "    <tr>\n",
       "      <th id=\"T_bd8e7_level0_row17\" class=\"row_heading level0 row17\" >17</th>\n",
       "      <td id=\"T_bd8e7_row17_col0\" class=\"data row17 col0\" >Use GPU</td>\n",
       "      <td id=\"T_bd8e7_row17_col1\" class=\"data row17 col1\" >False</td>\n",
       "    </tr>\n",
       "    <tr>\n",
       "      <th id=\"T_bd8e7_level0_row18\" class=\"row_heading level0 row18\" >18</th>\n",
       "      <td id=\"T_bd8e7_row18_col0\" class=\"data row18 col0\" >Log Experiment</td>\n",
       "      <td id=\"T_bd8e7_row18_col1\" class=\"data row18 col1\" >False</td>\n",
       "    </tr>\n",
       "    <tr>\n",
       "      <th id=\"T_bd8e7_level0_row19\" class=\"row_heading level0 row19\" >19</th>\n",
       "      <td id=\"T_bd8e7_row19_col0\" class=\"data row19 col0\" >Experiment Name</td>\n",
       "      <td id=\"T_bd8e7_row19_col1\" class=\"data row19 col1\" >reg-default-name</td>\n",
       "    </tr>\n",
       "    <tr>\n",
       "      <th id=\"T_bd8e7_level0_row20\" class=\"row_heading level0 row20\" >20</th>\n",
       "      <td id=\"T_bd8e7_row20_col0\" class=\"data row20 col0\" >USI</td>\n",
       "      <td id=\"T_bd8e7_row20_col1\" class=\"data row20 col1\" >7c5a</td>\n",
       "    </tr>\n",
       "  </tbody>\n",
       "</table>\n"
      ],
      "text/plain": [
       "<pandas.io.formats.style.Styler at 0x312fd76a0>"
      ]
     },
     "metadata": {},
     "output_type": "display_data"
    },
    {
     "data": {
      "text/html": [],
      "text/plain": [
       "<IPython.core.display.HTML object>"
      ]
     },
     "metadata": {},
     "output_type": "display_data"
    },
    {
     "data": {
      "text/html": [
       "<style type=\"text/css\">\n",
       "#T_3c7e5_row5_col0, #T_3c7e5_row5_col1, #T_3c7e5_row5_col2, #T_3c7e5_row5_col3, #T_3c7e5_row5_col4, #T_3c7e5_row5_col5 {\n",
       "  background: yellow;\n",
       "}\n",
       "</style>\n",
       "<table id=\"T_3c7e5\">\n",
       "  <thead>\n",
       "    <tr>\n",
       "      <th class=\"blank level0\" >&nbsp;</th>\n",
       "      <th id=\"T_3c7e5_level0_col0\" class=\"col_heading level0 col0\" >MAE</th>\n",
       "      <th id=\"T_3c7e5_level0_col1\" class=\"col_heading level0 col1\" >MSE</th>\n",
       "      <th id=\"T_3c7e5_level0_col2\" class=\"col_heading level0 col2\" >RMSE</th>\n",
       "      <th id=\"T_3c7e5_level0_col3\" class=\"col_heading level0 col3\" >R2</th>\n",
       "      <th id=\"T_3c7e5_level0_col4\" class=\"col_heading level0 col4\" >RMSLE</th>\n",
       "      <th id=\"T_3c7e5_level0_col5\" class=\"col_heading level0 col5\" >MAPE</th>\n",
       "    </tr>\n",
       "    <tr>\n",
       "      <th class=\"index_name level0\" >Fold</th>\n",
       "      <th class=\"blank col0\" >&nbsp;</th>\n",
       "      <th class=\"blank col1\" >&nbsp;</th>\n",
       "      <th class=\"blank col2\" >&nbsp;</th>\n",
       "      <th class=\"blank col3\" >&nbsp;</th>\n",
       "      <th class=\"blank col4\" >&nbsp;</th>\n",
       "      <th class=\"blank col5\" >&nbsp;</th>\n",
       "    </tr>\n",
       "  </thead>\n",
       "  <tbody>\n",
       "    <tr>\n",
       "      <th id=\"T_3c7e5_level0_row0\" class=\"row_heading level0 row0\" >0</th>\n",
       "      <td id=\"T_3c7e5_row0_col0\" class=\"data row0 col0\" >24661.7383</td>\n",
       "      <td id=\"T_3c7e5_row0_col1\" class=\"data row0 col1\" >902940160.0000</td>\n",
       "      <td id=\"T_3c7e5_row0_col2\" class=\"data row0 col2\" >30048.9629</td>\n",
       "      <td id=\"T_3c7e5_row0_col3\" class=\"data row0 col3\" >-2.0506</td>\n",
       "      <td id=\"T_3c7e5_row0_col4\" class=\"data row0 col4\" >1.1325</td>\n",
       "      <td id=\"T_3c7e5_row0_col5\" class=\"data row0 col5\" >0.5664</td>\n",
       "    </tr>\n",
       "    <tr>\n",
       "      <th id=\"T_3c7e5_level0_row1\" class=\"row_heading level0 row1\" >1</th>\n",
       "      <td id=\"T_3c7e5_row1_col0\" class=\"data row1 col0\" >2233.6970</td>\n",
       "      <td id=\"T_3c7e5_row1_col1\" class=\"data row1 col1\" >7868927.0000</td>\n",
       "      <td id=\"T_3c7e5_row1_col2\" class=\"data row1 col2\" >2805.1609</td>\n",
       "      <td id=\"T_3c7e5_row1_col3\" class=\"data row1 col3\" >0.9256</td>\n",
       "      <td id=\"T_3c7e5_row1_col4\" class=\"data row1 col4\" >0.0615</td>\n",
       "      <td id=\"T_3c7e5_row1_col5\" class=\"data row1 col5\" >0.0487</td>\n",
       "    </tr>\n",
       "    <tr>\n",
       "      <th id=\"T_3c7e5_level0_row2\" class=\"row_heading level0 row2\" >2</th>\n",
       "      <td id=\"T_3c7e5_row2_col0\" class=\"data row2 col0\" >1467.7898</td>\n",
       "      <td id=\"T_3c7e5_row2_col1\" class=\"data row2 col1\" >3527109.7500</td>\n",
       "      <td id=\"T_3c7e5_row2_col2\" class=\"data row2 col2\" >1878.0601</td>\n",
       "      <td id=\"T_3c7e5_row2_col3\" class=\"data row2 col3\" >0.9438</td>\n",
       "      <td id=\"T_3c7e5_row2_col4\" class=\"data row2 col4\" >0.0511</td>\n",
       "      <td id=\"T_3c7e5_row2_col5\" class=\"data row2 col5\" >0.0397</td>\n",
       "    </tr>\n",
       "    <tr>\n",
       "      <th id=\"T_3c7e5_level0_row3\" class=\"row_heading level0 row3\" >3</th>\n",
       "      <td id=\"T_3c7e5_row3_col0\" class=\"data row3 col0\" >582.2435</td>\n",
       "      <td id=\"T_3c7e5_row3_col1\" class=\"data row3 col1\" >707434.5000</td>\n",
       "      <td id=\"T_3c7e5_row3_col2\" class=\"data row3 col2\" >841.0912</td>\n",
       "      <td id=\"T_3c7e5_row3_col3\" class=\"data row3 col3\" >0.8651</td>\n",
       "      <td id=\"T_3c7e5_row3_col4\" class=\"data row3 col4\" >0.0408</td>\n",
       "      <td id=\"T_3c7e5_row3_col5\" class=\"data row3 col5\" >0.0289</td>\n",
       "    </tr>\n",
       "    <tr>\n",
       "      <th id=\"T_3c7e5_level0_row4\" class=\"row_heading level0 row4\" >4</th>\n",
       "      <td id=\"T_3c7e5_row4_col0\" class=\"data row4 col0\" >904.2732</td>\n",
       "      <td id=\"T_3c7e5_row4_col1\" class=\"data row4 col1\" >1333014.6250</td>\n",
       "      <td id=\"T_3c7e5_row4_col2\" class=\"data row4 col2\" >1154.5625</td>\n",
       "      <td id=\"T_3c7e5_row4_col3\" class=\"data row4 col3\" >0.8194</td>\n",
       "      <td id=\"T_3c7e5_row4_col4\" class=\"data row4 col4\" >0.0429</td>\n",
       "      <td id=\"T_3c7e5_row4_col5\" class=\"data row4 col5\" >0.0331</td>\n",
       "    </tr>\n",
       "    <tr>\n",
       "      <th id=\"T_3c7e5_level0_row5\" class=\"row_heading level0 row5\" >Mean</th>\n",
       "      <td id=\"T_3c7e5_row5_col0\" class=\"data row5 col0\" >5969.9484</td>\n",
       "      <td id=\"T_3c7e5_row5_col1\" class=\"data row5 col1\" >183275329.1750</td>\n",
       "      <td id=\"T_3c7e5_row5_col2\" class=\"data row5 col2\" >7345.5675</td>\n",
       "      <td id=\"T_3c7e5_row5_col3\" class=\"data row5 col3\" >0.3007</td>\n",
       "      <td id=\"T_3c7e5_row5_col4\" class=\"data row5 col4\" >0.2658</td>\n",
       "      <td id=\"T_3c7e5_row5_col5\" class=\"data row5 col5\" >0.1434</td>\n",
       "    </tr>\n",
       "    <tr>\n",
       "      <th id=\"T_3c7e5_level0_row6\" class=\"row_heading level0 row6\" >Std</th>\n",
       "      <td id=\"T_3c7e5_row6_col0\" class=\"data row6 col0\" >9362.6967</td>\n",
       "      <td id=\"T_3c7e5_row6_col1\" class=\"data row6 col1\" >359841170.2478</td>\n",
       "      <td id=\"T_3c7e5_row6_col2\" class=\"data row6 col2\" >11371.8059</td>\n",
       "      <td id=\"T_3c7e5_row6_col3\" class=\"data row6 col3\" >1.1765</td>\n",
       "      <td id=\"T_3c7e5_row6_col4\" class=\"data row6 col4\" >0.4334</td>\n",
       "      <td id=\"T_3c7e5_row6_col5\" class=\"data row6 col5\" >0.2116</td>\n",
       "    </tr>\n",
       "  </tbody>\n",
       "</table>\n"
      ],
      "text/plain": [
       "<pandas.io.formats.style.Styler at 0x30f917550>"
      ]
     },
     "metadata": {},
     "output_type": "display_data"
    },
    {
     "data": {
      "text/html": [],
      "text/plain": [
       "<IPython.core.display.HTML object>"
      ]
     },
     "metadata": {},
     "output_type": "display_data"
    }
   ],
   "source": [
    "import pandas as pd\n",
    "from pycaret.regression import *\n",
    "\n",
    "# PyCaret Regression Setup (Ensuring No Shuffle)\n",
    "s = setup(\n",
    "    data=btc_train, \n",
    "    target=\"close\",\n",
    "    session_id=123, \n",
    "    fold=5,  # K-fold cross-validation\n",
    "    data_split_shuffle=False,  # **Important: Keeps time-series order**\n",
    "    fold_strategy=\"timeseries\",  # Ensures time-series split\n",
    ")\n",
    "\n",
    "# Train XGBoost Model\n",
    "xgb_model = create_model('xgboost')\n",
    "\n"
   ]
  },
  {
   "cell_type": "code",
   "execution_count": 88,
   "id": "bedd7ac2",
   "metadata": {},
   "outputs": [
    {
     "data": {
      "text/html": [],
      "text/plain": [
       "<IPython.core.display.HTML object>"
      ]
     },
     "metadata": {},
     "output_type": "display_data"
    },
    {
     "data": {
      "text/html": [
       "<style type=\"text/css\">\n",
       "#T_169e2_row5_col0, #T_169e2_row5_col1, #T_169e2_row5_col2, #T_169e2_row5_col3, #T_169e2_row5_col4, #T_169e2_row5_col5 {\n",
       "  background: yellow;\n",
       "}\n",
       "</style>\n",
       "<table id=\"T_169e2\">\n",
       "  <thead>\n",
       "    <tr>\n",
       "      <th class=\"blank level0\" >&nbsp;</th>\n",
       "      <th id=\"T_169e2_level0_col0\" class=\"col_heading level0 col0\" >MAE</th>\n",
       "      <th id=\"T_169e2_level0_col1\" class=\"col_heading level0 col1\" >MSE</th>\n",
       "      <th id=\"T_169e2_level0_col2\" class=\"col_heading level0 col2\" >RMSE</th>\n",
       "      <th id=\"T_169e2_level0_col3\" class=\"col_heading level0 col3\" >R2</th>\n",
       "      <th id=\"T_169e2_level0_col4\" class=\"col_heading level0 col4\" >RMSLE</th>\n",
       "      <th id=\"T_169e2_level0_col5\" class=\"col_heading level0 col5\" >MAPE</th>\n",
       "    </tr>\n",
       "    <tr>\n",
       "      <th class=\"index_name level0\" >Fold</th>\n",
       "      <th class=\"blank col0\" >&nbsp;</th>\n",
       "      <th class=\"blank col1\" >&nbsp;</th>\n",
       "      <th class=\"blank col2\" >&nbsp;</th>\n",
       "      <th class=\"blank col3\" >&nbsp;</th>\n",
       "      <th class=\"blank col4\" >&nbsp;</th>\n",
       "      <th class=\"blank col5\" >&nbsp;</th>\n",
       "    </tr>\n",
       "  </thead>\n",
       "  <tbody>\n",
       "    <tr>\n",
       "      <th id=\"T_169e2_level0_row0\" class=\"row_heading level0 row0\" >0</th>\n",
       "      <td id=\"T_169e2_row0_col0\" class=\"data row0 col0\" >24803.8730</td>\n",
       "      <td id=\"T_169e2_row0_col1\" class=\"data row0 col1\" >910425472.0000</td>\n",
       "      <td id=\"T_169e2_row0_col2\" class=\"data row0 col2\" >30173.2578</td>\n",
       "      <td id=\"T_169e2_row0_col3\" class=\"data row0 col3\" >-2.0759</td>\n",
       "      <td id=\"T_169e2_row0_col4\" class=\"data row0 col4\" >1.1438</td>\n",
       "      <td id=\"T_169e2_row0_col5\" class=\"data row0 col5\" >0.5712</td>\n",
       "    </tr>\n",
       "    <tr>\n",
       "      <th id=\"T_169e2_level0_row1\" class=\"row_heading level0 row1\" >1</th>\n",
       "      <td id=\"T_169e2_row1_col0\" class=\"data row1 col0\" >1865.6396</td>\n",
       "      <td id=\"T_169e2_row1_col1\" class=\"data row1 col1\" >5832058.5000</td>\n",
       "      <td id=\"T_169e2_row1_col2\" class=\"data row1 col2\" >2414.9656</td>\n",
       "      <td id=\"T_169e2_row1_col3\" class=\"data row1 col3\" >0.9449</td>\n",
       "      <td id=\"T_169e2_row1_col4\" class=\"data row1 col4\" >0.0510</td>\n",
       "      <td id=\"T_169e2_row1_col5\" class=\"data row1 col5\" >0.0405</td>\n",
       "    </tr>\n",
       "    <tr>\n",
       "      <th id=\"T_169e2_level0_row2\" class=\"row_heading level0 row2\" >2</th>\n",
       "      <td id=\"T_169e2_row2_col0\" class=\"data row2 col0\" >1452.0278</td>\n",
       "      <td id=\"T_169e2_row2_col1\" class=\"data row2 col1\" >3657831.0000</td>\n",
       "      <td id=\"T_169e2_row2_col2\" class=\"data row2 col2\" >1912.5457</td>\n",
       "      <td id=\"T_169e2_row2_col3\" class=\"data row2 col3\" >0.9417</td>\n",
       "      <td id=\"T_169e2_row2_col4\" class=\"data row2 col4\" >0.0523</td>\n",
       "      <td id=\"T_169e2_row2_col5\" class=\"data row2 col5\" >0.0397</td>\n",
       "    </tr>\n",
       "    <tr>\n",
       "      <th id=\"T_169e2_level0_row3\" class=\"row_heading level0 row3\" >3</th>\n",
       "      <td id=\"T_169e2_row3_col0\" class=\"data row3 col0\" >598.5771</td>\n",
       "      <td id=\"T_169e2_row3_col1\" class=\"data row3 col1\" >617396.8750</td>\n",
       "      <td id=\"T_169e2_row3_col2\" class=\"data row3 col2\" >785.7460</td>\n",
       "      <td id=\"T_169e2_row3_col3\" class=\"data row3 col3\" >0.8823</td>\n",
       "      <td id=\"T_169e2_row3_col4\" class=\"data row3 col4\" >0.0400</td>\n",
       "      <td id=\"T_169e2_row3_col5\" class=\"data row3 col5\" >0.0309</td>\n",
       "    </tr>\n",
       "    <tr>\n",
       "      <th id=\"T_169e2_level0_row4\" class=\"row_heading level0 row4\" >4</th>\n",
       "      <td id=\"T_169e2_row4_col0\" class=\"data row4 col0\" >802.7949</td>\n",
       "      <td id=\"T_169e2_row4_col1\" class=\"data row4 col1\" >1072960.2500</td>\n",
       "      <td id=\"T_169e2_row4_col2\" class=\"data row4 col2\" >1035.8379</td>\n",
       "      <td id=\"T_169e2_row4_col3\" class=\"data row4 col3\" >0.8546</td>\n",
       "      <td id=\"T_169e2_row4_col4\" class=\"data row4 col4\" >0.0390</td>\n",
       "      <td id=\"T_169e2_row4_col5\" class=\"data row4 col5\" >0.0296</td>\n",
       "    </tr>\n",
       "    <tr>\n",
       "      <th id=\"T_169e2_level0_row5\" class=\"row_heading level0 row5\" >Mean</th>\n",
       "      <td id=\"T_169e2_row5_col0\" class=\"data row5 col0\" >5904.5825</td>\n",
       "      <td id=\"T_169e2_row5_col1\" class=\"data row5 col1\" >184321143.7250</td>\n",
       "      <td id=\"T_169e2_row5_col2\" class=\"data row5 col2\" >7264.4706</td>\n",
       "      <td id=\"T_169e2_row5_col3\" class=\"data row5 col3\" >0.3095</td>\n",
       "      <td id=\"T_169e2_row5_col4\" class=\"data row5 col4\" >0.2652</td>\n",
       "      <td id=\"T_169e2_row5_col5\" class=\"data row5 col5\" >0.1424</td>\n",
       "    </tr>\n",
       "    <tr>\n",
       "      <th id=\"T_169e2_level0_row6\" class=\"row_heading level0 row6\" >Std</th>\n",
       "      <td id=\"T_169e2_row6_col0\" class=\"data row6 col0\" >9460.4801</td>\n",
       "      <td id=\"T_169e2_row6_col1\" class=\"data row6 col1\" >363057032.7104</td>\n",
       "      <td id=\"T_169e2_row6_col2\" class=\"data row6 col2\" >11469.4644</td>\n",
       "      <td id=\"T_169e2_row6_col3\" class=\"data row6 col3\" >1.1932</td>\n",
       "      <td id=\"T_169e2_row6_col4\" class=\"data row6 col4\" >0.4393</td>\n",
       "      <td id=\"T_169e2_row6_col5\" class=\"data row6 col5\" >0.2145</td>\n",
       "    </tr>\n",
       "  </tbody>\n",
       "</table>\n"
      ],
      "text/plain": [
       "<pandas.io.formats.style.Styler at 0x30f9abe80>"
      ]
     },
     "metadata": {},
     "output_type": "display_data"
    },
    {
     "data": {
      "text/html": [],
      "text/plain": [
       "<IPython.core.display.HTML object>"
      ]
     },
     "metadata": {},
     "output_type": "display_data"
    },
    {
     "name": "stdout",
     "output_type": "stream",
     "text": [
      "Fitting 5 folds for each of 10 candidates, totalling 50 fits\n"
     ]
    }
   ],
   "source": [
    "tuned_xgb = tune_model(xgb_model)\n"
   ]
  },
  {
   "cell_type": "code",
   "execution_count": 89,
   "id": "fa24edfa",
   "metadata": {},
   "outputs": [
    {
     "data": {
      "text/html": [
       "<style type=\"text/css\">\n",
       "</style>\n",
       "<table id=\"T_46877\">\n",
       "  <thead>\n",
       "    <tr>\n",
       "      <th class=\"blank level0\" >&nbsp;</th>\n",
       "      <th id=\"T_46877_level0_col0\" class=\"col_heading level0 col0\" >Model</th>\n",
       "      <th id=\"T_46877_level0_col1\" class=\"col_heading level0 col1\" >MAE</th>\n",
       "      <th id=\"T_46877_level0_col2\" class=\"col_heading level0 col2\" >MSE</th>\n",
       "      <th id=\"T_46877_level0_col3\" class=\"col_heading level0 col3\" >RMSE</th>\n",
       "      <th id=\"T_46877_level0_col4\" class=\"col_heading level0 col4\" >R2</th>\n",
       "      <th id=\"T_46877_level0_col5\" class=\"col_heading level0 col5\" >RMSLE</th>\n",
       "      <th id=\"T_46877_level0_col6\" class=\"col_heading level0 col6\" >MAPE</th>\n",
       "    </tr>\n",
       "  </thead>\n",
       "  <tbody>\n",
       "    <tr>\n",
       "      <th id=\"T_46877_level0_row0\" class=\"row_heading level0 row0\" >0</th>\n",
       "      <td id=\"T_46877_row0_col0\" class=\"data row0 col0\" >Extreme Gradient Boosting</td>\n",
       "      <td id=\"T_46877_row0_col1\" class=\"data row0 col1\" >3066.2986</td>\n",
       "      <td id=\"T_46877_row0_col2\" class=\"data row0 col2\" >16990076.0000</td>\n",
       "      <td id=\"T_46877_row0_col3\" class=\"data row0 col3\" >4121.9019</td>\n",
       "      <td id=\"T_46877_row0_col4\" class=\"data row0 col4\" >0.5218</td>\n",
       "      <td id=\"T_46877_row0_col5\" class=\"data row0 col5\" >0.0470</td>\n",
       "      <td id=\"T_46877_row0_col6\" class=\"data row0 col6\" >0.0354</td>\n",
       "    </tr>\n",
       "  </tbody>\n",
       "</table>\n"
      ],
      "text/plain": [
       "<pandas.io.formats.style.Styler at 0x30d018e50>"
      ]
     },
     "metadata": {},
     "output_type": "display_data"
    }
   ],
   "source": [
    "# # Finalize Model and Make Predictions\n",
    "final_xgb = finalize_model(tuned_xgb)\n",
    "predictions = predict_model(final_xgb, data=btc_test)"
   ]
  },
  {
   "cell_type": "code",
   "execution_count": 90,
   "id": "44f5001f",
   "metadata": {},
   "outputs": [
    {
     "data": {
      "text/html": [
       "<div>\n",
       "<style scoped>\n",
       "    .dataframe tbody tr th:only-of-type {\n",
       "        vertical-align: middle;\n",
       "    }\n",
       "\n",
       "    .dataframe tbody tr th {\n",
       "        vertical-align: top;\n",
       "    }\n",
       "\n",
       "    .dataframe thead th {\n",
       "        text-align: right;\n",
       "    }\n",
       "</style>\n",
       "<table border=\"1\" class=\"dataframe\">\n",
       "  <thead>\n",
       "    <tr style=\"text-align: right;\">\n",
       "      <th></th>\n",
       "      <th>lag_1</th>\n",
       "      <th>lag_2</th>\n",
       "      <th>close</th>\n",
       "      <th>prediction_label</th>\n",
       "    </tr>\n",
       "    <tr>\n",
       "      <th>timestamp</th>\n",
       "      <th></th>\n",
       "      <th></th>\n",
       "      <th></th>\n",
       "      <th></th>\n",
       "    </tr>\n",
       "  </thead>\n",
       "  <tbody>\n",
       "    <tr>\n",
       "      <th>2025-02-11</th>\n",
       "      <td>97430.820312</td>\n",
       "      <td>96462.750000</td>\n",
       "      <td>95778.203125</td>\n",
       "      <td>96930.125000</td>\n",
       "    </tr>\n",
       "    <tr>\n",
       "      <th>2025-02-12</th>\n",
       "      <td>95778.203125</td>\n",
       "      <td>97430.820312</td>\n",
       "      <td>97869.992188</td>\n",
       "      <td>95890.671875</td>\n",
       "    </tr>\n",
       "    <tr>\n",
       "      <th>2025-02-13</th>\n",
       "      <td>97869.992188</td>\n",
       "      <td>95778.203125</td>\n",
       "      <td>96608.140625</td>\n",
       "      <td>97828.578125</td>\n",
       "    </tr>\n",
       "    <tr>\n",
       "      <th>2025-02-14</th>\n",
       "      <td>96608.140625</td>\n",
       "      <td>97869.992188</td>\n",
       "      <td>97500.476562</td>\n",
       "      <td>96717.085938</td>\n",
       "    </tr>\n",
       "    <tr>\n",
       "      <th>2025-02-15</th>\n",
       "      <td>97500.476562</td>\n",
       "      <td>96608.140625</td>\n",
       "      <td>97569.656250</td>\n",
       "      <td>96523.085938</td>\n",
       "    </tr>\n",
       "  </tbody>\n",
       "</table>\n",
       "</div>"
      ],
      "text/plain": [
       "                   lag_1         lag_2         close  prediction_label\n",
       "timestamp                                                             \n",
       "2025-02-11  97430.820312  96462.750000  95778.203125      96930.125000\n",
       "2025-02-12  95778.203125  97430.820312  97869.992188      95890.671875\n",
       "2025-02-13  97869.992188  95778.203125  96608.140625      97828.578125\n",
       "2025-02-14  96608.140625  97869.992188  97500.476562      96717.085938\n",
       "2025-02-15  97500.476562  96608.140625  97569.656250      96523.085938"
      ]
     },
     "execution_count": 90,
     "metadata": {},
     "output_type": "execute_result"
    }
   ],
   "source": [
    "predictions.head()"
   ]
  },
  {
   "cell_type": "code",
   "execution_count": 91,
   "id": "e4be9d6f",
   "metadata": {},
   "outputs": [
    {
     "name": "stdout",
     "output_type": "stream",
     "text": [
      "\n",
      "--- Plot against valdation set ---\n"
     ]
    },
    {
     "data": {
      "application/vnd.plotly.v1+json": {
       "config": {
        "plotlyServerURL": "https://plot.ly"
       },
       "data": [
        {
         "hovertemplate": "type=actual<br>date=%{x}<br>close price=%{y}<extra></extra>",
         "legendgroup": "actual",
         "line": {
          "color": "#636efa",
          "dash": "solid"
         },
         "marker": {
          "symbol": "circle"
         },
         "mode": "lines",
         "name": "actual",
         "orientation": "v",
         "showlegend": true,
         "type": "scatter",
         "x": [
          "2025-02-11T00:00:00",
          "2025-02-12T00:00:00",
          "2025-02-13T00:00:00",
          "2025-02-14T00:00:00",
          "2025-02-15T00:00:00",
          "2025-02-16T00:00:00",
          "2025-02-17T00:00:00",
          "2025-02-18T00:00:00",
          "2025-02-19T00:00:00",
          "2025-02-20T00:00:00",
          "2025-02-21T00:00:00",
          "2025-02-22T00:00:00",
          "2025-02-23T00:00:00",
          "2025-02-24T00:00:00",
          "2025-02-25T00:00:00",
          "2025-02-26T00:00:00",
          "2025-02-27T00:00:00",
          "2025-02-28T00:00:00",
          "2025-03-01T00:00:00",
          "2025-03-02T00:00:00",
          "2025-03-03T00:00:00",
          "2025-03-04T00:00:00",
          "2025-03-05T00:00:00",
          "2025-03-06T00:00:00",
          "2025-03-07T00:00:00",
          "2025-03-08T00:00:00",
          "2025-03-09T00:00:00",
          "2025-03-10T00:00:00",
          "2025-03-11T00:00:00"
         ],
         "xaxis": "x",
         "y": [
          95778.2,
          97869.99,
          96608.14,
          97500.48,
          97569.66,
          96118.12,
          95780,
          95671.74,
          96644.37,
          98305,
          96181.98,
          96551.01,
          96258,
          91552.88,
          88680.4,
          84250.09,
          84708.58,
          84349.94,
          86064.53,
          94270,
          86220.61,
          87281.98,
          90606.01,
          89931.89,
          86801.75,
          86222.45,
          80734.37,
          78595.86,
          81289.92
         ],
         "yaxis": "y"
        },
        {
         "hovertemplate": "type=predicted<br>date=%{x}<br>close price=%{y}<extra></extra>",
         "legendgroup": "predicted",
         "line": {
          "color": "#EF553B",
          "dash": "solid"
         },
         "marker": {
          "symbol": "circle"
         },
         "mode": "lines",
         "name": "predicted",
         "orientation": "v",
         "showlegend": true,
         "type": "scatter",
         "x": [
          "2025-02-11T00:00:00",
          "2025-02-12T00:00:00",
          "2025-02-13T00:00:00",
          "2025-02-14T00:00:00",
          "2025-02-15T00:00:00",
          "2025-02-16T00:00:00",
          "2025-02-17T00:00:00",
          "2025-02-18T00:00:00",
          "2025-02-19T00:00:00",
          "2025-02-20T00:00:00",
          "2025-02-21T00:00:00",
          "2025-02-22T00:00:00",
          "2025-02-23T00:00:00",
          "2025-02-24T00:00:00",
          "2025-02-25T00:00:00",
          "2025-02-26T00:00:00",
          "2025-02-27T00:00:00",
          "2025-02-28T00:00:00",
          "2025-03-01T00:00:00",
          "2025-03-02T00:00:00",
          "2025-03-03T00:00:00",
          "2025-03-04T00:00:00",
          "2025-03-05T00:00:00",
          "2025-03-06T00:00:00",
          "2025-03-07T00:00:00",
          "2025-03-08T00:00:00",
          "2025-03-09T00:00:00",
          "2025-03-10T00:00:00",
          "2025-03-11T00:00:00"
         ],
         "xaxis": "x",
         "y": [
          96930.125,
          95890.67,
          97828.58,
          96717.086,
          96523.086,
          96317.04,
          96738.766,
          96503.76,
          96503.76,
          97611.77,
          97421.55,
          96457.164,
          97611.77,
          96944.83,
          94795.836,
          91417.3,
          89087.65,
          89087.65,
          89087.65,
          89087.65,
          91987.25,
          93363.54,
          89087.65,
          90401.53,
          91417.3,
          89087.65,
          89087.65,
          89087.65,
          82361.36
         ],
         "yaxis": "y"
        }
       ],
       "layout": {
        "legend": {
         "title": {
          "text": "type"
         },
         "tracegroupgap": 0
        },
        "template": {
         "data": {
          "bar": [
           {
            "error_x": {
             "color": "#2a3f5f"
            },
            "error_y": {
             "color": "#2a3f5f"
            },
            "marker": {
             "line": {
              "color": "#E5ECF6",
              "width": 0.5
             },
             "pattern": {
              "fillmode": "overlay",
              "size": 10,
              "solidity": 0.2
             }
            },
            "type": "bar"
           }
          ],
          "barpolar": [
           {
            "marker": {
             "line": {
              "color": "#E5ECF6",
              "width": 0.5
             },
             "pattern": {
              "fillmode": "overlay",
              "size": 10,
              "solidity": 0.2
             }
            },
            "type": "barpolar"
           }
          ],
          "carpet": [
           {
            "aaxis": {
             "endlinecolor": "#2a3f5f",
             "gridcolor": "white",
             "linecolor": "white",
             "minorgridcolor": "white",
             "startlinecolor": "#2a3f5f"
            },
            "baxis": {
             "endlinecolor": "#2a3f5f",
             "gridcolor": "white",
             "linecolor": "white",
             "minorgridcolor": "white",
             "startlinecolor": "#2a3f5f"
            },
            "type": "carpet"
           }
          ],
          "choropleth": [
           {
            "colorbar": {
             "outlinewidth": 0,
             "ticks": ""
            },
            "type": "choropleth"
           }
          ],
          "contour": [
           {
            "colorbar": {
             "outlinewidth": 0,
             "ticks": ""
            },
            "colorscale": [
             [
              0,
              "#0d0887"
             ],
             [
              0.1111111111111111,
              "#46039f"
             ],
             [
              0.2222222222222222,
              "#7201a8"
             ],
             [
              0.3333333333333333,
              "#9c179e"
             ],
             [
              0.4444444444444444,
              "#bd3786"
             ],
             [
              0.5555555555555556,
              "#d8576b"
             ],
             [
              0.6666666666666666,
              "#ed7953"
             ],
             [
              0.7777777777777778,
              "#fb9f3a"
             ],
             [
              0.8888888888888888,
              "#fdca26"
             ],
             [
              1,
              "#f0f921"
             ]
            ],
            "type": "contour"
           }
          ],
          "contourcarpet": [
           {
            "colorbar": {
             "outlinewidth": 0,
             "ticks": ""
            },
            "type": "contourcarpet"
           }
          ],
          "heatmap": [
           {
            "colorbar": {
             "outlinewidth": 0,
             "ticks": ""
            },
            "colorscale": [
             [
              0,
              "#0d0887"
             ],
             [
              0.1111111111111111,
              "#46039f"
             ],
             [
              0.2222222222222222,
              "#7201a8"
             ],
             [
              0.3333333333333333,
              "#9c179e"
             ],
             [
              0.4444444444444444,
              "#bd3786"
             ],
             [
              0.5555555555555556,
              "#d8576b"
             ],
             [
              0.6666666666666666,
              "#ed7953"
             ],
             [
              0.7777777777777778,
              "#fb9f3a"
             ],
             [
              0.8888888888888888,
              "#fdca26"
             ],
             [
              1,
              "#f0f921"
             ]
            ],
            "type": "heatmap"
           }
          ],
          "heatmapgl": [
           {
            "colorbar": {
             "outlinewidth": 0,
             "ticks": ""
            },
            "colorscale": [
             [
              0,
              "#0d0887"
             ],
             [
              0.1111111111111111,
              "#46039f"
             ],
             [
              0.2222222222222222,
              "#7201a8"
             ],
             [
              0.3333333333333333,
              "#9c179e"
             ],
             [
              0.4444444444444444,
              "#bd3786"
             ],
             [
              0.5555555555555556,
              "#d8576b"
             ],
             [
              0.6666666666666666,
              "#ed7953"
             ],
             [
              0.7777777777777778,
              "#fb9f3a"
             ],
             [
              0.8888888888888888,
              "#fdca26"
             ],
             [
              1,
              "#f0f921"
             ]
            ],
            "type": "heatmapgl"
           }
          ],
          "histogram": [
           {
            "marker": {
             "pattern": {
              "fillmode": "overlay",
              "size": 10,
              "solidity": 0.2
             }
            },
            "type": "histogram"
           }
          ],
          "histogram2d": [
           {
            "colorbar": {
             "outlinewidth": 0,
             "ticks": ""
            },
            "colorscale": [
             [
              0,
              "#0d0887"
             ],
             [
              0.1111111111111111,
              "#46039f"
             ],
             [
              0.2222222222222222,
              "#7201a8"
             ],
             [
              0.3333333333333333,
              "#9c179e"
             ],
             [
              0.4444444444444444,
              "#bd3786"
             ],
             [
              0.5555555555555556,
              "#d8576b"
             ],
             [
              0.6666666666666666,
              "#ed7953"
             ],
             [
              0.7777777777777778,
              "#fb9f3a"
             ],
             [
              0.8888888888888888,
              "#fdca26"
             ],
             [
              1,
              "#f0f921"
             ]
            ],
            "type": "histogram2d"
           }
          ],
          "histogram2dcontour": [
           {
            "colorbar": {
             "outlinewidth": 0,
             "ticks": ""
            },
            "colorscale": [
             [
              0,
              "#0d0887"
             ],
             [
              0.1111111111111111,
              "#46039f"
             ],
             [
              0.2222222222222222,
              "#7201a8"
             ],
             [
              0.3333333333333333,
              "#9c179e"
             ],
             [
              0.4444444444444444,
              "#bd3786"
             ],
             [
              0.5555555555555556,
              "#d8576b"
             ],
             [
              0.6666666666666666,
              "#ed7953"
             ],
             [
              0.7777777777777778,
              "#fb9f3a"
             ],
             [
              0.8888888888888888,
              "#fdca26"
             ],
             [
              1,
              "#f0f921"
             ]
            ],
            "type": "histogram2dcontour"
           }
          ],
          "mesh3d": [
           {
            "colorbar": {
             "outlinewidth": 0,
             "ticks": ""
            },
            "type": "mesh3d"
           }
          ],
          "parcoords": [
           {
            "line": {
             "colorbar": {
              "outlinewidth": 0,
              "ticks": ""
             }
            },
            "type": "parcoords"
           }
          ],
          "pie": [
           {
            "automargin": true,
            "type": "pie"
           }
          ],
          "scatter": [
           {
            "fillpattern": {
             "fillmode": "overlay",
             "size": 10,
             "solidity": 0.2
            },
            "type": "scatter"
           }
          ],
          "scatter3d": [
           {
            "line": {
             "colorbar": {
              "outlinewidth": 0,
              "ticks": ""
             }
            },
            "marker": {
             "colorbar": {
              "outlinewidth": 0,
              "ticks": ""
             }
            },
            "type": "scatter3d"
           }
          ],
          "scattercarpet": [
           {
            "marker": {
             "colorbar": {
              "outlinewidth": 0,
              "ticks": ""
             }
            },
            "type": "scattercarpet"
           }
          ],
          "scattergeo": [
           {
            "marker": {
             "colorbar": {
              "outlinewidth": 0,
              "ticks": ""
             }
            },
            "type": "scattergeo"
           }
          ],
          "scattergl": [
           {
            "marker": {
             "colorbar": {
              "outlinewidth": 0,
              "ticks": ""
             }
            },
            "type": "scattergl"
           }
          ],
          "scattermapbox": [
           {
            "marker": {
             "colorbar": {
              "outlinewidth": 0,
              "ticks": ""
             }
            },
            "type": "scattermapbox"
           }
          ],
          "scatterpolar": [
           {
            "marker": {
             "colorbar": {
              "outlinewidth": 0,
              "ticks": ""
             }
            },
            "type": "scatterpolar"
           }
          ],
          "scatterpolargl": [
           {
            "marker": {
             "colorbar": {
              "outlinewidth": 0,
              "ticks": ""
             }
            },
            "type": "scatterpolargl"
           }
          ],
          "scatterternary": [
           {
            "marker": {
             "colorbar": {
              "outlinewidth": 0,
              "ticks": ""
             }
            },
            "type": "scatterternary"
           }
          ],
          "surface": [
           {
            "colorbar": {
             "outlinewidth": 0,
             "ticks": ""
            },
            "colorscale": [
             [
              0,
              "#0d0887"
             ],
             [
              0.1111111111111111,
              "#46039f"
             ],
             [
              0.2222222222222222,
              "#7201a8"
             ],
             [
              0.3333333333333333,
              "#9c179e"
             ],
             [
              0.4444444444444444,
              "#bd3786"
             ],
             [
              0.5555555555555556,
              "#d8576b"
             ],
             [
              0.6666666666666666,
              "#ed7953"
             ],
             [
              0.7777777777777778,
              "#fb9f3a"
             ],
             [
              0.8888888888888888,
              "#fdca26"
             ],
             [
              1,
              "#f0f921"
             ]
            ],
            "type": "surface"
           }
          ],
          "table": [
           {
            "cells": {
             "fill": {
              "color": "#EBF0F8"
             },
             "line": {
              "color": "white"
             }
            },
            "header": {
             "fill": {
              "color": "#C8D4E3"
             },
             "line": {
              "color": "white"
             }
            },
            "type": "table"
           }
          ]
         },
         "layout": {
          "annotationdefaults": {
           "arrowcolor": "#2a3f5f",
           "arrowhead": 0,
           "arrowwidth": 1
          },
          "autotypenumbers": "strict",
          "coloraxis": {
           "colorbar": {
            "outlinewidth": 0,
            "ticks": ""
           }
          },
          "colorscale": {
           "diverging": [
            [
             0,
             "#8e0152"
            ],
            [
             0.1,
             "#c51b7d"
            ],
            [
             0.2,
             "#de77ae"
            ],
            [
             0.3,
             "#f1b6da"
            ],
            [
             0.4,
             "#fde0ef"
            ],
            [
             0.5,
             "#f7f7f7"
            ],
            [
             0.6,
             "#e6f5d0"
            ],
            [
             0.7,
             "#b8e186"
            ],
            [
             0.8,
             "#7fbc41"
            ],
            [
             0.9,
             "#4d9221"
            ],
            [
             1,
             "#276419"
            ]
           ],
           "sequential": [
            [
             0,
             "#0d0887"
            ],
            [
             0.1111111111111111,
             "#46039f"
            ],
            [
             0.2222222222222222,
             "#7201a8"
            ],
            [
             0.3333333333333333,
             "#9c179e"
            ],
            [
             0.4444444444444444,
             "#bd3786"
            ],
            [
             0.5555555555555556,
             "#d8576b"
            ],
            [
             0.6666666666666666,
             "#ed7953"
            ],
            [
             0.7777777777777778,
             "#fb9f3a"
            ],
            [
             0.8888888888888888,
             "#fdca26"
            ],
            [
             1,
             "#f0f921"
            ]
           ],
           "sequentialminus": [
            [
             0,
             "#0d0887"
            ],
            [
             0.1111111111111111,
             "#46039f"
            ],
            [
             0.2222222222222222,
             "#7201a8"
            ],
            [
             0.3333333333333333,
             "#9c179e"
            ],
            [
             0.4444444444444444,
             "#bd3786"
            ],
            [
             0.5555555555555556,
             "#d8576b"
            ],
            [
             0.6666666666666666,
             "#ed7953"
            ],
            [
             0.7777777777777778,
             "#fb9f3a"
            ],
            [
             0.8888888888888888,
             "#fdca26"
            ],
            [
             1,
             "#f0f921"
            ]
           ]
          },
          "colorway": [
           "#636efa",
           "#EF553B",
           "#00cc96",
           "#ab63fa",
           "#FFA15A",
           "#19d3f3",
           "#FF6692",
           "#B6E880",
           "#FF97FF",
           "#FECB52"
          ],
          "font": {
           "color": "#2a3f5f"
          },
          "geo": {
           "bgcolor": "white",
           "lakecolor": "white",
           "landcolor": "#E5ECF6",
           "showlakes": true,
           "showland": true,
           "subunitcolor": "white"
          },
          "hoverlabel": {
           "align": "left"
          },
          "hovermode": "closest",
          "mapbox": {
           "style": "light"
          },
          "paper_bgcolor": "white",
          "plot_bgcolor": "#E5ECF6",
          "polar": {
           "angularaxis": {
            "gridcolor": "white",
            "linecolor": "white",
            "ticks": ""
           },
           "bgcolor": "#E5ECF6",
           "radialaxis": {
            "gridcolor": "white",
            "linecolor": "white",
            "ticks": ""
           }
          },
          "scene": {
           "xaxis": {
            "backgroundcolor": "#E5ECF6",
            "gridcolor": "white",
            "gridwidth": 2,
            "linecolor": "white",
            "showbackground": true,
            "ticks": "",
            "zerolinecolor": "white"
           },
           "yaxis": {
            "backgroundcolor": "#E5ECF6",
            "gridcolor": "white",
            "gridwidth": 2,
            "linecolor": "white",
            "showbackground": true,
            "ticks": "",
            "zerolinecolor": "white"
           },
           "zaxis": {
            "backgroundcolor": "#E5ECF6",
            "gridcolor": "white",
            "gridwidth": 2,
            "linecolor": "white",
            "showbackground": true,
            "ticks": "",
            "zerolinecolor": "white"
           }
          },
          "shapedefaults": {
           "line": {
            "color": "#2a3f5f"
           }
          },
          "ternary": {
           "aaxis": {
            "gridcolor": "white",
            "linecolor": "white",
            "ticks": ""
           },
           "baxis": {
            "gridcolor": "white",
            "linecolor": "white",
            "ticks": ""
           },
           "bgcolor": "#E5ECF6",
           "caxis": {
            "gridcolor": "white",
            "linecolor": "white",
            "ticks": ""
           }
          },
          "title": {
           "x": 0.05
          },
          "xaxis": {
           "automargin": true,
           "gridcolor": "white",
           "linecolor": "white",
           "ticks": "",
           "title": {
            "standoff": 15
           },
           "zerolinecolor": "white",
           "zerolinewidth": 2
          },
          "yaxis": {
           "automargin": true,
           "gridcolor": "white",
           "linecolor": "white",
           "ticks": "",
           "title": {
            "standoff": 15
           },
           "zerolinecolor": "white",
           "zerolinewidth": 2
          }
         }
        },
        "title": {
         "text": "XGBoost Forecast vs Actual"
        },
        "xaxis": {
         "anchor": "y",
         "domain": [
          0,
          1
         ],
         "title": {
          "text": "date"
         }
        },
        "yaxis": {
         "anchor": "x",
         "domain": [
          0,
          1
         ],
         "title": {
          "text": "close price"
         }
        }
       }
      }
     },
     "metadata": {},
     "output_type": "display_data"
    }
   ],
   "source": [
    "print(\"\\n--- Plot against valdation set ---\")\n",
    "\n",
    "import plotly.express as px\n",
    "\n",
    "# create a dataframe for visualisation\n",
    "btc_vis = pd.DataFrame(\n",
    "    {\n",
    "        \"date\" : predictions.index,\n",
    "        \"actual\" : predictions.close,\n",
    "        \"predicted\" : predictions.prediction_label,\n",
    "    }\n",
    ")\n",
    "\n",
    "# print(len(btc_test[-30:].index))\n",
    "\n",
    "# print(len(btc_test[-30:].values))\n",
    "# print(len(predictions.values.flatten()))\n",
    "# melt the dataframe for easier handling of multiple series for pyplot\n",
    "btc_vis = btc_vis.melt(id_vars=['date'], var_name=\"type\", value_name='close')\n",
    "\n",
    "# plot validation set with predictions\n",
    "fig = px.line(\n",
    "    btc_vis,\n",
    "    x='date',\n",
    "    y='close',\n",
    "    color='type',\n",
    "    title=\"XGBoost Forecast vs Actual\",\n",
    "    labels=dict(close='close price', date='date')\n",
    ")\n",
    "\n",
    "fig.show()"
   ]
  },
  {
   "cell_type": "code",
   "execution_count": 95,
   "id": "e5f747f6",
   "metadata": {},
   "outputs": [
    {
     "name": "stdout",
     "output_type": "stream",
     "text": [
      "\n",
      "--- Model Evaluation ---\n",
      "Mean squared error: 16990076.00\n",
      "Mean absolute error: 3066.30\n",
      "R-squared score : 0.52\n"
     ]
    }
   ],
   "source": [
    "from sklearn.metrics import mean_absolute_error, mean_squared_error, r2_score\n",
    "print(\"\\n--- Model Evaluation ---\")\n",
    "# Calculate evaluation metrics\n",
    "\n",
    "# y_true = btc_test\n",
    "# y_pred = predictions\n",
    "mae = mean_absolute_error(predictions.close,predictions.prediction_label)\n",
    "mse = mean_squared_error(predictions.close,predictions.prediction_label)\n",
    "r2 = r2_score(predictions.close,predictions.prediction_label)\n",
    "\n",
    "print(f\"Mean squared error: {mse:.2f}\")\n",
    "print(f\"Mean absolute error: {mae:.2f}\")\n",
    "print(f\"R-squared score : {r2:.2f}\") "
   ]
  },
  {
   "cell_type": "code",
   "execution_count": 93,
   "id": "b7bf7d29",
   "metadata": {},
   "outputs": [],
   "source": [
    "# TODO - make the data stationary\n",
    "# TODO - experiment with log transform to smooth the trend."
   ]
  }
 ],
 "metadata": {
  "kernelspec": {
   "display_name": "COM724-pycaret",
   "language": "python",
   "name": "python3"
  },
  "language_info": {
   "codemirror_mode": {
    "name": "ipython",
    "version": 3
   },
   "file_extension": ".py",
   "mimetype": "text/x-python",
   "name": "python",
   "nbconvert_exporter": "python",
   "pygments_lexer": "ipython3",
   "version": "3.9.16"
  }
 },
 "nbformat": 4,
 "nbformat_minor": 5
}
